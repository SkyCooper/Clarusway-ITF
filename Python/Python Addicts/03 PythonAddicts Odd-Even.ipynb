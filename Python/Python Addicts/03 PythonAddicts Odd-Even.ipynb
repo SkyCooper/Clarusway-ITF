{
 "cells": [
  {
   "cell_type": "code",
   "execution_count": null,
   "id": "b8a4f959",
   "metadata": {},
   "outputs": [],
   "source": [
    "24 Mayıs 2022"
   ]
  },
  {
   "cell_type": "markdown",
   "id": "a99e5d11",
   "metadata": {},
   "source": [
    "İç içe if-else statement'lar kullanarak :\n",
    "Girilen sayının tek mi çift mi olduğunu, aynı zamanda 3'e bölünüp bölünemediğini bulan ve örnekteki gibi çıktı veren minik bir program yazın.\n",
    "Not: Olaya biraz heyecan katmak isteyenler yalnız tek print() fonksiyonu kullanarak yapsın."
   ]
  },
  {
   "attachments": {
    "image.png": {
     "image/png": "[encoded data removed]"
    }
   },
   "cell_type": "markdown",
   "id": "22c004f7",
   "metadata": {},
   "source": [
    "![image.png](attachment:image.png)"
   ]
  },
  {
   "cell_type": "code",
   "execution_count": 1,
   "id": "d55092f8",
   "metadata": {},
   "outputs": [
    {
     "name": "stdout",
     "output_type": "stream",
     "text": [
      "enter the number : 47\n",
      "you entered 47 : 47 is odd number, and it can't be divided into 3\n"
     ]
    }
   ],
   "source": [
    "# kendi çözümüm-1\n",
    "\n",
    "x = int(input('enter the number : '))\n",
    "if x%2 == 1:\n",
    "    if x%3 == 0:\n",
    "        print(\"you entered\", x, \":\", x, \"is odd number, and it can be divided into 3\")\n",
    "    else:\n",
    "        print(\"you entered\", x, \":\", x, \"is odd number, and it can't be divided into 3\")\n",
    "if x%2 == 0:  #buraya ilave durum eklemeden else ile de geçilebilir.\n",
    "    if x%3 == 0:\n",
    "        print(\"you entered\", x, \":\", x, \"is even number, and it can be divided into 3\")\n",
    "    else:\n",
    "        print(\"you entered\", x, \":\", x, \"is even number, and it can't be divided into 3\")"
   ]
  },
  {
   "cell_type": "code",
   "execution_count": 5,
   "id": "778461e0",
   "metadata": {},
   "outputs": [
    {
     "data": {
      "text/plain": [
       "0"
      ]
     },
     "execution_count": 5,
     "metadata": {},
     "output_type": "execute_result"
    }
   ],
   "source": [
    "48%2"
   ]
  },
  {
   "cell_type": "code",
   "execution_count": 3,
   "id": "b84f5338",
   "metadata": {},
   "outputs": [
    {
     "data": {
      "text/plain": [
       "23"
      ]
     },
     "execution_count": 3,
     "metadata": {},
     "output_type": "execute_result"
    }
   ],
   "source": [
    "47//2"
   ]
  },
  {
   "cell_type": "code",
   "execution_count": 4,
   "id": "4dbf3b20",
   "metadata": {},
   "outputs": [
    {
     "data": {
      "text/plain": [
       "23.5"
      ]
     },
     "execution_count": 4,
     "metadata": {},
     "output_type": "execute_result"
    }
   ],
   "source": [
    "47/2"
   ]
  },
  {
   "cell_type": "code",
   "execution_count": null,
   "id": "0ec0ba4e",
   "metadata": {},
   "outputs": [],
   "source": []
  },
  {
   "cell_type": "code",
   "execution_count": 1,
   "id": "0bcc1439",
   "metadata": {},
   "outputs": [
    {
     "name": "stdout",
     "output_type": "stream",
     "text": [
      "enter the number : 47\n",
      "you entered 47 : 47 is odd number, and it can't be divided into 3\n"
     ]
    }
   ],
   "source": [
    "# kendi çözümüm-1\n",
    "\n",
    "x = int(input('enter the number : '))\n",
    "if x%2 == 1:\n",
    "    if x%3 == 0:\n",
    "        print(\"you entered\", x, \":\", x, \"is odd number, and it can be divided into 3\")\n",
    "    else:\n",
    "        print(\"you entered\", x, \":\", x, \"is odd number, and it can't be divided into 3\")\n",
    "else:\n",
    "    if x%3 == 0:\n",
    "        print(\"you entered\", x, \":\", x, \"is even number, and it can be divided into 3\")\n",
    "    else:\n",
    "        print(\"you entered\", x, \":\", x, \"is even number, and it can't be divided into 3\")"
   ]
  },
  {
   "cell_type": "code",
   "execution_count": 3,
   "id": "20a5658f",
   "metadata": {},
   "outputs": [
    {
     "name": "stdout",
     "output_type": "stream",
     "text": [
      "Please Enter a Number: 47\n",
      "Number is an Odd number, and it can not be divided into 3\n"
     ]
    }
   ],
   "source": [
    "number = input('Please Enter a Number: ')\n",
    "if(int(number)%2==0):\n",
    "  if (int(number)%3==0):\n",
    "    print(\"Number is an Even number, and it can be divided into 3\")\n",
    "  else:\n",
    "    print(\"Number is an Even number, and it can not be divided into 3\")\n",
    "else:\n",
    "  if (int(number)%3==0):\n",
    "    print(\"Number is an Odd number, and it can be divided into 3\")\n",
    "  else:\n",
    "    print(\"Number is an Odd number, and it can not be divided into 3\")"
   ]
  },
  {
   "cell_type": "code",
   "execution_count": 6,
   "id": "3749fa0e",
   "metadata": {},
   "outputs": [
    {
     "name": "stdout",
     "output_type": "stream",
     "text": [
      "Please Enter a Number:47\n",
      "{2: 'odd', 3: 'can not be divided into 3'}\n",
      "you entered 47: 47 is an odd, and can not be divided into 3\n"
     ]
    }
   ],
   "source": [
    "# dic ile çözüm F3561 - Hüseyin  \n",
    "\n",
    "number=int(input(\"Please Enter a Number:\"))\n",
    "result_dict={2:None,3:None}\n",
    "if number%2==0:\n",
    "  result_dict[2]=\"even\"\n",
    "elif number%2==1:\n",
    "  result_dict[2]=\"odd\"\n",
    "if number%3==0:\n",
    "  result_dict[3]=\"can be divided into 3\"\n",
    "  print(result_dict)\n",
    "elif number%3!=0:\n",
    "  result_dict[3]=\"can not be divided into 3\"\n",
    "  print(result_dict)\n",
    "print(f\"you entered {number}: {number} is an {result_dict[2]}, and {result_dict[3]}\")"
   ]
  },
  {
   "cell_type": "code",
   "execution_count": 5,
   "id": "792361ab",
   "metadata": {},
   "outputs": [
    {
     "name": "stdout",
     "output_type": "stream",
     "text": [
      "Please Enter a Number: 47\n",
      "You entered number: Number is an Odd number, and it can not divided into 3\n"
     ]
    }
   ],
   "source": [
    "# tek print ile çözüm F3702-Mustafa\n",
    "\n",
    "number = input('Please Enter a Number: ')\n",
    "if(int(number)%2==0):\n",
    "  if (int(number)%3==0):\n",
    "    number_is = \"Number is an Even number, and it can be divided into 3\"\n",
    "  else:\n",
    "    number_is = \"Number is an Even number, and it can not be divided into 3\"\n",
    "else:\n",
    "  if (int(number)%3==0):\n",
    "    number_is = \"Number is an Odd number, and it can be divided into 3\"\n",
    "  else:\n",
    "    number_is = \"Number is an Odd number, and it can not divided into 3\"\n",
    "\n",
    "print (\"You entered number: %s\" % number_is)"
   ]
  },
  {
   "cell_type": "code",
   "execution_count": 6,
   "id": "34916c68",
   "metadata": {},
   "outputs": [
    {
     "name": "stdout",
     "output_type": "stream",
     "text": [
      "Enter a number:  47\n",
      "47 is an odd number and it cannot be divided into three\n"
     ]
    }
   ],
   "source": [
    "#F3511- Hasan  \n",
    "\n",
    "number = int(input(\"Enter a number:  \"))\n",
    "if number%2 == 0:\n",
    "    print(\"{} is an even number\".format(number), end = ' ')\n",
    "else:\n",
    "    print(\"{} is an odd number\".format(number), end = ' ')\n",
    "if number%3 == 0:\n",
    "    print(\" and it can be divided into three\")\n",
    "else:\n",
    "    print(\"and it cannot be divided into three\")"
   ]
  },
  {
   "cell_type": "code",
   "execution_count": 18,
   "id": "ea0d8280",
   "metadata": {},
   "outputs": [
    {
     "name": "stdout",
     "output_type": "stream",
     "text": [
      "Please Enter a number: 47\n",
      "You have entered 47 and 47 is an odd number and can not be devided by 3\n"
     ]
    }
   ],
   "source": [
    "# F3720- Wayne\n",
    " \n",
    "get_n = int(input(\"Please Enter a number: \" ))\n",
    "if get_n % 2 != 0: \n",
    "  if get_n % 3 == 0:\n",
    "    print('You have entered', get_n, 'and', get_n, \"is an odd number and also can be devided by 3\")\n",
    "  else:# get_n % 2 == 0 and get_n % 3 == 0:\n",
    "    print(\"You have entered\", get_n, 'and', get_n, \"is an odd number and can not be devided by 3\")\n",
    "elif get_n % 2 == 0 and get_n % 3 == 0:\n",
    "    print(\"You have entered\", get_n, 'and', get_n, \"is an even number and can be devided by 3\")\n",
    "else:\n",
    "  print(\"You have entered an even number which can not be devided by 3\")"
   ]
  },
  {
   "cell_type": "code",
   "execution_count": 14,
   "id": "d1e004f6",
   "metadata": {},
   "outputs": [
    {
     "name": "stdout",
     "output_type": "stream",
     "text": [
      "Bir sayı giriniz: 47\n",
      "47 tek ve 3'e tam bölünmez\n"
     ]
    }
   ],
   "source": [
    "x=int(input(\"Bir sayı giriniz: \"))\n",
    "if x%2==0:\n",
    "    if x%3==0:\n",
    "        print(\"{} çift ve 3'e tam bölünür\".format(x))\n",
    "    else:\n",
    "        print(\"{} çift ve 3'e tam bölünmez\".format(x))\n",
    "elif x%3==0:\n",
    "    print(\"{} tek ve 3'e tam bölünür\".format(x))\n",
    "else:\n",
    "    print(\"{} tek ve 3'e tam bölünmez\".format(x))"
   ]
  },
  {
   "cell_type": "code",
   "execution_count": 4,
   "id": "b2728722",
   "metadata": {},
   "outputs": [
    {
     "name": "stdout",
     "output_type": "stream",
     "text": [
      "Please enter a number : 47\n",
      "47 is an odd number  and it can not be divided into 3 \n"
     ]
    }
   ],
   "source": [
    "#if else kullanmadan bool tek satırla çözüm F-3789 Mihail Tal \n",
    "number = int(input(\"Please enter a number : \"))\n",
    "text1=\"is an odd number\"\n",
    "text2=\"is an even number\"\n",
    "text3=\"and it can not be divided into 3\"\n",
    "text4=\"and it can  be divided into 3\"\n",
    "print(f\"{number}\", f\"{int(bool(number % 2))*text1}\", f\"{int(not bool(number % 2))*text2}\",\n",
    "      f\"{int(bool(number % 3))*text3}\", f\"{int(not bool(number % 3))*text4}\")"
   ]
  },
  {
   "cell_type": "code",
   "execution_count": 5,
   "id": "ec6f4719",
   "metadata": {},
   "outputs": [
    {
     "name": "stdout",
     "output_type": "stream",
     "text": [
      "Enter the number :47\n",
      "You entered 47 : 47 is odd number . It can not be divided into 3\n"
     ]
    }
   ],
   "source": [
    "my_number = int(input(\"Enter the number :\"))\n",
    "is_odd = my_number % 2\n",
    "is_three = my_number % 3\n",
    "if is_odd == 0 :\n",
    "  if is_three == 0 :\n",
    "    print(\"You entered {} : {} is even number . It can be divided into 3\".format(my_number,my_number))\n",
    "  else :\n",
    "    print(\"You entered {} : {} is even number . It can not be divided into 3\".format(my_number,my_number))\n",
    "else :\n",
    "  if is_three == 0 :\n",
    "    print(\"You entered {} : {} is odd number . It can be divided into 3\".format(my_number,my_number))\n",
    "  else :\n",
    "    print(\"You entered {} : {} is odd number . It can not be divided into 3\".format(my_number,my_number))"
   ]
  },
  {
   "cell_type": "code",
   "execution_count": 6,
   "id": "393ae32c",
   "metadata": {},
   "outputs": [
    {
     "name": "stdout",
     "output_type": "stream",
     "text": [
      "Please enter a number: 47\n",
      "You entered 47. 47 is odd and but it cannot be divided to 3.\n"
     ]
    }
   ],
   "source": [
    "# def ile çözüm F3871 - Emre\n",
    "\n",
    "def even_odd_by_3():\n",
    "\n",
    "    number = int(input('Please enter a number: '))\n",
    "\n",
    "\n",
    "    if number % 2 == 0:\n",
    "        if number % 3 == 0:\n",
    "            print(f\"You entered {number}. {number} is even and and it can be divided to 3.\")\n",
    "        else:\n",
    "            print(f\"You entered {number}. {number} is even and but it cannot be divided to 3.\")\n",
    "    else:\n",
    "        if number % 3 == 0:\n",
    "            print(f\"You entered {number}. {number} is odd and and it can be divided to 3.\")\n",
    "        else:\n",
    "            print(f\"You entered {number}. {number} is odd and but it cannot be divided to 3.\")\n",
    "\n",
    "even_odd_by_3()"
   ]
  },
  {
   "cell_type": "code",
   "execution_count": 16,
   "id": "e46fe172",
   "metadata": {},
   "outputs": [
    {
     "name": "stdout",
     "output_type": "stream",
     "text": [
      "Please enter a number: 47\n",
      "You entered 47. 47 is odd and but it cannot be divided to 3.\n"
     ]
    }
   ],
   "source": [
    "number = int(input('Please enter a number: '))\n",
    "if number % 2 == 0:\n",
    "    if number % 3 == 0:\n",
    "        print(f\"You entered {number}. {number} is even and and it can be divided to 3.\")\n",
    "    else:\n",
    "        print(f\"You entered {number}. {number} is even and but it cannot be divided to 3.\")\n",
    "else:\n",
    "    if number % 3 == 0:\n",
    "        print(f\"You entered {number}. {number} is odd and and it can be divided to 3.\")\n",
    "    else:\n",
    "        print(f\"You entered {number}. {number} is odd and but it cannot be divided to 3.\")"
   ]
  },
  {
   "cell_type": "code",
   "execution_count": 1,
   "id": "291dab7b",
   "metadata": {},
   "outputs": [
    {
     "name": "stdout",
     "output_type": "stream",
     "text": [
      "Enter a number: 47\n",
      "Your number is odd number and it can not be divided into 3\n"
     ]
    }
   ],
   "source": [
    "# F3659-Yamanadm \n",
    "number = int(input('Enter a number: '))\n",
    "if number % 2 == 0 and number % 3 == 0:\n",
    "  print('Your number is even number and it can be divided into 3')\n",
    "elif number % 2 ==1 and number % 3 != 0:\n",
    "  print('Your number is odd number and it can not be divided into 3')\n",
    "elif number % 2 ==1 and number % 3 == 0:\n",
    "  print('Your number is odd number and it can  be divided into 3')\n",
    "else:\n",
    "  print('Your number is even number and it can not be divided into 3')"
   ]
  },
  {
   "cell_type": "code",
   "execution_count": 2,
   "id": "8272372e",
   "metadata": {},
   "outputs": [
    {
     "name": "stdout",
     "output_type": "stream",
     "text": [
      "Type a whole number:47\n",
      "47 is an odd number but cannot be divided by 3\n"
     ]
    }
   ],
   "source": [
    "# tek print çözümü  F3707-Hugo \n",
    "number = int(input(\"Type a whole number:\"))\n",
    "result = \"\"\n",
    "if number%2 == 0:\n",
    "    if number%3 == 0:\n",
    "        result += \" is an even number and can be divided by 3\"\n",
    "    else:\n",
    "        result += \" is an even number but cannot be divided by 3\"\n",
    "elif number%2 != 0:\n",
    "        if number%3 == 0:\n",
    "            result += \" is an odd number and can be divided by 3\"\n",
    "        else:\n",
    "            result += \" is an odd number but cannot be divided by 3\"\n",
    "  \n",
    "print(str(number) + result)"
   ]
  }
 ],
 "metadata": {
  "kernelspec": {
   "display_name": "Python 3 (ipykernel)",
   "language": "python",
   "name": "python3"
  },
  "language_info": {
   "codemirror_mode": {
    "name": "ipython",
    "version": 3
   },
   "file_extension": ".py",
   "mimetype": "text/x-python",
   "name": "python",
   "nbconvert_exporter": "python",
   "pygments_lexer": "ipython3",
   "version": "3.9.7"
  }
 },
 "nbformat": 4,
 "nbformat_minor": 5
}
