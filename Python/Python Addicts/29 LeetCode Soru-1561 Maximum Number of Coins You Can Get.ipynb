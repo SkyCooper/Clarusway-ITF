{
 "cells": [
  {
   "cell_type": "code",
   "execution_count": null,
   "id": "334d29fe",
   "metadata": {},
   "outputs": [],
   "source": []
  },
  {
   "cell_type": "raw",
   "id": "fa9c2e1a",
   "metadata": {},
   "source": [
    "F3795 Nedim\n",
    "\n",
    "Merhaba Pythonseverler!\n",
    "Bayadır soru paylaşılmıyordu ben de paylaşayım dedim.\n",
    "Bugün LeetCode üzerindeki bir soruyu soracağım.\n",
    "Bir videoda gördüm LeetCode üzerinden Easy/Medium sorular vardı. Adamın çözüm yolları da baya iyi benimkine göre :smile:.\n",
    "Bu da o sorulardan biri (Soru 1561: https://leetcode.com/problems/maximum-number-of-coins-you-can-get/ )\n",
    "\n",
    "Soruda size 3'ün katı olan bir liste veriyor ve 3 arkadaş bir oyun oynuyorlar.\n",
    "Oyunda:\n",
    "1- Siz her seferinde listeden 3'lü bir dize seçeceksiniz (ardışık olması gerekmiyor.)\n",
    "2- Elvis adlı arkadaşınız bu dizenin en büyüğünü alıyor.\n",
    "3- Siz bu dizedeki en büyük 2. sayıyı alıyorsunuz.\n",
    "4- Arkadaşınız Edwin ise son sayıyı alıyor.\n",
    "5- Listedeki sayılar bitene kadar bu tekrar ediyor.\n",
    "Bize burada alabileceğimiz maksimum toplam sayıyı soruyor.\n",
    "\n",
    "\n",
    "Video: https://www.youtube.com/watch?v=qnSF8YaPx78\n",
    "\n",
    "Örnek:\n",
    "Liste: [2,4,1,2,7,8]   Çıktı: 9\n",
    "Anlatım: (1,7,8) ve (2,2,4)'ü seçin veya (2,7,8) ve (1,2,4)'ü seçin. 2+7 = 9 olur.Diğer seçimler mesela (1, 2, 8) ve (2, 4, 7)'yi seçerseniz 2+4 = 6 olur ve optimum değer alınmamış olur."
   ]
  },
  {
   "cell_type": "code",
   "execution_count": null,
   "id": "6a1f2f28",
   "metadata": {},
   "outputs": [],
   "source": []
  },
  {
   "cell_type": "code",
   "execution_count": null,
   "id": "99a19867",
   "metadata": {},
   "outputs": [],
   "source": []
  },
  {
   "cell_type": "code",
   "execution_count": 1,
   "id": "81d05d20",
   "metadata": {},
   "outputs": [
    {
     "ename": "NameError",
     "evalue": "name 'List' is not defined",
     "output_type": "error",
     "traceback": [
      "\u001b[1;31m---------------------------------------------------------------------------\u001b[0m",
      "\u001b[1;31mNameError\u001b[0m                                 Traceback (most recent call last)",
      "\u001b[1;32m~\\AppData\\Local\\Temp/ipykernel_15340/4285650569.py\u001b[0m in \u001b[0;36m<module>\u001b[1;34m\u001b[0m\n\u001b[0;32m      1\u001b[0m \u001b[1;31m# F3791 - Noah\u001b[0m\u001b[1;33m\u001b[0m\u001b[1;33m\u001b[0m\u001b[0m\n\u001b[0;32m      2\u001b[0m \u001b[1;33m\u001b[0m\u001b[0m\n\u001b[1;32m----> 3\u001b[1;33m \u001b[1;32mdef\u001b[0m \u001b[0mmaxCoins\u001b[0m\u001b[1;33m(\u001b[0m\u001b[0mself\u001b[0m\u001b[1;33m,\u001b[0m \u001b[0mpiles\u001b[0m\u001b[1;33m:\u001b[0m \u001b[0mList\u001b[0m\u001b[1;33m[\u001b[0m\u001b[0mint\u001b[0m\u001b[1;33m]\u001b[0m\u001b[1;33m)\u001b[0m \u001b[1;33m->\u001b[0m \u001b[0mint\u001b[0m\u001b[1;33m:\u001b[0m\u001b[1;33m\u001b[0m\u001b[1;33m\u001b[0m\u001b[0m\n\u001b[0m\u001b[0;32m      4\u001b[0m         \u001b[0mpiles\u001b[0m\u001b[1;33m.\u001b[0m\u001b[0msort\u001b[0m\u001b[1;33m(\u001b[0m\u001b[1;33m)\u001b[0m\u001b[1;33m\u001b[0m\u001b[1;33m\u001b[0m\u001b[0m\n\u001b[0;32m      5\u001b[0m         \u001b[0mme_sum\u001b[0m \u001b[1;33m=\u001b[0m \u001b[1;36m0\u001b[0m\u001b[1;33m\u001b[0m\u001b[1;33m\u001b[0m\u001b[0m\n",
      "\u001b[1;31mNameError\u001b[0m: name 'List' is not defined"
     ]
    }
   ],
   "source": [
    "# F3791 - Noah\n",
    "def maxCoins(self, piles: List[int]) -> int:\n",
    "        piles.sort()\n",
    "        me_sum = 0\n",
    "        for i in range(len(piles) // 3):\n",
    "            pile_1 = piles.pop(-1)\n",
    "            pile_2 = piles.pop(-1)\n",
    "            pile_3 = piles.pop(0)\n",
    "            me_sum += pile_2\n",
    "        return me_sum"
   ]
  },
  {
   "cell_type": "code",
   "execution_count": 4,
   "id": "05edfcff",
   "metadata": {},
   "outputs": [
    {
     "data": {
      "text/plain": [
       "9"
      ]
     },
     "execution_count": 4,
     "metadata": {},
     "output_type": "execute_result"
    }
   ],
   "source": [
    "# F3543 - Ertu\n",
    "\n",
    "def sum_max(liste) :\n",
    "  return sum([i for i in sorted(liste)[-2:int(len(liste)/3)-1:-2]])\n",
    "\n",
    "sum_max([2,4,1,2,7,8])"
   ]
  },
  {
   "cell_type": "code",
   "execution_count": null,
   "id": "55d08e63",
   "metadata": {},
   "outputs": [],
   "source": []
  },
  {
   "cell_type": "code",
   "execution_count": null,
   "id": "3927d3c7",
   "metadata": {},
   "outputs": [],
   "source": []
  },
  {
   "cell_type": "code",
   "execution_count": null,
   "id": "b4fee17e",
   "metadata": {},
   "outputs": [],
   "source": []
  },
  {
   "cell_type": "code",
   "execution_count": null,
   "id": "900abb65",
   "metadata": {},
   "outputs": [],
   "source": []
  }
 ],
 "metadata": {
  "kernelspec": {
   "display_name": "Python 3 (ipykernel)",
   "language": "python",
   "name": "python3"
  },
  "language_info": {
   "codemirror_mode": {
    "name": "ipython",
    "version": 3
   },
   "file_extension": ".py",
   "mimetype": "text/x-python",
   "name": "python",
   "nbconvert_exporter": "python",
   "pygments_lexer": "ipython3",
   "version": "3.9.7"
  }
 },
 "nbformat": 4,
 "nbformat_minor": 5
}
