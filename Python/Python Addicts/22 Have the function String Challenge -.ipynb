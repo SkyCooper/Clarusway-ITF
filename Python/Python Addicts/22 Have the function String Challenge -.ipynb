{
 "cells": [
  {
   "cell_type": "code",
   "execution_count": null,
   "id": "c24b2218",
   "metadata": {},
   "outputs": [],
   "source": []
  },
  {
   "cell_type": "code",
   "execution_count": null,
   "id": "8df27758",
   "metadata": {},
   "outputs": [],
   "source": []
  },
  {
   "cell_type": "raw",
   "id": "2b8263c0",
   "metadata": {},
   "source": [
    "Haftaya Python la başlayalım :relaxed: tüm hafta tempolu geçsin dimi. Çözeceğimiz ve çözdüğümüz her bir sorunun bizlere çıkmış olduğumuz bu yolda çok çok faydalı olması ve TAMAMI İŞ BULAN cohort olmamız duası ve dileğiyle.. Her şey gönlümüzce olsun ....\n",
    "\n",
    "Have the function StringChallenge(**str**) take the **str** parameter being passed and modify it using the following algorithm. Replace every letter in the string with the letter following it in the alphabet (**ie.** c becomes d, z becomes a). \n",
    "Then capitalize every vowel in this new string (a, e, i, o, u) and finally return this modified string.\n",
    "Examples\n",
    "Input: \"hello*3\"\n",
    "Output: Ifmmp*3\n",
    "\n",
    "Input: \"fun times!\"\n",
    "Output: gvO Ujnft! (edited) "
   ]
  },
  {
   "cell_type": "code",
   "execution_count": null,
   "id": "16447548",
   "metadata": {},
   "outputs": [],
   "source": []
  },
  {
   "cell_type": "code",
   "execution_count": null,
   "id": "6ea1af65",
   "metadata": {},
   "outputs": [],
   "source": []
  },
  {
   "cell_type": "code",
   "execution_count": null,
   "id": "bc7d4bab",
   "metadata": {},
   "outputs": [],
   "source": []
  },
  {
   "cell_type": "code",
   "execution_count": null,
   "id": "5f39fd73",
   "metadata": {},
   "outputs": [],
   "source": []
  },
  {
   "cell_type": "code",
   "execution_count": null,
   "id": "0bb58275",
   "metadata": {},
   "outputs": [],
   "source": []
  },
  {
   "cell_type": "code",
   "execution_count": null,
   "id": "b1d013bd",
   "metadata": {},
   "outputs": [],
   "source": []
  },
  {
   "cell_type": "code",
   "execution_count": null,
   "id": "b6a02c4f",
   "metadata": {},
   "outputs": [],
   "source": []
  },
  {
   "cell_type": "code",
   "execution_count": null,
   "id": "bfadbee2",
   "metadata": {},
   "outputs": [],
   "source": []
  },
  {
   "cell_type": "code",
   "execution_count": null,
   "id": "c0588f13",
   "metadata": {},
   "outputs": [],
   "source": []
  },
  {
   "cell_type": "code",
   "execution_count": null,
   "id": "81129b0d",
   "metadata": {},
   "outputs": [],
   "source": []
  },
  {
   "cell_type": "code",
   "execution_count": null,
   "id": "299d986d",
   "metadata": {},
   "outputs": [],
   "source": []
  },
  {
   "cell_type": "code",
   "execution_count": null,
   "id": "25a0cccb",
   "metadata": {},
   "outputs": [],
   "source": []
  },
  {
   "cell_type": "code",
   "execution_count": null,
   "id": "fc60de0c",
   "metadata": {},
   "outputs": [],
   "source": []
  },
  {
   "cell_type": "code",
   "execution_count": null,
   "id": "5a825ac5",
   "metadata": {},
   "outputs": [],
   "source": []
  },
  {
   "cell_type": "code",
   "execution_count": null,
   "id": "774a8482",
   "metadata": {},
   "outputs": [],
   "source": []
  },
  {
   "cell_type": "code",
   "execution_count": null,
   "id": "abdf2f85",
   "metadata": {},
   "outputs": [],
   "source": []
  },
  {
   "cell_type": "code",
   "execution_count": null,
   "id": "ee95c32c",
   "metadata": {},
   "outputs": [],
   "source": [
    "# F1324-Asuman\n",
    "\n",
    "alpha = \"abcdefghijklmnopqrstuvwxyz\"\n",
    "vowels = \"aeiou\"\n",
    "\n",
    "def StringChallenge(text) :\n",
    "  new_text = \"\"\n",
    "  for i in text :\n",
    "    if i.isalpha() :\n",
    "      new_text += alpha[(alpha.index(i)+1) % len(alpha)]\n",
    "    else :\n",
    "      new_text += i\n",
    "\n",
    "  for j in new_text :\n",
    "    if j in vowels :\n",
    "      new_text = new_text.replace(j, j.upper())\n",
    "\n",
    "  return new_text\n",
    "StringChallenge(\"Hello*3\")"
   ]
  },
  {
   "cell_type": "code",
   "execution_count": null,
   "id": "e77e71dc",
   "metadata": {},
   "outputs": [],
   "source": [
    "# F3730 Erhan\n",
    "\n",
    "harfler = (\"a\", \"b\", \"c\", \"ç\", \"d\", \"e\", \"f\", \"g\", \"ğ\", \"h\", \"i\", \"ı\", \"j\", \"k\", \"l\", \"m\", \"n\", \"o\", \"ö\", \"p\", \"r\", \"s\", \"ş\", \"t\", \"u\", \"ü\", \"v\", \"y\", \"z\")\n",
    "ünlüler = (\"a\", \"e\", \"i\", \"o\", \"u\")\n",
    "kelime = input()\n",
    "sonuç = \"\"\n",
    "for i in kelime:\n",
    "    if harfler[(harfler.index(i) + 1) % 29] in ünlüler:\n",
    "        sonuç += (harfler[(harfler.index(i) + 1) % 29]).upper()\n",
    "    else:\n",
    "        sonuç += harfler[(harfler.index(i) + 1) % 29]\n",
    "print(sonuç)"
   ]
  },
  {
   "cell_type": "code",
   "execution_count": null,
   "id": "9f5b93fd",
   "metadata": {},
   "outputs": [],
   "source": [
    "# 3789 Mihail Tal\n",
    "a = []\n",
    "vowel_list = [\"a\",\"e\",\"i\",\"o\",\"u\"]\n",
    "words= input(\"please enter a word==>\")\n",
    "for i in words:\n",
    "    if i == \"z\":\n",
    "        a.append(\"a\")\n",
    "    elif i.isalpha() and chr(ord(i)+1) in vowel_list:\n",
    "        a.append(chr((ord(i)+1)).capitalize())\n",
    "    elif i.isalpha():\n",
    "        a.append(chr(ord(i)+1))\n",
    "    else:\n",
    "        a.append(i)\n",
    "a=\"\".join(a)\n",
    "print(a)"
   ]
  },
  {
   "cell_type": "code",
   "execution_count": null,
   "id": "5e3b7253",
   "metadata": {},
   "outputs": [],
   "source": [
    "# F3733 - Rabia\n",
    "\n",
    "def stringchallange(word,num):\n",
    "    result = ''\n",
    "    vowels = ['a','e','i','o','u']\n",
    "    for i in word:\n",
    "        if i.isalpha():\n",
    "            if ord(i) == 122:\n",
    "              if num==1:\n",
    "                change = chr(97)\n",
    "              else:\n",
    "                change = chr(97+(num-1))\n",
    "            else:\n",
    "                change = chr(ord(i)+num)\n",
    "            if change in vowels:\n",
    "                result += change.upper()\n",
    "            else:\n",
    "                result += change\n",
    "        else:\n",
    "            result += i\n",
    "    return result"
   ]
  },
  {
   "cell_type": "raw",
   "id": "01cac4b7",
   "metadata": {},
   "source": [
    "arkadaşlar günaydın, \"string\" diye bir kütüphane var. onu import edince tüm harflere ulaşabiliyoruz. import ettikten sonra dir(string) dersek de hangi methodları kullanabileceğimizi görürüz."
   ]
  },
  {
   "cell_type": "code",
   "execution_count": null,
   "id": "633c98c3",
   "metadata": {},
   "outputs": [],
   "source": [
    "# F3681-Mehmet\n",
    "\n",
    "import string\n",
    "lower_letters=list(string.ascii_lowercase)\n",
    "vovel=[\"a\",\"e\",\"i\",\"o\",\"u\"]\n",
    "word=input(\"write a word : \")\n",
    "for i in word:\n",
    "  if i in lower_letters:\n",
    "    word=word.replace(i, lower_letters[(lower_letters.index(i)+1)%len(lower_letters)])\n",
    "for i in word:\n",
    "  if i in vovel:\n",
    "    word=word.replace(i, i.upper())\n",
    "print(word)"
   ]
  },
  {
   "cell_type": "code",
   "execution_count": null,
   "id": "eca088d3",
   "metadata": {},
   "outputs": [],
   "source": [
    "# F3662-Muhsin\n",
    "\n",
    "text = input(\"Gönder Gelsin\").lower()\n",
    "alfabe = ['a', 'b', 'c', 'ç', 'd', 'e', 'f', 'g', 'ğ', 'h', 'i',\n",
    "'ı', 'j', 'k', 'l', 'm', 'n', 'o', 'ö', 'p', 'r', 's', 'ş', 't', 'u', 'ü', 'v', 'y', 'z']\n",
    "sesli = [\"a\", \"e\", \"i\", \"ı\", \"o\", \"ö\", \"u\", \"ü\"]\n",
    "sonuc = \"\"\n",
    "for i in range(len(text)):\n",
    "    if text[i] in alfabe:\n",
    "        if text[i] == \"z\":\n",
    "            sonuc += \"A\"\n",
    "        else:\n",
    "            sonuc += alfabe[alfabe.index(text[i])+1]\n",
    "\n",
    "    else:\n",
    "        sonuc += text[i]\n",
    "for i in sonuc:\n",
    "    if i in sesli:\n",
    "        sonuc = sonuc.replace(str(i), str(i).upper())\n",
    "print(sonuc) #türkçe karakterlerde hata verebiliyor.\n",
    "print(text)"
   ]
  },
  {
   "cell_type": "code",
   "execution_count": null,
   "id": "dbeb3b07",
   "metadata": {},
   "outputs": [],
   "source": [
    "# C_9131_Raymond Reddington\n",
    "\n",
    "def convert(text):\n",
    "  letters=[chr(i) for i in range(97,123)]\n",
    "  vovels=['a','e','i','o','u']\n",
    "  modified=''\n",
    "  for i in text:\n",
    "    if i in letters:\n",
    "      modified+=letters[(letters.index(i)+1)%26]\n",
    "    else:\n",
    "      modified+=i\n",
    "  for i in modified:\n",
    "    if i in vovels:\n",
    "      modified=modified.replace(i,i.upper())\n",
    "  return modified\n",
    "convert('fun times!')"
   ]
  },
  {
   "cell_type": "code",
   "execution_count": null,
   "id": "55d7a2e0",
   "metadata": {},
   "outputs": [],
   "source": [
    "# F3561 - Hüseyin\n",
    "\n",
    "from string import ascii_lowercase\n",
    "alphabet,alphabet_len,alphabet_vowel=ascii_lowercase,len(alphabet),\"aeiou\"\n",
    "\n",
    "def StringChallenge(string:str,num:int):\n",
    "  converted_string=\"\"\n",
    "  for i in string:\n",
    "    if i.lower() in alphabet:\n",
    "      i=alphabet[(alphabet.index(i.lower())+num)%alphabet_len]\n",
    "      if i in alphabet_vowel:\n",
    "        i=i.capitalize()\n",
    "        converted_string+=i\n",
    "      else:\n",
    "        converted_string+=i\n",
    "    else:\n",
    "      converted_string+=i\n",
    "  return converted_string\n",
    "\n",
    "#These \"asserts\" using only for self-checking\n",
    "if __name__ == '__main__':\n",
    "    print('\"hello*3\" and \"fun times!\" Examples:')\n",
    "    print(StringChallenge(\"hello*3\",1),StringChallenge(\"fun times!\",1),sep=\"\\t\\t\")\n",
    "\n",
    "    assert StringChallenge(\"hello*3\",1) == \"Ifmmp*3\", \"Wrong Conversion\"\n",
    "    assert StringChallenge(\"fun times!\",1) == \"gvO Ujnft!\", \"Wrong Conversion\"\n",
    "    assert StringChallenge(\"Zeppelin Zoo!23a\",1) == \"AfqqfmjO App!23b\", \"Wrong Conversion\"\n",
    "    print(\"Function working as expected!\")"
   ]
  },
  {
   "cell_type": "code",
   "execution_count": null,
   "id": "7a6b1722",
   "metadata": {},
   "outputs": [],
   "source": [
    "# F3785 - Abdullah\n",
    "import string\n",
    "str_alpa = string.ascii_lowercase\n",
    "ünlüler = \"aeiou\"\n",
    "yeni_kelime = \"\"\n",
    "kelime = input(\"kelime giriniz: \")\n",
    "for i in kelime:\n",
    "  if i.isalpha():\n",
    "    if str_alpa[(str_alpa.index(i) + 1) % len(str_alpa)] in ünlüler:\n",
    "        yeni_kelime += (str_alpa[(str_alpa.index(i) + 1) % len(str_alpa)]).upper()\n",
    "    else:\n",
    "        yeni_kelime += str_alpa[(str_alpa.index(i) + 1) % len(str_alpa)]\n",
    "  else: \n",
    "    yeni_kelime +=i\n",
    "for j in yeni_kelime :\n",
    "    if j in ünlüler :\n",
    "      yeni_kelime = yeni_kelime.replace(j, j.upper())\n",
    "print(yeni_kelime)"
   ]
  },
  {
   "cell_type": "code",
   "execution_count": null,
   "id": "6c2a1004",
   "metadata": {},
   "outputs": [],
   "source": [
    "# F3733 - Rabia\n",
    "def stringchallange(word,num):\n",
    "    result = ''\n",
    "    vowels = ['a','e','i','o','u']\n",
    "    for i in word:\n",
    "        if i.isalpha():\n",
    "            if ord(i) == 122:\n",
    "              if num==1:\n",
    "                change = chr(97)\n",
    "              else:\n",
    "                change = chr(97+(num-1))\n",
    "            else:\n",
    "                change = chr(ord(i)+num)\n",
    "            if change in vowels:\n",
    "                result += change.upper()\n",
    "            else:\n",
    "                result += change\n",
    "        else:\n",
    "            result += i\n",
    "    return result"
   ]
  },
  {
   "cell_type": "code",
   "execution_count": null,
   "id": "f1a33ef9",
   "metadata": {},
   "outputs": [],
   "source": []
  },
  {
   "cell_type": "code",
   "execution_count": null,
   "id": "273d3058",
   "metadata": {},
   "outputs": [],
   "source": []
  },
  {
   "cell_type": "code",
   "execution_count": null,
   "id": "7375af73",
   "metadata": {},
   "outputs": [],
   "source": []
  },
  {
   "cell_type": "code",
   "execution_count": null,
   "id": "19069299",
   "metadata": {},
   "outputs": [],
   "source": []
  },
  {
   "cell_type": "code",
   "execution_count": null,
   "id": "01434913",
   "metadata": {},
   "outputs": [],
   "source": []
  }
 ],
 "metadata": {
  "kernelspec": {
   "display_name": "Python 3 (ipykernel)",
   "language": "python",
   "name": "python3"
  },
  "language_info": {
   "codemirror_mode": {
    "name": "ipython",
    "version": 3
   },
   "file_extension": ".py",
   "mimetype": "text/x-python",
   "name": "python",
   "nbconvert_exporter": "python",
   "pygments_lexer": "ipython3",
   "version": "3.9.7"
  }
 },
 "nbformat": 4,
 "nbformat_minor": 5
}
