{
 "cells": [
  {
   "cell_type": "code",
   "execution_count": null,
   "id": "4d04374c",
   "metadata": {},
   "outputs": [],
   "source": []
  },
  {
   "cell_type": "raw",
   "id": "89cd4217",
   "metadata": {},
   "source": [
    "Password oluşturan bir program yazınız. \n",
    "3 büyük harf, 3 küçük harf, 3 rakam ve 2 özel karakterden oluşan\n",
    "Edwin hoca çözümü,"
   ]
  },
  {
   "cell_type": "code",
   "execution_count": 3,
   "id": "559b8723",
   "metadata": {},
   "outputs": [],
   "source": [
    "import random"
   ]
  },
  {
   "cell_type": "code",
   "execution_count": null,
   "id": "98028396",
   "metadata": {},
   "outputs": [],
   "source": [
    "random.shuffle() # karıştırma yapıyor."
   ]
  },
  {
   "cell_type": "code",
   "execution_count": 8,
   "id": "d9bd9f0b",
   "metadata": {},
   "outputs": [
    {
     "data": {
      "text/plain": [
       "99"
      ]
     },
     "execution_count": 8,
     "metadata": {},
     "output_type": "execute_result"
    }
   ],
   "source": [
    "random.randint(97, 122) #--> 10 ile 30 arasından ratgele sayı üretir.(integer)"
   ]
  },
  {
   "cell_type": "code",
   "execution_count": 10,
   "id": "f2d64d59",
   "metadata": {},
   "outputs": [
    {
     "data": {
      "text/plain": [
       "'c'"
      ]
     },
     "execution_count": 10,
     "metadata": {},
     "output_type": "execute_result"
    }
   ],
   "source": [
    "chr(99) # içine integer alır --> random.randint(10, 30) olur"
   ]
  },
  {
   "cell_type": "code",
   "execution_count": 11,
   "id": "ce51bef7",
   "metadata": {},
   "outputs": [
    {
     "data": {
      "text/plain": [
       "'s'"
      ]
     },
     "execution_count": 11,
     "metadata": {},
     "output_type": "execute_result"
    }
   ],
   "source": [
    "chr(random.randint(97, 122)) # ASCII küçük karakterler, "
   ]
  },
  {
   "cell_type": "code",
   "execution_count": 12,
   "id": "c204b1ae",
   "metadata": {},
   "outputs": [
    {
     "data": {
      "text/plain": [
       "'B'"
      ]
     },
     "execution_count": 12,
     "metadata": {},
     "output_type": "execute_result"
    }
   ],
   "source": [
    "chr(random.randint(65, 90)) # ASCII büyük karakterler, "
   ]
  },
  {
   "cell_type": "code",
   "execution_count": 15,
   "id": "d23f349f",
   "metadata": {},
   "outputs": [
    {
     "data": {
      "text/plain": [
       "'4'"
      ]
     },
     "execution_count": 15,
     "metadata": {},
     "output_type": "execute_result"
    }
   ],
   "source": [
    "chr(random.randint(48, 57)) # ASCII digit karakterler, "
   ]
  },
  {
   "cell_type": "code",
   "execution_count": 13,
   "id": "79d34967",
   "metadata": {},
   "outputs": [
    {
     "data": {
      "text/plain": [
       "'&'"
      ]
     },
     "execution_count": 13,
     "metadata": {},
     "output_type": "execute_result"
    }
   ],
   "source": [
    "chr(random.randint(33, 47)) # ASCII özel karakterler, ikiye bölerek kullanmak istedi"
   ]
  },
  {
   "cell_type": "code",
   "execution_count": 14,
   "id": "cbb0e453",
   "metadata": {},
   "outputs": [
    {
     "data": {
      "text/plain": [
       "'?'"
      ]
     },
     "execution_count": 14,
     "metadata": {},
     "output_type": "execute_result"
    }
   ],
   "source": [
    "chr(random.randint(58, 64)) # ASCII özel karakterler,"
   ]
  },
  {
   "cell_type": "code",
   "execution_count": 16,
   "id": "fcfcaf06",
   "metadata": {},
   "outputs": [
    {
     "data": {
      "text/plain": [
       "['Y', 'T', 'F']"
      ]
     },
     "execution_count": 16,
     "metadata": {},
     "output_type": "execute_result"
    }
   ],
   "source": [
    "uppers = [chr(random.randint(65, 90))for i in range(3)] #3 tane BÜYÜK harf üretecek\n",
    "uppers"
   ]
  },
  {
   "cell_type": "code",
   "execution_count": 17,
   "id": "606aa037",
   "metadata": {},
   "outputs": [
    {
     "data": {
      "text/plain": [
       "['u', 'x', 'x']"
      ]
     },
     "execution_count": 17,
     "metadata": {},
     "output_type": "execute_result"
    }
   ],
   "source": [
    "lowers = [chr(random.randint(97, 122))for i in range(3)] #3 tane küçük harf üretecek\n",
    "lowers"
   ]
  },
  {
   "cell_type": "code",
   "execution_count": 20,
   "id": "f824edb8",
   "metadata": {},
   "outputs": [
    {
     "data": {
      "text/plain": [
       "['0', '6', '1']"
      ]
     },
     "execution_count": 20,
     "metadata": {},
     "output_type": "execute_result"
    }
   ],
   "source": [
    "numbers = [chr(random.randint(48, 57))for i in range(3)] #3 tane küçük harf üretecek\n",
    "numbers"
   ]
  },
  {
   "cell_type": "code",
   "execution_count": 18,
   "id": "764cb204",
   "metadata": {},
   "outputs": [
    {
     "data": {
      "text/plain": [
       "'\"='"
      ]
     },
     "execution_count": 18,
     "metadata": {},
     "output_type": "execute_result"
    }
   ],
   "source": [
    "chars = chr(random.randint(33, 47)) + chr(random.randint(58, 64)) #2 tane özel karakter\n",
    "chars # string olarak üretir."
   ]
  },
  {
   "cell_type": "code",
   "execution_count": 22,
   "id": "8a634b2b",
   "metadata": {},
   "outputs": [
    {
     "data": {
      "text/plain": [
       "'0-6-1'"
      ]
     },
     "execution_count": 22,
     "metadata": {},
     "output_type": "execute_result"
    }
   ],
   "source": [
    "\"-\".join(numbers) # aralarına - koyup birleştirdi"
   ]
  },
  {
   "cell_type": "code",
   "execution_count": 23,
   "id": "faf72cf6",
   "metadata": {},
   "outputs": [
    {
     "data": {
      "text/plain": [
       "'061'"
      ]
     },
     "execution_count": 23,
     "metadata": {},
     "output_type": "execute_result"
    }
   ],
   "source": [
    "\"\".join(numbers) # birşey koymadan birleştirdi..."
   ]
  },
  {
   "cell_type": "code",
   "execution_count": 33,
   "id": "4457a6a9",
   "metadata": {},
   "outputs": [
    {
     "data": {
      "text/plain": [
       "'YTFuxx061\"='"
      ]
     },
     "execution_count": 33,
     "metadata": {},
     "output_type": "execute_result"
    }
   ],
   "source": [
    "passw = \"\".join(uppers) + \"\".join(lowers) + \"\".join(numbers) + chars\n",
    "passw #eklenen sıraya göre hepsini concat etti. "
   ]
  },
  {
   "cell_type": "code",
   "execution_count": 27,
   "id": "afd6ea5c",
   "metadata": {},
   "outputs": [],
   "source": [
    "random.shuffle() # şifreyi karıştırmak için bu fonksiyonu kullanıyoruz. ama içine liste alıyor."
   ]
  },
  {
   "cell_type": "code",
   "execution_count": 34,
   "id": "4d16b301",
   "metadata": {},
   "outputs": [
    {
     "data": {
      "text/plain": [
       "['Y', 'T', 'F', 'u', 'x', 'x', '0', '6', '1', '\"', '=']"
      ]
     },
     "execution_count": 34,
     "metadata": {},
     "output_type": "execute_result"
    }
   ],
   "source": [
    "pass_list = list(passw) # onun için stringi listeye çevirdim\n",
    "pass_list"
   ]
  },
  {
   "cell_type": "code",
   "execution_count": 29,
   "id": "37a39d89",
   "metadata": {},
   "outputs": [],
   "source": [
    "random.shuffle(pass_list) # çıktı vermez."
   ]
  },
  {
   "cell_type": "code",
   "execution_count": 30,
   "id": "b2b7d979",
   "metadata": {},
   "outputs": [
    {
     "data": {
      "text/plain": [
       "['\"', '1', '=', 'x', '6', '0', 'u', 'F', 'Y', 'x', 'T']"
      ]
     },
     "execution_count": 30,
     "metadata": {},
     "output_type": "execute_result"
    }
   ],
   "source": [
    "pass_list # şimdi karıştı"
   ]
  },
  {
   "cell_type": "code",
   "execution_count": 31,
   "id": "160bc58d",
   "metadata": {},
   "outputs": [
    {
     "data": {
      "text/plain": [
       "'\"1=x60uFYxT'"
      ]
     },
     "execution_count": 31,
     "metadata": {},
     "output_type": "execute_result"
    }
   ],
   "source": [
    "\"\".join(pass_list) # tekrar stringe çevirip birleştirdik ve şifre oluştu"
   ]
  },
  {
   "cell_type": "code",
   "execution_count": 32,
   "id": "2edb5896",
   "metadata": {},
   "outputs": [],
   "source": [
    "# şimdi bunları fonksiyon olarak tanımlıyoruz..\n",
    "\n",
    "def karıştır(password):\n",
    "    templist = list(password)\n",
    "    random.shuffle(templist)\n",
    "    return \"\".join(templist)"
   ]
  },
  {
   "cell_type": "code",
   "execution_count": 35,
   "id": "6a0b74a1",
   "metadata": {},
   "outputs": [
    {
     "data": {
      "text/plain": [
       "'YTFuxx061\"='"
      ]
     },
     "execution_count": 35,
     "metadata": {},
     "output_type": "execute_result"
    }
   ],
   "source": [
    "passw # şifrem bu haldeydi"
   ]
  },
  {
   "cell_type": "code",
   "execution_count": 38,
   "id": "b45582ee",
   "metadata": {},
   "outputs": [
    {
     "name": "stdout",
     "output_type": "stream",
     "text": [
      "6\"0TxFY=xu1\n"
     ]
    }
   ],
   "source": [
    "print(karıştır(passw)) # şifremi aldı karıştırdı ve bana string olarak return etti"
   ]
  },
  {
   "cell_type": "code",
   "execution_count": null,
   "id": "93b24d03",
   "metadata": {},
   "outputs": [],
   "source": []
  },
  {
   "cell_type": "code",
   "execution_count": 40,
   "id": "06d7cc91",
   "metadata": {},
   "outputs": [
    {
     "name": "stdout",
     "output_type": "stream",
     "text": [
      "geçerli parola\n",
      "parola geçerli\n"
     ]
    }
   ],
   "source": [
    "# F3563 - Yunus\n",
    "\n",
    "def checkPassword(psw):\n",
    "    import re\n",
    "    if len(psw)<8:\n",
    "        raise Exception('Parola en az 7 karakterli olmalıdır.')\n",
    "    elif not re.search(\"[a-z]\",psw):\n",
    "        raise Exception('Parola küçük harf içermelidir.')\n",
    "    elif not re.search(\"[A-Z]\",psw):\n",
    "        raise Exception('Parola büyük harf içermelidir.')\n",
    "    elif not re.search(\"[0-9]\",psw):\n",
    "        raise Exception('Parola rakam içermelidir.')\n",
    "    elif re.search(\" \" ,psw):\n",
    "        raise Exception('Parola boşluk içermemelidir.')\n",
    "    else:\n",
    "        print('geçerli parola')\n",
    "password='1234567aA'\n",
    "try:\n",
    "    checkPassword(password)\n",
    "    \n",
    "except Exception as ex:\n",
    "    print(ex)\n",
    "else:\n",
    "    print('parola geçerli')"
   ]
  },
  {
   "cell_type": "code",
   "execution_count": null,
   "id": "d67b3b35",
   "metadata": {},
   "outputs": [],
   "source": []
  },
  {
   "cell_type": "code",
   "execution_count": null,
   "id": "f2df726c",
   "metadata": {},
   "outputs": [],
   "source": []
  },
  {
   "cell_type": "code",
   "execution_count": null,
   "id": "91ec378b",
   "metadata": {},
   "outputs": [],
   "source": []
  },
  {
   "cell_type": "code",
   "execution_count": null,
   "id": "a5acf569",
   "metadata": {},
   "outputs": [],
   "source": []
  },
  {
   "cell_type": "code",
   "execution_count": null,
   "id": "0b7c59a3",
   "metadata": {},
   "outputs": [],
   "source": []
  },
  {
   "cell_type": "code",
   "execution_count": null,
   "id": "9159afb0",
   "metadata": {},
   "outputs": [],
   "source": []
  },
  {
   "cell_type": "code",
   "execution_count": null,
   "id": "9b36c5a3",
   "metadata": {},
   "outputs": [],
   "source": []
  }
 ],
 "metadata": {
  "kernelspec": {
   "display_name": "Python 3 (ipykernel)",
   "language": "python",
   "name": "python3"
  },
  "language_info": {
   "codemirror_mode": {
    "name": "ipython",
    "version": 3
   },
   "file_extension": ".py",
   "mimetype": "text/x-python",
   "name": "python",
   "nbconvert_exporter": "python",
   "pygments_lexer": "ipython3",
   "version": "3.9.7"
  }
 },
 "nbformat": 4,
 "nbformat_minor": 5
}
