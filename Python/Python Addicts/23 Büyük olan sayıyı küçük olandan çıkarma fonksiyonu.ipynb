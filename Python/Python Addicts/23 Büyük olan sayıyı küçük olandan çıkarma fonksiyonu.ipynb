{
 "cells": [
  {
   "cell_type": "code",
   "execution_count": null,
   "id": "b9880e8d",
   "metadata": {},
   "outputs": [],
   "source": []
  },
  {
   "cell_type": "raw",
   "id": "6f23f33d",
   "metadata": {},
   "source": [
    "Task: \n",
    "Birbirinden farklı iki pozitif integer sayıyı oluşturacağınız fonksiyona yollayın. \n",
    "O da onlardan büyük olanı küçük olandan çıkartsın. \n",
    "Sayılar eşit veya negatif ise tekrar input istesin."
   ]
  },
  {
   "cell_type": "code",
   "execution_count": 1,
   "id": "6bf9fcae",
   "metadata": {},
   "outputs": [
    {
     "name": "stdout",
     "output_type": "stream",
     "text": [
      "First number : 5\n",
      "Second number : 5\n",
      "Try again\n",
      "First number : 5\n",
      "Second number : 3\n"
     ]
    },
    {
     "data": {
      "text/plain": [
       "2"
      ]
     },
     "execution_count": 1,
     "metadata": {},
     "output_type": "execute_result"
    }
   ],
   "source": [
    "def cooper():\n",
    "    while True:\n",
    "        x = int(input('First number : '))\n",
    "        y = int(input('Second number : '))\n",
    "        \n",
    "        if x < 0 or y < 0 or x == y :\n",
    "            print(\"Try again\")\n",
    "            continue\n",
    "        elif x > y:\n",
    "            return x-y\n",
    "        else:\n",
    "            return y-x\n",
    "cooper()"
   ]
  },
  {
   "cell_type": "code",
   "execution_count": 1,
   "id": "df5d65e9",
   "metadata": {},
   "outputs": [
    {
     "name": "stdout",
     "output_type": "stream",
     "text": [
      "-2\n",
      "5\n",
      "5\n",
      "-2\n",
      "5\n",
      "5\n",
      "12\n",
      "4\n",
      "8\n"
     ]
    }
   ],
   "source": [
    "#Asuman\n",
    "def rabia(x,y):\n",
    "    while x<0 or y<0 or x==y:\n",
    "        x=int(input())\n",
    "        y=int(input())\n",
    "    return abs(x-y)\n",
    "print(rabia(int(input()),int(input())))"
   ]
  },
  {
   "cell_type": "code",
   "execution_count": 3,
   "id": "ef5979ed",
   "metadata": {},
   "outputs": [
    {
     "name": "stdout",
     "output_type": "stream",
     "text": [
      "Give me a number: 5\n",
      "Give me a different number: 9\n",
      "Difference of two numbers: 4\n"
     ]
    }
   ],
   "source": [
    "# F3733 - Rabia\n",
    "def rabia(x,y):\n",
    "  while x<0 or y<0 or x==y:\n",
    "    x=int(input(\"Please don't let the number be negative and equal: \"))\n",
    "    y=int(input(\"Please don't let the number be negative and equal: \"))\n",
    "  return f\"Difference of two numbers: {sorted([x,y])[1]-sorted([x,y])[0]}\"\n",
    "print(rabia(int(input(\"Give me a number: \")),int(input(\"Give me a different number: \"))))"
   ]
  },
  {
   "cell_type": "code",
   "execution_count": 2,
   "id": "8f30f947",
   "metadata": {},
   "outputs": [
    {
     "name": "stdout",
     "output_type": "stream",
     "text": [
      "Bir sayi giriniz :5\n",
      "Bir sayi daha giriniz :-5\n",
      "Lutfen sayilari pozitif ve birbirinden farkli olarak giriniz :\n",
      "Bir sayi giriniz :6\n",
      "Bir sayi daha giriniz :7\n",
      "1\n"
     ]
    }
   ],
   "source": [
    "while True:\n",
    "  x = int(input(\"Bir sayi giriniz :\"))\n",
    "  y = int(input(\"Bir sayi daha giriniz :\")) \n",
    "  if x != y and x > 0 and y > 0:\n",
    "    break\n",
    "  else:\n",
    "    print(\"Lutfen sayilari pozitif ve birbirinden farkli olarak giriniz :\")\n",
    "def calculator(x, y):\n",
    "  if x > y:\n",
    "      return (x-y)\n",
    "  elif y > x:\n",
    "      return (y-x)\n",
    "print(calculator(x, y))"
   ]
  },
  {
   "cell_type": "code",
   "execution_count": null,
   "id": "c442b756",
   "metadata": {},
   "outputs": [],
   "source": [
    "# F3511- Hasan\n",
    "def task ():\n",
    "    while True:\n",
    "        a = input(\"pozitif bir sayı giriniz: \")\n",
    "        b = input(\"pozitif bir sayı giriniz: \")\n",
    "        if not a.isdigit() or not b.isdigit() or int(a) == int(b):\n",
    "            print(\"yanlış giriş. lütfen iki farklı pozitif sayı girin\")\n",
    "        else:\n",
    "            print(abs(int(a) - int(b)))\n",
    "            break"
   ]
  },
  {
   "cell_type": "code",
   "execution_count": 4,
   "id": "f95e5357",
   "metadata": {},
   "outputs": [
    {
     "name": "stdout",
     "output_type": "stream",
     "text": [
      "please enter a number==>-2\n",
      "please enter another number==>5\n",
      "Please enter proper number\n",
      "please enter a number==>5\n",
      "please enter another number==>-2\n",
      "Please enter proper number\n",
      "please enter a number==>5\n",
      "please enter another number==>5\n",
      "please enter a number==>5\n",
      "please enter another number==>2\n",
      "3\n"
     ]
    }
   ],
   "source": [
    "# F-3789 Mihail Tal\n",
    "\n",
    "from operator import truediv\n",
    "\n",
    "\n",
    "def subtraction(value1,value2):\n",
    "    control=True\n",
    "    while control == True:\n",
    "        if value1 != value2 and value1 >= 0 and value2 >= 0:\n",
    "            control = False\n",
    "            if value1 > value2:\n",
    "                print(value1-value2)\n",
    "            else:\n",
    "                print(value2-value1)\n",
    "        else:\n",
    "            control2 =True\n",
    "            while control2 ==True:\n",
    "                number1 = input(\"please enter a number==>\")\n",
    "                number2 = input (\"please enter another number==>\")\n",
    "                if number1.isdigit() and number2.isdigit():\n",
    "                    value1 = int(number1)\n",
    "                    value2 = int(number2)\n",
    "                    control2= False\n",
    "                else:\n",
    "                    print(\"Please enter proper number\")\n",
    "\n",
    "control = True\n",
    "while control==True:\n",
    "    number1 = input(\"please enter a number==>\")\n",
    "    number2 = input (\"please enter another number==>\")\n",
    "    if number1.isdigit() and number2.isdigit(): \n",
    "        control = False\n",
    "        subtraction(int(number1),int(number2))\n",
    "    else:\n",
    "        print(\"Please enter proper number\")"
   ]
  },
  {
   "cell_type": "code",
   "execution_count": null,
   "id": "ae8e5662",
   "metadata": {},
   "outputs": [],
   "source": [
    "# F3785 - Abdullah\n",
    "num_1 = int(input('lütfen pozitif bir tamsayı giriniz: '))\n",
    "num_2 = int(input('lütfen pozitif bir tamsayı giriniz: '))\n",
    "def çıkar(num_1, num_2):\n",
    "  while num_1 <= 0 or num_2 <= 0:\n",
    "    print('0 veya negatif sayı girdiniz! lütfen pozitif bir tamsayı giriniz.')\n",
    "    num_1 = int(input('lütfen pozitif bir tamsayı giriniz: '))\n",
    "    num_2 = int(input('lütfen pozitif bir tamsayı giriniz: '))\n",
    "  if num_1 > num_2:\n",
    "    return num_1 - num_2\n",
    "  elif num_2 > num_1:\n",
    "    return num_2 - num_1\n",
    "  elif num_2 == num_1:\n",
    "    return num_2 - num_1\n",
    "çıkar(num_1, num_2)"
   ]
  },
  {
   "cell_type": "code",
   "execution_count": null,
   "id": "91915c6d",
   "metadata": {},
   "outputs": [],
   "source": [
    "# F3877 - Paul Kellerman\n",
    "def pozitif_fark():\n",
    "    while True:\n",
    "        a=int(input('1.sayıyı giriniz: '))\n",
    "        b=int(input('2.sayıyı giriniz: '))\n",
    "        if a==b:\n",
    "            print('girdiğiniz sayılar birbirine eşit. Sayıları tekrar giriniz.')\n",
    "            continue\n",
    "        elif a<0 or b<0:\n",
    "            print('girdiğiniz sayılar biri negatif. Sayıları tekrar giriniz.')\n",
    "            continue\n",
    "        else:\n",
    "            if a>b:\n",
    "                fark=a-b    \n",
    "            else:\n",
    "                fark=b-a\n",
    "            return fark\n",
    "            break\n",
    "print('iki sayının farkı',pozitif_fark())"
   ]
  },
  {
   "cell_type": "code",
   "execution_count": null,
   "id": "d0d684e5",
   "metadata": {},
   "outputs": [],
   "source": [
    "# F3642-Freeman\n",
    "def get_number ():\n",
    "  return (int(input(\"Enter a positive integer: \")))\n",
    "x = get_number()\n",
    "y = get_number()\n",
    "while (x == y) or (x < 0) or (y < 0):\n",
    "  x = get_number()\n",
    "  y = get_number()\n",
    "if x > y:\n",
    "  print(x-y)\n",
    "elif y > x:\n",
    "  print(y-x)"
   ]
  },
  {
   "cell_type": "code",
   "execution_count": null,
   "id": "4cc85f73",
   "metadata": {},
   "outputs": [],
   "source": [
    "# F3710 - Thomas Hamilton\n",
    "while True:\n",
    "  x = int(input(\"Bir sayi giriniz :\"))\n",
    "  y = int(input(\"Bir sayi daha giriniz :\")) \n",
    "  if x != y and x > 0 and y > 0:\n",
    "    break\n",
    "  else:\n",
    "    print(\"Lutfen sayilari pozitif ve birbirinden farkli olarak giriniz :\")\n",
    "def calculator(x, y):\n",
    "  if x > y:\n",
    "      return (x-y)\n",
    "  elif y > x:\n",
    "      return (y-x)\n",
    "print(calculator(x, y))"
   ]
  },
  {
   "cell_type": "code",
   "execution_count": null,
   "id": "c27a72cd",
   "metadata": {},
   "outputs": [],
   "source": [
    "# F3631-ihsan\n",
    "def fonk1(a,b):\n",
    "   sonuc = a - b\n",
    "   return sonuc\n",
    "sayı = int(input(\"Lütfen 1. sayıyı giriniz : \"))\n",
    "say = int(input(\"Lütfen 2. sayıyı giriniz : \"))\n",
    "if say < 0 or sayı < 0 or say == sayı:\n",
    "  while True:\n",
    "    sayı = int(input(\"Lütfen 1. sayıyı pozitif giriniz ve sayılar birbirine eşit olmasın : \"))\n",
    "    say = int(input(\"Lütfen 2. sayıyı pozitif giriniz ve sayılar birbirine eşit olmasın : \"))\n",
    "    if say > 0 and sayı > 0 and say != sayı :\n",
    "      break\n",
    "if sayı > say:\n",
    "  print(fonk1(sayı,say))\n",
    "elif say > sayı:\n",
    "  print(fonk1(say,sayı)"
   ]
  },
  {
   "cell_type": "code",
   "execution_count": null,
   "id": "c251b642",
   "metadata": {},
   "outputs": [],
   "source": []
  },
  {
   "cell_type": "code",
   "execution_count": null,
   "id": "67de1880",
   "metadata": {},
   "outputs": [],
   "source": []
  }
 ],
 "metadata": {
  "kernelspec": {
   "display_name": "Python 3 (ipykernel)",
   "language": "python",
   "name": "python3"
  },
  "language_info": {
   "codemirror_mode": {
    "name": "ipython",
    "version": 3
   },
   "file_extension": ".py",
   "mimetype": "text/x-python",
   "name": "python",
   "nbconvert_exporter": "python",
   "pygments_lexer": "ipython3",
   "version": "3.9.7"
  }
 },
 "nbformat": 4,
 "nbformat_minor": 5
}
