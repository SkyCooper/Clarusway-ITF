{
 "cells": [
  {
   "cell_type": "markdown",
   "id": "8c08142e",
   "metadata": {
    "id": "8c08142e"
   },
   "source": [
    "----------------------------------------------------------------------------\n",
    "Elemanları ardışık sayılar olan karışık bir liste verilir. Listenin en küçük öğesi ile en büyük öğesi arasında bulunan ancak listede gösterilmeyen çift sayıdaki eksik sayıların çıktısını veren bir python kodu yazın.\n",
    "\n",
    "Giriş\n",
    "\n",
    "liste = [48, 10, 11, 21, 36, 5, 6, 52, 28, 29, 53, 54, 45, 19, 20, 47, 55, 39, 41, 7, 9, 17, 26, 27 , 42, 22, 37, 51, 46, 18, 44, 30, 34, 13, 15, 35, 33, 16, 50, 24]\n",
    "\n",
    "Beklenen Çıktı: 8 12 14 32 38 40"
   ]
  },
  {
   "cell_type": "code",
   "execution_count": 63,
   "id": "32e3e284",
   "metadata": {},
   "outputs": [
    {
     "data": {
      "text/plain": [
       "[8, 12, 14, 32, 38, 40]"
      ]
     },
     "execution_count": 63,
     "metadata": {},
     "output_type": "execute_result"
    }
   ],
   "source": [
    "[i for i in range(min(liste), max(liste)+1) if i%2==0 and i not in liste]"
   ]
  },
  {
   "cell_type": "code",
   "execution_count": 6,
   "id": "377961a3",
   "metadata": {},
   "outputs": [
    {
     "data": {
      "text/plain": [
       "[8, 12, 14, 32, 38, 40]"
      ]
     },
     "execution_count": 6,
     "metadata": {},
     "output_type": "execute_result"
    }
   ],
   "source": [
    "# F3606 - Bahadır\n",
    "sorted(liste)\n",
    "[i for i in range(min(sorted(liste)),max(sorted(liste))) if i not in liste and i%2==0]"
   ]
  },
  {
   "cell_type": "code",
   "execution_count": null,
   "id": "2b199a0f",
   "metadata": {},
   "outputs": [],
   "source": [
    "# F3798-Zübeyir\n",
    "\n",
    "liste = [48, 10, 11, 21, 36, 5, 6, 52, 28, 29, 53, 54, 45, 19, 20, 47,\n",
    " 55, 39, 41, 7, 9, 17, 26, 27, 42, 22, 37, 51, 46, 18, 44, \n",
    " 30, 34, 13, 15, 35, 33, 16, 50, 24]\n",
    "liste2 = []\n",
    "for i in range(5,56):\n",
    "    if i not in liste:\n",
    "        if i % 2 == 1:\n",
    "            continue \n",
    "        else:\n",
    "            liste2.append(i)\n",
    "print(liste2)"
   ]
  },
  {
   "cell_type": "code",
   "execution_count": 3,
   "id": "f606ee64",
   "metadata": {},
   "outputs": [
    {
     "name": "stdout",
     "output_type": "stream",
     "text": [
      "55\n",
      "5\n",
      "[32, 38, 8, 40, 12, 14]\n"
     ]
    }
   ],
   "source": [
    "liste = [48, 10, 11, 21, 36, 5, 6, 52, 28, 29, 53, 54, 45,\\\n",
    "         19, 20, 47, 55, 39, 41, 7, 9, 17, 26, 27 , 42, 22,\\\n",
    "         37, 51, 46, 18, 44, 30, 34, 13, 15, 35, 33, 16, 50, 24]\n",
    "output = []\n",
    "print(max(liste))\n",
    "print(min(liste))\n",
    "for i in range(min(liste), max(liste)+1):\n",
    "    if i%2==0 :\n",
    "        output.append(i)\n",
    "print(list(set(output).difference(set(liste))))\n",
    "        "
   ]
  },
  {
   "cell_type": "markdown",
   "id": "5d6e4940",
   "metadata": {
    "id": "5d6e4940"
   },
   "source": [
    "2 ) Try to print a multiplication table with numbers from 1 to 10.\n",
    "--------------------------------------------------------------------------\n",
    "1'den 10'a kadar sayılar içeren bir çarpım tablosu yazdırmayı deneyin.\n",
    "---------------------------------------------------------------------------\n",
    "For Example,\n",
    "\n",
    "1 x 1 = 1\n",
    "\n",
    "1 x 2 = 2\n",
    "\n",
    "1 x 3 = 3\n",
    "\n",
    "1 x 4 = 4\n",
    "\n",
    "1 x 5 = 5\n",
    "\n",
    "1 x 6 = 6\n",
    "\n",
    "1 x 7 = 7\n",
    "\n",
    "1 x 8 = 8\n",
    "\n",
    "1 x 9 = 9\n",
    "\n",
    "1 x 10 = 10\n",
    "\n",
    "***********\n",
    "\n",
    "2 x 1 = 2\n",
    "\n",
    "2 x 2 = 4\n",
    "\n",
    "2 x 3 = 6"
   ]
  },
  {
   "cell_type": "code",
   "execution_count": 28,
   "id": "14f35e6f",
   "metadata": {
    "collapsed": true
   },
   "outputs": [
    {
     "name": "stdout",
     "output_type": "stream",
     "text": [
      "5\n",
      "1 x 5 = 5\n",
      "2 x 5 = 10\n",
      "3 x 5 = 15\n",
      "4 x 5 = 20\n",
      "5 x 5 = 25\n",
      "6 x 5 = 30\n",
      "7 x 5 = 35\n",
      "8 x 5 = 40\n",
      "9 x 5 = 45\n",
      "10 x 5 = 50\n"
     ]
    }
   ],
   "source": [
    "n = int(input())\n",
    "for i in range(1,11):\n",
    "    print(i, \"x\", n, \"=\", (i*n) )"
   ]
  },
  {
   "cell_type": "code",
   "execution_count": 69,
   "id": "4d40a704",
   "metadata": {
    "collapsed": true
   },
   "outputs": [
    {
     "name": "stdout",
     "output_type": "stream",
     "text": [
      "1 x 1 = 1\n",
      "1 x 2 = 2\n",
      "1 x 3 = 3\n",
      "1 x 4 = 4\n",
      "1 x 5 = 5\n",
      "1 x 6 = 6\n",
      "1 x 7 = 7\n",
      "1 x 8 = 8\n",
      "1 x 9 = 9\n",
      "1 x 10 = 10\n",
      "2 x 1 = 2\n",
      "2 x 2 = 4\n",
      "2 x 3 = 6\n",
      "2 x 4 = 8\n",
      "2 x 5 = 10\n",
      "2 x 6 = 12\n",
      "2 x 7 = 14\n",
      "2 x 8 = 16\n",
      "2 x 9 = 18\n",
      "2 x 10 = 20\n",
      "3 x 1 = 3\n",
      "3 x 2 = 6\n",
      "3 x 3 = 9\n",
      "3 x 4 = 12\n",
      "3 x 5 = 15\n",
      "3 x 6 = 18\n",
      "3 x 7 = 21\n",
      "3 x 8 = 24\n",
      "3 x 9 = 27\n",
      "3 x 10 = 30\n",
      "4 x 1 = 4\n",
      "4 x 2 = 8\n",
      "4 x 3 = 12\n",
      "4 x 4 = 16\n",
      "4 x 5 = 20\n",
      "4 x 6 = 24\n",
      "4 x 7 = 28\n",
      "4 x 8 = 32\n",
      "4 x 9 = 36\n",
      "4 x 10 = 40\n",
      "5 x 1 = 5\n",
      "5 x 2 = 10\n",
      "5 x 3 = 15\n",
      "5 x 4 = 20\n",
      "5 x 5 = 25\n",
      "5 x 6 = 30\n",
      "5 x 7 = 35\n",
      "5 x 8 = 40\n",
      "5 x 9 = 45\n",
      "5 x 10 = 50\n",
      "6 x 1 = 6\n",
      "6 x 2 = 12\n",
      "6 x 3 = 18\n",
      "6 x 4 = 24\n",
      "6 x 5 = 30\n",
      "6 x 6 = 36\n",
      "6 x 7 = 42\n",
      "6 x 8 = 48\n",
      "6 x 9 = 54\n",
      "6 x 10 = 60\n",
      "7 x 1 = 7\n",
      "7 x 2 = 14\n",
      "7 x 3 = 21\n",
      "7 x 4 = 28\n",
      "7 x 5 = 35\n",
      "7 x 6 = 42\n",
      "7 x 7 = 49\n",
      "7 x 8 = 56\n",
      "7 x 9 = 63\n",
      "7 x 10 = 70\n",
      "8 x 1 = 8\n",
      "8 x 2 = 16\n",
      "8 x 3 = 24\n",
      "8 x 4 = 32\n",
      "8 x 5 = 40\n",
      "8 x 6 = 48\n",
      "8 x 7 = 56\n",
      "8 x 8 = 64\n",
      "8 x 9 = 72\n",
      "8 x 10 = 80\n",
      "9 x 1 = 9\n",
      "9 x 2 = 18\n",
      "9 x 3 = 27\n",
      "9 x 4 = 36\n",
      "9 x 5 = 45\n",
      "9 x 6 = 54\n",
      "9 x 7 = 63\n",
      "9 x 8 = 72\n",
      "9 x 9 = 81\n",
      "9 x 10 = 90\n",
      "10 x 1 = 10\n",
      "10 x 2 = 20\n",
      "10 x 3 = 30\n",
      "10 x 4 = 40\n",
      "10 x 5 = 50\n",
      "10 x 6 = 60\n",
      "10 x 7 = 70\n",
      "10 x 8 = 80\n",
      "10 x 9 = 90\n",
      "10 x 10 = 100\n"
     ]
    },
    {
     "data": {
      "text/plain": [
       "[None,\n",
       " None,\n",
       " None,\n",
       " None,\n",
       " None,\n",
       " None,\n",
       " None,\n",
       " None,\n",
       " None,\n",
       " None,\n",
       " None,\n",
       " None,\n",
       " None,\n",
       " None,\n",
       " None,\n",
       " None,\n",
       " None,\n",
       " None,\n",
       " None,\n",
       " None,\n",
       " None,\n",
       " None,\n",
       " None,\n",
       " None,\n",
       " None,\n",
       " None,\n",
       " None,\n",
       " None,\n",
       " None,\n",
       " None,\n",
       " None,\n",
       " None,\n",
       " None,\n",
       " None,\n",
       " None,\n",
       " None,\n",
       " None,\n",
       " None,\n",
       " None,\n",
       " None,\n",
       " None,\n",
       " None,\n",
       " None,\n",
       " None,\n",
       " None,\n",
       " None,\n",
       " None,\n",
       " None,\n",
       " None,\n",
       " None,\n",
       " None,\n",
       " None,\n",
       " None,\n",
       " None,\n",
       " None,\n",
       " None,\n",
       " None,\n",
       " None,\n",
       " None,\n",
       " None,\n",
       " None,\n",
       " None,\n",
       " None,\n",
       " None,\n",
       " None,\n",
       " None,\n",
       " None,\n",
       " None,\n",
       " None,\n",
       " None,\n",
       " None,\n",
       " None,\n",
       " None,\n",
       " None,\n",
       " None,\n",
       " None,\n",
       " None,\n",
       " None,\n",
       " None,\n",
       " None,\n",
       " None,\n",
       " None,\n",
       " None,\n",
       " None,\n",
       " None,\n",
       " None,\n",
       " None,\n",
       " None,\n",
       " None,\n",
       " None,\n",
       " None,\n",
       " None,\n",
       " None,\n",
       " None,\n",
       " None,\n",
       " None,\n",
       " None,\n",
       " None,\n",
       " None,\n",
       " None]"
      ]
     },
     "execution_count": 69,
     "metadata": {},
     "output_type": "execute_result"
    }
   ],
   "source": [
    "[print(i,\"x\",ii,\"=\",i*ii) for i in range(1,11) for ii in range(1,11)]"
   ]
  },
  {
   "cell_type": "code",
   "execution_count": 31,
   "id": "c6eb59d3",
   "metadata": {
    "collapsed": true
   },
   "outputs": [
    {
     "name": "stdout",
     "output_type": "stream",
     "text": [
      "1 x 1 = 1\n",
      "1 x 2 = 2\n",
      "1 x 3 = 3\n",
      "1 x 4 = 4\n",
      "1 x 5 = 5\n",
      "1 x 6 = 6\n",
      "1 x 7 = 7\n",
      "1 x 8 = 8\n",
      "1 x 9 = 9\n",
      "1 x 10 = 10\n",
      "2 x 1 = 2\n",
      "2 x 2 = 4\n",
      "2 x 3 = 6\n",
      "2 x 4 = 8\n",
      "2 x 5 = 10\n",
      "2 x 6 = 12\n",
      "2 x 7 = 14\n",
      "2 x 8 = 16\n",
      "2 x 9 = 18\n",
      "2 x 10 = 20\n",
      "3 x 1 = 3\n",
      "3 x 2 = 6\n",
      "3 x 3 = 9\n",
      "3 x 4 = 12\n",
      "3 x 5 = 15\n",
      "3 x 6 = 18\n",
      "3 x 7 = 21\n",
      "3 x 8 = 24\n",
      "3 x 9 = 27\n",
      "3 x 10 = 30\n",
      "4 x 1 = 4\n",
      "4 x 2 = 8\n",
      "4 x 3 = 12\n",
      "4 x 4 = 16\n",
      "4 x 5 = 20\n",
      "4 x 6 = 24\n",
      "4 x 7 = 28\n",
      "4 x 8 = 32\n",
      "4 x 9 = 36\n",
      "4 x 10 = 40\n",
      "5 x 1 = 5\n",
      "5 x 2 = 10\n",
      "5 x 3 = 15\n",
      "5 x 4 = 20\n",
      "5 x 5 = 25\n",
      "5 x 6 = 30\n",
      "5 x 7 = 35\n",
      "5 x 8 = 40\n",
      "5 x 9 = 45\n",
      "5 x 10 = 50\n",
      "6 x 1 = 6\n",
      "6 x 2 = 12\n",
      "6 x 3 = 18\n",
      "6 x 4 = 24\n",
      "6 x 5 = 30\n",
      "6 x 6 = 36\n",
      "6 x 7 = 42\n",
      "6 x 8 = 48\n",
      "6 x 9 = 54\n",
      "6 x 10 = 60\n",
      "7 x 1 = 7\n",
      "7 x 2 = 14\n",
      "7 x 3 = 21\n",
      "7 x 4 = 28\n",
      "7 x 5 = 35\n",
      "7 x 6 = 42\n",
      "7 x 7 = 49\n",
      "7 x 8 = 56\n",
      "7 x 9 = 63\n",
      "7 x 10 = 70\n",
      "8 x 1 = 8\n",
      "8 x 2 = 16\n",
      "8 x 3 = 24\n",
      "8 x 4 = 32\n",
      "8 x 5 = 40\n",
      "8 x 6 = 48\n",
      "8 x 7 = 56\n",
      "8 x 8 = 64\n",
      "8 x 9 = 72\n",
      "8 x 10 = 80\n",
      "9 x 1 = 9\n",
      "9 x 2 = 18\n",
      "9 x 3 = 27\n",
      "9 x 4 = 36\n",
      "9 x 5 = 45\n",
      "9 x 6 = 54\n",
      "9 x 7 = 63\n",
      "9 x 8 = 72\n",
      "9 x 9 = 81\n",
      "9 x 10 = 90\n",
      "10 x 1 = 10\n",
      "10 x 2 = 20\n",
      "10 x 3 = 30\n",
      "10 x 4 = 40\n",
      "10 x 5 = 50\n",
      "10 x 6 = 60\n",
      "10 x 7 = 70\n",
      "10 x 8 = 80\n",
      "10 x 9 = 90\n",
      "10 x 10 = 100\n"
     ]
    }
   ],
   "source": [
    "for i in range(1,11):\n",
    "    for ii in range(1,11):\n",
    "        print(i, \"x\", ii, \"=\", (i*ii))"
   ]
  },
  {
   "cell_type": "code",
   "execution_count": null,
   "id": "fd1ed542",
   "metadata": {},
   "outputs": [],
   "source": [
    "# F3730 Erhan\n",
    "\n",
    "rakamlar = range(1, 11)\n",
    "sonuç = birinci * ikinci\n",
    "for i in rakamlar:\n",
    "  birinci = i\n",
    "  for ii in rakamlar:\n",
    "    ikinici = ii\n",
    "    print(f\"{birinci} x {ikinici} = {birinci*ikinici}\")"
   ]
  },
  {
   "cell_type": "code",
   "execution_count": null,
   "id": "0b910bb2",
   "metadata": {},
   "outputs": [],
   "source": []
  },
  {
   "cell_type": "markdown",
   "id": "KK47L3XbxI-b",
   "metadata": {
    "id": "KK47L3XbxI-b"
   },
   "source": [
    "3 ) Write a program to check if two string are balanced.\n",
    "## for example; strings s1 and s2 are balanced if all the characters in the s1 are present in s2\n",
    "--------------------------------------------------------------------------------------------------\n",
    "İki dizenin dengeli olup olmadığını kontrol eden bir program yazın.\n",
    "örneğin; s1'deki tüm karakterler s'de mevcutsa, s1 ve s2 dizeleri dengelenir"
   ]
  },
  {
   "cell_type": "code",
   "execution_count": 71,
   "id": "d55b09af",
   "metadata": {},
   "outputs": [
    {
     "name": "stdout",
     "output_type": "stream",
     "text": [
      "ali\n",
      "deli\n"
     ]
    },
    {
     "data": {
      "text/plain": [
       "'Dengeli değildir.'"
      ]
     },
     "execution_count": 71,
     "metadata": {},
     "output_type": "execute_result"
    }
   ],
   "source": [
    "s1, s2 = input(), input()\n",
    "\"Dengelidir, bütün karakterler mevcut.\" if set(s1).issubset(set(s2)) else \"Dengeli değildir.\""
   ]
  },
  {
   "cell_type": "code",
   "execution_count": null,
   "id": "c337f0ed",
   "metadata": {},
   "outputs": [],
   "source": [
    "# F3625-Buddy\n",
    "\n",
    "s1 = input(\"bir ifade yazınız :\")\n",
    "s2 = input(\"ikinci ifadeyi yazınız :\")\n",
    "if set(s1).intersection(set(s2)) == set(s1):\n",
    "  print(\"s1 ve s2 dizeleri dengelidir.\")\n",
    "else:\n",
    "  print(\"s1 ve s2 dizeleri dengeli değildir.\")"
   ]
  },
  {
   "cell_type": "code",
   "execution_count": null,
   "id": "e2a9f246",
   "metadata": {},
   "outputs": [],
   "source": [
    "# F3730 Erhan\n",
    "\n",
    "s1 = input(\"karakter gir: \")\n",
    "s2 = input(\"karakter gir: \")\n",
    "if len(set(s2).intersection(set(s1))) == len(set(s1)):\n",
    "  print( \"dengeli dizi\" )\n",
    "else:\n",
    "  print(\"dengeli değil\")"
   ]
  },
  {
   "cell_type": "code",
   "execution_count": null,
   "id": "60b781b7",
   "metadata": {},
   "outputs": [],
   "source": [
    "#F3606 - Bahadır\n",
    "\n",
    "dize1=input(\"Bir dize girin\")\n",
    "dize2=input(\"Bir Dize girin\")\n",
    "for i in dize1:\n",
    "    if i in dize2:\n",
    "        print(\"Dize dengeli\")\n",
    "        break\n",
    "    else:\n",
    "        print(\"Dize dengesiz\")\n",
    "        break"
   ]
  },
  {
   "cell_type": "code",
   "execution_count": 26,
   "id": "1fc9281a",
   "metadata": {},
   "outputs": [
    {
     "name": "stdout",
     "output_type": "stream",
     "text": [
      "cal\n",
      "cla\n",
      "NOT Balanced\n"
     ]
    }
   ],
   "source": [
    "s1 = input()\n",
    "s2 = input()\n",
    "\n",
    "def balance(a ,b):\n",
    "    if a in b:\n",
    "        print(\"Dengelidir, bütün karakterler mevcut.\")\n",
    "    else:\n",
    "        print(\"Dengeli değildir.\")\n",
    "\n",
    "balance(s1, s2)"
   ]
  },
  {
   "cell_type": "code",
   "execution_count": 12,
   "id": "b352adf1",
   "metadata": {},
   "outputs": [
    {
     "name": "stdout",
     "output_type": "stream",
     "text": [
      "l8ı\n",
      "hk\n",
      "NOT Balanced\n"
     ]
    }
   ],
   "source": [
    "s1 = input()\n",
    "s2 = input()\n",
    "\n",
    "def balance(a ,b):\n",
    "    if set(a).issubset(set(b)):\n",
    "        print(\"Dengelidir, bütün karakterler mevcut.\")\n",
    "    else:\n",
    "        print(\"Dengeli değildir.\")\n",
    "\n",
    "balance(s1, s2)"
   ]
  },
  {
   "cell_type": "markdown",
   "id": "wJtLXPmWxfDV",
   "metadata": {
    "id": "wJtLXPmWxfDV"
   },
   "source": [
    "---------------------------------------------------------------------------------------------------"
   ]
  },
  {
   "cell_type": "markdown",
   "id": "139157bc",
   "metadata": {
    "id": "139157bc"
   },
   "source": [
    "4)  set() | for loop | floor division | format() | \"string\"\n",
    "\n",
    "There is a large of socks that must be paired by color. Given an array of integers representing the color of each sock, determine how many pairs of socks with matching colors there are.\n",
    "\n",
    "Example :\n",
    "\n",
    "n = 7\n",
    "\n",
    "ar = [1, 2, 1, 2, 1, 3, 2]\n",
    "\n",
    "--------------------------------------------------------------------------\n",
    "Renge göre eşleştirilmesi gereken çok sayıda çorap var. Her bir çorabın rengini temsil eden bir tamsayı dizisi verildiğinde, eşleşen renklere sahip kaç çift çorap olduğunu belirleyin.\n",
    "\n",
    "Örnek :\n",
    "\n",
    "sayı = 7\n",
    "\n",
    "ar = [1, 2, 1, 2, 1, 3, 2]\n",
    "\n"
   ]
  },
  {
   "cell_type": "code",
   "execution_count": 30,
   "id": "6f69fdbf",
   "metadata": {},
   "outputs": [
    {
     "name": "stdout",
     "output_type": "stream",
     "text": [
      "2 çift çorap eşleşmiştir. 3 tane çorap tektir.\n"
     ]
    }
   ],
   "source": [
    "n = 7\n",
    "corap = [1, 2, 1, 2, 1, 3, 2]\n",
    "cift = 0\n",
    "renkler = set()\n",
    "\n",
    "for i in range(n):\n",
    "    if corap[i] not in renkler:\n",
    "        renkler.add(corap[i])\n",
    "    else:\n",
    "        cift += 1\n",
    "        renkler.remove(corap[i])\n",
    "print(f\"{cift} çift çorap eşleşmiştir. {n-cift*2} tane çorap tektir.\")"
   ]
  },
  {
   "cell_type": "code",
   "execution_count": 31,
   "id": "bfbd083a",
   "metadata": {},
   "outputs": [
    {
     "name": "stdout",
     "output_type": "stream",
     "text": [
      "2 çift çorap eşleşmiştir. 3 tane çorap tektir.\n"
     ]
    }
   ],
   "source": [
    "n = 7\n",
    "corap = [\"mavi\", \"yeşil\", \"mavi\", \"yeşil\", \"sarı\", \"mavi\", \"yeşil\"]\n",
    "cift = 0\n",
    "renkler = set()\n",
    "\n",
    "for i in range(n):\n",
    "    if corap[i] not in renkler:\n",
    "        renkler.add(corap[i])\n",
    "    else:\n",
    "        cift += 1\n",
    "        renkler.remove(corap[i])\n",
    "print(f\"{cift} çift çorap eşleşmiştir. {n-cift*2} tane çorap tektir.\")"
   ]
  },
  {
   "cell_type": "code",
   "execution_count": null,
   "id": "4b056b72",
   "metadata": {},
   "outputs": [],
   "source": [
    "# F3730 Erhan\n",
    "toplam_çift = 0\n",
    "for i in set(ar) :\n",
    "  if ar.count(i) != 0 :\n",
    "    toplam_çift += (ar.count(i) // 2)\n",
    "print(toplam_çift)"
   ]
  },
  {
   "cell_type": "code",
   "execution_count": null,
   "id": "d44e4abe",
   "metadata": {},
   "outputs": [],
   "source": [
    "# F3606 - Bahadır\n",
    "\n",
    "count1=0\n",
    "ar = [1, 2, 1, 2, 1, 3, 2]\n",
    "ar2 = []\n",
    "for i in ar:\n",
    "    if i in ar2:\n",
    "        continue\n",
    "    else:\n",
    "        count2=(ar.count(i)) %2\n",
    "        if ar.count(i)==1:\n",
    "            continue\n",
    "        else:\n",
    "            count1+=count2\n",
    "            ar2.append(i)       \n",
    "print(count1)"
   ]
  },
  {
   "cell_type": "code",
   "execution_count": null,
   "id": "6ee4d2c7",
   "metadata": {},
   "outputs": [],
   "source": [
    "# F3798-Zübeyir\n",
    "\n",
    "ar = [1,2,1,2,1,3,2]\n",
    "lst,duplicate=[],[]\n",
    "for i in ar:\n",
    "  if i not in duplicate:\n",
    "    lst.append(ar.count(i))\n",
    "    duplicate.append(i)\n",
    "sayaç = 0\n",
    "for i in lst:\n",
    "  if i >= 2:\n",
    "    sayaç += i // 2 \n",
    "  else:\n",
    "    continue\n",
    "print(f\"Eşleşen renklere ait {sayaç} çift çorap vardır.\")"
   ]
  },
  {
   "cell_type": "markdown",
   "id": "S-xu1_bNxlQd",
   "metadata": {
    "id": "S-xu1_bNxlQd"
   },
   "source": [
    "----------------------------------------------------------------------------------------------"
   ]
  },
  {
   "cell_type": "markdown",
   "id": "0c7655b9",
   "metadata": {
    "id": "0c7655b9"
   },
   "source": [
    " 5 ) for loop | sum()\n",
    "\n",
    "Abigail and Benson are playing Rock, Paper, Scissors.\n",
    "\n",
    "Each game is represented by an array of length 2, where the first element represents what Abigail played and the second element represents what Benson played.\n",
    "\n",
    "Given a sequence of games, determine who wins the most number of matches. If they tie, output \"Tie\".\n",
    "\n",
    "- R stands for Rock\n",
    "\n",
    "- P stands for Paper\n",
    "\n",
    "- S stands for Scissors\n",
    "----------------------------------------\n",
    "Abigail ve Benson, Taş, kağıt ve makas oynuyorlar.\n",
    "\n",
    "Her oyun 2 uzunluğunda bir diziyle temsil edilir; burada ilk öğe Abigail'in oynadığını ve ikinci öğe Benson'ın oynadığını temsil eder.\n",
    "\n",
    "Bir dizi oyun verildiğinde, en çok maçı kimin kazandığını belirleyin. Bağlanırlarsa, 'Tie' çıktısını alın.\n",
    "\n",
    "- R, Rock anlamına gelir\n",
    "\n",
    "- P, Kağıt anlamına gelir\n",
    "\n",
    "- S, Makas anlamına gelir\n",
    "\n",
    "\n"
   ]
  },
  {
   "cell_type": "code",
   "execution_count": 34,
   "id": "8655e12b",
   "metadata": {},
   "outputs": [],
   "source": [
    "\n",
    "x = [[\"R\", \"P\"], [\"R\", \"S\"], [\"S\", \"P\"]]\n",
    "\n",
    "\n",
    "def calculate_score(alist):\n",
    "    # print(alist)\n",
    "    winList = []\n",
    "\n",
    "    for i in alist:\n",
    "        # print(i)\n",
    "        # print(i[0])\n",
    "        if i[0] == i[-1]:\n",
    "            print('Draw')\n",
    "            winList.append('Draw')\n",
    "        elif (i[0] == 'R') and (i[-1] == 'P'):\n",
    "            print(\"Paper beats Rock\")\n",
    "            winList.append('Right')\n",
    "        elif (i[0] == 'R') and (i[-1] == 'S'):\n",
    "            print(\"Rock beats Scissors\")\n",
    "            winList.append('Left')\n",
    "        elif (i[0] == 'S') and (i[-1] == 'P'):\n",
    "            print(\"Scissors beat Paper\")\n",
    "            winList.append('Left')\n",
    "        elif (i[0] == 'S') and (i[-1] == 'R'):\n",
    "            print(\"Rock beats Scissors\")\n",
    "            winList.append(\"Right\")\n",
    "\n",
    "    print('')\n",
    "    abiwins = winList.count('Left')\n",
    "    benwins = winList.count('Right')\n",
    "    print(abiwins)\n",
    "    print(benwins)\n",
    "\n",
    "    print(winList)\n",
    "\n",
    "\n",
    "# calculate_score([[\"R\", \"R\"], [\"S\", \"S\"]])\n",
    "# calculate_score([[\"R\", \"P\"], [\"R\", \"S\"], [\"S\", \"P\"]])"
   ]
  },
  {
   "cell_type": "code",
   "execution_count": 35,
   "id": "a5a8f543",
   "metadata": {},
   "outputs": [
    {
     "name": "stdout",
     "output_type": "stream",
     "text": [
      "Paper beats Rock\n",
      "Rock beats Scissors\n",
      "Scissors beat Paper\n",
      "\n",
      "2\n",
      "1\n",
      "['Right', 'Left', 'Left']\n"
     ]
    }
   ],
   "source": [
    "calculate_score([[\"R\", \"P\"], [\"R\", \"S\"], [\"S\", \"P\"]])"
   ]
  },
  {
   "cell_type": "markdown",
   "id": "eZ-vu-jPxuNp",
   "metadata": {
    "id": "eZ-vu-jPxuNp"
   },
   "source": [
    "------------------------------------------------------------------------------------------------------"
   ]
  },
  {
   "cell_type": "markdown",
   "id": "2a363f9a",
   "metadata": {
    "id": "2a363f9a"
   },
   "source": [
    "6)Create a function that returns the sum of missing numbers from the given list.\n",
    "\n",
    "Examples\n",
    "\n",
    "sum_missing_numbers([4, 3, 8, 1, 2]) ➞ 18\n",
    "\n",
    "- 5 + 6 + 7 = 18\n",
    "\n",
    "sum_missing_numbers([17, 16, 15, 10, 11, 12]) ➞ 27\n",
    "\n",
    "- 13 + 14 = 27\n",
    "\n",
    "sum_missing_numbers([1, 2, 3, 4, 5]) ➞ 0\n",
    "\n",
    "- No Missing Numbers (i.e. all numbers in [1, 5] are present in the list)\n",
    "-----------------------------------------------------------------------\n",
    "Verilen listedeki eksik sayıların toplamını döndüren bir işlev oluşturun.\n",
    "Örnekler\n",
    "\n",
    "sum_missing_numbers([4, 3, 8, 1, 2]) ➞ 18\n",
    "\n",
    "- 5 + 6 + 7 = 18\n",
    "\n",
    "sum_missing_numbers([17, 16, 15, 10, 11, 12]) ➞ 27\n",
    "\n",
    "- 13 + 14 = 27\n",
    "\n",
    "sum_missing_numbers([1, 2, 3, 4, 5]) ➞ 0\n",
    "\n",
    "- Eksik Numara Yok (yani [1, 5] içindeki tüm numaralar listede mevcut)"
   ]
  },
  {
   "cell_type": "code",
   "execution_count": 46,
   "id": "77ee55e4",
   "metadata": {},
   "outputs": [
    {
     "name": "stdout",
     "output_type": "stream",
     "text": [
      "18\n"
     ]
    }
   ],
   "source": [
    "# sum_missing_numbers([17, 16, 15, 10, 11, 12]) ➞ 27\n",
    "\n",
    "alist = [4, 3, 8, 1, 2]\n",
    "blist = []\n",
    "mis_sum = 0\n",
    "for i in range(min(alist), max(alist)+1):\n",
    "    blist.append(i)\n",
    "for ii in blist:\n",
    "    if ii not in alist:\n",
    "        mis_sum += ii\n",
    "print(mis_sum)"
   ]
  },
  {
   "cell_type": "code",
   "execution_count": 72,
   "id": "5f4f6d3a",
   "metadata": {},
   "outputs": [
    {
     "data": {
      "text/plain": [
       "27"
      ]
     },
     "execution_count": 72,
     "metadata": {},
     "output_type": "execute_result"
    }
   ],
   "source": [
    "liste = [17, 16, 15, 10, 11, 12]\n",
    "sum([n for n in [i for i in range(min(liste), max(liste)+1)] if n not in liste])"
   ]
  },
  {
   "cell_type": "code",
   "execution_count": 11,
   "id": "2a3fc248",
   "metadata": {},
   "outputs": [
    {
     "data": {
      "text/plain": [
       "27"
      ]
     },
     "execution_count": 11,
     "metadata": {},
     "output_type": "execute_result"
    }
   ],
   "source": [
    "# F3511- Hasan\n",
    "liste = [17, 16, 15, 10, 11, 12]\n",
    "sum_missing = sum(set(range(sorted(liste)[0], sorted(liste)[-1])) - set(sorted(liste)))\n",
    "sum_missing"
   ]
  },
  {
   "cell_type": "code",
   "execution_count": 10,
   "id": "2fcf5c54",
   "metadata": {},
   "outputs": [
    {
     "name": "stdout",
     "output_type": "stream",
     "text": [
      "27\n",
      "[13, 14]\n"
     ]
    }
   ],
   "source": [
    "# F3730 Erhan\n",
    "liste = [17, 16, 15, 10, 11, 12]\n",
    "toplam = 0\n",
    "eksik = []\n",
    "for i in range(min(liste), max(liste)):\n",
    "  if len(set(liste).intersection({i})) == 0 :\n",
    "    toplam += i\n",
    "    eksik.append(i)\n",
    "    \n",
    "print(toplam)\n",
    "print(eksik)"
   ]
  },
  {
   "cell_type": "code",
   "execution_count": 13,
   "id": "cc24d953",
   "metadata": {},
   "outputs": [
    {
     "name": "stdout",
     "output_type": "stream",
     "text": [
      "27\n"
     ]
    }
   ],
   "source": [
    "# F3800-Rose\n",
    "a=[17, 16, 15, 10, 11, 12]\n",
    "b=set(range(min(a), max(a)+1))\n",
    "a=set(a)\n",
    "print(sum(b-a))"
   ]
  },
  {
   "cell_type": "code",
   "execution_count": null,
   "id": "d73e87cc",
   "metadata": {},
   "outputs": [],
   "source": [
    "# F3703-Léo\n",
    "givenlist = [1,3,5,6,7,9,11,14,15,16,17]\n",
    "a = min(givenlist)\n",
    "b = max(givenlist)\n",
    "mylist = range(a,b)\n",
    "missing_numbers = set(mylist) - set(givenlist)\n",
    "print(\"eksik sayılar:\", missing_numbers, \"toplamı:\",sum(missing_numbers))"
   ]
  },
  {
   "cell_type": "markdown",
   "id": "jtWfCv0Kxz9a",
   "metadata": {
    "id": "jtWfCv0Kxz9a"
   },
   "source": [
    "---------------------------------------------------------------------------------------"
   ]
  },
  {
   "cell_type": "markdown",
   "id": "956872ad",
   "metadata": {
    "id": "956872ad"
   },
   "source": [
    "7) Bir pisagor üçgeni oluşturan 1'den 100'e kadar sayıları ekrana yazdıran bir program yazın. Sınav için.: \n",
    "3 4 5"
   ]
  },
  {
   "cell_type": "code",
   "execution_count": 73,
   "id": "63cc6e39",
   "metadata": {
    "collapsed": true
   },
   "outputs": [
    {
     "data": {
      "text/plain": [
       "[(3, 4, 5),\n",
       " (4, 3, 5),\n",
       " (5, 12, 13),\n",
       " (6, 8, 10),\n",
       " (7, 24, 25),\n",
       " (8, 6, 10),\n",
       " (8, 15, 17),\n",
       " (9, 12, 15),\n",
       " (9, 40, 41),\n",
       " (10, 24, 26),\n",
       " (11, 60, 61),\n",
       " (12, 5, 13),\n",
       " (12, 9, 15),\n",
       " (12, 16, 20),\n",
       " (12, 35, 37),\n",
       " (13, 84, 85),\n",
       " (14, 48, 50),\n",
       " (15, 8, 17),\n",
       " (15, 20, 25),\n",
       " (15, 36, 39),\n",
       " (16, 12, 20),\n",
       " (16, 30, 34),\n",
       " (16, 63, 65),\n",
       " (18, 24, 30),\n",
       " (18, 80, 82),\n",
       " (20, 15, 25),\n",
       " (20, 21, 29),\n",
       " (20, 48, 52),\n",
       " (21, 20, 29),\n",
       " (21, 28, 35),\n",
       " (21, 72, 75),\n",
       " (24, 7, 25),\n",
       " (24, 10, 26),\n",
       " (24, 18, 30),\n",
       " (24, 32, 40),\n",
       " (24, 45, 51),\n",
       " (24, 70, 74),\n",
       " (25, 60, 65),\n",
       " (27, 36, 45),\n",
       " (28, 21, 35),\n",
       " (28, 45, 53),\n",
       " (28, 96, 100),\n",
       " (30, 16, 34),\n",
       " (30, 40, 50),\n",
       " (30, 72, 78),\n",
       " (32, 24, 40),\n",
       " (32, 60, 68),\n",
       " (33, 44, 55),\n",
       " (33, 56, 65),\n",
       " (35, 12, 37),\n",
       " (35, 84, 91),\n",
       " (36, 15, 39),\n",
       " (36, 27, 45),\n",
       " (36, 48, 60),\n",
       " (36, 77, 85),\n",
       " (39, 52, 65),\n",
       " (39, 80, 89),\n",
       " (40, 9, 41),\n",
       " (40, 30, 50),\n",
       " (40, 42, 58),\n",
       " (40, 75, 85),\n",
       " (42, 40, 58),\n",
       " (42, 56, 70),\n",
       " (44, 33, 55),\n",
       " (45, 24, 51),\n",
       " (45, 28, 53),\n",
       " (45, 60, 75),\n",
       " (48, 14, 50),\n",
       " (48, 20, 52),\n",
       " (48, 36, 60),\n",
       " (48, 55, 73),\n",
       " (48, 64, 80),\n",
       " (51, 68, 85),\n",
       " (52, 39, 65),\n",
       " (54, 72, 90),\n",
       " (55, 48, 73),\n",
       " (56, 33, 65),\n",
       " (56, 42, 70),\n",
       " (57, 76, 95),\n",
       " (60, 11, 61),\n",
       " (60, 25, 65),\n",
       " (60, 32, 68),\n",
       " (60, 45, 75),\n",
       " (60, 63, 87),\n",
       " (60, 80, 100),\n",
       " (63, 16, 65),\n",
       " (63, 60, 87),\n",
       " (64, 48, 80),\n",
       " (65, 72, 97),\n",
       " (68, 51, 85),\n",
       " (70, 24, 74),\n",
       " (72, 21, 75),\n",
       " (72, 30, 78),\n",
       " (72, 54, 90),\n",
       " (72, 65, 97),\n",
       " (75, 40, 85),\n",
       " (76, 57, 95),\n",
       " (77, 36, 85),\n",
       " (80, 18, 82),\n",
       " (80, 39, 89),\n",
       " (80, 60, 100),\n",
       " (84, 13, 85),\n",
       " (84, 35, 91),\n",
       " (96, 28, 100)]"
      ]
     },
     "execution_count": 73,
     "metadata": {},
     "output_type": "execute_result"
    }
   ],
   "source": [
    "[(a, b, c)  for a in range(1,101) for b in range(1,101) for c in range(1,101) if (a**2 + b**2 == c**2)]"
   ]
  },
  {
   "cell_type": "code",
   "execution_count": null,
   "id": "16698a8c",
   "metadata": {},
   "outputs": [],
   "source": []
  },
  {
   "cell_type": "code",
   "execution_count": 44,
   "id": "443c68ed",
   "metadata": {
    "collapsed": true
   },
   "outputs": [
    {
     "data": {
      "text/plain": [
       "[(3, 4, 5),\n",
       " (4, 3, 5),\n",
       " (5, 12, 13),\n",
       " (6, 8, 10),\n",
       " (7, 24, 25),\n",
       " (8, 6, 10),\n",
       " (8, 15, 17),\n",
       " (9, 12, 15),\n",
       " (9, 40, 41),\n",
       " (10, 24, 26),\n",
       " (11, 60, 61),\n",
       " (12, 5, 13),\n",
       " (12, 9, 15),\n",
       " (12, 16, 20),\n",
       " (12, 35, 37),\n",
       " (13, 84, 85),\n",
       " (14, 48, 50),\n",
       " (15, 8, 17),\n",
       " (15, 20, 25),\n",
       " (15, 36, 39),\n",
       " (16, 12, 20),\n",
       " (16, 30, 34),\n",
       " (16, 63, 65),\n",
       " (18, 24, 30),\n",
       " (18, 80, 82),\n",
       " (20, 15, 25),\n",
       " (20, 21, 29),\n",
       " (20, 48, 52),\n",
       " (21, 20, 29),\n",
       " (21, 28, 35),\n",
       " (21, 72, 75),\n",
       " (24, 7, 25),\n",
       " (24, 10, 26),\n",
       " (24, 18, 30),\n",
       " (24, 32, 40),\n",
       " (24, 45, 51),\n",
       " (24, 70, 74),\n",
       " (25, 60, 65),\n",
       " (27, 36, 45),\n",
       " (28, 21, 35),\n",
       " (28, 45, 53),\n",
       " (28, 96, 100),\n",
       " (30, 16, 34),\n",
       " (30, 40, 50),\n",
       " (30, 72, 78),\n",
       " (32, 24, 40),\n",
       " (32, 60, 68),\n",
       " (33, 44, 55),\n",
       " (33, 56, 65),\n",
       " (35, 12, 37),\n",
       " (35, 84, 91),\n",
       " (36, 15, 39),\n",
       " (36, 27, 45),\n",
       " (36, 48, 60),\n",
       " (36, 77, 85),\n",
       " (39, 52, 65),\n",
       " (39, 80, 89),\n",
       " (40, 9, 41),\n",
       " (40, 30, 50),\n",
       " (40, 42, 58),\n",
       " (40, 75, 85),\n",
       " (42, 40, 58),\n",
       " (42, 56, 70),\n",
       " (44, 33, 55),\n",
       " (45, 24, 51),\n",
       " (45, 28, 53),\n",
       " (45, 60, 75),\n",
       " (48, 14, 50),\n",
       " (48, 20, 52),\n",
       " (48, 36, 60),\n",
       " (48, 55, 73),\n",
       " (48, 64, 80),\n",
       " (51, 68, 85),\n",
       " (52, 39, 65),\n",
       " (54, 72, 90),\n",
       " (55, 48, 73),\n",
       " (56, 33, 65),\n",
       " (56, 42, 70),\n",
       " (57, 76, 95),\n",
       " (60, 11, 61),\n",
       " (60, 25, 65),\n",
       " (60, 32, 68),\n",
       " (60, 45, 75),\n",
       " (60, 63, 87),\n",
       " (60, 80, 100),\n",
       " (63, 16, 65),\n",
       " (63, 60, 87),\n",
       " (64, 48, 80),\n",
       " (65, 72, 97),\n",
       " (68, 51, 85),\n",
       " (70, 24, 74),\n",
       " (72, 21, 75),\n",
       " (72, 30, 78),\n",
       " (72, 54, 90),\n",
       " (72, 65, 97),\n",
       " (75, 40, 85),\n",
       " (76, 57, 95),\n",
       " (77, 36, 85),\n",
       " (80, 18, 82),\n",
       " (80, 39, 89),\n",
       " (80, 60, 100),\n",
       " (84, 13, 85),\n",
       " (84, 35, 91),\n",
       " (96, 28, 100)]"
      ]
     },
     "execution_count": 44,
     "metadata": {},
     "output_type": "execute_result"
    }
   ],
   "source": [
    "sayılar = [*range(1,101)]\n",
    "[(a, b, c)  for a in sayılar for b in sayılar for c in sayılar if (a**2 + b**2 == c**2)]"
   ]
  },
  {
   "cell_type": "code",
   "execution_count": 55,
   "id": "f087491d",
   "metadata": {
    "collapsed": true
   },
   "outputs": [
    {
     "name": "stdout",
     "output_type": "stream",
     "text": [
      "3 4 5\n",
      "4 3 5\n",
      "5 12 13\n",
      "6 8 10\n",
      "7 24 25\n",
      "8 6 10\n",
      "8 15 17\n",
      "9 12 15\n",
      "9 40 41\n",
      "10 24 26\n",
      "11 60 61\n",
      "12 5 13\n",
      "12 9 15\n",
      "12 16 20\n",
      "12 35 37\n",
      "13 84 85\n",
      "14 48 50\n",
      "15 8 17\n",
      "15 20 25\n",
      "15 36 39\n",
      "16 12 20\n",
      "16 30 34\n",
      "16 63 65\n",
      "18 24 30\n",
      "18 80 82\n",
      "20 15 25\n",
      "20 21 29\n",
      "20 48 52\n",
      "21 20 29\n",
      "21 28 35\n",
      "21 72 75\n",
      "24 7 25\n",
      "24 10 26\n",
      "24 18 30\n",
      "24 32 40\n",
      "24 45 51\n",
      "24 70 74\n",
      "25 60 65\n",
      "27 36 45\n",
      "28 21 35\n",
      "28 45 53\n",
      "28 96 100\n",
      "30 16 34\n",
      "30 40 50\n",
      "30 72 78\n",
      "32 24 40\n",
      "32 60 68\n",
      "33 44 55\n",
      "33 56 65\n",
      "35 12 37\n",
      "35 84 91\n",
      "36 15 39\n",
      "36 27 45\n",
      "36 48 60\n",
      "36 77 85\n",
      "39 52 65\n",
      "39 80 89\n",
      "40 9 41\n",
      "40 30 50\n",
      "40 42 58\n",
      "40 75 85\n",
      "42 40 58\n",
      "42 56 70\n",
      "44 33 55\n",
      "45 24 51\n",
      "45 28 53\n",
      "45 60 75\n",
      "48 14 50\n",
      "48 20 52\n",
      "48 36 60\n",
      "48 55 73\n",
      "48 64 80\n",
      "51 68 85\n",
      "52 39 65\n",
      "54 72 90\n",
      "55 48 73\n",
      "56 33 65\n",
      "56 42 70\n",
      "57 76 95\n",
      "60 11 61\n",
      "60 25 65\n",
      "60 32 68\n",
      "60 45 75\n",
      "60 63 87\n",
      "60 80 100\n",
      "63 16 65\n",
      "63 60 87\n",
      "64 48 80\n",
      "65 72 97\n",
      "68 51 85\n",
      "70 24 74\n",
      "72 21 75\n",
      "72 30 78\n",
      "72 54 90\n",
      "72 65 97\n",
      "75 40 85\n",
      "76 57 95\n",
      "77 36 85\n",
      "80 18 82\n",
      "80 39 89\n",
      "80 60 100\n",
      "84 13 85\n",
      "84 35 91\n",
      "96 28 100\n"
     ]
    }
   ],
   "source": [
    "sayılar = [*range(1,101)]\n",
    "for a in sayılar:\n",
    "    for b in sayılar:\n",
    "        for c in sayılar:\n",
    "            if a**2 + b**2 == c**2:\n",
    "                #sayılar.remove(b) # tekrarları önlemek için\n",
    "                print(a, b, c)\n",
    "    "
   ]
  },
  {
   "cell_type": "markdown",
   "id": "E-X2f0WQx18u",
   "metadata": {
    "id": "E-X2f0WQx18u"
   },
   "source": [
    "--------------------------------------------------------------------------------------"
   ]
  },
  {
   "cell_type": "markdown",
   "id": "e6e7f562",
   "metadata": {
    "id": "e6e7f562"
   },
   "source": [
    "8) input() | len() | set()\n",
    "\n",
    "Write a Python function that takes a sequence of numbers and determines whether all the numbers are different from each other.\n",
    "\n",
    "Bir sayı dizisi alan ve tüm sayıların birbirinden farklı olup olmadığını belirleyen bir Python fonksiyonu yazın."
   ]
  },
  {
   "cell_type": "code",
   "execution_count": 14,
   "id": "b8310fc3",
   "metadata": {},
   "outputs": [
    {
     "name": "stdout",
     "output_type": "stream",
     "text": [
      "Bir sayı giriniz>>> : 123\n",
      "Bir sayı giriniz>>> : 456\n"
     ]
    },
    {
     "data": {
      "text/plain": [
       "('farklı rakam var --->', {'1', '2', '3'})"
      ]
     },
     "execution_count": 14,
     "metadata": {},
     "output_type": "execute_result"
    }
   ],
   "source": [
    "sayı1, sayı2 = input(\"Bir sayı giriniz>>> : \"), input(\"Bir sayı giriniz>>> : \")\n",
    "\"farklı rakam var --->\", set(sayı1).difference(sayı2) if set(sayı1).difference(sayı2) else \"farklı rakam yok\""
   ]
  },
  {
   "cell_type": "code",
   "execution_count": 70,
   "id": "b7f18439",
   "metadata": {},
   "outputs": [
    {
     "name": "stdout",
     "output_type": "stream",
     "text": [
      "Bir sayı giriniz>>> : 123\n",
      "Bir sayı giriniz>>> : 452\n",
      "farklı rakam var ---> {'3', '1'}\n"
     ]
    }
   ],
   "source": [
    "sayı1 = input(\"Bir sayı giriniz>>> : \")\n",
    "sayı2 = input(\"Bir sayı giriniz>>> : \")\n",
    "if set(sayı1).difference(sayı2):\n",
    "    print(\"farklı rakam var --->\", set(sayı1).difference(sayı2))\n",
    "else:\n",
    "    print(\"farklı rakam yok\")"
   ]
  },
  {
   "cell_type": "markdown",
   "id": "yQ-yBTUSx4OR",
   "metadata": {
    "id": "yQ-yBTUSx4OR"
   },
   "source": [
    "-----------------------------------------------------------------------------------------"
   ]
  },
  {
   "cell_type": "markdown",
   "id": "cf4d290d",
   "metadata": {
    "id": "cf4d290d"
   },
   "source": [
    "9)for loop | nested for loop | range() |?str() | int()\n",
    "\n",
    " - How many of the 3-digit numbers are equal to the sum of the cubes of their digits?\n",
    "\n",
    " - 3 basamaklı sayıların kaç tanesi rakamlarının küplerinin toplamına eşittir?"
   ]
  },
  {
   "cell_type": "code",
   "execution_count": 23,
   "id": "5e3b8b88",
   "metadata": {},
   "outputs": [
    {
     "data": {
      "text/plain": [
       "4"
      ]
     },
     "execution_count": 23,
     "metadata": {},
     "output_type": "execute_result"
    }
   ],
   "source": [
    "len([i for i in range(100,1000) if i == (int(str(i)[0])**3 + int(str(i)[1])**3 + int(str(i)[2])**3) ])"
   ]
  },
  {
   "cell_type": "code",
   "execution_count": 17,
   "id": "cb144c64",
   "metadata": {},
   "outputs": [
    {
     "name": "stdout",
     "output_type": "stream",
     "text": [
      "153\n",
      "370\n",
      "371\n",
      "407\n",
      "4 tane 3 basamaklı sayının rakamlarının küplerinin toplamı kendisine eşittir.\n"
     ]
    }
   ],
   "source": [
    "count = 0\n",
    "for i in range(100,1000):\n",
    "    if i == (int(str(i)[0])**3 + int(str(i)[1])**3 + int(str(i)[2])**3):\n",
    "        count +=1\n",
    "        print(i)\n",
    "print(count, \"tane 3 basamaklı sayının rakamlarının küplerinin toplamı kendisine eşittir.\")"
   ]
  },
  {
   "cell_type": "code",
   "execution_count": 16,
   "id": "1149bde6",
   "metadata": {},
   "outputs": [
    {
     "name": "stdout",
     "output_type": "stream",
     "text": [
      "['153', '370', '371', '407']\n"
     ]
    }
   ],
   "source": [
    "# F3703-Léo\n",
    "sayılar = range(100, 1000)\n",
    "sayılar = list(sayılar)\n",
    "\n",
    "liste =[]\n",
    "\n",
    "for i in sayılar:\n",
    "  i = str(i)\n",
    "  a = i[0]\n",
    "  b = i[1]\n",
    "  c = i[2]\n",
    "  \n",
    "  if (int(a) **3 ) + (int(b)**3) + (int(c)**3) == (100 * int(a)) + (10 * int(b)) + (1 * int(c)):\n",
    "    liste.append(i)\n",
    "  \n",
    "print(liste)"
   ]
  },
  {
   "cell_type": "code",
   "execution_count": null,
   "id": "b5c61918",
   "metadata": {},
   "outputs": [],
   "source": [
    "x=int(input(\"Yüzler basamağı : ----- :\"))     # range fonksiyonu olmadan tekil test\n",
    "y=int(input(\"Onlar basamağı : ----- :\"))\n",
    "z=int(input(\"Birler basamağı : ----- :\"))\n",
    "a = (x*100) + (y*10) + (z)\n",
    "if a == x**3+y**3+z**3:\n",
    "    print(\"Armstrong\")\n",
    "else:\n",
    "    print(\"Tekrar Deneyin\")"
   ]
  },
  {
   "cell_type": "markdown",
   "id": "qQ1yB7EKx6Fu",
   "metadata": {
    "id": "qQ1yB7EKx6Fu"
   },
   "source": [
    "--------------------------------------------------------------------------------"
   ]
  },
  {
   "cell_type": "markdown",
   "id": "ec3daedc",
   "metadata": {
    "id": "ec3daedc"
   },
   "source": [
    "10 )comprehension | nested for loop | for loop | join()\n",
    "\n",
    "Write a program that square every digit of a number and concatenate them.\n",
    "For example, if we run 9119 through the function, 811181 will come out, because 9 ** 2 = 81 and 1 ** 2 = 1.\n",
    "\n",
    "Bir sayının her basamağını karesini alan ve bunları birleştiren bir program yazın. Örneğin 9119'u fonksiyon üzerinden çalıştırırsak sonuç 811181 çıkacaktır, çünkü 9 ** 2 = 81 ve 1 ** 2 = 1'dir.\n",
    "9119-->811181   1923-->18149   4285-->1646425"
   ]
  },
  {
   "cell_type": "code",
   "execution_count": 82,
   "id": "4ff04dd0",
   "metadata": {},
   "outputs": [
    {
     "name": "stdout",
     "output_type": "stream",
     "text": [
      "Bir sayı giriniz >> : 9119\n"
     ]
    },
    {
     "data": {
      "text/plain": [
       "811181"
      ]
     },
     "execution_count": 82,
     "metadata": {},
     "output_type": "execute_result"
    }
   ],
   "source": [
    "sayı = input(\"Bir sayı giriniz >> : \")\n",
    "yeni_sayı = \"\"\n",
    "for i in sayı:\n",
    "    yeni_sayı += str(int(i)**2)\n",
    "int(yeni_sayı)"
   ]
  },
  {
   "cell_type": "code",
   "execution_count": 83,
   "id": "e609af29",
   "metadata": {},
   "outputs": [
    {
     "name": "stdout",
     "output_type": "stream",
     "text": [
      "Bir sayı giriniz >> : 9119\n",
      "811181\n"
     ]
    }
   ],
   "source": [
    "sayı = input(\"Bir sayı giriniz >> : \")\n",
    "a = [str(int(i)**2) for i in sayı]\n",
    "print(int(\"\".join(a)))"
   ]
  },
  {
   "cell_type": "code",
   "execution_count": 84,
   "id": "7718aad7",
   "metadata": {},
   "outputs": [
    {
     "name": "stdout",
     "output_type": "stream",
     "text": [
      "['81', '1', '1', '81']\n"
     ]
    }
   ],
   "source": [
    "print([\"\".join(s) for s in [str(int(i)**2) for i in sayı]])"
   ]
  },
  {
   "cell_type": "code",
   "execution_count": 85,
   "id": "5d2b0180",
   "metadata": {},
   "outputs": [
    {
     "name": "stdout",
     "output_type": "stream",
     "text": [
      "Bir sayı giriniz >> : 9119\n",
      "811181\n"
     ]
    }
   ],
   "source": [
    "sayı = input(\"Bir sayı giriniz >> : \")\n",
    "output = \"\"\n",
    "for s in [str(int(i)**2) for i in sayı]:\n",
    "    output += s\n",
    "print(output)    "
   ]
  },
  {
   "cell_type": "code",
   "execution_count": null,
   "id": "e33cb32c",
   "metadata": {},
   "outputs": [],
   "source": [
    "# F3730 Erhan\n",
    "\n",
    "sayı = input(\"bir sayı gir: \")\n",
    "sonuç = \"\"\n",
    "for i in sayı :\n",
    "  sonuç += str(int(i) ** 2)\n",
    "print(f\"sonuç : {sonuç}\")"
   ]
  },
  {
   "cell_type": "code",
   "execution_count": null,
   "id": "5c4754f0",
   "metadata": {},
   "outputs": [],
   "source": [
    "# F3703-Léo\n",
    "\n",
    "sayı = input(\"bir sayı girin: \")\n",
    "basamak = len(sayı)\n",
    "\n",
    "liste = \"\"\n",
    "sayı = int(sayı)\n",
    "değer = sayı\n",
    "\n",
    "while değer > 0:\n",
    "  bölüm = değer // (10 ** (basamak-1))\n",
    "  x = bölüm ** 2\n",
    "  x = str(x)\n",
    "  liste += x  \n",
    "  değer= değer % (10 ** (basamak-1))\n",
    "  basamak -= 1\n",
    "  if basamak == 0:   \n",
    "    print(liste)"
   ]
  },
  {
   "cell_type": "code",
   "execution_count": null,
   "id": "71de036a",
   "metadata": {},
   "outputs": [],
   "source": [
    "# F3720- Wayne\n",
    "\n",
    "ans = []\n",
    "a = \"\"\n",
    "get_1 = \"\" \n",
    "while get_1.isdigit() == False :\n",
    "  get_1 = input(\"Enter a number: \")\n",
    "  if get_1.isdigit() == True :\n",
    "    for i in list(get_1):\n",
    "      ans.append(str(int(i)**2))\n",
    "print(a.join(ans))"
   ]
  },
  {
   "cell_type": "code",
   "execution_count": null,
   "id": "6f24052b",
   "metadata": {},
   "outputs": [],
   "source": [
    "# F3798-Zübeyir\n",
    "\n",
    "num = input('Enter a Number: ')\n",
    "res = [int(x)**2 for x in num]\n",
    "y = ''\n",
    "for i in res:\n",
    "    y = y + str(i) \n",
    "print(int(y))"
   ]
  },
  {
   "cell_type": "code",
   "execution_count": null,
   "id": "d2c38391",
   "metadata": {},
   "outputs": [],
   "source": []
  },
  {
   "cell_type": "code",
   "execution_count": null,
   "id": "28dd7c37",
   "metadata": {},
   "outputs": [],
   "source": []
  }
 ],
 "metadata": {
  "colab": {
   "collapsed_sections": [],
   "name": "10.06.2022.ipynb",
   "provenance": []
  },
  "kernelspec": {
   "display_name": "Python 3 (ipykernel)",
   "language": "python",
   "name": "python3"
  },
  "language_info": {
   "codemirror_mode": {
    "name": "ipython",
    "version": 3
   },
   "file_extension": ".py",
   "mimetype": "text/x-python",
   "name": "python",
   "nbconvert_exporter": "python",
   "pygments_lexer": "ipython3",
   "version": "3.9.7"
  }
 },
 "nbformat": 4,
 "nbformat_minor": 5
}
