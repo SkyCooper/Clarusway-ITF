{
 "cells": [
  {
   "cell_type": "markdown",
   "id": "e2e275d6",
   "metadata": {},
   "source": [
    "# soru 1"
   ]
  },
  {
   "cell_type": "raw",
   "id": "8049887d",
   "metadata": {},
   "source": [
    "Bir dize kabul eden ve rakam ve harf sayısını hesaplayan bir Python programı yazın. \n",
    "Örnek Veri : Python 3.2\n",
    "Beklenen Çıktı :\n",
    "Harfler 6\n",
    "Rakam 2"
   ]
  },
  {
   "cell_type": "code",
   "execution_count": 27,
   "id": "6bc124b4",
   "metadata": {},
   "outputs": [],
   "source": [
    "import string"
   ]
  },
  {
   "cell_type": "code",
   "execution_count": 28,
   "id": "7dd626f3",
   "metadata": {},
   "outputs": [
    {
     "name": "stdout",
     "output_type": "stream",
     "text": [
      "['Formatter', 'Template', '_ChainMap', '__all__', '__builtins__', '__cached__', '__doc__', '__file__', '__loader__', '__name__', '__package__', '__spec__', '_re', '_sentinel_dict', '_string', 'ascii_letters', 'ascii_lowercase', 'ascii_uppercase', 'capwords', 'digits', 'hexdigits', 'octdigits', 'printable', 'punctuation', 'whitespace']\n"
     ]
    }
   ],
   "source": [
    "print(dir(string))"
   ]
  },
  {
   "cell_type": "code",
   "execution_count": 33,
   "id": "5b6d1e4d",
   "metadata": {},
   "outputs": [],
   "source": [
    "harfler = string.ascii_letters"
   ]
  },
  {
   "cell_type": "code",
   "execution_count": 34,
   "id": "ba6d6620",
   "metadata": {},
   "outputs": [],
   "source": [
    "rakamlar = string.digits"
   ]
  },
  {
   "cell_type": "code",
   "execution_count": 35,
   "id": "3454bc24",
   "metadata": {},
   "outputs": [
    {
     "name": "stdout",
     "output_type": "stream",
     "text": [
      "Enter text here>>> :Python 3.2\n",
      "rakam :  2 harfler : 6\n"
     ]
    }
   ],
   "source": [
    "# Berlin_mentor\n",
    "\n",
    "text = input(\"Enter text here>>> :\")\n",
    "harf, rakam = 0, 0\n",
    "for i in text:\n",
    "    if i in harfler:\n",
    "        harf += 1\n",
    "    elif i in rakamlar:\n",
    "        rakam += 1\n",
    "print(\"rakam : \", rakam, \"harfler :\", harf)"
   ]
  },
  {
   "cell_type": "code",
   "execution_count": null,
   "id": "5b1efaa8",
   "metadata": {},
   "outputs": [],
   "source": []
  },
  {
   "cell_type": "code",
   "execution_count": null,
   "id": "3cd05a2a",
   "metadata": {},
   "outputs": [],
   "source": []
  },
  {
   "cell_type": "code",
   "execution_count": 9,
   "id": "58a4b893",
   "metadata": {},
   "outputs": [
    {
     "name": "stdout",
     "output_type": "stream",
     "text": [
      "Bir dize girişi yapın : Qwe 123.,\n",
      "Harfler 3, Rakamlar 3\n",
      "3 3 1 2\n"
     ]
    }
   ],
   "source": [
    "dize = input(\"Bir dize girişi yapın : \")\n",
    "\n",
    "harf = 0\n",
    "rakam = 0\n",
    "space = 0\n",
    "other = 0\n",
    "for i in dize:\n",
    "    if i.isspace():\n",
    "        space +=1\n",
    "    elif i.isdigit():\n",
    "        rakam +=1\n",
    "    elif i.isalpha():\n",
    "        harf += 1\n",
    "    else:\n",
    "        other +=1\n",
    "print(f\"Harfler {harf}, Rakamlar {rakam}, Boşluk {space}, Diğer karakterler {other}\")"
   ]
  },
  {
   "cell_type": "code",
   "execution_count": 23,
   "id": "8e780996",
   "metadata": {},
   "outputs": [
    {
     "name": "stdout",
     "output_type": "stream",
     "text": [
      "Bir dize girişi yapın : Qwe 123,.\n",
      "Harfler 3, Rakamlar 3\n",
      "3 3 1 2\n"
     ]
    }
   ],
   "source": [
    "dize = input(\"Bir dize girişi yapın : \")\n",
    "\n",
    "harf = 0\n",
    "rakam = 0\n",
    "space = 0\n",
    "other = 0\n",
    "for i in dize:\n",
    "    if ord(i)>=97 and ord(i)<=122:\n",
    "        harf += 1\n",
    "    elif ord(i)>=65 and ord(i)<=90:\n",
    "        harf += 1\n",
    "    elif ord(i)>=48 and ord(i)<=57:\n",
    "        rakam +=1\n",
    "    elif ord(i)==32:\n",
    "        space +=1\n",
    "    else:\n",
    "        other +=1\n",
    "print(f\"Harfler {harf}, Rakamlar {rakam}, Boşluk {space}, Diğer karakterler {other}\")"
   ]
  },
  {
   "cell_type": "code",
   "execution_count": 26,
   "id": "343d4e33",
   "metadata": {},
   "outputs": [
    {
     "name": "stdout",
     "output_type": "stream",
     "text": [
      "Bir dize girişi yapın : QWE  yu  123  .,\n",
      "Harfler 5, Rakamlar 3, Boşluk 6, diğer karakterler 2\n"
     ]
    }
   ],
   "source": [
    "dize = input(\"Bir dize girişi yapın : \")\n",
    "\n",
    "harf = 0\n",
    "rakam = 0\n",
    "space = 0\n",
    "other = 0\n",
    "for i in dize:\n",
    "    if ord(i) in range(97,123):\n",
    "        harf += 1\n",
    "    elif ord(i) in range(65,91):\n",
    "        harf += 1\n",
    "    elif ord(i) in range(48,57):\n",
    "        rakam +=1\n",
    "    elif ord(i)==32:\n",
    "        space +=1\n",
    "    else:\n",
    "        other +=1\n",
    "print(f\"Harfler {harf}, Rakamlar {rakam}, Boşluk {space}, Diğer karakterler {other}\")"
   ]
  },
  {
   "cell_type": "code",
   "execution_count": 15,
   "id": "163ee985",
   "metadata": {},
   "outputs": [
    {
     "data": {
      "text/plain": [
       "True"
      ]
     },
     "execution_count": 15,
     "metadata": {},
     "output_type": "execute_result"
    }
   ],
   "source": [
    "ord(\"F\")>=65 and ord(\"F\")<=90"
   ]
  },
  {
   "cell_type": "code",
   "execution_count": 8,
   "id": "f238045b",
   "metadata": {},
   "outputs": [
    {
     "data": {
      "text/plain": [
       "48"
      ]
     },
     "execution_count": 8,
     "metadata": {},
     "output_type": "execute_result"
    }
   ],
   "source": [
    "ord(\"0\")"
   ]
  },
  {
   "cell_type": "code",
   "execution_count": null,
   "id": "3f7b5aae",
   "metadata": {},
   "outputs": [],
   "source": [
    "ord(\"i\") in range(97,123)"
   ]
  },
  {
   "cell_type": "markdown",
   "id": "69f9af5a",
   "metadata": {},
   "source": [
    "\n",
    "# soru 2"
   ]
  },
  {
   "cell_type": "markdown",
   "id": "a6526740",
   "metadata": {},
   "source": [
    "A number is said to be Harshad if it's exactly divisible by the sum of its digits. Create a function that determines whether a number is a Harshad or not.\n",
    "\n",
    "is_harshad(75) ➞ False\n",
    "#7 + 5 = 12\n",
    "#75 is not exactly divisible by 12\n",
    "\n",
    "is_harshad(171) ➞ True\n",
    "#1 + 7 + 1 = 9\n",
    "#9 exactly divides 171\n",
    "\n",
    "is_harshad(481) ➞ True\n",
    "\n",
    "is_harshad(89) ➞ False\n",
    "\n",
    "is_harshad(516) ➞ True\n",
    "\n",
    "is_harshad(200) ➞ True"
   ]
  },
  {
   "cell_type": "code",
   "execution_count": 42,
   "id": "a1333442",
   "metadata": {},
   "outputs": [
    {
     "name": "stdout",
     "output_type": "stream",
     "text": [
      "sayı gir >>> :171\n",
      "is 171 harshard : True\n"
     ]
    }
   ],
   "source": [
    "# Berlin_mentor\n",
    "\n",
    "num =int(input(\"sayı gir >>> :\"))\n",
    "toplam = 0\n",
    "num = str(num)\n",
    "for i in num:\n",
    "    toplam += int(i)\n",
    "if int(num) % toplam == 0:\n",
    "    output = \"True\"\n",
    "else:\n",
    "    output = \"False\"    \n",
    "print(f\"is {num} harshard : {output}\")"
   ]
  },
  {
   "cell_type": "code",
   "execution_count": 20,
   "id": "01cbe889",
   "metadata": {},
   "outputs": [
    {
     "name": "stdout",
     "output_type": "stream",
     "text": [
      "Enter number : 89\n",
      "is 89 harshard : False\n"
     ]
    }
   ],
   "source": [
    "number = input(\"Enter number : \")\n",
    "sum = 0\n",
    "\n",
    "for i in number:\n",
    "    sum += int(i)\n",
    "    \n",
    "if int(number)%sum == 0 :\n",
    "    output = \"True\"\n",
    "else:\n",
    "    output = \"False\"\n",
    "    \n",
    "print(f\"is {number} harshard : {output}\")"
   ]
  },
  {
   "cell_type": "code",
   "execution_count": null,
   "id": "4308cae6",
   "metadata": {},
   "outputs": [],
   "source": []
  },
  {
   "cell_type": "code",
   "execution_count": 50,
   "id": "35b38d64",
   "metadata": {},
   "outputs": [
    {
     "name": "stdout",
     "output_type": "stream",
     "text": [
      "Enter number : 171\n",
      "171 is harshard\n"
     ]
    }
   ],
   "source": [
    "number = input(\"Enter number : \")\n",
    "if int(number)%(int(number[0])+int(number[1])+int(number[2]))==0:\n",
    "    output = \"harshard\"\n",
    "else:\n",
    "    output = \"not harshard\"\n",
    "print(f\"{number} is {output}\")"
   ]
  },
  {
   "cell_type": "code",
   "execution_count": null,
   "id": "c80755ab",
   "metadata": {},
   "outputs": [],
   "source": []
  },
  {
   "cell_type": "code",
   "execution_count": 18,
   "id": "cd3f4005",
   "metadata": {},
   "outputs": [
    {
     "name": "stdout",
     "output_type": "stream",
     "text": [
      "bir sayı giriniz:171\n",
      "True\n"
     ]
    }
   ],
   "source": [
    "# Asuman Hanım çözümü\n",
    "\n",
    "a = input(\"bir sayı giriniz:\")\n",
    "sum = 0\n",
    "digit = len(a)\n",
    "for i in range(digit):\n",
    "    sum = sum + int(a[i])\n",
    "if (int(a))%sum == 0:\n",
    "    print(\"True\")\n",
    "else:\n",
    "    print(\"False\")"
   ]
  },
  {
   "cell_type": "code",
   "execution_count": null,
   "id": "e39d9da2",
   "metadata": {},
   "outputs": [],
   "source": []
  },
  {
   "cell_type": "markdown",
   "id": "78f94970",
   "metadata": {},
   "source": [
    "# soru 3"
   ]
  },
  {
   "cell_type": "raw",
   "id": "f36b11d8",
   "metadata": {},
   "source": [
    "\"Loves me, loves me not\" is a traditional game in which a person plucks off all the petals of a flower one by one, saying the phrase \"Loves me\" and \"Loves me not\" when determining whether the one that they love, loves them back.\n",
    "\n",
    "Given a number of petals, return a string which repeats the phrases \"Loves me\" and \"Loves me not\" for every alternating petal, and return the last phrase in all caps. Remember to put a comma and space between phrases.\n",
    "\n",
    "Loves me, Loves me not, Loves me, Loves me not, LOVES ME"
   ]
  },
  {
   "cell_type": "code",
   "execution_count": 48,
   "id": "97c9d9eb",
   "metadata": {},
   "outputs": [
    {
     "name": "stdout",
     "output_type": "stream",
     "text": [
      "How many petals on flower >>> :8\n",
      "Loves me, Loves me not, Loves me, Loves me not, Loves me, Loves me not, Loves me, LOVES ME NOT\n"
     ]
    }
   ],
   "source": [
    "# Berlin_mentor\n",
    "num = int(input(\"How many petals on flower >>> :\"))\n",
    "result = \"\"\n",
    "text = \"Loves me\"\n",
    "for i in range(1,num+1):\n",
    "    if i % 2 == 0:\n",
    "        res = text + \" not\"\n",
    "    else:\n",
    "        res = text\n",
    "    if i == num:\n",
    "        res = res.upper()\n",
    "    result += res + ', '\n",
    "result = result.rstrip(\", \")\n",
    "print(result)"
   ]
  },
  {
   "cell_type": "code",
   "execution_count": null,
   "id": "bfd3d3d6",
   "metadata": {},
   "outputs": [],
   "source": []
  },
  {
   "cell_type": "code",
   "execution_count": 10,
   "id": "867a89f2",
   "metadata": {},
   "outputs": [
    {
     "name": "stdout",
     "output_type": "stream",
     "text": [
      "How many petals on flower :7\n",
      "Loves me not, Loves me, Loves me not, Loves me, Loves me not, Loves me, Loves me not, Loves me, "
     ]
    }
   ],
   "source": [
    "petal_num = int(input(\"How many petals on flower :\"))\n",
    "counter = 0\n",
    "\n",
    "while petal_num >= 0:\n",
    "    if petal_num%2==0:\n",
    "        print(\"Loves me\", end=\", \")\n",
    "    elif petal_num==0:\n",
    "        print(\"Loves me\".capitalize())\n",
    "    else:\n",
    "        print(\"Loves me not\", end=\", \")\n",
    "    petal_num-=1"
   ]
  },
  {
   "cell_type": "code",
   "execution_count": 88,
   "id": "fcc99439",
   "metadata": {},
   "outputs": [
    {
     "ename": "KeyboardInterrupt",
     "evalue": "Interrupted by user",
     "output_type": "error",
     "traceback": [
      "\u001b[1;31m---------------------------------------------------------------------------\u001b[0m",
      "\u001b[1;31mKeyboardInterrupt\u001b[0m                         Traceback (most recent call last)",
      "\u001b[1;32m~\\AppData\\Local\\Temp/ipykernel_8624/1511190379.py\u001b[0m in \u001b[0;36m<module>\u001b[1;34m\u001b[0m\n\u001b[1;32m----> 1\u001b[1;33m \u001b[0mpetal_num\u001b[0m \u001b[1;33m=\u001b[0m \u001b[0mint\u001b[0m\u001b[1;33m(\u001b[0m\u001b[0minput\u001b[0m\u001b[1;33m(\u001b[0m\u001b[1;34m\"How many petals on flower :\"\u001b[0m\u001b[1;33m)\u001b[0m\u001b[1;33m)\u001b[0m\u001b[1;33m\u001b[0m\u001b[1;33m\u001b[0m\u001b[0m\n\u001b[0m\u001b[0;32m      2\u001b[0m \u001b[0mcounter\u001b[0m \u001b[1;33m=\u001b[0m \u001b[1;36m0\u001b[0m\u001b[1;33m\u001b[0m\u001b[1;33m\u001b[0m\u001b[0m\n\u001b[0;32m      3\u001b[0m \u001b[1;33m\u001b[0m\u001b[0m\n\u001b[0;32m      4\u001b[0m \u001b[1;32mfor\u001b[0m \u001b[0mi\u001b[0m \u001b[1;32min\u001b[0m \u001b[0mrange\u001b[0m\u001b[1;33m(\u001b[0m\u001b[0mpetal_num\u001b[0m\u001b[1;33m,\u001b[0m \u001b[1;33m-\u001b[0m\u001b[1;36m1\u001b[0m\u001b[1;33m,\u001b[0m \u001b[1;33m-\u001b[0m\u001b[1;36m1\u001b[0m\u001b[1;33m)\u001b[0m\u001b[1;33m:\u001b[0m\u001b[1;33m\u001b[0m\u001b[1;33m\u001b[0m\u001b[0m\n\u001b[0;32m      5\u001b[0m     \u001b[1;32mif\u001b[0m \u001b[0mi\u001b[0m\u001b[1;33m%\u001b[0m\u001b[1;36m2\u001b[0m \u001b[1;33m==\u001b[0m \u001b[1;36m0\u001b[0m\u001b[1;33m:\u001b[0m\u001b[1;33m\u001b[0m\u001b[1;33m\u001b[0m\u001b[0m\n",
      "\u001b[1;32m~\\anaconda3\\lib\\site-packages\\ipykernel\\kernelbase.py\u001b[0m in \u001b[0;36mraw_input\u001b[1;34m(self, prompt)\u001b[0m\n\u001b[0;32m   1004\u001b[0m                 \u001b[1;34m\"raw_input was called, but this frontend does not support input requests.\"\u001b[0m\u001b[1;33m\u001b[0m\u001b[1;33m\u001b[0m\u001b[0m\n\u001b[0;32m   1005\u001b[0m             )\n\u001b[1;32m-> 1006\u001b[1;33m         return self._input_request(\n\u001b[0m\u001b[0;32m   1007\u001b[0m             \u001b[0mstr\u001b[0m\u001b[1;33m(\u001b[0m\u001b[0mprompt\u001b[0m\u001b[1;33m)\u001b[0m\u001b[1;33m,\u001b[0m\u001b[1;33m\u001b[0m\u001b[1;33m\u001b[0m\u001b[0m\n\u001b[0;32m   1008\u001b[0m             \u001b[0mself\u001b[0m\u001b[1;33m.\u001b[0m\u001b[0m_parent_ident\u001b[0m\u001b[1;33m[\u001b[0m\u001b[1;34m\"shell\"\u001b[0m\u001b[1;33m]\u001b[0m\u001b[1;33m,\u001b[0m\u001b[1;33m\u001b[0m\u001b[1;33m\u001b[0m\u001b[0m\n",
      "\u001b[1;32m~\\anaconda3\\lib\\site-packages\\ipykernel\\kernelbase.py\u001b[0m in \u001b[0;36m_input_request\u001b[1;34m(self, prompt, ident, parent, password)\u001b[0m\n\u001b[0;32m   1049\u001b[0m             \u001b[1;32mexcept\u001b[0m \u001b[0mKeyboardInterrupt\u001b[0m\u001b[1;33m:\u001b[0m\u001b[1;33m\u001b[0m\u001b[1;33m\u001b[0m\u001b[0m\n\u001b[0;32m   1050\u001b[0m                 \u001b[1;31m# re-raise KeyboardInterrupt, to truncate traceback\u001b[0m\u001b[1;33m\u001b[0m\u001b[1;33m\u001b[0m\u001b[0m\n\u001b[1;32m-> 1051\u001b[1;33m                 \u001b[1;32mraise\u001b[0m \u001b[0mKeyboardInterrupt\u001b[0m\u001b[1;33m(\u001b[0m\u001b[1;34m\"Interrupted by user\"\u001b[0m\u001b[1;33m)\u001b[0m \u001b[1;32mfrom\u001b[0m \u001b[1;32mNone\u001b[0m\u001b[1;33m\u001b[0m\u001b[1;33m\u001b[0m\u001b[0m\n\u001b[0m\u001b[0;32m   1052\u001b[0m             \u001b[1;32mexcept\u001b[0m \u001b[0mException\u001b[0m\u001b[1;33m:\u001b[0m\u001b[1;33m\u001b[0m\u001b[1;33m\u001b[0m\u001b[0m\n\u001b[0;32m   1053\u001b[0m                 \u001b[0mself\u001b[0m\u001b[1;33m.\u001b[0m\u001b[0mlog\u001b[0m\u001b[1;33m.\u001b[0m\u001b[0mwarning\u001b[0m\u001b[1;33m(\u001b[0m\u001b[1;34m\"Invalid Message:\"\u001b[0m\u001b[1;33m,\u001b[0m \u001b[0mexc_info\u001b[0m\u001b[1;33m=\u001b[0m\u001b[1;32mTrue\u001b[0m\u001b[1;33m)\u001b[0m\u001b[1;33m\u001b[0m\u001b[1;33m\u001b[0m\u001b[0m\n",
      "\u001b[1;31mKeyboardInterrupt\u001b[0m: Interrupted by user"
     ]
    }
   ],
   "source": [
    "petal_num = int(input(\"How many petals on flower :\"))\n",
    "counter = 0\n",
    "\n",
    "for i in range(petal_num, -1, -1):\n",
    "    if i%2 == 0:\n",
    "        print(\"Loves me\", end=\", \")\n",
    "    elif i%2 == 1:\n",
    "        print(\"Loves me not\", end=\", \")\n",
    "    #elif i==0:\n",
    "print('\\b')"
   ]
  },
  {
   "cell_type": "code",
   "execution_count": 80,
   "id": "c66b6baa",
   "metadata": {},
   "outputs": [
    {
     "data": {
      "text/plain": [
       "[5, 4, 3, 2, 1, 0]"
      ]
     },
     "execution_count": 80,
     "metadata": {},
     "output_type": "execute_result"
    }
   ],
   "source": [
    "[*range(5, -1, -1)]"
   ]
  },
  {
   "cell_type": "code",
   "execution_count": 68,
   "id": "7551b8cd",
   "metadata": {},
   "outputs": [
    {
     "name": "stdout",
     "output_type": "stream",
     "text": [
      "Give me a word :seviyor\n",
      "s-e-v-i-y-o-r"
     ]
    }
   ],
   "source": [
    "word = input(\"Give me a word :\")\n",
    "counter =0\n",
    "\n",
    "for i in word:\n",
    "    counter += 1\n",
    "                                # len(word)-1 kadar tire koymalıyım,  yani 8<9 a kadar çalışacak\n",
    "    if counter < len(word):     # 9<9 False olduğundan condition sağlanmayacak\n",
    "        i += \"-\"\n",
    "        \n",
    "    print(i, end =\"\")           # print şu anda if bloğu dışında ama for döngüsü içinde\n",
    "                                # yani i her defasında Toplamda 9 kere yazdır, ama en sonuncuda (-) ekleme dedik."
   ]
  },
  {
   "cell_type": "code",
   "execution_count": 67,
   "id": "063cac19",
   "metadata": {},
   "outputs": [
    {
     "name": "stdout",
     "output_type": "stream",
     "text": [
      "bir dize giriniz :5\n",
      "seviyor\n",
      "sevmiyor\n",
      "seviyor\n",
      "sevmiyor\n",
      "seviyor\n",
      "sevmiyor\n"
     ]
    }
   ],
   "source": [
    "a = int(input(\"bir dize giriniz :\"))\n",
    "for i in range(0, a+1):\n",
    "    if i % 2 == 1:\n",
    "        print(\"sevmiyor\")\n",
    "    else:\n",
    "        print(\"seviyor\")\n",
    "    i += 1"
   ]
  },
  {
   "cell_type": "code",
   "execution_count": null,
   "id": "4eb127d4",
   "metadata": {},
   "outputs": [],
   "source": []
  },
  {
   "cell_type": "markdown",
   "id": "34ae6ebe",
   "metadata": {},
   "source": [
    "# soru 4"
   ]
  },
  {
   "cell_type": "raw",
   "id": "ba8862e6",
   "metadata": {},
   "source": [
    "# Given a list of words in the singular form, return a set of those words in the plural form if they appear more than once in the list.\n",
    "\n",
    "pluralize([\"cow\", \"pig\", \"cow\", \"cow\"]) ➞ { \"cows\", \"pig\" }\n",
    "\n",
    "pluralize([\"table\", \"table\", \"table\"]) ➞ { \"tables\" }\n",
    "\n",
    "pluralize([\"chair\", \"pencil\", \"arm\"]) ➞ { \"chair\", \"pencil\", \"arm\" }"
   ]
  },
  {
   "cell_type": "code",
   "execution_count": 12,
   "id": "38788dc5",
   "metadata": {},
   "outputs": [],
   "source": [
    "pluralize1 =([\"cow\", \"pig\", \"cow\", \"cow\"])\n",
    "\n",
    "pluralize2=([\"table\", \"table\", \"table\"])\n",
    "\n",
    "pluralize3=([\"chair\", \"pencil\", \"arm\"])"
   ]
  },
  {
   "cell_type": "code",
   "execution_count": 50,
   "id": "5066cd30",
   "metadata": {},
   "outputs": [
    {
     "name": "stdout",
     "output_type": "stream",
     "text": [
      "{'cows', 'pig'}\n"
     ]
    }
   ],
   "source": [
    "# Berlin Mentor \n",
    "liste = [\"cow\", \"pig\", \"cow\", \"cow\"]\n",
    "sonuc = []\n",
    "\n",
    "for i in liste:\n",
    "    if liste.count(i) > 1:\n",
    "        i = i + \"s\"\n",
    "        sonuc.append(i)\n",
    "    else:\n",
    "        sonuc.append(i)\n",
    "sonuc = set(sonuc)\n",
    "print(sonuc)"
   ]
  },
  {
   "cell_type": "code",
   "execution_count": 89,
   "id": "7ca5248e",
   "metadata": {},
   "outputs": [
    {
     "name": "stdout",
     "output_type": "stream",
     "text": [
      "['inek', 'domuz']\n"
     ]
    }
   ],
   "source": [
    "x = ['inek', 'domuz', 'inek', 'inek']\n",
    "y = []\n",
    "for i in x:\n",
    "    if i not in y:\n",
    "        y.append(i)\n",
    "print(y)"
   ]
  },
  {
   "cell_type": "code",
   "execution_count": 95,
   "id": "7cc7caef",
   "metadata": {},
   "outputs": [
    {
     "name": "stdout",
     "output_type": "stream",
     "text": [
      "{} {} {'inek': 1, 'domuz': 1}\n"
     ]
    }
   ],
   "source": [
    "x = ['inek', 'domuz', 'inek', 'inek']\n",
    "y = ['tablo', 'tablo', 'tablo']\n",
    "z = ['sandalye', 'kalem', 'kol']\n",
    "sozlukx = {}\n",
    "sozluky = {}\n",
    "sozlukz = {}\n",
    "for i in x:\n",
    "    kelime = i.split(\",\")\n",
    "    for j in kelime:\n",
    "        if j in sozlukx:\n",
    "            sozluky[j] += 1\n",
    "        else:\n",
    "            sozlukz[j] = 1\n",
    "print(sozlukx, sozluky, sozlukz)"
   ]
  },
  {
   "cell_type": "code",
   "execution_count": null,
   "id": "78e61ed4",
   "metadata": {},
   "outputs": [],
   "source": []
  },
  {
   "cell_type": "code",
   "execution_count": null,
   "id": "a049a887",
   "metadata": {},
   "outputs": [],
   "source": []
  },
  {
   "cell_type": "code",
   "execution_count": null,
   "id": "df0675ac",
   "metadata": {},
   "outputs": [],
   "source": []
  },
  {
   "cell_type": "code",
   "execution_count": null,
   "id": "b1f73614",
   "metadata": {},
   "outputs": [],
   "source": []
  },
  {
   "cell_type": "markdown",
   "id": "3a94d3b9",
   "metadata": {},
   "source": [
    "# soru 5"
   ]
  },
  {
   "cell_type": "markdown",
   "id": "94eba67b",
   "metadata": {},
   "source": [
    "mail = \"mailto: Clarusway admission@clarusway.com, 6 Haz 2021 Paz, 21:08 tarihinde şunu yazdı:\"\n",
    "\n",
    "Write python code that outputs \"clarusway.com\" from the string in the \"mail\" variable.\n",
    "\n",
    "Expected Output: clarusway.com"
   ]
  },
  {
   "cell_type": "code",
   "execution_count": 51,
   "id": "6a645731",
   "metadata": {},
   "outputs": [
    {
     "data": {
      "text/plain": [
       "'clarusway.com'"
      ]
     },
     "execution_count": 51,
     "metadata": {},
     "output_type": "execute_result"
    }
   ],
   "source": [
    "mail = \"mailto: Clarusway admission@clarusway.com, 6 Haz 2021 Paz, 21:08 tarihinde şunu yazdı:\"\n",
    "result = mail[mail.index(\"@\")+1 : mail.index(\",\")]\n",
    "result"
   ]
  },
  {
   "cell_type": "code",
   "execution_count": 61,
   "id": "421ceb29",
   "metadata": {},
   "outputs": [
    {
     "name": "stdout",
     "output_type": "stream",
     "text": [
      "clarusway.com\n",
      "clarusway.com\n"
     ]
    }
   ],
   "source": [
    "mail = \"mailto: Clarusway admission@clarusway.com, 6 Haz 2021 Paz, 21:08 tarihinde şunu yazdı:\"\n",
    "print(mail[28:41])\n",
    "print(mail[mail.find(\"@\")+1:mail.find(\",\")])"
   ]
  },
  {
   "cell_type": "code",
   "execution_count": 62,
   "id": "678e47ad",
   "metadata": {},
   "outputs": [
    {
     "name": "stdout",
     "output_type": "stream",
     "text": [
      "clarusway.com\n"
     ]
    }
   ],
   "source": [
    "a =(((mail.split('@'))[1]).split(','))[0]\n",
    "\n",
    "print(a)"
   ]
  },
  {
   "cell_type": "code",
   "execution_count": 66,
   "id": "19810067",
   "metadata": {},
   "outputs": [
    {
     "data": {
      "text/plain": [
       "'clarusway.com'"
      ]
     },
     "execution_count": 66,
     "metadata": {},
     "output_type": "execute_result"
    }
   ],
   "source": [
    "mail.split('@')[1].split(',')[0]"
   ]
  },
  {
   "cell_type": "code",
   "execution_count": null,
   "id": "e52bc17b",
   "metadata": {},
   "outputs": [],
   "source": []
  },
  {
   "cell_type": "markdown",
   "id": "8e15a747",
   "metadata": {},
   "source": [
    "# soru 6 "
   ]
  },
  {
   "cell_type": "markdown",
   "id": "37958646",
   "metadata": {},
   "source": [
    "Write a Python code that find the students who have maximum and minimum average at below.\n",
    "\n",
    "grades={'Student-1': {'Lesson-1': 57, 'Lesson-2': 46, 'Lesson-3': 58, 'Lesson-4': 81, 'Lesson-5': 85}, 'Student-2': {'Lesson-1': 85, 'Lesson-2': 56, 'Lesson-3': 51, 'Lesson-4': 69, 'Lesson-5': 67}, 'Student-3': {'Lesson-1': 68, 'Lesson-2': 76, 'Lesson-3': 87, 'Lesson-4': 57, 'Lesson-5': 56}, 'Student-4': {'Lesson-1': 78, 'Lesson-2': 93, 'Lesson-3': 88, 'Lesson-4': 38, 'Lesson-5': 54}, 'Student-5': {'Lesson-1': 50, 'Lesson-2': 46, 'Lesson-3': 78, 'Lesson-4': 81, 'Lesson-5': 75}}"
   ]
  },
  {
   "cell_type": "code",
   "execution_count": 3,
   "id": "65e65648",
   "metadata": {},
   "outputs": [],
   "source": [
    "grades = {\n",
    "        'Student-1': {'Lesson-1': 57, 'Lesson-2': 46, 'Lesson-3': 58, 'Lesson-4': 81, 'Lesson-5': 85}, \n",
    "        'Student-2': {'Lesson-1': 85, 'Lesson-2': 56, 'Lesson-3': 51, 'Lesson-4': 69, 'Lesson-5': 67}, \n",
    "        'Student-3': {'Lesson-1': 68, 'Lesson-2': 76, 'Lesson-3': 87, 'Lesson-4': 57, 'Lesson-5': 56}, \n",
    "        'Student-4': {'Lesson-1': 78, 'Lesson-2': 93, 'Lesson-3': 88, 'Lesson-4': 38, 'Lesson-5': 54}, \n",
    "        'Student-5': {'Lesson-1': 50, 'Lesson-2': 46, 'Lesson-3': 78, 'Lesson-4': 81, 'Lesson-5': 75}}\n",
    "\n",
    "average_s1 = sum(grades['Student-1'].values()) / len(grades['Student-1'].values())\n",
    "average_s2 = sum(grades['Student-2'].values()) / len(grades['Student-2'].values())\n",
    "average_s3 = sum(grades['Student-3'].values()) / len(grades['Student-3'].values())\n",
    "average_s4 = sum(grades['Student-4'].values()) / len(grades['Student-4'].values())\n",
    "average_s5 = sum(grades['Student-5'].values()) / len(grades['Student-5'].values())\n",
    "\n",
    "class_notes = {}"
   ]
  },
  {
   "cell_type": "code",
   "execution_count": 4,
   "id": "7fd54d98",
   "metadata": {},
   "outputs": [
    {
     "data": {
      "text/plain": [
       "dict_keys(['Student-1', 'Student-2', 'Student-3', 'Student-4', 'Student-5'])"
      ]
     },
     "execution_count": 4,
     "metadata": {},
     "output_type": "execute_result"
    }
   ],
   "source": [
    "grades.keys()"
   ]
  },
  {
   "cell_type": "code",
   "execution_count": 5,
   "id": "70678933",
   "metadata": {},
   "outputs": [
    {
     "data": {
      "text/plain": [
       "dict_values([{'Lesson-1': 57, 'Lesson-2': 46, 'Lesson-3': 58, 'Lesson-4': 81, 'Lesson-5': 85}, {'Lesson-1': 85, 'Lesson-2': 56, 'Lesson-3': 51, 'Lesson-4': 69, 'Lesson-5': 67}, {'Lesson-1': 68, 'Lesson-2': 76, 'Lesson-3': 87, 'Lesson-4': 57, 'Lesson-5': 56}, {'Lesson-1': 78, 'Lesson-2': 93, 'Lesson-3': 88, 'Lesson-4': 38, 'Lesson-5': 54}, {'Lesson-1': 50, 'Lesson-2': 46, 'Lesson-3': 78, 'Lesson-4': 81, 'Lesson-5': 75}])"
      ]
     },
     "execution_count": 5,
     "metadata": {},
     "output_type": "execute_result"
    }
   ],
   "source": [
    "grades.values()"
   ]
  },
  {
   "cell_type": "code",
   "execution_count": 6,
   "id": "544449d1",
   "metadata": {},
   "outputs": [
    {
     "data": {
      "text/plain": [
       "dict_values([57, 46, 58, 81, 85])"
      ]
     },
     "execution_count": 6,
     "metadata": {},
     "output_type": "execute_result"
    }
   ],
   "source": [
    "grades['Student-1'].values()"
   ]
  },
  {
   "cell_type": "code",
   "execution_count": 7,
   "id": "3961fffc",
   "metadata": {},
   "outputs": [
    {
     "data": {
      "text/plain": [
       "65.4"
      ]
     },
     "execution_count": 7,
     "metadata": {},
     "output_type": "execute_result"
    }
   ],
   "source": [
    "sum(grades['Student-1'].values())/len(grades['Student-1'].values())"
   ]
  },
  {
   "cell_type": "code",
   "execution_count": 8,
   "id": "aaf36499",
   "metadata": {},
   "outputs": [
    {
     "data": {
      "text/plain": [
       "{'Lesson-1': 57,\n",
       " 'Lesson-2': 46,\n",
       " 'Lesson-3': 58,\n",
       " 'Lesson-4': 81,\n",
       " 'Lesson-5': 85}"
      ]
     },
     "execution_count": 8,
     "metadata": {},
     "output_type": "execute_result"
    }
   ],
   "source": [
    "grades.get(\"Student-1\")"
   ]
  },
  {
   "cell_type": "code",
   "execution_count": null,
   "id": "6844b0ed",
   "metadata": {},
   "outputs": [],
   "source": []
  },
  {
   "cell_type": "code",
   "execution_count": null,
   "id": "9d7580d9",
   "metadata": {},
   "outputs": [],
   "source": []
  },
  {
   "cell_type": "code",
   "execution_count": 9,
   "id": "0897b709",
   "metadata": {},
   "outputs": [
    {
     "name": "stdout",
     "output_type": "stream",
     "text": [
      "3 have max grade avarage 70.2\n",
      "0 have min grade avarage 65.4\n"
     ]
    }
   ],
   "source": [
    "liste = []\n",
    "for student in grades:\n",
    "    liste.append(sum(grades[student].values())/len(grades[student].values()))\n",
    "print(f\"{liste.index(max(liste))} have max grade avarage {max(liste)}\")\n",
    "print(f\"{liste.index(min(liste))} have min grade avarage {min(liste)}\")"
   ]
  },
  {
   "cell_type": "code",
   "execution_count": 12,
   "id": "656588b0",
   "metadata": {},
   "outputs": [
    {
     "name": "stdout",
     "output_type": "stream",
     "text": [
      "[65.4, 65.6, 68.8, 70.2, 66.0]\n",
      "max 70.2 and min 65.4\n"
     ]
    }
   ],
   "source": [
    "print(liste)\n",
    "print(\"max\", max(liste), \"and min\" ,min(liste))"
   ]
  },
  {
   "cell_type": "code",
   "execution_count": null,
   "id": "1fd48154",
   "metadata": {},
   "outputs": [],
   "source": []
  },
  {
   "cell_type": "code",
   "execution_count": null,
   "id": "05e62f54",
   "metadata": {},
   "outputs": [],
   "source": []
  },
  {
   "cell_type": "markdown",
   "id": "ad079eb7",
   "metadata": {},
   "source": [
    "# soru 7"
   ]
  },
  {
   "cell_type": "markdown",
   "id": "5dccffbd",
   "metadata": {},
   "source": [
    "Given a list, right rotate the list by n position.\n",
    "\n",
    "Write a program to shift every element of a list to circularly right."
   ]
  },
  {
   "cell_type": "code",
   "execution_count": 109,
   "id": "a232fd27",
   "metadata": {},
   "outputs": [
    {
     "data": {
      "text/plain": [
       "[4, '5', 1, 'a', 2, 'b', 3, 'c']"
      ]
     },
     "execution_count": 109,
     "metadata": {},
     "output_type": "execute_result"
    }
   ],
   "source": [
    "listx = [1, \"a\", 2, \"b\", 3, \"c\", 4, \"5\"]\n",
    "listx = listx[-2:] + listx[:-2]\n",
    "listx"
   ]
  },
  {
   "cell_type": "code",
   "execution_count": 110,
   "id": "b8cd88b5",
   "metadata": {},
   "outputs": [
    {
     "data": {
      "text/plain": [
       "[3, 'c']"
      ]
     },
     "execution_count": 110,
     "metadata": {},
     "output_type": "execute_result"
    }
   ],
   "source": [
    "listx[-2:]"
   ]
  },
  {
   "cell_type": "code",
   "execution_count": 111,
   "id": "06920ab0",
   "metadata": {},
   "outputs": [
    {
     "data": {
      "text/plain": [
       "[4, '5', 1, 'a', 2, 'b']"
      ]
     },
     "execution_count": 111,
     "metadata": {},
     "output_type": "execute_result"
    }
   ],
   "source": [
    "listx[:-2]"
   ]
  },
  {
   "cell_type": "code",
   "execution_count": null,
   "id": "8cf2c751",
   "metadata": {},
   "outputs": [],
   "source": []
  },
  {
   "cell_type": "code",
   "execution_count": 113,
   "id": "c72e208b",
   "metadata": {},
   "outputs": [
    {
     "name": "stdout",
     "output_type": "stream",
     "text": [
      "Rotate number: 9\n",
      "['5', 1, 'a', 2, 'b', 3, 'c', 4]\n"
     ]
    }
   ],
   "source": [
    "# Right Rotating a list to n positions\n",
    "n = int(input(\"Rotate number: \"))\n",
    " \n",
    "list_1 = [1, \"a\", 2, \"b\", 3, \"c\", 4, \"5\"]\n",
    "if n>len(list_1):\n",
    "    n = int(n%len(list_1))\n",
    "list_1 = (list_1[-n:] + list_1[:-n])\n",
    " \n",
    "print(list_1)"
   ]
  },
  {
   "cell_type": "code",
   "execution_count": 123,
   "id": "bb9bffbe",
   "metadata": {},
   "outputs": [
    {
     "name": "stdout",
     "output_type": "stream",
     "text": [
      "Rotate number: 5\n",
      "[2, 3, 4, 5, 6, 1]\n"
     ]
    }
   ],
   "source": [
    "n = int(input(\"Rotate number: \"))\n",
    " \n",
    "list_1 = [1, 2, 3, 4, 5, 6]\n",
    "list_1 = (list_1[len(list_1) - n:len(list_1)]\n",
    "                 + list_1[0:len(list_1) - n])\n",
    "print(list_1)"
   ]
  },
  {
   "cell_type": "code",
   "execution_count": 124,
   "id": "07eb8aa3",
   "metadata": {},
   "outputs": [
    {
     "data": {
      "text/plain": [
       "[2, 3, 4, 5, 6, 1]"
      ]
     },
     "execution_count": 124,
     "metadata": {},
     "output_type": "execute_result"
    }
   ],
   "source": [
    "list_1 = [1, 2, 3, 4, 5, 6]\n",
    "a = list_1[1:6] + list_1[0:1]\n",
    "a"
   ]
  },
  {
   "cell_type": "code",
   "execution_count": null,
   "id": "bb7d02d8",
   "metadata": {},
   "outputs": [],
   "source": []
  },
  {
   "cell_type": "markdown",
   "id": "29651fc6",
   "metadata": {},
   "source": [
    "# soru 8 "
   ]
  },
  {
   "cell_type": "markdown",
   "id": "5be25414",
   "metadata": {},
   "source": [
    "Write a program that takes a maximum two-digit (1-99) number from the user and finds the pronunciation of that number. For example:\n",
    "\n",
    "İnput:97\n",
    "\n",
    "Output:Doksan Yedi"
   ]
  },
  {
   "cell_type": "code",
   "execution_count": 53,
   "id": "d9705b4e",
   "metadata": {},
   "outputs": [
    {
     "name": "stdout",
     "output_type": "stream",
     "text": [
      "please input a number: 97\n",
      "Doksan yedi "
     ]
    }
   ],
   "source": [
    "sayı = input('please input a number: ')\n",
    "\n",
    "dict1 = {0:'sıfır', 1:'On', 2:'Yirmi', 3:'Otuz', 4:'Kırk', 5:'Elli', \n",
    "        6:'Altmış', 7:'Yetmiş', 8:'Seksen', 9:'Doksan',}\n",
    "\n",
    "dict2 = {0:'sıfır', 1:'bir', 2:'iki', 3:'üç', 4:'dört', 5:'beş', \n",
    "        6:'altı', 7:'yedi', 8:'sekiz', 9:'dokuz',}\n",
    "liste1 =[]\n",
    "\n",
    "for i in sayı :\n",
    "    liste1.append(dict1[int(i)])\n",
    "for x in sayı :\n",
    "    liste1.append(dict2[int(x)])\n",
    "    \n",
    "print(liste1[0], liste1[-1], end=' ')"
   ]
  },
  {
   "cell_type": "code",
   "execution_count": 52,
   "id": "379b23f2",
   "metadata": {},
   "outputs": [
    {
     "name": "stdout",
     "output_type": "stream",
     "text": [
      "please input a number: 97\n",
      "Yetmiş yedi "
     ]
    }
   ],
   "source": [
    "# diğer çözüm ama sonuç tam olmadı\n",
    "\n",
    "sayı = input('please input a number: ')\n",
    "\n",
    "dict1 = {0:'sıfır', 1:'On', 2:'Yirmi', 3:'Otuz', 4:'Kırk', 5:'Elli', \n",
    "        6:'Altmış', 7:'Yetmiş', 8:'Seksen', 9:'Doksan',}\n",
    "\n",
    "dict2 = {0:'sıfır', 1:'bir', 2:'iki', 3:'üç', 4:'dört', 5:'beş', \n",
    "        6:'altı', 7:'yedi', 8:'sekiz', 9:'dokuz',}\n",
    "\n",
    "for i in sayı :\n",
    "    i = dict1[int(i)]\n",
    "for x in sayı :\n",
    "    x = dict2[int(x)]\n",
    "print(i, x, end=' ')"
   ]
  },
  {
   "cell_type": "markdown",
   "id": "c9d6f477",
   "metadata": {},
   "source": [
    "# soru 9"
   ]
  },
  {
   "cell_type": "raw",
   "id": "04611bc3",
   "metadata": {},
   "source": [
    "Write a program to check if a given string is a Palindrome. \n",
    "A palindrome reads same from front and back e.g.- aba, ccaacc, mom, etc.\n",
    "\n",
    "INPUT: aba\n",
    "\n",
    "OUTPUT: True"
   ]
  },
  {
   "cell_type": "code",
   "execution_count": 49,
   "id": "b75472ef",
   "metadata": {},
   "outputs": [
    {
     "name": "stdout",
     "output_type": "stream",
     "text": [
      "Enter a word :opo\n",
      "opo is Palindrome string : True\n"
     ]
    }
   ],
   "source": [
    "word = input(\"Enter a word :\")\n",
    "word_pali = word[::-1]\n",
    "print(f\"{word} is Palindrome string : {word==word_pali}\")"
   ]
  },
  {
   "cell_type": "code",
   "execution_count": 45,
   "id": "4b2ac8cb",
   "metadata": {},
   "outputs": [
    {
     "name": "stdout",
     "output_type": "stream",
     "text": [
      "ey edip adanada pide ye\n"
     ]
    },
    {
     "data": {
      "text/plain": [
       "True"
      ]
     },
     "execution_count": 45,
     "metadata": {},
     "output_type": "execute_result"
    }
   ],
   "source": [
    "word1 = \"ey edip adanada pide ye\"\n",
    "word2 = word1[::-1]\n",
    "print(word2)\n",
    "word1 == word2"
   ]
  },
  {
   "cell_type": "markdown",
   "id": "204d728f",
   "metadata": {},
   "source": [
    "# soru 10 ( This Question is optinal, you can  googling)"
   ]
  },
  {
   "cell_type": "markdown",
   "id": "7590b46f",
   "metadata": {},
   "source": [
    "Write a pyhton code, which is a number guessing game that tries to find the number that will be randomly selected from the number sequence from 1 to 100. and indicate in the code that each user has the right to guess 5, deduct 1 right for each wrong guess"
   ]
  },
  {
   "cell_type": "code",
   "execution_count": 54,
   "id": "ae325a55",
   "metadata": {},
   "outputs": [
    {
     "name": "stdout",
     "output_type": "stream",
     "text": [
      "sayı giriniz: 44\n",
      "sayıyı yükselt\n",
      "sayı giriniz: 68\n",
      "sayıyı yükselt\n",
      "sayı giriniz: 84\n",
      "sayıyı yükselt\n",
      "sayı giriniz: 95\n",
      "sayıyı düşür\n",
      "sayı giriniz: 88\n",
      "sayıyı yükselt\n",
      "Hakkınız bitti, cevap 94\n"
     ]
    }
   ],
   "source": [
    "import random\n",
    "rastgele = random.randint(1,100)\n",
    "hak = 5\n",
    "while True:\n",
    "    kullanıcı = int(input(\"sayı giriniz: \"))\n",
    "    if kullanıcı < rastgele :\n",
    "        print(\"sayıyı yükselt\")\n",
    "        hak -= 1\n",
    "    elif kullanıcı >rastgele :\n",
    "        print(\"sayıyı düşür\")\n",
    "        hak -= 1\n",
    "    else:\n",
    "        print(\"tebrikler\")\n",
    "        break\n",
    "    if hak == 0:\n",
    "        print(\"Hakkınız bitti, cevap\", rastgele)\n",
    "        break"
   ]
  },
  {
   "cell_type": "code",
   "execution_count": null,
   "id": "c4084b8c",
   "metadata": {},
   "outputs": [],
   "source": []
  },
  {
   "cell_type": "code",
   "execution_count": null,
   "id": "08cae517",
   "metadata": {},
   "outputs": [],
   "source": []
  },
  {
   "cell_type": "code",
   "execution_count": null,
   "id": "dbc492f6",
   "metadata": {},
   "outputs": [],
   "source": []
  },
  {
   "cell_type": "code",
   "execution_count": 60,
   "id": "149e24e0",
   "metadata": {},
   "outputs": [
    {
     "name": "stdout",
     "output_type": "stream",
     "text": [
      "Aklımdan bir sayı tuttum!\n",
      "Hangi sayıyı tuttum ?  1\n",
      "Biraz daha YUKARI\n",
      "Hangi sayıyı tuttum ?  2\n",
      "Biraz daha YUKARI\n",
      "Hangi sayıyı tuttum ?  3\n",
      "Biraz daha YUKARI\n",
      "Hangi sayıyı tuttum ?  4\n",
      "Biraz daha YUKARI\n",
      "Hangi sayıyı tuttum ?  5\n",
      "Biraz daha YUKARI\n",
      "Hakkın kalmadı\n"
     ]
    }
   ],
   "source": [
    "answer = 19\n",
    "\n",
    "question = 'Hangi sayıyı tuttum ?  '\n",
    "print (\"Aklımdan bir sayı tuttum!\")\n",
    "count = 0\n",
    "\n",
    "while count < 5:\n",
    "    guess = int(input(question))\n",
    "    if guess < answer:\n",
    "        print('Biraz daha YUKARI')\n",
    "        count += 1\n",
    "    elif guess > answer:\n",
    "        print('Biraz daha AŞAĞI')\n",
    "        count += 1\n",
    "    else:  # guess == answer\n",
    "        print('Resmen aklımı okuyorsun, nasıl bildin!!!')\n",
    "        break\n",
    "print(\"Hakkın kalmadı\")"
   ]
  }
 ],
 "metadata": {
  "kernelspec": {
   "display_name": "Python 3 (ipykernel)",
   "language": "python",
   "name": "python3"
  },
  "language_info": {
   "codemirror_mode": {
    "name": "ipython",
    "version": 3
   },
   "file_extension": ".py",
   "mimetype": "text/x-python",
   "name": "python",
   "nbconvert_exporter": "python",
   "pygments_lexer": "ipython3",
   "version": "3.9.7"
  }
 },
 "nbformat": 4,
 "nbformat_minor": 5
}
