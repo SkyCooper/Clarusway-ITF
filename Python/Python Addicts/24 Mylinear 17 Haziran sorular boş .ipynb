{
 "cells": [
  {
   "cell_type": "markdown",
   "metadata": {
    "id": "n3BNpxyDM9k7"
   },
   "source": [
    "###  Workshop \n"
   ]
  },
  {
   "cell_type": "code",
   "execution_count": null,
   "metadata": {
    "id": "loYvrdugqFN5"
   },
   "outputs": [],
   "source": [
    "''' burada programimizda kullanacagimiz on bilgileri yaziyoruz'''\n",
    "isimler=[]\n",
    "puan = 0\n",
    "dogru = 0\n",
    "yanlis = 0"
   ]
  },
  {
   "cell_type": "code",
   "execution_count": null,
   "metadata": {
    "id": "ffrGF8OUgH5b"
   },
   "outputs": [],
   "source": [
    "def tani():\n",
    "  ''' kisinin ismi daha önceden bu programı çalıştıranların arasında\n",
    "  olup olmadığı kontrol edilir. eğer varsa  \"seni tanıyorum\" return \n",
    "  eder. eğer tanımıyorsa \"seni ilk defa görüyorum\" return eder\n",
    "  ve ismi tanınanların listesine eklenir.'''\n",
    "  \n",
    "  return 0\n"
   ]
  },
  {
   "cell_type": "code",
   "execution_count": null,
   "metadata": {
    "id": "hjWBHgZ-o-PJ"
   },
   "outputs": [],
   "source": [
    "def ters():\n",
    "  '''verilen stringin tersten yazilisi dogru mu yanlismi\n",
    "  kontrol eden bir fonksiyon yaziniz. Dogru ise '' Aferin sana\n",
    "  bildin'' return verecek ve puani 3 arttiracak dogru sayisini 1 arttiracak\n",
    "  yanlis ise bilemedin return edecek ve puani 1  eksiltecek \n",
    "  yanlis sayisini 1 arttiracak'''\n",
    "  return 0"
   ]
  },
  {
   "cell_type": "code",
   "execution_count": null,
   "metadata": {
    "id": "Lcq52jC74xe4"
   },
   "outputs": [],
   "source": [
    "def score():\n",
    "  ''' bu fonksiyon kullanicinin su ana kadar kac dogru ve\n",
    "  kac yanlis yaptigini string olarak return edecek '''\n",
    "  return f\"{dogru} dogru {yanlis} yanlis\""
   ]
  },
  {
   "cell_type": "code",
   "execution_count": null,
   "metadata": {
    "id": "tcOB7FN-J12v"
   },
   "outputs": [],
   "source": [
    "def cumle_kontrol():\n",
    "  '''cumle en az 5 kelimeden mi olusmus kontrol eden fonksiyon'''"
   ]
  },
  {
   "cell_type": "code",
   "execution_count": null,
   "metadata": {
    "id": "h7L-F0aALg-2"
   },
   "outputs": [],
   "source": [
    "def cumle_son_iki():\n",
    "  ''' burada cumlenin sondan ikinci kelimesinin dogur olup olmadigi kontrol\n",
    "  edilecek. eger dogru ise Dogru ise '' Aferin sana\n",
    "  bildin'' return verecek ve puani 3 arttiracak dogru sayisini 1 arttiracak\n",
    "  yanlis ise bilemedin return edecek ve puani 1  eksiltecek \n",
    "  yanlis sayisini 1 arttiracak'''"
   ]
  },
  {
   "cell_type": "code",
   "execution_count": null,
   "metadata": {
    "id": "EwONYcYlUG5C"
   },
   "outputs": [],
   "source": [
    "def fibonacci(a,b):\n",
    "  ''' a = kullanicinin verdigi sayi\n",
    "      b = kullanicinin verdigi cevap\n",
    "      Bu fonksiyonda verilen sayidan buyuk en kucuk fibonacci sayisinin\n",
    "       kullanicinin verdigi cevapla ayni olup olmadigi kontrol edilecek.\n",
    "       dogru ise Dogru ise '' Aferin sana\n",
    "       bildin'' return verecek ve puani 3 arttiracak dogru sayisini 1 arttiracak\n",
    "      yanlis ise bilemedin return edecek ve puani 1  eksiltecek \n",
    "      yanlis sayisini 1 arttiracak'''  "
   ]
  },
  {
   "cell_type": "code",
   "execution_count": null,
   "metadata": {
    "id": "tmRBPqaxVo3q"
   },
   "outputs": [],
   "source": [
    "def dik_ucgen(a,b,c):\n",
    "  ''' fonksiyon girilen degerlerin bir dik ucgen olusturup olusturmadigini\n",
    "  kontrol edecek. Dogru ise '' Aferin sana\n",
    "       bildin'' return verecek ve puani 3 arttiracak dogru sayisini 1 arttiracak\n",
    "      yanlis ise bilemedin return edecek ve puani 1  eksiltecek \n",
    "      yanlis sayisini 1 arttiracak'''"
   ]
  },
  {
   "cell_type": "markdown",
   "metadata": {
    "id": "KVur59FgcQYj"
   },
   "source": [
    "## Program buradan basliyor"
   ]
  },
  {
   "cell_type": "code",
   "execution_count": null,
   "metadata": {
    "id": "nmY-ecaGh5gQ"
   },
   "outputs": [],
   "source": [
    "isim = input(\"Merhaba, Senin adin ne? \")\n",
    "a = tani(isim)\n",
    "print(f\"{isim}, {tani()} \") # Fonksiyondan gelen cevap ekrana yazdirilir\n"
   ]
  },
  {
   "cell_type": "code",
   "execution_count": null,
   "metadata": {
    "id": "wVXFc8vloB4g"
   },
   "outputs": [],
   "source": [
    "print(\"Sana bir kac soru sormak istiyorum. Bakalim kac puan alacaksin\")\n",
    "# Kullanicidan daha once girdigi isminini tersten yazmasini isteyecegiz\n",
    "tersten = input(\"Ismini tersten yazabilirmisin \") \n",
    "'''Girdigi degerin dogru olup olmadigini ters isimli \n",
    "fonksiyonu cagirarak kontrol edecegiz. eger dogru ise 3 puan \n",
    "verecegiz. yanlis ise bir puan dusurecegiz.'''\n",
    "print(ters())\n",
    "print(score())"
   ]
  },
  {
   "cell_type": "code",
   "execution_count": null,
   "metadata": {
    "id": "SEXirHX1r9o9"
   },
   "outputs": [],
   "source": [
    "'''burada kullanicidan bir cumle alacagiz, bu cumle en az 5 kelimeden olusana\n",
    " kadar sormaya devam edecegiz. '''\n",
    "\n",
    "cumle = input(\"Bana en az 5 kelimeden olusan bir cumle yazar misin?\")\n",
    "# Eger en az bes kelimeden olusan bir cevap verirse bir sonraki soruya geciyoruz\n",
    "cumle_cevap = input(\"Simdi de bana cumlenin sondan ikinci kelimesini yazarmisin\")\n",
    "print(cumle_son_iki())\n",
    "print(score())"
   ]
  },
  {
   "cell_type": "code",
   "execution_count": null,
   "metadata": {
    "id": "RLmUhF1NM3D6"
   },
   "outputs": [],
   "source": [
    "''' burada kullanicidan bir sayi alacagiz ve o sayidan buyuk en kucuk fibonacci\n",
    "sayisini soracagiz.'''\n",
    "fib_say = input(\"bir sayi giriniz\")\n",
    "fib_cevap = input(\"simdi bu sayidan buyuk en kucuk fibonacci sayisini giriniz\")\n",
    "fibonacci(fib_say,fib_cevap)\n",
    "print(score())"
   ]
  },
  {
   "cell_type": "code",
   "execution_count": null,
   "metadata": {
    "id": "0tsjOev_TIxR"
   },
   "outputs": [],
   "source": [
    "'''Burada kullanicidan kenarlari tamsayi olan bir kik ucgenin kenarlarini\n",
    "girmesini istiyecegiz'''\n",
    "a,b,c = input(\"kenarlari tamsayi olan bir ucgenin kenar uzunluklarini giriniz\")\n",
    "dik_ucgen(a,b,c)\n",
    "print(score())"
   ]
  },
  {
   "cell_type": "code",
   "execution_count": null,
   "metadata": {
    "id": "Pjnx1nZ6WBvF"
   },
   "outputs": [],
   "source": [
    "print(\"Seni tanimak guzeldi\")"
   ]
  }
 ],
 "metadata": {
  "colab": {
   "name": "workshop.ipynb",
   "provenance": []
  },
  "kernelspec": {
   "display_name": "Python 3 (ipykernel)",
   "language": "python",
   "name": "python3"
  },
  "language_info": {
   "codemirror_mode": {
    "name": "ipython",
    "version": 3
   },
   "file_extension": ".py",
   "mimetype": "text/x-python",
   "name": "python",
   "nbconvert_exporter": "python",
   "pygments_lexer": "ipython3",
   "version": "3.9.7"
  }
 },
 "nbformat": 4,
 "nbformat_minor": 1
}
