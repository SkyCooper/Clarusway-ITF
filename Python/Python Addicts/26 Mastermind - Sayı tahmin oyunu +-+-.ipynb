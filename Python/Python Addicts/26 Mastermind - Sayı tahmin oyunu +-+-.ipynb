{
 "cells": [
  {
   "cell_type": "code",
   "execution_count": null,
   "id": "1aab6b29",
   "metadata": {},
   "outputs": [],
   "source": []
  },
  {
   "cell_type": "code",
   "execution_count": null,
   "id": "2b831b61",
   "metadata": {},
   "outputs": [],
   "source": []
  },
  {
   "cell_type": "raw",
   "id": "a2537006",
   "metadata": {},
   "source": [
    "F3543 - Ertu\n",
    "\n",
    "100 tane kapı var. Bu kapılar 1'den 100'e kadar numaralandırılmış. Kapıların hepsi kilitli. Elimizde 1'den 20'ye kadar numaralandırılmış 20 tane anahtar var. Bir kapının numarası bir anahtarın numarasına tam bölünüyorsa o anahtar o kapıyı açabiliyor (ya da kilitleyebiliyor!) 1 numaralı anahtardan başlayarak her anahtar için kapıları dolaşılıyor. Anahtar ile kapı açılıyor ya da kilitleniyor. Yani kapı açıksa kilitleniyor kapı kilitli ise kapı açılıyor.\n",
    "20. turdan sonra, yani son anahtarın kullanılmasından sonra hangi kapılar açık hangi kapılar kilitlidir? Bir Python programı yazarak açık olan kapıların numaralarını ekrana yazdırın.\n",
    "\n",
    "Output\n",
    "4 9 16 21 22 23 24 26 27 28 29 30 31 32 33 34 35 37 38 39 40 41 43 45 47\n",
    "51 53 55 57 59 61 64 65 66 67 71 72 73 77 78 79 81 83 85 88 89 90 91 92 95 97"
   ]
  },
  {
   "cell_type": "code",
   "execution_count": 2,
   "id": "a7fc3899",
   "metadata": {},
   "outputs": [
    {
     "name": "stdout",
     "output_type": "stream",
     "text": [
      "1 4 9 16 21 22 23 24 26 27 28 29 30 31 32 33 34 35 37 38 39 40 41 43 45 47 51 53 55 57 59 61 64 65 66 67 71 72 73 77 78 79 81 83 85 88 89 90 91 92 95 97 "
     ]
    }
   ],
   "source": [
    "# F3543 - Ertu\n",
    "\n",
    "door = list(range(1,101))\n",
    "for i in door :\n",
    "  bölenler = []\n",
    "  for j in range(1,21) :\n",
    "    if i % j == 0 :\n",
    "      bölenler.append(j)\n",
    "  if len(bölenler) % 2 :\n",
    "    print(i ,end = ' ')"
   ]
  },
  {
   "cell_type": "code",
   "execution_count": null,
   "id": "07076db7",
   "metadata": {},
   "outputs": [],
   "source": []
  },
  {
   "cell_type": "raw",
   "id": "771d46af",
   "metadata": {},
   "source": [
    "F3543 - Ertu\n",
    "\n",
    "Mastermind Oyunu\n",
    "\n",
    "Mastermind isimli oyun iki kişi ile oynanan bir sayı bulmaca oyunudur. Oyunculardan biri, [1000 - 9999] kümesinden basamak değerleri birbirinden farklı bir sayı belirler. Diğer oyuncunun amacı bu sayıyı en fazla 10 tahminde bulmaktır. Sayıyı belirleyen oyuncu, diğer oyuncunun her tahmininden sonra oyunun kuralları doğrultusunda bilgiler vermektedir.\n",
    "Tahmin edilen sayı içerisinde belirlenen sayının içerisindeki rakamlardan biri varsa fakat basamak değeri tutmuyorsa - işareti ile, basamak değeride tutuyorsa + işareti ile bilgi verilir.\n",
    "Örnekler:\n",
    "Belirlenen sayı : 1234\n",
    "Tahmin edilen sayı : 4567\n",
    "Verilecek bilgi : -\n",
    "Belirlenen sayı : 1234\n",
    "Tahmin edilen sayı : 5674\n",
    "Verilecek bilgi : +\n",
    "Belirlenen sayı : 1234\n",
    "Tahmin edilen sayı : 4237\n",
    "Verilecek bilgi : ++ -\n",
    "Not: Verilecek olan bilgide + ve - 'lerin sırasının bir önemi yoktur.\n",
    "Bir sayı belirleyerek mastermind oyununu oynatan programı yazınız."
   ]
  },
  {
   "cell_type": "code",
   "execution_count": 1,
   "id": "12fc7a8b",
   "metadata": {},
   "outputs": [
    {
     "name": "stdout",
     "output_type": "stream",
     "text": [
      "Lütfen bir sayı giriniz: 1234\n",
      "\n",
      "Kalan Hakkınız:  9\n",
      "Lütfen bir sayı giriniz: 4567\n",
      "++\n",
      "Kalan Hakkınız:  8\n",
      "Lütfen bir sayı giriniz: 1209\n",
      "--\n",
      "Kalan Hakkınız:  7\n",
      "Lütfen bir sayı giriniz: 4512\n",
      "+\n",
      "Kalan Hakkınız:  6\n",
      "Lütfen bir sayı giriniz: 9560\n",
      "Tebrikler\n"
     ]
    }
   ],
   "source": [
    "# F3543 - Ertu\n",
    "\n",
    "import random\n",
    "random = random.randint(1000,10000)\n",
    "while True :\n",
    "  if len(set(str(random))) < 4 :\n",
    "   random +=1\n",
    "  else :\n",
    "    break\n",
    "random = str(random)\n",
    "for i in range(10) :\n",
    "  number = input(\"Lütfen bir sayı giriniz: \")\n",
    "  if len(set(number)) < 4 :\n",
    "    print(\"Rakamları farklı 4 basamaklı bir sayı girin\")\n",
    "    continue\n",
    "  if 9 - i == 0 :\n",
    "    print()\n",
    "    print(\"Hakkınız Bitti. Sayı:\",random)\n",
    "    break\n",
    "  sum = 0\n",
    "  if number == random :\n",
    "    print(\"Tebrikler\")\n",
    "    break\n",
    "  for j in range(4) :\n",
    "    if number[j] == random[j] :\n",
    "      print('+', end = '')\n",
    "      sum +=1\n",
    "  else :\n",
    "    multiply = len(set(number) & set(random))\n",
    "    print('-' * (multiply - sum) , end = '')\n",
    "  print(\"\\nKalan Hakkınız: \",9 - i)"
   ]
  },
  {
   "cell_type": "code",
   "execution_count": null,
   "id": "9dd0d833",
   "metadata": {},
   "outputs": [],
   "source": []
  },
  {
   "cell_type": "code",
   "execution_count": null,
   "id": "b3b2849c",
   "metadata": {},
   "outputs": [],
   "source": []
  },
  {
   "cell_type": "code",
   "execution_count": null,
   "id": "44e2aba8",
   "metadata": {},
   "outputs": [],
   "source": []
  },
  {
   "cell_type": "code",
   "execution_count": null,
   "id": "87426a33",
   "metadata": {},
   "outputs": [],
   "source": []
  }
 ],
 "metadata": {
  "kernelspec": {
   "display_name": "Python 3 (ipykernel)",
   "language": "python",
   "name": "python3"
  },
  "language_info": {
   "codemirror_mode": {
    "name": "ipython",
    "version": 3
   },
   "file_extension": ".py",
   "mimetype": "text/x-python",
   "name": "python",
   "nbconvert_exporter": "python",
   "pygments_lexer": "ipython3",
   "version": "3.9.7"
  }
 },
 "nbformat": 4,
 "nbformat_minor": 5
}
