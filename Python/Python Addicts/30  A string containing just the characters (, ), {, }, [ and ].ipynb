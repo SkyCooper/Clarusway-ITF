{
 "cells": [
  {
   "cell_type": "code",
   "execution_count": null,
   "id": "94db4f40",
   "metadata": {},
   "outputs": [],
   "source": []
  },
  {
   "cell_type": "raw",
   "id": "915c34ec",
   "metadata": {},
   "source": [
    "Edwin - Instructor, Şu soruya herkesin kafa yormasını istiyorum:\n",
    "\n",
    "Problem:\n",
    "- Write a function that given a string containing just the characters (, ), {, }, [ and ], determines if the input string is valid or not by using following rules.\n",
    "- An input string is valid if:\n",
    "       Open brackets must be closed by the same type of brackets.\n",
    "        Open brackets must be closed in the correct order.\n",
    "- Note that an empty string is also considered valid."
   ]
  },
  {
   "attachments": {
    "image.png": {
     "image/png": "[encoded data removed]"
    }
   },
   "cell_type": "markdown",
   "id": "205be665",
   "metadata": {},
   "source": [
    "![image.png](attachment:image.png)"
   ]
  },
  {
   "cell_type": "code",
   "execution_count": null,
   "id": "d0b7ea95",
   "metadata": {},
   "outputs": [],
   "source": [
    "# edwin hoca çözümü;\n",
    "# yanyana () [] {} varsa silicem ve en sonda \"\" bu kalırsa valid olacak"
   ]
  },
  {
   "cell_type": "code",
   "execution_count": 17,
   "id": "5bd779da",
   "metadata": {},
   "outputs": [
    {
     "data": {
      "text/plain": [
       "'alivelideli'"
      ]
     },
     "execution_count": 17,
     "metadata": {},
     "output_type": "execute_result"
    }
   ],
   "source": [
    "\"ali-veli-deli\".replace(\"-\", \"\") # çıktısı strig olduğu için yine string metodları uygulanabilir..."
   ]
  },
  {
   "cell_type": "code",
   "execution_count": 18,
   "id": "5aba1683",
   "metadata": {},
   "outputs": [
    {
     "data": {
      "text/plain": [
       "'livlidli'"
      ]
     },
     "execution_count": 18,
     "metadata": {},
     "output_type": "execute_result"
    }
   ],
   "source": [
    "\"ali-veli-deli\".replace(\"-\", \"\").replace(\"a\", \"\").replace(\"e\", \"\")"
   ]
  },
  {
   "cell_type": "code",
   "execution_count": 19,
   "id": "20df344a",
   "metadata": {},
   "outputs": [],
   "source": [
    "s = \"([[({})]]{[()]})\""
   ]
  },
  {
   "cell_type": "code",
   "execution_count": 20,
   "id": "73cf77c9",
   "metadata": {},
   "outputs": [
    {
     "data": {
      "text/plain": [
       "True"
      ]
     },
     "execution_count": 20,
     "metadata": {},
     "output_type": "execute_result"
    }
   ],
   "source": [
    "\"()\" in s"
   ]
  },
  {
   "cell_type": "code",
   "execution_count": 21,
   "id": "63c6c92b",
   "metadata": {},
   "outputs": [
    {
     "data": {
      "text/plain": [
       "True"
      ]
     },
     "execution_count": 21,
     "metadata": {},
     "output_type": "execute_result"
    }
   ],
   "source": [
    "\"{}\" in s"
   ]
  },
  {
   "cell_type": "code",
   "execution_count": 22,
   "id": "d415315b",
   "metadata": {},
   "outputs": [
    {
     "data": {
      "text/plain": [
       "False"
      ]
     },
     "execution_count": 22,
     "metadata": {},
     "output_type": "execute_result"
    }
   ],
   "source": [
    "\"[]\" in s"
   ]
  },
  {
   "cell_type": "code",
   "execution_count": 25,
   "id": "f1fc7d19",
   "metadata": {},
   "outputs": [
    {
     "data": {
      "text/plain": [
       "True"
      ]
     },
     "execution_count": 25,
     "metadata": {},
     "output_type": "execute_result"
    }
   ],
   "source": [
    "def isvalid(s): # string içinde aç/kapa parantez buldukça silmeye devam et\n",
    "    while \"()\" in s or \"[]\" in s or \"{}\" in s:\n",
    "        s = s.replace(\"()\", \"\").replace(\"[]\", \"\").replace(\"{}\", \"\") # atama yapılmazsa s değişmez\n",
    "    return s == \"\"\n",
    "\n",
    "isvalid(\"([[({})]]{[()]})\")"
   ]
  },
  {
   "cell_type": "code",
   "execution_count": null,
   "id": "63dc2c7f",
   "metadata": {},
   "outputs": [],
   "source": []
  },
  {
   "cell_type": "code",
   "execution_count": 11,
   "id": "cca84202",
   "metadata": {},
   "outputs": [
    {
     "name": "stdout",
     "output_type": "stream",
     "text": [
      "True\n"
     ]
    }
   ],
   "source": [
    "# F3791 - Noah\n",
    "\n",
    "def has_bracket(string):\n",
    "  characters = [\"(\", \")\", \"{\", \"}\", \"[\", \"]\"]\n",
    "\n",
    "  if string == \"\":\n",
    "    return True\n",
    "\n",
    "  for i in characters:\n",
    "    \n",
    "    if i in characters:\n",
    "      only_brackets = True\n",
    "    else:\n",
    "      return False\n",
    "\n",
    "  if string.count(\"(\") != string.count(\")\"):\n",
    "    return False\n",
    "  if string.count(\"[\") != string.count(\"]\"):\n",
    "    return False\n",
    "  if string.count(\"{\") != string.count(\"}\"):\n",
    "    return False\n",
    "  \n",
    "\n",
    "  for i in range(0, len(characters), 2):\n",
    "    if characters[i] in string and characters[i +1] not in string:\n",
    "      return False\n",
    "  \n",
    "\n",
    "  if only_brackets:\n",
    "      if \"(\" in string and \")\" in string:\n",
    "        if string.index(\"(\") < string.index(\")\"):\n",
    "          correct_syntax = True\n",
    "        else:\n",
    "          return False\n",
    "          \n",
    "      if \"[\" in string and \"]\" in string:\n",
    "        if string.index(\"[\") < string.index(\"]\"):\n",
    "          correct_syntax = True\n",
    "        else:\n",
    "          return False\n",
    "          \n",
    "      if \"{\" in string and \"}\" in string:\n",
    "        if string.index(\"{\") < string.index(\"}\"):\n",
    "          correct_syntax = True\n",
    "        else:\n",
    "          return False\n",
    "  else:\n",
    "    return False\n",
    "  return correct_syntax\n",
    "\n",
    "print(has_bracket(\"((({{{}}}[][])))\"))"
   ]
  },
  {
   "cell_type": "code",
   "execution_count": 12,
   "id": "90c756cb",
   "metadata": {},
   "outputs": [
    {
     "name": "stdout",
     "output_type": "stream",
     "text": [
      "Please enter a word: \"((({{{}}}[][])))\"\n",
      "True\n"
     ]
    }
   ],
   "source": [
    "# F-3789 Mihail Tal\n",
    " \n",
    "dict_chr = {\"(\": \")\", \"{\": \"}\", \"[\" :\"]\"}\n",
    "chr_list_open = [\"(\",\"{\",\"[\"]\n",
    "chr_list = [\"(\", \")\", \"{\", \"}\", \"[\" ,\"]\"]\n",
    "sentence = list(input(\"Please enter a word: \"))\n",
    "def brackets(words):\n",
    "    first_bracket = []\n",
    "    bracket = [] \n",
    "    for x in range(0,len(words)):                   #collect opening brackets and other brackets seperately\n",
    "        if  words[x] in chr_list_open:\n",
    "            first_bracket.append(words[x])\n",
    "        if  words[x] in chr_list:\n",
    "            bracket.append(words[x])\n",
    "    if len(first_bracket) >0 and len(first_bracket)*2 == len(bracket) : #to check the requested conditions \n",
    "        while len(bracket):    \n",
    "                x=0\n",
    "                if dict_chr[first_bracket[x]]== bracket[x+1]:\n",
    "                        first_bracket.pop(x)\n",
    "                        bracket.pop(x)\n",
    "                        bracket.pop(x)\n",
    "                elif dict_chr[first_bracket[x]] == bracket[len(bracket)-1-x]:\n",
    "                        first_bracket.pop(x)\n",
    "                        bracket.pop(x)\n",
    "                        bracket.pop()\n",
    "                elif bracket[x+1] in first_bracket:\n",
    "                    for x in range(0,len(bracket)):\n",
    "                        if dict_chr[first_bracket[x]]== bracket[x+1]:\n",
    "                          first_bracket.pop(x)\n",
    "                          bracket.pop(x)\n",
    "                          bracket.pop(x)\n",
    "                          break\n",
    "                        else:\n",
    "                          x+=1                   \n",
    "                else:\n",
    "                        break\n",
    "        if len(bracket) == 0 and len(first_bracket) ==0:\n",
    "            return True\n",
    "        else:\n",
    "            return False\n",
    "    elif words == ['\"', '\"'] or words==[\"'\", \"'\"]: #to check inputs \"\" or ''\n",
    "        return True\n",
    "    elif len(words) !=0:\n",
    "                    return \" False You did not enter a opening or closing bracket!!!\"\n",
    "    else:\n",
    "        return False\n",
    "print(brackets(sentence))"
   ]
  },
  {
   "cell_type": "code",
   "execution_count": 14,
   "id": "e615d3b4",
   "metadata": {},
   "outputs": [
    {
     "data": {
      "text/plain": [
       "False"
      ]
     },
     "execution_count": 14,
     "metadata": {},
     "output_type": "execute_result"
    }
   ],
   "source": [
    "# F3795 Nedim\n",
    "\n",
    "def bracket(abc):\n",
    "    condition = False\n",
    "    if abc == \"\":\n",
    "        return True\n",
    "    else:\n",
    "        a = {\"[\":\"]\",\"(\":\")\",\"{\":\"}\"}\n",
    "        b = 0\n",
    "        if len(abc) % 2 == 0:\n",
    "            for i in range(0,len(abc)//2):\n",
    "                firs = abc[b]\n",
    "                fir_2 = a[firs]\n",
    "                if fir_2 in abc:\n",
    "                    if abc.index(firs)+1 == abc.index(fir_2):\n",
    "                        condition = True\n",
    "                        b += 2\n",
    "                    \n",
    "                    else:\n",
    "                        c = -1\n",
    "                        if abc[c] == fir_2:\n",
    "                            condition = True\n",
    "                            b += 1\n",
    "                            c -= 1\n",
    "                        else:\n",
    "                            condition = False\n",
    "                else:\n",
    "                    return False\n",
    "        return condition\n",
    "    \n",
    "bracket(\"((({{{}}}[][])))\")"
   ]
  },
  {
   "cell_type": "code",
   "execution_count": 16,
   "id": "41944de6",
   "metadata": {},
   "outputs": [
    {
     "name": "stdout",
     "output_type": "stream",
     "text": [
      "Lütfen Stringi Giriniz: ((({{{}}}[][])))\n"
     ]
    },
    {
     "data": {
      "text/plain": [
       "False"
      ]
     },
     "execution_count": 16,
     "metadata": {},
     "output_type": "execute_result"
    }
   ],
   "source": [
    "# gökmen\n",
    "giri = input('Lütfen Stringi Giriniz: ')\n",
    "\n",
    "def aç_kapa(str):\n",
    "   işaretler = {'(':')', \n",
    "                '[':']', \n",
    "                '{':'}',\n",
    "                ')':\"\",\n",
    "                ']':\"\",\n",
    "                '}':\"\"}\n",
    "   \n",
    "   a = 0\n",
    "   while True:\n",
    "     if str == '\"\"':\n",
    "       return True\n",
    "       break\n",
    "     if len(str) == 2:\n",
    "       if str[a+1] == işaretler[str[a]]:\n",
    "         return True\n",
    "       else:\n",
    "          return False\n",
    "     elif len(str) == 4:\n",
    "       if str[a+1] == işaretler[str[a]]:\n",
    "         if str[a+3] == işaretler[str[a+2]]:\n",
    "           return True\n",
    "       elif str[a+3] == işaretler[str[a]]:\n",
    "         if str[a+2] == işaretler[str[a+1]]:\n",
    "           return True\n",
    "     elif len(str) == 6:\n",
    "       if str[a+1] == işaretler[str[a]]:\n",
    "         if str[a+3] == işaretler[str[a+2]]: \n",
    "           if str[a+5] == işaretler[str[a+4]]:\n",
    "             return True\n",
    "       if str[a+5] == işaretler[str[a]]:\n",
    "         if str[a+4] == işaretler[str[a+1]]:\n",
    "           if str[a+3] == işaretler[str[a+2]]:\n",
    "             return True\n",
    "       if str[a+3] == işaretler[str[a]]:\n",
    "         if str[a+2] == işaretler[str[a+1]]:\n",
    "           if str[a+5] == işaretler[str[a+4]]:\n",
    "             return True\n",
    "       if str[a+1] == işaretler[str[a]]:\n",
    "         if str[a+5] == işaretler[str[a+2]]:\n",
    "           if str[a+4] == işaretler[str[a+3]]:\n",
    "             return True\n",
    "       else:\n",
    "          return False\n",
    "     else:\n",
    "        return False\n",
    "   \"((({{{}}}[][])))\"\n",
    "aç_kapa(giri)"
   ]
  },
  {
   "cell_type": "code",
   "execution_count": 9,
   "id": "ce5a7012",
   "metadata": {},
   "outputs": [
    {
     "data": {
      "text/plain": [
       "True"
      ]
     },
     "execution_count": 9,
     "metadata": {},
     "output_type": "execute_result"
    }
   ],
   "source": [
    "#internet çözümü\n",
    "def isValid(s: str) -> bool:\n",
    "    # Stack for left symbols\n",
    "    leftSymbols = []\n",
    "    # Loop for each character of the string\n",
    "    for c in s:\n",
    "        # If left symbol is encountered\n",
    "        if c in ['(', '{', '[']:\n",
    "            leftSymbols.append(c)\n",
    "        # If right symbol is encountered\n",
    "        elif c == ')' and len(leftSymbols) != 0 and leftSymbols[-1] == '(':\n",
    "            leftSymbols.pop()\n",
    "        elif c == '}' and len(leftSymbols) != 0 and leftSymbols[-1] == '{':\n",
    "            leftSymbols.pop()\n",
    "        elif c == ']' and len(leftSymbols) != 0 and leftSymbols[-1] == '[':\n",
    "            leftSymbols.pop()\n",
    "        # If none of the valid symbols is encountered\n",
    "        else:\n",
    "            return False\n",
    "    return leftSymbols == []\n",
    "\n",
    "isValid(\"((({{{}}}[][])))\")"
   ]
  },
  {
   "cell_type": "code",
   "execution_count": null,
   "id": "d84da1a8",
   "metadata": {},
   "outputs": [],
   "source": []
  }
 ],
 "metadata": {
  "kernelspec": {
   "display_name": "Python 3 (ipykernel)",
   "language": "python",
   "name": "python3"
  },
  "language_info": {
   "codemirror_mode": {
    "name": "ipython",
    "version": 3
   },
   "file_extension": ".py",
   "mimetype": "text/x-python",
   "name": "python",
   "nbconvert_exporter": "python",
   "pygments_lexer": "ipython3",
   "version": "3.9.7"
  }
 },
 "nbformat": 4,
 "nbformat_minor": 5
}
