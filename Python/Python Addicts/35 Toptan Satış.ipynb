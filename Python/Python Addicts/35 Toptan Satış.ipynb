{
 "cells": [
  {
   "cell_type": "code",
   "execution_count": null,
   "id": "2d7466fe",
   "metadata": {},
   "outputs": [],
   "source": [
    "# İhsan Hoca Çözümü"
   ]
  },
  {
   "cell_type": "code",
   "execution_count": 1,
   "id": "c96c94d0",
   "metadata": {},
   "outputs": [
    {
     "name": "stdout",
     "output_type": "stream",
     "text": [
      "Ürün      Toptan   Alınabilir Birim ve Katları\n",
      "-----------------------------------\n",
      "Elma      TL 10            KG 10\n",
      "Armut     TL 12            KG 5 \n",
      "Domates   TL 8             KG 20\n",
      "Biber     TL 20            KG 4 \n",
      "Sermaye miktarını giriniz : 120\n",
      "Almak istediğiniz Elma miktarını giriniz : 10\n",
      "Almak istediğiniz Armut miktarını giriniz : 10\n",
      "Almak istediğiniz Domates miktarını giriniz : 20\n",
      "Almak istediğiniz Biber miktarını giriniz : 20\n"
     ]
    },
    {
     "ename": "TypeError",
     "evalue": "'dict' object is not callable",
     "output_type": "error",
     "traceback": [
      "\u001b[1;31m---------------------------------------------------------------------------\u001b[0m",
      "\u001b[1;31mTypeError\u001b[0m                                 Traceback (most recent call last)",
      "\u001b[1;32m~\\AppData\\Local\\Temp/ipykernel_1832/458186739.py\u001b[0m in \u001b[0;36m<module>\u001b[1;34m\u001b[0m\n\u001b[0;32m     34\u001b[0m     \u001b[0mprint\u001b[0m\u001b[1;33m(\u001b[0m\u001b[1;34m\"armut alındı\"\u001b[0m\u001b[1;33m)\u001b[0m\u001b[1;33m\u001b[0m\u001b[1;33m\u001b[0m\u001b[0m\n\u001b[0;32m     35\u001b[0m \u001b[1;32mif\u001b[0m\u001b[1;33m(\u001b[0m\u001b[0msermaye\u001b[0m \u001b[1;33m>\u001b[0m \u001b[0melmafiyat\u001b[0m\u001b[1;33m)\u001b[0m \u001b[1;32mand\u001b[0m \u001b[0mtalepelma\u001b[0m \u001b[1;33m!=\u001b[0m \u001b[1;36m0\u001b[0m\u001b[1;33m:\u001b[0m\u001b[1;33m\u001b[0m\u001b[1;33m\u001b[0m\u001b[0m\n\u001b[1;32m---> 36\u001b[1;33m     \u001b[0malınanlar\u001b[0m\u001b[1;33m.\u001b[0m\u001b[0mupdate\u001b[0m\u001b[1;33m(\u001b[0m\u001b[1;33m{\u001b[0m\u001b[0mürünler\u001b[0m\u001b[1;33m(\u001b[0m\u001b[1;36m0\u001b[0m\u001b[1;33m)\u001b[0m\u001b[1;33m:\u001b[0m \u001b[0mtalepelma\u001b[0m\u001b[1;33m}\u001b[0m\u001b[1;33m)\u001b[0m\u001b[1;33m\u001b[0m\u001b[1;33m\u001b[0m\u001b[0m\n\u001b[0m\u001b[0;32m     37\u001b[0m     \u001b[0msermaye\u001b[0m \u001b[1;33m-=\u001b[0m \u001b[0melmafiyat\u001b[0m\u001b[1;33m\u001b[0m\u001b[1;33m\u001b[0m\u001b[0m\n\u001b[0;32m     38\u001b[0m     \u001b[0mtoplam\u001b[0m \u001b[1;33m+=\u001b[0m \u001b[0melmafiyat\u001b[0m\u001b[1;33m\u001b[0m\u001b[1;33m\u001b[0m\u001b[0m\n",
      "\u001b[1;31mTypeError\u001b[0m: 'dict' object is not callable"
     ]
    }
   ],
   "source": [
    "# Soru - 1\n",
    "ürünler = {\"Elma\" : [10,10] , \"Armut\": [12,5], \"Domates\" : [8,20], \"Biber\" : [20, 4]}\n",
    "alınanlar = {}\n",
    "toplam = 0\n",
    "print(\"\"\"Ürün      Toptan   Alınabilir Birim ve Katları\n",
    "-----------------------------------\n",
    "Elma      TL 10            KG 10\n",
    "Armut     TL 12            KG 5 \n",
    "Domates   TL 8             KG 20\n",
    "Biber     TL 20            KG 4 \"\"\")\n",
    "sermaye = int(input(\"Sermaye miktarını giriniz : \"))\n",
    "while True:\n",
    "  talepelma = int(input(\"Almak istediğiniz Elma miktarını giriniz : \"))\n",
    "  taleparmut = int(input(\"Almak istediğiniz Armut miktarını giriniz : \"))\n",
    "  talepdomates = int(input(\"Almak istediğiniz Domates miktarını giriniz : \"))\n",
    "  talepbiber = int(input(\"Almak istediğiniz Biber miktarını giriniz : \"))\n",
    "  if (talepelma % ürünler[\"Elma\"][1] == 0 ) and (taleparmut % ürünler[\"Armut\"][1] == 0 ) and (talepbiber % ürünler[\"Biber\"][1] == 0) and (talepdomates % ürünler[\"Domates\"][1] == 0):\n",
    "      break\n",
    "  else:\n",
    "      print(\"Lütfen yukarıdaki listeye göre alabileceğiniz ürün katlarını giriniz...\")\n",
    "elmafiyat = talepelma * ürünler[\"Elma\"][0]\n",
    "armutfiyat = taleparmut * ürünler[\"Armut\"][0]\n",
    "biberfiyat = talepbiber * ürünler[\"Biber\"][0]\n",
    "domatesfiyat = talepdomates * ürünler[\"Domates\"][0]\n",
    "if(sermaye > biberfiyat) and talepbiber != 0:\n",
    "    alınanlar.update({\"Biber \": talepbiber })\n",
    "    sermaye -= biberfiyat\n",
    "    toplam += biberfiyat\n",
    "    print(\"biber alındı\")\n",
    "if(sermaye > armutfiyat) and taleparmut !=0:\n",
    "    alınanlar.update({\"Armut\": taleparmut}) \n",
    "    sermaye -= armutfiyat\n",
    "    toplam += armutfiyat\n",
    "    print(\"armut alındı\")\n",
    "if(sermaye > elmafiyat) and talepelma != 0:\n",
    "    alınanlar.update({ürünler(0): talepelma})\n",
    "    sermaye -= elmafiyat\n",
    "    toplam += elmafiyat\n",
    "if(sermaye > domatesfiyat) and talepdomates != 0:\n",
    "    alınanlar.update({\"Domates\" : talepdomates})\n",
    "    sermaye -= domatesfiyat\n",
    "    toplam += domatesfiyat\n",
    "print(alınanlar, \"\\tToplam ödediğiniz ücret : \", toplam)\n",
    "print(\"para üstü : \", sermaye)"
   ]
  },
  {
   "cell_type": "code",
   "execution_count": 4,
   "id": "2a7e82d1",
   "metadata": {},
   "outputs": [
    {
     "name": "stdout",
     "output_type": "stream",
     "text": [
      "Ürün ismi giriniz : elma\n",
      "Tahmini fire miktarını giriniz : 5\n",
      "Ürün satış fiyatını giriniz : 20\n",
      "ürün miktarını giriniz : 100\n",
      "ürün girmeye devam edecekmisiniz [E/H] : h\n"
     ]
    },
    {
     "ename": "TypeError",
     "evalue": "unsupported operand type(s) for +=: 'int' and 'list'",
     "output_type": "error",
     "traceback": [
      "\u001b[1;31m---------------------------------------------------------------------------\u001b[0m",
      "\u001b[1;31mTypeError\u001b[0m                                 Traceback (most recent call last)",
      "\u001b[1;32m~\\AppData\\Local\\Temp/ipykernel_2724/3926125080.py\u001b[0m in \u001b[0;36m<module>\u001b[1;34m\u001b[0m\n\u001b[0;32m     20\u001b[0m \u001b[0mtoplam\u001b[0m \u001b[1;33m=\u001b[0m \u001b[1;36m0\u001b[0m\u001b[1;33m\u001b[0m\u001b[1;33m\u001b[0m\u001b[0m\n\u001b[0;32m     21\u001b[0m \u001b[1;32mfor\u001b[0m \u001b[0mi\u001b[0m \u001b[1;32min\u001b[0m \u001b[0mürünler\u001b[0m\u001b[1;33m:\u001b[0m\u001b[1;33m\u001b[0m\u001b[1;33m\u001b[0m\u001b[0m\n\u001b[1;32m---> 22\u001b[1;33m     \u001b[0mtoplam\u001b[0m \u001b[1;33m+=\u001b[0m \u001b[0mürünler\u001b[0m\u001b[1;33m[\u001b[0m\u001b[0mi\u001b[0m\u001b[1;33m]\u001b[0m\u001b[1;33m\u001b[0m\u001b[1;33m\u001b[0m\u001b[0m\n\u001b[0m\u001b[0;32m     23\u001b[0m \u001b[0mprint\u001b[0m\u001b[1;33m(\u001b[0m\u001b[0mürünler\u001b[0m\u001b[1;33m)\u001b[0m\u001b[1;33m\u001b[0m\u001b[1;33m\u001b[0m\u001b[0m\n\u001b[0;32m     24\u001b[0m \u001b[0mprint\u001b[0m\u001b[1;33m(\u001b[0m\u001b[1;34m\"toplam ürünlerden elde edilen kar : \"\u001b[0m\u001b[1;33m,\u001b[0m \u001b[0mtoplam\u001b[0m\u001b[1;33m)\u001b[0m\u001b[1;33m\u001b[0m\u001b[1;33m\u001b[0m\u001b[0m\n",
      "\u001b[1;31mTypeError\u001b[0m: unsupported operand type(s) for +=: 'int' and 'list'"
     ]
    }
   ],
   "source": [
    "# Soru-2\n",
    "def fiyat(isim, satis, fire, miktar):\n",
    "    ürünler = {\"Elma\" : 10 , \"Armut\": 12, \"Domates\" : 8, \"Biber\" : 20}\n",
    "    kar = satis - (ürünler[isim])\n",
    "    kalanürün = int(miktar - (miktar * fire / 100))\n",
    "    kar = kar * kalanürün\n",
    "    return kar\n",
    "ürünler = {}\n",
    "while True:\n",
    "    isim = input(\"Ürün ismi giriniz : \").capitalize()\n",
    "    fire = int(input(\"Tahmini fire miktarını giriniz : \"))\n",
    "    satis = float(input(\"Ürün satış fiyatını giriniz : \"))\n",
    "    miktar = int(input(\"ürün miktarını giriniz : \"))\n",
    "    secim = input(\"ürün girmeye devam edecekmisiniz [E/H] : \").upper()\n",
    "    ürünler[isim] = [fiyat(isim, satis, fire, miktar), ]\n",
    "    if fiyat(isim, satis, fire, miktar) < 0:\n",
    "        print(\"Bu üründen zararına satış yapıldı...\")\n",
    "    if secim == \"H\":\n",
    "        break\n",
    "toplam = 0\n",
    "for i in ürünler:\n",
    "    toplam += ürünler[i]\n",
    "print(ürünler)\n",
    "print(\"toplam ürünlerden elde edilen kar : \", toplam)"
   ]
  },
  {
   "cell_type": "code",
   "execution_count": null,
   "id": "0c4bd60f",
   "metadata": {},
   "outputs": [],
   "source": []
  }
 ],
 "metadata": {
  "kernelspec": {
   "display_name": "Python 3 (ipykernel)",
   "language": "python",
   "name": "python3"
  },
  "language_info": {
   "codemirror_mode": {
    "name": "ipython",
    "version": 3
   },
   "file_extension": ".py",
   "mimetype": "text/x-python",
   "name": "python",
   "nbconvert_exporter": "python",
   "pygments_lexer": "ipython3",
   "version": "3.9.7"
  }
 },
 "nbformat": 4,
 "nbformat_minor": 5
}
