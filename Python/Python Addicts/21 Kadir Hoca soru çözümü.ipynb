{
 "cells": [
  {
   "cell_type": "code",
   "execution_count": null,
   "metadata": {},
   "outputs": [],
   "source": [
    "14 Haziran 2022, Salı"
   ]
  },
  {
   "cell_type": "code",
   "execution_count": null,
   "metadata": {
    "id": "RQdK7_CL6Xvc"
   },
   "outputs": [],
   "source": [
    "# İki tarih arasında kaç gün var?\n",
    "\"\"\"\n",
    "  Kullanıcıdan \"30.10.2020\" formatında iki adet tarih alın ve bu tarihler arasındaki \"gün sayısını\" bulunuz.\n",
    "  Kurallar:\n",
    "  * \"import\" kullanılamaz.\n",
    "  * \"def\" kullanılabilir.\n",
    "  * Her ay kendi gün sayısında değerlendirilecektir. (Oca:31, Şub:28, Mar: 31, ...)\n",
    "  * Sonuç 1 gün toleranslıdır. (Şubat ayından dolayı, sonuç \"1 gün eksik/fazla\" çıkabilir.)\n",
    "  İpucu:\n",
    "  * months = (0, 31, 28, 31, 30, 31, 30, 31, 31, 30, 31, 30, 31)\n",
    "\"\"\"\n",
    "# -----------------------------------------\n",
    "date1 = input('Date-1 (DD.MM.YYYY): ')\n",
    "date2 = input('Date-2 (DD.MM.YYYY): ')\n",
    "# -----------------------------------------"
   ]
  },
  {
   "cell_type": "code",
   "execution_count": 34,
   "metadata": {},
   "outputs": [
    {
     "data": {
      "text/plain": [
       "['10', '06', '2010']"
      ]
     },
     "execution_count": 34,
     "metadata": {},
     "output_type": "execute_result"
    }
   ],
   "source": [
    "# input almadan giriş yaparak sırayla çözmeye başlıyoruz.\n",
    "\n",
    "date1 = '10.06.2010'\n",
    "date2 = '10.02.2011'\n",
    "\n",
    "# months = (0, 31, 28, 31, 30, 31, 30, 31, 31, 30, 31, 30, 31)\n",
    "temp = date1.split('.') # tarih bir stringdir, onu noktalardan ayırarak listeye çevirdik\n",
    "temp"
   ]
  },
  {
   "cell_type": "code",
   "execution_count": 35,
   "metadata": {},
   "outputs": [
    {
     "name": "stdout",
     "output_type": "stream",
     "text": [
      "10\n",
      "06\n",
      "2010\n"
     ]
    }
   ],
   "source": [
    "day, mounth, year = date1.split('.') # bunları ayrı ayrı atama yapıyoruz.\n",
    "print(day)\n",
    "print(mounth)\n",
    "print(year)  # hepsini ayrıca atama yaptık."
   ]
  },
  {
   "cell_type": "code",
   "execution_count": 36,
   "metadata": {},
   "outputs": [],
   "source": [
    "# bu soruyu çözmek için ayı--> güne çevirip tarihi ---> 2010 yılı ve 42 gün gibi yapmamız lazım"
   ]
  },
  {
   "cell_type": "code",
   "execution_count": 37,
   "metadata": {},
   "outputs": [
    {
     "data": {
      "text/plain": [
       "10"
      ]
     },
     "execution_count": 37,
     "metadata": {},
     "output_type": "execute_result"
    }
   ],
   "source": [
    "sum_day = int(day)\n",
    "sum_day  # gün zaten hazır, ayı da güne çevirip üzerine eklicez"
   ]
  },
  {
   "cell_type": "code",
   "execution_count": 38,
   "metadata": {},
   "outputs": [],
   "source": [
    "months = (0, 31, 28, 31, 30, 31, 30, 31, 31, 30, 31, 30, 31)\n",
    "# sum([x for x in months[:int(mounth)]]) # haziran ayına kadar olan günler toplamı"
   ]
  },
  {
   "cell_type": "code",
   "execution_count": 39,
   "metadata": {},
   "outputs": [
    {
     "data": {
      "text/plain": [
       "161"
      ]
     },
     "execution_count": 39,
     "metadata": {},
     "output_type": "execute_result"
    }
   ],
   "source": [
    "sum_day += sum([x for x in months[:int(mounth)]])\n",
    "sum_day # 151 + hazirandan 10gün toplam 161 gün"
   ]
  },
  {
   "cell_type": "code",
   "execution_count": 40,
   "metadata": {},
   "outputs": [
    {
     "data": {
      "text/plain": [
       "151"
      ]
     },
     "execution_count": 40,
     "metadata": {},
     "output_type": "execute_result"
    }
   ],
   "source": [
    "summs = sum(months[:int(mounth)]) # aynısını for döngüsü yapmadan slicelama ile de yapabiliriz.\n",
    "summs"
   ]
  },
  {
   "cell_type": "code",
   "execution_count": 22,
   "metadata": {},
   "outputs": [
    {
     "name": "stdout",
     "output_type": "stream",
     "text": [
      "(2010, 161)\n"
     ]
    }
   ],
   "source": [
    "months = (0, 31, 28, 31, 30, 31, 30, 31, 31, 30, 31, 30, 31)\n",
    "day, mounth, year = date1.split('.')\n",
    "sum_day = int(day)\n",
    "sum_day += sum([x for x in months[:int(mounth)]])\n",
    "result = (int(year), sum_day)\n",
    "print(result) # istediğimiz formata döndü, 2010 yılı ve 161 gün"
   ]
  },
  {
   "cell_type": "code",
   "execution_count": 23,
   "metadata": {},
   "outputs": [
    {
     "name": "stdout",
     "output_type": "stream",
     "text": [
      "(2011, 41)\n"
     ]
    }
   ],
   "source": [
    "months = (0, 31, 28, 31, 30, 31, 30, 31, 31, 30, 31, 30, 31)\n",
    "day, mounth, year = date2.split('.')\n",
    "sum_day = int(day)\n",
    "sum_day += sum([x for x in months[:int(mounth)]])\n",
    "result = (int(year), sum_day)\n",
    "print(result)   # date2 için aynısını yaptık"
   ]
  },
  {
   "cell_type": "code",
   "execution_count": 27,
   "metadata": {},
   "outputs": [
    {
     "data": {
      "text/plain": [
       "(2012, 344)"
      ]
     },
     "execution_count": 27,
     "metadata": {},
     "output_type": "execute_result"
    }
   ],
   "source": [
    "tarih('10.12.2012')"
   ]
  },
  {
   "cell_type": "code",
   "execution_count": 28,
   "metadata": {},
   "outputs": [
    {
     "data": {
      "text/plain": [
       "(2009, 344)"
      ]
     },
     "execution_count": 28,
     "metadata": {},
     "output_type": "execute_result"
    }
   ],
   "source": [
    "tarih('10.12.2009')"
   ]
  },
  {
   "cell_type": "code",
   "execution_count": 31,
   "metadata": {},
   "outputs": [
    {
     "name": "stdout",
     "output_type": "stream",
     "text": [
      "Date-1 (DD.MM.YYYY): 10.10.1981\n",
      "Date-2 (DD.MM.YYYY): 10.06.1980\n",
      "487\n"
     ]
    }
   ],
   "source": [
    "str_date1 = input('Date-1 (DD.MM.YYYY): ')\n",
    "str_date2 = input('Date-2 (DD.MM.YYYY): ')\n",
    "\n",
    "def tarih(date):\n",
    "    months = (0, 31, 28, 31, 30, 31, 30, 31, 31, 30, 31, 30, 31)\n",
    "    day, mounth, year = date.split('.')\n",
    "    sum_day = int(day)\n",
    "    sum_day += sum([x for x in months[:int(mounth)]])\n",
    "    return (int(year), sum_day)\n",
    "\n",
    "date1 = tarih(str_date1)\n",
    "date2 = tarih(str_date2)\n",
    "\n",
    "total_day = int((date1[0]-date2[0])*365.25) #.25 şubat ayı artık günleri için ekledik\n",
    "total_day += (date1[1]-date2[1])\n",
    "\n",
    "print(total_day)"
   ]
  },
  {
   "cell_type": "code",
   "execution_count": null,
   "metadata": {},
   "outputs": [],
   "source": []
  },
  {
   "cell_type": "code",
   "execution_count": null,
   "metadata": {},
   "outputs": [],
   "source": []
  },
  {
   "cell_type": "code",
   "execution_count": null,
   "metadata": {},
   "outputs": [],
   "source": []
  },
  {
   "cell_type": "code",
   "execution_count": null,
   "metadata": {},
   "outputs": [],
   "source": []
  },
  {
   "cell_type": "code",
   "execution_count": null,
   "metadata": {},
   "outputs": [],
   "source": []
  },
  {
   "cell_type": "code",
   "execution_count": null,
   "metadata": {},
   "outputs": [],
   "source": []
  },
  {
   "cell_type": "code",
   "execution_count": null,
   "metadata": {
    "id": "e-7iyZdrHM6o"
   },
   "outputs": [],
   "source": [
    "# Fonksiyon sorusunu, programlama ile çözelim.\n",
    "\"\"\"\n",
    "  Aşağıdaki soruyu çözen bir fonksiyon yazıp, sonucu yazdırınız:\n",
    "    \"f(x) = |x-2|-|x|\" olduğuna göre \"f(-1)+f(0)+f(1)\" toplamı kaçtır? (2003/ÖSS)\n",
    "\"\"\"\n",
    "# -----------------------------------------"
   ]
  },
  {
   "cell_type": "code",
   "execution_count": 41,
   "metadata": {},
   "outputs": [
    {
     "data": {
      "text/plain": [
       "4"
      ]
     },
     "execution_count": 41,
     "metadata": {},
     "output_type": "execute_result"
    }
   ],
   "source": [
    "def fonksiyon(x):\n",
    "    return abs(x-2)-abs(x)\n",
    "\n",
    "fonksiyon(-1)+fonksiyon(0)+fonksiyon(1)"
   ]
  },
  {
   "cell_type": "code",
   "execution_count": 42,
   "metadata": {},
   "outputs": [
    {
     "name": "stdout",
     "output_type": "stream",
     "text": [
      "4\n"
     ]
    }
   ],
   "source": [
    "def f(x):\n",
    "    return abs(x-2)-abs(x)\n",
    "\n",
    "print(f(-1)+f(0)+f(1))"
   ]
  },
  {
   "cell_type": "code",
   "execution_count": null,
   "metadata": {
    "id": "jSLEVP9xTMIp"
   },
   "outputs": [],
   "source": [
    "# Fonksiyon sorusunu, programlama ile çözelim.\n",
    "\"\"\"\n",
    "  Aşağıdaki soruyu çözen bir fonksiyon yazıp, sonucu yazdırınız:\n",
    "    \"f(x) = x^2\" ve \"g(x) = 2x-1\" fonksiyonları için \"g(f(2))\" sonucu kaçtır? (2010/YGS)\n",
    "  Not:\n",
    "  * x^2 = x üssü 2 (x'in karesi)\n",
    "\"\"\"\n",
    "# -----------------------------------------"
   ]
  },
  {
   "cell_type": "code",
   "execution_count": 43,
   "metadata": {},
   "outputs": [
    {
     "data": {
      "text/plain": [
       "7"
      ]
     },
     "execution_count": 43,
     "metadata": {},
     "output_type": "execute_result"
    }
   ],
   "source": [
    "def f(a):\n",
    "    return a**2\n",
    "def g(b):\n",
    "    return (2*b)-1\n",
    "g(f(2))"
   ]
  },
  {
   "cell_type": "code",
   "execution_count": null,
   "metadata": {
    "id": "ZUK1P7_bUnut"
   },
   "outputs": [],
   "source": [
    "# Fonksiyon sorusunu, programlama ile çözelim.\n",
    "\"\"\"\n",
    "  Aşağıdaki soruyu çözen bir fonksiyon yazıp, sonucu yazdırınız:\n",
    "  * \"f(x) = 3(3x+1)-1\" fonksiyonu için \"f(x) = 20\" için \"x değeri\" kaçtır?\n",
    "\"\"\"\n",
    "# -----------------------------------------"
   ]
  },
  {
   "cell_type": "code",
   "execution_count": 44,
   "metadata": {},
   "outputs": [
    {
     "data": {
      "text/plain": [
       "20"
      ]
     },
     "execution_count": 44,
     "metadata": {},
     "output_type": "execute_result"
    }
   ],
   "source": [
    "def f(x):\n",
    "    return (3 * (3*x+1))-1\n",
    "f(2)"
   ]
  },
  {
   "cell_type": "code",
   "execution_count": 45,
   "metadata": {},
   "outputs": [
    {
     "data": {
      "text/plain": [
       "2"
      ]
     },
     "execution_count": 45,
     "metadata": {},
     "output_type": "execute_result"
    }
   ],
   "source": [
    "def tersf(qq):\n",
    "    return (((qq+1)//3)-1)//3\n",
    "tersf(20)"
   ]
  },
  {
   "cell_type": "code",
   "execution_count": null,
   "metadata": {
    "id": "vLL9p8s96zEm"
   },
   "outputs": [],
   "source": [
    "# Hangi sayılar pisagor üçgeni oluşturur?\n",
    "\"\"\"\n",
    "  Kullacıdan bir tam sayı isteyiniz (örneğin: 100) ve \"1'den bu sayıya kadar\" olan sayılarda, \n",
    "  \"hangi sayıların pisagor bağıntısı\" oluşturduğunu bulunuz.\n",
    "  * Pisagor Bağıntısı -> a**2 + b**2 = h**2\n",
    "  Kurallar:\n",
    "  * \"import\" kullanılamaz.\n",
    "  * Kullanıcıdan alınan sayı, aramaya dahildir.\n",
    "  İpucu:\n",
    "  * \"Kök alma\" için \"1/2 ile üs\" alınabilir. Örnek: 4**0.5=2\n",
    "\"\"\"\n",
    "# -----------------------------------------\n",
    "max_int = input(\"Input maximum number: \")\n",
    "# -----------------------------------------"
   ]
  },
  {
   "cell_type": "code",
   "execution_count": 47,
   "metadata": {},
   "outputs": [
    {
     "name": "stdout",
     "output_type": "stream",
     "text": [
      "Input maximum number: 6\n",
      "3 4 5\n",
      "4 3 5\n"
     ]
    }
   ],
   "source": [
    "max_int = int(input(\"Input maximum number: \"))\n",
    "\n",
    "for a in range (1, max_int+1):\n",
    "    for b in range (1, max_int+1):\n",
    "        for c in range (1, max_int+1):\n",
    "            if a**2 + b**2 == c**2:\n",
    "                print(a,b,c)"
   ]
  },
  {
   "cell_type": "code",
   "execution_count": 48,
   "metadata": {},
   "outputs": [
    {
     "data": {
      "text/plain": [
       "[(3, 4, 5), (4, 3, 5)]"
      ]
     },
     "execution_count": 48,
     "metadata": {},
     "output_type": "execute_result"
    }
   ],
   "source": [
    "[(a, b, c)  for a in range(1,max_int+1) for b in range(1,max_int+1) for c in range(1,max_int+1) if (a**2 + b**2 == c**2)]"
   ]
  },
  {
   "cell_type": "code",
   "execution_count": 33,
   "metadata": {
    "id": "OcOLSRlgfEmu"
   },
   "outputs": [
    {
     "name": "stdout",
     "output_type": "stream",
     "text": [
      "input [ 1 ] for ('Shirt', 'Red', 10.0)\n",
      "input [ 2 ] for ('Shirt', 'Blue', 11.5)\n",
      "input [ 3 ] for ('Shirt', 'Yellow', 12.0)\n",
      "input [ 4 ] for ('Pants', 'Red', 13.5)\n",
      "input [ 5 ] for ('Pants', 'Blue', 14.0)\n",
      "input [ 6 ] for ('Pants', 'Yellow', 15.5)\n",
      "input [ 7 ] for ('Tie', 'Red', 16.0)\n",
      "input [ 8 ] for ('Tie', 'Blue', 17.5)\n",
      "input [ 9 ] for ('Tie', 'Yellow', 18.0)\n",
      "How many do you want to buy? [0-9]: 1\n"
     ]
    }
   ],
   "source": [
    "# Sepetteki adetleri ve tutarlarını bulalım.\n",
    "\"\"\"\n",
    "  Kullanıcıdan \"kaç adet eşya\" istediğini sorun ve \"seçtiği eşyaların\" numarasını isteyin. \n",
    " (Örnek: kırmızı gömlek için \"1\" girilmelidir.)\n",
    "  Sonucu örnekteki gibi yazdırın. Örnek Çıktı:\n",
    "    Alınan: 2 adet Gömlek, 2 adet Pantolon, 3 adet Mavi, 1 adet Kırmızı \n",
    "    Toplam: 4 adet, 50.5O TL\n",
    "  Veri (Eşyalar):\n",
    "    clothes = {\n",
    "      #:('Type', 'Color', 'Price'),\n",
    "      1:(\"Shirt\", \"Red\", 10.00),\n",
    "      2:(\"Shirt\", \"Blue\", 11.50),\n",
    "      3:(\"Shirt\", \"Yellow\", 12.00),\n",
    "      4:(\"Pants\", \"Red\", 13.50),\n",
    "      5:(\"Pants\", \"Blue\", 14.00),\n",
    "      6:(\"Pants\", \"Yellow\", 15.50),\n",
    "      7:(\"Tie\", \"Red\", 16.00),\n",
    "      8:(\"Tie\", \"Blue\", 17.50),\n",
    "      9:(\"Tie\", \"Yellow\", 18.00)\n",
    "    }\n",
    "\"\"\"\n",
    "# -----------------------------------------\n",
    "clothes = {\n",
    "  #:('Type', 'Color', 'Price'),\n",
    "  1:(\"Shirt\", \"Red\", 10.00),\n",
    "  2:(\"Shirt\", \"Blue\", 11.50),\n",
    "  3:(\"Shirt\", \"Yellow\", 12.00),\n",
    "  4:(\"Pants\", \"Red\", 13.50),\n",
    "  5:(\"Pants\", \"Blue\", 14.00),\n",
    "  6:(\"Pants\", \"Yellow\", 15.50),\n",
    "  7:(\"Tie\", \"Red\", 16.00),\n",
    "  8:(\"Tie\", \"Blue\", 17.50),\n",
    "  9:(\"Tie\", \"Yellow\", 18.00)\n",
    "}\n",
    "for i in clothes: print('input [', i, '] for', clothes[i])\n",
    "count = int(input('How many do you want to buy? [0-9]: '))\n",
    "# -----------------------------------------"
   ]
  },
  {
   "cell_type": "code",
   "execution_count": null,
   "metadata": {},
   "outputs": [],
   "source": []
  }
 ],
 "metadata": {
  "colab": {
   "collapsed_sections": [],
   "name": "Python-Workshop-1.ipynb",
   "provenance": []
  },
  "kernelspec": {
   "display_name": "Python 3 (ipykernel)",
   "language": "python",
   "name": "python3"
  },
  "language_info": {
   "codemirror_mode": {
    "name": "ipython",
    "version": 3
   },
   "file_extension": ".py",
   "mimetype": "text/x-python",
   "name": "python",
   "nbconvert_exporter": "python",
   "pygments_lexer": "ipython3",
   "version": "3.9.7"
  }
 },
 "nbformat": 4,
 "nbformat_minor": 1
}
