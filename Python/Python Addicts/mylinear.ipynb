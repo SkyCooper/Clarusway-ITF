{
 "cells": [
  {
   "cell_type": "code",
   "execution_count": null,
   "id": "51a5b892",
   "metadata": {},
   "outputs": [],
   "source": []
  },
  {
   "cell_type": "code",
   "execution_count": null,
   "id": "33b5fd1f",
   "metadata": {},
   "outputs": [],
   "source": [
    "Soru6. Nearest Value\n",
    "\n",
    "Find the nearest value to the given one.\n",
    "\n",
    "You are given a list of values as set form and a value for which you need to find the nearest one.\n",
    "\n",
    "For example, we have the following set of numbers: 4, 7, 10, 11, 12, 17, \n",
    "    \n",
    "and we need to find the nearest value to the number 9. If we sort this set in the ascending order, \n",
    "\n",
    "then to the left of number 9 will be number 7 and to the\n",
    "\n",
    "right - will be number 10. But 10 is closer than 7, which means that the correct answer is 10."
   ]
  },
  {
   "cell_type": "code",
   "execution_count": 2,
   "id": "0d8d0e7f",
   "metadata": {},
   "outputs": [
    {
     "name": "stdout",
     "output_type": "stream",
     "text": [
      "10\n"
     ]
    }
   ],
   "source": [
    "kume = {4, 7, 10, 11, 12, 17}\n",
    "yakin = 9\n",
    "sayilar = list(kume)\n",
    "sayilar.append(yakin)\n",
    "sayilar.sort()\n",
    "sira = sayilar.index(yakin)\n",
    "onceki_sayi = (abs(sayilar[sira]-sayilar[sira-1]),sayilar[sira-1])\n",
    "sonraki_sayi = (abs(sayilar[sira]-sayilar[sira+1]),sayilar[sira+1])\n",
    "fark, sayi = min(onceki_sayi, sonraki_sayi)\n",
    "print(sayi)"
   ]
  },
  {
   "cell_type": "code",
   "execution_count": 3,
   "id": "a306963e",
   "metadata": {},
   "outputs": [
    {
     "name": "stdout",
     "output_type": "stream",
     "text": [
      "10\n"
     ]
    }
   ],
   "source": [
    "kume = {4, 7, 10, 11, 12, 17}\n",
    "yakin = 9\n",
    "sayilar = sorted(list(kume))\n",
    "bfark = abs(yakin - sayilar[0])\n",
    "result = 0\n",
    "for i in sayilar:\n",
    "  fark = abs(i - yakin)\n",
    "  if fark < bfark:\n",
    "    bfark = fark\n",
    "    result = i\n",
    "print(result)"
   ]
  },
  {
   "cell_type": "code",
   "execution_count": null,
   "id": "48747f9d",
   "metadata": {},
   "outputs": [],
   "source": []
  },
  {
   "cell_type": "code",
   "execution_count": null,
   "id": "022c1fb6",
   "metadata": {},
   "outputs": [],
   "source": []
  }
 ],
 "metadata": {
  "kernelspec": {
   "display_name": "Python 3 (ipykernel)",
   "language": "python",
   "name": "python3"
  },
  "language_info": {
   "codemirror_mode": {
    "name": "ipython",
    "version": 3
   },
   "file_extension": ".py",
   "mimetype": "text/x-python",
   "name": "python",
   "nbconvert_exporter": "python",
   "pygments_lexer": "ipython3",
   "version": "3.9.7"
  }
 },
 "nbformat": 4,
 "nbformat_minor": 5
}
