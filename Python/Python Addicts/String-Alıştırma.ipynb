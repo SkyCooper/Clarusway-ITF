{
 "cells": [
  {
   "cell_type": "markdown",
   "metadata": {
    "id": "KzY6MEclb3u-"
   },
   "source": [
    "Given the code below, insert the correct negative index on line 3 in order to get the last character in the string."
   ]
  },
  {
   "cell_type": "code",
   "execution_count": 1,
   "metadata": {
    "colab": {
     "base_uri": "https://localhost:8080/"
    },
    "executionInfo": {
     "elapsed": 8,
     "status": "ok",
     "timestamp": 1652027974184,
     "user": {
      "displayName": "Zübeyir Özkaya",
      "userId": "01795697105062985945"
     },
     "user_tz": -180
    },
    "id": "_0DIVVbVb3vF",
    "outputId": "f49ca369-5a76-4297-816b-425605f372b3"
   },
   "outputs": [],
   "source": [
    "my_string = \"In 2010, someone paid 10k Bitcoin for two pizzas.\"\n"
   ]
  },
  {
   "cell_type": "markdown",
   "metadata": {
    "id": "LpiphCMab3vH"
   },
   "source": [
    "<p>Given the code below, insert the correct positive index on line 3 in order to return the comma character from the string.</p>"
   ]
  },
  {
   "cell_type": "code",
   "execution_count": 3,
   "metadata": {
    "colab": {
     "base_uri": "https://localhost:8080/"
    },
    "executionInfo": {
     "elapsed": 957,
     "status": "ok",
     "timestamp": 1652029889622,
     "user": {
      "displayName": "Zübeyir Özkaya",
      "userId": "01795697105062985945"
     },
     "user_tz": -180
    },
    "id": "Zd6KzS9Gb3vI",
    "outputId": "4e211957-7332-402f-ca6c-52fdbd83ebfc"
   },
   "outputs": [],
   "source": [
    "my_string = \"In 2010, someone paid 10k Bitcoin for two pizzas.\"\n"
   ]
  },
  {
   "cell_type": "markdown",
   "metadata": {
    "id": "XhYrGBEnb3vJ"
   },
   "source": [
    "<p>Given the code below, insert the correct negative index on line 3 in order to return the <strong>w </strong>character from the string.</p>"
   ]
  },
  {
   "cell_type": "code",
   "execution_count": 4,
   "metadata": {
    "colab": {
     "base_uri": "https://localhost:8080/"
    },
    "executionInfo": {
     "elapsed": 282,
     "status": "ok",
     "timestamp": 1652029918371,
     "user": {
      "displayName": "Zübeyir Özkaya",
      "userId": "01795697105062985945"
     },
     "user_tz": -180
    },
    "id": "znsX8FyJb3vJ",
    "outputId": "84f77d62-4d29-4365-9d64-d7b7df117c6e"
   },
   "outputs": [],
   "source": [
    "my_string = \"In 2010, someone paid 10k Bitcoin for two pizzas.\"\n"
   ]
  },
  {
   "cell_type": "markdown",
   "metadata": {
    "id": "_lOE7idvb3vK"
   },
   "source": [
    "<p>Given the code below, insert the correct method on line 3 in order to return the index of the <strong>B </strong>character in the string.</p>"
   ]
  },
  {
   "cell_type": "code",
   "execution_count": 5,
   "metadata": {
    "colab": {
     "base_uri": "https://localhost:8080/"
    },
    "executionInfo": {
     "elapsed": 265,
     "status": "ok",
     "timestamp": 1652037486019,
     "user": {
      "displayName": "Zübeyir Özkaya",
      "userId": "01795697105062985945"
     },
     "user_tz": -180
    },
    "id": "kD5WF3Fnb3vL",
    "outputId": "1d67d8d2-af0d-4a2e-fbe3-3856aca10ac2"
   },
   "outputs": [],
   "source": [
    "my_string = \"In 2010, someone paid 10k Bitcoin for two pizzas.\"\n",
    "\n"
   ]
  },
  {
   "cell_type": "markdown",
   "metadata": {
    "id": "C8RiV1Wzb3vL"
   },
   "source": [
    "<p>Given the code below, insert the correct method on line 3 in order to return the number of occurrences of the letter <strong>o </strong>in the string.</p>"
   ]
  },
  {
   "cell_type": "code",
   "execution_count": 6,
   "metadata": {
    "colab": {
     "base_uri": "https://localhost:8080/"
    },
    "executionInfo": {
     "elapsed": 287,
     "status": "ok",
     "timestamp": 1652039605758,
     "user": {
      "displayName": "Zübeyir Özkaya",
      "userId": "01795697105062985945"
     },
     "user_tz": -180
    },
    "id": "MqowB8b9b3vN",
    "outputId": "571f9fde-1599-46ee-fd1f-bf2cfb74cce7"
   },
   "outputs": [],
   "source": [
    "my_string = \"In 2010, someone paid 10k Bitcoin for two pizzas.\"\n",
    "\n"
   ]
  },
  {
   "cell_type": "markdown",
   "metadata": {
    "id": "5QLpv1plb3vO"
   },
   "source": [
    "<p>Given the code below, insert the correct method on line 3 in order to convert all letters in the string to uppercase.</p>"
   ]
  },
  {
   "cell_type": "code",
   "execution_count": 7,
   "metadata": {
    "colab": {
     "base_uri": "https://localhost:8080/"
    },
    "executionInfo": {
     "elapsed": 304,
     "status": "ok",
     "timestamp": 1652040400834,
     "user": {
      "displayName": "Zübeyir Özkaya",
      "userId": "01795697105062985945"
     },
     "user_tz": -180
    },
    "id": "yz5kuX4hb3vP",
    "outputId": "c9267857-095d-408b-b1e7-35b4567590da"
   },
   "outputs": [],
   "source": [
    "my_string = \"In 2010, someone paid 10k Bitcoin for two pizzas.\"\n",
    "\n"
   ]
  },
  {
   "cell_type": "markdown",
   "metadata": {
    "id": "clNJWjWNb3vP"
   },
   "source": [
    "<p>Given the code below, insert the correct method on line 3 in order to get the index at which the substring <strong>Bitcoin </strong>starts.</p>"
   ]
  },
  {
   "cell_type": "code",
   "execution_count": 8,
   "metadata": {
    "colab": {
     "base_uri": "https://localhost:8080/"
    },
    "executionInfo": {
     "elapsed": 279,
     "status": "ok",
     "timestamp": 1652047429671,
     "user": {
      "displayName": "Zübeyir Özkaya",
      "userId": "01795697105062985945"
     },
     "user_tz": -180
    },
    "id": "y_PLQlG8b3vP",
    "outputId": "bdc943e0-28e0-4d62-feae-506e86379cc7"
   },
   "outputs": [],
   "source": [
    "my_string = \"In 2010, someone paid 10k Bitcoin for two pizzas.\"\n",
    " \n"
   ]
  },
  {
   "cell_type": "markdown",
   "metadata": {
    "id": "LVBGYONkb3vQ"
   },
   "source": [
    "<p>Given the code below, insert the correct method on line 3 in order to check of the string starts with the letter <strong>X</strong>.</p>"
   ]
  },
  {
   "cell_type": "code",
   "execution_count": 9,
   "metadata": {
    "colab": {
     "base_uri": "https://localhost:8080/"
    },
    "executionInfo": {
     "elapsed": 302,
     "status": "ok",
     "timestamp": 1652048433228,
     "user": {
      "displayName": "Zübeyir Özkaya",
      "userId": "01795697105062985945"
     },
     "user_tz": -180
    },
    "id": "82uhRPeUb3vQ",
    "outputId": "cf753f93-6fbe-4b49-dd5e-0d244a502f33"
   },
   "outputs": [],
   "source": [
    "my_string = \"In 2010, someone paid 10k Bitcoin for two pizzas.\"\n",
    "\n"
   ]
  },
  {
   "cell_type": "markdown",
   "metadata": {
    "id": "6TKIcVs4b3vR"
   },
   "source": [
    "<p>Given the code below, insert the correct method on line 3 in order to convert all uppercase letters to lowercase and all lowercase letters to uppercase.</p>"
   ]
  },
  {
   "cell_type": "code",
   "execution_count": 10,
   "metadata": {
    "colab": {
     "base_uri": "https://localhost:8080/"
    },
    "executionInfo": {
     "elapsed": 10,
     "status": "ok",
     "timestamp": 1652048499491,
     "user": {
      "displayName": "Zübeyir Özkaya",
      "userId": "01795697105062985945"
     },
     "user_tz": -180
    },
    "id": "8szMbe6mb3vR",
    "outputId": "da249475-a89c-4e82-e4c2-865f0260ca67"
   },
   "outputs": [],
   "source": [
    "my_string = \"In 2010, someone paid 10k Bitcoin for two pizzas.\"\n",
    "\n"
   ]
  },
  {
   "cell_type": "markdown",
   "metadata": {
    "id": "4jqPQrT2b3vR"
   },
   "source": [
    "<p>Given the code below, insert the correct method on line 3 in order to remove all spaces (single Space characters from the keyboard) from the string.</p>"
   ]
  },
  {
   "cell_type": "code",
   "execution_count": 11,
   "metadata": {
    "colab": {
     "base_uri": "https://localhost:8080/"
    },
    "executionInfo": {
     "elapsed": 297,
     "status": "ok",
     "timestamp": 1652048936714,
     "user": {
      "displayName": "Zübeyir Özkaya",
      "userId": "01795697105062985945"
     },
     "user_tz": -180
    },
    "id": "UdXrvWRFb3vS",
    "outputId": "a2ad6447-5be0-4a80-8f64-9bc908657281"
   },
   "outputs": [],
   "source": [
    "my_string = \"In 2010, someone paid 10k Bitcoin for two pizzas.\"\n",
    "\n"
   ]
  },
  {
   "cell_type": "markdown",
   "metadata": {
    "id": "rTK-GoWdb3vS"
   },
   "source": [
    "<p>Given the code below, insert the correct method on line 3 in order to replace all the occurrences of letter <strong>i </strong>with the substring <strong>btc</strong>.</p>"
   ]
  },
  {
   "cell_type": "code",
   "execution_count": 12,
   "metadata": {
    "colab": {
     "base_uri": "https://localhost:8080/"
    },
    "executionInfo": {
     "elapsed": 412,
     "status": "ok",
     "timestamp": 1652049015376,
     "user": {
      "displayName": "Zübeyir Özkaya",
      "userId": "01795697105062985945"
     },
     "user_tz": -180
    },
    "id": "br1xLswRb3vS",
    "outputId": "731110f5-c50b-48c4-86e9-8c45dc480ac8"
   },
   "outputs": [],
   "source": [
    "my_string = \"In 2010, someone paid 10k Bitcoin for two pizzas.\"\n",
    " \n"
   ]
  },
  {
   "cell_type": "markdown",
   "metadata": {
    "id": "1R5ktBLyb3vT"
   },
   "source": [
    "<p>Given the code below, insert the correct method on line 3 in order to split the entire string in two parts, using the comma as a delimiter.</p>"
   ]
  },
  {
   "cell_type": "code",
   "execution_count": 13,
   "metadata": {
    "colab": {
     "base_uri": "https://localhost:8080/"
    },
    "executionInfo": {
     "elapsed": 382,
     "status": "ok",
     "timestamp": 1652049312911,
     "user": {
      "displayName": "Zübeyir Özkaya",
      "userId": "01795697105062985945"
     },
     "user_tz": -180
    },
    "id": "y-loS_k7b3vT",
    "outputId": "bed76848-37ac-41f0-e20a-08bbceb703a7"
   },
   "outputs": [],
   "source": [
    "my_string = \"In 2010, someone paid 10k Bitcoin for two pizzas.\"\n",
    "\n"
   ]
  },
  {
   "cell_type": "markdown",
   "metadata": {
    "id": "l0FC1pCBb3vT"
   },
   "source": [
    "<p>Given the code below, insert the correct method on line 3 in order to join the characters of the string using the <strong>&amp; </strong>symbol as a delimiter.</p>"
   ]
  },
  {
   "cell_type": "code",
   "execution_count": 14,
   "metadata": {
    "colab": {
     "base_uri": "https://localhost:8080/"
    },
    "executionInfo": {
     "elapsed": 272,
     "status": "ok",
     "timestamp": 1652049937713,
     "user": {
      "displayName": "Zübeyir Özkaya",
      "userId": "01795697105062985945"
     },
     "user_tz": -180
    },
    "id": "Hoi1GIs0b3vT",
    "outputId": "01a699bb-90a6-4c85-a29d-28607f54452b"
   },
   "outputs": [],
   "source": [
    "my_string = \"In 2010, someone paid 10k Bitcoin for two pizzas.\"\n",
    "\n"
   ]
  },
  {
   "cell_type": "markdown",
   "metadata": {
    "id": "aK8OjVtQb3vU"
   },
   "source": [
    "<p>Given the code below, insert the correct code on line 4 in order to concatenate <strong>my_string</strong> with the following string:</p><code>my_other_string = \"Poor guy!\"</code>"
   ]
  },
  {
   "cell_type": "code",
   "execution_count": 15,
   "metadata": {
    "colab": {
     "base_uri": "https://localhost:8080/"
    },
    "executionInfo": {
     "elapsed": 272,
     "status": "ok",
     "timestamp": 1652042143898,
     "user": {
      "displayName": "Zübeyir Özkaya",
      "userId": "01795697105062985945"
     },
     "user_tz": -180
    },
    "id": "_xgtq19ub3vU",
    "outputId": "2325ee33-1ecf-446d-a8c0-b9d9f89abae3"
   },
   "outputs": [],
   "source": [
    "my_string = \"In 2010, someone paid 10k Bitcoin for two pizzas.\"\n",
    "my_other_string = \"Poor guy!\"\n",
    "\n"
   ]
  },
  {
   "cell_type": "markdown",
   "metadata": {
    "id": "kpu5IvGJb3vU"
   },
   "source": [
    "<p>Given the code below, insert the correct method on line 3 in order to convert the first letter of each word in the string to uppercase.</p>"
   ]
  },
  {
   "cell_type": "code",
   "execution_count": 16,
   "metadata": {
    "colab": {
     "base_uri": "https://localhost:8080/"
    },
    "executionInfo": {
     "elapsed": 285,
     "status": "ok",
     "timestamp": 1652042304473,
     "user": {
      "displayName": "Zübeyir Özkaya",
      "userId": "01795697105062985945"
     },
     "user_tz": -180
    },
    "id": "TTktyb-5b3vU",
    "outputId": "de272fa0-e543-4c6b-cb32-05f3806d5f4d"
   },
   "outputs": [],
   "source": [
    "my_string = \"In 2010, someone paid 10k Bitcoin for two pizzas.\"\n",
    "\n"
   ]
  },
  {
   "cell_type": "markdown",
   "metadata": {
    "id": "--ElMunrb3vU"
   },
   "source": [
    "<p>Given the code below, use string formatting with the <strong>format()</strong> method on line 3 to map the values of <strong>2010</strong>, <strong>10k </strong>and <strong>Bitcoin </strong>to the corresponding formatting operators.</p>"
   ]
  },
  {
   "cell_type": "code",
   "execution_count": 17,
   "metadata": {
    "colab": {
     "base_uri": "https://localhost:8080/"
    },
    "executionInfo": {
     "elapsed": 282,
     "status": "ok",
     "timestamp": 1652050121079,
     "user": {
      "displayName": "Zübeyir Özkaya",
      "userId": "01795697105062985945"
     },
     "user_tz": -180
    },
    "id": "5kl_7-Jsb3vV",
    "outputId": "a73ce510-7223-4334-9b78-7c50c85b2020"
   },
   "outputs": [],
   "source": [
    "my_string = \"In {}, someone paid {} {} for two pizzas.\"\n",
    "\n"
   ]
  },
  {
   "cell_type": "markdown",
   "metadata": {
    "id": "7YM1r2T0b3vV"
   },
   "source": [
    "<p>Given the code below, use slicing and insert the correct code on line 3 in order to return the substring <strong>2010 </strong>from the string. Use positive indexes!</p>"
   ]
  },
  {
   "cell_type": "code",
   "execution_count": 18,
   "metadata": {
    "colab": {
     "base_uri": "https://localhost:8080/"
    },
    "executionInfo": {
     "elapsed": 288,
     "status": "ok",
     "timestamp": 1652050556474,
     "user": {
      "displayName": "Zübeyir Özkaya",
      "userId": "01795697105062985945"
     },
     "user_tz": -180
    },
    "id": "gvcrlgohb3vV",
    "outputId": "75586ea3-24b6-4ab5-f030-2f720bc89c29"
   },
   "outputs": [],
   "source": [
    "my_string = \"In 2010, someone paid 10k Bitcoin for two pizzas.\"\n",
    "\n"
   ]
  },
  {
   "cell_type": "markdown",
   "metadata": {
    "id": "_sHJq8Q9b3vV"
   },
   "source": [
    "<p>Given the code below, use slicing and insert the correct code on line 3 in order to return the substring <strong>Bitcoin </strong>from the string. Use negative indexes!</p>"
   ]
  },
  {
   "cell_type": "code",
   "execution_count": 19,
   "metadata": {
    "colab": {
     "base_uri": "https://localhost:8080/"
    },
    "executionInfo": {
     "elapsed": 280,
     "status": "ok",
     "timestamp": 1652050607639,
     "user": {
      "displayName": "Zübeyir Özkaya",
      "userId": "01795697105062985945"
     },
     "user_tz": -180
    },
    "id": "TCFiLdfJb3vV",
    "outputId": "f1d98963-6bdf-4fa6-ecc4-8fadf5d97736"
   },
   "outputs": [],
   "source": [
    "my_string = \"In 2010, someone paid 10k Bitcoin for two pizzas.\"\n",
    "\n"
   ]
  },
  {
   "cell_type": "markdown",
   "metadata": {
    "id": "QAh4LNxCb3vW"
   },
   "source": [
    "<p>Given the code below, use slicing and insert the correct code on line 3 in order to return the first 12 characters in the string. Use a single, positive index!</p>"
   ]
  },
  {
   "cell_type": "code",
   "execution_count": 20,
   "metadata": {
    "colab": {
     "base_uri": "https://localhost:8080/"
    },
    "executionInfo": {
     "elapsed": 287,
     "status": "ok",
     "timestamp": 1652050697743,
     "user": {
      "displayName": "Zübeyir Özkaya",
      "userId": "01795697105062985945"
     },
     "user_tz": -180
    },
    "id": "8wNQlNtbb3vW",
    "outputId": "6a3774fe-d9b7-4abc-cddb-c8daee652559"
   },
   "outputs": [],
   "source": [
    "my_string = \"In 2010, someone paid 10k Bitcoin for two pizzas.\"\n",
    "\n"
   ]
  },
  {
   "cell_type": "markdown",
   "metadata": {
    "id": "xn_2-Nlfb3vW"
   },
   "source": [
    "<p>Given the code below, use slicing and insert the correct code on line 3 in order to return the last 9 characters of the string. Use a single, negative index!</p>"
   ]
  },
  {
   "cell_type": "code",
   "execution_count": 21,
   "metadata": {
    "colab": {
     "base_uri": "https://localhost:8080/"
    },
    "executionInfo": {
     "elapsed": 509,
     "status": "ok",
     "timestamp": 1652050793530,
     "user": {
      "displayName": "Zübeyir Özkaya",
      "userId": "01795697105062985945"
     },
     "user_tz": -180
    },
    "id": "xnaccMvpb3vW",
    "outputId": "66114870-923a-4b71-e541-50c3aa49c3b6"
   },
   "outputs": [],
   "source": [
    "my_string = \"In 2010, someone paid 10k Bitcoin for two pizzas.\"\n",
    "\n"
   ]
  },
  {
   "cell_type": "markdown",
   "metadata": {
    "id": "SFgXNuVlb3vW"
   },
   "source": [
    "<p>Given the code below, use slicing and insert the correct code on line 3 in order to return the entire string in reversed order.</p>"
   ]
  },
  {
   "cell_type": "code",
   "execution_count": 22,
   "metadata": {
    "colab": {
     "base_uri": "https://localhost:8080/"
    },
    "executionInfo": {
     "elapsed": 275,
     "status": "ok",
     "timestamp": 1652050843594,
     "user": {
      "displayName": "Zübeyir Özkaya",
      "userId": "01795697105062985945"
     },
     "user_tz": -180
    },
    "id": "C9qpwzYAb3vX",
    "outputId": "2ae7f7b2-c5a5-462f-cb42-ab9df4eede0e"
   },
   "outputs": [],
   "source": [
    "my_string = \"In 2010, someone paid 10k Bitcoin for two pizzas.\"\n",
    "\n"
   ]
  },
  {
   "cell_type": "markdown",
   "metadata": {
    "id": "4vLAjhg7b3vX"
   },
   "source": [
    "<p>Given the code below, use slicing and insert the correct code on line 3 in order to return every 7th character of the string, starting with the first character.</p><p>The final result should be <code>I,n top</code></p>"
   ]
  },
  {
   "cell_type": "code",
   "execution_count": 23,
   "metadata": {
    "colab": {
     "base_uri": "https://localhost:8080/"
    },
    "executionInfo": {
     "elapsed": 268,
     "status": "ok",
     "timestamp": 1652050896140,
     "user": {
      "displayName": "Zübeyir Özkaya",
      "userId": "01795697105062985945"
     },
     "user_tz": -180
    },
    "id": "wiBR2c5Db3vX",
    "outputId": "e2b6bead-d036-4fda-c53a-23ffdc0bf807"
   },
   "outputs": [],
   "source": [
    "my_string = \"In 2010, someone paid 10k Bitcoin for two pizzas.\"\n",
    "\n"
   ]
  },
  {
   "cell_type": "markdown",
   "metadata": {
    "id": "LrGY7ymMb3vX"
   },
   "source": [
    "<p>Given the code below, use slicing and insert the correct code on line 3 in order to return the string except the first 10 characters. Use a single, positive index!</p>"
   ]
  },
  {
   "cell_type": "code",
   "execution_count": 24,
   "metadata": {
    "colab": {
     "base_uri": "https://localhost:8080/"
    },
    "executionInfo": {
     "elapsed": 288,
     "status": "ok",
     "timestamp": 1652050958281,
     "user": {
      "displayName": "Zübeyir Özkaya",
      "userId": "01795697105062985945"
     },
     "user_tz": -180
    },
    "id": "b4Kq7WtDb3vX",
    "outputId": "196a2d2d-3036-401d-bb72-666070fd00a2"
   },
   "outputs": [],
   "source": [
    "my_string = \"In 2010, someone paid 10k Bitcoin for two pizzas.\"\n",
    "\n"
   ]
  },
  {
   "cell_type": "markdown",
   "metadata": {
    "id": "U_Ov5Ipub3vX"
   },
   "source": [
    "<p>Given the code below, use slicing and insert the correct code on line 3 in order to return the string except the last 4 characters. Use a single, negative index!</p>"
   ]
  },
  {
   "cell_type": "code",
   "execution_count": 25,
   "metadata": {
    "colab": {
     "base_uri": "https://localhost:8080/"
    },
    "executionInfo": {
     "elapsed": 323,
     "status": "ok",
     "timestamp": 1652051032383,
     "user": {
      "displayName": "Zübeyir Özkaya",
      "userId": "01795697105062985945"
     },
     "user_tz": -180
    },
    "id": "LsXQFhkSb3vX",
    "outputId": "6f2f99e9-c7c3-4dc4-fc30-8416287ffabf"
   },
   "outputs": [],
   "source": [
    "my_string = \"In 2010, someone paid 10k Bitcoin for two pizzas.\"\n",
    "\n"
   ]
  },
  {
   "cell_type": "code",
   "execution_count": null,
   "metadata": {},
   "outputs": [],
   "source": []
  }
 ],
 "metadata": {
  "colab": {
   "collapsed_sections": [],
   "name": "Strings_examples.ipynb",
   "provenance": []
  },
  "interpreter": {
   "hash": "468f25ad0239460415b7e6b7483d5c8f7213894121f6fb96c4cb6ef93fffe534"
  },
  "kernelspec": {
   "display_name": "Python 3 (ipykernel)",
   "language": "python",
   "name": "python3"
  },
  "language_info": {
   "codemirror_mode": {
    "name": "ipython",
    "version": 3
   },
   "file_extension": ".py",
   "mimetype": "text/x-python",
   "name": "python",
   "nbconvert_exporter": "python",
   "pygments_lexer": "ipython3",
   "version": "3.9.7"
  }
 },
 "nbformat": 4,
 "nbformat_minor": 1
}
