{
 "cells": [
  {
   "cell_type": "code",
   "execution_count": null,
   "id": "c6ad3a4b",
   "metadata": {},
   "outputs": [],
   "source": []
  },
  {
   "cell_type": "raw",
   "id": "d533321b",
   "metadata": {},
   "source": [
    "Arkadaşlar bir soru da benden... Googlellayıp bulunan bir soru değil, ortamlarda çok rastlanan bir soruysa da bakmadım, tamamen el emeği göz nuru. Ben kendimce yaptım, farklı yaklaşımlar neler olabilir görmek istiyorum. Soru şu:\n",
    "\n",
    "İşverenimiz bizden, kullanıcı tarafından girilen bir metni şifreleyen bir program istedi. İstenen şartlar şunlar:\n",
    "\n",
    "-  Girilen Türkçe metinlerde her harf alfabetik sıraya göre kendisinden iki sonraki harfe dönüştürülecek. \n",
    "   (Örneğin 'a' harfi 'c', 'z' harfi 'b' olacak)\n",
    "- Girilen metinde harf dışında bir karakter varsa 'Lütfen Sadece Harflerden Oluşan Bir Metin Giriniz!' uyarısından sonra tekrar input istenecek.\n",
    "- Büyük harfler büyük harf olarak, küçük harflerse küçük harf olarak dönüştürülecek.\n",
    "- Boşluklar boşluk olarak korunacak.\n",
    "- Çözümde bugüne kadar gördüğümüz konular dairesinde kalınacak."
   ]
  },
  {
   "cell_type": "code",
   "execution_count": 1,
   "id": "bacb54f6",
   "metadata": {},
   "outputs": [
    {
     "name": "stdout",
     "output_type": "stream",
     "text": [
      "Type something with only letters and whitespace:cooper\n",
      "Processing...\n",
      "Your text was:cooper, After conversion:dsppgş\n"
     ]
    }
   ],
   "source": [
    "# F3561 - Hüseyin\n",
    "\n",
    "#building special charset and its indexing\n",
    "alphabet_tr_string=\"abcçdefgğhıijklmnoöprsştuüvyz\"\n",
    "alphabet_tr_checklist=list(alphabet_tr_string)+list(alphabet_tr_string.upper())+[\" \"]\n",
    "alphabet_dict=dict(zip(list(range(1,30)),list(zip(alphabet_tr_string,alphabet_tr_string.upper()))))\n",
    "\n",
    "#input validation\n",
    "while True:\n",
    "  string=input(\"Type something with only letters and whitespace:\")\n",
    "  check=0\n",
    "  for i in string:\n",
    "    if i not in alphabet_tr_checklist:\n",
    "      check=1\n",
    "      break\n",
    "  if check:\n",
    "    print(\"Invalid input. Type only Turkish letters(whitespace allowed).\\n\")\n",
    "    continue\n",
    "  else:\n",
    "    print(\"Processing...\")\n",
    "    break\n",
    "\n",
    "#changing letters\n",
    "string_temp=string[:]\n",
    "for i in range(len(string)):\n",
    "  if string_temp[i]!=\" \":\n",
    "    for key,value in alphabet_dict.items():\n",
    "      if string_temp[i] in value:\n",
    "        if string[i].isupper():\n",
    "          string_temp=string_temp.replace(string_temp[i],alphabet_dict[(key+2)%29][1],1)\n",
    "          break\n",
    "        else:\n",
    "          string_temp=string_temp.replace(string_temp[i],alphabet_dict[(key+2)%29][0],1)\n",
    "          break\n",
    "print(f\"Your text was:{string}, After conversion:{string_temp}\")"
   ]
  },
  {
   "cell_type": "code",
   "execution_count": 2,
   "id": "ce124249",
   "metadata": {},
   "outputs": [
    {
     "name": "stdout",
     "output_type": "stream",
     "text": [
      "Please Enter a Letter Only Text : cooper\n",
      "dppsgş\n"
     ]
    }
   ],
   "source": [
    "# F3733 - Rabia\n",
    "\n",
    "while True:\n",
    "    text=input(\"Please Enter a Letter Only Text : \")\n",
    "    if not text.replace(' ','').isalpha():\n",
    "      print(\"Please Enter a Letter Only Text :\")\n",
    "      continue\n",
    "    else:\n",
    "      break \n",
    "little=[\"a\",\"b\",\"c\",\"ç\",\"d\",\"e\",\"f\",\"g\",\"ğ\",\"h\",\"ı\",\"i\",\"j\",\"k\",\"l\",\"m\",\"n\",\"o\",\"ö\",\"p\",\"r\",\"s\",\"ş\",\"t\",\"u\",\"ü\",\"v\",\"y\",\"z\"]\n",
    "big=[\"A\",\"B\",\"C\",\"Ç\",\"D\",\"E\",\"F\",\"G\",\"Ğ\",\"H\",\"I\",\"İ\",\"J\",\"K\",\"L\",\"M\",\"N\",\"O\",\"Ö\",\"P\",\"R\",\"S\",\"Ş\",\"T\",\"U\",\"Ü\",\"V\",\"Y\",\"Z\"]\n",
    "newtext=\"\"\n",
    "for i in text:\n",
    "    if i in little:\n",
    "      newtext+=little[little.index(i)+2]\n",
    "    elif i in big:\n",
    "      newtext+=big[big.index(i)+2]\n",
    "    else:\n",
    "      newtext+=i\n",
    "print(newtext)"
   ]
  },
  {
   "cell_type": "code",
   "execution_count": 3,
   "id": "c9ece4a6",
   "metadata": {},
   "outputs": [
    {
     "name": "stdout",
     "output_type": "stream",
     "text": [
      "metin giriniz: cooper\n",
      "dppsgş\n"
     ]
    }
   ],
   "source": [
    "# F3730 Erhan\n",
    "\n",
    "büyük = \"A, B, C, Ç, D, E, F, G, Ğ, H, I, İ, J, K, L, M, N, O, Ö, P, R, S, Ş, T, U, Ü, V, Y, Z\"\n",
    "büyük = büyük.replace(\", \", \"\")\n",
    "küçük = \"a, b, c, ç, d, e, f, g, ğ, h, ı, i, j, k, l, m, n, o, ö, p, r, s, ş, t, u, ü, v, y, z\"\n",
    "küçük = küçük.replace(\", \", \"\")\n",
    "\n",
    "metin = input(\"metin giriniz: \")\n",
    "\n",
    "girilen = \"\"\n",
    "if (metin.strip(\" \")).isalpha():\n",
    "  for i in metin:\n",
    "    if i in büyük:\n",
    "      girilen += büyük[(büyük.index(i) + 2) % 29]\n",
    "    elif i in küçük:\n",
    "      girilen += küçük[(küçük.index(i) + 2 )% 29]\n",
    "    elif i == \" \":\n",
    "      girilen += i\n",
    "else:\n",
    "  print(\"tekrar giriniz\")\n",
    "    \n",
    "print(girilen)"
   ]
  },
  {
   "cell_type": "code",
   "execution_count": 4,
   "id": "411ec3ed",
   "metadata": {},
   "outputs": [
    {
     "name": "stdout",
     "output_type": "stream",
     "text": [
      "Enter a text to be crypted: cooper\n",
      "Enter the ceasar number to cypher the text: 2\n",
      "eqqrgt\n"
     ]
    }
   ],
   "source": [
    "# C_9131_Raymond Reddington\n",
    "\n",
    "text=input('Enter a text to be crypted: ')\n",
    "caesar=int(input('Enter the ceasar number to cypher the text: '))\n",
    "import string\n",
    "alphabet_lower = list(string.ascii_lowercase)\n",
    "alphabet_upper = list(string.ascii_uppercase)\n",
    "crypted_text=''\n",
    "for i in text:\n",
    "  if i in alphabet_lower:\n",
    "    if alphabet_lower.index(i)+caesar>25:\n",
    "      crypted_text+= alphabet_lower[(alphabet_lower.index(i)+caesar-25)]\n",
    "    else:\n",
    "      crypted_text+= alphabet_lower[(alphabet_lower.index(i)+caesar)]\n",
    "  elif i in alphabet_upper:\n",
    "    if alphabet_upper.index(i)+caesar>25:\n",
    "      crypted_text+= alphabet_upper[(alphabet_upper.index(i)+caesar-25)]\n",
    "    else:\n",
    "      crypted_text+= alphabet_upper[(alphabet_upper.index(i)+caesar)]\n",
    "  else:\n",
    "    crypted_text+= i\n",
    "print(crypted_text)"
   ]
  },
  {
   "cell_type": "code",
   "execution_count": 5,
   "id": "6eef7e51",
   "metadata": {},
   "outputs": [
    {
     "name": "stdout",
     "output_type": "stream",
     "text": [
      "Şifrelemek istediğiniz yazıyı giriniz.cooper\n",
      "cooper\n",
      "dppsgş"
     ]
    }
   ],
   "source": [
    "# F3662-Muhsin\n",
    "\n",
    "giris = input(\"Şifrelemek istediğiniz yazıyı giriniz.\")\n",
    "harfler_b = [\"A\", \"B\", \"C\", \"Ç\", \"D\", \"E\", \"F\", \"G\", \"Ğ\", \"H\", \"I\", \"İ\", \"J\", \"K\", \"L\", \"M\", \"N\", \"O\", \"Ö\", \"P\", \"R\", \"S\", \"Ş\", \"T\", \"U\", \"Ü\", \"V\", \"Y\", \"Z\"]\n",
    "harfler_k = ['a', 'b', 'c', 'ç', 'd', 'e', 'f', 'g', 'ğ', 'h', 'i', 'ı', 'j', 'k', 'l', 'm', 'n', 'o', 'ö', 'p', 'r', 's', 'ş', 't', 'u', 'ü', 'v', 'y', 'z']\n",
    "while True:\n",
    "    if giris.replace(\" \", \"\").isalpha():\n",
    "        break\n",
    "    else:\n",
    "        giris = input(\"Lütfen Sadece Metin Giriniz.\")\n",
    "print(giris)\n",
    "for i in giris:\n",
    "    if i == \" \":\n",
    "        print(i, end=\"\")\n",
    "\n",
    "    elif i in harfler_b:\n",
    "        if len(harfler_b) - harfler_b.index(i) <= 2:\n",
    "            print(harfler_b[harfler_b.index(i)-27], end=\"\")\n",
    "        else:\n",
    "            print(harfler_b[harfler_b.index(i)+2], end=\"\")\n",
    "\n",
    "    else:\n",
    "        if len(harfler_k) - harfler_k.index(i) <= 2:\n",
    "            print(harfler_k[harfler_k.index(i)-27], end=\"\")\n",
    "        else:\n",
    "            print(harfler_k[harfler_k.index(i)+2], end=\"\")"
   ]
  },
  {
   "cell_type": "code",
   "execution_count": 6,
   "id": "5eb7572a",
   "metadata": {},
   "outputs": [
    {
     "name": "stdout",
     "output_type": "stream",
     "text": [
      "şifrenizi giriniz : cooper\n",
      "eqqrgt"
     ]
    }
   ],
   "source": [
    "# F3631-ihsan\n",
    " \n",
    "şifre = input(\"şifrenizi giriniz : \")\n",
    "if not şifre.isalpha():\n",
    "  while True:\n",
    "    şifre = input(\" lütfen sadece metin giriniz : \")\n",
    "    if şifre.isalpha():\n",
    "      break\n",
    "for i in şifre:\n",
    "  print(chr(ord(i)+2), end =\"\")"
   ]
  },
  {
   "cell_type": "code",
   "execution_count": null,
   "id": "73c409dd",
   "metadata": {},
   "outputs": [],
   "source": []
  }
 ],
 "metadata": {
  "kernelspec": {
   "display_name": "Python 3 (ipykernel)",
   "language": "python",
   "name": "python3"
  },
  "language_info": {
   "codemirror_mode": {
    "name": "ipython",
    "version": 3
   },
   "file_extension": ".py",
   "mimetype": "text/x-python",
   "name": "python",
   "nbconvert_exporter": "python",
   "pygments_lexer": "ipython3",
   "version": "3.9.7"
  }
 },
 "nbformat": 4,
 "nbformat_minor": 5
}
