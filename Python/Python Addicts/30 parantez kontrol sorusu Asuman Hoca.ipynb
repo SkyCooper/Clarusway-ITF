{
 "cells": [
  {
   "cell_type": "code",
   "execution_count": null,
   "id": "b36e024f",
   "metadata": {},
   "outputs": [],
   "source": [
    "Problem:\n",
    "Write a function that given a string containing just the characters (, ), {, }, [ and ], determines if the input string is valid or not by using following rules.\n",
    "An input string is valid if:\n",
    "Open brackets must be closed by the same type of brackets.\n",
    "Open brackets must be closed in the correct order.\n",
    "Note that an empty string is also considered valid.\n",
    "her parantezin karşılığı olmalı.\n",
    "![parantez.png](attachment:parantez.png)"
   ]
  },
  {
   "cell_type": "code",
   "execution_count": null,
   "id": "f9ec91d6",
   "metadata": {},
   "outputs": [],
   "source": [
    "# en içte illaki bir {}, (), [] ---> mutalaka oluyor. o zaman en içtekileri silerek ilerlersek; soruyu çözeriz."
   ]
  },
  {
   "cell_type": "code",
   "execution_count": 11,
   "id": "6e4b5ca9",
   "metadata": {},
   "outputs": [
    {
     "data": {
      "text/plain": [
       "'[({({})})({})]'"
      ]
     },
     "execution_count": 11,
     "metadata": {},
     "output_type": "execute_result"
    }
   ],
   "source": [
    "\"[({({})})({})]\" #içindekileri silerek ilerlersek içinde bir döngü old. görürüz."
   ]
  },
  {
   "cell_type": "code",
   "execution_count": 12,
   "id": "8a9dfdec",
   "metadata": {},
   "outputs": [
    {
     "data": {
      "text/plain": [
       "'[({()})()]'"
      ]
     },
     "execution_count": 12,
     "metadata": {},
     "output_type": "execute_result"
    }
   ],
   "source": [
    "\"[({()})()]\"  # aç kapa süslü, normal ve köşeli varmı diye baktık hemen içteki süslüler gitti."
   ]
  },
  {
   "cell_type": "code",
   "execution_count": 13,
   "id": "b2e7b9c3",
   "metadata": {},
   "outputs": [
    {
     "data": {
      "text/plain": [
       "[{}]"
      ]
     },
     "execution_count": 13,
     "metadata": {},
     "output_type": "execute_result"
    }
   ],
   "source": [
    "[({})]     #aç kapa süslü, normal ve köşeli varmı diye baktık hemen içteki normaller gitti."
   ]
  },
  {
   "cell_type": "code",
   "execution_count": 15,
   "id": "5208332e",
   "metadata": {},
   "outputs": [
    {
     "data": {
      "text/plain": [
       "'[()]'"
      ]
     },
     "execution_count": 15,
     "metadata": {},
     "output_type": "execute_result"
    }
   ],
   "source": [
    "\"[()]\"  # aç kapa süslü, normal ve köşeli varmı diye baktık hemen içteki süslüler gitti."
   ]
  },
  {
   "cell_type": "code",
   "execution_count": 14,
   "id": "04ddb7fe",
   "metadata": {},
   "outputs": [
    {
     "data": {
      "text/plain": [
       "'[()]'"
      ]
     },
     "execution_count": 14,
     "metadata": {},
     "output_type": "execute_result"
    }
   ],
   "source": [
    "\"[]\"  # aç kapa süslü, normal ve köşeli varmı diye baktık hemen içteki normaller gitti."
   ]
  },
  {
   "cell_type": "code",
   "execution_count": null,
   "id": "0fc4054a",
   "metadata": {},
   "outputs": [],
   "source": [
    "\"\"  # aç kapa süslü, normal ve köşeli varmı diye baktık hemen içteki köşeliler gitti ve sonunda boş bir str kaldı."
   ]
  },
  {
   "cell_type": "code",
   "execution_count": null,
   "id": "7aa9acbb",
   "metadata": {},
   "outputs": [],
   "source": [
    "\"\" # eğer bir parantez grubu valid ise parantezleri sile sile ilerleyince boş string kalır. buradaki gibi."
   ]
  },
  {
   "cell_type": "code",
   "execution_count": 17,
   "id": "5cca1928",
   "metadata": {},
   "outputs": [
    {
     "data": {
      "text/plain": [
       "'}]({[()]})[}'"
      ]
     },
     "execution_count": 17,
     "metadata": {},
     "output_type": "execute_result"
    }
   ],
   "source": [
    "('}]({[()]})[}') # bu valid değil. karşılığı olmayan bir parantez olursa bu valid değil deriz."
   ]
  },
  {
   "cell_type": "code",
   "execution_count": 19,
   "id": "e038abd8",
   "metadata": {},
   "outputs": [],
   "source": [
    "x = \"[({({})})({}))\""
   ]
  },
  {
   "cell_type": "code",
   "execution_count": 20,
   "id": "4257763b",
   "metadata": {},
   "outputs": [
    {
     "data": {
      "text/plain": [
       "'alivelideli'"
      ]
     },
     "execution_count": 20,
     "metadata": {},
     "output_type": "execute_result"
    }
   ],
   "source": [
    "\"ali-veli-deli\".replace(\"-\",\"\")"
   ]
  },
  {
   "cell_type": "code",
   "execution_count": 21,
   "id": "5ad7d8b8",
   "metadata": {},
   "outputs": [],
   "source": [
    "orjinal = \"ali-veli-deli\""
   ]
  },
  {
   "cell_type": "code",
   "execution_count": 22,
   "id": "7dc4b8d1",
   "metadata": {},
   "outputs": [
    {
     "data": {
      "text/plain": [
       "'alivelideli'"
      ]
     },
     "execution_count": 22,
     "metadata": {},
     "output_type": "execute_result"
    }
   ],
   "source": [
    "değişmiş = orjinal.replace(\"-\", \"\")\n",
    "değişmiş"
   ]
  },
  {
   "cell_type": "code",
   "execution_count": 23,
   "id": "0d9c1d10",
   "metadata": {},
   "outputs": [
    {
     "data": {
      "text/plain": [
       "'ali-veli-deli'"
      ]
     },
     "execution_count": 23,
     "metadata": {},
     "output_type": "execute_result"
    }
   ],
   "source": [
    "orjinal #orjinal değişmedi stringler immutable dır, yerinde değiştirilemez"
   ]
  },
  {
   "cell_type": "code",
   "execution_count": 24,
   "id": "35088265",
   "metadata": {},
   "outputs": [
    {
     "data": {
      "text/plain": [
       "'ali+veli+deli'"
      ]
     },
     "execution_count": 24,
     "metadata": {},
     "output_type": "execute_result"
    }
   ],
   "source": [
    "\"ali-veli-deli\".replace(\"-\",\"+\")"
   ]
  },
  {
   "cell_type": "code",
   "execution_count": 27,
   "id": "d6b3f6b8",
   "metadata": {},
   "outputs": [
    {
     "data": {
      "text/plain": [
       "'lveldel'"
      ]
     },
     "execution_count": 27,
     "metadata": {},
     "output_type": "execute_result"
    }
   ],
   "source": [
    "\"ali-veli-deli\".replace(\"-\",\"\").replace(\"a\", \"\").replace(\"i\", \"\")"
   ]
  },
  {
   "cell_type": "code",
   "execution_count": 30,
   "id": "b300b832",
   "metadata": {},
   "outputs": [],
   "source": [
    "s = \"[({({})})({})]\""
   ]
  },
  {
   "cell_type": "code",
   "execution_count": 31,
   "id": "275da81a",
   "metadata": {},
   "outputs": [
    {
     "data": {
      "text/plain": [
       "False"
      ]
     },
     "execution_count": 31,
     "metadata": {},
     "output_type": "execute_result"
    }
   ],
   "source": [
    "\"()\" in s"
   ]
  },
  {
   "cell_type": "code",
   "execution_count": 32,
   "id": "94019cbc",
   "metadata": {},
   "outputs": [
    {
     "data": {
      "text/plain": [
       "False"
      ]
     },
     "execution_count": 32,
     "metadata": {},
     "output_type": "execute_result"
    }
   ],
   "source": [
    "\"[)\" in s"
   ]
  },
  {
   "cell_type": "code",
   "execution_count": 36,
   "id": "021eafbd",
   "metadata": {},
   "outputs": [
    {
     "data": {
      "text/plain": [
       "True"
      ]
     },
     "execution_count": 36,
     "metadata": {},
     "output_type": "execute_result"
    }
   ],
   "source": [
    "s = \"((({{{}}}[][])))\"\n",
    "def isValid(s) :\n",
    "    while \"()\" in s or \"[]\" in s or \"{}\" in s :  # bunlardan herhangi biri olduğu sürece döngü devam eder.\n",
    "        s = s.replace(\"()\", \"\").replace(\"[]\", \"\").replace(\"{}\", \"\") #döngü devam eder, bulduklarını siler. parantez yoksa silmez\n",
    "                 # silecek uygun parantez bulamazsa aynısını döndürür. Üstte stringimizi kendisine eşitlemiş olduk.                                                \n",
    "    return s == \"\"  # str boş ise true döndür, boş str değilse false döndür.\n",
    "isValid(s)"
   ]
  },
  {
   "cell_type": "code",
   "execution_count": 38,
   "id": "896a0820",
   "metadata": {},
   "outputs": [
    {
     "data": {
      "text/plain": [
       "False"
      ]
     },
     "execution_count": 38,
     "metadata": {},
     "output_type": "execute_result"
    }
   ],
   "source": [
    "isValid(x)"
   ]
  },
  {
   "cell_type": "code",
   "execution_count": 40,
   "id": "af6421ba",
   "metadata": {},
   "outputs": [
    {
     "data": {
      "text/plain": [
       "True"
      ]
     },
     "execution_count": 40,
     "metadata": {},
     "output_type": "execute_result"
    }
   ],
   "source": [
    "y = \"((({{{}}}[][])))\"\n",
    "isValid(y)"
   ]
  },
  {
   "cell_type": "code",
   "execution_count": 41,
   "id": "95f31372",
   "metadata": {},
   "outputs": [
    {
     "data": {
      "text/plain": [
       "'ali'"
      ]
     },
     "execution_count": 41,
     "metadata": {},
     "output_type": "execute_result"
    }
   ],
   "source": [
    "\"ali\".replace(\"b\", \"\") # ---> burada mesela b harfi olmadığı için silecek bir şey bulamayacak ve aynısını döndürecek."
   ]
  },
  {
   "cell_type": "code",
   "execution_count": null,
   "id": "f20bb220",
   "metadata": {},
   "outputs": [],
   "source": [
    "Malumunuz input istendiğinde kullanıcıdan klavyeden bir karakter girilmesi beklenmektedir. \n",
    "Enter'a basılması ise girilen karakterin  input fonksiyonuna gönderilmesi demektir. \n",
    "Yani karakteri girdim işleme devam et demektir.\n",
    "Eğer siz hiç bir karakter girmeyip direkt Enter'a basarsanız input'a ne yollamış oluyorsunuz? \n",
    "boş string yollamış oluyorsunuz. Yani aç kapa tırnak --> \"\"\n",
    "Dolayısıyla input'un \"\" olması demek direkt Enter'a basılması demektir.\n",
    "Aşağıdaki kodu çalıştırıp kendiniz de görebiliriniz.\n",
    "a = input(\"enter :\")\n",
    "print(type(a))\n",
    "print(\"-\"+a+\"-\")"
   ]
  },
  {
   "cell_type": "code",
   "execution_count": null,
   "id": "de0fb9ee",
   "metadata": {},
   "outputs": [],
   "source": [
    " Daha açık ifade etmek gerekirse sorudaki örnekte \"()[]{} \" girilmesi demek;\n",
    " string olarak ()[]{}  girilmesi demek olduğu gibi,\n",
    "\"\" girilmesi demek ise string olarak hiç bir şey girilmemesi demektir"
   ]
  },
  {
   "cell_type": "markdown",
   "id": "d4d24a6c",
   "metadata": {},
   "source": [
    "# diğer çözüm örnekleri"
   ]
  },
  {
   "cell_type": "code",
   "execution_count": null,
   "id": "af319e6d",
   "metadata": {},
   "outputs": [],
   "source": [
    "def parantezler(string):\n",
    "    inputlar = [\"(\",\")\", \"[\", \"]\",\"{\",\"}\"]\n",
    "    [i for i in string if string in inputlar]\n",
    "    filter(lambda string : True if string in inputlar else False,"
   ]
  },
  {
   "cell_type": "code",
   "execution_count": 70,
   "id": "cbc57b37",
   "metadata": {},
   "outputs": [
    {
     "name": "stdout",
     "output_type": "stream",
     "text": [
      "Please enter a word: ()\n",
      "True\n"
     ]
    }
   ],
   "source": [
    "dict_chr = {\"(\": \")\", \"{\": \"}\", \"[\" :\"]\"}\n",
    "chr_list_open = [\"(\",\"{\",\"[\"]\n",
    "chr_list = [\"(\", \")\", \"{\", \"}\", \"[\" ,\"]\"]\n",
    "sentence = list(input(\"Please enter a word: \"))\n",
    "def brackets(words):\n",
    "    first_bracket = []\n",
    "    bracket = [] \n",
    "    for x in range(0,len(words)):                   #collect opening brackets and other brackets seperately\n",
    "        if  words[x] in chr_list_open:\n",
    "            first_bracket.append(words[x])\n",
    "        if  words[x] in chr_list:\n",
    "            bracket.append(words[x])\n",
    "    if len(first_bracket) >0 and len(first_bracket)*2 == len(bracket) : #to check the requested conditions \n",
    "        while len(bracket):    \n",
    "                x=0\n",
    "                if dict_chr[first_bracket[x]]== bracket[x+1]:\n",
    "                        first_bracket.pop(x)\n",
    "                        bracket.pop(x)\n",
    "                        bracket.pop(x)\n",
    "                elif dict_chr[first_bracket[x]] == bracket[len(bracket)-1-x]:\n",
    "                        first_bracket.pop(x)\n",
    "                        bracket.pop(x)\n",
    "                        bracket.pop()\n",
    "                else:\n",
    "                        break\n",
    "        if len(bracket) == 0 and len(first_bracket) ==0:\n",
    "            return True\n",
    "        else:\n",
    "            return False\n",
    "    elif words == ['\"', '\"'] or words==[\"'\", \"'\"]: #to check inputs \"\" or ''\n",
    "        return True\n",
    "    elif len(words) !=0:\n",
    "                    return \" False You did not enter a opening or closing bracket!!!\"\n",
    "    else:\n",
    "        return False\n",
    "print(brackets(sentence))"
   ]
  },
  {
   "cell_type": "code",
   "execution_count": 88,
   "id": "a79975ff",
   "metadata": {},
   "outputs": [
    {
     "name": "stdout",
     "output_type": "stream",
     "text": [
      "False\n",
      "True\n",
      "True\n",
      "False\n",
      "True\n",
      "True\n",
      "True\n"
     ]
    }
   ],
   "source": [
    "def char(str):\n",
    "    if str == \"\":\n",
    "        return True\n",
    "    if len(str) % 2 != 0:\n",
    "        return False\n",
    "    dict = {'(' : ')', '[' : ']', '{' : '}'}\n",
    "    liste = []\n",
    "    for i in str:\n",
    "        if i in dict.keys():\n",
    "            liste.append(i)\n",
    "        else:\n",
    "            if liste == []:\n",
    "                return False\n",
    "            a = liste.pop()\n",
    "            if i!= dict[a]:\n",
    "                return True\n",
    "        return True\n",
    "print(char(\"[]]\"))\n",
    "print(char(\"[]\"))\n",
    "print(char(\"[]{}\"))\n",
    "print(char(\"[\"))\n",
    "print(char(\"()\"))\n",
    "print(char(\"\"))\n",
    "print(char('{][}'))"
   ]
  },
  {
   "cell_type": "code",
   "execution_count": null,
   "id": "ef25961d",
   "metadata": {},
   "outputs": [],
   "source": [
    "def countdown():\n",
    "    i = 5\n",
    "    while i>0:\n",
    "        yield i\n",
    "        i -= 1\n",
    "for i in countdown():\n",
    "    print(i)"
   ]
  },
  {
   "cell_type": "code",
   "execution_count": 74,
   "id": "e005728a",
   "metadata": {},
   "outputs": [
    {
     "name": "stdout",
     "output_type": "stream",
     "text": [
      "()\n",
      "True\n"
     ]
    }
   ],
   "source": [
    "a=input()\n",
    "ek=[\"()\",\"[]\",\"{}\"]\n",
    "i=0\n",
    "döngü=0\n",
    "döngüm=len(a)//2\n",
    "while True:\n",
    "      if a==\"\" or a=='\"\"' or a==\"''\":\n",
    "        print(\"True\")\n",
    "        break\n",
    "      elif i==3:\n",
    "        i=0\n",
    "      elif ek[i] in a:\n",
    "        yeni=a.split(ek[i])       \n",
    "        a=\"\".join(yeni)\n",
    "        #print(a)\n",
    "        döngü+=1\n",
    "      else:\n",
    "        döngü+=1\n",
    "        i+=1\n",
    "        if döngüm<döngü: \n",
    "          print"
   ]
  },
  {
   "cell_type": "code",
   "execution_count": 78,
   "id": "74afcbe1",
   "metadata": {},
   "outputs": [
    {
     "name": "stdout",
     "output_type": "stream",
     "text": [
      "''\n",
      "True\n"
     ]
    }
   ],
   "source": [
    "a=input()\n",
    "ek=[\"()\",\"[]\",\"{}\",'\"\"',\"''\"]\n",
    "i=0\n",
    "döngü=0\n",
    "döngüm=len(a)\n",
    "sayac=(döngüm/2)*len(ek)   \n",
    "while True:\n",
    "      if döngüm%2==1:\n",
    "        print(\"False\")\n",
    "        break\n",
    "      elif a==\"\":\n",
    "        print(\"True\")\n",
    "        break\n",
    "      \n",
    "      elif ek[i] in a:\n",
    "        yeni=a.split(ek[i])       \n",
    "        a=\"\".join(yeni)\n",
    "        döngü+=1\n",
    "        #print(a)\n",
    "      else:\n",
    "        i+=1\n",
    "        döngü+=1\n",
    "        if i==5:\n",
    "          i=0\n",
    "        if sayac<döngü: \n",
    "            print(\"False\")\n",
    "            break"
   ]
  },
  {
   "cell_type": "code",
   "execution_count": 75,
   "id": "be2ced8b",
   "metadata": {},
   "outputs": [
    {
     "name": "stdout",
     "output_type": "stream",
     "text": [
      "False\n",
      "False\n",
      "True\n",
      "False\n",
      "True\n"
     ]
    }
   ],
   "source": [
    "def Prnttester(tester) -> bool :  # tester'i boolen döndür\n",
    "    Checkarea = []         #\n",
    "    for i in tester:\n",
    "        if i in ['(', '{', '[']:  # base veriler\n",
    "            Checkarea.append(i)\n",
    "        elif i == ')' and len(Checkarea) != 0 and Checkarea[-1] == '(':       # karşıtlarını\n",
    "            Checkarea.pop()\n",
    "        elif i == '}' and len(Checkarea) != 0 and Checkarea[-1] == '{':       # test\n",
    "            Checkarea.pop()\n",
    "        elif i == ']' and len(Checkarea) != 0 and Checkarea[-1] == '[':       # et .. çıkar\n",
    "            Checkarea.pop()\n",
    "        else:\n",
    "            return False\n",
    "    return Checkarea == []\n",
    "print(Prnttester(\"[]]\"))\n",
    "print(Prnttester(\"[{\"))\n",
    "print(Prnttester(\"[]{}\"))\n",
    "print(Prnttester(\"[\"))\n",
    "print(Prnttester(\"()\"))"
   ]
  },
  {
   "cell_type": "code",
   "execution_count": 80,
   "id": "bedca936",
   "metadata": {},
   "outputs": [],
   "source": [
    "x={'(' : ')',\n",
    "   '[' : ']',\n",
    "   '{' : '}' }\n",
    "\n",
    "def fonk(chr):\n",
    "  condition=False\n",
    "  liste=list(chr)\n",
    "  if chr==\"\":\n",
    "    return True\n",
    "  elif len(chr)%2 != 0:\n",
    "    return False\n",
    "  else:\n",
    "    for i in liste:\n",
    "      if i in x :\n",
    "         j=x[i]\n",
    "         if j in liste:\n",
    "          if (liste.index(j)-liste.index(i)) %2 == 1 or ((liste.index(j)-liste.index(i)) == 1):\n",
    "             condition=True\n",
    "      else:\n",
    "          condition=False       \n",
    "      return condition"
   ]
  }
 ],
 "metadata": {
  "kernelspec": {
   "display_name": "Python 3 (ipykernel)",
   "language": "python",
   "name": "python3"
  },
  "language_info": {
   "codemirror_mode": {
    "name": "ipython",
    "version": 3
   },
   "file_extension": ".py",
   "mimetype": "text/x-python",
   "name": "python",
   "nbconvert_exporter": "python",
   "pygments_lexer": "ipython3",
   "version": "3.10.4"
  }
 },
 "nbformat": 4,
 "nbformat_minor": 5
}
