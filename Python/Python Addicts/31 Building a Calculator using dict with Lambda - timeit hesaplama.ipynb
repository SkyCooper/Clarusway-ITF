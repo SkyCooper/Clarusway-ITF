{
 "cells": [
  {
   "cell_type": "code",
   "execution_count": null,
   "id": "f3907578",
   "metadata": {},
   "outputs": [],
   "source": [
    "1 Temmuz 2022"
   ]
  },
  {
   "cell_type": "markdown",
   "id": "19043511",
   "metadata": {},
   "source": [
    "# Building a Calculator using dict with Lambda"
   ]
  },
  {
   "cell_type": "code",
   "execution_count": null,
   "id": "2acc6c59",
   "metadata": {},
   "outputs": [],
   "source": [
    "sözlükten \"+\" key ---> valuesi ise lambda olursa;\n",
    "calculator[\"+\"](4, 5) --> bana 9 verir.\n",
    "\n",
    "# böyle bir çözüm geliştiricez"
   ]
  },
  {
   "cell_type": "code",
   "execution_count": 4,
   "id": "6007a2ca",
   "metadata": {},
   "outputs": [
    {
     "data": {
      "text/plain": [
       "20"
      ]
     },
     "execution_count": 4,
     "metadata": {},
     "output_type": "execute_result"
    }
   ],
   "source": [
    "# yani +,-.*./ bunlar key oldu, bu keyi çağırınca onun valuesi gelecek\n",
    "# bütün valueler lambda fonksiyonu olduğundan sanki fonksiyon çağırmışız gibi olur.\n",
    "calculator = {\n",
    "    \"+\" : lambda x, y : x + y,\n",
    "    \"-\" : lambda x, y : x - y,\n",
    "    \"*\" : lambda x, y : x * y,\n",
    "    \"/\" : lambda x, y : x / y,\n",
    "}\n",
    "\n",
    "calculator[\"*\"](4,5)"
   ]
  },
  {
   "cell_type": "code",
   "execution_count": null,
   "id": "a0f31bef",
   "metadata": {},
   "outputs": [],
   "source": []
  },
  {
   "cell_type": "markdown",
   "id": "d587bebc",
   "metadata": {},
   "source": [
    "# timeit modülü kullanma"
   ]
  },
  {
   "cell_type": "code",
   "execution_count": null,
   "id": "9d08e407",
   "metadata": {},
   "outputs": [],
   "source": [
    "# list comprehansionlar, döngülerden hızlıdır ---> ama nasıl ispat edebiliriz."
   ]
  },
  {
   "cell_type": "code",
   "execution_count": 5,
   "id": "8a54e7a5",
   "metadata": {},
   "outputs": [],
   "source": [
    "from timeit import timeit"
   ]
  },
  {
   "cell_type": "code",
   "execution_count": null,
   "id": "9a4f7399",
   "metadata": {},
   "outputs": [],
   "source": [
    "timeit()"
   ]
  },
  {
   "cell_type": "code",
   "execution_count": 8,
   "id": "d6436501",
   "metadata": {},
   "outputs": [],
   "source": [
    "# for loop ile yapma;\n",
    "\n",
    "def for_loop():\n",
    "    result = []\n",
    "    for i in range(1000000):\n",
    "        result.append(i)\n",
    "    return result"
   ]
  },
  {
   "cell_type": "code",
   "execution_count": 7,
   "id": "0b24cc80",
   "metadata": {},
   "outputs": [],
   "source": [
    "# list comprehansion ile yapma;\n",
    "\n",
    "def list_comp():\n",
    "    return [i for i in range(1000000)]"
   ]
  },
  {
   "cell_type": "code",
   "execution_count": 11,
   "id": "94b36e02",
   "metadata": {},
   "outputs": [],
   "source": [
    "size = 100\n",
    "\n",
    "time_for = timeit(for_loop, number = size)\n",
    "\n",
    "time_list_comp = timeit(list_comp, number = size)"
   ]
  },
  {
   "cell_type": "code",
   "execution_count": 16,
   "id": "5b51ccb6",
   "metadata": {},
   "outputs": [
    {
     "name": "stdout",
     "output_type": "stream",
     "text": [
      "10.355142300000125\n",
      "6.761895999999979\n"
     ]
    }
   ],
   "source": [
    "print(time_for, time_list_comp, sep=\"\\n\")"
   ]
  },
  {
   "cell_type": "code",
   "execution_count": 14,
   "id": "c5331004",
   "metadata": {},
   "outputs": [
    {
     "name": "stdout",
     "output_type": "stream",
     "text": [
      "List comp is 1.53 times faster than for loops\n"
     ]
    }
   ],
   "source": [
    "print(f\"List comp is {round(time_for / time_list_comp, 2)} times faster than for loops\")"
   ]
  },
  {
   "cell_type": "code",
   "execution_count": null,
   "id": "6761c38b",
   "metadata": {},
   "outputs": [],
   "source": []
  }
 ],
 "metadata": {
  "kernelspec": {
   "display_name": "Python 3 (ipykernel)",
   "language": "python",
   "name": "python3"
  },
  "language_info": {
   "codemirror_mode": {
    "name": "ipython",
    "version": 3
   },
   "file_extension": ".py",
   "mimetype": "text/x-python",
   "name": "python",
   "nbconvert_exporter": "python",
   "pygments_lexer": "ipython3",
   "version": "3.9.7"
  }
 },
 "nbformat": 4,
 "nbformat_minor": 5
}
