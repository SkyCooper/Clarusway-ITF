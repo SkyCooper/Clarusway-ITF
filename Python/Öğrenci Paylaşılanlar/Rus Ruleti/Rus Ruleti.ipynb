{
 "cells": [
  {
   "cell_type": "code",
   "execution_count": null,
   "metadata": {},
   "outputs": [],
   "source": [
    "# F3631-ihsan kodu yazan\n",
    "# F3730 Erhan soruyu soran"
   ]
  },
  {
   "cell_type": "code",
   "execution_count": 1,
   "metadata": {
    "id": "DMsEynlil2xj"
   },
   "outputs": [],
   "source": [
    "import random"
   ]
  },
  {
   "cell_type": "code",
   "execution_count": 2,
   "metadata": {
    "id": "pg04XFmwjbPj"
   },
   "outputs": [],
   "source": [
    "puan = 0\n",
    "isimler = [\"ali\"]"
   ]
  },
  {
   "cell_type": "code",
   "execution_count": 3,
   "metadata": {
    "id": "bxNdSECpi1u0"
   },
   "outputs": [],
   "source": [
    "def stralghtup():\n",
    "    global puan\n",
    "    kullanıcı_tahmin = int(input(\"tahmin sayınızı giriniz : \"))\n",
    "    if kullanıcı_tahmin == sayı:\n",
    "      puan = bahis * 36\n",
    "      print(\"bildiniz \", puan)\n",
    "    else:\n",
    "      print(\"bilemediniz gelen sayı = \", sayı)\n",
    "def split():\n",
    "  global puan\n",
    "  a = 0\n",
    "  while a < 2:\n",
    "    a += 1\n",
    "    kullanıcı_tahmin = int(input(\"tahmin sayınızı giriniz : \"))\n",
    "    liste.append(kullanıcı_tahmin)\n",
    "  if kullanıcı_tahmin in liste:\n",
    "    puan = bahis * 17\n",
    "    print(\"bildiniz gelen sayı = \",sayı, \"puanınız = \", puan)\n",
    "  else:\n",
    "    print(\"bilemediniz gelen sayı = \", sayı)\n",
    "def street():\n",
    "  global puan\n",
    "  a = 0\n",
    "  while a < 3:\n",
    "    a += 1\n",
    "    kullanıcı_tahmin = int(input(\"tahmin sayınızı giriniz : \"))\n",
    "    liste.append(kullanıcı_tahmin)\n",
    "  if kullanıcı_tahmin in liste:\n",
    "    puan = bahis * 11\n",
    "    print(\"bildiniz gelen sayı = \",sayı, \"puanınız = \", puan)\n",
    "  else:\n",
    "    print(\"bilemediniz gelen sayı = \", sayı)\n",
    "def corner():\n",
    "  global puan\n",
    "  a = 0\n",
    "  while a < 4:\n",
    "    a += 1\n",
    "    kullanıcı_tahmin = int(input(\"tahmin sayınızı giriniz : \"))\n",
    "    liste.append(kullanıcı_tahmin)\n",
    "  if kullanıcı_tahmin in liste:\n",
    "    puan = bahis * 8\n",
    "    print(\"bildiniz gelen sayı = \",sayı, \"puanınız = \", puan)\n",
    "  else:\n",
    "    print(\"bilemediniz gelen sayı = \", sayı)\n",
    "def line():\n",
    "  global puan\n",
    "  a = 0\n",
    "  while a < 6:\n",
    "    a += 1\n",
    "    kullanıcı_tahmin = int(input(\"tahmin sayınızı giriniz : \"))\n",
    "    liste.append(kullanıcı_tahmin)\n",
    "  if kullanıcı_tahmin in liste:\n",
    "    puan = bahis * 5\n",
    "    print(\"bildiniz gelen sayı = \",sayı, \"puanınız = \", puan)\n",
    "  else:\n",
    "    print(\"bilemediniz gelen sayı = \", sayı)\n",
    "def column():\n",
    "  global puan\n",
    "  ilk = [x for x in range(1,19)]\n",
    "  son = [x for x in range(19,37)]\n",
    "  secim = input(\"ilk 18 mi son 18 mi  [ilk/son] : \").lower()\n",
    "  if secim == \"ilk\" and sayı in ilk:\n",
    "    puan = bahis * 2\n",
    "    print(f\"bildiniz gelen sayı = {sayı} puanınız = {puan}\")\n",
    "  elif secim == \"son\" and sayı in son:\n",
    "    puan = bahis * 2\n",
    "    print(f\"bildiniz gelen sayı = {sayı} puanınız = {puan}\")\n",
    "  else:\n",
    "    print(\"bilemediniz gelen sayı = \", sayı)\n",
    "def oyun(x):\n",
    "  if x == 1:\n",
    "   stralghtup()\n",
    "  elif x == 2:\n",
    "    split()\n",
    "  elif x == 3:\n",
    "    street()\n",
    "  elif x == 4:\n",
    "    corner()\n",
    "  elif x == 5:\n",
    "    line()\n",
    "  elif x == 6:\n",
    "    column()"
   ]
  },
  {
   "cell_type": "code",
   "execution_count": 4,
   "metadata": {
    "colab": {
     "base_uri": "https://localhost:8080/"
    },
    "id": "a_LDNoNNnKlY",
    "outputId": "b60b39dd-d399-43a4-d6e2-a8c07f9a8141"
   },
   "outputs": [
    {
     "name": "stdout",
     "output_type": "stream",
     "text": [
      "bahis miktarını giriniz : 5\n",
      " Lütfen bir oyun numarası seçiniz : \n",
      "1 - stralghtup\n",
      "2 - split\n",
      "3 - street\n",
      "4 - Corner\n",
      "5 - Line\n",
      "6 - Column\n",
      "5\n",
      "tahmin sayınızı giriniz : 12\n",
      "tahmin sayınızı giriniz : 5\n",
      "tahmin sayınızı giriniz : 14\n",
      "tahmin sayınızı giriniz : 22\n",
      "tahmin sayınızı giriniz : 1\n",
      "tahmin sayınızı giriniz : 2\n",
      "bildiniz gelen sayı =  20 puanınız =  25\n"
     ]
    }
   ],
   "source": [
    "sayı = random.randint(1,36)\n",
    "liste = []\n",
    "odd = [x for x in range(1,36,2)]\n",
    "even = [x for x in range(2,37,2)]\n",
    "bahis = int(input(\"bahis miktarını giriniz : \"))\n",
    "oyun_sayısı = int(input(\"\"\" Lütfen bir oyun numarası seçiniz : \n",
    "1 - stralghtup\n",
    "2 - split\n",
    "3 - street\n",
    "4 - Corner\n",
    "5 - Line\n",
    "6 - Column\n",
    "\"\"\"))\n",
    "oyun(oyun_sayısı)"
   ]
  },
  {
   "cell_type": "code",
   "execution_count": null,
   "metadata": {},
   "outputs": [],
   "source": []
  }
 ],
 "metadata": {
  "colab": {
   "collapsed_sections": [],
   "name": "tahmin_oyunu.ipynb",
   "provenance": []
  },
  "kernelspec": {
   "display_name": "Python 3 (ipykernel)",
   "language": "python",
   "name": "python3"
  },
  "language_info": {
   "codemirror_mode": {
    "name": "ipython",
    "version": 3
   },
   "file_extension": ".py",
   "mimetype": "text/x-python",
   "name": "python",
   "nbconvert_exporter": "python",
   "pygments_lexer": "ipython3",
   "version": "3.9.7"
  }
 },
 "nbformat": 4,
 "nbformat_minor": 1
}
