{
 "cells": [
  {
   "cell_type": "markdown",
   "metadata": {
    "id": "n3BNpxyDM9k7"
   },
   "source": [
    "###  Workshop \n"
   ]
  },
  {
   "cell_type": "code",
   "execution_count": 1,
   "metadata": {
    "id": "loYvrdugqFN5"
   },
   "outputs": [],
   "source": [
    "''' burada programimizda kullanacagimiz on bilgileri yaziyoruz'''\n",
    "isimler=['ali']\n",
    "puan = 0\n",
    "dogru = 0\n",
    "yanlis = 0"
   ]
  },
  {
   "cell_type": "code",
   "execution_count": 2,
   "metadata": {
    "id": "ffrGF8OUgH5b"
   },
   "outputs": [],
   "source": [
    "def tani(isim):\n",
    "  ''' kisinin ismi daha önceden bu programı çalıştıranların arasında\n",
    "  olup olmadığı kontrol edilir. eğer varsa  \"seni tanıyorum\" return \n",
    "  eder. eğer tanımıyorsa \"seni ilk defa görüyorum\" return eder\n",
    "  ve ismi tanınanların listesine eklenir.'''\n",
    "  global isimler\n",
    "  isim = isim.lower()\n",
    "  if isim in isimler:\n",
    "    return \"Seni tanıyorum\"\n",
    "  else:\n",
    "    isimler.append(isim)\n",
    "    return \"Seni ilk defa görüyorum\""
   ]
  },
  {
   "cell_type": "code",
   "execution_count": 3,
   "metadata": {
    "id": "hjWBHgZ-o-PJ"
   },
   "outputs": [],
   "source": [
    "def ters(kelime):\n",
    "  '''verilen stringin tersten yazilisi dogru mu yanlismi\n",
    "  kontrol eden bir fonksiyon yaziniz. Dogru ise '' Aferin sana\n",
    "  bildin'' return verecek ve puani 3 arttiracak dogru sayisini 1 arttiracak\n",
    "  yanlis ise bilemedin return edecek ve puani 1  eksiltecek \n",
    "  yanlis sayisini 1 arttiracak'''\n",
    "  global dogru \n",
    "  global puan\n",
    "  global yanlis\n",
    "  tersmi = kelime[::-1]\n",
    "  if tersmi == tersten:\n",
    "    puan +=3\n",
    "    dogru +=1\n",
    "    return \"Aferin bildin\"\n",
    "  else:\n",
    "    puan -= 1\n",
    "    yanlis += 1\n",
    "    return \"Bilemedin\""
   ]
  },
  {
   "cell_type": "code",
   "execution_count": 4,
   "metadata": {
    "id": "Lcq52jC74xe4"
   },
   "outputs": [],
   "source": [
    "def score():\n",
    "  ''' bu fonksiyon kullanicinin su ana kadar kac dogru ve\n",
    "  kac yanlis yaptigi ile puanını string olarak return edecek '''\n",
    "  \n",
    "  return f\"Şu ana kadar {dogru} dogru {yanlis} yanlis yaptın,\\nToplam puanın {puan}.\""
   ]
  },
  {
   "cell_type": "code",
   "execution_count": 5,
   "metadata": {
    "id": "tcOB7FN-J12v"
   },
   "outputs": [],
   "source": [
    "def cumle_kontrol(cumle):\n",
    "  '''cumle en az 5 kelimeden mi olusmus kontrol eden fonksiyon'''\n",
    "  cumle_listesi = cumle.split()\n",
    "  if len(cumle_listesi) >= 5:\n",
    "    return True\n",
    "  else:\n",
    "    return False"
   ]
  },
  {
   "cell_type": "code",
   "execution_count": 6,
   "metadata": {
    "id": "h7L-F0aALg-2"
   },
   "outputs": [],
   "source": [
    "def cumle_son_iki():\n",
    "  ''' burada cumlenin sondan ikinci kelimesinin dogur olup olmadigi kontrol\n",
    "  edilecek. eger dogru ise Dogru ise '' Aferin sana\n",
    "  bildin'' return verecek ve puani 3 arttiracak dogru sayisini 1 arttiracak\n",
    "  yanlis ise bilemedin return edecek ve puani 1  eksiltecek \n",
    "  yanlis sayisini 1 arttiracak'''\n",
    "  #kelimek = input(\"cümlenin sondan 2. kelimesiniz giriniz : \")\n",
    "  global cumle\n",
    "  global dogru\n",
    "  global yanlis\n",
    "  global puan\n",
    "  global cumle_cevap\n",
    "  if cumle.split()[-2] == cumle_cevap:\n",
    "    dogru += 1\n",
    "    puan += 3\n",
    "    return \"*** Aferin sana doğru bildin ***\"\n",
    "    \n",
    "  else:\n",
    "    yanlis += 1\n",
    "    puan -= 1\n",
    "    return \"Maalesef yanlış cevap\""
   ]
  },
  {
   "cell_type": "code",
   "execution_count": 7,
   "metadata": {
    "id": "EwONYcYlUG5C"
   },
   "outputs": [],
   "source": [
    "def fibonacci(fib_say,fib_cevap):\n",
    "  ''' a = kullanicinin verdigi sayi\n",
    "      b = kullanicinin verdigi cevap\n",
    "      Bu fonksiyonda verilen sayidan buyuk en kucuk fibonacci sayisinin\n",
    "       kullanicinin verdigi cevapla ayni olup olmadigi kontrol edilecek.\n",
    "       dogru ise Dogru ise '' Aferin sana\n",
    "       bildin'' return verecek ve puani 3 arttiracak dogru sayisini 1 arttiracak\n",
    "      yanlis ise bilemedin return edecek ve puani 1  eksiltecek \n",
    "      yanlis sayisini 1 arttiracak''' \n",
    "  global isim\n",
    "  global dogru\n",
    "  global yanlis\n",
    "  global puan\n",
    "  fib=[0,1]\n",
    "\n",
    "  \n",
    "  for i in range(0,fib_say*2):\n",
    "    if fib_cevap <= fib[-1]:\n",
    "      break\n",
    "    fib.append(fib[-1]+fib[-2])\n",
    "  if fib[-1] == fib_cevap:\n",
    "    puan +=3\n",
    "    dogru += 1\n",
    "    score()\n",
    "    return 'Aferin..'\n",
    "  else:\n",
    "    yanlis += 1\n",
    "    puan -= 1\n",
    "    score\n",
    "    return \"Yanlış bildin..\""
   ]
  },
  {
   "cell_type": "code",
   "execution_count": 8,
   "metadata": {
    "id": "tmRBPqaxVo3q"
   },
   "outputs": [],
   "source": [
    "def dik_ucgen(a,b,c):\n",
    "  ''' fonksiyon girilen degerlerin bir dik ucgen olusturup olusturmadigini\n",
    "  kontrol edecek. Dogru ise '' Aferin sana\n",
    "       bildin'' return verecek ve puani 3 arttiracak dogru sayisini 1 arttiracak\n",
    "      yanlis ise bilemedin return edecek ve puani 1  eksiltecek \n",
    "      yanlis sayisini 1 arttiracak'''\n",
    "  global dogru \n",
    "  global puan\n",
    "  global yanlis\n",
    "\n",
    "  if (a**2+b**2==c**2) or (a**2+c**2==b**2) or (c**2+b**2==a**2): \n",
    "        \n",
    "    puan+=3\n",
    "    dogru+=1\n",
    "    return 'Aferin sana bildin..'\n",
    "  else: \n",
    "    puan-=1\n",
    "    yanlis+=1\n",
    "    return 'Bilemedin..'"
   ]
  },
  {
   "cell_type": "markdown",
   "metadata": {
    "id": "KVur59FgcQYj"
   },
   "source": [
    "## Program buradan basliyor"
   ]
  },
  {
   "cell_type": "code",
   "execution_count": 9,
   "metadata": {
    "id": "nmY-ecaGh5gQ"
   },
   "outputs": [
    {
     "name": "stdout",
     "output_type": "stream",
     "text": [
      "Merhaba, Senin adin ne? cooper\n",
      "cooper, Seni ilk defa görüyorum \n",
      "['ali', 'cooper']\n"
     ]
    }
   ],
   "source": [
    "isim = input(\"Merhaba, Senin adin ne? \")\n",
    "\n",
    "print(f\"{isim}, {tani(isim)} \") # Fonksiyondan gelen cevap ekrana yazdirilir\n",
    "print(isimler)"
   ]
  },
  {
   "cell_type": "code",
   "execution_count": 10,
   "metadata": {
    "colab": {
     "background_save": true,
     "base_uri": "https://localhost:8080/"
    },
    "id": "wVXFc8vloB4g",
    "outputId": "302d2ead-b00a-4492-c7b2-a5589df08eb2"
   },
   "outputs": [
    {
     "name": "stdout",
     "output_type": "stream",
     "text": [
      "Sana bir kac soru sormak istiyorum. Bakalim kac puan alacaksin\n",
      "Ismini tersten yazabilirmisin yyn\n",
      "Bilemedin\n",
      "Şu ana kadar 0 dogru 1 yanlis yaptın,\n",
      "Toplam puanın -1.\n"
     ]
    }
   ],
   "source": [
    "print(\"Sana bir kac soru sormak istiyorum. Bakalim kac puan alacaksin\")\n",
    "# Kullanicidan daha once girdigi isminini tersten yazmasini isteyecegiz\n",
    "tersten = input(\"Ismini tersten yazabilirmisin \") \n",
    "'''Girdigi degerin dogru olup olmadigini ters isimli \n",
    "fonksiyonu cagirarak kontrol edecegiz. eger dogru ise 3 puan \n",
    "verecegiz. yanlis ise bir puan dusurecegiz.'''\n",
    "print(ters(isim))\n",
    "print(score())"
   ]
  },
  {
   "cell_type": "code",
   "execution_count": 11,
   "metadata": {
    "colab": {
     "base_uri": "https://localhost:8080/"
    },
    "id": "SEXirHX1r9o9",
    "outputId": "e4f507af-b89f-488b-d38c-1f574abea67a"
   },
   "outputs": [
    {
     "name": "stdout",
     "output_type": "stream",
     "text": [
      "Bana en az 5 kelimeden olusan bir cumle yazar misin?po\n",
      "Bana en az 5 kelimeden olusan bir cumle yazar misin?po ko ju hy gr\n",
      "Simdi de bana cumlenin sondan ikinci kelimesini yazarmisinhy\n",
      "*** Aferin sana doğru bildin ***\n",
      "Şu ana kadar 1 dogru 1 yanlis yaptın,\n",
      "Toplam puanın 2.\n"
     ]
    }
   ],
   "source": [
    "'''burada kullanicidan bir cumle alacagiz, bu cumle en az 5 kelimeden olusana\n",
    " kadar sormaya devam edecegiz. '''\n",
    "while True:\n",
    "  cumle = input(\"Bana en az 5 kelimeden olusan bir cumle yazar misin?\")\n",
    "# Eger en az bes kelimeden olusan bir cevap verirse bir sonraki soruya geciyoruz\n",
    "  kontrol = cumle_kontrol(cumle)\n",
    "  if kontrol:\n",
    "    break\n",
    "cumle_cevap = input(\"Simdi de bana cumlenin sondan ikinci kelimesini yazarmisin\")\n",
    "print(cumle_son_iki())\n",
    "print(score())"
   ]
  },
  {
   "cell_type": "code",
   "execution_count": 12,
   "metadata": {
    "colab": {
     "base_uri": "https://localhost:8080/"
    },
    "id": "RLmUhF1NM3D6",
    "outputId": "e477615b-e562-47c7-ea9a-23ed39bf6898"
   },
   "outputs": [
    {
     "name": "stdout",
     "output_type": "stream",
     "text": [
      "bir sayi giriniz :7\n",
      "simdi bu sayidan buyuk en kucuk fibonacci sayisini giriniz11\n",
      "Yanlış bildin..\n",
      "Şu ana kadar 1 dogru 2 yanlis yaptın,\n",
      "Toplam puanın 1.\n"
     ]
    }
   ],
   "source": [
    "''' burada kullanicidan bir sayi alacagiz ve o sayidan buyuk en kucuk fibonacci\n",
    "sayisini soracagiz.'''\n",
    "fib_say = int(input(\"bir sayi giriniz :\"))\n",
    "fib_cevap = int(input(\"simdi bu sayidan buyuk en kucuk fibonacci sayisini giriniz\"))\n",
    "print(fibonacci(fib_say,fib_cevap))\n",
    "print(score())"
   ]
  },
  {
   "cell_type": "code",
   "execution_count": null,
   "metadata": {
    "colab": {
     "base_uri": "https://localhost:8080/"
    },
    "id": "0tsjOev_TIxR",
    "outputId": "e640abfa-53e6-4d80-c77c-5c0b36c9d2ce"
   },
   "outputs": [
    {
     "name": "stdout",
     "output_type": "stream",
     "text": [
      "kenarlari tamsayi olan bir üçgenin birinci kenar uzunluğunu giriniz : 5\n",
      "kenarlari tamsayi olan bir üçgenin ikinci kenar uzunluğunu giriniz : 12\n"
     ]
    }
   ],
   "source": [
    "'''Burada kullanicidan kenarlari tamsayi olan bir dik ucgenin kenarlarini\n",
    "girmesini istiyecegiz'''\n",
    "\n",
    "k1=int(input('kenarlari tamsayi olan bir üçgenin birinci kenar uzunluğunu giriniz : '))\n",
    "k2=int(input('kenarlari tamsayi olan bir üçgenin ikinci kenar uzunluğunu giriniz : '))\n",
    "k3=int(input('kenarlari tamsayi olan bir üçgenin üçüncü kenar uzunluğunu giriniz : '))\n",
    "\n",
    "print(dik_ucgen(k1,k2,k3))\n",
    "\n",
    "print(puan)"
   ]
  }
 ],
 "metadata": {
  "colab": {
   "collapsed_sections": [],
   "name": "workshop.ipynb",
   "provenance": []
  },
  "kernelspec": {
   "display_name": "Python 3 (ipykernel)",
   "language": "python",
   "name": "python3"
  },
  "language_info": {
   "codemirror_mode": {
    "name": "ipython",
    "version": 3
   },
   "file_extension": ".py",
   "mimetype": "text/x-python",
   "name": "python",
   "nbconvert_exporter": "python",
   "pygments_lexer": "ipython3",
   "version": "3.9.7"
  }
 },
 "nbformat": 4,
 "nbformat_minor": 1
}
