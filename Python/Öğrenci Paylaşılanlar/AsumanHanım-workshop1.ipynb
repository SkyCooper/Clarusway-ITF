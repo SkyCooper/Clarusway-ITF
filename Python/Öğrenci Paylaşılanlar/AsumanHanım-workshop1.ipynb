{
 "cells": [
  {
   "cell_type": "code",
   "execution_count": null,
   "metadata": {
    "id": "N2dGlgm_VfiB"
   },
   "outputs": [],
   "source": [
    "TYPE COLLETİON;\n",
    "STR ('')\n",
    "İNT(2 ,3 , ...)\n",
    "FLOAT (3.14)\n",
    "complex (a + bj)\n",
    "BOOL (True, False)"
   ]
  },
  {
   "cell_type": "code",
   "execution_count": null,
   "metadata": {
    "id": "wCog1FD3_n70"
   },
   "outputs": [],
   "source": [
    "STRİNG\n",
    "# tırnak içinde yazılan her şey string dir.\n",
    "# virgül sadece value ları ayırmak için kullanılır.\n",
    "# \"\" '' ''' ''' farklı kullanımları var amaç burada hangi çeşit tırnakla başlarsak onunla bitireceğiz, \n",
    "# metin içinde ' ' kullanıldı ise string için \" \" kullanmalıyız.\n",
    "# print bir fonksiyondur, ekrana yazdıklarımız bastırmak için kullanılır.\n",
    "# immutable dır.\n"
   ]
  },
  {
   "cell_type": "code",
   "execution_count": null,
   "metadata": {
    "colab": {
     "base_uri": "https://localhost:8080/",
     "height": 339
    },
    "id": "eUld5r0VT_MB",
    "outputId": "15996c39-4f47-4425-e05b-c5de601fbfc0"
   },
   "outputs": [
    {
     "name": "stdout",
     "output_type": "stream",
     "text": [
      "2\n",
      "80\n",
      "10.0\n",
      "10\n",
      "9\n",
      "10\n",
      "10\n",
      "11\n"
     ]
    },
    {
     "ename": "TypeError",
     "evalue": "ignored",
     "output_type": "error",
     "traceback": [
      "\u001b[0;31m---------------------------------------------------------------------------\u001b[0m",
      "\u001b[0;31mTypeError\u001b[0m                                 Traceback (most recent call last)",
      "\u001b[0;32m<ipython-input-134-8d38e11cabfb>\u001b[0m in \u001b[0;36m<module>\u001b[0;34m()\u001b[0m\n\u001b[1;32m      7\u001b[0m \u001b[0mprint\u001b[0m\u001b[0;34m(\u001b[0m\u001b[0;36m3\u001b[0m\u001b[0;34m**\u001b[0m\u001b[0;36m2\u001b[0m \u001b[0;34m+\u001b[0m \u001b[0;36m1\u001b[0m\u001b[0;34m)\u001b[0m\u001b[0;34m\u001b[0m\u001b[0;34m\u001b[0m\u001b[0m\n\u001b[1;32m      8\u001b[0m \u001b[0mprint\u001b[0m\u001b[0;34m(\u001b[0m\u001b[0;34m\"1\"\u001b[0m \u001b[0;34m+\u001b[0m \u001b[0;34m\"1\"\u001b[0m\u001b[0;34m)\u001b[0m \u001b[0;31m# iki str(1) birleştirir.\u001b[0m\u001b[0;34m\u001b[0m\u001b[0;34m\u001b[0m\u001b[0m\n\u001b[0;32m----> 9\u001b[0;31m \u001b[0mprint\u001b[0m\u001b[0;34m(\u001b[0m\u001b[0;34m\"1\"\u001b[0m \u001b[0;34m+\u001b[0m \u001b[0;36m1\u001b[0m\u001b[0;34m)\u001b[0m \u001b[0;31m#bir integer ile bir str birleştirilmez. tipleri aynı olmalıdır.\u001b[0m\u001b[0;34m\u001b[0m\u001b[0;34m\u001b[0m\u001b[0m\n\u001b[0m",
      "\u001b[0;31mTypeError\u001b[0m: can only concatenate str (not \"int\") to str"
     ]
    }
   ],
   "source": [
    "print( 1 + 1 )  #toplama, çıkarma, çarpma, bölme yapabilir.\n",
    "print(8 * 10)\n",
    "print(100 /10)  #float sonuç verir.\n",
    "print(100//10)  #int sonuç verir.\n",
    "print(3 ** 2)\n",
    "print(100-90)\n",
    "print(3**2 + 1)\n",
    "print(\"1\" + \"1\") # iki str(1) birleştirir.\n",
    "print(\"1\" + 1) #bir integer ile bir str birleştirilmez. tipleri aynı olmalıdır."
   ]
  },
  {
   "cell_type": "code",
   "execution_count": null,
   "metadata": {
    "colab": {
     "base_uri": "https://localhost:8080/"
    },
    "id": "Me-iozX0CLaX",
    "outputId": "685c3501-77f5-4ae5-e0fa-a043c926cea9"
   },
   "outputs": [
    {
     "name": "stdout",
     "output_type": "stream",
     "text": [
      "clarusway 4 3 3.14 ali veli\n",
      "\n",
      "first line\n",
      "me_group_alpha\n",
      "It's my pleasure\n",
      "newline\n",
      "newlineend 3\n"
     ]
    }
   ],
   "source": [
    "print(\"clarusway\", 4, 3, 3.14, \"ali\", \"veli\")  \n",
    "# value lar arasında virgül olacak.\n",
    "print()  # DİKKAT \n",
    "print('first line')\n",
    "print('me_group_alpha')\n",
    "print(\"It's my pleasure\")\n",
    "print(\"new\" \"line\")\n",
    "print(\"new\" \"line\" \"end\", 3)   #virgül ile ayırınca hata vermez\n",
    "print(\"new\" \"line\" \"end\" 3) #burada int virgülle ayrılmadığı için hata veriyor."
   ]
  },
  {
   "cell_type": "code",
   "execution_count": null,
   "metadata": {
    "colab": {
     "base_uri": "https://localhost:8080/"
    },
    "id": "_lUN8BSXh7BO",
    "outputId": "4662743a-38f5-47b1-e537-062eef5c90c5"
   },
   "outputs": [
    {
     "name": "stdout",
     "output_type": "stream",
     "text": [
      "clarusway student 12 1 09 Mayıs 2022 3.14 571\n"
     ]
    }
   ],
   "source": [
    "no = 1\n",
    "cohort = 12\n",
    "text = 'clarusway student'\n",
    "a = '09 Mayıs 2022'\n",
    "b = 3.14\n",
    "c = '571'\n",
    "print(text, cohort, no, a, b, c)"
   ]
  },
  {
   "cell_type": "code",
   "execution_count": null,
   "metadata": {
    "id": "dKwEbYofCLYX"
   },
   "outputs": [],
   "source": [
    "# PEP 8 kuralları;\n",
    "* 79 karakter olarak belirlenmiştir.\n",
    "* Variable lar anlamlı bir şekilde isimlendirilmelidir.\n",
    "* Herkesin anlayabileceği bir netlikte yazılmalıdır.\n",
    "* O ya da 0 kullanımda hata verebilir, L ve l kullanımda hata verebilir.\n",
    "* normal - değil alt _ kullanılır.\n",
    "* Büyük harf kullanmaması iyidir.\n",
    "* boşluk bırakılmamalı.\n",
    "* Özel karakterler kullanılmamalı.\n",
    "* \n",
    "......."
   ]
  },
  {
   "cell_type": "code",
   "execution_count": null,
   "metadata": {
    "colab": {
     "base_uri": "https://localhost:8080/"
    },
    "id": "LM4xhgOuWyDb",
    "outputId": "8dc57d98-5035-420f-8863-4899ca474a20"
   },
   "outputs": [
    {
     "data": {
      "text/plain": [
       "True"
      ]
     },
     "execution_count": 15,
     "metadata": {},
     "output_type": "execute_result"
    }
   ],
   "source": [
    "# NUMERİC TYPE\n",
    "# sonuç True olsa da int ile float olarak yazdırdığımızda farklı old. görüyoruz.\n",
    "10 == 10.0  "
   ]
  },
  {
   "cell_type": "code",
   "execution_count": null,
   "metadata": {
    "colab": {
     "base_uri": "https://localhost:8080/"
    },
    "id": "hZj_s5_iXJnW",
    "outputId": "7ad7bfc9-e3d0-440b-f97b-c46ae407c365"
   },
   "outputs": [
    {
     "data": {
      "text/plain": [
       "0.0"
      ]
     },
     "execution_count": 13,
     "metadata": {},
     "output_type": "execute_result"
    }
   ],
   "source": [
    "float(0)"
   ]
  },
  {
   "cell_type": "code",
   "execution_count": null,
   "metadata": {
    "colab": {
     "base_uri": "https://localhost:8080/"
    },
    "id": "EYiq0WCgXJgJ",
    "outputId": "756eaccd-b344-4a27-e3b2-8020b7d27685"
   },
   "outputs": [
    {
     "data": {
      "text/plain": [
       "0"
      ]
     },
     "execution_count": 14,
     "metadata": {},
     "output_type": "execute_result"
    }
   ],
   "source": [
    "int(0)"
   ]
  },
  {
   "cell_type": "code",
   "execution_count": null,
   "metadata": {
    "colab": {
     "base_uri": "https://localhost:8080/",
     "height": 35
    },
    "id": "6rR7kBfiXJeL",
    "outputId": "b8cfa604-678f-4366-8aab-e51ed51797e2"
   },
   "outputs": [
    {
     "data": {
      "application/vnd.google.colaboratory.intrinsic+json": {
       "type": "string"
      },
      "text/plain": [
       "'0'"
      ]
     },
     "execution_count": 16,
     "metadata": {},
     "output_type": "execute_result"
    }
   ],
   "source": [
    "#bir şeyi string olarak yazmanın yolu \" \" içine almaktır ya da str() ile atama yapmaktır.\n",
    "# TÜM VERİ TİPLERİ STR DÖNÜŞÜR AMA TÜM VERİ TİPLERİ İÇİN İNT VE FLOAT dönüşür diyemeyiz.\n",
    "str(0)"
   ]
  },
  {
   "cell_type": "code",
   "execution_count": null,
   "metadata": {
    "id": "pF7yqnEOKv6f"
   },
   "outputs": [],
   "source": [
    "# VARİABLE VALUE\n",
    "my_age = 33  # my_age (variable), 33 (value)\n",
    "color = \"red\" "
   ]
  },
  {
   "cell_type": "code",
   "execution_count": null,
   "metadata": {
    "colab": {
     "base_uri": "https://localhost:8080/"
    },
    "id": "ItytWZNMUMm_",
    "outputId": "aa6d4968-024f-4a33-80c4-f4f087e3b511"
   },
   "outputs": [
    {
     "name": "stdout",
     "output_type": "stream",
     "text": [
      "15\n"
     ]
    }
   ],
   "source": [
    "x = \"  Clarusway    \"\n",
    "print(len(x)) \n",
    "# boşluklarıda bir değer olarak kabul eder ve sayar."
   ]
  },
  {
   "cell_type": "code",
   "execution_count": null,
   "metadata": {
    "id": "D3dAX_r9EFKL"
   },
   "outputs": [],
   "source": [
    "len(111)    #iterable olmayan bir şeyin uzunluğu olmaz ve eleman sayısından bahsedilmez. integer bir veri elemanlarına ayrılmaz. \n",
    "# zaten 111 integer dır.\n",
    "#iterable olanlar; string, colection (list, tuplel, dictionary, set) bunların eleman sayısı alınabilir.\n"
   ]
  },
  {
   "cell_type": "code",
   "execution_count": null,
   "metadata": {
    "colab": {
     "base_uri": "https://localhost:8080/"
    },
    "id": "kmjVNqoAhDMu",
    "outputId": "aefd56f2-9c53-49c7-d951-5d7c15f76bb6"
   },
   "outputs": [
    {
     "name": "stdout",
     "output_type": "stream",
     "text": [
      "<class 'str'>\n",
      "<class 'int'>\n",
      "<class 'float'>\n",
      "<class 'complex'>\n"
     ]
    }
   ],
   "source": [
    "# TYPE FONK.\n",
    "a = 'clarusway'\n",
    "b = 12\n",
    "c = 3.14\n",
    "d = 3.14j\n",
    "print(type(a))\n",
    "print(type(b))\n",
    "print(type(c))\n",
    "print(type(d))"
   ]
  },
  {
   "cell_type": "code",
   "execution_count": null,
   "metadata": {
    "colab": {
     "base_uri": "https://localhost:8080/"
    },
    "id": "W5KcVa3_UTRA",
    "outputId": "ee0f53c8-576d-49cc-f2ba-07acab889bc8"
   },
   "outputs": [
    {
     "name": "stdout",
     "output_type": "stream",
     "text": [
      "uppercase\n",
      "uppercaseletter\n",
      "uppercaseletterend\n"
     ]
    }
   ],
   "source": [
    "# değer atamasında en son vereceği değer bizim str en son atadığımız değerdir.\n",
    "str_one = 'upper'\n",
    "str_one += 'case'\n",
    "print(str_one)\n",
    "str_one += 'letter'\n",
    "print(str_one)\n",
    "str_one += 'end'\n",
    "print(str_one)"
   ]
  },
  {
   "cell_type": "code",
   "execution_count": null,
   "metadata": {
    "colab": {
     "base_uri": "https://localhost:8080/"
    },
    "id": "XipaSKXmUeui",
    "outputId": "2c26f6f3-1961-498a-ab4e-0c769c55799d"
   },
   "outputs": [
    {
     "name": "stdout",
     "output_type": "stream",
     "text": [
      "clarus    way\n"
     ]
    }
   ],
   "source": [
    "#verdiğimiz boşluklarıda bir değer olarak kabul eder.\n",
    "a = \"clarus\"\n",
    "a+= \"    way\"\n",
    "print(a)"
   ]
  },
  {
   "cell_type": "code",
   "execution_count": null,
   "metadata": {
    "colab": {
     "base_uri": "https://localhost:8080/"
    },
    "id": "xEc1_GBdgc0S",
    "outputId": "2f60c71b-66bd-4e6c-cf0a-ed37dce42bcf"
   },
   "outputs": [
    {
     "name": "stdout",
     "output_type": "stream",
     "text": [
      "pythonlesson\n"
     ]
    }
   ],
   "source": [
    "b = 'python'\n",
    "b += 'lesson'\n",
    "print(b)"
   ]
  },
  {
   "cell_type": "code",
   "execution_count": null,
   "metadata": {
    "id": "J1y_Gtr7hlX8"
   },
   "outputs": [],
   "source": [
    "# işlem sırası;\n",
    "parantez içi\n",
    "üslü sayılar\n",
    "negatif sayı\n",
    "çarpma bölme\n",
    "toplama çıkarma"
   ]
  },
  {
   "cell_type": "code",
   "execution_count": null,
   "metadata": {
    "id": "TARLALJiwUia"
   },
   "outputs": [],
   "source": [
    "# Bazı sihirli ters slahslar;\n",
    "'\\n' bu komuttan sonra bir boşluk bırakır, tek tırnak kullanmak istediğimiz zamanda farklı bir kullanımıyla yardımımıza koşar.\n",
    "'\\t' bir tab içerden başlar.\n",
    "'\\b' 1 karakter geri alır.\n",
    "end = \"-\" metin sonunda end i kullanarak boşluk ya da * ya da başka bir ayraç kullanabiliriz.Normalde bir alt satıra atar.\n",
    "sep = '+' ayırıcı olarak istediğimiz karakteri sep ile yapabiliriz.\n"
   ]
  },
  {
   "cell_type": "code",
   "execution_count": null,
   "metadata": {
    "colab": {
     "base_uri": "https://localhost:8080/"
    },
    "id": "4vxnO4M0wUce",
    "outputId": "5179c5d5-9168-4ebe-a5db-ded441d6dcfe"
   },
   "outputs": [
    {
     "name": "stdout",
     "output_type": "stream",
     "text": [
      "C: \\november\n",
      "umber_ex.txt\n",
      "we \bare \bunited\n",
      "Clasrusway \tClarusway\n",
      "ayşe ayşenur aslınur nazlı****humeyramentor\n",
      "it's pencil\n",
      "rabia**gamze**rumeysa**neşe**bahar**kübra**asuman\n",
      " \\n merhaba\n"
     ]
    }
   ],
   "source": [
    "# \\n kullanımı\n",
    "print('C: \\\\november\\number_ex.txt')\n",
    "# \\b kullanımı\n",
    "print(\"we\", '\\bare', '\\bunited')\n",
    "#\\t kullanımı\n",
    "print(\"Clasrusway\", '\\tClarusway')\n",
    "# end kullanımı\n",
    "print(\"ayşe\",\"ayşenur\", \"aslınur\", \"nazlı\", end = '****')  #bu kısma dikkat edelim, end in fonk. değiştirdiğim için bir alt satıra indirmedi bir sonrakini \n",
    "# yanına aldı.\n",
    "print(\"humeyra\" + 'mentor')\n",
    "#\\s kullanımı\n",
    "print('it\\'s pencil')\n",
    "# sep kullanımı\n",
    "print(\"rabia\",\"gamze\", \"rumeysa\", \"neşe\", 'bahar', 'kübra', 'asuman', sep = '**')\n",
    "print(r\" \\n merhaba\")  # \"r\" veya \"R\" harfi ile önek eklendiğinde bir dize değişmezi bir ham dize haline gelir ve \\n gibi kaçış dizeleri dönüştürülmez."
   ]
  },
  {
   "cell_type": "code",
   "execution_count": null,
   "metadata": {
    "id": "MOdoxzQvzcv7"
   },
   "outputs": [],
   "source": [
    "# BOOLEAN\n",
    "True ya da False verir, 3 tane mantık ifadesi var; and, or, not\n",
    "or her zaman true yı arar, çok pozitiftir hep olumlu düşünür :)\n",
    "and illa ki bir sorun vardır der ve hep false arar negatif düşünür :) \n",
    "not mevcudu tersine çevirir.\n",
    "SIRALAMA;\n",
    "None\n",
    "0, 0.0, 0j \n",
    "boş dizeler '', [], {}\n",
    "bunların dışında kalanlar bir değer olarak değerlendirilir."
   ]
  },
  {
   "cell_type": "code",
   "execution_count": null,
   "metadata": {
    "id": "KCUXB5MfwT_F"
   },
   "outputs": [],
   "source": [
    "2 and 3         # 3\n",
    "3 or 0          # 3\n",
    "None or 3       # 3\n",
    "None and 3      # Boş (çünkü None aldı, oda zaten hiçbir şey demek)\n",
    "[] or None      #sıralama da None olduğu için onu aldı.\n",
    "[] and None     #Boş string None göre işlem sırasında aşağıda olduğu için yanlış olarak [] aldı.\n",
    "0 or None       #aynı mantık işlem sırası\n",
    "0 and None      #aynı mantık işlem sırası"
   ]
  },
  {
   "cell_type": "code",
   "execution_count": null,
   "metadata": {
    "id": "wP97fzW31vuI"
   },
   "outputs": [],
   "source": [
    "[] or None"
   ]
  },
  {
   "cell_type": "code",
   "execution_count": null,
   "metadata": {
    "colab": {
     "base_uri": "https://localhost:8080/"
    },
    "id": "8mRzatgp1vqf",
    "outputId": "7fe7f2fa-198a-475e-8cab-7d6330e0b045"
   },
   "outputs": [
    {
     "data": {
      "text/plain": [
       "[]"
      ]
     },
     "execution_count": 90,
     "metadata": {},
     "output_type": "execute_result"
    }
   ],
   "source": [
    "[] and None"
   ]
  },
  {
   "cell_type": "code",
   "execution_count": null,
   "metadata": {
    "id": "Ug29Xsl31vm3"
   },
   "outputs": [],
   "source": [
    "0 or None"
   ]
  },
  {
   "cell_type": "code",
   "execution_count": null,
   "metadata": {
    "colab": {
     "base_uri": "https://localhost:8080/"
    },
    "id": "msvTT5571vjh",
    "outputId": "78d54695-d783-48fe-9470-660a0b6cc18e"
   },
   "outputs": [
    {
     "data": {
      "text/plain": [
       "0"
      ]
     },
     "execution_count": 92,
     "metadata": {},
     "output_type": "execute_result"
    }
   ],
   "source": [
    "0 and None"
   ]
  },
  {
   "cell_type": "code",
   "execution_count": null,
   "metadata": {
    "id": "Z2W__p-w1vdK"
   },
   "outputs": [],
   "source": [
    "İNDEXİNG & SLİCİNG STRİNGS\n",
    "Dizilerin numaralandırılması soldan 0 ile sağdan ise -1 ile başlar.\n",
    "string[start:stop:step]"
   ]
  },
  {
   "cell_type": "code",
   "execution_count": null,
   "metadata": {
    "colab": {
     "base_uri": "https://localhost:8080/"
    },
    "id": "uKifyVJu1vao",
    "outputId": "f6c54246-5f03-47c1-e778-3b22696549be"
   },
   "outputs": [
    {
     "name": "stdout",
     "output_type": "stream",
     "text": [
      "ekerPortakalı\n",
      "ŞekerP\n",
      "Şkrotkl\n",
      "eePraaı\n",
      "alı\n",
      "ılakatroPrekeŞ\n",
      "\n",
      "laka\n"
     ]
    }
   ],
   "source": [
    "city = 'ŞekerPortakalı'\n",
    "print(city[1:])\n",
    "print(city[:6])\n",
    "print(city[::2])\n",
    "print(city[1::2])\n",
    "print(city[-3:])\n",
    "print(city[::-1])\n",
    "print(city[-2:-6])  # atlama +1 olduğu için boş çıktı verir.Ters yönde hareket edemez.\n",
    "print(city[-2:-6:-1])"
   ]
  },
  {
   "cell_type": "code",
   "execution_count": null,
   "metadata": {
    "id": "JWNVZnZi3jOj"
   },
   "outputs": [],
   "source": [
    "STRİNG FORMATTİNG WİTH ARİTMETİC Syntax\n",
    "Aritmetik söz dizimi (+, *, =)\n",
    "%operatör\n",
    "string.format\n",
    "f-string"
   ]
  },
  {
   "cell_type": "code",
   "execution_count": null,
   "metadata": {
    "colab": {
     "base_uri": "https://localhost:8080/"
    },
    "id": "a71Dc5o04s7M",
    "outputId": "39625bf5-49bf-4a86-f656-79c84b96b2c2"
   },
   "outputs": [
    {
     "name": "stdout",
     "output_type": "stream",
     "text": [
      "121121\n"
     ]
    }
   ],
   "source": [
    "#aritmetik söz dizimi\n",
    "sonuç = str((5+6) ** 2) + '121'\n",
    "print(sonuç)"
   ]
  },
  {
   "cell_type": "code",
   "execution_count": null,
   "metadata": {
    "colab": {
     "base_uri": "https://localhost:8080/"
    },
    "id": "hUOPWe7PUzVU",
    "outputId": "9568c354-8d89-4197-db00-8843c48afa98"
   },
   "outputs": [
    {
     "name": "stdout",
     "output_type": "stream",
     "text": [
      "asıl konu 4 umut and 5.00 \n"
     ]
    }
   ],
   "source": [
    "#%operatör\n",
    "konu = 'asıl konu %d %s and %.2f ' % (4, \"umut\", 5)\n",
    "print(konu)\n"
   ]
  },
  {
   "cell_type": "code",
   "execution_count": null,
   "metadata": {
    "colab": {
     "base_uri": "https://localhost:8080/"
    },
    "id": "TbKhbOn5TfsY",
    "outputId": "11d926e2-c354-47f7-bb5e-1533e9ec4122"
   },
   "outputs": [
    {
     "name": "stdout",
     "output_type": "stream",
     "text": [
      "olmaz!olmaz!olmaz!\n"
     ]
    }
   ],
   "source": [
    "#aritmetik işlem yapılabilir\n",
    "print(3 *'olmaz!')"
   ]
  },
  {
   "cell_type": "code",
   "execution_count": null,
   "metadata": {
    "colab": {
     "base_uri": "https://localhost:8080/"
    },
    "id": "lMy58keEUCYy",
    "outputId": "f7046365-3919-4333-e982-2cf31489941a"
   },
   "outputs": [
    {
     "name": "stdout",
     "output_type": "stream",
     "text": [
      "I   a m   a n g r y\n"
     ]
    }
   ],
   "source": [
    "print (* \"I am angry\")  # burada boşluk karakterini de karakter olarak kabul ettiği için ondan sonra da boşluk veriyor."
   ]
  },
  {
   "cell_type": "code",
   "execution_count": null,
   "metadata": {
    "colab": {
     "base_uri": "https://localhost:8080/"
    },
    "id": "LMiBaMKn3jKB",
    "outputId": "715b5e15-dbcc-4c7b-9a5e-54abbd641cf5"
   },
   "outputs": [
    {
     "name": "stdout",
     "output_type": "stream",
     "text": [
      "Merha\n"
     ]
    }
   ],
   "source": [
    "# %operatör\n",
    "x = 'Merhabalar'\n",
    "print('%.5s' % x)"
   ]
  },
  {
   "cell_type": "code",
   "execution_count": null,
   "metadata": {
    "id": "8JEtZ6v23jHQ"
   },
   "outputs": [],
   "source": [
    "# str.format metodu:\n",
    "print('{state} is the most {adjective} state of the {country}'.format(state='California', country= 'USA', adjective='crowded')) \n",
    "#anahtar kelimeleri sırayla yazmamıza gerek yok, çünkü atama yaptık."
   ]
  },
  {
   "cell_type": "code",
   "execution_count": null,
   "metadata": {
    "colab": {
     "base_uri": "https://localhost:8080/"
    },
    "id": "Ie91zhu43jF8",
    "outputId": "dfb1d0de-1cc4-4690-be33-61a022ed28a6"
   },
   "outputs": [
    {
     "name": "stdout",
     "output_type": "stream",
     "text": [
      "I will have found a job in 6 months\n"
     ]
    }
   ],
   "source": [
    "print(\"{6} {0} {5} {3} {4} {1} {2}\".format('have', 6, 'months', 'a job', 'in', 'found', 'I will')) #index sıralaması yaptırıyoruz"
   ]
  },
  {
   "cell_type": "code",
   "execution_count": null,
   "metadata": {
    "colab": {
     "base_uri": "https://localhost:8080/"
    },
    "id": "ft06DU5f3jB-",
    "outputId": "6631d4f0-1a23-4f2a-84b0-2319e63cb021"
   },
   "outputs": [
    {
     "name": "stdout",
     "output_type": "stream",
     "text": [
      "The amount of orange we bought is 4 pounds\n"
     ]
    }
   ],
   "source": [
    "fruit = 'orange'\n",
    "vegetable = 'Tomato'\n",
    "amount = 4\n",
    "print('The amount of {} we bought is {} pounds'.format(fruit, amount))"
   ]
  },
  {
   "cell_type": "code",
   "execution_count": null,
   "metadata": {
    "colab": {
     "base_uri": "https://localhost:8080/"
    },
    "id": "-3sKdN4n3i6v",
    "outputId": "096fcdb7-c6c5-440a-b434-8a041b783d30"
   },
   "outputs": [
    {
     "name": "stdout",
     "output_type": "stream",
     "text": [
      "California is the most crowded state of the USA\n"
     ]
    }
   ],
   "source": [
    "print('{0} is the most {adjective} state of the {country}'.format('California', country= 'USA', adjective='crowded')) \n",
    "#ilk kısımda string i 0 olarak yazınca tanımsız olduğu için California yı aldı"
   ]
  },
  {
   "cell_type": "code",
   "execution_count": null,
   "metadata": {
    "colab": {
     "base_uri": "https://localhost:8080/"
    },
    "id": "bS48apCm6aP-",
    "outputId": "5d5fb376-cd39-43dd-cb77-be139138f72f"
   },
   "outputs": [
    {
     "name": "stdout",
     "output_type": "stream",
     "text": [
      "Hi asuman.You are one of the engineer in the food section.\n"
     ]
    }
   ],
   "source": [
    "# f-string metodu\n",
    "name = \"asuman\"\n",
    "job = \"engineer\"\n",
    "domain = \"food\"\n",
    "message = (\n",
    "    f\"Hi {name}.\"\n",
    "    f\"You are one of the {job}\"\n",
    "    f\" in the {domain} section.\"\n",
    ")                                     #bu kısımda message sonrası parantez kullandık.\n",
    "print(message)"
   ]
  },
  {
   "cell_type": "code",
   "execution_count": null,
   "metadata": {
    "colab": {
     "base_uri": "https://localhost:8080/"
    },
    "id": "BIlr8CBC6aHI",
    "outputId": "499c9037-f750-433f-9a7f-6c751ff1a1b7"
   },
   "outputs": [
    {
     "name": "stdout",
     "output_type": "stream",
     "text": [
      "Hi asuman. You are one of th engineer in the food section.\n"
     ]
    }
   ],
   "source": [
    "name = \"asuman\"\n",
    "job = \"engineer\"\n",
    "domain = \"food\"\n",
    "message = f\"Hi {name}. \" \\\n",
    "f\"You are one of th {job} \" \\\n",
    "f\"in the {domain} section.\"\n",
    "print(message)\n",
    "# bu kısımda parantez kullanmadık \\ kullanarak biçimlendirme yaptık."
   ]
  },
  {
   "cell_type": "code",
   "execution_count": null,
   "metadata": {
    "colab": {
     "base_uri": "https://localhost:8080/"
    },
    "id": "WEmBRft9DjfA",
    "outputId": "f9c9dc18-49b7-40c2-eed2-f28ed0a74d09"
   },
   "outputs": [
    {
     "name": "stdout",
     "output_type": "stream",
     "text": [
      "I live in Türki̇ye\n",
      "I live in Türki̇ye\n"
     ]
    }
   ],
   "source": [
    "city = \"TÜRKİYE\"\n",
    "text1 = f\"{city.capitalize()}\"\n",
    "print(\"I live in \" + text1)       #1. yol\n",
    "text2 = f\"I live in {city.capitalize()}\"\n",
    "print(text2)                      #bu kod 2 şekilde yazılabilir."
   ]
  },
  {
   "cell_type": "code",
   "execution_count": null,
   "metadata": {
    "id": "982cQwXI6aEM"
   },
   "outputs": [],
   "source": [
    "#dize arama, değiştirme ve farklı fonksiyonlar;"
   ]
  },
  {
   "cell_type": "code",
   "execution_count": null,
   "metadata": {
    "colab": {
     "base_uri": "https://localhost:8080/"
    },
    "id": "YniOQFIX6aBK",
    "outputId": "fe0df0ee-357e-46ac-f19a-3cb76fe2f69a"
   },
   "outputs": [
    {
     "name": "stdout",
     "output_type": "stream",
     "text": [
      "True\n",
      "False\n"
     ]
    }
   ],
   "source": [
    "text = 'www.clarusway.com'\n",
    "print(text.endswith('.com'))  # sonda arar\n",
    "print(text.startswith('http:')) # başta  arar"
   ]
  },
  {
   "cell_type": "code",
   "execution_count": null,
   "metadata": {
    "colab": {
     "base_uri": "https://localhost:8080/"
    },
    "id": "osK1xsD06Z9j",
    "outputId": "0398a80c-327e-40e4-e7b1-54da1ffde253"
   },
   "outputs": [
    {
     "name": "stdout",
     "output_type": "stream",
     "text": [
      "True\n",
      "True\n"
     ]
    }
   ],
   "source": [
    "email = \"clarusway@clarusway.com is my e-mail address\"\n",
    "print(email.startswith(\"@\",9))       #9.karakter @ dır, sonuç true\n",
    "print(email.endswith(\"-\", 10, 32))   #10 ile 32 arasında - var, sonuç true"
   ]
  },
  {
   "cell_type": "code",
   "execution_count": null,
   "metadata": {
    "colab": {
     "base_uri": "https://localhost:8080/"
    },
    "id": "xE1AZNaT7xxM",
    "outputId": "f647758d-8114-4d35-e0ac-b05cbb6e9284"
   },
   "outputs": [
    {
     "name": "stdout",
     "output_type": "stream",
     "text": [
      "HER ŞEY GÜZEL OLACAK, BIRAZ SABIR, BIRAZ DAHA GAYRET...\n",
      "her şey güzel olacak, biraz sabır, biraz daha gayret...\n",
      "hER ŞEY GÜZEL OLACAK, BIRAZ SABIR, BIRAZ DAHA GAYRET...\n",
      "Her şey güzel olacak, biraz sabır, biraz daha gayret...\n"
     ]
    }
   ],
   "source": [
    "sentence = \"Her şey güzel olacak, biraz sabır, biraz daha gayret...\"\n",
    "print(sentence.upper())\n",
    "print(sentence.lower())\n",
    "print(sentence.swapcase())\n",
    "print(sentence ) # kaynak olan metin değişmedi aynı kaldı\n"
   ]
  },
  {
   "cell_type": "code",
   "execution_count": null,
   "metadata": {
    "colab": {
     "base_uri": "https://localhost:8080/"
    },
    "id": "7utM12Js7xtG",
    "outputId": "b7402f79-eeeb-4513-ec8f-9afa93f1dc83"
   },
   "outputs": [
    {
     "name": "stdout",
     "output_type": "stream",
     "text": [
      "Her Şey Güzel Olacak, Biraz Sabır, Biraz Daha Gayret...\n",
      "Her şey güzel olacak, biraz sabır, biraz daha gayret...\n",
      "Her şey güzel ol+c+k, bir+z s+bır, bir+z d+h+ g+yret...\n",
      "number: 8\n",
      "Her şey güzel olacak, biraz sabır, biraz daha gayret...\n",
      "Hala çok işimiz var...\n"
     ]
    }
   ],
   "source": [
    "new_sentence = 'Hala çok işimiz var...'\n",
    "print(str.title(sentence))\n",
    "print(str.capitalize(sentence))\n",
    "print(sentence.replace ('a', '+'))\n",
    "print(\"number:\", sentence.count(\"a\"))\n",
    "print(sentence)                       #str ler değişmez mutable dır.\n",
    "print(new_sentence)                   #str ler değişmze mutable dır."
   ]
  },
  {
   "cell_type": "code",
   "execution_count": null,
   "metadata": {
    "colab": {
     "base_uri": "https://localhost:8080/"
    },
    "id": "VsudBofT7xl6",
    "outputId": "c61e43ef-65f4-46e2-895a-90f6216ac739"
   },
   "outputs": [
    {
     "name": "stdout",
     "output_type": "stream",
     "text": [
      "listen first\n",
      "listen first          \n",
      "           listen first\n",
      "informati\n",
      "formation\n",
      "nformation\n"
     ]
    }
   ],
   "source": [
    "# Dize Düzeltme\n",
    "space_string = \"           listen first          \"\n",
    "new = \"information\"\n",
    "\n",
    "print(space_string.strip())     #her taraftan siler\n",
    "print(space_string.lstrip())    #sol\n",
    "print(space_string.rstrip())    #sağ\n",
    "print(new.rstrip(\"on\"))\n",
    "print(new.lstrip(\"in\"))\n",
    "print(new.strip(\"i\"))"
   ]
  },
  {
   "cell_type": "code",
   "execution_count": null,
   "metadata": {
    "colab": {
     "base_uri": "https://localhost:8080/"
    },
    "id": "xWdL8S9QDH4O",
    "outputId": "7c52f842-263d-47ae-93cb-c20d089ddd1d"
   },
   "outputs": [
    {
     "name": "stdout",
     "output_type": "stream",
     "text": [
      "clausway\n"
     ]
    }
   ],
   "source": [
    "word = 'clarusway'\n",
    "n = 3\n",
    "front = (word[ :n])\n",
    "back = (word[(n+1) :])\n",
    "print(front+back)"
   ]
  },
  {
   "cell_type": "code",
   "execution_count": null,
   "metadata": {
    "colab": {
     "base_uri": "https://localhost:8080/"
    },
    "id": "eC49LdNVDHzf",
    "outputId": "f239984f-597e-4876-e7e8-45824f713049"
   },
   "outputs": [
    {
     "name": "stdout",
     "output_type": "stream",
     "text": [
      "Clarusway, Clarusway, Clarusway, \n",
      "\tClarusway, Clarusway, Clarusway, \n",
      "\t\tClarusway, Clarusway, Clarusway\n"
     ]
    }
   ],
   "source": [
    "text = \"Clarusway, Clarusway, Clarusway\"\n",
    "print(text +\", \\n\\t\" + text +\", \\n\\t\\t\" + text) \n",
    "#burada \\n satırı aşağıya indirdi \\t ise bir kez tab tuşuna basma fonk. gerçekleştirmiş oldu."
   ]
  },
  {
   "cell_type": "code",
   "execution_count": null,
   "metadata": {
    "colab": {
     "base_uri": "https://localhost:8080/"
    },
    "id": "9wPx1wuK7xd7",
    "outputId": "87ca6de4-3e23-4f28-d525-612510d498a3"
   },
   "outputs": [
    {
     "name": "stdout",
     "output_type": "stream",
     "text": [
      "['I', ' ', 'q', 'u', 'i', 't', ' ', 's', 'm', 'o', 'k', 'i', 'n', 'g']\n",
      "['I quit smoking']\n"
     ]
    }
   ],
   "source": [
    "# COLLETİON TYPE\n",
    "# LİST; iterable dır, elemanlarına ayrılır, mutabledır yerinde değişir.\n",
    "# boş list iki şekilde oluşturulur;\n",
    "list()\n",
    "[]\n",
    "string_1 = \"I quit smoking\"\n",
    "new_list_1 = list(string_1)  #çoklu eleman listesi oluşturduk.\n",
    "new_list_2 = [string_1] # tek elemanlı liste \n",
    "print(new_list_1) \n",
    "print(new_list_2)\n",
    "#list()işlevini kullanarak boşluklar dahil olmak üzere string_1 in tüm karakterlerini new_list_1 taşıdık.\n",
    "#ayrıca aşağıdaki listeye dikkatlice bakılınca aynı değerden birden fazla olduğunu görüyoruz, i harfi gibi"
   ]
  },
  {
   "cell_type": "code",
   "execution_count": null,
   "metadata": {
    "colab": {
     "base_uri": "https://localhost:8080/"
    },
    "id": "NaNg-zBgPKhY",
    "outputId": "21f8ce9a-15f2-43d3-a6e1-ba4ad0f8ef30"
   },
   "outputs": [
    {
     "name": "stdout",
     "output_type": "stream",
     "text": [
      "[1, 1, 2]\n"
     ]
    }
   ],
   "source": [
    "# Değerleri sırasıyla 3,1,2 olan listeyi 1,1,2 olarak değiştiriniz.\n",
    "liste=[3,1,2]\n",
    " \n",
    "liste[0]=1\n",
    "liste[1]=1\n",
    "liste[2]=2\n",
    " \n",
    "print(liste)"
   ]
  },
  {
   "cell_type": "code",
   "execution_count": null,
   "metadata": {
    "colab": {
     "base_uri": "https://localhost:8080/"
    },
    "id": "x_GoJkpB7xYH",
    "outputId": "7ba1e56d-885a-4c94-d793-cdff1e84e484"
   },
   "outputs": [
    {
     "name": "stdout",
     "output_type": "stream",
     "text": [
      "[11, 'grup_alfa', False, 3.14, None, [1, 2, 3]]\n"
     ]
    }
   ],
   "source": [
    "mixed_list = [11, \"grup_alfa\", False, 3.14, None, [1,2,3,]] #burada da görüleceği tek bir veri türü yok, int, str, boolean,...\n",
    "print(mixed_list)"
   ]
  },
  {
   "cell_type": "code",
   "execution_count": null,
   "metadata": {
    "colab": {
     "base_uri": "https://localhost:8080/"
    },
    "id": "M0WA6OZsGGF6",
    "outputId": "b24a4120-bcf0-4b87-aed6-72abbe776676"
   },
   "outputs": [
    {
     "name": "stdout",
     "output_type": "stream",
     "text": [
      "['1', '1', ',', ' ', \"'\", 'g', 'r', 'u', 'p', '_', 'a', 'l', 'f', 'a', \"'\", ',', ' ', 'F', 'a', 'l', 's', 'e']\n",
      "[\"11, 'grup_alfa', False\"]\n"
     ]
    }
   ],
   "source": [
    "#list elemanlarına ayırırken boşluklarıda bir karakter olarak kabul eder.\n",
    "alfa = \"11, 'grup_alfa', False\"  #burada yazılanın kesinlikle string olması lazım ve tırnak içinde olması lazım, köşeli parantezle yazılmamalı.\n",
    "new_alfa= list(alfa)\n",
    "print(new_alfa)\n",
    "new_alfa_1 = [alfa]\n",
    "print(new_alfa_1)"
   ]
  },
  {
   "cell_type": "code",
   "execution_count": null,
   "metadata": {
    "colab": {
     "base_uri": "https://localhost:8080/"
    },
    "id": "jsYIlhqAH5Ze",
    "outputId": "f08ab808-8c79-446c-8b5c-66c7b2c2eda0"
   },
   "outputs": [
    {
     "name": "stdout",
     "output_type": "stream",
     "text": [
      "blue\n"
     ]
    }
   ],
   "source": [
    "# LİSTE İNDEXLEME\n",
    "colors = [\"red\", \"purple\", \"blue\", \"yellow\", \"green\"]  #liste indexleme metodunun kullanımı\n",
    "print(colors[2])  #ıf we start at zero, the second element will be blue. sıfırdan başlarkan ikinci element mavi olur."
   ]
  },
  {
   "cell_type": "code",
   "execution_count": null,
   "metadata": {
    "colab": {
     "base_uri": "https://localhost:8080/"
    },
    "id": "KkJq-1IBHZqj",
    "outputId": "d5a5cea6-6b62-4de1-b157-e57a827c289f"
   },
   "outputs": [
    {
     "name": "stdout",
     "output_type": "stream",
     "text": [
      "[['apple', 'banana', 'watermelon', 'orange', 'mango', 'avocado']]\n"
     ]
    }
   ],
   "source": [
    "# list indexleme\n",
    "\n",
    "fruits = ['apple', 'banana', 'watermelon', 'orange', 'mango', 'avocado']\n",
    "fruit_list = []\n",
    "fruit_list.insert(0, fruits)\n",
    "print(fruit_list)"
   ]
  },
  {
   "cell_type": "code",
   "execution_count": null,
   "metadata": {
    "colab": {
     "base_uri": "https://localhost:8080/"
    },
    "id": "PcjPJJWwHkzp",
    "outputId": "59b463a7-5dbb-4c8e-ddec-73257bb53e2a"
   },
   "outputs": [
    {
     "name": "stdout",
     "output_type": "stream",
     "text": [
      "l\n"
     ]
    }
   ],
   "source": [
    "print(fruit_list[0][2][7])"
   ]
  },
  {
   "cell_type": "code",
   "execution_count": null,
   "metadata": {
    "colab": {
     "base_uri": "https://localhost:8080/"
    },
    "id": "QUw7Tmg2PW2q",
    "outputId": "2c8dfa48-ab30-451a-ee5b-e9425be789a4"
   },
   "outputs": [
    {
     "name": "stdout",
     "output_type": "stream",
     "text": [
      "True\n",
      "False\n"
     ]
    }
   ],
   "source": [
    "# hafta_ici isimli bir liste oluşturarak haftanın günlerini ekleyiniz.\n",
    "# Daha sonra sırasıyla cuma ve cumartesi günlerinin listede olup olmadığını kontrol ediniz.\n",
    "\n",
    "hafta_ici=[\"pazartesi\",\"salı\",\"çarşamba\",\"perşembe\",\"cuma\"]\n",
    "print(\"cuma\" in hafta_ici)\n",
    "print(\"cumartesi\" in hafta_ici)"
   ]
  },
  {
   "cell_type": "code",
   "execution_count": null,
   "metadata": {
    "colab": {
     "base_uri": "https://localhost:8080/"
    },
    "id": "d19DjWGdIPjN",
    "outputId": "772a66ad-b880-4471-e012-b00575afc957"
   },
   "outputs": [
    {
     "name": "stdout",
     "output_type": "stream",
     "text": [
      "[['New York', 'London', 'Istanbul', 'Seoul', 'Sydney']]\n"
     ]
    }
   ],
   "source": [
    "city = ['New York', 'London', 'Istanbul', 'Seoul', 'Sydney']\n",
    "city_list = [] #burada tamamının bir liste olduğunu belirttik,\n",
    "city_list.append(city) #we have created lis a nested list. listeyi iç içe bir liste olarak oluşturduk.\n",
    "print(city_list)\n",
    "#city_list liste olan yalnızca bir öğe içerir. çıktıya dikkat et, çift köşeli parantez var yani ikici parantez listeyi tek bir öğe haline getirdi."
   ]
  },
  {
   "cell_type": "code",
   "execution_count": null,
   "metadata": {
    "colab": {
     "base_uri": "https://localhost:8080/"
    },
    "id": "NLkiCIKgIBsD",
    "outputId": "6a533ed1-6f13-48d9-ca98-8644bb6a5930"
   },
   "outputs": [
    {
     "name": "stdout",
     "output_type": "stream",
     "text": [
      "[['New York', 'London', 'Istanbul', 'Seoul', 'Sydney']]\n",
      "['New York', 'London', 'Istanbul', 'Seoul', 'Sydney']\n",
      "Istanbul\n",
      "l\n"
     ]
    }
   ],
   "source": [
    "print(city_list)\n",
    "print(city_list[0]) #city_list in ilk yani 0. elemanı nedir dediğimize çıkan sonuca dikkat.\n",
    "print(city_list[0][2])  #burada ise 0 öğesinin içindeki 2.elemana erişmek istedik. (sonuç İstanbul)\n",
    "#burada city_list[0] bir liste tipi veridir. (a liste type data)\n",
    "#fakat city_list[0][2] bu ise bir dize tipe veridir. (a string type data)\n",
    "print(city_list[0][2][7])"
   ]
  },
  {
   "cell_type": "code",
   "execution_count": null,
   "metadata": {
    "colab": {
     "base_uri": "https://localhost:8080/"
    },
    "id": "tDUoo6EhIvVN",
    "outputId": "71b2bc7a-2ba7-4ea7-e1ae-96c3ff44b265"
   },
   "outputs": [
    {
     "name": "stdout",
     "output_type": "stream",
     "text": [
      "[5, 7, 9]\n"
     ]
    }
   ],
   "source": [
    "#liste dilimleme\n",
    "numbers = [1, 3, 5, 7, 9, 11, 13, 15, 17]\n",
    "print(numbers[2:5])  #dilimleme de köşeli paranteze dikkat et. start index=2 , stop index=5 (5 dahil değil)\n",
    "#yani listenin 2.3. ve 4. öğelerini almış olduk."
   ]
  },
  {
   "cell_type": "code",
   "execution_count": null,
   "metadata": {
    "colab": {
     "base_uri": "https://localhost:8080/"
    },
    "id": "-snxSo5_I2Bc",
    "outputId": "15f874e6-35b0-440e-dcc8-5ce1f6c74ca7"
   },
   "outputs": [
    {
     "name": "stdout",
     "output_type": "stream",
     "text": [
      "[0, 1, 2, 3, 4, 5, 6, 7, 8, 9, 10]\n",
      "[0, 2, 4, 6, 8, 10]\n"
     ]
    }
   ],
   "source": [
    "#sequence[start:stop:step]\n",
    "count = list(range(11))  #burada 1 den 10 a kadar olan bir sayı listesi oluşturduk, içinden çift olanları seçelim.\n",
    "print(count)\n",
    "print(count[0:11:2]) #0 dan başla 11 e kadar git (11 dahil değil) 2 şer adım atla"
   ]
  },
  {
   "cell_type": "code",
   "execution_count": null,
   "metadata": {
    "colab": {
     "base_uri": "https://localhost:8080/"
    },
    "id": "Abwu79Y3I8u0",
    "outputId": "a8226f97-08c8-4675-e366-282c7cc568ef"
   },
   "outputs": [
    {
     "name": "stdout",
     "output_type": "stream",
     "text": [
      "Vize Notunuz : 100\n",
      "Final Notunuz : 90\n",
      "Ortalama :93.0 \n"
     ]
    }
   ],
   "source": [
    "#KULLANICIDAN İNPUT ALARAK VİZE FİNAL HESAPLAMA\n",
    "vize = input('Vize Notunuz : ')\n",
    "final = input('Final Notunuz : ')\n",
    "ortalama=(float(vize)*0.3)+(float(final)*0.7)\n",
    "print(\"Ortalama :{0} \".format(ortalama))\n"
   ]
  },
  {
   "cell_type": "code",
   "execution_count": null,
   "metadata": {
    "colab": {
     "base_uri": "https://localhost:8080/"
    },
    "id": "ff7bYn-CJOz9",
    "outputId": "609b062c-553f-42c8-9ef9-f7fdc50e2b03"
   },
   "outputs": [
    {
     "name": "stdout",
     "output_type": "stream",
     "text": [
      "Açı1 : 60\n",
      "Açı2 : 60\n",
      "Açı3 : 60\n",
      "Üçgen mi? : True\n"
     ]
    }
   ],
   "source": [
    "#EDWİN HOCANIN SORDUĞU ÜÇGENİN AÇILARI TOPLAMININ FARKLI ÇÖZÜMLERİ\n",
    "a = int(input(\"Açı1 : \"))\n",
    "b = int(input(\"Açı2 : \"))\n",
    "c = int(input(\"Açı3 : \"))\n",
    "Üçgen = ((a+b>=c) and (b+c>=a) and (a+c>=b) and (180==a+b+c) and (a>0 and b>0 and c>0))\n",
    "print(\"Üçgen mi? :\", bool(Üçgen))"
   ]
  },
  {
   "cell_type": "code",
   "execution_count": null,
   "metadata": {
    "colab": {
     "base_uri": "https://localhost:8080/"
    },
    "id": "iGlfwTB2fz8N",
    "outputId": "68f2e6de-dd07-45df-a3d9-07e762777a48"
   },
   "outputs": [
    {
     "name": "stdout",
     "output_type": "stream",
     "text": [
      "Açı-1:50\n",
      "Açı-2:50\n",
      "Açı-3:80\n",
      "Doğru\n",
      "İkizkenar Üçgen....\n"
     ]
    }
   ],
   "source": [
    "# Verilen açılarla pozitif alan üçgeninin mümkün olup olmadığını kontrol eden bir program yazın.)\n",
    "a = float(input(\"Açı-1:\"))\n",
    "b = int(input(\"Açı-2:\"))\n",
    "c = int(input(\"Açı-3:\"))\n",
    "if a!=0 and b!=0 and c!=0 and (a + b + c == 180) and (a + b > c or a + b == c) and (a + c > b or a + c == b) and (b + c > a or b + c == a):\n",
    "  print(\"Doğru\")\n",
    "  if a==b==c and (a+b+c== 180):\n",
    "    print(\"eşkenar üçgen\")\n",
    "  elif (a == b and a != c) or (a == c and a != b) or (b == c and b != a):\n",
    "    print(\"İkizkenar Üçgen....\")\n",
    "  else:\n",
    "    print(\"çeşitkenar üçgen\")\n",
    "else:\n",
    "  print(\"Üçgen belirtmiyor\")"
   ]
  },
  {
   "cell_type": "code",
   "execution_count": null,
   "metadata": {
    "colab": {
     "base_uri": "https://localhost:8080/"
    },
    "id": "-2lwGE_QpP0l",
    "outputId": "cfe7aebd-2a24-4fdd-94b5-5f8ee7b139e8"
   },
   "outputs": [
    {
     "name": "stdout",
     "output_type": "stream",
     "text": [
      "Type 1st angle of triangle:50\n",
      "Type 2nd angle of triangle:50\n",
      "Type 3rd angle of triangle:80\n",
      "Is it a triangle? : True\n"
     ]
    }
   ],
   "source": [
    "# Verilen açılarla pozitif alan üçgeninin mümkün olup olmadığını kontrol eden bir program yazın.)\n",
    "a = float(input(\"Type 1st angle of triangle:\"))\n",
    "b = float(input(\"Type 2nd angle of triangle:\"))\n",
    "c = float(input(\"Type 3rd angle of triangle:\"))\n",
    "print(\"Is it a triangle? : {}\".format(a!=0 and b!=0 and c!=0 and (a + b + c == 180) and (a + b > c or a + b == c) and (a + c > b or a + c == b) and (b + c > a or b + c == a)))\n"
   ]
  },
  {
   "cell_type": "code",
   "execution_count": null,
   "metadata": {
    "id": "9p9iv9yjp_5o"
   },
   "outputs": [],
   "source": [
    "# Verilen açılarla pozitif alan üçgeninin mümkün olup olmadığını kontrol eden bir program yazın.)\n",
    "açı1 = int(input(\"birinci açıyı giriniz : \"))\n",
    "açı2 = int(input(\"ikinci açıyı giriniz  : \"))\n",
    "açı3 = int(input(\"birinci açıyı giriniz : \"))\n",
    "# Herhangi iki açının toplamı üçüncü açıdan büyük veya ona eşit olmalıdır\n",
    "# Üç açının toplamı 180 olmalıdır\n",
    "# Hiçbir açı sıfır olmamalıdır\n",
    "üçgen = (((açı1 + açı2) >= açı3 and (açı2 + açı3) >= açı1 and (açı1 + açı3) >= açı2) and (180 == açı1 + açı2 + açı3) and (açı1 > 0 and açı2 > 0 and açı3 > 0))\n",
    "print(\"Üçgen için uygun mudur? :\", (üçgen))"
   ]
  },
  {
   "cell_type": "code",
   "execution_count": null,
   "metadata": {
    "colab": {
     "base_uri": "https://localhost:8080/"
    },
    "id": "qEH2ZN_9LHJs",
    "outputId": "930c5e0b-6202-43ed-da36-380c19a2014d"
   },
   "outputs": [
    {
     "name": "stdout",
     "output_type": "stream",
     "text": [
      "[1, 2, 3, 5]\n",
      "[1, 2, 3, 5, 8]\n",
      "[1, 2, 3, 5, 8, 13]\n"
     ]
    }
   ],
   "source": [
    "# önce integer 1, 2 ve 3 'ten oluşan bir liste tanımlayın. \n",
    "# Sonra bu listenin son iki elemanı toplayıp listenin sonuna ekleyen ve \n",
    "# bunu 3 defa yapıp her defasında ekrana çıktı alan kod yazınız. (Döngü kullanmayınız.) \n",
    "liste = [*range(1,4)]\n",
    "\n",
    "liste.append(liste[-1] + liste[-2])\n",
    "print(liste)\n",
    "\n",
    "liste.append(liste[-1] + liste[-2])\n",
    "print(liste)\n",
    "\n",
    "liste.append(liste[-1] + liste[-2])\n",
    "print(liste)"
   ]
  },
  {
   "cell_type": "code",
   "execution_count": null,
   "metadata": {
    "colab": {
     "base_uri": "https://localhost:8080/"
    },
    "id": "eMBxRO2GLfD9",
    "outputId": "13b5a6e8-b608-4caa-e12d-ad1be77789bf"
   },
   "outputs": [
    {
     "name": "stdout",
     "output_type": "stream",
     "text": [
      "kenar_uzunluğu_1:3\n",
      "kenar_uzunluğu_2:4\n",
      "5.0\n"
     ]
    }
   ],
   "source": [
    "# Kullanıcıdan bir dik üçgenin dik olan iki kenarını(a,b) alın ve hipotenüs uzunluğunu bulmaya çalışın.\n",
    "# Hipotenüs Formülü: a^2 + b^2 = c^2\n",
    "a= int(input(\"kenar_uzunluğu_1:\"))\n",
    "b= int(input(\"kenar_uzunluğu_2:\"))\n",
    "c=((a**2+b**2)**(0.5))  # c=hipotenüs\n",
    "print(c)"
   ]
  },
  {
   "cell_type": "code",
   "execution_count": null,
   "metadata": {
    "colab": {
     "base_uri": "https://localhost:8080/"
    },
    "id": "DulzYbilMF4T",
    "outputId": "5483952b-69dc-4f28-87a1-e6c13e2eca6c"
   },
   "outputs": [
    {
     "name": "stdout",
     "output_type": "stream",
     "text": [
      "1. Yazılı : 100\n",
      "2. Yazılı : 90\n",
      "3. Yazılı : 80\n",
      "Ortalama :90.0 \n"
     ]
    }
   ],
   "source": [
    "y1 = input('1. Yazılı : ')\n",
    "y2 = input('2. Yazılı : ')\n",
    "y3 = input('3. Yazılı : ')\n",
    "ortalama=(float(y1)+float(y2)+float(y3))/3\n",
    "print(\"Ortalama :{0} \".format(ortalama))"
   ]
  },
  {
   "cell_type": "code",
   "execution_count": null,
   "metadata": {
    "colab": {
     "base_uri": "https://localhost:8080/"
    },
    "id": "LGvF-Ef9MbxP",
    "outputId": "abdf3e86-d671-485a-df70-4de221ad5052"
   },
   "outputs": [
    {
     "name": "stdout",
     "output_type": "stream",
     "text": [
      "Kısa Kenar : 3\n",
      "Uzun Kenar : 5\n",
      "Alan : 15\n",
      "Çevre : 16\n"
     ]
    }
   ],
   "source": [
    "kisa=input('Kısa Kenar : ')\n",
    "uzun=input('Uzun Kenar : ')\n",
    "alan=int(kisa)*int(uzun)\n",
    "cevre=2*(int(kisa)+int(uzun))\n",
    "print(\"Alan : {0}\".format(alan))\n",
    "print(\"Çevre : {0}\".format(cevre))"
   ]
  },
  {
   "cell_type": "code",
   "execution_count": null,
   "metadata": {
    "colab": {
     "base_uri": "https://localhost:8080/"
    },
    "id": "DUOP7emQMnnI",
    "outputId": "24af31cb-62f6-47d2-96f3-42a05db45af9"
   },
   "outputs": [
    {
     "name": "stdout",
     "output_type": "stream",
     "text": [
      "Maaşı Gir : 15000\n",
      "Zam Oranı(%) : 15\n",
      "Zamlı Maaş : 17250.0\n"
     ]
    }
   ],
   "source": [
    "#MAAŞ HESABI\n",
    "yeniMaas=0\n",
    "maas=input(\"Maaşı Gir : \")\n",
    "zam=input(\"Zam Oranı(%) : \")\n",
    "yeniMaas=int(maas)+(int(maas)*int(zam)/100)\n",
    "print(\"Zamlı Maaş :\",yeniMaas)"
   ]
  },
  {
   "cell_type": "code",
   "execution_count": null,
   "metadata": {
    "colab": {
     "base_uri": "https://localhost:8080/"
    },
    "id": "Z7zaassCNCzp",
    "outputId": "a9b3c193-8e63-4176-adf1-f7ee55766607"
   },
   "outputs": [
    {
     "name": "stdout",
     "output_type": "stream",
     "text": [
      "Genişlik :10\n",
      "Yükseklik : 20\n",
      "Alan : 200.0\n"
     ]
    }
   ],
   "source": [
    "#dikdörtgen alanı hesaplama\n",
    "gen = int(input(\"Genişlik :\"))\n",
    "yuk = int(input(\"Yükseklik : \"))\n",
    "alan = float(gen) * float(yuk)\n",
    "print(\"Alan :\", alan)"
   ]
  },
  {
   "cell_type": "code",
   "execution_count": null,
   "metadata": {
    "id": "OvcpPgDMNUal"
   },
   "outputs": [],
   "source": []
  }
 ],
 "metadata": {
  "colab": {
   "collapsed_sections": [],
   "name": "workshop.ipynb",
   "provenance": []
  },
  "kernelspec": {
   "display_name": "Python 3 (ipykernel)",
   "language": "python",
   "name": "python3"
  },
  "language_info": {
   "codemirror_mode": {
    "name": "ipython",
    "version": 3
   },
   "file_extension": ".py",
   "mimetype": "text/x-python",
   "name": "python",
   "nbconvert_exporter": "python",
   "pygments_lexer": "ipython3",
   "version": "3.9.7"
  }
 },
 "nbformat": 4,
 "nbformat_minor": 1
}
