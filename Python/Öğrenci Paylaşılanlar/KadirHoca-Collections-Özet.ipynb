{
 "cells": [
  {
   "cell_type": "code",
   "execution_count": null,
   "metadata": {
    "colab": {
     "base_uri": "https://localhost:8080/"
    },
    "id": "m-k9y1mfmtbj",
    "outputId": "0db24e0e-9f81-4f0c-d118-c2a1ebedc7f1"
   },
   "outputs": [
    {
     "name": "stdout",
     "output_type": "stream",
     "text": [
      "\n",
      "  | Collection  |     | Type    | Value       |\n",
      "  ---------------------------------------------\n",
      "  | tuple()     | ()  | Dizi    | Değişemez   |   \n",
      "  | list()      | []  | Dizi    | Değişebilir |\n",
      "  | set()       | {}  | Sözlük  | Değişemez   |\n",
      "  | dict()      | {}  | Sözlük  | Değişebilir |\n",
      "\n",
      "<class 'tuple'> ('one', 'two', 'three')\n",
      "<class 'list'> ['one', 'two', 'three']\n",
      "<class 'set'> {'one', 'two', 'three'}\n",
      "<class 'dict'> {'one': 1, 'two': 2, 'three': 3}\n",
      "\n",
      "----------------\n",
      "\n",
      "tuple:\n",
      "Built-in immutable sequence.\n",
      "\n",
      "If no argument is given, the constructor returns an empty tuple.\n",
      "If iterable is specified the tuple is initialized from iterable's items.\n",
      "\n",
      "If the argument is a tuple, the return value is the same object.\n",
      "\n",
      "----------------\n",
      "\n",
      "list:\n",
      "Built-in mutable sequence.\n",
      "\n",
      "If no argument is given, the constructor creates a new empty list.\n",
      "The argument must be an iterable if specified.\n",
      "\n",
      "----------------\n",
      "\n",
      "set:\n",
      "set() -> new empty set object\n",
      "set(iterable) -> new set object\n",
      "\n",
      "Build an unordered collection of unique elements.\n",
      "\n",
      "----------------\n",
      "\n",
      "dict:\n",
      "dict() -> new empty dictionary\n",
      "dict(mapping) -> new dictionary initialized from a mapping object's\n",
      "    (key, value) pairs\n",
      "dict(iterable) -> new dictionary initialized as if via:\n",
      "    d = {}\n",
      "    for k, v in iterable:\n",
      "        d[k] = v\n",
      "dict(**kwargs) -> new dictionary initialized with the name=value pairs\n",
      "    in the keyword argument list.  For example:  dict(one=1, two=2)\n",
      "\n",
      "----------------\n"
     ]
    }
   ],
   "source": [
    "# Koleksiyonlar:\n",
    "print('''\n",
    "  | Collection  |     | Type    | Value       |\n",
    "  ---------------------------------------------\n",
    "  | tuple()     | ()  | Dizi    | Değişemez   |   \n",
    "  | list()      | []  | Dizi    | Değişebilir |\n",
    "  | set()       | {}  | Sözlük  | Değişemez   |\n",
    "  | dict()      | {}  | Sözlük  | Değişebilir |\n",
    "''')\n",
    "\n",
    "# Örnek Kullanımlar:\n",
    "data = {\"one\":1, \"two\":2, \"three\":3}\n",
    "# tuple:\n",
    "var_tuple = tuple(data)\n",
    "print(type(var_tuple), var_tuple)\n",
    "# list:\n",
    "var_list = list(data)\n",
    "print(type(var_list), var_list)\n",
    "# set:\n",
    "var_set = set(data)\n",
    "print(type(var_set), var_set)\n",
    "# dict:\n",
    "var_dict = dict(data)\n",
    "print(type(var_dict), var_dict)\n",
    "\n",
    "# Python Döküman:\n",
    "print('\\n----------------')\n",
    "print('\\ntuple:\\n' + tuple.__doc__)\n",
    "print('\\n----------------')\n",
    "print('\\nlist:\\n' + list.__doc__)\n",
    "print('\\n----------------')\n",
    "print('\\nset:\\n' + set.__doc__)\n",
    "print('\\n----------------')\n",
    "print('\\ndict:\\n' + dict.__doc__)\n",
    "print('\\n----------------')"
   ]
  },
  {
   "cell_type": "code",
   "execution_count": null,
   "metadata": {
    "colab": {
     "base_uri": "https://localhost:8080/"
    },
    "id": "jrFerOWus81Y",
    "outputId": "8261bc35-846a-4145-ed4a-fdceb4b15ca6"
   },
   "outputs": [
    {
     "name": "stdout",
     "output_type": "stream",
     "text": [
      "<class 'tuple'> (0, True, 'Two', ['Three'])\n",
      "Two\n",
      "0\n",
      "True\n",
      "Two\n",
      "['Three']\n",
      "-> count\n",
      "-> index\n"
     ]
    }
   ],
   "source": [
    "# tuple():\n",
    "\n",
    "data = (0, True, \"Two\", [\"Three\"]) # Farklı veri türleri kullanılabilir. Key kullanılamaz, otomatik indexlidir.\n",
    "\n",
    "var_tuple = tuple(data) # Dönüştür\n",
    "print(type(var_tuple), var_tuple)\n",
    "\n",
    "# indexteki veri çağrılabilir:\n",
    "print(var_tuple[2]) \n",
    "\n",
    "# Eleman -> Eklenemez, Silinemez, Değiştirilemez:\n",
    "# var_tuple.insert(\"Four\"); print(type(var_list), var_list)\n",
    "# var_tuple.append(\"Four\"); print(type(var_list), var_list)\n",
    "# var_tuple.remove(\"Four\"); print(type(var_list), var_list)\n",
    "# var_tuple[1] = \"Four\"; print(type(var_list), var_list)\n",
    "\n",
    "# Döngü:\n",
    "for val in var_tuple:\n",
    "  print(val)\n",
    "\n",
    "# Metodlar:\n",
    "# help('tuple')\n",
    "for mtd in dir(tuple):\n",
    "  if (mtd.find('__')<0): print('->', mtd)"
   ]
  },
  {
   "cell_type": "code",
   "execution_count": null,
   "metadata": {
    "colab": {
     "base_uri": "https://localhost:8080/"
    },
    "id": "_IGnXaExwIrL",
    "outputId": "7facdbda-b4fa-4659-ec60-273c639e4f61"
   },
   "outputs": [
    {
     "name": "stdout",
     "output_type": "stream",
     "text": [
      "<class 'list'> [0, True, 'Two', ['Three']]\n",
      "Two\n",
      "<class 'list'> [0, True, 'Two', ['Three'], 'Four']\n",
      "<class 'list'> [0, True, 'Two', ['Three']]\n",
      "<class 'list'> [0, 'Four', 'Two', ['Three']]\n",
      "0\n",
      "Four\n",
      "Two\n",
      "['Three']\n",
      "-> append\n",
      "-> clear\n",
      "-> copy\n",
      "-> count\n",
      "-> extend\n",
      "-> index\n",
      "-> insert\n",
      "-> pop\n",
      "-> remove\n",
      "-> reverse\n",
      "-> sort\n"
     ]
    }
   ],
   "source": [
    "# list():\n",
    "\n",
    "data = (0, True, \"Two\", [\"Three\"]) # Farklı veri türleri kullanılabilir. Key kullanılamaz, otomatik indexlidir.\n",
    "\n",
    "var_list = list(data) # Dönüştür\n",
    "print(type(var_list), var_list)\n",
    "\n",
    "# indexteki veri çağrılabilir:\n",
    "print(var_list[2]) \n",
    "\n",
    "# Eleman -> Eklenebilir:\n",
    "var_list.append(\"Four\"); print(type(var_list), var_list)\n",
    "# Eleman -> Silinebilir:\n",
    "var_list.remove(\"Four\"); print(type(var_list), var_list)\n",
    "# Eleman -> Değiştirilebilir:\n",
    "var_list[1] = \"Four\"; print(type(var_list), var_list)\n",
    "\n",
    "# Döngü:\n",
    "for val in var_list:\n",
    "  print(val)\n",
    "\n",
    "# Metodlar:\n",
    "# help('list')\n",
    "for mtd in dir(list):\n",
    "  if (mtd.find('__')<0): print('->', mtd)"
   ]
  },
  {
   "cell_type": "code",
   "execution_count": null,
   "metadata": {
    "colab": {
     "base_uri": "https://localhost:8080/"
    },
    "id": "n91WTz9Iwzrc",
    "outputId": "40fce33f-fc4c-42ed-c31e-c798509e1b31"
   },
   "outputs": [
    {
     "name": "stdout",
     "output_type": "stream",
     "text": [
      "<class 'set'> {0, True, 'Two'}\n",
      "<class 'set'> {0, True, 'Two', 4}\n",
      "<class 'set'> {0, True, 'Two'}\n",
      "0\n",
      "True\n",
      "Two\n",
      "-> add\n",
      "-> clear\n",
      "-> copy\n",
      "-> difference\n",
      "-> difference_update\n",
      "-> discard\n",
      "-> intersection\n",
      "-> intersection_update\n",
      "-> isdisjoint\n",
      "-> issubset\n",
      "-> issuperset\n",
      "-> pop\n",
      "-> remove\n",
      "-> symmetric_difference\n",
      "-> symmetric_difference_update\n",
      "-> union\n",
      "-> update\n"
     ]
    }
   ],
   "source": [
    "# set():\n",
    "\n",
    "# Süslü parantez ile:\n",
    "data = {0, True, \"Two\"} # (Koleksiyonlar hariç) Farklı veri türleri kullanılabilir. Key kullanılabilir.\n",
    "\n",
    "var_set = set(data) # Dönüştür\n",
    "print(type(var_set), var_set)\n",
    "\n",
    "# keydeki value çağrılamıyor:\n",
    "# print(var_set[1]) \n",
    "\n",
    "# Eleman -> Eklenebilir:\n",
    "var_set.add(4); print(type(var_set), var_set)\n",
    "# Eleman -> Silinebilir:\n",
    "var_set.remove(4); print(type(var_set), var_set)\n",
    "# Eleman -> Değiştirilemez:\n",
    "# var_set[1] = 4; print(type(var_set), var_set)\n",
    "\n",
    "# Döngü:\n",
    "for val in var_set:\n",
    "  print(val)\n",
    "\n",
    "# Metodlar:\n",
    "# help('set')\n",
    "for mtd in dir(set):\n",
    "  if (mtd.find('__')<0): print('->', mtd)"
   ]
  },
  {
   "cell_type": "code",
   "execution_count": null,
   "metadata": {
    "colab": {
     "base_uri": "https://localhost:8080/"
    },
    "id": "b7umGej-y60i",
    "outputId": "d523c653-f657-4590-f33e-7b86662f613d"
   },
   "outputs": [
    {
     "name": "stdout",
     "output_type": "stream",
     "text": [
      "<class 'dict'> {0: 0, 1: True, 2: 'Two', 3: ['Three']}\n",
      "True\n",
      "<class 'dict'> {0: 0, 1: True, 2: 'Two', 3: ['Three'], 4: 'Four'}\n",
      "<class 'dict'> {0: 0, 1: True, 2: 'Two', 3: ['Three']}\n",
      "<class 'dict'> {0: 0, 1: 'Four', 2: 'Two', 3: ['Three']}\n",
      "0\n",
      "1\n",
      "2\n",
      "3\n",
      "-> clear\n",
      "-> copy\n",
      "-> fromkeys\n",
      "-> get\n",
      "-> items\n",
      "-> keys\n",
      "-> pop\n",
      "-> popitem\n",
      "-> setdefault\n",
      "-> update\n",
      "-> values\n"
     ]
    }
   ],
   "source": [
    "# dict():\n",
    "\n",
    "# Süslü parantez ile:\n",
    "data = {0: 0, 1: True, 2: \"Two\", 3: [\"Three\"]} # Farklı veri türleri kullanılabilir. Key kullanılmalıdır.\n",
    "\n",
    "var_dict = dict(data) # Dönüştür\n",
    "print(type(var_dict), var_dict)\n",
    "\n",
    "# keydeki value çağrılabilir:\n",
    "print(var_dict[1]) \n",
    "\n",
    "# Eleman -> Eklenebilir:\n",
    "var_dict[4] = \"Four\"; print(type(var_dict), var_dict)\n",
    "# Eleman -> Silinebilir:\n",
    "del var_dict[4]; print(type(var_dict), var_dict)\n",
    "# Eleman -> Değiştirilebilir:\n",
    "var_dict[1] = \"Four\"; print(type(var_dict), var_dict)\n",
    "\n",
    "# Döngü:\n",
    "for val in var_dict:\n",
    "  print(val)\n",
    "\n",
    "# Metodlar:\n",
    "# help('dict')\n",
    "for mtd in dir(dict):\n",
    "  if (mtd.find('__')<0): print('->', mtd)"
   ]
  },
  {
   "attachments": {
    "image.png": {
     "image/png": "[encoded data removed]"
    }
   },
   "cell_type": "markdown",
   "metadata": {},
   "source": [
    "![image.png](attachment:image.png)"
   ]
  },
  {
   "cell_type": "code",
   "execution_count": 1,
   "metadata": {},
   "outputs": [
    {
     "name": "stdout",
     "output_type": "stream",
     "text": [
      "0 zero\n",
      "1 one\n",
      "2 two\n",
      "3 three\n",
      "0 zero\n",
      "1 one\n",
      "2 two\n",
      "3 three\n",
      "0 zero\n",
      "1 one\n",
      "2 two\n",
      "3 three\n"
     ]
    }
   ],
   "source": [
    "# Dictionary:\n",
    "var_dict = dict()\n",
    "var_dict = {0:\"zero\", 1:\"one\", 2:\"two\", 3:\"three\"}\n",
    "\n",
    "# Örnek: Dict'i döngüye atmak ve hem key hem de value kullanmak istiyorum:\n",
    "# UnOrderedDict kullanımı:\n",
    "for key in var_dict.keys():\n",
    "  print(key, var_dict[key])\n",
    "# OrderedDict kullanımı:\n",
    "for key, value in var_dict.items():\n",
    "  print(key, value)\n",
    "\n",
    "# OrderedDict kavramı daha önce dictionary kütüphanesi çağrılarak kullanılıyormuş.\n",
    "# v3.7 itibaren built-in olmuş, import etmeye gerek kalmamış :)\n",
    "# Örnek:\n",
    "from collections import OrderedDict\n",
    "var_dict = OrderedDict()\n",
    "var_dict = {0:\"zero\", 1:\"one\", 2:\"two\", 3:\"three\"}\n",
    "for key, value in var_dict.items():\n",
    "  print(key, value)"
   ]
  }
 ],
 "metadata": {
  "colab": {
   "collapsed_sections": [],
   "name": "Collections.ipynb",
   "provenance": []
  },
  "kernelspec": {
   "display_name": "Python 3 (ipykernel)",
   "language": "python",
   "name": "python3"
  },
  "language_info": {
   "codemirror_mode": {
    "name": "ipython",
    "version": 3
   },
   "file_extension": ".py",
   "mimetype": "text/x-python",
   "name": "python",
   "nbconvert_exporter": "python",
   "pygments_lexer": "ipython3",
   "version": "3.9.7"
  }
 },
 "nbformat": 4,
 "nbformat_minor": 1
}
