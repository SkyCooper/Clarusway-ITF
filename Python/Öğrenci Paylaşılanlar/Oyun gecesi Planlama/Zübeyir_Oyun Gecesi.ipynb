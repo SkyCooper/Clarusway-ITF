{
 "cells": [
  {
   "cell_type": "code",
   "execution_count": 589,
   "metadata": {},
   "outputs": [],
   "source": [
    "gamers = []"
   ]
  },
  {
   "cell_type": "code",
   "execution_count": 590,
   "metadata": {},
   "outputs": [],
   "source": [
    "def add_gamer(gamer, gamers_list):\n",
    "    if all(gamer.values()) :\n",
    "        gamers_list.append(gamer)\n",
    "    else:\n",
    "        return print(\"Gamer Not Valid\")"
   ]
  },
  {
   "cell_type": "code",
   "execution_count": 591,
   "metadata": {},
   "outputs": [],
   "source": [
    "kimberly = {'name': 'Kimberly Kim', 'availability': ['Thursday', 'Friday', 'Sunday']}\n",
    "add_gamer(kimberly,gamers)\n",
    "add_gamer({'name':'Thomas Nelson','availability': [\"Tuesday\", \"Thursday\", \"Saturday\"]}, gamers)\n",
    "add_gamer({'name':'Joyce Sellers','availability': [\"Monday\", \"Wednesday\", \"Friday\", \"Saturday\"]}, gamers)\n",
    "add_gamer({'name':'Michelle Reyes','availability': [\"Wednesday\", \"Thursday\", \"Sunday\"]}, gamers)\n",
    "add_gamer({'name':'Stephen Adams','availability': [\"Thursday\", \"Saturday\"]}, gamers)\n",
    "add_gamer({'name':'Joanne Lynn', 'availability': [\"Monday\", \"Thursday\"]}, gamers)\n",
    "add_gamer({'name':'Latasha Bryan','availability': [\"Monday\", \"Sunday\"]}, gamers)\n",
    "add_gamer({'name':'Crystal Brewer','availability': [\"Thursday\", \"Friday\", \"Saturday\"]}, gamers)\n",
    "add_gamer({'name':'James Barnes Jr.','availability': [\"Tuesday\", \"Wednesday\", \"Thursday\", \"Sunday\"]}, gamers)\n",
    "add_gamer({'name':'Michel Trujillo','availability': [\"Monday\", \"Tuesday\", \"Wednesday\"]}, gamers)"
   ]
  },
  {
   "cell_type": "code",
   "execution_count": 656,
   "metadata": {},
   "outputs": [],
   "source": [
    "def build_daily_frequency_table():\n",
    "    dates= {\"Monday\", \"Tuesday\", \"Wednesday\", \"Thursday\", \"Friday\", \"Saturday\", \"Sunday\"}\n",
    "    x = dict.fromkeys(dates, 0)\n",
    "    return x\n",
    "\n",
    "count_availability = build_daily_frequency_table()"
   ]
  },
  {
   "cell_type": "code",
   "execution_count": 631,
   "metadata": {},
   "outputs": [
    {
     "data": {
      "text/plain": [
       "{'Thursday': 0,\n",
       " 'Wednesday': 0,\n",
       " 'Saturday': 0,\n",
       " 'Tuesday': 0,\n",
       " 'Friday': 0,\n",
       " 'Sunday': 0,\n",
       " 'Monday': 0}"
      ]
     },
     "execution_count": 631,
     "metadata": {},
     "output_type": "execute_result"
    }
   ],
   "source": [
    "count_availability"
   ]
  },
  {
   "cell_type": "code",
   "execution_count": 632,
   "metadata": {},
   "outputs": [],
   "source": [
    "def calculate_availability(gamers_list, available_frequency):\n",
    "    for i in gamers_list:\n",
    "        # print(i)\n",
    "        for ii in i['availability']:\n",
    "            # print(i['availability'])\n",
    "            available_frequency[ii] += 1"
   ]
  },
  {
   "cell_type": "code",
   "execution_count": 633,
   "metadata": {},
   "outputs": [
    {
     "name": "stdout",
     "output_type": "stream",
     "text": [
      "{'Thursday': 7, 'Wednesday': 4, 'Saturday': 4, 'Tuesday': 3, 'Friday': 3, 'Sunday': 4, 'Monday': 4}\n"
     ]
    }
   ],
   "source": [
    "calculate_availability(gamers,count_availability)\n",
    "print(count_availability)\n"
   ]
  },
  {
   "cell_type": "code",
   "execution_count": 634,
   "metadata": {},
   "outputs": [],
   "source": [
    "def find_best_night(x):\n",
    "   \n",
    "    for k,v in x.items():\n",
    "        if x.setdefault(k) == max(x.values()):\n",
    "            bestnight = k \n",
    "        else:\n",
    "            continue\n",
    "    return bestnight\n"
   ]
  },
  {
   "cell_type": "code",
   "execution_count": 635,
   "metadata": {},
   "outputs": [
    {
     "name": "stdout",
     "output_type": "stream",
     "text": [
      "Thursday\n"
     ]
    }
   ],
   "source": [
    "game_night = find_best_night(count_availability)\n",
    "print(game_night)"
   ]
  },
  {
   "cell_type": "code",
   "execution_count": 646,
   "metadata": {},
   "outputs": [],
   "source": [
    "def available_on_night(gamers_list, day) :\n",
    "    boş = []\n",
    "    for i in gamers_list:\n",
    "        if day in i['availability']:\n",
    "            boş.append(i['name'])\n",
    "    return boş\n"
   ]
  },
  {
   "cell_type": "code",
   "execution_count": 647,
   "metadata": {},
   "outputs": [
    {
     "name": "stdout",
     "output_type": "stream",
     "text": [
      "['Kimberly Kim', 'Thomas Nelson', 'Michelle Reyes', 'Stephen Adams', 'Joanne Lynn', 'Crystal Brewer', 'James Barnes Jr.']\n"
     ]
    }
   ],
   "source": [
    "attending_game_night = available_on_night(gamers,game_night)\n",
    "print(attending_game_night)"
   ]
  },
  {
   "cell_type": "code",
   "execution_count": 680,
   "metadata": {},
   "outputs": [],
   "source": [
    "form_email = \"\"\"\n",
    "Dear {name},\n",
    "We would like to see You among us in our play {game} on {day_of_week}. \n",
    "We have a special place for You. We are definitely waiting for You. \n",
    "Best Regards\n",
    "The Sorcery Society\n",
    "\"\"\""
   ]
  },
  {
   "cell_type": "code",
   "execution_count": 681,
   "metadata": {},
   "outputs": [
    {
     "name": "stdout",
     "output_type": "stream",
     "text": [
      "\n",
      "Dear Kimberly Kim,\n",
      "We would like to see You among us in our play Abruptly Goblins! on Thursday. \n",
      "We have a special place for You. We are definitely waiting for You. \n",
      "Best Regards\n",
      "The Sorcery Society\n",
      "\n",
      "\n",
      "Dear Thomas Nelson,\n",
      "We would like to see You among us in our play Abruptly Goblins! on Thursday. \n",
      "We have a special place for You. We are definitely waiting for You. \n",
      "Best Regards\n",
      "The Sorcery Society\n",
      "\n",
      "\n",
      "Dear Michelle Reyes,\n",
      "We would like to see You among us in our play Abruptly Goblins! on Thursday. \n",
      "We have a special place for You. We are definitely waiting for You. \n",
      "Best Regards\n",
      "The Sorcery Society\n",
      "\n",
      "\n",
      "Dear Stephen Adams,\n",
      "We would like to see You among us in our play Abruptly Goblins! on Thursday. \n",
      "We have a special place for You. We are definitely waiting for You. \n",
      "Best Regards\n",
      "The Sorcery Society\n",
      "\n",
      "\n",
      "Dear Joanne Lynn,\n",
      "We would like to see You among us in our play Abruptly Goblins! on Thursday. \n",
      "We have a special place for You. We are definitely waiting for You. \n",
      "Best Regards\n",
      "The Sorcery Society\n",
      "\n",
      "\n",
      "Dear Crystal Brewer,\n",
      "We would like to see You among us in our play Abruptly Goblins! on Thursday. \n",
      "We have a special place for You. We are definitely waiting for You. \n",
      "Best Regards\n",
      "The Sorcery Society\n",
      "\n",
      "\n",
      "Dear James Barnes Jr.,\n",
      "We would like to see You among us in our play Abruptly Goblins! on Thursday. \n",
      "We have a special place for You. We are definitely waiting for You. \n",
      "Best Regards\n",
      "The Sorcery Society\n",
      "\n"
     ]
    }
   ],
   "source": [
    "def send_email(gamers_who_can_attend, day, game):\n",
    "    for i in gamers_who_can_attend:\n",
    "        print(form_email.format(name = i, day_of_week = day, game = game))\n",
    "\n",
    "send_email(attending_game_night, game_night, 'Abruptly Goblins!')\n"
   ]
  },
  {
   "cell_type": "code",
   "execution_count": 665,
   "metadata": {},
   "outputs": [
    {
     "data": {
      "text/plain": [
       "[{'name': 'Joyce Sellers',\n",
       "  'availability': ['Monday', 'Wednesday', 'Friday', 'Saturday']},\n",
       " {'name': 'Latasha Bryan', 'availability': ['Monday', 'Sunday']},\n",
       " {'name': 'Michel Trujillo',\n",
       "  'availability': ['Monday', 'Tuesday', 'Wednesday']}]"
      ]
     },
     "execution_count": 665,
     "metadata": {},
     "output_type": "execute_result"
    }
   ],
   "source": [
    "unable_to_attend_best_night = [i for i in gamers if game_night not in i['availability']]\n",
    "unable_to_attend_best_night"
   ]
  },
  {
   "cell_type": "code",
   "execution_count": 666,
   "metadata": {},
   "outputs": [],
   "source": [
    "def build_daily_frequency_table():\n",
    "    dates= {\"Monday\", \"Tuesday\", \"Wednesday\", \"Thursday\", \"Friday\", \"Saturday\", \"Sunday\"}\n",
    "    x = dict.fromkeys(dates, 0)\n",
    "    return x\n",
    "\n",
    "second_night_availability = build_daily_frequency_table()"
   ]
  },
  {
   "cell_type": "code",
   "execution_count": 667,
   "metadata": {},
   "outputs": [],
   "source": [
    "def calculate_availability(gamers_list, available_frequency):\n",
    "    for i in gamers_list:\n",
    "        # print(i)\n",
    "        for ii in i['availability']:\n",
    "            # print(i['availability'])\n",
    "            available_frequency[ii] += 1"
   ]
  },
  {
   "cell_type": "code",
   "execution_count": 668,
   "metadata": {},
   "outputs": [
    {
     "name": "stdout",
     "output_type": "stream",
     "text": [
      "{'Thursday': 0, 'Wednesday': 2, 'Saturday': 1, 'Tuesday': 1, 'Friday': 1, 'Sunday': 1, 'Monday': 3}\n"
     ]
    }
   ],
   "source": [
    "calculate_availability(unable_to_attend_best_night,second_night_availability)\n",
    "print(second_night_availability)"
   ]
  },
  {
   "cell_type": "code",
   "execution_count": 669,
   "metadata": {},
   "outputs": [
    {
     "name": "stdout",
     "output_type": "stream",
     "text": [
      "Monday\n"
     ]
    }
   ],
   "source": [
    "second_night = find_best_night(second_night_availability)\n",
    "print(second_night)"
   ]
  },
  {
   "cell_type": "code",
   "execution_count": 670,
   "metadata": {},
   "outputs": [
    {
     "name": "stdout",
     "output_type": "stream",
     "text": [
      "['Joyce Sellers', 'Latasha Bryan', 'Michel Trujillo']\n"
     ]
    }
   ],
   "source": [
    "available_second_game_night = available_on_night(unable_to_attend_best_night,second_night)\n",
    "print(available_second_game_night)"
   ]
  },
  {
   "cell_type": "code",
   "execution_count": 682,
   "metadata": {},
   "outputs": [
    {
     "name": "stdout",
     "output_type": "stream",
     "text": [
      "\n",
      "Dear Joyce Sellers,\n",
      "We would like to see You among us in our play Abruptly Goblins! on Monday. \n",
      "We have a special place for You. We are definitely waiting for You. \n",
      "Best Regards\n",
      "The Sorcery Society\n",
      "\n",
      "\n",
      "Dear Latasha Bryan,\n",
      "We would like to see You among us in our play Abruptly Goblins! on Monday. \n",
      "We have a special place for You. We are definitely waiting for You. \n",
      "Best Regards\n",
      "The Sorcery Society\n",
      "\n",
      "\n",
      "Dear Michel Trujillo,\n",
      "We would like to see You among us in our play Abruptly Goblins! on Monday. \n",
      "We have a special place for You. We are definitely waiting for You. \n",
      "Best Regards\n",
      "The Sorcery Society\n",
      "\n"
     ]
    }
   ],
   "source": [
    "send_email(available_second_game_night, second_night, 'Abruptly Goblins!')"
   ]
  },
  {
   "cell_type": "code",
   "execution_count": null,
   "metadata": {},
   "outputs": [],
   "source": []
  },
  {
   "cell_type": "code",
   "execution_count": null,
   "metadata": {},
   "outputs": [],
   "source": []
  }
 ],
 "metadata": {
  "interpreter": {
   "hash": "213524bb45a1aeaf737b1d8c77d7b8db5d425938d9dffc5f4bc6fe6dd3324700"
  },
  "kernelspec": {
   "display_name": "Python 3 (ipykernel)",
   "language": "python",
   "name": "python3"
  },
  "language_info": {
   "codemirror_mode": {
    "name": "ipython",
    "version": 3
   },
   "file_extension": ".py",
   "mimetype": "text/x-python",
   "name": "python",
   "nbconvert_exporter": "python",
   "pygments_lexer": "ipython3",
   "version": "3.9.7"
  }
 },
 "nbformat": 4,
 "nbformat_minor": 2
}
