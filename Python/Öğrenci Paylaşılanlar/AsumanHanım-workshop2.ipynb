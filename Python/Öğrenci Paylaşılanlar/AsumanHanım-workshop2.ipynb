{
 "cells": [
  {
   "cell_type": "markdown",
   "id": "3eac4b36",
   "metadata": {},
   "source": [
    "# COLLETİON TYPES\n",
    "1) LİST\n",
    "2) TUPLE\n",
    "3) DİCT\n",
    "4) SET"
   ]
  },
  {
   "cell_type": "markdown",
   "id": "39ba83ba",
   "metadata": {},
   "source": [
    "# 1) LİST:\n",
    "\n",
    "* listelerin stringlerden en önemli farkı listeler mutable dır yani yerinde değişebilir ve elemanlarına ayrılabilir.\n",
    "\n",
    "#empty list (2 Şekilde oluşturulur)\n",
    "liste = []\n",
    "liste2 = list()\n",
    "\n",
    "*"
   ]
  },
  {
   "cell_type": "markdown",
   "id": "f6c94fd3",
   "metadata": {},
   "source": [
    "#Çok elemanlı (multi) ve tek elemanlı(single) liste oluşturmaya bakalım."
   ]
  },
  {
   "cell_type": "code",
   "execution_count": 3,
   "id": "687b966f",
   "metadata": {
    "scrolled": false
   },
   "outputs": [
    {
     "name": "stdout",
     "output_type": "stream",
     "text": [
      "['H', 'e', 'l', 'l', 'o']\n",
      "['Hello']\n"
     ]
    }
   ],
   "source": [
    "new_list = list('Hello') # bu şekilde teker teker elemanlarına ayrılacağını\n",
    "new_list_2 = ['Hello'] # bu şekilde ise içinde tek bir eleman old. UNUTMAYALIM.\n",
    "print(new_list)\n",
    "print(new_list_2)"
   ]
  },
  {
   "cell_type": "markdown",
   "id": "4cc7d493",
   "metadata": {},
   "source": [
    "***type and len "
   ]
  },
  {
   "cell_type": "code",
   "execution_count": 6,
   "id": "09714948",
   "metadata": {},
   "outputs": [
    {
     "name": "stdout",
     "output_type": "stream",
     "text": [
      "5\n",
      "1\n",
      "<class 'list'>\n",
      "<class 'list'>\n"
     ]
    }
   ],
   "source": [
    "print(len(new_list))\n",
    "print(len(new_list_2))\n",
    "print(type(new_list))\n",
    "print(type(new_list_2))"
   ]
  },
  {
   "cell_type": "markdown",
   "id": "bdd11e28",
   "metadata": {},
   "source": [
    "**sırasıyla;\n",
    "bir liste yapalım\n",
    "liste index\n",
    "liste slicing \n",
    "liste son eleman\n",
    "liste son eleman 2. yöntem\n",
    "liste elemanı değiştirme ye bakalım."
   ]
  },
  {
   "cell_type": "code",
   "execution_count": 11,
   "id": "6f79c73c",
   "metadata": {},
   "outputs": [],
   "source": [
    "liste = [1, 2, 3, 4, 5, 7, 8, 9, 10] #listemiz\n",
    "liste[2] #2.indeksine bakalım\n",
    "liste[2:5]\n",
    "liste[-1] #sondaki elemana bakalım\n",
    "liste[len(liste)-1]  #sondaki elemana ulaşma 2.metod (listenin eleman sayısından bir çıkar)\n",
    "liste[5] = 25"
   ]
  },
  {
   "cell_type": "code",
   "execution_count": 16,
   "id": "766c8ae8",
   "metadata": {},
   "outputs": [
    {
     "name": "stdout",
     "output_type": "stream",
     "text": [
      "[1, 2, 3, 4, 5, 25, 8, 9, 10]\n"
     ]
    },
    {
     "data": {
      "text/plain": [
       "3"
      ]
     },
     "execution_count": 16,
     "metadata": {},
     "output_type": "execute_result"
    }
   ],
   "source": [
    "print(liste)\n",
    "liste[2]"
   ]
  },
  {
   "cell_type": "code",
   "execution_count": 19,
   "id": "a809c06c",
   "metadata": {},
   "outputs": [
    {
     "data": {
      "text/plain": [
       "[3, 4, 5]"
      ]
     },
     "execution_count": 19,
     "metadata": {},
     "output_type": "execute_result"
    }
   ],
   "source": [
    "liste[2:5]"
   ]
  },
  {
   "cell_type": "code",
   "execution_count": 20,
   "id": "aa9fc33d",
   "metadata": {},
   "outputs": [
    {
     "data": {
      "text/plain": [
       "10"
      ]
     },
     "execution_count": 20,
     "metadata": {},
     "output_type": "execute_result"
    }
   ],
   "source": [
    "liste[-1]"
   ]
  },
  {
   "cell_type": "code",
   "execution_count": 21,
   "id": "ed2888a4",
   "metadata": {},
   "outputs": [
    {
     "data": {
      "text/plain": [
       "10"
      ]
     },
     "execution_count": 21,
     "metadata": {},
     "output_type": "execute_result"
    }
   ],
   "source": [
    "liste[len(liste)-1] "
   ]
  },
  {
   "cell_type": "code",
   "execution_count": 22,
   "id": "651c6807",
   "metadata": {},
   "outputs": [
    {
     "name": "stdout",
     "output_type": "stream",
     "text": [
      "[1, 2, 3, 4, 5, 25, 8, 9, 10]\n"
     ]
    }
   ],
   "source": [
    "liste[5]=25\n",
    "print(liste) #artık yeni listemiz değişti DİKKAT!"
   ]
  },
  {
   "cell_type": "markdown",
   "id": "a8016589",
   "metadata": {},
   "source": [
    "***LİST SLİCİNG biraz daha yakından bakalım."
   ]
  },
  {
   "cell_type": "code",
   "execution_count": 25,
   "id": "ee5882cf",
   "metadata": {},
   "outputs": [
    {
     "name": "stdout",
     "output_type": "stream",
     "text": [
      "[1, 2, 'hello', True, 3.14, ['a', 'b', 3], (25, 45), {'one': 1, 'two': 2}, None]\n"
     ]
    }
   ],
   "source": [
    "#içinde her şeyin old. bir liste yazalım.\n",
    "work_list = [1, 2, \"hello\", True, 3.14, [\"a\", \"b\", 3], (25, 45), {'one':1, 'two':2}, None]\n",
    "print(work_list)"
   ]
  },
  {
   "cell_type": "code",
   "execution_count": 27,
   "id": "59492784",
   "metadata": {},
   "outputs": [
    {
     "data": {
      "text/plain": [
       "[3.14, ['a', 'b', 3], (25, 45), {'one': 1, 'two': 2}, None]"
      ]
     },
     "execution_count": 27,
     "metadata": {},
     "output_type": "execute_result"
    }
   ],
   "source": [
    "work_list[4:]"
   ]
  },
  {
   "cell_type": "code",
   "execution_count": 28,
   "id": "9220e612",
   "metadata": {},
   "outputs": [
    {
     "data": {
      "text/plain": [
       "[1, 2, 'hello', True, 3.14]"
      ]
     },
     "execution_count": 28,
     "metadata": {},
     "output_type": "execute_result"
    }
   ],
   "source": [
    "work_list[:5]"
   ]
  },
  {
   "cell_type": "code",
   "execution_count": 29,
   "id": "d47b7082",
   "metadata": {},
   "outputs": [
    {
     "data": {
      "text/plain": [
       "[1, 'hello', 3.14, (25, 45), None]"
      ]
     },
     "execution_count": 29,
     "metadata": {},
     "output_type": "execute_result"
    }
   ],
   "source": [
    "work_list[::2] #baştan başla, sona kadar git, 2 şer adım atla."
   ]
  },
  {
   "cell_type": "code",
   "execution_count": 30,
   "id": "4406418c",
   "metadata": {},
   "outputs": [
    {
     "data": {
      "text/plain": [
       "[None,\n",
       " {'one': 1, 'two': 2},\n",
       " (25, 45),\n",
       " ['a', 'b', 3],\n",
       " 3.14,\n",
       " True,\n",
       " 'hello',\n",
       " 2,\n",
       " 1]"
      ]
     },
     "execution_count": 30,
     "metadata": {},
     "output_type": "execute_result"
    }
   ],
   "source": [
    "work_list[::-1] #listeyi tersten döndürelim."
   ]
  },
  {
   "cell_type": "markdown",
   "id": "5d82430c",
   "metadata": {},
   "source": [
    "***şimdi listeler üzerinde aritmetik işlemler yapalım tıpkı string lerde old. gibi. \n",
    "bunu yapmadan önce üç adet liste belirleyelim."
   ]
  },
  {
   "cell_type": "code",
   "execution_count": 32,
   "id": "5c22498b",
   "metadata": {},
   "outputs": [
    {
     "name": "stdout",
     "output_type": "stream",
     "text": [
      "[1, 2, 3]\n",
      "['clarusway']\n",
      "[(20, 30, 40)]\n"
     ]
    }
   ],
   "source": [
    "liste1 = [1, 2, 3]\n",
    "liste2 = ['clarusway']\n",
    "liste3 = [(20, 30, 40)]\n",
    "print(liste1)\n",
    "print(liste2)\n",
    "print(liste3)"
   ]
  },
  {
   "cell_type": "code",
   "execution_count": 34,
   "id": "2d1d086b",
   "metadata": {},
   "outputs": [
    {
     "name": "stdout",
     "output_type": "stream",
     "text": [
      "[1, 2, 3, 'clarusway', (20, 30, 40)]\n"
     ]
    }
   ],
   "source": [
    "liste4 = liste1 + liste2 + liste3 # şimdi bu 3 listeyi toplayalım\n",
    "print(liste4)"
   ]
  },
  {
   "cell_type": "code",
   "execution_count": 35,
   "id": "46e61a90",
   "metadata": {},
   "outputs": [
    {
     "data": {
      "text/plain": [
       "[1, 2, 3, 1, 2, 3, 1, 2, 3]"
      ]
     },
     "execution_count": 35,
     "metadata": {},
     "output_type": "execute_result"
    }
   ],
   "source": [
    "liste1 * 3  # bir listeyi kendisi ile 3 kez çarpalım. Anlık operasyondur liste1 değişmez DİKKAT!"
   ]
  },
  {
   "cell_type": "code",
   "execution_count": 36,
   "id": "04adb629",
   "metadata": {},
   "outputs": [
    {
     "name": "stdout",
     "output_type": "stream",
     "text": [
      "[1, 2, 3]\n"
     ]
    }
   ],
   "source": [
    "print(liste1)"
   ]
  },
  {
   "cell_type": "code",
   "execution_count": 39,
   "id": "8a1c869f",
   "metadata": {},
   "outputs": [
    {
     "name": "stdout",
     "output_type": "stream",
     "text": [
      "[(20, 30, 40), (20, 30, 40), (20, 30, 40)]\n"
     ]
    }
   ],
   "source": [
    "liste3 = liste3 * 3  #artık listemiz kalıcı olarak değişti çünkü liste1*3 yeni bir değişkene atamış olduk, DİKKAT!\n",
    "print(liste3)"
   ]
  },
  {
   "cell_type": "markdown",
   "id": "05a94f34",
   "metadata": {},
   "source": [
    "hemen burada string üzerinde bir tekrar daha yapalım; strign ler aritmetik işlem yapalım, yeni değişkene atamak suretiyle string in içini değiştirilem. "
   ]
  },
  {
   "cell_type": "code",
   "execution_count": 42,
   "id": "ed5bf781",
   "metadata": {},
   "outputs": [
    {
     "data": {
      "text/plain": [
       "'claruswayclaruswayclarusway'"
      ]
     },
     "execution_count": 42,
     "metadata": {},
     "output_type": "execute_result"
    }
   ],
   "source": [
    "a = 'clarusway'\n",
    "a * 3"
   ]
  },
  {
   "cell_type": "code",
   "execution_count": 43,
   "id": "c0edeabd",
   "metadata": {},
   "outputs": [
    {
     "name": "stdout",
     "output_type": "stream",
     "text": [
      "clarusway\n"
     ]
    }
   ],
   "source": [
    "print(a)  # Anlık operasyondu değişmedi ama şimdi a yı yeni bir değişkene atayarak bu işlemi yapalım."
   ]
  },
  {
   "cell_type": "code",
   "execution_count": 44,
   "id": "bf610a3b",
   "metadata": {},
   "outputs": [
    {
     "name": "stdout",
     "output_type": "stream",
     "text": [
      "claruswayclaruswayclarusway\n"
     ]
    }
   ],
   "source": [
    "a = a * 3  # artık a string kalıcı olarak değişti bu değişkene atayarak değiştirmeyi unutmayalım.\n",
    "# bir işlemin kalıcı olmasını istiyorsak bir değişkene atayarak o aritmetik işlemi yapmalıyız.\n",
    "print(a)"
   ]
  },
  {
   "cell_type": "code",
   "execution_count": 46,
   "id": "a3db242a",
   "metadata": {},
   "outputs": [
    {
     "ename": "TypeError",
     "evalue": "'str' object does not support item assignment",
     "output_type": "error",
     "traceback": [
      "\u001b[1;31m---------------------------------------------------------------------------\u001b[0m",
      "\u001b[1;31mTypeError\u001b[0m                                 Traceback (most recent call last)",
      "Input \u001b[1;32mIn [46]\u001b[0m, in \u001b[0;36m<cell line: 1>\u001b[1;34m()\u001b[0m\n\u001b[1;32m----> 1\u001b[0m a[\u001b[38;5;241m1\u001b[39m] \u001b[38;5;241m=\u001b[39m \u001b[38;5;124m\"\u001b[39m\u001b[38;5;124me\u001b[39m\u001b[38;5;124m\"\u001b[39m\n",
      "\u001b[1;31mTypeError\u001b[0m: 'str' object does not support item assignment"
     ]
    }
   ],
   "source": [
    "a[1] = \"e\"  # string lerde direkt eleman atayamazken bunu list lerde yapabiliyoruz"
   ]
  },
  {
   "cell_type": "code",
   "execution_count": 47,
   "id": "5d32a0bd",
   "metadata": {},
   "outputs": [
    {
     "data": {
      "text/plain": [
       "[4, 15, 6]"
      ]
     },
     "execution_count": 47,
     "metadata": {},
     "output_type": "execute_result"
    }
   ],
   "source": [
    "c = [4, 5, 6] # listelerde direkt atama ile liste içerisindeki eleman değişir.\n",
    "c[1] = 15\n",
    "c"
   ]
  },
  {
   "cell_type": "code",
   "execution_count": 50,
   "id": "aea058b5",
   "metadata": {},
   "outputs": [
    {
     "data": {
      "text/plain": [
       "[10, 11, 3, 4, 5, 6, 7, 8, 9]"
      ]
     },
     "execution_count": 50,
     "metadata": {},
     "output_type": "execute_result"
    }
   ],
   "source": [
    "#birden fazla eleman yerine yeni elemanlar atayabiliriz.\n",
    "liste5 = [1, 2, 3, 4, 5, 6, 7, 8, 9] \n",
    "liste5[:2] = [10, 11]   # liste5 in 2 ye kadar olan elemanlarını yeni elemanlar ile değiştirelim.\n",
    "liste5"
   ]
  },
  {
   "cell_type": "markdown",
   "id": "0757cfd8",
   "metadata": {},
   "source": [
    "#**METHOD; Python veri tiplerinin çoğunda uygulanabilen ve değişik işlemler gerçekleştiren fonksiyonlardır.\n",
    "LİSTE fonksiyonlarından bazılarına bakalım."
   ]
  },
  {
   "cell_type": "code",
   "execution_count": 51,
   "id": "c93d7e3c",
   "metadata": {},
   "outputs": [
    {
     "data": {
      "text/plain": [
       "[1, 2, 3, 4, 5, 6, 7, 8, 9, 10, 'a']"
      ]
     },
     "execution_count": 51,
     "metadata": {},
     "output_type": "execute_result"
    }
   ],
   "source": [
    "#APPEND METODU (LİSTENİN SONUNA ELEMAN EKLER)\n",
    "liste_new1 = [1, 2, 3, 4, 5, 6, 7, 8, 9, 10]\n",
    "liste_new1.append('a')\n",
    "liste_new1"
   ]
  },
  {
   "cell_type": "code",
   "execution_count": 52,
   "id": "a1e531bb",
   "metadata": {},
   "outputs": [
    {
     "data": {
      "text/plain": [
       "[1, 2, 3, 4, 5, 6, 7, 8, 9, 10]"
      ]
     },
     "execution_count": 52,
     "metadata": {},
     "output_type": "execute_result"
    }
   ],
   "source": [
    "#POP METODU (LİSTENİN EN SONUNDAKİ ELEMANI SİLER)\n",
    "liste_new1.pop()\n",
    "liste_new1"
   ]
  },
  {
   "cell_type": "code",
   "execution_count": 53,
   "id": "6f2ff37b",
   "metadata": {},
   "outputs": [
    {
     "data": {
      "text/plain": [
       "[2, 3, 4, 5, 6, 7, 8, 9, 10]"
      ]
     },
     "execution_count": 53,
     "metadata": {},
     "output_type": "execute_result"
    }
   ],
   "source": [
    "liste_new1.pop(0) #index numarasına göre eleman silmek istersekde index numarasını yazıyoruz.\n",
    "liste_new1"
   ]
  },
  {
   "cell_type": "code",
   "execution_count": 56,
   "id": "efcbea55",
   "metadata": {},
   "outputs": [
    {
     "data": {
      "text/plain": [
       "[0, 1, 1, 2, 34, 48, 89, 120]"
      ]
     },
     "execution_count": 56,
     "metadata": {},
     "output_type": "execute_result"
    }
   ],
   "source": [
    "#SORT METODU listenin içindeki elemanları sıralamaya yarar.\n",
    "liste = [34, 2, 1, 89, 120, 48, 1, 0]\n",
    "liste.sort()\n",
    "liste"
   ]
  },
  {
   "cell_type": "code",
   "execution_count": 57,
   "id": "22c1df87",
   "metadata": {},
   "outputs": [
    {
     "data": {
      "text/plain": [
       "[120, 89, 48, 34, 2, 1, 1, 0]"
      ]
     },
     "execution_count": 57,
     "metadata": {},
     "output_type": "execute_result"
    }
   ],
   "source": [
    "#tersten sıralama yapmak için ise mevcut parametrenin değerini değiştirebiliriz (reverse = True) ile\n",
    "liste = [34, 2, 1, 89, 120, 48, 1, 0]\n",
    "liste.sort(reverse = True)\n",
    "liste"
   ]
  },
  {
   "cell_type": "code",
   "execution_count": 58,
   "id": "07c8a1a6",
   "metadata": {},
   "outputs": [
    {
     "name": "stdout",
     "output_type": "stream",
     "text": [
      "[['apple', 'banana', 'watermelon', 'orange', 'mango', 'avocado']]\n"
     ]
    }
   ],
   "source": [
    "#insert metodu ile boş listeye bir önceki listenin elemanlarını ekleyelim.\n",
    "fruits = ['apple', 'banana', 'watermelon', 'orange', 'mango', 'avocado']\n",
    "fruit_list = []  # bu yeni boş listemiz.\n",
    "fruit_list.insert(0, fruits)  # yeni boş listenin 0. indeksine önceki listenin tüm elemanlarını atalım. çift [[]] olacak DİKKAT!\n",
    "print(fruit_list)"
   ]
  },
  {
   "cell_type": "markdown",
   "id": "294abb56",
   "metadata": {},
   "source": [
    "# 2) TUPLE;\n",
    "listelere benzer fakat elemanları değiştirilemezdir. çok hızlıdır. () kullanılır, değişmesini istemediğiniz önemli veriler için kullanırız. remove ve append gibi yöntemler kesinlikle kullanılmaz çünkü değişlik olmasını istemediğimiz şeyleri tuple ile yazarız.\n",
    "indexlenebilir, içinde birden fazla veri tipi bulunduralabilir, immutable dır yani değiştirilmez.\n",
    "TUPLE LARDA SADECE 2 METHOD yani 2 fonksiyon VARDIR. DEĞİŞTİRİLEMEZ OLDUĞU İÇİN FAZLA METODU YOKTUR.\n",
    "COUNT FONKSİYONU = SAYDIRMA, SAYAÇ, Verilen sayınını demet içindeki tekrar sayısına bakıyor.\n",
    "iNDEX FONKSİYONU = biz index fnk. içine herhangi bir değeri girince bu elemanın hangi index olduğunu veriyor.\n",
    "yine fonksiyonları görmek için tuple. yapıp bekliyoruz. tuple() yapıp beklersek de tuple hakkında bilgiler geliyor."
   ]
  },
  {
   "cell_type": "code",
   "execution_count": 77,
   "id": "5c4972bb",
   "metadata": {},
   "outputs": [
    {
     "name": "stdout",
     "output_type": "stream",
     "text": [
      "<class 'tuple'>\n"
     ]
    }
   ],
   "source": [
    "#tuple oluşturma 1.yöntem\n",
    "empty_tuple = ()\n",
    "print(type(empty_tuple))"
   ]
  },
  {
   "cell_type": "code",
   "execution_count": 78,
   "id": "ce1db323",
   "metadata": {},
   "outputs": [
    {
     "name": "stdout",
     "output_type": "stream",
     "text": [
      "()\n",
      "<class 'tuple'>\n"
     ]
    }
   ],
   "source": [
    "#tuple oluşturma 2.yöntem\n",
    "empty_tuple_1 = tuple()\n",
    "print(empty_tuple_1)\n",
    "print(type(empty_tuple_1))"
   ]
  },
  {
   "cell_type": "code",
   "execution_count": 73,
   "id": "c428364c",
   "metadata": {},
   "outputs": [
    {
     "name": "stdout",
     "output_type": "stream",
     "text": [
      "love\n",
      "<class 'str'>\n"
     ]
    }
   ],
   "source": [
    "try_tuple = ('love')\n",
    "print(try_tuple)\n",
    "print(type(try_tuple))  #bu bir tuple tipi değil.\n",
    "#tuple tek elemanlardan oluşacaksa eğer elemanın sonunda virgül kullanarak sorunu çözebiliriz.\n",
    "#Remember to always use a comma when defining a singleton tuple. (tekli tuple tanımlarkan virgül kullanmayı unutma)"
   ]
  },
  {
   "cell_type": "code",
   "execution_count": 74,
   "id": "51ce2f56",
   "metadata": {},
   "outputs": [
    {
     "name": "stdout",
     "output_type": "stream",
     "text": [
      "('love',)\n",
      "<class 'tuple'>\n"
     ]
    }
   ],
   "source": [
    "try_tuple = ('love',)\n",
    "print(try_tuple)\n",
    "print(type(try_tuple))  # it is tuple type. bu bir tuple  tipidir."
   ]
  },
  {
   "cell_type": "code",
   "execution_count": 75,
   "id": "4444a0c7",
   "metadata": {},
   "outputs": [
    {
     "name": "stdout",
     "output_type": "stream",
     "text": [
      "('mercury', 'jupiter', 'saturn', 'venus', 'uranus')\n",
      "<class 'tuple'>\n"
     ]
    }
   ],
   "source": [
    "planets = 'mercury', 'jupiter', 'saturn', \"venus\", \"uranus\"  #buradaki gibi virgülle ayırsak yeterli \n",
    "# parantez olmasa da hata vermez.\n",
    "print(planets)\n",
    "print(type(planets))"
   ]
  },
  {
   "cell_type": "code",
   "execution_count": 59,
   "id": "d1ed81d9",
   "metadata": {},
   "outputs": [
    {
     "data": {
      "text/plain": [
       "tuple"
      ]
     },
     "execution_count": 59,
     "metadata": {},
     "output_type": "execute_result"
    }
   ],
   "source": [
    "#TUPLE listelere benzer fakat elemanları değiştirilemezdir.\n",
    "demet = (1, 2, 3, 4, 5,6, 7, 8, 9)\n",
    "type(demet)"
   ]
  },
  {
   "cell_type": "code",
   "execution_count": 61,
   "id": "19e23aa3",
   "metadata": {},
   "outputs": [
    {
     "data": {
      "text/plain": [
       "()"
      ]
     },
     "execution_count": 61,
     "metadata": {},
     "output_type": "execute_result"
    }
   ],
   "source": [
    "# empty tuple\n",
    "tuple()\n",
    "()"
   ]
  },
  {
   "cell_type": "code",
   "execution_count": 64,
   "id": "b8ac931f",
   "metadata": {},
   "outputs": [
    {
     "data": {
      "text/plain": [
       "9"
      ]
     },
     "execution_count": 64,
     "metadata": {},
     "output_type": "execute_result"
    }
   ],
   "source": [
    "# indexlemeler yapabiliriz.\n",
    "demet[-1]"
   ]
  },
  {
   "cell_type": "code",
   "execution_count": 65,
   "id": "59031c22",
   "metadata": {},
   "outputs": [
    {
     "data": {
      "text/plain": [
       "(1, 3, 5, 7, 9)"
      ]
     },
     "execution_count": 65,
     "metadata": {},
     "output_type": "execute_result"
    }
   ],
   "source": [
    "demet[::2] # slicing yapabiliriz."
   ]
  },
  {
   "cell_type": "code",
   "execution_count": 67,
   "id": "b424c799",
   "metadata": {},
   "outputs": [
    {
     "data": {
      "text/plain": [
       "4"
      ]
     },
     "execution_count": 67,
     "metadata": {},
     "output_type": "execute_result"
    }
   ],
   "source": [
    "tuple2 = (1, 1, 1, 1, 2, 2, 2, 3, 4, 5, 8, 10, 12)\n",
    "tuple2.count(1)  # saydırma yapabiliriz."
   ]
  },
  {
   "cell_type": "code",
   "execution_count": 68,
   "id": "8a435ed7",
   "metadata": {},
   "outputs": [
    {
     "data": {
      "text/plain": [
       "0"
      ]
     },
     "execution_count": 68,
     "metadata": {},
     "output_type": "execute_result"
    }
   ],
   "source": [
    "tuple2.count(25) #olmayan bir değeri saydırmasını istedğimiz zaman hata vermiyor direkt 0 yazıyor."
   ]
  },
  {
   "cell_type": "code",
   "execution_count": 69,
   "id": "6dda4791",
   "metadata": {},
   "outputs": [
    {
     "data": {
      "text/plain": [
       "4"
      ]
     },
     "execution_count": 69,
     "metadata": {},
     "output_type": "execute_result"
    }
   ],
   "source": [
    "tuple3 = (\"java\", \"java script\", \"Linuw\", \"Python\", \"CSS\")\n",
    "tuple3.index(\"CSS\")  # index numarasını öğrenebiliriz."
   ]
  },
  {
   "cell_type": "code",
   "execution_count": 70,
   "id": "7cbfe595",
   "metadata": {},
   "outputs": [
    {
     "ename": "ValueError",
     "evalue": "tuple.index(x): x not in tuple",
     "output_type": "error",
     "traceback": [
      "\u001b[1;31m---------------------------------------------------------------------------\u001b[0m",
      "\u001b[1;31mValueError\u001b[0m                                Traceback (most recent call last)",
      "Input \u001b[1;32mIn [70]\u001b[0m, in \u001b[0;36m<cell line: 1>\u001b[1;34m()\u001b[0m\n\u001b[1;32m----> 1\u001b[0m \u001b[43mtuple3\u001b[49m\u001b[38;5;241;43m.\u001b[39;49m\u001b[43mindex\u001b[49m\u001b[43m(\u001b[49m\u001b[38;5;124;43m'\u001b[39;49m\u001b[38;5;124;43ma\u001b[39;49m\u001b[38;5;124;43m'\u001b[39;49m\u001b[43m)\u001b[49m\n",
      "\u001b[1;31mValueError\u001b[0m: tuple.index(x): x not in tuple"
     ]
    }
   ],
   "source": [
    "tuple3.index('a')   #count hata vermezken index metodu olmayan bir değer için hata verir."
   ]
  },
  {
   "cell_type": "code",
   "execution_count": 80,
   "id": "5e078a9a",
   "metadata": {},
   "outputs": [
    {
     "ename": "TypeError",
     "evalue": "'tuple' object does not support item assignment",
     "output_type": "error",
     "traceback": [
      "\u001b[1;31m---------------------------------------------------------------------------\u001b[0m",
      "\u001b[1;31mTypeError\u001b[0m                                 Traceback (most recent call last)",
      "Input \u001b[1;32mIn [80]\u001b[0m, in \u001b[0;36m<cell line: 3>\u001b[1;34m()\u001b[0m\n\u001b[0;32m      1\u001b[0m tuple4 \u001b[38;5;241m=\u001b[39m (\u001b[38;5;241m1\u001b[39m, \u001b[38;5;241m2\u001b[39m, \u001b[38;5;241m3\u001b[39m, \u001b[38;5;241m4\u001b[39m, \u001b[38;5;241m5\u001b[39m, \u001b[38;5;241m6\u001b[39m, \u001b[38;5;241m7\u001b[39m, \u001b[38;5;241m8\u001b[39m)  \n\u001b[0;32m      2\u001b[0m \u001b[38;5;66;03m#AYNI STRİNG LERDE OLDUĞU GİBİ IMMUTABLE OLDUĞU YANİ DEĞİŞTİRİLEMEZ OLD. İÇİN HATA VERİR.\u001b[39;00m\n\u001b[1;32m----> 3\u001b[0m tuple4[\u001b[38;5;241m-\u001b[39m\u001b[38;5;241m1\u001b[39m] \u001b[38;5;241m=\u001b[39m \u001b[38;5;241m10\u001b[39m\n",
      "\u001b[1;31mTypeError\u001b[0m: 'tuple' object does not support item assignment"
     ]
    }
   ],
   "source": [
    "tuple4 = (1, 2, 3, 4, 5, 6, 7, 8)  \n",
    "#AYNI STRİNG LERDE OLDUĞU GİBİ IMMUTABLE OLDUĞU YANİ DEĞİŞTİRİLEMEZ OLD. İÇİN HATA VERİR.\n",
    "tuple4[-1] = 10  # -1. İNDEXİ 10 OLARAK DEĞİŞTİRMEK İSTEDİK."
   ]
  },
  {
   "cell_type": "code",
   "execution_count": 81,
   "id": "34f58b0f",
   "metadata": {},
   "outputs": [
    {
     "name": "stdout",
     "output_type": "stream",
     "text": [
      "<class 'list'> [1, 4, 3, 4, 5, 6, 7, 4]\n"
     ]
    }
   ],
   "source": [
    "#aşağıdaki örnekte olduğu gibi list ve tuple arasında geçiş yapmak oldukça kolaydır.\n",
    "new_tuple = (1, 4, 3, 4, 5, 6, 7, 4)\n",
    "new_list = list(new_tuple)\n",
    "print(type(new_list), new_list) \n",
    "#type(my_list) dediğimizde class list yazar fakat yanına bir daha my_list dersek bu kez list halinde köşeli parantezle indirir."
   ]
  },
  {
   "cell_type": "code",
   "execution_count": 82,
   "id": "bf1ce706",
   "metadata": {},
   "outputs": [
    {
     "name": "stdout",
     "output_type": "stream",
     "text": [
      "<class 'tuple'> (1, 5, 7, 11)\n"
     ]
    }
   ],
   "source": [
    "my_list = [1, 5, 7, 11]\n",
    "my_tuple = tuple(my_list) #burada da list i tuple çevirdik.\n",
    "print(type(my_tuple), my_tuple) \n",
    "#my_tuple tipi tuple olarak çıkar ve my_tuple diye print ettiğimizde normal parantez () ile çıktı alır."
   ]
  },
  {
   "cell_type": "code",
   "execution_count": 83,
   "id": "d3c6e1d3",
   "metadata": {},
   "outputs": [
    {
     "name": "stdout",
     "output_type": "stream",
     "text": [
      "4\n",
      "4\n"
     ]
    }
   ],
   "source": [
    "print(len(my_list))  #my_listin eleman sayısı\n",
    "print(len(my_tuple)) #my_tuple durumundaki eleman sayısı"
   ]
  },
  {
   "cell_type": "code",
   "execution_count": 87,
   "id": "fd1ae444",
   "metadata": {},
   "outputs": [
    {
     "name": "stdout",
     "output_type": "stream",
     "text": [
      "('k', 'a', 'ç', 'k', 'a', 'r')\n",
      "<class 'tuple'>\n"
     ]
    }
   ],
   "source": [
    "# An iterable (yenilebilir) string (dize) can be converted (dönüştürmek) to a tuple.\n",
    "mountain = tuple('kaçkar')\n",
    "print(mountain)\n",
    "print(type(mountain))"
   ]
  },
  {
   "cell_type": "code",
   "execution_count": 88,
   "id": "9a7683e7",
   "metadata": {},
   "outputs": [
    {
     "name": "stdout",
     "output_type": "stream",
     "text": [
      "('t', 'o', 'r', 'o', 's')\n",
      "<class 'str'>\n"
     ]
    }
   ],
   "source": [
    "mountain2 = ('toros') \n",
    "# bu şekilde olduğu zaman yani değerin yanında virgül olmazsa bu şekilde tek tek ayırıyor. \n",
    "# fakat bir sonrakii örnekte olduğu gibi olursa tek tek alacak. Dikkat edelim.\n",
    "print(tuple(mountain2))\n",
    "print(type(mountain2))"
   ]
  },
  {
   "cell_type": "code",
   "execution_count": 93,
   "id": "c622979c",
   "metadata": {},
   "outputs": [
    {
     "name": "stdout",
     "output_type": "stream",
     "text": [
      "('kaçkar', 'toros')\n"
     ]
    }
   ],
   "source": [
    "mountain3 = 'kaçkar', 'toros' #burada olduğu gibi iki değer olur ve virgülle ayırırsak öğelerine ayırmaz.\n",
    "print(tuple(mountain3))"
   ]
  },
  {
   "cell_type": "code",
   "execution_count": 94,
   "id": "0c8ca8d2",
   "metadata": {},
   "outputs": [
    {
     "name": "stdout",
     "output_type": "stream",
     "text": [
      "('cohort12', 2022, 'Clarusway')\n"
     ]
    }
   ],
   "source": [
    "new = ['cohort12', 2022, 'Clarusway']\n",
    "print(tuple(new))"
   ]
  },
  {
   "cell_type": "code",
   "execution_count": 96,
   "id": "7dc7d7d0",
   "metadata": {},
   "outputs": [
    {
     "name": "stdout",
     "output_type": "stream",
     "text": [
      "clarusway <class 'str'>\n",
      "('clarusway',) <class 'tuple'>\n"
     ]
    }
   ],
   "source": [
    "# önemli bir husus tuple lar print edilince dışarı parantezle çıkar str gibi tek çıkmaz.\n",
    "# örneğe bakalım.\n",
    "a = \"clarusway\"\n",
    "b = \"clarusway\",\n",
    "print(a, type(a))\n",
    "print(b, type(b))"
   ]
  },
  {
   "cell_type": "code",
   "execution_count": 98,
   "id": "9d2288b6",
   "metadata": {},
   "outputs": [
    {
     "name": "stdout",
     "output_type": "stream",
     "text": [
      "0\n",
      "2\n",
      "4\n"
     ]
    },
    {
     "ename": "IndexError",
     "evalue": "tuple index out of range",
     "output_type": "error",
     "traceback": [
      "\u001b[1;31m---------------------------------------------------------------------------\u001b[0m",
      "\u001b[1;31mIndexError\u001b[0m                                Traceback (most recent call last)",
      "Input \u001b[1;32mIn [98]\u001b[0m, in \u001b[0;36m<cell line: 6>\u001b[1;34m()\u001b[0m\n\u001b[0;32m      4\u001b[0m \u001b[38;5;28mprint\u001b[39m(even_no[\u001b[38;5;241m1\u001b[39m])\n\u001b[0;32m      5\u001b[0m \u001b[38;5;28mprint\u001b[39m(even_no[\u001b[38;5;241m2\u001b[39m])\n\u001b[1;32m----> 6\u001b[0m \u001b[38;5;28mprint\u001b[39m(\u001b[43meven_no\u001b[49m\u001b[43m[\u001b[49m\u001b[38;5;241;43m6\u001b[39;49m\u001b[43m]\u001b[49m)\n",
      "\u001b[1;31mIndexError\u001b[0m: tuple index out of range"
     ]
    }
   ],
   "source": [
    "#tuple da da indexleme yapabiliriz\n",
    "even_no = (0, 2, 4, 6, 8, 10)\n",
    "print(even_no[0])\n",
    "print(even_no[1])\n",
    "print(even_no[2])\n",
    "print(even_no[6])  # 6 numarada bir eleman olmadığı için error verir."
   ]
  },
  {
   "cell_type": "code",
   "execution_count": 103,
   "id": "ad010e18",
   "metadata": {},
   "outputs": [
    {
     "ename": "TypeError",
     "evalue": "'tuple' object does not support item assignment",
     "output_type": "error",
     "traceback": [
      "\u001b[1;31m---------------------------------------------------------------------------\u001b[0m",
      "\u001b[1;31mTypeError\u001b[0m                                 Traceback (most recent call last)",
      "Input \u001b[1;32mIn [103]\u001b[0m, in \u001b[0;36m<cell line: 4>\u001b[1;34m()\u001b[0m\n\u001b[0;32m      2\u001b[0m city_list \u001b[38;5;241m=\u001b[39m [\u001b[38;5;124m'\u001b[39m\u001b[38;5;124mTokyo\u001b[39m\u001b[38;5;124m'\u001b[39m, \u001b[38;5;124m'\u001b[39m\u001b[38;5;124mIstanbul\u001b[39m\u001b[38;5;124m'\u001b[39m, \u001b[38;5;124m'\u001b[39m\u001b[38;5;124mMoskow\u001b[39m\u001b[38;5;124m'\u001b[39m, \u001b[38;5;124m'\u001b[39m\u001b[38;5;124mDublin\u001b[39m\u001b[38;5;124m'\u001b[39m]\n\u001b[0;32m      3\u001b[0m city_tuple \u001b[38;5;241m=\u001b[39m \u001b[38;5;28mtuple\u001b[39m(city_list)\n\u001b[1;32m----> 4\u001b[0m city_tuple[\u001b[38;5;241m0\u001b[39m] \u001b[38;5;241m=\u001b[39m \u001b[38;5;124m'\u001b[39m\u001b[38;5;124mNew York\u001b[39m\u001b[38;5;124m'\u001b[39m\n",
      "\u001b[1;31mTypeError\u001b[0m: 'tuple' object does not support item assignment"
     ]
    }
   ],
   "source": [
    "# tuple lar öğe atamasını desteklemez AYNI STR gibi. çünkü tuple da immutable (değişmezdir) dır.\n",
    "city_list = ['Tokyo', 'Istanbul', 'Moskow', 'Dublin']\n",
    "city_tuple = tuple(city_list)\n",
    "city_tuple[0] = 'New York' #you can't assign a value (bir değer atayamazsın)"
   ]
  },
  {
   "cell_type": "code",
   "execution_count": 104,
   "id": "9c0c3e13",
   "metadata": {},
   "outputs": [
    {
     "name": "stdout",
     "output_type": "stream",
     "text": [
      "['Tokyo', 'Istanbul', 'Moskow', 'Dublin']\n",
      "['Athens', 'Cairo', 'Moskow', 'Dublin']\n"
     ]
    }
   ],
   "source": [
    "# list ler ise değer atamasını kabul ediyordu ama tuple kabul etmez.\n",
    "city_list = ['Tokyo', 'Istanbul', 'Moskow', 'Dublin']\n",
    "print(city_list)  # listemizin orjinal halini bir yazdıralım. \n",
    "\n",
    "city_list[0] = 'Athens'  # 0. indexe atama yaptık.\n",
    "city_list[1] = 'Cairo'  # 1. indexe atama yaptık.\n",
    "\n",
    "print(city_list)  # atama sonrası\n"
   ]
  },
  {
   "cell_type": "code",
   "execution_count": 108,
   "id": "2f6743fe",
   "metadata": {},
   "outputs": [
    {
     "name": "stdout",
     "output_type": "stream",
     "text": [
      "(0, 1, 2, 3, 4, 5, 6, 7, 8, 9, 10, 11, 12, 13, 14, 15, 16, 17, 18, 19, 20)\n",
      "(0, 2, 4, 6, 8, 10, 12, 14, 16, 18, 20)\n"
     ]
    }
   ],
   "source": [
    "#tuple da range ve count yöntemini birlikte kullanalım.\n",
    "count = tuple(range(21))  #burada 1 den 20 ye kadar olan bir sayı listesi oluşturalım, içinden çift olanları seçelim.\n",
    "print(count)\n",
    "print(count[0:21:2]) #0 dan başla 11 e kadar git (11 dahil değil) 2 şer adım atla. bir slicing yapıyoruz."
   ]
  },
  {
   "cell_type": "markdown",
   "id": "e23c9ffc",
   "metadata": {},
   "source": [
    "# 3) DİCTİONARY; \n",
    "KEY - ANAHTAR \n",
    "VALUE - DEĞER \n",
    "sözlük1 = {\"bir\": 1, \"iki\": 2, \"üç\": 3, \"dört\": 4}\n",
    "type(sözlük1)\n",
    "dict"
   ]
  },
  {
   "cell_type": "code",
   "execution_count": 116,
   "id": "1a55b41a",
   "metadata": {},
   "outputs": [],
   "source": [
    "#örnek bir anahtar - değer içeren dictionary\n",
    "my_dict = { 'key1': 'value1',\n",
    "            'key2': 'value2',\n",
    "            'key3':  'value3'\n",
    "           }"
   ]
  },
  {
   "cell_type": "code",
   "execution_count": null,
   "id": "13626604",
   "metadata": {},
   "outputs": [],
   "source": [
    "# boş sözlük oluşturmanın 2 yolu\n",
    "# 1 ) dict()\n",
    "# 2 ) {}"
   ]
  },
  {
   "cell_type": "code",
   "execution_count": 109,
   "id": "2952f7b7",
   "metadata": {},
   "outputs": [
    {
     "name": "stdout",
     "output_type": "stream",
     "text": [
      "<class 'dict'>\n"
     ]
    }
   ],
   "source": [
    "#CREATİNG DİCTİONARY\n",
    "empty_dict_1 = {}\n",
    "empty_dict_2 = dict()\n",
    "print(type(empty_dict_1))"
   ]
  },
  {
   "cell_type": "code",
   "execution_count": 162,
   "id": "3aeb12f5",
   "metadata": {},
   "outputs": [
    {
     "data": {
      "text/plain": [
       "dict_keys(['bir', 'iki', 'üç', 'dört'])"
      ]
     },
     "execution_count": 162,
     "metadata": {},
     "output_type": "execute_result"
    }
   ],
   "source": [
    "sözlük1 = {\"bir\": 1, \"iki\": 2, \"üç\": 3, \"dört\": 4}  # key, value, items çıktı alalım.\n",
    "sözlük1.keys()"
   ]
  },
  {
   "cell_type": "code",
   "execution_count": 163,
   "id": "cf5e0d82",
   "metadata": {},
   "outputs": [
    {
     "data": {
      "text/plain": [
       "dict_values([1, 2, 3, 4])"
      ]
     },
     "execution_count": 163,
     "metadata": {},
     "output_type": "execute_result"
    }
   ],
   "source": [
    "sözlük1.values()"
   ]
  },
  {
   "cell_type": "code",
   "execution_count": 164,
   "id": "1320987d",
   "metadata": {},
   "outputs": [
    {
     "data": {
      "text/plain": [
       "dict_items([('bir', 1), ('iki', 2), ('üç', 3), ('dört', 4)])"
      ]
     },
     "execution_count": 164,
     "metadata": {},
     "output_type": "execute_result"
    }
   ],
   "source": [
    "sözlük1.items()"
   ]
  },
  {
   "cell_type": "code",
   "execution_count": 176,
   "id": "2e99d36e",
   "metadata": {},
   "outputs": [
    {
     "name": "stdout",
     "output_type": "stream",
     "text": [
      "bir 1\n",
      "iki 2\n",
      "üç 3\n",
      "dört 4\n",
      "beş 21\n"
     ]
    }
   ],
   "source": [
    "for k, v in sözlük1.items():  # sözlük1 içindeki keys ve value ları items olarak bas. birazcık for a giriş yapmış olalım :)\n",
    "  print(k, v)"
   ]
  },
  {
   "cell_type": "code",
   "execution_count": 165,
   "id": "ca974f61",
   "metadata": {},
   "outputs": [
    {
     "ename": "KeyError",
     "evalue": "'beş'",
     "output_type": "error",
     "traceback": [
      "\u001b[1;31m---------------------------------------------------------------------------\u001b[0m",
      "\u001b[1;31mKeyError\u001b[0m                                  Traceback (most recent call last)",
      "Input \u001b[1;32mIn [165]\u001b[0m, in \u001b[0;36m<cell line: 2>\u001b[1;34m()\u001b[0m\n\u001b[0;32m      1\u001b[0m sözlük1 \u001b[38;5;241m=\u001b[39m {\u001b[38;5;124m\"\u001b[39m\u001b[38;5;124mbir\u001b[39m\u001b[38;5;124m\"\u001b[39m: \u001b[38;5;241m1\u001b[39m, \u001b[38;5;124m\"\u001b[39m\u001b[38;5;124miki\u001b[39m\u001b[38;5;124m\"\u001b[39m: \u001b[38;5;241m2\u001b[39m, \u001b[38;5;124m\"\u001b[39m\u001b[38;5;124müç\u001b[39m\u001b[38;5;124m\"\u001b[39m: \u001b[38;5;241m3\u001b[39m, \u001b[38;5;124m\"\u001b[39m\u001b[38;5;124mdört\u001b[39m\u001b[38;5;124m\"\u001b[39m: \u001b[38;5;241m4\u001b[39m}\n\u001b[1;32m----> 2\u001b[0m \u001b[43msözlük1\u001b[49m\u001b[43m[\u001b[49m\u001b[38;5;124;43m\"\u001b[39;49m\u001b[38;5;124;43mbeş\u001b[39;49m\u001b[38;5;124;43m\"\u001b[39;49m\u001b[43m]\u001b[49m\n",
      "\u001b[1;31mKeyError\u001b[0m: 'beş'"
     ]
    }
   ],
   "source": [
    "sözlük1 = {\"bir\": 1, \"iki\": 2, \"üç\": 3, \"dört\": 4}\n",
    "sözlük1[\"beş\"]  #olmayan bir eleman talep edilirse hata verir."
   ]
  },
  {
   "cell_type": "code",
   "execution_count": 166,
   "id": "6037f1a5",
   "metadata": {},
   "outputs": [
    {
     "data": {
      "text/plain": [
       "{'bir': 1, 'iki': 2, 'üç': 3, 'dört': 4, 'beş': 5}"
      ]
     },
     "execution_count": 166,
     "metadata": {},
     "output_type": "execute_result"
    }
   ],
   "source": [
    "sözlük1 = {\"bir\": 1, \"iki\": 2, \"üç\": 3, \"dört\": 4}\n",
    "sözlük1[\"beş\"] = 5      #yeni eleman ekleyebiliriz. (items yani key: value)\n",
    "sözlük1"
   ]
  },
  {
   "cell_type": "code",
   "execution_count": 167,
   "id": "3e7e773d",
   "metadata": {},
   "outputs": [
    {
     "name": "stdout",
     "output_type": "stream",
     "text": [
      "{'bir': 1, 'iki': 2, 'üç': 3, 'dört': 4, 'beş': 5}\n"
     ]
    },
    {
     "data": {
      "text/plain": [
       "4"
      ]
     },
     "execution_count": 167,
     "metadata": {},
     "output_type": "execute_result"
    }
   ],
   "source": [
    "print(sözlük1)\n",
    "sözlük1[\"dört\"]  # indexlemeyi doğrudan yapamayız. dictionary lerde key adıyla çağırırız value ları.(erişim metodu)"
   ]
  },
  {
   "cell_type": "code",
   "execution_count": 168,
   "id": "f1563522",
   "metadata": {},
   "outputs": [
    {
     "data": {
      "text/plain": [
       "3"
      ]
     },
     "execution_count": 168,
     "metadata": {},
     "output_type": "execute_result"
    }
   ],
   "source": [
    "a = {\"bir\": [1, 2, 3, 4], \"iki\":[[1, 2], [3, 4], [5, 6]], \"üç\": 15}  # key üzerinden erişelim.\n",
    "a[\"iki\"][1][0]  # iki nolu key e git, 1.indexsine git, 1. elemanın 0. indexini getir. (erişme metodumuz bu şekilde)"
   ]
  },
  {
   "cell_type": "code",
   "execution_count": 169,
   "id": "486e405f",
   "metadata": {},
   "outputs": [
    {
     "data": {
      "text/plain": [
       "{'bir': 1, 'iki': 2, 'üç': 3, 'dört': 4, 'beş': 20}"
      ]
     },
     "execution_count": 169,
     "metadata": {},
     "output_type": "execute_result"
    }
   ],
   "source": [
    "# sözlüklere yeni değer atama (mevcut key e yeni bir value atayalım)\n",
    "sözlük1  # önceki hali.\n",
    "sözlük1[\"beş\"] = 20\n",
    "sözlük1  # son hali"
   ]
  },
  {
   "cell_type": "code",
   "execution_count": 170,
   "id": "4cf7aabb",
   "metadata": {},
   "outputs": [
    {
     "name": "stdout",
     "output_type": "stream",
     "text": [
      "{'bir': 1, 'iki': 2, 'üç': 3, 'dört': 4, 'beş': 20}\n"
     ]
    },
    {
     "data": {
      "text/plain": [
       "{'bir': 1, 'iki': 2, 'üç': 3, 'dört': 4, 'beş': 21}"
      ]
     },
     "execution_count": 170,
     "metadata": {},
     "output_type": "execute_result"
    }
   ],
   "source": [
    "# sözlük değerlerini değiştirebiliriz.\n",
    "print(sözlük1)\n",
    "sözlük1[\"beş\"] += 1\n",
    "sözlük1"
   ]
  },
  {
   "cell_type": "code",
   "execution_count": 171,
   "id": "2559cf2b",
   "metadata": {},
   "outputs": [
    {
     "name": "stdout",
     "output_type": "stream",
     "text": [
      "{'Marka': 'Volkswagen', 'Modeli': 'Golf', 'Yılı': 2020}\n"
     ]
    }
   ],
   "source": [
    "thisdictionary = { \"Marka\": \"Volkswagen\", \"Modeli\": \"Golf\",\"Yılı\": 2020, \"Fiyatı\": 250000}\n",
    "thisdictionary.pop(\"Fiyatı\")  # burada pop metodu ile fiyatını sildik.\n",
    "print(thisdictionary)"
   ]
  },
  {
   "cell_type": "code",
   "execution_count": 172,
   "id": "8bac7a08",
   "metadata": {},
   "outputs": [
    {
     "name": "stdout",
     "output_type": "stream",
     "text": [
      "{'animal': 'dog', 'planet': 'neptun', 'pi': 3.14, 'is_good': True, 'new_key': 40}\n",
      "{'animal': 'dog', 'pi': 3.14, 'is_good': True, 'new_key': 40, 'new_key2': 'neptun'}\n"
     ]
    }
   ],
   "source": [
    "# slack den aldığım bir notu da ekliyorum arkadaşlar.(Edwin hocanın paylaşımı)\n",
    "# Dictionary'lerde value'ler değiştirilebiliyor. \n",
    "# peki onu anladık hocam da key ismini değiştirebilir miyiz? Evet\n",
    "\n",
    "dict_by_dict = dict(animal = \"dog\", planet = \"neptun\", number = 40, pi = 3.14, is_good = True)\n",
    "\n",
    "# 1.yöntem:\n",
    "dict_by_dict[\"new_key\"] = dict_by_dict[\"number\"]\n",
    "del dict_by_dict[\"number\"]\n",
    "print(dict_by_dict)\n",
    "\n",
    "\n",
    "# 2. yöntem (.pop() metodu ile :\n",
    "dict_by_dict[\"new_key2\"] = dict_by_dict.pop(\"planet\")\n",
    "print(dict_by_dict)"
   ]
  },
  {
   "cell_type": "code",
   "execution_count": 173,
   "id": "6436ecf0",
   "metadata": {},
   "outputs": [
    {
     "name": "stdout",
     "output_type": "stream",
     "text": [
      "Denver\n"
     ]
    }
   ],
   "source": [
    "state_capitals = {'Arkansas': 'Little Rock',\n",
    "                  'Colorado': 'Denver',\n",
    "                  'California': 'Sacromento',\n",
    "                  'Georgina' : 'Atlanta'\n",
    "                 }\n",
    "print(state_capitals['Colorado'])  #erişim (accesing) metodu"
   ]
  },
  {
   "cell_type": "code",
   "execution_count": 174,
   "id": "17ed15fe",
   "metadata": {},
   "outputs": [
    {
     "name": "stdout",
     "output_type": "stream",
     "text": [
      "{'Arkansas': 'Little Rock', 'Colorado': 'Denver', 'California': 'Sacromento', 'Georgina': 'Atlanta', 'Virginia': 'Richmond'}\n"
     ]
    }
   ],
   "source": [
    "state_capitals = {'Arkansas': 'Little Rock',\n",
    "                  'Colorado': 'Denver',\n",
    "                  'California': 'Sacromento',\n",
    "                  'Georgina' : 'Atlanta'\n",
    "                  }\n",
    "state_capitals['Virginia'] = 'Richmond'  #adding a new item (yeni bir öğe ekleme metodu)\n",
    "print(state_capitals)"
   ]
  },
  {
   "cell_type": "code",
   "execution_count": 175,
   "id": "b26608d5",
   "metadata": {},
   "outputs": [
    {
     "name": "stdout",
     "output_type": "stream",
     "text": [
      "{'animal': ('dog', 'cat'), 'planet': ['Neptun', 'Saturn', 'Jupiter'], 'number': 40, 'pi': 3.14, 'is_good': True}\n",
      "{22: 'integer', 1.2: 'float', True: 'boolean', 'key': 'string'}\n"
     ]
    }
   ],
   "source": [
    "#anahtarların ve değerlerin farklı türlerde olabileceğini unutmayalım. tuple gibi, list gibi, str gibi\n",
    "#note that keys and values can be of different types.\n",
    "\n",
    "mix_values = {'animal': ('dog', 'cat'),  # tuple type\n",
    "              'planet': ['Neptun', 'Saturn', 'Jupiter'], # list type\n",
    "              'number': 40,  # integer type\n",
    "              'pi': 3.14, # float type}\n",
    "              'is_good': True} # bool type\n",
    "\n",
    "mix_keys = {22 : \"integer\",\n",
    "            1.2 : \"float\",\n",
    "            True : \"boolean\",\n",
    "            \"key\": \"string\"}\n",
    "\n",
    "print(mix_values)\n",
    "print(mix_keys)"
   ]
  },
  {
   "cell_type": "code",
   "execution_count": 123,
   "id": "aae61dcc",
   "metadata": {},
   "outputs": [
    {
     "name": "stdout",
     "output_type": "stream",
     "text": [
      "dict_items([('animal', 'dog'), ('planet', 'neptun'), ('number', 40), ('pi', 3.14), ('is_good', True)]) \n",
      "\n",
      "dict_keys(['animal', 'planet', 'number', 'pi', 'is_good']) \n",
      "\n",
      "dict_values(['dog', 'neptun', 40, 3.14, True])\n"
     ]
    }
   ],
   "source": [
    "dict_by_dict = {'animal': 'dog',\n",
    "                'planet': 'neptun',\n",
    "                'number': 40,\n",
    "                'pi': 3.14,\n",
    "                'is_good': True}\n",
    "# İSTEDİKLERİMİZE NASIL ERİŞECEĞİZ ????\n",
    "# İTEMS İLE ÖĞELERİN HEPSİNE (KEYS, VALUES)\n",
    "# KEYS İLE ANAHTARLARA\n",
    "# VALUES İLE DEĞERELERE ULAŞIRIZ.\n",
    "print(dict_by_dict.items(), '\\n')\n",
    "print(dict_by_dict.keys(), '\\n')\n",
    "print(dict_by_dict.values())"
   ]
  },
  {
   "cell_type": "code",
   "execution_count": 129,
   "id": "4de4f3f8",
   "metadata": {},
   "outputs": [
    {
     "name": "stdout",
     "output_type": "stream",
     "text": [
      "{'animal': 'dog', 'planet': 'neptun', 'number': 40, 'pi': 3.14, 'is_good': 'clarusway', 'bool': True}\n"
     ]
    }
   ],
   "source": [
    "#  .UPDATE()METHODU KULLANIMI  (update yani güncelleme metodu, 'bool': True ekleyelim.) dict. sonuna ekler UNUTMA\n",
    "dict_by_dict = {'animal': 'dog',\n",
    "                'planet': 'neptun',\n",
    "                'number': 40,\n",
    "                'pi': 3.14,\n",
    "                'is_good': 'clarusway'}\n",
    "dict_by_dict.update({'bool': True })\n",
    "print(dict_by_dict)"
   ]
  },
  {
   "cell_type": "code",
   "execution_count": 130,
   "id": "54ccf2de",
   "metadata": {},
   "outputs": [
    {
     "name": "stdout",
     "output_type": "stream",
     "text": [
      "{'planet': 'neptun', 'number': 40, 'pi': 3.14, 'is_good': 'clarusway', 'bool': True}\n"
     ]
    }
   ],
   "source": [
    "# .DEL METODU (ÖĞE KALDIRMA)\n",
    "# syntax şöyle del dictionary_name ['key']  sadece sileceğiniz key yazıyoruz, value yazmıyoruz. çift old. için value da gider.\n",
    "del dict_by_dict ['animal'] \n",
    "print(dict_by_dict)"
   ]
  },
  {
   "cell_type": "code",
   "execution_count": 132,
   "id": "cb3d937e",
   "metadata": {},
   "outputs": [
    {
     "name": "stdout",
     "output_type": "stream",
     "text": [
      "True\n",
      "True\n",
      "False\n"
     ]
    }
   ],
   "source": [
    "# İN ve NOT İN  operatörlerini kullanarak sözlükte anahtarın olup olmadığı kontrol edebiliriz.\n",
    "# in operatörünü kullanırken; sonuç(the result) şayet anahtar var ise true, yok ise false sonucunu verecektir.\n",
    "# not in operatörünü kullanırken ise sonuç;\n",
    "# şayet anahtar sözlükte değilse sonuç true, \n",
    "# aksi halde false olacaktır. \n",
    "\n",
    "print ('pi' in dict_by_dict)\n",
    "\n",
    "print('animal' not in dict_by_dict)  #remember(hatırla), del fonksiyonunu kullanırken animal anahtarını sildik.\n",
    "\n",
    "print(\"animal\" in dict_by_dict)"
   ]
  },
  {
   "cell_type": "code",
   "execution_count": 158,
   "id": "f2e19c00",
   "metadata": {},
   "outputs": [
    {
     "data": {
      "text/plain": [
       "{'bir': 1, 'iki': 2, 'üç': 3}"
      ]
     },
     "execution_count": 158,
     "metadata": {},
     "output_type": "execute_result"
    }
   ],
   "source": [
    "# iç içe sözlükler (nested dictionaries\n",
    "# burada az elemanlı sözlüklerde erişim yapalım, sonra daha çok elemanlılarda erişim yapacağız.\n",
    "\n",
    "a = {\"sayılar\": {\"bir\": 1, \"iki\": 2, \"üç\": 3}, \"meyveler\":{\"kiraz\": \"yaz\", \"portakal\": \"kış\", \"erik\": \"yaz\"}}\n",
    "a[\"sayılar\"]"
   ]
  },
  {
   "cell_type": "code",
   "execution_count": 159,
   "id": "20a1e433",
   "metadata": {},
   "outputs": [
    {
     "data": {
      "text/plain": [
       "2"
      ]
     },
     "execution_count": 159,
     "metadata": {},
     "output_type": "execute_result"
    }
   ],
   "source": [
    "a[\"sayılar\"]['iki']"
   ]
  },
  {
   "cell_type": "code",
   "execution_count": 160,
   "id": "e4177298",
   "metadata": {},
   "outputs": [
    {
     "data": {
      "text/plain": [
       "'yaz'"
      ]
     },
     "execution_count": 160,
     "metadata": {},
     "output_type": "execute_result"
    }
   ],
   "source": [
    "a[\"meyveler\"][\"kiraz\"]"
   ]
  },
  {
   "cell_type": "code",
   "execution_count": 133,
   "id": "35d86cf8",
   "metadata": {},
   "outputs": [],
   "source": [
    "#NESTED DİCTİONARİES\n",
    "#BAZEN İÇ İÇİ DİCT KULLANILMAK DURUMUNDA KALINABİLİR.\n",
    "school_records = {\n",
    "    \"personal_info\":\n",
    "    {\"kid\":{\"tom\": {\"class\": \"intermediate\", \"age\": 10},\n",
    "            \"sue\" : {\"class\": \"elementary\", \"age\": 8}\n",
    "            },\n",
    "     \"teen\": {\"joseph\":{\"class\": \"collage\", \"age\": 19},\n",
    "              \"marry\": {\"class\": \"high school\", \"age\": 16}\n",
    "              },\n",
    "     },\n",
    "     \"grades_info\": \n",
    "     {\"kid\": {\"tom\": {\"math\": 88, \"speech\": 69},\n",
    "              \"sue\": {\"math\": 90, \"spench\": 81}\n",
    "              },\n",
    "      \"teen\": {\"joseph\": {\"coding\": 80, \"math\": 89},\n",
    "               \"marry\": {\"coding\": 70, \"math\": 96}\n",
    "               },\n",
    "      },\n",
    "}"
   ]
  },
  {
   "cell_type": "code",
   "execution_count": 135,
   "id": "deb67f64",
   "metadata": {},
   "outputs": [
    {
     "name": "stdout",
     "output_type": "stream",
     "text": [
      "96\n",
      "10\n"
     ]
    }
   ],
   "source": [
    "print(school_records['grades_info']['teen']['marry']['math']) # indexleyerek ulaşabiliriz yine istediğimiz bilgiye.\n",
    "print(school_records['personal_info']['kid']['tom']['age'])"
   ]
  },
  {
   "cell_type": "code",
   "execution_count": 177,
   "id": "2633ca29",
   "metadata": {},
   "outputs": [
    {
     "name": "stdout",
     "output_type": "stream",
     "text": [
      "5555\n"
     ]
    },
    {
     "data": {
      "text/plain": [
       "'5555'"
      ]
     },
     "execution_count": 177,
     "metadata": {},
     "output_type": "execute_result"
    }
   ],
   "source": [
    "# İNPUT FONKSİYONU\n",
    "input()  # çalıştırdığımız zaman kullanıcıdan bir değer ister."
   ]
  },
  {
   "cell_type": "code",
   "execution_count": null,
   "id": "a3660d44",
   "metadata": {},
   "outputs": [],
   "source": [
    "input(\"Lütfen bir sayı giriniz:\")  # veriyi her zaman str olarak isteriz ama girilen veriyi yerinde \n",
    "integer, float dönüştürebiliriz.\n",
    "\n",
    "int(input(\"Lütfen bir sayı giriniz:\"))\n",
    "float(input(\"Lütfen bir sayı giriniz:\"))"
   ]
  },
  {
   "cell_type": "code",
   "execution_count": 178,
   "id": "e5fbc73c",
   "metadata": {},
   "outputs": [
    {
     "name": "stdout",
     "output_type": "stream",
     "text": [
      "Lütfen bir sayı giriniz: 2022\n",
      "Kullanıcının girdiği değer 2022\n"
     ]
    }
   ],
   "source": [
    "a = input(\"Lütfen bir sayı giriniz: \")\n",
    "print(\"Kullanıcının girdiği değer\", a)"
   ]
  },
  {
   "cell_type": "code",
   "execution_count": 179,
   "id": "098bdc35",
   "metadata": {},
   "outputs": [
    {
     "name": "stdout",
     "output_type": "stream",
     "text": [
      "Lütfen bir sayı giriniz: 125\n",
      "125125125\n",
      "<class 'str'>\n"
     ]
    }
   ],
   "source": [
    "# İNPUT KURALLARI\n",
    "a = input(\"Lütfen bir sayı giriniz: \")\n",
    "print(a * 3)\n",
    "print(type(a))"
   ]
  },
  {
   "cell_type": "code",
   "execution_count": 180,
   "id": "4406e3f6",
   "metadata": {},
   "outputs": [
    {
     "name": "stdout",
     "output_type": "stream",
     "text": [
      "Lütfen bir sayı giriniz: 125\n",
      "375\n",
      "<class 'int'>\n"
     ]
    }
   ],
   "source": [
    "a = int(input(\"Lütfen bir sayı giriniz: \"))\n",
    "print(a * 3)\n",
    "print(type(a))"
   ]
  },
  {
   "cell_type": "code",
   "execution_count": 181,
   "id": "56ec6379",
   "metadata": {},
   "outputs": [
    {
     "name": "stdout",
     "output_type": "stream",
     "text": [
      "a: xx\n",
      "Lütfen inputu doğru formatta girin.\n"
     ]
    }
   ],
   "source": [
    "try:\n",
    "  a = a = int(input(\"a: \"))\n",
    "  print(a)\n",
    "except ValueError:\n",
    "  print(\"Lütfen inputu doğru formatta girin.\")\n",
    "\n",
    "# girilen değerin integer olup olmadığını bu şekilde kontrol edebiliriz. (try, except ile)"
   ]
  },
  {
   "cell_type": "markdown",
   "id": "b8ea5b44",
   "metadata": {},
   "source": [
    "# 4 ) SET LER;\n",
    "{} kullanılır,\n",
    "birden fazla olan elemanları ikinci kez tekrar etmez\n",
    "her print etmede sıralama değişebilir.\n",
    "set deyince aklımıza kümeler gelmeli.\n",
    "kümelerdeki işlemlerden olan;  kesişim, birleşim ve farklar da gelmeli."
   ]
  },
  {
   "cell_type": "code",
   "execution_count": 195,
   "id": "18e23d0b",
   "metadata": {},
   "outputs": [
    {
     "name": "stdout",
     "output_type": "stream",
     "text": [
      "<class 'set'>\n"
     ]
    }
   ],
   "source": [
    "#BOŞ BİR SET VEYA BOŞ BİR SÖZLÜK OLUŞTURMAK\n",
    "empty_set = set()\n",
    "print(type(empty_set))"
   ]
  },
  {
   "cell_type": "code",
   "execution_count": 197,
   "id": "4f4187b2",
   "metadata": {},
   "outputs": [
    {
     "name": "stdout",
     "output_type": "stream",
     "text": [
      "{'red', 'darkblue', 'yellow', 'orange', 'purple'}\n"
     ]
    }
   ],
   "source": [
    "#set ler sırasız ve benzersiz nesnelere sahiptir. Example\n",
    "colorset = {'purple', 'orange', 'red', 'darkblue', 'yellow', 'red'}\n",
    "print(colorset)\n",
    "\n",
    "#iki kez tekrarlanan red tek e düşer ve sıralama değişir.\n",
    "#her çalıştırmada yeniden sıralama değişir."
   ]
  },
  {
   "cell_type": "code",
   "execution_count": 200,
   "id": "bf149d4a",
   "metadata": {},
   "outputs": [
    {
     "name": "stdout",
     "output_type": "stream",
     "text": [
      "{'l', 'o', 'k', 'e', 'n', 'z', 'm', 'u', 'p', 'f', 's', 'h', 'y', 'x', 'i'}\n"
     ]
    }
   ],
   "source": [
    "#set example: tekrarlananları bir kez alır.\n",
    "s = set('pppyyyxxxzzzzuunsseellfffiiissskkkmmmoooohneessss')  # burada birden fazla tekrarlanan hiçbir harfi ikinci kez almaz.\n",
    "print(s)"
   ]
  },
  {
   "cell_type": "code",
   "execution_count": 202,
   "id": "fd14af2d",
   "metadata": {},
   "outputs": [
    {
     "name": "stdout",
     "output_type": "stream",
     "text": [
      "{'carnation', 'rose', 'orchid', 'violet'}\n",
      "['carnation', 'rose', 'orchid', 'violet']\n"
     ]
    }
   ],
   "source": [
    "#bir list i bir set e dönüştürelim.\n",
    "flower_list = ['rose', 'violet', 'carnation', 'rose', 'orchid', 'rose', 'orchid']  # listemiz\n",
    "flowerset = set(flower_list)  # listemizi set e set() ile dönüştürelim.\n",
    "flowerlist = list(flowerset)  # şimdi de setimizi list() ile yeniden eski haline getirelim.\n",
    "print(flowerset)\n",
    "print(flowerlist)"
   ]
  },
  {
   "cell_type": "code",
   "execution_count": 204,
   "id": "e9b68f29",
   "metadata": {},
   "outputs": [
    {
     "name": "stdout",
     "output_type": "stream",
     "text": [
      "{'carnation', 'rose', 'orchid', 'violet'}\n",
      "{'carnation', 'rose', 'orchid', 'violet'}\n"
     ]
    }
   ],
   "source": [
    "# eleman sayıları birbirinden farklı olan set lerde ki durum (eleman tekrarı varsa tabi)\n",
    "flower_list_2 = {'orchid', 'carnation', 'violet', 'rose'}\n",
    "flower_list_3 = {'rose', 'orchid', 'rose', 'violet', 'carnation'}\n",
    "print(flower_list_2)\n",
    "print(flower_list_3)"
   ]
  },
  {
   "cell_type": "code",
   "execution_count": 206,
   "id": "b6fe571a",
   "metadata": {},
   "outputs": [
    {
     "name": "stdout",
     "output_type": "stream",
     "text": [
      "{'d', 'r', 'b', 'a', 'c'}\n"
     ]
    }
   ],
   "source": [
    "a = set('baddacccrrrabracadabra')\n",
    "print(a)"
   ]
  },
  {
   "cell_type": "code",
   "execution_count": 210,
   "id": "c898cb58",
   "metadata": {},
   "outputs": [
    {
     "name": "stdout",
     "output_type": "stream",
     "text": [
      "{'b', 'd', 'r'}\n",
      "{'b', 'd', 'r'}\n"
     ]
    }
   ],
   "source": [
    "# şimde set lerde metodlara göz atalım kısaca\n",
    "a = set('abracadabra')\n",
    "b = set('alacazam')\n",
    "\n",
    "print(a-b) \n",
    "#difference yöntemi ile aynı 2 setin farkını alabiliriz (farklı elemanları) yazıldığı gibi a nın b den farkı\n",
    "\n",
    "print(a.difference(b)) \n",
    "# a difference from b"
   ]
  },
  {
   "cell_type": "code",
   "execution_count": 211,
   "id": "8c2a5d9d",
   "metadata": {},
   "outputs": [
    {
     "name": "stdout",
     "output_type": "stream",
     "text": [
      "{'l', 'd', 'r', 'b', 'z', 'm', 'a', 'c'}\n",
      "{'l', 'd', 'r', 'b', 'z', 'm', 'a', 'c'}\n"
     ]
    }
   ],
   "source": [
    "#union metodu ile birleştirebiliriz.\n",
    "\n",
    "a = set('abracadabra')\n",
    "b = set('alacazam')\n",
    "\n",
    "print(a | b)  # 2 setin birleştirilmesini sağlar. 1. yöntem\n",
    "\n",
    "print(a.union(b))  # 2. yöntem\n"
   ]
  },
  {
   "cell_type": "code",
   "execution_count": 212,
   "id": "ffe06006",
   "metadata": {},
   "outputs": [
    {
     "name": "stdout",
     "output_type": "stream",
     "text": [
      "{'c', 'a'}\n",
      "{'c', 'a'}\n"
     ]
    }
   ],
   "source": [
    "#intersection ile kesişim alabiliriz.\n",
    "\n",
    "a = set('abracadabra')\n",
    "b = set('alacazam')\n",
    "\n",
    "print(a & b)  #same as '.intersection()' method iki setin kesişimini almamızı sağlar.\n",
    "\n",
    "print(a.intersection(b)) #intersection of a and b"
   ]
  },
  {
   "cell_type": "code",
   "execution_count": 215,
   "id": "7d263ee2",
   "metadata": {},
   "outputs": [
    {
     "name": "stdout",
     "output_type": "stream",
     "text": [
      "{'d', 'r', 'b', 'a'}\n"
     ]
    }
   ],
   "source": [
    "#silme işlemini gerçekleştirebiliriz.remove metodu ile.\n",
    "\n",
    "a = set('abracadabra')\n",
    "\n",
    "a.remove('c') #  'c' yi silelim.\n",
    "\n",
    "print(a)"
   ]
  },
  {
   "cell_type": "code",
   "execution_count": 217,
   "id": "70a218fc",
   "metadata": {},
   "outputs": [
    {
     "name": "stdout",
     "output_type": "stream",
     "text": [
      "{'d', 'k', 'r', 'b', 'a', 'c'}\n"
     ]
    }
   ],
   "source": [
    "# ekleme yapabiliriz. add metodu ile \n",
    "\n",
    "a = set('abracadabra')\n",
    "\n",
    "a.add('c') \n",
    "a.add('k')  # olmayan bir harf ekleyelim.\n",
    "\n",
    "#burada C kullansaydım onuda yeni bir karakter gibi kabul ekleyecekti ama içerde c harfi olduğu için yeni bir ekleme yapmadı.\n",
    "\n",
    "print(a)"
   ]
  },
  {
   "cell_type": "code",
   "execution_count": 218,
   "id": "10907508",
   "metadata": {},
   "outputs": [
    {
     "name": "stdout",
     "output_type": "stream",
     "text": [
      "6\n"
     ]
    }
   ],
   "source": [
    "print(len(a))  # setlerin eleman sayısına ulaşabiliriz."
   ]
  },
  {
   "cell_type": "code",
   "execution_count": 221,
   "id": "0cac3f10",
   "metadata": {},
   "outputs": [
    {
     "name": "stdout",
     "output_type": "stream",
     "text": [
      "True\n",
      "True\n",
      "False\n",
      "False\n",
      "False\n"
     ]
    }
   ],
   "source": [
    "# SÖZLÜKLERDE OLDUĞU GİBİ İN VE NOT İN KULLANABİLİRİZ\n",
    "\n",
    "print('a' in a)\n",
    "print('k' in a)\n",
    "print('a' not in a)\n",
    "print('k' not in a)\n",
    "print('y' in a)"
   ]
  },
  {
   "cell_type": "code",
   "execution_count": null,
   "id": "fbdf0639",
   "metadata": {},
   "outputs": [],
   "source": [
    "the end :) "
   ]
  },
  {
   "cell_type": "code",
   "execution_count": null,
   "id": "07b092e0",
   "metadata": {},
   "outputs": [],
   "source": []
  },
  {
   "cell_type": "code",
   "execution_count": null,
   "id": "0a00a86f",
   "metadata": {},
   "outputs": [],
   "source": []
  }
 ],
 "metadata": {
  "kernelspec": {
   "display_name": "Python 3 (ipykernel)",
   "language": "python",
   "name": "python3"
  },
  "language_info": {
   "codemirror_mode": {
    "name": "ipython",
    "version": 3
   },
   "file_extension": ".py",
   "mimetype": "text/x-python",
   "name": "python",
   "nbconvert_exporter": "python",
   "pygments_lexer": "ipython3",
   "version": "3.10.4"
  }
 },
 "nbformat": 4,
 "nbformat_minor": 5
}
