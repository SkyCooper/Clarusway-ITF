{
 "cells": [
  {
   "cell_type": "code",
   "execution_count": null,
   "id": "e5c58dc4",
   "metadata": {},
   "outputs": [],
   "source": [
    "%70-80 package yani modullerle iş yapılacak.\n",
    "script.py\n",
    "module.py\n",
    "python dosyası demek dosya.py uzantılı dosya demektir.\n",
    "*** txt dosyası açtık; içerisini bir fonk. yazdık ve çalıştırdık.\n",
    "sonra bu txt dosyasını silip .py dosyası yaptık. Bunu vs code da çalıştırabiliriz.\n",
    "jupyterin mantığı her bir satırı bir py dosyası gibi değerlendiriyor.\n",
    "***aşağıdaki örnekte görüleceği gibi jupyter deki her bir hücre yani her bir satır bir py dosyası gibi görev yapıyor.\n",
    "jupyterde ki her bir satır müstakil bir py dosyası gibidir. mütakil, müstakil saklanır, kaydedilir ve çalıştırılır.\n",
    "jupyterin mantığı py dosyalarını hücre hücre alt alta çalıştıran bir yapıdır.\n",
    "yani bir sürü py dosyasında çalışıyormuşuz gibi oluyor. Uzun uzun py dosyalarının jupyter de karşılığı bir satır yani\n",
    "bir hücredir.\n",
    "def kaeral ın yazıldığı satır bir py dosyası gibi görev yapmış oldu.\n",
    "*** işte bu uzun; içerisinde kod blokları olan, değişkenler olan py dosyalarına biz script veya module diyoruz.\n",
    "EĞER O PY DOSYASINI İMPORT EDİP KULLANIYORSAK ----> MODULE OLARAK ADLANDIRIYORUZ\n",
    "PYTHON KODLARINA SCRİPT DİYORUZ. İMPORT EDİP KULLANINCA DA MODULE OLUYOR.\n",
    "SCRİPT = python yazısı, python syntax \n",
    "her module bir scripttir aslında.\n",
    "***package nedir? klasör içinde klasör demektir. klasörlerin içindede py dosyaları vardır. \n",
    "py dosyalarının old. kısma ---> sub package diyoruz (alt package)\n",
    "dıştaki klasöre ise ---> package diyoruz.\n",
    "en sonda da moduleler yani python dosyaları var.\n",
    "modullerde yani python dosyalarında ise fonk ve değişkenler olabilir."
   ]
  },
  {
   "cell_type": "code",
   "execution_count": null,
   "id": "bfc900f6",
   "metadata": {},
   "outputs": [],
   "source": [
    "def kareal(g):\n",
    "    return g*g\n",
    "print(kareal(3))"
   ]
  },
  {
   "cell_type": "code",
   "execution_count": null,
   "id": "38d414f4",
   "metadata": {},
   "outputs": [],
   "source": [
    "import math\n",
    "def kareal(g):\n",
    "    return g*g\n",
    "print(kareal(3))"
   ]
  },
  {
   "cell_type": "markdown",
   "id": "ddf8b311",
   "metadata": {},
   "source": [
    "math modulü; py uzantılı bir dosya olması gerekiyor ama değil. Built in moduldür; Tüm moduller pythonun c diliyle yazıldığı için tüm moduller py dosyası değil çoğu modul c dosyası.\n",
    "math module source code ---> yazıp baktığımızda güncel olan her şeyi görebiliriz.\n",
    "math modulü c dosyası. Bütün built in lerde c değil. Ama şuan python geliştiriciler python u kendi diliyle geliştiriyorlar.\n",
    "\n",
    "cpython/Modules/mathmodule.c --->burada arkada çalışan virtual machinge dir. py ile yazılmış module lerde vardır.\n",
    "c de kendinden önceki dillerle yazılmıştır."
   ]
  },
  {
   "cell_type": "code",
   "execution_count": null,
   "id": "318f93f6",
   "metadata": {},
   "outputs": [],
   "source": [
    "If you open and use this file (with a.py extension) directly, that is script, \n",
    "and\n",
    "If you load (import) this file (with a.py extension) and call any function from it, that's a module this time. \n",
    "\n",
    "Bu dosyayı (a.py uzantılı) doğrudan açar ve kullanırsanız, bu komut dosyasıdır,\n",
    "ve\n",
    "Bu dosyayı (a.py uzantılı) yükler (içe aktarır) ve ondan herhangi bir işlevi çağırırsanız, bu sefer bu bir modül."
   ]
  },
  {
   "cell_type": "code",
   "execution_count": null,
   "id": "79a8ad6a",
   "metadata": {},
   "outputs": [],
   "source": [
    "import my_module as mym #loads my_module, we give a nickname to it \n",
    "mym.my_function() # we can use it the same way\n",
    "print(mym.my_variable)"
   ]
  },
  {
   "cell_type": "code",
   "execution_count": null,
   "id": "672f0312",
   "metadata": {},
   "outputs": [],
   "source": [
    "bir module ün yüklenebilmesi için öncelikle install edilmesi lazım. ama built in module ler yani (math, string, traceback etc)\n",
    "bunlar python ı install edince kendiliğinden aktif olan module ler. python, jupytr, anakonda vb. için geçerli.\n",
    "yukarıdaki örnekteki my_module bir py dosyasıdır\n",
    "dolayısıyla my_module bağlı olan fonk. çağırmak için noktayı kullanıyoruz (mym.fonk ya da mym.değişken)"
   ]
  },
  {
   "cell_type": "markdown",
   "id": "d68e8b6b",
   "metadata": {},
   "source": [
    "# loading a function in a module directly:\n",
    "bir işlevi doğrudan bir modüle yüklemek:"
   ]
  },
  {
   "cell_type": "code",
   "execution_count": null,
   "id": "78f354bd",
   "metadata": {},
   "outputs": [],
   "source": [
    "from my_module import my_function as mfnc #we've imported my_function named\n",
    "     mfnc\n",
    "mfnc()  # we use the my_function's alias directly"
   ]
  },
  {
   "cell_type": "markdown",
   "id": "e22b0861",
   "metadata": {},
   "source": [
    "# loading more than one module:\n",
    "    \n",
    "birden fazla modül yükleme:\n",
    "    "
   ]
  },
  {
   "cell_type": "code",
   "execution_count": null,
   "id": "38bd863b",
   "metadata": {},
   "outputs": [],
   "source": [
    "import module_1\n",
    "import module_2\n",
    "import module_3\n",
    "\n",
    "# the code stream of the current module starts here"
   ]
  },
  {
   "cell_type": "markdown",
   "id": "c91fa3b5",
   "metadata": {},
   "source": [
    "built-in Modules leri offical dokumanların old.yerden bak."
   ]
  },
  {
   "cell_type": "code",
   "execution_count": null,
   "id": "0b6130b7",
   "metadata": {},
   "outputs": [],
   "source": [
    "pwd"
   ]
  },
  {
   "cell_type": "code",
   "execution_count": null,
   "id": "b6d96fd4",
   "metadata": {},
   "outputs": [],
   "source": [
    "import math"
   ]
  },
  {
   "cell_type": "code",
   "execution_count": null,
   "id": "ec4e8122",
   "metadata": {},
   "outputs": [],
   "source": [
    "print(dir(math)) # çizgi ile olanlar sistem dosyaları diğerleri fonk."
   ]
  },
  {
   "cell_type": "code",
   "execution_count": null,
   "id": "19a2e63a",
   "metadata": {},
   "outputs": [],
   "source": [
    "print(math.__spec__)"
   ]
  },
  {
   "cell_type": "markdown",
   "id": "ecbe433d",
   "metadata": {},
   "source": [
    "pi, fac ve log 10 fonk. kullanalım."
   ]
  },
  {
   "cell_type": "code",
   "execution_count": null,
   "id": "f8fbf69c",
   "metadata": {},
   "outputs": [],
   "source": [
    "from math import pi\n",
    "from math import log10\n",
    "from math import factorial"
   ]
  },
  {
   "cell_type": "code",
   "execution_count": null,
   "id": "0f7e89b6",
   "metadata": {},
   "outputs": [],
   "source": [
    "pi"
   ]
  },
  {
   "cell_type": "code",
   "execution_count": null,
   "id": "e67539bc",
   "metadata": {},
   "outputs": [],
   "source": [
    "log10(111110)"
   ]
  },
  {
   "cell_type": "code",
   "execution_count": null,
   "id": "54d6e312",
   "metadata": {},
   "outputs": [],
   "source": [
    "factorial(4)"
   ]
  },
  {
   "cell_type": "code",
   "execution_count": null,
   "id": "b2adb227",
   "metadata": {},
   "outputs": [],
   "source": [
    "math. (math yanına gel sft + tab tab)\n",
    "Type:        module\n",
    "String form: <module 'math' (built-in)>\n",
    "Docstring:  \n",
    "This module provides access to the mathematical functions\n",
    "defined by the C standard."
   ]
  },
  {
   "cell_type": "markdown",
   "id": "70ac7607",
   "metadata": {},
   "source": [
    "* ile import etme; çünkü örnek pi adında bir daha önceden bir değişken tanımladıysak eğer math i tamamen import edince ondanda bir pi geleceği için karışıklık olabilir. ihtiyacın kadarı import ederek ilerle."
   ]
  },
  {
   "cell_type": "code",
   "execution_count": null,
   "id": "12df00f8",
   "metadata": {},
   "outputs": [],
   "source": [
    "pi = \"ali, veli, deli\""
   ]
  },
  {
   "cell_type": "code",
   "execution_count": null,
   "id": "3f2acfab",
   "metadata": {},
   "outputs": [],
   "source": [
    "pi #yukardada tanımladığımız için en son tanımlananı aldı. Öncekini yok saydı. bu nedenle  * ile import etme."
   ]
  },
  {
   "cell_type": "code",
   "execution_count": null,
   "id": "179c2621",
   "metadata": {},
   "outputs": [],
   "source": [
    "# fac. sorusu\n",
    "# mesela 5 fac. geri geri geldiğine göre bir range fonk.kullanmamız lazım."
   ]
  },
  {
   "cell_type": "code",
   "execution_count": null,
   "id": "ece4e7f7",
   "metadata": {},
   "outputs": [],
   "source": [
    "sonuç = 1\n",
    "for i in range(1, 6): # 1 den başla 5 kadar iterate et. burada bir sayaç yapıp ön değer atamamız lazım. her defasında bir önceki \n",
    "                        # çarpma yapacağız (5! = 5.4.3.2.1) ---> sonuçx1, sonuçx2, sonuçx3, sonuçx4, sonuçx5 gibi.\n",
    "                        # burada ön  değere sıfır veremeyiz yutan eleman o yüzden ön değeri 1 olarak atayalım.\n",
    "    sonuç *= i       # --> i burada 1 den başlayıp 5 dahil değerler alacak ve her defasında değişen sonuç değ. ile çarpılacak.\n",
    "                    # sonuç = 1 öndeğer atayalım, artık sonuç *= 1\n",
    "                    # i' nin i = 1 değ. için  --->  1 *= 1  sonuç yine 1\n",
    "                    # i' nin i = 2 değ. için ----> 1 *= 2 ---> 2\n",
    "                    # i ' nin i = 3 değ. için ---> 2 *= 3 ---> 6\n",
    "                    # i'nin i = 4 değ. için ---> 6 *= 4 --> 24\n",
    "                    # i'nin i = 5 değ. için ---> 24 *= 5 ---> 120 olur.  (aşağıdaki gibi)"
   ]
  },
  {
   "cell_type": "code",
   "execution_count": null,
   "id": "5e75dcc8",
   "metadata": {},
   "outputs": [],
   "source": [
    "sonuç = 1\n",
    "for i in range (1, 6):\n",
    "    sonuç *= i\n",
    "    print(sonuç) # aşama aşama \n",
    "\n",
    "print(sonuç) # ---> toplamı "
   ]
  },
  {
   "cell_type": "code",
   "execution_count": null,
   "id": "c81fba78",
   "metadata": {},
   "outputs": [],
   "source": [
    "def my_factorial(n):\n",
    "    sonuç = 1\n",
    "    for i in range (1, n+1):  # kullanıcının gireceği değ. 1 fazlası olacak şek. ve kullanıcının - bir sayı girmediği farzettik.\n",
    "        sonuç *= i\n",
    "    \n",
    "    if n == 0 or n == 1:\n",
    "        return 1\n",
    "    \n",
    "    else:\n",
    "        return sonuç "
   ]
  },
  {
   "cell_type": "code",
   "execution_count": null,
   "id": "d02f2367",
   "metadata": {},
   "outputs": [],
   "source": [
    "my_factorial(5)"
   ]
  },
  {
   "cell_type": "code",
   "execution_count": null,
   "id": "99dcdba7",
   "metadata": {},
   "outputs": [],
   "source": [
    "# returnjın mantığı \n",
    "def my_fact(n) :  \n",
    "   if n == 0 or n == 1 :  \n",
    "       return 1  \n",
    "   else:\n",
    "        return n * my_fact(n-1)"
   ]
  },
  {
   "cell_type": "code",
   "execution_count": null,
   "id": "8c3cf966",
   "metadata": {},
   "outputs": [],
   "source": [
    "def my_facto(n):\n",
    "    if n == 1 or n == 0:\n",
    "        return 1\n",
    "    else:\n",
    "        return n * my_facto(n-1)  # ---> fonk.kendi içinde çağırdık, for a bile gerek kalmadı. returjınla bir koşul yani\n",
    "    #if li yapı ile kullanıyor; if li yapı kullanılmazsa istenilen sonucu vermeyebilir. returnjın DÖNGÜLERDEN DAHA HIZLIDIR.\n",
    "#buradaki my_facto fonk. kendi içinde çağırma işine returnjın mantığı deniyor\n",
    "# yani fonk.içinde fonk. çağırma işine -->returnjın deniyor.\n",
    "# mesela 5 ! = 5.4! --> 5! = 5.4.3! dir yani 5! = 5.4.3.2! dir. birer azaltarak çağırırsak aynı sonuca ulaşırız.\n",
    "# buradaki my_facto(n) --> içindeki n her defasında bir azalıyor, burada bir eksiği ile işlem yapabiliriz.\n",
    "# bu returnjın haddizatında bir döngü üretiyor yani for a gerek kalmadan çoğu zaman bir if li yapı içerisinde kullanılır. \n",
    "# yani biz --- return n * my_facto(n-1) --- bunu yaparak fonk.içinde fonk.çağırmış olduk."
   ]
  },
  {
   "cell_type": "code",
   "execution_count": null,
   "id": "ca179794",
   "metadata": {},
   "outputs": [],
   "source": [
    "my_facto(5)"
   ]
  },
  {
   "cell_type": "code",
   "execution_count": null,
   "id": "051446ac",
   "metadata": {},
   "outputs": [],
   "source": [
    "def my_factori(n):\n",
    "    return n * my_factori(n-1)  # burada if yapısı girmeden bu şekilde kullanırsak n == 1 gibi bir koşulla durdurmazsak\n",
    "# sonsuz döngüye girer."
   ]
  },
  {
   "cell_type": "code",
   "execution_count": null,
   "id": "4eddcb21",
   "metadata": {},
   "outputs": [],
   "source": [
    "# ÇALIŞTIRMAA !!!\n",
    "my_factori(5)"
   ]
  },
  {
   "cell_type": "code",
   "execution_count": null,
   "id": "5017d5f6",
   "metadata": {},
   "outputs": [],
   "source": [
    "#bu şekilde sadece ihtiyacımız olanları çağırdık.\n",
    "from math import pi\n",
    "from math import factorial\n",
    "from math import log10"
   ]
  },
  {
   "cell_type": "code",
   "execution_count": null,
   "id": "2358de1c",
   "metadata": {},
   "outputs": [],
   "source": [
    "print(pi)\n",
    "print(factorial(4))\n",
    "print(log10(100))"
   ]
  },
  {
   "cell_type": "code",
   "execution_count": null,
   "id": "b5c74023",
   "metadata": {},
   "outputs": [],
   "source": [
    "pi"
   ]
  },
  {
   "cell_type": "code",
   "execution_count": null,
   "id": "45ea574d",
   "metadata": {},
   "outputs": [],
   "source": [
    "factorial(4)"
   ]
  },
  {
   "cell_type": "code",
   "execution_count": null,
   "id": "689ef8b1",
   "metadata": {},
   "outputs": [],
   "source": [
    "log10(100)"
   ]
  },
  {
   "cell_type": "markdown",
   "id": "8d8033a6",
   "metadata": {},
   "source": [
    "# soru string adındaki modulü indirin, punctuation and digits fonk. kullanalım.\n",
    "print the all punctuation marks and digits chars using these functions."
   ]
  },
  {
   "cell_type": "code",
   "execution_count": null,
   "id": "7cb7836f",
   "metadata": {},
   "outputs": [],
   "source": [
    "import string as stg  # alyas kullanarak string modulünü import ettik."
   ]
  },
  {
   "cell_type": "code",
   "execution_count": null,
   "id": "8a8dc9d0",
   "metadata": {},
   "outputs": [],
   "source": [
    "print(stg.punctuation) "
   ]
  },
  {
   "cell_type": "code",
   "execution_count": null,
   "id": "6b32cdfb",
   "metadata": {},
   "outputs": [],
   "source": [
    "stg.punctuation # tüm noktalama işaretlerini ihtiva eden bir değişken dir. parantezle çağırmaya gerek yok."
   ]
  },
  {
   "cell_type": "code",
   "execution_count": null,
   "id": "6afc254a",
   "metadata": {},
   "outputs": [],
   "source": [
    "stg.digits # # tüm rakamları ihtiva eden bir değişken dir. parantezle çağırmaya gerek yok."
   ]
  },
  {
   "cell_type": "code",
   "execution_count": null,
   "id": "7b097d20",
   "metadata": {},
   "outputs": [],
   "source": [
    "dir(stg) # string modulü içindekiler. "
   ]
  },
  {
   "cell_type": "markdown",
   "id": "4ef32728",
   "metadata": {},
   "source": [
    "# lets import today function from date objecet and now function from datetime object all fram datetime object all from datetime module,\n",
    "# print the current date (yyyy-mm-dd) and time using these functions"
   ]
  },
  {
   "cell_type": "code",
   "execution_count": null,
   "id": "69f40a57",
   "metadata": {},
   "outputs": [],
   "source": [
    "import datetime"
   ]
  },
  {
   "cell_type": "code",
   "execution_count": null,
   "id": "54046af4",
   "metadata": {},
   "outputs": [],
   "source": [
    "datetime.sys  # içindekileri görmek için direkt tab tuşuna bas. datetime. içindekiler( date, datetime, sys, time, timedelta etc...)"
   ]
  },
  {
   "cell_type": "code",
   "execution_count": null,
   "id": "85844021",
   "metadata": {},
   "outputs": [],
   "source": [
    "datetime.timezone"
   ]
  },
  {
   "cell_type": "code",
   "execution_count": null,
   "id": "6144403b",
   "metadata": {},
   "outputs": [],
   "source": [
    "# shift tab tab yapınca çıkan açıklama.\n",
    "Type:        module\n",
    "String form: <module 'datetime' from 'C:\\\\Users\\\\ASUS\\\\AppData\\\\Local\\\\Programs\\\\Python\\\\Python310\\\\lib\\\\datetime.py'>\n",
    "File:        c:\\users\\asus\\appdata\\local\\programs\\python\\python310\\lib\\datetime.py\n",
    "Docstring:   Fast implementation of the datetime type."
   ]
  },
  {
   "cell_type": "code",
   "execution_count": null,
   "id": "d4920ae2",
   "metadata": {},
   "outputs": [],
   "source": [
    "datetime.date.today()             #datetime içinde date i aldık, date içindende today ı aldı. (yanına gel nokta koy, tab a bas)"
   ]
  },
  {
   "cell_type": "code",
   "execution_count": null,
   "id": "c1e1e320",
   "metadata": {},
   "outputs": [],
   "source": [
    "print(datetime.date.today())"
   ]
  },
  {
   "cell_type": "code",
   "execution_count": null,
   "id": "950f66fb",
   "metadata": {},
   "outputs": [],
   "source": [
    "print(datetime.datetime.now()) "
   ]
  },
  {
   "cell_type": "code",
   "execution_count": null,
   "id": "f31e32a6",
   "metadata": {},
   "outputs": [],
   "source": [
    "import datetime                          #tamamını aynı satırda çağırıp alt satırda ise bir işlevini kullanabiliriz.\n",
    "print(datetime.datetime.now())"
   ]
  },
  {
   "cell_type": "code",
   "execution_count": null,
   "id": "d46a9c2f",
   "metadata": {},
   "outputs": [],
   "source": [
    "import datetime as dt                  # alyas kullanabiliriz\n",
    "print(dt.datetime.now())"
   ]
  },
  {
   "cell_type": "code",
   "execution_count": null,
   "id": "2443864d",
   "metadata": {},
   "outputs": [],
   "source": [
    "datetime.datetime.now()           # değişken değil bu yüzden print ile kullanmak zorundayız."
   ]
  },
  {
   "cell_type": "code",
   "execution_count": null,
   "id": "c73b3885",
   "metadata": {},
   "outputs": [],
   "source": [
    "import datetime, time\n",
    "print(datetime.date(632,6,8)-datetime.date(571,4,22))"
   ]
  },
  {
   "cell_type": "code",
   "execution_count": null,
   "id": "f88d8ad1",
   "metadata": {},
   "outputs": [],
   "source": [
    "import datetime, time                                      #kaç gün yaşadım.\n",
    "print(datetime.date.today()-datetime.date(1984,5,1))"
   ]
  },
  {
   "cell_type": "markdown",
   "id": "f2b9390f",
   "metadata": {},
   "source": [
    "#  to ordinal nedir?  nerede var?\n",
    "to ordinal date objectinin üretmiş old. tarih bilgisini ordinal formata çevirir.\n",
    "ordinal format; hz. İsanın doğumunu milat kabul ettiğimizde her bir günü kümülatif olarak arttırıyor.\n",
    "toordinal fonk. içine date objectini koyunca --- (toordinal(date)) --- bize 0 dan itibaren yani başlangıctan itiraber olan gün sayısını veriyor. \n",
    "buradaki \n",
    "* ölüm tarihini baz alarak bir ordinal değer üretsek (yani 10000 i baz alsak)\n",
    "* milat ile doğum arası içinde bir ordinal değer üretsek. toplam ile bunun farkı bize yaşanılan gün sayısını verir.\n",
    "* ölümden doğumu çıkaracağız.\n",
    "\n",
    "      ----------10000---------\n",
    "     |------------|-----------|\n",
    "milat(0)        doğum        ölüm\n",
    "\n"
   ]
  },
  {
   "cell_type": "code",
   "execution_count": null,
   "id": "8a135070",
   "metadata": {},
   "outputs": [],
   "source": [
    "from datetime import date"
   ]
  },
  {
   "cell_type": "code",
   "execution_count": null,
   "id": "06e96d38",
   "metadata": {},
   "outputs": [],
   "source": [
    "# date in içinde from ordinal, date ordinal var.\n",
    "date(571,4,22)"
   ]
  },
  {
   "cell_type": "code",
   "execution_count": null,
   "id": "d90caf3a",
   "metadata": {},
   "outputs": [],
   "source": [
    "date(632,6,22)"
   ]
  },
  {
   "cell_type": "code",
   "execution_count": null,
   "id": "208fcc17",
   "metadata": {},
   "outputs": [],
   "source": [
    "birth = date(571, 4, 22) #date objecti\n",
    "death = date(632, 6, 8) # date objecti\n",
    "death - birth"
   ]
  },
  {
   "cell_type": "code",
   "execution_count": null,
   "id": "6bb5c014",
   "metadata": {},
   "outputs": [],
   "source": [
    "life_day = date.toordinal(death) -date.toordinal(birth)  # ---> toordinali kullanarak ölümü ve doğumu integer a çevirdik.\n",
    "\n",
    "# toordinal date objectini İNTEGER a çeviriyor. Bunu yaparken miladı baz alarak yapıyor."
   ]
  },
  {
   "cell_type": "code",
   "execution_count": null,
   "id": "5b074511",
   "metadata": {},
   "outputs": [],
   "source": [
    "life_day"
   ]
  },
  {
   "cell_type": "markdown",
   "id": "87e48bd4",
   "metadata": {},
   "source": [
    "# QUESTİON; random is module that contains functions that allow us to select randomly from various data types.\n",
    "## task;\n",
    "# let's import choice function from random module,\n",
    "# print one of the element of the following list randomly.\n",
    " \n",
    "SORU; RANDOM, çeşitli veri türleri arasından RANDOM seçim yapmamızı sağlayan işlevleri içeren modüldür.\n",
    "\n",
    "RANDOM modülden CHOİCE fonksiyonunu içe aktaralım,\n",
    "\n",
    "aşağıdaki listenin öğelerinden birini rastgele yazdır."
   ]
  },
  {
   "cell_type": "code",
   "execution_count": null,
   "id": "cb18eb6d",
   "metadata": {},
   "outputs": [],
   "source": [
    "from random import choice        # sadece choice import ettik(RANDOM RASTGELE SEÇİM YAPAR.)"
   ]
  },
  {
   "cell_type": "code",
   "execution_count": null,
   "id": "387e1e82",
   "metadata": {},
   "outputs": [],
   "source": [
    "city = ['stockholm', 'Istanbul', 'Seul', 'cape town']\n",
    "print(choice(city))"
   ]
  },
  {
   "cell_type": "code",
   "execution_count": null,
   "id": "0604033a",
   "metadata": {},
   "outputs": [],
   "source": [
    "city = ['stockholm', 'Istanbul', 'Seul', 'cape town']\n",
    "choice(city)"
   ]
  },
  {
   "cell_type": "code",
   "execution_count": null,
   "id": "237261f8",
   "metadata": {},
   "outputs": [],
   "source": [
    "print(choice([\"stockholm\", \"istanbul\", \"seul\", \"cape town\"]))"
   ]
  },
  {
   "cell_type": "code",
   "execution_count": null,
   "id": "186f9a46",
   "metadata": {},
   "outputs": [],
   "source": [
    "print(choice(city))"
   ]
  },
  {
   "cell_type": "code",
   "execution_count": null,
   "id": "e45b9afb",
   "metadata": {},
   "outputs": [],
   "source": [
    "import random  #tamamını import ettik"
   ]
  },
  {
   "cell_type": "code",
   "execution_count": null,
   "id": "f18334ff",
   "metadata": {},
   "outputs": [],
   "source": [
    "random.choice(city)"
   ]
  },
  {
   "cell_type": "code",
   "execution_count": null,
   "id": "08af5a14",
   "metadata": {},
   "outputs": [],
   "source": [
    "pip --version"
   ]
  },
  {
   "cell_type": "code",
   "execution_count": null,
   "id": "fe9995b6",
   "metadata": {},
   "outputs": [],
   "source": [
    "pip install my_package==3.2.1"
   ]
  },
  {
   "cell_type": "code",
   "execution_count": null,
   "id": "7901cac7",
   "metadata": {},
   "outputs": [],
   "source": [
    "pip install python==3.8.1"
   ]
  },
  {
   "cell_type": "code",
   "execution_count": null,
   "id": "566999bd",
   "metadata": {},
   "outputs": [],
   "source": [
    "import numpy"
   ]
  },
  {
   "cell_type": "code",
   "execution_count": null,
   "id": "7599a12f",
   "metadata": {},
   "outputs": [],
   "source": [
    "pip install numpy "
   ]
  },
  {
   "cell_type": "code",
   "execution_count": null,
   "id": "0eae976f",
   "metadata": {},
   "outputs": [],
   "source": [
    "pip list  # varolan kütüphaneleri getirir."
   ]
  },
  {
   "cell_type": "code",
   "execution_count": null,
   "id": "84673947",
   "metadata": {},
   "outputs": [],
   "source": [
    "pip uninstall my_package == 3.2.1"
   ]
  },
  {
   "cell_type": "code",
   "execution_count": null,
   "id": "1fb0aa2c",
   "metadata": {},
   "outputs": [],
   "source": [
    "pip list # dediğimizde listede pip de vardır, yani pip dediğimizde bir package dır."
   ]
  },
  {
   "cell_type": "code",
   "execution_count": null,
   "id": "623d60a2",
   "metadata": {},
   "outputs": [],
   "source": [
    "pip show numpy  # herhangi bir module özelliklerini ekranda sergilemek için pip show numpy diyoruz.\n",
    "                # pip show kütüphane ismi"
   ]
  },
  {
   "cell_type": "code",
   "execution_count": null,
   "id": "9041d8fd",
   "metadata": {},
   "outputs": [],
   "source": [
    "pip uninstall my_package #  diyerek indirdiğimizi tekar uninstall yapabiliriz."
   ]
  },
  {
   "cell_type": "code",
   "execution_count": null,
   "id": "15ae979c",
   "metadata": {},
   "outputs": [],
   "source": [
    "PROGRAM EXECUTİON;\n",
    "1) Introduction;\n",
    "yazılan kodlar arka planda nasıl çalışır ? \n",
    "python kendi içerisinde compay edilen interpretation package yani arkada virtual machine var arkada oda assembly makine diline \n",
    "çevirip kullanıyor.\n",
    "pythonu nerelerde çalıştırırız, editörlerden bazıları;\n",
    "* python shell --> official sitesinden indirip çalıştıralabilir. (editör)\n",
    "* OS Console (terinalde de çalışır.)  ---> % nin yanına python yazıp enter yapınca python editörüne dönüşür, kod yazılabilir.\n",
    "* IDE s  ---> vs code da python yazıp çalıştırabiliriz."
   ]
  },
  {
   "cell_type": "code",
   "execution_count": null,
   "id": "88eb1fcd",
   "metadata": {},
   "outputs": [],
   "source": [
    "typed script ---> yazılan python kodlarının yazıldığı bölüm\n",
    "interpretation ---> kodlar sonra buraya geliyor.\n",
    "evertything is done! "
   ]
  },
  {
   "cell_type": "code",
   "execution_count": null,
   "id": "b52cf5b3",
   "metadata": {},
   "outputs": [],
   "source": [
    "İnterpretation ---> python kodlarımızın okunduğu bölümdür. kodlar soldan sağa, yukardan aşağıya doğru okunuyor."
   ]
  },
  {
   "cell_type": "code",
   "execution_count": null,
   "id": "ab6acca2",
   "metadata": {},
   "outputs": [],
   "source": [
    "Python Interpretation da arkada çalışan yorumlayıcılar; \n",
    "CPython.  --> özel bir software dir. \n",
    "IronPython. ---> .NET framework un python yorumlayıcısıdır. (datnet)\n",
    "Jython.  ---> java ile iletişimi sağlıyor, baza java kodları python dosyasında kullanılır.\n",
    "PyPy. ---> cpython un hızlı hali.\n",
    "PythonNet.\n",
    "Stackless Python."
   ]
  },
  {
   "cell_type": "code",
   "execution_count": null,
   "id": "02914de6",
   "metadata": {},
   "outputs": [],
   "source": [
    "interpretation 3 bölümdür;\n",
    "compilation  ---> yazılan code lar compilation edilir ve byte code çevrilir.\n",
    "byte code ---> byte code da virtul machine girdi sağlıyor.\n",
    "virtual machine---> cpython, pypy, ıronpython oluyor.\n",
    "\n",
    "bu virtual machine ---> kod bloklarıdır.\n",
    "byte code la alakalı kodlar dis.py ile yazılmıştır.--> official dokumanlara bak---> disassembler for python bytecode \n",
    "dis.py bir python dosyasıdır; yazılan kodlar için arka planda emirlerle çeviriyor. yani load globalı yükle gibi kodları alt\n",
    "kodlara dönüştürüyor. bu byte code da virtual machine girdi sağlıyor.\n",
    "virtul machine sahada iş yapan ekip gibi düşünülebilir (print(\"hello\")) dediğimiz an bu işlemi ekrana getiren sistem"
   ]
  },
  {
   "cell_type": "markdown",
   "id": "33d59cf2",
   "metadata": {},
   "source": [
    "# bir robota komut vererek robotu x - y düzleminde hareket ettirelim ve son olduğu yeri bulalım;"
   ]
  },
  {
   "cell_type": "code",
   "execution_count": 3,
   "id": "6beb8e62",
   "metadata": {},
   "outputs": [],
   "source": [
    "command = [\"right 20\", 'right 30', 'left 50', 'up 10', 'down 20']  #robot komutlar sonunra -10 da olacak.\n",
    "# [x, y]  \n",
    "# [0, -10]  ---> çözüm bu olacak.\n",
    "# right görünce x e toplayacağız, left görünce x ten çıkaracağız.\n",
    "# up görünce y ye toplayacağız, down görünce de y den çıkaracağız.\n",
    "# iki tane ön değişken tanımlamamız lazım.\n",
    "# x ve y olarak tanımla yapacağız."
   ]
  },
  {
   "cell_type": "code",
   "execution_count": 18,
   "id": "95836b75",
   "metadata": {},
   "outputs": [
    {
     "data": {
      "text/plain": [
       "['right 20', 'right 30', 'left 50', 'up 10', 'down 20']"
      ]
     },
     "execution_count": 18,
     "metadata": {},
     "output_type": "execute_result"
    }
   ],
   "source": [
    "command"
   ]
  },
  {
   "cell_type": "code",
   "execution_count": 19,
   "id": "0d942149",
   "metadata": {},
   "outputs": [],
   "source": [
    "x = y = 0\n",
    "# ön değer atamış olduk bu durumda. ön değer atamazsak sürekli birbiri üzerine ekleyerek devam eder.\n",
    "\n",
    "# \"right 20\"  ---> burada bir str bir integer var.Öyle ayırlamalıyız right deyince bir koşula bağlamalıyız\n",
    "#  right deyince x e toplasın; 20 de integer a çevirsin ve eklesin.\n",
    "# left deyince çıkaracağını anlasın ve right 50 de çıkarsın.\n",
    "# up deyince y ye toplayacağını anlasın 10 u integer a çevirsin ve eklesin\n",
    "# down görünce de y den 20 çıkaracağını anlasın.\n",
    "# split kullanılabilir str ve int. ayırmak için.\n",
    "# startwiht kullanıp true ve false döndürebiliriz."
   ]
  },
  {
   "cell_type": "code",
   "execution_count": 20,
   "id": "0fcd8910",
   "metadata": {},
   "outputs": [
    {
     "data": {
      "text/plain": [
       "['down', '20']"
      ]
     },
     "execution_count": 20,
     "metadata": {},
     "output_type": "execute_result"
    }
   ],
   "source": [
    "# str ile int nasıl ayıracağız. indexleye indexleye ayırmamız lazım.\n",
    "# arada boşluk old. için space den böldü ve listeye attı.\n",
    "command[-1].split()"
   ]
  },
  {
   "cell_type": "code",
   "execution_count": 21,
   "id": "12092e92",
   "metadata": {},
   "outputs": [
    {
     "data": {
      "text/plain": [
       "'down'"
      ]
     },
     "execution_count": 21,
     "metadata": {},
     "output_type": "execute_result"
    }
   ],
   "source": [
    "command[-1].split()[0] # -1.indexsin 0.indexsini almış olduk."
   ]
  },
  {
   "cell_type": "code",
   "execution_count": 22,
   "id": "da11999f",
   "metadata": {},
   "outputs": [
    {
     "data": {
      "text/plain": [
       "'20'"
      ]
     },
     "execution_count": 22,
     "metadata": {},
     "output_type": "execute_result"
    }
   ],
   "source": [
    "command[-1].split()[1]"
   ]
  },
  {
   "cell_type": "markdown",
   "id": "58c1c406",
   "metadata": {},
   "source": [
    "şuana kadar indexleme işlemleri yaptık. bu durumda bizim indexleme numaralarını kullanmamız gerekmektedir.\n",
    "\n",
    "burada for kullandığımızda bizim <br>--i--- <br/> miz tüm elemanları teker teker gezecek."
   ]
  },
  {
   "cell_type": "code",
   "execution_count": 23,
   "id": "ef248b66",
   "metadata": {},
   "outputs": [],
   "source": [
    "command = [\"right 20\", 'right 30', 'left 50', 'up 10', 'down 20']\n",
    "# burada right 20 bir str dir."
   ]
  },
  {
   "cell_type": "code",
   "execution_count": 24,
   "id": "d5109172",
   "metadata": {},
   "outputs": [
    {
     "name": "stdout",
     "output_type": "stream",
     "text": [
      "right 20\n",
      "right 30\n",
      "left 50\n",
      "up 10\n",
      "down 20\n"
     ]
    }
   ],
   "source": [
    "for i in command:  #böylede yapabilirdik.\n",
    "    print(i)"
   ]
  },
  {
   "cell_type": "code",
   "execution_count": 25,
   "id": "c861ff3c",
   "metadata": {},
   "outputs": [
    {
     "data": {
      "text/plain": [
       "range(0, 5)"
      ]
     },
     "execution_count": 25,
     "metadata": {},
     "output_type": "execute_result"
    }
   ],
   "source": [
    "range(len(command))"
   ]
  },
  {
   "cell_type": "code",
   "execution_count": 26,
   "id": "21046d3e",
   "metadata": {},
   "outputs": [
    {
     "name": "stdout",
     "output_type": "stream",
     "text": [
      "0\n",
      "1\n",
      "2\n",
      "3\n",
      "4\n"
     ]
    }
   ],
   "source": [
    "for i  in range(len(command)): # bu commandın uzunluğunu iterate edip iterasyonu indexler üzerinden yapacağız.\n",
    "                                # bu durumda command in eleman sayısı kadar sayı üretir range (0 dan 4  e kadar.)\n",
    "    print(i)"
   ]
  },
  {
   "cell_type": "code",
   "execution_count": 28,
   "id": "a5dd6d57",
   "metadata": {},
   "outputs": [
    {
     "data": {
      "text/plain": [
       "[0, -10]"
      ]
     },
     "execution_count": 28,
     "metadata": {},
     "output_type": "execute_result"
    }
   ],
   "source": [
    "x = y = 0\n",
    "command = [\"right 20\", 'right 30', 'left 50', 'up 10', 'down 20']\n",
    "for i in range(len(command)) :\n",
    "    if command[i].startswith(\"r\") : x = x + int(command[i].split()[1])\n",
    "    elif command[i].startswith(\"l\") : x = x - int(command[i].split()[1]) \n",
    "    elif command[i].startswith(\"u\") : y = y + int(command[i].split()[1])\n",
    "    elif command[i].startswith(\"d\") : y = y - int(command[i].split()[1])\n",
    "        \n",
    "[x ,y]"
   ]
  },
  {
   "cell_type": "code",
   "execution_count": 31,
   "id": "29cacd35",
   "metadata": {},
   "outputs": [],
   "source": [
    "command = [\"right 20\", 'right 30', 'left 50', 'up 10', 'down 20']"
   ]
  },
  {
   "cell_type": "code",
   "execution_count": 38,
   "id": "97ea6111",
   "metadata": {},
   "outputs": [
    {
     "name": "stdout",
     "output_type": "stream",
     "text": [
      "10 10\n"
     ]
    }
   ],
   "source": [
    "x = y = 0\n",
    "for i in command:\n",
    "    if i.startswith('r'):\n",
    "        x += int(i.split()[1])\n",
    "    elif i.startswith('l'):\n",
    "        x -= int(i.split()[1])\n",
    "    elif i.startswith('u'):\n",
    "        y += int(i.split()[1])\n",
    "    else:\n",
    "        y -= int(i.split()[1])\n",
    "else:\n",
    "    print(x, y)     "
   ]
  },
  {
   "cell_type": "code",
   "execution_count": 42,
   "id": "9800c126",
   "metadata": {},
   "outputs": [
    {
     "data": {
      "text/plain": [
       "(10, 10)"
      ]
     },
     "execution_count": 42,
     "metadata": {},
     "output_type": "execute_result"
    }
   ],
   "source": [
    "command = ['right 50', 'left 40', 'up 30', 'down 20']\n",
    "x = y = 0\n",
    "for i in command:\n",
    "    if i.startswith('r'):\n",
    "        x += int(i.split()[1])\n",
    "    elif i.startswith('l'):\n",
    "        x -= int(i.split()[1])\n",
    "    elif i.startswith('u'):\n",
    "        y += int(i.split()[1])\n",
    "    else:\n",
    "        y -= int(i.split()[1])\n",
    "else:\n",
    "    sonuç = (x, y)\n",
    "sonuç\n"
   ]
  },
  {
   "cell_type": "code",
   "execution_count": 37,
   "id": "e7d5735f",
   "metadata": {},
   "outputs": [
    {
     "name": "stdout",
     "output_type": "stream",
     "text": [
      "X = 10  Y = 10\n"
     ]
    }
   ],
   "source": [
    "commands = [\"R 50\" ,\"L 40\" ,\"U 30\",\"D 20\"]\n",
    "x = y = 0\n",
    "for i in range(0,len(commands)):\n",
    "  yön = commands[i].split()[0]\n",
    "  miktar = int(commands[i].split()[1])\n",
    "  #print(yön,miktar)\n",
    "  if yön == \"R\":\n",
    "    x += miktar\n",
    "  elif yön == \"L\":   \n",
    "    x -= miktar\n",
    "  elif yön ==\"U\":\n",
    "    y += miktar    \n",
    "  elif yön ==\"D\":\n",
    "    y -= miktar \n",
    "  else:\n",
    "    print(\"yanlış yön\") \n",
    "\n",
    "print(\"X = {}  Y = {}\".format(x,y))"
   ]
  },
  {
   "cell_type": "markdown",
   "id": "e6407d7b",
   "metadata": {},
   "source": [
    "# building a Calculator using dict with lambda Expression"
   ]
  },
  {
   "cell_type": "code",
   "execution_count": null,
   "id": "a2f84d08",
   "metadata": {},
   "outputs": [],
   "source": [
    "calculataor[\"+\"](4, 5) --> 9  # \"+\" key ini indexleyince value ları getirir."
   ]
  },
  {
   "cell_type": "code",
   "execution_count": 44,
   "id": "ea50dc60",
   "metadata": {},
   "outputs": [
    {
     "data": {
      "text/plain": [
       "9"
      ]
     },
     "execution_count": 44,
     "metadata": {},
     "output_type": "execute_result"
    }
   ],
   "source": [
    "(lambda x, y : x + y)(4, 5)  #lambdalarda değer atama bu şekildeydi"
   ]
  },
  {
   "cell_type": "code",
   "execution_count": 47,
   "id": "fd2a68b4",
   "metadata": {},
   "outputs": [],
   "source": [
    "#sözlüklere bakalım.\n",
    "\n",
    "sözlük = {\"bir\" : 44,\n",
    "         \"iki\": [\"ali\", \"veli\", \"deli\"],\n",
    "         \"üç\": lambda x, y : x + y}"
   ]
  },
  {
   "cell_type": "code",
   "execution_count": 48,
   "id": "932b0b50",
   "metadata": {},
   "outputs": [
    {
     "data": {
      "text/plain": [
       "44"
      ]
     },
     "execution_count": 48,
     "metadata": {},
     "output_type": "execute_result"
    }
   ],
   "source": [
    "sözlük[\"bir\"] # value nun tipi neyse onu döndürür; integersa integer, lambda ise lambda ...."
   ]
  },
  {
   "cell_type": "code",
   "execution_count": 51,
   "id": "0dde7c6d",
   "metadata": {},
   "outputs": [
    {
     "data": {
      "text/plain": [
       "list"
      ]
     },
     "execution_count": 51,
     "metadata": {},
     "output_type": "execute_result"
    }
   ],
   "source": [
    "type(sözlük[\"iki\"])"
   ]
  },
  {
   "cell_type": "code",
   "execution_count": 49,
   "id": "62b1e094",
   "metadata": {},
   "outputs": [
    {
     "data": {
      "text/plain": [
       "<function __main__.<lambda>(x, y)>"
      ]
     },
     "execution_count": 49,
     "metadata": {},
     "output_type": "execute_result"
    }
   ],
   "source": [
    "sözlük[\"üç\"]"
   ]
  },
  {
   "cell_type": "code",
   "execution_count": 50,
   "id": "d3a861b8",
   "metadata": {},
   "outputs": [
    {
     "data": {
      "text/plain": [
       "9"
      ]
     },
     "execution_count": 50,
     "metadata": {},
     "output_type": "execute_result"
    }
   ],
   "source": [
    "sözlük[\"üç\"](4, 5)"
   ]
  },
  {
   "cell_type": "code",
   "execution_count": 53,
   "id": "282bbaac",
   "metadata": {},
   "outputs": [
    {
     "data": {
      "text/plain": [
       "0"
      ]
     },
     "execution_count": 53,
     "metadata": {},
     "output_type": "execute_result"
    }
   ],
   "source": [
    "calculator = {\"+\": lambda x, y: x+y,\n",
    "             \"-\": lambda x, y: x-y, \n",
    "             \"*\": lambda x, y: x*y,\n",
    "             \"/\": lambda x, y: x//y\n",
    "             }\n",
    "calculator[\"+\"](4,5)\n",
    "calculator[\"-\"](4,5)\n",
    "calculator[\"*\"](4,5)\n",
    "calculator[\"/\"](4,5)"
   ]
  },
  {
   "cell_type": "code",
   "execution_count": 54,
   "id": "ba5758ec",
   "metadata": {},
   "outputs": [
    {
     "data": {
      "text/plain": [
       "3"
      ]
     },
     "execution_count": 54,
     "metadata": {},
     "output_type": "execute_result"
    }
   ],
   "source": [
    "calculator[\"/\"](12, 4)"
   ]
  },
  {
   "cell_type": "code",
   "execution_count": 55,
   "id": "4acefd24",
   "metadata": {},
   "outputs": [
    {
     "data": {
      "text/plain": [
       "<function __main__.<lambda>(x, y)>"
      ]
     },
     "execution_count": 55,
     "metadata": {},
     "output_type": "execute_result"
    }
   ],
   "source": [
    "calculator[\"/\"] # bu şekilde çalıştırmak bize lambda object dönüdürür, bunun yanına parentez içinde değer atarsak lambda içine \n",
    "                # değer atamış gibi oluruz aynı şey."
   ]
  },
  {
   "cell_type": "markdown",
   "id": "8b6658a2",
   "metadata": {},
   "source": [
    "# password generator"
   ]
  },
  {
   "cell_type": "code",
   "execution_count": 59,
   "id": "0e80dde0",
   "metadata": {},
   "outputs": [],
   "source": [
    "import random  # rastgele olması lazım. karakter olması lazım. ascii kod lazım.\n",
    "# random da bizim işimize yarayacak; randint(integer üretir), "
   ]
  },
  {
   "cell_type": "code",
   "execution_count": 60,
   "id": "6dbfd49a",
   "metadata": {},
   "outputs": [
    {
     "data": {
      "text/plain": [
       "12"
      ]
     },
     "execution_count": 60,
     "metadata": {},
     "output_type": "execute_result"
    }
   ],
   "source": [
    "random.randint(10, 30)  # integer üretir\n",
    "\n",
    "# RANDİNT İÇERİĞİ \n",
    "# Signature: random.randint(a, b)\n",
    "# Docstring:\n",
    "# Return random integer in range [a, b], including both end points.\n",
    "        \n",
    "# File:      c:\\users\\asus\\appdata\\local\\programs\\python\\python310\\lib\\random.py\n",
    "# Type:      method"
   ]
  },
  {
   "cell_type": "code",
   "execution_count": 61,
   "id": "c0c8dc8f",
   "metadata": {},
   "outputs": [
    {
     "data": {
      "text/plain": [
       "'o'"
      ]
     },
     "execution_count": 61,
     "metadata": {},
     "output_type": "execute_result"
    }
   ],
   "source": [
    "chr(111) # içine integer alır. bunu randint içinde kullanabiliriz bu durumda."
   ]
  },
  {
   "cell_type": "code",
   "execution_count": 62,
   "id": "f9485d03",
   "metadata": {},
   "outputs": [
    {
     "data": {
      "text/plain": [
       "'w'"
      ]
     },
     "execution_count": 62,
     "metadata": {},
     "output_type": "execute_result"
    }
   ],
   "source": [
    "chr(random.randint(97, 122)) # küçük harfler"
   ]
  },
  {
   "cell_type": "code",
   "execution_count": 63,
   "id": "1f4c0f5f",
   "metadata": {},
   "outputs": [
    {
     "data": {
      "text/plain": [
       "'M'"
      ]
     },
     "execution_count": 63,
     "metadata": {},
     "output_type": "execute_result"
    }
   ],
   "source": [
    "chr(random.randint(65, 90)) # büyük harfler"
   ]
  },
  {
   "cell_type": "code",
   "execution_count": 64,
   "id": "e19707ad",
   "metadata": {},
   "outputs": [
    {
     "data": {
      "text/plain": [
       "'1'"
      ]
     },
     "execution_count": 64,
     "metadata": {},
     "output_type": "execute_result"
    }
   ],
   "source": [
    "chr(random.randint(48, 57)) # sayılar"
   ]
  },
  {
   "cell_type": "code",
   "execution_count": 65,
   "id": "1b734338",
   "metadata": {},
   "outputs": [
    {
     "data": {
      "text/plain": [
       "\"'\""
      ]
     },
     "execution_count": 65,
     "metadata": {},
     "output_type": "execute_result"
    }
   ],
   "source": [
    "chr(random.randint(33, 47)) # özelkarakter"
   ]
  },
  {
   "cell_type": "code",
   "execution_count": 67,
   "id": "f4e93ea4",
   "metadata": {},
   "outputs": [
    {
     "data": {
      "text/plain": [
       "'@'"
      ]
     },
     "execution_count": 67,
     "metadata": {},
     "output_type": "execute_result"
    }
   ],
   "source": [
    "chr(random.randint(58, 64))"
   ]
  },
  {
   "cell_type": "code",
   "execution_count": null,
   "id": "b2541edf",
   "metadata": {},
   "outputs": [],
   "source": [
    "#uppers = [body for i in range(3)]"
   ]
  },
  {
   "cell_type": "code",
   "execution_count": null,
   "id": "2bd16201",
   "metadata": {},
   "outputs": [],
   "source": [
    "#uppers = [BÜYÜK HARFLER for i in range(3)] --->buradaki büyük harflerin yerine alttaki kodu yazıp rastgele 3 harf üretebiliriz\n",
    "                                                buyük harfler = chr(random.randint(65, 90)) # büyük harfler"
   ]
  },
  {
   "cell_type": "code",
   "execution_count": 73,
   "id": "9a38b8b2",
   "metadata": {},
   "outputs": [
    {
     "data": {
      "text/plain": [
       "['F', 'A', 'Y']"
      ]
     },
     "execution_count": 73,
     "metadata": {},
     "output_type": "execute_result"
    }
   ],
   "source": [
    "uppers = [chr(random.randint(65, 90)) for i in range(3)]  # list comp.içinde 3 tane büyük harf üretecek.\n",
    "uppers"
   ]
  },
  {
   "cell_type": "code",
   "execution_count": 74,
   "id": "25e526db",
   "metadata": {},
   "outputs": [
    {
     "data": {
      "text/plain": [
       "['t', 'f', 'r']"
      ]
     },
     "execution_count": 74,
     "metadata": {},
     "output_type": "execute_result"
    }
   ],
   "source": [
    "lowers = [chr(random.randint(97, 122)) for i in range(3)]  # list comp.içinde 3 tane küçük harf üretecek.\n",
    "lowers"
   ]
  },
  {
   "cell_type": "code",
   "execution_count": 76,
   "id": "765fb9bc",
   "metadata": {},
   "outputs": [
    {
     "data": {
      "text/plain": [
       "['1', '6', '7']"
      ]
     },
     "execution_count": 76,
     "metadata": {},
     "output_type": "execute_result"
    }
   ],
   "source": [
    "numbers = [chr(random.randint(48, 57)) for i in range(3)]  # list comp. içinde 3 tane numara ürettik.\n",
    "numbers"
   ]
  },
  {
   "cell_type": "code",
   "execution_count": 77,
   "id": "ec37159e",
   "metadata": {},
   "outputs": [
    {
     "data": {
      "text/plain": [
       "'$:'"
      ]
     },
     "execution_count": 77,
     "metadata": {},
     "output_type": "execute_result"
    }
   ],
   "source": [
    "chars = chr(random.randint(33, 47)) + chr(random.randint(58, 64))\n",
    "chars"
   ]
  },
  {
   "cell_type": "code",
   "execution_count": 78,
   "id": "3238de2d",
   "metadata": {},
   "outputs": [
    {
     "data": {
      "text/plain": [
       "'1-6-7'"
      ]
     },
     "execution_count": 78,
     "metadata": {},
     "output_type": "execute_result"
    }
   ],
   "source": [
    "# bunların tamamını birleştirmek için listeyi stringe çeviren\n",
    "#join yöntemini kullanmamız gerekiyor; örnek olarak numbers ı - ile join edelim.\n",
    "\n",
    "\"-\".join(numbers)  # list comp. de olan numbers listesini --->  string haline getirdik."
   ]
  },
  {
   "cell_type": "code",
   "execution_count": 79,
   "id": "7332e61d",
   "metadata": {},
   "outputs": [
    {
     "data": {
      "text/plain": [
       "'167'"
      ]
     },
     "execution_count": 79,
     "metadata": {},
     "output_type": "execute_result"
    }
   ],
   "source": [
    "\"\".join(numbers) #hiçbir şey yazmasak sayılar concat olur\n",
    "#join string in bir metodudur."
   ]
  },
  {
   "cell_type": "markdown",
   "id": "0f96116c",
   "metadata": {},
   "source": [
    "numbers\n",
    "uppers\n",
    "lowers\n",
    "chars \n",
    "bunların tamamını birleştirip bir str yapmamız lazım.\n",
    "şafıl str karıştırıyor."
   ]
  },
  {
   "cell_type": "code",
   "execution_count": 80,
   "id": "4f78100f",
   "metadata": {},
   "outputs": [
    {
     "data": {
      "text/plain": [
       "'FAYtfr167$:'"
      ]
     },
     "execution_count": 80,
     "metadata": {},
     "output_type": "execute_result"
    }
   ],
   "source": [
    "passw = \"\".join(uppers) + \"\".join(lowers) + \"\".join(numbers) + chars   #chars zaten str old. için joinlemedik. \n",
    "passw         # password ümüz sıralı bir string dir. sırası bozulmamış bir pass listesi oldu."
   ]
  },
  {
   "cell_type": "code",
   "execution_count": null,
   "id": "e9b203d3",
   "metadata": {},
   "outputs": [],
   "source": [
    "random.shuffle()  # sıralı listeyi karıştırmak için shuuflle kullanmak lazım. shuffle için passw önce listeye çevirmek lazım. "
   ]
  },
  {
   "cell_type": "code",
   "execution_count": 81,
   "id": "1d96280f",
   "metadata": {},
   "outputs": [
    {
     "data": {
      "text/plain": [
       "['F', 'A', 'Y', 't', 'f', 'r', '1', '6', '7', '$', ':']"
      ]
     },
     "execution_count": 81,
     "metadata": {},
     "output_type": "execute_result"
    }
   ],
   "source": [
    "pass_list = list(passw)\n",
    "pass_list"
   ]
  },
  {
   "cell_type": "code",
   "execution_count": 82,
   "id": "c62be620",
   "metadata": {},
   "outputs": [],
   "source": [
    "random.shuffle(pass_list)"
   ]
  },
  {
   "cell_type": "code",
   "execution_count": 83,
   "id": "9fce9081",
   "metadata": {},
   "outputs": [
    {
     "data": {
      "text/plain": [
       "['t', 'F', '$', '1', 'r', 'A', 'Y', 'f', '6', '7', ':']"
      ]
     },
     "execution_count": 83,
     "metadata": {},
     "output_type": "execute_result"
    }
   ],
   "source": [
    "pass_list"
   ]
  },
  {
   "cell_type": "code",
   "execution_count": 84,
   "id": "8247d919",
   "metadata": {},
   "outputs": [
    {
     "data": {
      "text/plain": [
       "'tF$1rAYf67:'"
      ]
     },
     "execution_count": 84,
     "metadata": {},
     "output_type": "execute_result"
    }
   ],
   "source": [
    "\"\".join(pass_list)  # shuffle için listeye çevirdiğimizi tekrar str çevirdik."
   ]
  },
  {
   "cell_type": "code",
   "execution_count": 85,
   "id": "51fea88d",
   "metadata": {},
   "outputs": [],
   "source": [
    "# shuffle işini bir fonk. ile yapabiliriz.\n",
    "def karıştır(password):\n",
    "    templist = list(password)       # shuffle için gerekli listeyi oluşturduk.\n",
    "    random.shuffle(templist)       # listenin elemanlarını shuffle ile karıştırdık.\n",
    "    return \"\".join(templist)       # karıştırlmak üzere liste ye çevirilen listeyi stringe çevirdik."
   ]
  },
  {
   "cell_type": "code",
   "execution_count": 2,
   "id": "75bc5fe1",
   "metadata": {},
   "outputs": [
    {
     "ename": "NameError",
     "evalue": "name 'karıştır' is not defined",
     "output_type": "error",
     "traceback": [
      "\u001b[1;31m---------------------------------------------------------------------------\u001b[0m",
      "\u001b[1;31mNameError\u001b[0m                                 Traceback (most recent call last)",
      "Input \u001b[1;32mIn [2]\u001b[0m, in \u001b[0;36m<cell line: 1>\u001b[1;34m()\u001b[0m\n\u001b[1;32m----> 1\u001b[0m \u001b[38;5;28mprint\u001b[39m(\u001b[43mkarıştır\u001b[49m)\n",
      "\u001b[1;31mNameError\u001b[0m: name 'karıştır' is not defined"
     ]
    }
   ],
   "source": [
    "print(karıştır)"
   ]
  },
  {
   "cell_type": "code",
   "execution_count": 3,
   "id": "122841f1",
   "metadata": {},
   "outputs": [],
   "source": [
    "import random"
   ]
  },
  {
   "cell_type": "code",
   "execution_count": 4,
   "id": "d0d1bc7a",
   "metadata": {},
   "outputs": [
    {
     "data": {
      "text/plain": [
       "'g5<J1Tya0*W'"
      ]
     },
     "execution_count": 4,
     "metadata": {},
     "output_type": "execute_result"
    }
   ],
   "source": [
    "def password():\n",
    "    uppers = [chr(random.randint(65,90)) for i in range(3)]\n",
    "    lowers = [chr(random.randint(97,122)) for i in range(3)]\n",
    "    numbers = [chr(random.randint(48,57)) for i in range(3)]\n",
    "    chars = chr(random.randint(33,47)) + chr(random.randint(58,64))\n",
    "    password = \"\".join(uppers) + \"\".join(lowers) + \"\".join(numbers) + chars\n",
    "    passlist = list(password)\n",
    "    random.shuffle(passlist)\n",
    "    return \"\".join(passlist)\n",
    "password()"
   ]
  },
  {
   "cell_type": "code",
   "execution_count": 5,
   "id": "7da07482",
   "metadata": {},
   "outputs": [
    {
     "name": "stdout",
     "output_type": "stream",
     "text": [
      "Lütfen Password Uzunluğunu Seçiniz: 6\n",
      "Bh0C|=\n"
     ]
    }
   ],
   "source": [
    "import random\n",
    "import string\n",
    "uzunluk = input('Lütfen Password Uzunluğunu Seçiniz: ')\n",
    "ana_listem = list(string.ascii_letters + string.digits + string.punctuation )\n",
    "random.shuffle(ana_listem)\n",
    "ana_str = \"\".join(ana_listem)\n",
    "print(ana_str[:int(uzunluk)])"
   ]
  },
  {
   "cell_type": "markdown",
   "id": "570808d0",
   "metadata": {},
   "source": [
    "# timeit module "
   ]
  },
  {
   "cell_type": "code",
   "execution_count": 89,
   "id": "9d8224f2",
   "metadata": {},
   "outputs": [],
   "source": [
    "from timeit import timeit"
   ]
  },
  {
   "cell_type": "code",
   "execution_count": 90,
   "id": "b7814842",
   "metadata": {},
   "outputs": [
    {
     "data": {
      "text/plain": [
       "0.00834549986757338"
      ]
     },
     "execution_count": 90,
     "metadata": {},
     "output_type": "execute_result"
    }
   ],
   "source": [
    "timeit()  # shft tab tab yaparak içine bakabiliriz. time ı iterate ettik."
   ]
  },
  {
   "cell_type": "code",
   "execution_count": 91,
   "id": "e9d87bcc",
   "metadata": {},
   "outputs": [],
   "source": [
    "def for_loop():\n",
    "    result = []\n",
    "    \n",
    "    for i in range(1000000):  # bu kadar rakamı result listesinde toplayacağız. for ile list.comp.ile kıyaslayalım.\n",
    "        result.append(i)\n",
    "    return result"
   ]
  },
  {
   "cell_type": "code",
   "execution_count": 92,
   "id": "85fd9da8",
   "metadata": {},
   "outputs": [],
   "source": [
    "def list_comp():\n",
    "    return [i for i in range(1000000)] #aynı şeyi list. comp. yazalım. 0- 1 milyon tane rakamı liste içinde topladık.\n",
    "\n",
    "#iki farklı fonk.yapmış olduk."
   ]
  },
  {
   "cell_type": "code",
   "execution_count": 93,
   "id": "18753dd2",
   "metadata": {},
   "outputs": [],
   "source": [
    "size = 100  # çok uzun sürdüğü için düşürdük, size a sabitledik.\n",
    "time_for = timeit(for_loop, number = size)\n",
    "time_list_comp = timeit(list_comp, number = size)"
   ]
  },
  {
   "cell_type": "code",
   "execution_count": 95,
   "id": "cf9a77c0",
   "metadata": {},
   "outputs": [
    {
     "name": "stdout",
     "output_type": "stream",
     "text": [
      "List_Comp. is 1.49 times faster than for loops\n"
     ]
    }
   ],
   "source": [
    "print(f\"List_Comp. is {round(time_for / time_list_comp, 2)} times faster than for loops\")\n",
    "#for döngüsünün süresini / list comp.süresine böldük. list comp. daha hızlı."
   ]
  },
  {
   "cell_type": "markdown",
   "id": "35c986cb",
   "metadata": {},
   "source": [
    "# ERROR"
   ]
  },
  {
   "cell_type": "code",
   "execution_count": 100,
   "id": "7797ce5c",
   "metadata": {},
   "outputs": [
    {
     "ename": "SyntaxError",
     "evalue": "incomplete input (198917501.py, line 1)",
     "output_type": "error",
     "traceback": [
      "\u001b[1;36m  Input \u001b[1;32mIn [100]\u001b[1;36m\u001b[0m\n\u001b[1;33m    print(\"Don't say 'I never make a mistake'\"\u001b[0m\n\u001b[1;37m                                              ^\u001b[0m\n\u001b[1;31mSyntaxError\u001b[0m\u001b[1;31m:\u001b[0m incomplete input\n"
     ]
    }
   ],
   "source": [
    "print(\"Don't say 'I never make a mistake'\""
   ]
  },
  {
   "cell_type": "code",
   "execution_count": null,
   "id": "95810fd3",
   "metadata": {},
   "outputs": [],
   "source": [
    "syntax Error: ---->\n",
    "incomplete input --->\n",
    "traceback modulü ---> built in moduldür, errorları yönetiyor, hataları anlamlı hala getiriyor. \n",
    "Arka planda sürekli çalışıp kodların kontrollerini sağlıyor. \n",
    "Traceback modolü bir py dosyasıdır. içinde def le tanımlanmış, import edilmiş fonksiyonlar vardır.\n",
    "692 satırlık bir module dür.\n",
    "---------------------------------------------------------------------------------------------------\n",
    "EOF; hatanın yanında yazan açıklama; hatayı çözmek için önemli.\n",
    "Bu bir açıklama metnidir yani hatanın özetidir.\n",
    "En belirgin syntax hataları;\n",
    "COMMON ERRORS\n",
    "parantez hatası(wrong parenthess)\n",
    "tırnak hatası(Quotes)\n",
    "yazım hatası (büyük küçük harf)\n",
    "girinti hatası (indents)\n",
    "python; indents sensitive ve casesensitive dir.\n",
    "Bu hatalarda kod hiç çalışmaz yani compiling aşamasına geçmez."
   ]
  },
  {
   "cell_type": "markdown",
   "id": "05396151",
   "metadata": {},
   "source": [
    "# EXCEPTİONS"
   ]
  },
  {
   "cell_type": "code",
   "execution_count": null,
   "id": "b922a4e5",
   "metadata": {},
   "outputs": [],
   "source": [
    "Syntax Erros ile Exception Errors Farkı;\n",
    "syntax hatası varsa ---> compiling aşamasıda byte code aşamasına geçemez\n",
    "exception hatası varsa ---> interpretation (yani exception olan satıra kadar çalışır hata olan satırda durur)\n",
    "exception lar prg çalışmasına engel değil, hatalı olan yere kadar gelir hatalı olan bir exception üretir.\n",
    "mesela bir str ile int toplamaya çalışmak; TypeError exception ı yükselir.\n",
    "bu hataya kadar üst satırlar hatasız ise çalışır bu satırda hata yükselir(exception yükselir) çalışmaz.\n",
    "hata satırından sonra doğru olan satırlarda çalışmaz.\n",
    "EOF; can only concatenate str (not \"int\") to str (İNT İLE STR toplanamaz)\n",
    "COMMON EXCEPTİONS; 3 tanedir.\n",
    "* Value Error;tipi uyuyor ama içerik uymuyor.\n",
    "* Name Error; tanımlanmamış tüm değişken, fonk etc. bu hatayı verir. Python da tanımlanmamış bir şey varsa bu hatayı verir.\n",
    "EOF yı okumayı ve sorunu çözmemiz lazım.\n",
    "* Type Error"
   ]
  },
  {
   "cell_type": "code",
   "execution_count": 3,
   "id": "16959089",
   "metadata": {},
   "outputs": [
    {
     "name": "stdout",
     "output_type": "stream",
     "text": [
      "hello\n",
      "exception yükselecek sonraki örnekte\n"
     ]
    },
    {
     "ename": "TypeError",
     "evalue": "can only concatenate str (not \"int\") to str",
     "output_type": "error",
     "traceback": [
      "\u001b[1;31m---------------------------------------------------------------------------\u001b[0m",
      "\u001b[1;31mTypeError\u001b[0m                                 Traceback (most recent call last)",
      "Input \u001b[1;32mIn [3]\u001b[0m, in \u001b[0;36m<cell line: 5>\u001b[1;34m()\u001b[0m\n\u001b[0;32m      3\u001b[0m x \u001b[38;5;241m=\u001b[39m \u001b[38;5;124m\"\u001b[39m\u001b[38;5;124ma\u001b[39m\u001b[38;5;124m\"\u001b[39m\n\u001b[0;32m      4\u001b[0m y \u001b[38;5;241m=\u001b[39m \u001b[38;5;241m2\u001b[39m\n\u001b[1;32m----> 5\u001b[0m \u001b[38;5;28mprint\u001b[39m(\u001b[43mx\u001b[49m\u001b[43m \u001b[49m\u001b[38;5;241;43m+\u001b[39;49m\u001b[43m \u001b[49m\u001b[43my\u001b[49m)\n",
      "\u001b[1;31mTypeError\u001b[0m: can only concatenate str (not \"int\") to str"
     ]
    }
   ],
   "source": [
    "print(\"hello\")\n",
    "print(\"exception yükselecek sonraki örnekte\")\n",
    "x = \"a\"\n",
    "y = 2\n",
    "print(x + y)"
   ]
  },
  {
   "cell_type": "markdown",
   "id": "39457abc",
   "metadata": {},
   "source": [
    "# valueError hatası"
   ]
  },
  {
   "cell_type": "code",
   "execution_count": 4,
   "id": "0d1db438",
   "metadata": {},
   "outputs": [
    {
     "ename": "ValueError",
     "evalue": "invalid literal for int() with base 10: 'one'",
     "output_type": "error",
     "traceback": [
      "\u001b[1;31m---------------------------------------------------------------------------\u001b[0m",
      "\u001b[1;31mValueError\u001b[0m                                Traceback (most recent call last)",
      "Input \u001b[1;32mIn [4]\u001b[0m, in \u001b[0;36m<cell line: 1>\u001b[1;34m()\u001b[0m\n\u001b[1;32m----> 1\u001b[0m \u001b[38;5;28;43mint\u001b[39;49m\u001b[43m(\u001b[49m\u001b[38;5;124;43m\"\u001b[39;49m\u001b[38;5;124;43mone\u001b[39;49m\u001b[38;5;124;43m\"\u001b[39;49m\u001b[43m)\u001b[49m\n",
      "\u001b[1;31mValueError\u001b[0m: invalid literal for int() with base 10: 'one'"
     ]
    }
   ],
   "source": [
    "int(\"one\") # value error hatası örnek"
   ]
  },
  {
   "cell_type": "code",
   "execution_count": 102,
   "id": "bd58053c",
   "metadata": {},
   "outputs": [],
   "source": [
    "import math"
   ]
  },
  {
   "cell_type": "code",
   "execution_count": 114,
   "id": "5da83efd",
   "metadata": {},
   "outputs": [
    {
     "ename": "ValueError",
     "evalue": "math domain error",
     "output_type": "error",
     "traceback": [
      "\u001b[1;31m---------------------------------------------------------------------------\u001b[0m",
      "\u001b[1;31mValueError\u001b[0m                                Traceback (most recent call last)",
      "Input \u001b[1;32mIn [114]\u001b[0m, in \u001b[0;36m<cell line: 1>\u001b[1;34m()\u001b[0m\n\u001b[1;32m----> 1\u001b[0m \u001b[43mmath\u001b[49m\u001b[38;5;241;43m.\u001b[39;49m\u001b[43msqrt\u001b[49m\u001b[43m(\u001b[49m\u001b[38;5;241;43m-\u001b[39;49m\u001b[38;5;241;43m30\u001b[39;49m\u001b[43m)\u001b[49m\n",
      "\u001b[1;31mValueError\u001b[0m: math domain error"
     ]
    }
   ],
   "source": [
    "math.sqrt(-30)"
   ]
  },
  {
   "cell_type": "code",
   "execution_count": 118,
   "id": "b097b9fe",
   "metadata": {},
   "outputs": [
    {
     "ename": "ValueError",
     "evalue": "math domain error",
     "output_type": "error",
     "traceback": [
      "\u001b[1;31m---------------------------------------------------------------------------\u001b[0m",
      "\u001b[1;31mValueError\u001b[0m                                Traceback (most recent call last)",
      "Input \u001b[1;32mIn [118]\u001b[0m, in \u001b[0;36m<cell line: 1>\u001b[1;34m()\u001b[0m\n\u001b[1;32m----> 1\u001b[0m \u001b[43mmath\u001b[49m\u001b[38;5;241;43m.\u001b[39;49m\u001b[43mlog10\u001b[49m\u001b[43m(\u001b[49m\u001b[38;5;241;43m-\u001b[39;49m\u001b[38;5;241;43m25\u001b[39;49m\u001b[43m)\u001b[49m\n",
      "\u001b[1;31mValueError\u001b[0m: math domain error"
     ]
    }
   ],
   "source": [
    "math.log10(-25)"
   ]
  },
  {
   "cell_type": "code",
   "execution_count": 115,
   "id": "0263284c",
   "metadata": {},
   "outputs": [
    {
     "data": {
      "text/plain": [
       "0.8141809705265618"
      ]
     },
     "execution_count": 115,
     "metadata": {},
     "output_type": "execute_result"
    }
   ],
   "source": [
    "math.cos(-120)"
   ]
  },
  {
   "cell_type": "code",
   "execution_count": 120,
   "id": "3f76b526",
   "metadata": {},
   "outputs": [
    {
     "ename": "ValueError",
     "evalue": "factorial() not defined for negative values",
     "output_type": "error",
     "traceback": [
      "\u001b[1;31m---------------------------------------------------------------------------\u001b[0m",
      "\u001b[1;31mValueError\u001b[0m                                Traceback (most recent call last)",
      "Input \u001b[1;32mIn [120]\u001b[0m, in \u001b[0;36m<cell line: 1>\u001b[1;34m()\u001b[0m\n\u001b[1;32m----> 1\u001b[0m \u001b[43mmath\u001b[49m\u001b[38;5;241;43m.\u001b[39;49m\u001b[43mfactorial\u001b[49m\u001b[43m(\u001b[49m\u001b[38;5;241;43m-\u001b[39;49m\u001b[38;5;241;43m20\u001b[39;49m\u001b[43m)\u001b[49m\n",
      "\u001b[1;31mValueError\u001b[0m: factorial() not defined for negative values"
     ]
    }
   ],
   "source": [
    "math.factorial(-20)"
   ]
  },
  {
   "cell_type": "markdown",
   "id": "bfe83b08",
   "metadata": {},
   "source": [
    "## name error; en kolay çözülen hatalardır. tanımlamama ya da büyük harf küçük harf gibi hatalar"
   ]
  },
  {
   "cell_type": "code",
   "execution_count": 116,
   "id": "d12ee88b",
   "metadata": {},
   "outputs": [
    {
     "ename": "NameError",
     "evalue": "name 'a' is not defined",
     "output_type": "error",
     "traceback": [
      "\u001b[1;31m---------------------------------------------------------------------------\u001b[0m",
      "\u001b[1;31mNameError\u001b[0m                                 Traceback (most recent call last)",
      "Input \u001b[1;32mIn [116]\u001b[0m, in \u001b[0;36m<cell line: 1>\u001b[1;34m()\u001b[0m\n\u001b[1;32m----> 1\u001b[0m math\u001b[38;5;241m.\u001b[39mcos(\u001b[43ma\u001b[49m)\n",
      "\u001b[1;31mNameError\u001b[0m: name 'a' is not defined"
     ]
    }
   ],
   "source": [
    "math.cos(a)"
   ]
  },
  {
   "cell_type": "markdown",
   "id": "527b5947",
   "metadata": {},
   "source": [
    "## type error hatası; "
   ]
  },
  {
   "cell_type": "code",
   "execution_count": 119,
   "id": "a99d07d3",
   "metadata": {},
   "outputs": [
    {
     "ename": "TypeError",
     "evalue": "'float' object is not callable",
     "output_type": "error",
     "traceback": [
      "\u001b[1;31m---------------------------------------------------------------------------\u001b[0m",
      "\u001b[1;31mTypeError\u001b[0m                                 Traceback (most recent call last)",
      "Input \u001b[1;32mIn [119]\u001b[0m, in \u001b[0;36m<cell line: 1>\u001b[1;34m()\u001b[0m\n\u001b[1;32m----> 1\u001b[0m \u001b[43mmath\u001b[49m\u001b[38;5;241;43m.\u001b[39;49m\u001b[43mpi\u001b[49m\u001b[43m(\u001b[49m\u001b[38;5;241;43m-\u001b[39;49m\u001b[38;5;241;43m20\u001b[39;49m\u001b[43m)\u001b[49m\n",
      "\u001b[1;31mTypeError\u001b[0m: 'float' object is not callable"
     ]
    }
   ],
   "source": [
    "math.pi(-20)"
   ]
  },
  {
   "cell_type": "code",
   "execution_count": 123,
   "id": "bf84741d",
   "metadata": {},
   "outputs": [
    {
     "ename": "TypeError",
     "evalue": "must be real number, not str",
     "output_type": "error",
     "traceback": [
      "\u001b[1;31m---------------------------------------------------------------------------\u001b[0m",
      "\u001b[1;31mTypeError\u001b[0m                                 Traceback (most recent call last)",
      "Input \u001b[1;32mIn [123]\u001b[0m, in \u001b[0;36m<cell line: 1>\u001b[1;34m()\u001b[0m\n\u001b[1;32m----> 1\u001b[0m \u001b[43mmath\u001b[49m\u001b[38;5;241;43m.\u001b[39;49m\u001b[43msqrt\u001b[49m\u001b[43m(\u001b[49m\u001b[38;5;124;43m\"\u001b[39;49m\u001b[38;5;124;43m20\u001b[39;49m\u001b[38;5;124;43m\"\u001b[39;49m\u001b[43m)\u001b[49m\n",
      "\u001b[1;31mTypeError\u001b[0m: must be real number, not str"
     ]
    }
   ],
   "source": [
    "math.sqrt(\"20\")"
   ]
  },
  {
   "cell_type": "code",
   "execution_count": null,
   "id": "82b8da91",
   "metadata": {},
   "outputs": [],
   "source": [
    "associated value"
   ]
  },
  {
   "cell_type": "code",
   "execution_count": null,
   "id": "2c1a0a87",
   "metadata": {},
   "outputs": [],
   "source": [
    "stack Over Flow ---- çözüm hataları için kullanılacak iyi bir site."
   ]
  },
  {
   "cell_type": "code",
   "execution_count": null,
   "id": "5dc02a28",
   "metadata": {},
   "outputs": [],
   "source": []
  }
 ],
 "metadata": {
  "kernelspec": {
   "display_name": "Python 3 (ipykernel)",
   "language": "python",
   "name": "python3"
  },
  "language_info": {
   "codemirror_mode": {
    "name": "ipython",
    "version": 3
   },
   "file_extension": ".py",
   "mimetype": "text/x-python",
   "name": "python",
   "nbconvert_exporter": "python",
   "pygments_lexer": "ipython3",
   "version": "3.10.4"
  }
 },
 "nbformat": 4,
 "nbformat_minor": 5
}
