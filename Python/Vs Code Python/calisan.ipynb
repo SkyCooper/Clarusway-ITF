{
  "cells": [
    {
      "cell_type": "code",
      "execution_count": 1,
      "metadata": {
        "id": "P92W9qEZ-UCM"
      },
      "outputs": [],
      "source": [
        "class calisan():\n",
        "  sayac = 0\n",
        "  liste = [x for x in range(1000, 9999)]\n",
        "  def __init__(self, ad, soyad, telefon, IDno = \"123\"):\n",
        "    self.__adı = ad\n",
        "    self.__soyad = soyad\n",
        "    self.__telefon = telefon\n",
        "    self.__IDno = IDno\n",
        "  def GetAdi(self):\n",
        "    return self.__adı\n",
        "  def SetAdi(self, adi):\n",
        "    self.__adi = adi\n",
        "  def giris(self):\n",
        "    print(self.GetAdi(), \" Giriş yaptı\")\n",
        "  def cikis(self):\n",
        "    print(self.GetAdi(), \" Çıkış yaptı\")\n",
        "  def yemekhane(self):\n",
        "    self.sayac += 1\n",
        "    if self.sayac > 2:\n",
        "      print(\"Yemekhaneye giriş hakkı 2 tanedir\")\n",
        "    else:\n",
        "      print(self.GetAdi(), \" Yemekhaneye girdi\")\n"
      ]
    },
    {
      "cell_type": "code",
      "execution_count": 2,
      "metadata": {
        "colab": {
          "base_uri": "https://localhost:8080/"
        },
        "id": "Igdn2WT_BbyQ",
        "outputId": "32bc424f-53ea-48a4-812a-172fec5bb7e9"
      },
      "outputs": [
        {
          "name": "stdout",
          "output_type": "stream",
          "text": [
            "ahmet  Giriş yaptı\n",
            "ahmet  Yemekhaneye girdi\n",
            "ahmet  Yemekhaneye girdi\n"
          ]
        }
      ],
      "source": [
        "ahmet = calisan(\"ahmet\", \"mehmet\", \"12345\")\n",
        "ahmet.giris()\n",
        "ahmet.yemekhane()\n",
        "ahmet.yemekhane()\n"
      ]
    },
    {
      "cell_type": "code",
      "execution_count": 3,
      "metadata": {
        "colab": {
          "base_uri": "https://localhost:8080/"
        },
        "id": "NczvjXWoBsRP",
        "outputId": "c6c41587-1643-43a6-e41c-eb6fd5ad1041"
      },
      "outputs": [
        {
          "name": "stdout",
          "output_type": "stream",
          "text": [
            "Yemekhaneye giriş hakkı 2 tanedir\n"
          ]
        }
      ],
      "source": [
        "ahmet.yemekhane()"
      ]
    },
    {
      "cell_type": "code",
      "execution_count": 4,
      "metadata": {
        "id": "epECkSJXCRF4"
      },
      "outputs": [],
      "source": [
        "class Hemsire(calisan):\n",
        "  def __init__(self, ad, soyad, telefon, IDno, bolum, doctor):\n",
        "      super().__init__(ad, soyad, telefon, IDno=IDno)\n",
        "      self.bolum = bolum\n",
        "      self.doctor = doctor\n",
        "  def nobet(self):\n",
        "    print(self.GetAdi(), self.bolum,\" de bugün nöbete kaldı\")"
      ]
    },
    {
      "cell_type": "code",
      "execution_count": 42,
      "metadata": {
        "colab": {
          "base_uri": "https://localhost:8080/"
        },
        "id": "PlcZvcfnC8Jq",
        "outputId": "dd86bae5-1f86-4f59-f99e-a64cf93ddebf"
      },
      "outputs": [],
      "source": [
        "hemsire1 = Hemsire(\"ayşe\", \"veli\", \"123\", \"1245\", \"Acil\", \"Aylin\")"
      ]
    },
    {
      "cell_type": "code",
      "execution_count": 6,
      "metadata": {
        "id": "q2LfjrWhF1sQ"
      },
      "outputs": [],
      "source": [
        "class sekreter(calisan):\n",
        "  liste = []\n",
        "  def __init__(self, ad, soyad, telefon, IDno, bolum, doctor):\n",
        "      super().__init__(ad, soyad, telefon, IDno=IDno)\n",
        "  def randevuver(self, saat):\n",
        "    hour, dakika = saat.split(\":\")\n",
        "    if saat.split(\":\")[0]== hour :\n",
        "      \n",
        "      print(\"Aynı saatte randevu var\")\n",
        "    else:\n",
        "     self.liste.append(saat)\n",
        "     print(self.liste) "
      ]
    },
    {
      "cell_type": "code",
      "execution_count": 7,
      "metadata": {
        "colab": {
          "base_uri": "https://localhost:8080/"
        },
        "id": "xcwBDC8uGeqE",
        "outputId": "24801e1f-322c-4f81-e648-468be27251c1"
      },
      "outputs": [
        {
          "name": "stdout",
          "output_type": "stream",
          "text": [
            "Aynı saatte randevu var\n"
          ]
        }
      ],
      "source": [
        "sekreter1 = sekreter(\"ali\", \"veli\", \"123\",\"1234\",\"ortapedi\",\"ayşe\")\n",
        "\n",
        "sekreter1.randevuver(\"15:01\")"
      ]
    },
    {
      "cell_type": "code",
      "execution_count": 38,
      "metadata": {
        "id": "g7dTFlbpIrpw"
      },
      "outputs": [],
      "source": [
        "class Depo_Gorevlisi(calisan):\n",
        "  def __init__(self, ad, soyad, telefon, IDno, faturano):\n",
        "      super().__init__(ad, soyad, telefon, IDno)\n",
        "      self.faturano = faturano\n",
        "\n",
        "  def urundepoyala(self):\n",
        "    print(self.GetAdi(), self.faturano, \"fatura numaralı ürünleri depoya aldı\")\n",
        "  \n",
        "  def urunbirimegönder(self):\n",
        "    print(self.GetAdi(), self.faturano, \"fatura numaralı ürünleri üretim birimine gönderdi\")"
      ]
    },
    {
      "cell_type": "code",
      "execution_count": 39,
      "metadata": {},
      "outputs": [
        {
          "name": "stdout",
          "output_type": "stream",
          "text": [
            "Adil FTR12 fatura numaralı ürünleri depoya aldı\n"
          ]
        }
      ],
      "source": [
        "depo_gorevlisi1 = Depo_Gorevlisi(\"Adil\", \"Yıldız\", 532, 4444, \"FTR12\")\n",
        "depo_gorevlisi2 = Depo_Gorevlisi(\"Cooper\", \"Sky\", 533, 5555, \"FTR23\")\n",
        "depo_gorevlisi1.urundepoyala()"
      ]
    },
    {
      "cell_type": "code",
      "execution_count": 28,
      "metadata": {},
      "outputs": [
        {
          "name": "stdout",
          "output_type": "stream",
          "text": [
            "Cooper FTR23 fatura numaralı ürünleri depoya aldı\n"
          ]
        }
      ],
      "source": [
        "depo_gorevlisi2.urundepoyala()"
      ]
    },
    {
      "cell_type": "code",
      "execution_count": 29,
      "metadata": {},
      "outputs": [
        {
          "name": "stdout",
          "output_type": "stream",
          "text": [
            "Adil FTR12 fatura numaralı ürünleri üretim birimine gönderdi\n"
          ]
        }
      ],
      "source": [
        "depo_gorevlisi1.urunbirimegönder()"
      ]
    },
    {
      "cell_type": "code",
      "execution_count": 30,
      "metadata": {},
      "outputs": [
        {
          "name": "stdout",
          "output_type": "stream",
          "text": [
            "Cooper FTR23 fatura numaralı ürünleri üretim birimine gönderdi\n"
          ]
        }
      ],
      "source": [
        "depo_gorevlisi2.urunbirimegönder()"
      ]
    }
  ],
  "metadata": {
    "colab": {
      "collapsed_sections": [],
      "name": "calisan.ipynb",
      "provenance": []
    },
    "kernelspec": {
      "display_name": "Python 3.10.4 64-bit",
      "language": "python",
      "name": "python3"
    },
    "language_info": {
      "codemirror_mode": {
        "name": "ipython",
        "version": 3
      },
      "file_extension": ".py",
      "mimetype": "text/x-python",
      "name": "python",
      "nbconvert_exporter": "python",
      "pygments_lexer": "ipython3",
      "version": "3.10.4"
    },
    "vscode": {
      "interpreter": {
        "hash": "fb4569285eef3a3450cb62085a5b1e0da4bce0af555edc33dcf29baf3acc1368"
      }
    }
  },
  "nbformat": 4,
  "nbformat_minor": 0
}
