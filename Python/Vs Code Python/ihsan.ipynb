{
 "cells": [
  {
   "cell_type": "code",
   "execution_count": 3,
   "metadata": {},
   "outputs": [],
   "source": [
    "class Cohort12:\n",
    "  def __init__(self, name, surname, email):\n",
    "    self.__name = name\n",
    "    self.surname = surname\n",
    "    self.email = email\n",
    "  @property\n",
    "  def GetName(self):\n",
    "    return self.__name\n",
    "  def SetName(self, name):\n",
    "    self.__name = name"
   ]
  },
  {
   "cell_type": "code",
   "execution_count": 7,
   "metadata": {},
   "outputs": [
    {
     "name": "stdout",
     "output_type": "stream",
     "text": [
      "<__main__.Cohort12 object at 0x000002059AFC7A90>\n"
     ]
    }
   ],
   "source": [
    "student1 = Cohort12(\"Ali\", \"Deli\", \"ad@gmail\")\n",
    "print(student1)"
   ]
  },
  {
   "cell_type": "code",
   "execution_count": null,
   "metadata": {},
   "outputs": [],
   "source": [
    "class FS(Cohort12):  # inheritance, miras alma--> yani FS clası Cohort12 nin bütün özelliklerini alsın\n",
    "  def __init__(self, name, surname, email, path):\n",
    "    super().__init__(name, surname, email)\n",
    "    self.path = path"
   ]
  },
  {
   "cell_type": "code",
   "execution_count": null,
   "metadata": {},
   "outputs": [],
   "source": [
    "class DS(Cohort12):  # inheritance, miras alma--> yani FS clası Cohort12 nin bütün özelliklerini alsın\n",
    "  def __init__(self, name, surname, email, path):\n",
    "    super().__init__(name, surname, email)\n",
    "    self.path = path"
   ]
  },
  {
   "cell_type": "code",
   "execution_count": null,
   "metadata": {},
   "outputs": [],
   "source": [
    "class AWS(Cohort12):  # inheritance, miras alma--> yani FS clası Cohort12 nin bütün özelliklerini alsın\n",
    "  def __init__(self, name, surname, email, path):\n",
    "    super().__init__(name, surname, email)\n",
    "    self.path = path\n",
    "    return self.__name\n",
    "  def SetName(self, name):\n",
    "    self.__name = name"
   ]
  },
  {
   "cell_type": "code",
   "execution_count": null,
   "metadata": {},
   "outputs": [],
   "source": []
  },
  {
   "cell_type": "code",
   "execution_count": null,
   "metadata": {},
   "outputs": [],
   "source": []
  }
 ],
 "metadata": {
  "kernelspec": {
   "display_name": "Python 3.10.4 64-bit",
   "language": "python",
   "name": "python3"
  },
  "language_info": {
   "codemirror_mode": {
    "name": "ipython",
    "version": 3
   },
   "file_extension": ".py",
   "mimetype": "text/x-python",
   "name": "python",
   "nbconvert_exporter": "python",
   "pygments_lexer": "ipython3",
   "version": "3.10.4"
  },
  "orig_nbformat": 4,
  "vscode": {
   "interpreter": {
    "hash": "fb4569285eef3a3450cb62085a5b1e0da4bce0af555edc33dcf29baf3acc1368"
   }
  }
 },
 "nbformat": 4,
 "nbformat_minor": 2
}
