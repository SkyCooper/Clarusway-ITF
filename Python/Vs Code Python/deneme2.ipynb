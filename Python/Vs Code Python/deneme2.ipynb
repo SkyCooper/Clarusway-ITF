{
 "cells": [
  {
   "cell_type": "code",
   "execution_count": null,
   "metadata": {},
   "outputs": [],
   "source": [
    "# vscode deneme dosyası"
   ]
  },
  {
   "cell_type": "code",
   "execution_count": 3,
   "metadata": {},
   "outputs": [
    {
     "name": "stdout",
     "output_type": "stream",
     "text": [
      "cooper\n"
     ]
    }
   ],
   "source": [
    "name = \"cooper\"\n",
    "print(name)"
   ]
  },
  {
   "cell_type": "code",
   "execution_count": 4,
   "metadata": {},
   "outputs": [
    {
     "name": "stdout",
     "output_type": "stream",
     "text": [
      "sayıyı düşür\n",
      "sayıyı yükselt\n",
      "sayıyı düşür\n",
      "sayıyı düşür\n",
      "sayıyı düşür\n",
      "Üzgünüm hakkın bitti, cevap  36\n"
     ]
    }
   ],
   "source": [
    "import random\n",
    "rastgele = random.randint(1,100)\n",
    "hak = 5\n",
    "while True:\n",
    "    kullanıcı = int(input(\"Hangi sayıyı tuttum ? : \"))\n",
    "    if kullanıcı<rastgele:\n",
    "        hak -= 1\n",
    "        print(\"sayıyı yükselt\")\n",
    "    elif kullanıcı>rastgele:\n",
    "        hak -= 1\n",
    "        print(\"sayıyı düşür\")\n",
    "    else:\n",
    "        print(\"Resmen aklımı okuyorsun, nasıl bildin!!!\")\n",
    "        break\n",
    "    if hak == 0:\n",
    "        print(\"Üzgünüm hakkın bitti, cevap \", rastgele)\n",
    "        break"
   ]
  },
  {
   "cell_type": "code",
   "execution_count": 5,
   "metadata": {},
   "outputs": [
    {
     "data": {
      "text/plain": [
       "4"
      ]
     },
     "execution_count": 5,
     "metadata": {},
     "output_type": "execute_result"
    }
   ],
   "source": [
    "# EDWİN HOCA ÇÖZÜMÜ VE KONU ANLATIMI\n",
    "numbers = [1, 3, 7, 4, 3, 0, 3, 6, 3]\n",
    "numbers.count(max(numbers, key = numbers.count))"
   ]
  },
  {
   "cell_type": "code",
   "execution_count": 8,
   "metadata": {},
   "outputs": [
    {
     "name": "stdout",
     "output_type": "stream",
     "text": [
      "Hello, dan! See you later\n"
     ]
    }
   ],
   "source": [
    "name = \"Cooper\"\n",
    "in_name = input(\"Enter your name :\")\n",
    "if name == in_name:\n",
    "    print(f\"Hello, {name}! The password is : W@12\")\n",
    "else:\n",
    "    print(f\"Hello, {in_name}! See you later\")\n",
    "    "
   ]
  },
  {
   "cell_type": "code",
   "execution_count": null,
   "metadata": {},
   "outputs": [],
   "source": []
  },
  {
   "cell_type": "code",
   "execution_count": null,
   "metadata": {},
   "outputs": [],
   "source": []
  }
 ],
 "metadata": {
  "kernelspec": {
   "display_name": "Python 3.10.4 64-bit",
   "language": "python",
   "name": "python3"
  },
  "language_info": {
   "codemirror_mode": {
    "name": "ipython",
    "version": 3
   },
   "file_extension": ".py",
   "mimetype": "text/x-python",
   "name": "python",
   "nbconvert_exporter": "python",
   "pygments_lexer": "ipython3",
   "version": "3.10.4"
  },
  "orig_nbformat": 4,
  "vscode": {
   "interpreter": {
    "hash": "fb4569285eef3a3450cb62085a5b1e0da4bce0af555edc33dcf29baf3acc1368"
   }
  }
 },
 "nbformat": 4,
 "nbformat_minor": 2
}
