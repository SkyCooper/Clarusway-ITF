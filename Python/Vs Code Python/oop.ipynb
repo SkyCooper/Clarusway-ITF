{
 "cells": [
  {
   "cell_type": "markdown",
   "metadata": {},
   "source": [
    "class oluşturma, Attributr'lar ve Metodlar"
   ]
  },
  {
   "cell_type": "code",
   "execution_count": null,
   "metadata": {},
   "outputs": [],
   "source": [
    "'''\n",
    "class <Class Ismi>():\n",
    "    \n",
    "    <class attr>\n",
    "    \n",
    "    def __init__(self, <attr>):             ## init, instantiation yani örneklendirme kısaltmasıdır.\n",
    "        self.<instance attr> = attr         ## oluşturulan örneğe ait attribute'lar\n",
    "        .....\n",
    "        \n",
    "    def <method>(self, <params>):           ## self keyword ile başlar, class'a özgü fonskiyondur.\n",
    "        ....\n",
    "        return .....\n",
    "'''"
   ]
  },
  {
   "cell_type": "code",
   "execution_count": 19,
   "metadata": {},
   "outputs": [],
   "source": [
    "class Ucus():\n",
    "    havayolu = \"TürkHavaYolları\""
   ]
  },
  {
   "cell_type": "code",
   "execution_count": 20,
   "metadata": {},
   "outputs": [],
   "source": [
    "ucus1 = Ucus()"
   ]
  },
  {
   "cell_type": "code",
   "execution_count": 21,
   "metadata": {},
   "outputs": [
    {
     "data": {
      "text/plain": [
       "'TürkHavaYolları'"
      ]
     },
     "execution_count": 21,
     "metadata": {},
     "output_type": "execute_result"
    }
   ],
   "source": [
    "ucus1.havayolu"
   ]
  },
  {
   "cell_type": "code",
   "execution_count": 22,
   "metadata": {},
   "outputs": [],
   "source": [
    "class Ucus():\n",
    "    havayolu = \"TürkHavaYolları\"\n",
    "    \n",
    "    def __init__(self, kod, kalkıs, varis, sure, kapasite, yolcu):\n",
    "        self.kod = kod\n",
    "        self.kalkıs = kalkıs\n",
    "        self.varis = varis\n",
    "        self.sure = sure\n",
    "        self.kapasite = kapasite\n",
    "        self.yolcu = yolcu"
   ]
  },
  {
   "cell_type": "code",
   "execution_count": 5,
   "metadata": {},
   "outputs": [
    {
     "ename": "TypeError",
     "evalue": "Ucus.__init__() missing 6 required positional arguments: 'kod', 'kalkıs', 'varis', 'sure', 'kapasite', and 'yolcu'",
     "output_type": "error",
     "traceback": [
      "\u001b[1;31m---------------------------------------------------------------------------\u001b[0m",
      "\u001b[1;31mTypeError\u001b[0m                                 Traceback (most recent call last)",
      "\u001b[1;32mc:\\Users\\user\\Documents\\Clarusway\\Python\\Vs Code Python\\oop.ipynb Hücre 6\u001b[0m in \u001b[0;36m<cell line: 1>\u001b[1;34m()\u001b[0m\n\u001b[1;32m----> <a href='vscode-notebook-cell:/c%3A/Users/user/Documents/Clarusway/Python/Vs%20Code%20Python/oop.ipynb#ch0000006?line=0'>1</a>\u001b[0m ucus2 \u001b[39m=\u001b[39m Ucus()\n",
      "\u001b[1;31mTypeError\u001b[0m: Ucus.__init__() missing 6 required positional arguments: 'kod', 'kalkıs', 'varis', 'sure', 'kapasite', and 'yolcu'"
     ]
    }
   ],
   "source": [
    "ucus2 = Ucus() #argümanlar eksik."
   ]
  },
  {
   "cell_type": "code",
   "execution_count": 23,
   "metadata": {},
   "outputs": [],
   "source": [
    "ucus2 = Ucus(\"TK123\", \"IST\", \"ANK\", 60, 300, 55)\n",
    "ucus3 = Ucus(\"TK555\", \"VAN\", \"MUS\", 80, 40, 15)\n"
   ]
  },
  {
   "cell_type": "code",
   "execution_count": 24,
   "metadata": {},
   "outputs": [
    {
     "name": "stdout",
     "output_type": "stream",
     "text": [
      "IST\n",
      "VAN\n",
      "TürkHavaYolları\n",
      "TürkHavaYolları\n"
     ]
    }
   ],
   "source": [
    "print(ucus2.kalkıs)  # bunlar farklı olur  objenin attiribute\n",
    "print(ucus3.kalkıs)\n",
    "print(ucus3.havayolu)  # ama havayolu aynıdır. classın attiribute\n",
    "print(ucus2.havayolu)"
   ]
  },
  {
   "cell_type": "markdown",
   "metadata": {},
   "source": [
    "Metod Kullanımı"
   ]
  },
  {
   "cell_type": "code",
   "execution_count": 32,
   "metadata": {},
   "outputs": [],
   "source": [
    "class Ucus():\n",
    "    havayolu = \"TürkHavaYolları\"\n",
    "    \n",
    "    def __init__(self, kod, kalkıs, varis, sure, kapasite, yolcu):\n",
    "        self.kod = kod\n",
    "        self.kalkıs = kalkıs\n",
    "        self.varis = varis\n",
    "        self.sure = sure\n",
    "        self.kapasite = kapasite\n",
    "        self.yolcu = yolcu\n",
    "        \n",
    "    def anons_yap(self):  # self keyword ile başlar\n",
    "        return \"{} sefer sayılı {}-{} ucusumuz {} dakika sürecektir.\".format(self.kod, self.kalkıs, self.varis, self.sure)"
   ]
  },
  {
   "cell_type": "code",
   "execution_count": 34,
   "metadata": {},
   "outputs": [
    {
     "data": {
      "text/plain": [
       "'TK555 sefer sayılı BOD-ANT ucusumuz 35 dakika sürecektir.'"
      ]
     },
     "execution_count": 34,
     "metadata": {},
     "output_type": "execute_result"
    }
   ],
   "source": [
    "ucus4 = Ucus(\"TK555\", \"BOD\", \"ANT\", 35, 40, 15)\n",
    "ucus4.anons_yap()"
   ]
  },
  {
   "cell_type": "code",
   "execution_count": 79,
   "metadata": {},
   "outputs": [],
   "source": [
    "class Ucus():\n",
    "    havayolu = \"TürkHavaYolları\"\n",
    "    \n",
    "    def __init__(self, kod, kalkıs, varis, sure, kapasite, yolcu):\n",
    "        self.kod = kod\n",
    "        self.kalkıs = kalkıs\n",
    "        self.varis = varis\n",
    "        self.sure = sure\n",
    "        self.kapasite = kapasite\n",
    "        self.yolcu = yolcu\n",
    "        \n",
    "    def anons_yap(self):  # self keyword ile başlar\n",
    "        return \"{} sefer sayılı {}-{} ucusumuz {} dakika sürecektir.\".format(self.kod, self.kalkıs, self.varis, self.sure)\n",
    "    \n",
    "    \n",
    "    def koltuk_sayisi_guncelle(self):       # bana uçakta kalan boş koltuk sayısını verecek\n",
    "        return self.kapasite - self.yolcu\n",
    "    \n",
    "    \n",
    "    def bilet_satis(self, bilet_adedi=1):\n",
    "        if self.yolcu + bilet_adedi <= self.kapasite:\n",
    "            self.yolcu += bilet_adedi\n",
    "            self.koltuk_sayisi_guncelle()\n",
    "            print(f\"{bilet_adedi} adet bilet satılmıştır, kalan koltuk sayısı {self.koltuk_sayisi_guncelle()}\")\n",
    "        else:\n",
    "            print(f\"Yetersiz koltuk sayısı\")\n",
    "            \n",
    "            \n",
    "    def bilet_iptal(self, bilet_adedi = 1):\n",
    "        if self.yolcu >= bilet_adedi:\n",
    "            self.yolcu -= bilet_adedi\n",
    "            print(f\"{bilet_adedi} adet bilet iptal edilmiştir., güncel koltuk sayısı {self.koltuk_sayisi_guncelle()}\")\n",
    "        else:\n",
    "            print(f\"İşlem gerçekleşmedi, iptal edilecek kadar yoldu yoktur.\")       "
   ]
  },
  {
   "cell_type": "code",
   "execution_count": 82,
   "metadata": {},
   "outputs": [
    {
     "data": {
      "text/plain": [
       "25"
      ]
     },
     "execution_count": 82,
     "metadata": {},
     "output_type": "execute_result"
    }
   ],
   "source": [
    "ucus4 = Ucus(\"TK555\", \"BOD\", \"ANT\", 35, 40, 15)\n",
    "ucus4.koltuk_sayisi_guncelle()          # 40-15=25 yaptı."
   ]
  },
  {
   "cell_type": "code",
   "execution_count": 75,
   "metadata": {},
   "outputs": [
    {
     "name": "stdout",
     "output_type": "stream",
     "text": [
      "5 adet bilet satılmıştır, kalan koltuk sayısı 20\n"
     ]
    }
   ],
   "source": [
    "ucus4.bilet_satis(5)  # 40 koltuktan 15 alınmıştı ve 25 boş vardı, 5 tane bilet satıldı 20 koltuk kaldı."
   ]
  },
  {
   "cell_type": "code",
   "execution_count": 64,
   "metadata": {},
   "outputs": [
    {
     "name": "stdout",
     "output_type": "stream",
     "text": [
      "5 adet bilet satılmıştır, kalan koltuk sayısı 15\n"
     ]
    }
   ],
   "source": [
    "ucus4.bilet_satis(5)  # 20 koltuktan 5 daha satıldı 15 kaldı."
   ]
  },
  {
   "cell_type": "code",
   "execution_count": 65,
   "metadata": {},
   "outputs": [
    {
     "name": "stdout",
     "output_type": "stream",
     "text": [
      "Yetersiz koltuk sayısı\n"
     ]
    }
   ],
   "source": [
    "ucus4.bilet_satis(20)  # 15 koltuktan 20 satmaya çalıştığından yok dedi"
   ]
  },
  {
   "cell_type": "code",
   "execution_count": 66,
   "metadata": {},
   "outputs": [
    {
     "data": {
      "text/plain": [
       "15"
      ]
     },
     "execution_count": 66,
     "metadata": {},
     "output_type": "execute_result"
    }
   ],
   "source": [
    "ucus4.koltuk_sayisi_guncelle() # son durum 15 koltuk kaldı."
   ]
  },
  {
   "cell_type": "code",
   "execution_count": 83,
   "metadata": {},
   "outputs": [
    {
     "name": "stdout",
     "output_type": "stream",
     "text": [
      "1 adet bilet iptal edilmiştir., güncel koltuk sayısı 26\n"
     ]
    }
   ],
   "source": [
    "ucus4.bilet_iptal() #default 1 olduğundan 25+1 =26 oldu"
   ]
  },
  {
   "cell_type": "code",
   "execution_count": 84,
   "metadata": {},
   "outputs": [
    {
     "name": "stdout",
     "output_type": "stream",
     "text": [
      "5 adet bilet iptal edilmiştir., güncel koltuk sayısı 31\n"
     ]
    }
   ],
   "source": [
    "ucus4.bilet_iptal(5) #default 1 olduğundan 26+5 =31 oldu\n"
   ]
  },
  {
   "cell_type": "code",
   "execution_count": 85,
   "metadata": {},
   "outputs": [
    {
     "name": "stdout",
     "output_type": "stream",
     "text": [
      "İşlem gerçekleşmedi, iptal edilecek kadar yoldu yoktur.\n"
     ]
    }
   ],
   "source": [
    "ucus4.bilet_iptal(300) # kapasite fazlası iptal istendiği için hata verir."
   ]
  },
  {
   "cell_type": "markdown",
   "metadata": {},
   "source": [
    "Dunder Methodlar (Double Under Score)"
   ]
  },
  {
   "cell_type": "code",
   "execution_count": 86,
   "metadata": {},
   "outputs": [],
   "source": [
    "ucus4 = Ucus(\"TK555\", \"BOD\", \"ANT\", 35, 40, 15)"
   ]
  },
  {
   "cell_type": "code",
   "execution_count": 92,
   "metadata": {},
   "outputs": [
    {
     "data": {
      "text/plain": [
       "['kod',\n",
       " 'kalkıs',\n",
       " 'varis',\n",
       " 'sure',\n",
       " 'kapasite',\n",
       " 'yolcu',\n",
       " '__module__',\n",
       " 'havayolu',\n",
       " '__init__',\n",
       " 'anons_yap',\n",
       " 'koltuk_sayisi_guncelle',\n",
       " 'bilet_satis',\n",
       " 'bilet_iptal',\n",
       " '__dict__',\n",
       " '__weakref__',\n",
       " '__doc__',\n",
       " '__new__',\n",
       " '__repr__',\n",
       " '__hash__',\n",
       " '__str__',\n",
       " '__getattribute__',\n",
       " '__setattr__',\n",
       " '__delattr__',\n",
       " '__lt__',\n",
       " '__le__',\n",
       " '__eq__',\n",
       " '__ne__',\n",
       " '__gt__',\n",
       " '__ge__',\n",
       " '__reduce_ex__',\n",
       " '__reduce__',\n",
       " '__subclasshook__',\n",
       " '__init_subclass__',\n",
       " '__format__',\n",
       " '__sizeof__',\n",
       " '__dir__',\n",
       " '__class__']"
      ]
     },
     "execution_count": 92,
     "metadata": {},
     "output_type": "execute_result"
    }
   ],
   "source": [
    "ucus4.__dir__()  # metodlarını görmek için"
   ]
  },
  {
   "cell_type": "code",
   "execution_count": 90,
   "metadata": {},
   "outputs": [
    {
     "data": {
      "text/plain": [
       "<__main__.Ucus at 0x21ae58fb2b0>"
      ]
     },
     "execution_count": 90,
     "metadata": {},
     "output_type": "execute_result"
    }
   ],
   "source": [
    "ucus4"
   ]
  },
  {
   "cell_type": "code",
   "execution_count": null,
   "metadata": {},
   "outputs": [],
   "source": []
  },
  {
   "cell_type": "code",
   "execution_count": null,
   "metadata": {},
   "outputs": [],
   "source": []
  },
  {
   "cell_type": "code",
   "execution_count": null,
   "metadata": {},
   "outputs": [],
   "source": []
  },
  {
   "cell_type": "code",
   "execution_count": null,
   "metadata": {},
   "outputs": [],
   "source": []
  },
  {
   "cell_type": "code",
   "execution_count": null,
   "metadata": {},
   "outputs": [],
   "source": []
  },
  {
   "cell_type": "code",
   "execution_count": null,
   "metadata": {},
   "outputs": [],
   "source": []
  },
  {
   "cell_type": "code",
   "execution_count": null,
   "metadata": {},
   "outputs": [],
   "source": []
  }
 ],
 "metadata": {
  "kernelspec": {
   "display_name": "Python 3.10.4 64-bit",
   "language": "python",
   "name": "python3"
  },
  "language_info": {
   "codemirror_mode": {
    "name": "ipython",
    "version": 3
   },
   "file_extension": ".py",
   "mimetype": "text/x-python",
   "name": "python",
   "nbconvert_exporter": "python",
   "pygments_lexer": "ipython3",
   "version": "3.10.4"
  },
  "orig_nbformat": 4,
  "vscode": {
   "interpreter": {
    "hash": "fb4569285eef3a3450cb62085a5b1e0da4bce0af555edc33dcf29baf3acc1368"
   }
  }
 },
 "nbformat": 4,
 "nbformat_minor": 2
}
