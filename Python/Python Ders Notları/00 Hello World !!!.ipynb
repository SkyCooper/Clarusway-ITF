{
 "cells": [
  {
   "cell_type": "code",
   "execution_count": null,
   "id": "763ff4e6",
   "metadata": {},
   "outputs": [],
   "source": [
    "21 Nisan 2022 - Edwin Hoca "
   ]
  },
  {
   "cell_type": "code",
   "execution_count": null,
   "id": "1e3217f1",
   "metadata": {},
   "outputs": [],
   "source": []
  },
  {
   "cell_type": "code",
   "execution_count": 44,
   "id": "90fed28c",
   "metadata": {},
   "outputs": [
    {
     "name": "stdout",
     "output_type": "stream",
     "text": [
      "hello world\n"
     ]
    }
   ],
   "source": [
    "print(\"hello world\")"
   ]
  },
  {
   "cell_type": "code",
   "execution_count": 45,
   "id": "ab783209",
   "metadata": {},
   "outputs": [
    {
     "name": "stdout",
     "output_type": "stream",
     "text": [
      "zeynep ece\n"
     ]
    }
   ],
   "source": [
    "print(\"zeynep ece\")"
   ]
  },
  {
   "cell_type": "code",
   "execution_count": 46,
   "id": "8c7e5cb5",
   "metadata": {},
   "outputs": [
    {
     "name": "stdout",
     "output_type": "stream",
     "text": [
      "emre efe\n"
     ]
    }
   ],
   "source": [
    "print('emre efe')"
   ]
  },
  {
   "cell_type": "code",
   "execution_count": 47,
   "id": "7e1367ec",
   "metadata": {},
   "outputs": [
    {
     "name": "stdout",
     "output_type": "stream",
     "text": [
      "demet'demet\n"
     ]
    }
   ],
   "source": [
    "print(\"demet'demet\")"
   ]
  },
  {
   "cell_type": "code",
   "execution_count": 48,
   "id": "af716bad",
   "metadata": {},
   "outputs": [
    {
     "name": "stdout",
     "output_type": "stream",
     "text": [
      "3\n"
     ]
    }
   ],
   "source": [
    "print(3)"
   ]
  },
  {
   "cell_type": "code",
   "execution_count": 49,
   "id": "11da7661",
   "metadata": {},
   "outputs": [
    {
     "ename": "SyntaxError",
     "evalue": "EOL while scanning string literal (Temp/ipykernel_14516/842549119.py, line 1)",
     "output_type": "error",
     "traceback": [
      "\u001b[1;36m  File \u001b[1;32m\"C:\\Users\\user\\AppData\\Local\\Temp/ipykernel_14516/842549119.py\"\u001b[1;36m, line \u001b[1;32m1\u001b[0m\n\u001b[1;33m    print(\"hello world')\u001b[0m\n\u001b[1;37m                        ^\u001b[0m\n\u001b[1;31mSyntaxError\u001b[0m\u001b[1;31m:\u001b[0m EOL while scanning string literal\n"
     ]
    }
   ],
   "source": [
    "print(\"hello world')"
   ]
  },
  {
   "cell_type": "code",
   "execution_count": 50,
   "id": "7868ac4f",
   "metadata": {},
   "outputs": [
    {
     "name": "stdout",
     "output_type": "stream",
     "text": [
      "demet\n",
      "ve amısf \n",
      "wwo\n"
     ]
    }
   ],
   "source": [
    "print(\"\"\"demet\n",
    "ve amısf \n",
    "wwo\"\"\")"
   ]
  },
  {
   "cell_type": "code",
   "execution_count": 51,
   "id": "1a9cfa40",
   "metadata": {},
   "outputs": [
    {
     "name": "stdout",
     "output_type": "stream",
     "text": [
      "tek satırda kullanılır\n"
     ]
    }
   ],
   "source": [
    "print(\"\"\"tek satırda kullanılır\"\"\")"
   ]
  },
  {
   "cell_type": "code",
   "execution_count": 52,
   "id": "b354c968",
   "metadata": {},
   "outputs": [
    {
     "ename": "SyntaxError",
     "evalue": "EOL while scanning string literal (Temp/ipykernel_14516/1582586304.py, line 1)",
     "output_type": "error",
     "traceback": [
      "\u001b[1;36m  File \u001b[1;32m\"C:\\Users\\user\\AppData\\Local\\Temp/ipykernel_14516/1582586304.py\"\u001b[1;36m, line \u001b[1;32m1\u001b[0m\n\u001b[1;33m    print(\"iki satırda olursa\u001b[0m\n\u001b[1;37m                             ^\u001b[0m\n\u001b[1;31mSyntaxError\u001b[0m\u001b[1;31m:\u001b[0m EOL while scanning string literal\n"
     ]
    }
   ],
   "source": [
    "print(\"iki satırda olursa\n",
    "hata verir\")"
   ]
  },
  {
   "cell_type": "code",
   "execution_count": 101,
   "id": "af4ce193",
   "metadata": {},
   "outputs": [
    {
     "name": "stdout",
     "output_type": "stream",
     "text": [
      "her ikisi\n",
      "kullanılırsa\n",
      "problem olmaz\n"
     ]
    }
   ],
   "source": [
    "print('''her ikisi\n",
    "kullanılırsa\n",
    "problem olmaz''')"
   ]
  },
  {
   "cell_type": "code",
   "execution_count": 54,
   "id": "b14eb6e3",
   "metadata": {},
   "outputs": [
    {
     "name": "stdout",
     "output_type": "stream",
     "text": [
      "12345678=)?/&%+^dgbndbnn\n"
     ]
    }
   ],
   "source": [
    "print(\"\"\"12345678=)?/&%+^dgbndbnn\"\"\") # üç tırnak içinde ne varsa print eder."
   ]
  },
  {
   "cell_type": "code",
   "execution_count": 55,
   "id": "8c7ee928",
   "metadata": {},
   "outputs": [
    {
     "name": "stdout",
     "output_type": "stream",
     "text": [
      "4285\n"
     ]
    }
   ],
   "source": [
    "print(4285)"
   ]
  },
  {
   "cell_type": "code",
   "execution_count": 56,
   "id": "92bf2bd9",
   "metadata": {},
   "outputs": [
    {
     "name": "stdout",
     "output_type": "stream",
     "text": [
      "4285\n"
     ]
    }
   ],
   "source": [
    "print('4285')"
   ]
  },
  {
   "cell_type": "code",
   "execution_count": 57,
   "id": "7c0e2abd",
   "metadata": {},
   "outputs": [
    {
     "name": "stdout",
     "output_type": "stream",
     "text": [
      "'fenerbahçe\"\n"
     ]
    }
   ],
   "source": [
    "print(''''fenerbahçe\"''')"
   ]
  },
  {
   "cell_type": "code",
   "execution_count": 58,
   "id": "87d91ecc",
   "metadata": {},
   "outputs": [
    {
     "name": "stdout",
     "output_type": "stream",
     "text": [
      "mustafa,demet\n"
     ]
    }
   ],
   "source": [
    "print(\"mustafa,demet\")"
   ]
  },
  {
   "cell_type": "code",
   "execution_count": 59,
   "id": "253fe478",
   "metadata": {},
   "outputs": [
    {
     "name": "stdout",
     "output_type": "stream",
     "text": [
      "3,4\n"
     ]
    }
   ],
   "source": [
    "print('3,4')"
   ]
  },
  {
   "cell_type": "code",
   "execution_count": 60,
   "id": "c11973b5",
   "metadata": {},
   "outputs": [],
   "source": [
    "# integır olduğu için tırnaksız yazmak lazımdı, tırnak olduğu için string algıladı ve virgülü yazdı."
   ]
  },
  {
   "cell_type": "code",
   "execution_count": 61,
   "id": "6576e4a0",
   "metadata": {},
   "outputs": [
    {
     "name": "stdout",
     "output_type": "stream",
     "text": [
      "3, 4\n"
     ]
    }
   ],
   "source": [
    "print('3, 4')"
   ]
  },
  {
   "cell_type": "code",
   "execution_count": 62,
   "id": "4ab30039",
   "metadata": {},
   "outputs": [
    {
     "name": "stdout",
     "output_type": "stream",
     "text": [
      "deneme\n",
      "\n",
      "son satır\n"
     ]
    }
   ],
   "source": [
    "print(\"deneme\")\n",
    "print()\n",
    "print('son satır')"
   ]
  },
  {
   "cell_type": "code",
   "execution_count": 63,
   "id": "f9ba3ffb",
   "metadata": {},
   "outputs": [
    {
     "name": "stdout",
     "output_type": "stream",
     "text": [
      "\n"
     ]
    }
   ],
   "source": [
    "print('')"
   ]
  },
  {
   "cell_type": "code",
   "execution_count": 64,
   "id": "85a5d892",
   "metadata": {},
   "outputs": [],
   "source": [
    "# sadece parantez veya tırnaklı ama içi boş aynı sonucu verir alt satıra geçer boş bırakır."
   ]
  },
  {
   "cell_type": "code",
   "execution_count": 65,
   "id": "60830b18",
   "metadata": {},
   "outputs": [
    {
     "name": "stdout",
     "output_type": "stream",
     "text": [
      "3 4\n"
     ]
    }
   ],
   "source": [
    "print(3, 4) #integır olduğu için virgülü algılamadı sayıları ayırmak için kullandı"
   ]
  },
  {
   "cell_type": "code",
   "execution_count": 66,
   "id": "afff34d2",
   "metadata": {},
   "outputs": [
    {
     "ename": "SyntaxError",
     "evalue": "EOF while scanning triple-quoted string literal (Temp/ipykernel_14516/145691213.py, line 1)",
     "output_type": "error",
     "traceback": [
      "\u001b[1;36m  File \u001b[1;32m\"C:\\Users\\user\\AppData\\Local\\Temp/ipykernel_14516/145691213.py\"\u001b[1;36m, line \u001b[1;32m1\u001b[0m\n\u001b[1;33m    print('''') #iki tek tırnak kullanımı yok bunu üç tek tırnak ve 1 tek tırnak olarak algılar ve hata verir\u001b[0m\n\u001b[1;37m                                                                                                             ^\u001b[0m\n\u001b[1;31mSyntaxError\u001b[0m\u001b[1;31m:\u001b[0m EOF while scanning triple-quoted string literal\n"
     ]
    }
   ],
   "source": [
    "print('''') #iki tek tırnak kullanımı yok bunu üç tek tırnak ve 1 tek tırnak olarak algılar ve hata verir"
   ]
  },
  {
   "cell_type": "code",
   "execution_count": 67,
   "id": "cbd368ca",
   "metadata": {},
   "outputs": [
    {
     "name": "stdout",
     "output_type": "stream",
     "text": [
      "''\n"
     ]
    }
   ],
   "source": [
    "print(\"''\")"
   ]
  },
  {
   "cell_type": "code",
   "execution_count": 68,
   "id": "13549ff9",
   "metadata": {},
   "outputs": [
    {
     "name": "stdout",
     "output_type": "stream",
     "text": [
      "\"\"\n"
     ]
    }
   ],
   "source": [
    "print('\"\"')"
   ]
  },
  {
   "cell_type": "code",
   "execution_count": 69,
   "id": "b487d87b",
   "metadata": {},
   "outputs": [
    {
     "name": "stdout",
     "output_type": "stream",
     "text": [
      "bugün 23 nisan\n"
     ]
    }
   ],
   "source": [
    "print('bugün 23 nisan')  # okulda gösteri var\n",
    "# ama ben gitmedim evde ders var"
   ]
  },
  {
   "cell_type": "code",
   "execution_count": 70,
   "id": "485a108e",
   "metadata": {},
   "outputs": [
    {
     "name": "stdout",
     "output_type": "stream",
     "text": [
      "\n",
      "\n",
      "\n"
     ]
    }
   ],
   "source": [
    "print()\n",
    "print('')\n",
    "print(\"\")\n",
    "#hepsi boş çıkar"
   ]
  },
  {
   "cell_type": "code",
   "execution_count": 71,
   "id": "8a179519",
   "metadata": {},
   "outputs": [
    {
     "data": {
      "text/plain": [
       "6"
      ]
     },
     "execution_count": 71,
     "metadata": {},
     "output_type": "execute_result"
    }
   ],
   "source": [
    "3+3"
   ]
  },
  {
   "cell_type": "code",
   "execution_count": 72,
   "id": "b643cf7f",
   "metadata": {},
   "outputs": [],
   "source": [
    "# ...\n",
    "# ,,,\n",
    "# ...\n",
    "x=35  # müşteri sayısı\n",
    "y=24  #adam sayısı"
   ]
  },
  {
   "cell_type": "code",
   "execution_count": null,
   "id": "8b85a3c9",
   "metadata": {},
   "outputs": [],
   "source": [
    "ctrl / bölme tuşu hepsini comment yapar"
   ]
  },
  {
   "cell_type": "code",
   "execution_count": null,
   "id": "5f3905cc",
   "metadata": {},
   "outputs": [],
   "source": [
    "# 'ALİ'\n",
    "# 'VELİ'\n",
    "# 'DELİ'"
   ]
  },
  {
   "cell_type": "code",
   "execution_count": 73,
   "id": "b0792488",
   "metadata": {},
   "outputs": [],
   "source": [
    "team='fenerbahçe'\n",
    "kupa=20\n",
    "stat_kapasite= 42.50"
   ]
  },
  {
   "cell_type": "code",
   "execution_count": 74,
   "id": "e5e903b4",
   "metadata": {},
   "outputs": [
    {
     "name": "stdout",
     "output_type": "stream",
     "text": [
      "ali 33 aslı\n"
     ]
    }
   ],
   "source": [
    "x='ali'\n",
    "\n",
    "b=33\n",
    "\n",
    "c= 'aslı'\n",
    "\n",
    "print(x, b, c)"
   ]
  },
  {
   "cell_type": "code",
   "execution_count": 75,
   "id": "12fd499d",
   "metadata": {},
   "outputs": [
    {
     "name": "stdout",
     "output_type": "stream",
     "text": [
      "30\n"
     ]
    }
   ],
   "source": [
    "my_age=33\n",
    "yor_age=30\n",
    "my_age=yor_age\n",
    "print(my_age)"
   ]
  },
  {
   "cell_type": "code",
   "execution_count": null,
   "id": "64312b0f",
   "metadata": {},
   "outputs": [],
   "source": [
    "# yukarıdan aşağı soldan sağa okunur kod.önce değişkene değer atadı sonra tekrar değişkene değer atadı\n",
    "# sonra my_age değişkennine yor_age değerini atadı."
   ]
  },
  {
   "cell_type": "code",
   "execution_count": 76,
   "id": "3606699a",
   "metadata": {},
   "outputs": [],
   "source": [
    "x=['ali', 'aslı', 'ahmet']\n",
    "\n",
    "# çok sonra bakınca x neydi unutulur\n",
    "# ama ismi düzgün verirsek unutmayız\n",
    "\n",
    "kardeşler=['ali', 'aslı', 'ahmet']"
   ]
  },
  {
   "cell_type": "code",
   "execution_count": 77,
   "id": "96fcafd1",
   "metadata": {},
   "outputs": [],
   "source": [
    "AHMET= 'abi' # çalışır ama büyük harf kullanmayın"
   ]
  },
  {
   "cell_type": "code",
   "execution_count": 78,
   "id": "c541a754",
   "metadata": {},
   "outputs": [
    {
     "name": "stdout",
     "output_type": "stream",
     "text": [
      "ali\n",
      "ali\n",
      "ali\n"
     ]
    }
   ],
   "source": [
    "x=y=z='ali'\n",
    "print(x)\n",
    "print(y)\n",
    "print(z)"
   ]
  },
  {
   "cell_type": "code",
   "execution_count": 79,
   "id": "946abb4c",
   "metadata": {},
   "outputs": [
    {
     "name": "stdout",
     "output_type": "stream",
     "text": [
      "31 28 31 30 31 30 31 31 30 31 31 30 33\n"
     ]
    }
   ],
   "source": [
    "jan = marc = may = july = agu = oct = dec = 31\n",
    "feb = 28\n",
    "april = june = sept = nov = 30\n",
    "print (jan, feb, marc, april, may, june, july, agu, sept, oct, dec, nov, '33')"
   ]
  },
  {
   "cell_type": "code",
   "execution_count": null,
   "id": "7f2a1f29",
   "metadata": {},
   "outputs": [],
   "source": [
    "# değişkenleri tırnak içine almıyorum eğer değer çıktısı istiyorsam onu tırnak içine alıyorum."
   ]
  },
  {
   "cell_type": "code",
   "execution_count": 80,
   "id": "af284f94",
   "metadata": {},
   "outputs": [
    {
     "name": "stdout",
     "output_type": "stream",
     "text": [
      "22 11\n"
     ]
    }
   ],
   "source": [
    "C=11\n",
    "c=22\n",
    "print(c, C)"
   ]
  },
  {
   "cell_type": "code",
   "execution_count": 81,
   "id": "ce06e977",
   "metadata": {},
   "outputs": [],
   "source": [
    " #büyük harf küçük harf farkını algılar"
   ]
  },
  {
   "cell_type": "code",
   "execution_count": 82,
   "id": "d9d18573",
   "metadata": {},
   "outputs": [
    {
     "data": {
      "text/plain": [
       "str"
      ]
     },
     "execution_count": 82,
     "metadata": {},
     "output_type": "execute_result"
    }
   ],
   "source": [
    "type(\"alivelideli\")"
   ]
  },
  {
   "cell_type": "code",
   "execution_count": 83,
   "id": "8e6420da",
   "metadata": {},
   "outputs": [
    {
     "data": {
      "text/plain": [
       "str"
      ]
     },
     "execution_count": 83,
     "metadata": {},
     "output_type": "execute_result"
    }
   ],
   "source": [
    "type(\"ali, veli, deli\")"
   ]
  },
  {
   "cell_type": "code",
   "execution_count": 84,
   "id": "e97bd4d5",
   "metadata": {},
   "outputs": [
    {
     "data": {
      "text/plain": [
       "int"
      ]
     },
     "execution_count": 84,
     "metadata": {},
     "output_type": "execute_result"
    }
   ],
   "source": [
    "type(c)"
   ]
  },
  {
   "cell_type": "code",
   "execution_count": 85,
   "id": "4435ab07",
   "metadata": {},
   "outputs": [
    {
     "data": {
      "text/plain": [
       "10.5"
      ]
     },
     "execution_count": 85,
     "metadata": {},
     "output_type": "execute_result"
    }
   ],
   "source": [
    "10.5"
   ]
  },
  {
   "cell_type": "code",
   "execution_count": 86,
   "id": "da4e7997",
   "metadata": {},
   "outputs": [
    {
     "data": {
      "text/plain": [
       "float"
      ]
     },
     "execution_count": 86,
     "metadata": {},
     "output_type": "execute_result"
    }
   ],
   "source": [
    "type(10.5)"
   ]
  },
  {
   "cell_type": "code",
   "execution_count": 87,
   "id": "dd391ffd",
   "metadata": {},
   "outputs": [
    {
     "data": {
      "text/plain": [
       "True"
      ]
     },
     "execution_count": 87,
     "metadata": {},
     "output_type": "execute_result"
    }
   ],
   "source": [
    "10==10.0 #çift eşittir EŞİT Mİ? demek"
   ]
  },
  {
   "cell_type": "code",
   "execution_count": 88,
   "id": "f9eafc1e",
   "metadata": {},
   "outputs": [
    {
     "data": {
      "text/plain": [
       "564.0"
      ]
     },
     "execution_count": 88,
     "metadata": {},
     "output_type": "execute_result"
    }
   ],
   "source": [
    "float(564)"
   ]
  },
  {
   "cell_type": "code",
   "execution_count": null,
   "id": "950d0c47",
   "metadata": {},
   "outputs": [],
   "source": []
  },
  {
   "cell_type": "code",
   "execution_count": null,
   "id": "1ef9775d",
   "metadata": {},
   "outputs": [],
   "source": []
  },
  {
   "cell_type": "code",
   "execution_count": 105,
   "id": "aaa26037",
   "metadata": {},
   "outputs": [
    {
     "name": "stdout",
     "output_type": "stream",
     "text": [
      "79 karakteri gemiyoruz. geçersen de hata vermez ama kodun yana doğru uzar gir. burada olduğu gibi ters slash kullanarak alt satıra geçebiliyorsunuz. bakın yukarıda sanki tek satırda kalmış gibi ekrana yazdırdı.\n"
     ]
    }
   ],
   "source": [
    "print(\"79 karakteri gemiyoruz. geçersen de hata vermez ama kodun yana doğru uzar gir.\\\n",
    " burada olduğu gibi ters slash kullanarak alt satıra geçebiliyorsunuz.\\\n",
    " bakın yukarıda sanki tek satırda kalmış gibi ekrana yazdırdı.\")"
   ]
  },
  {
   "cell_type": "code",
   "execution_count": 104,
   "id": "af47154e",
   "metadata": {},
   "outputs": [
    {
     "name": "stdout",
     "output_type": "stream",
     "text": [
      "2\n"
     ]
    },
    {
     "data": {
      "text/plain": [
       "'This is a comment\\nwritten in \\nmore that just one line'"
      ]
     },
     "execution_count": 104,
     "metadata": {},
     "output_type": "execute_result"
    }
   ],
   "source": [
    "print(2)\n",
    "\"\"\"This is a comment\n",
    "written in \n",
    "more that just one line\"\"\""
   ]
  },
  {
   "cell_type": "code",
   "execution_count": 5,
   "id": "c3b4c00f",
   "metadata": {},
   "outputs": [
    {
     "name": "stdout",
     "output_type": "stream",
     "text": [
      "This is a comment\n",
      "written in \n",
      "more that just one line\n"
     ]
    }
   ],
   "source": [
    "print(\"\"\"This is a comment\n",
    "written in \n",
    "more that just one line\"\"\")"
   ]
  },
  {
   "cell_type": "code",
   "execution_count": 6,
   "id": "098d4451",
   "metadata": {},
   "outputs": [],
   "source": [
    "# \"\"\"This is a comment\n",
    "# written in \n",
    "# more that just one line\"\"\""
   ]
  },
  {
   "cell_type": "code",
   "execution_count": 7,
   "id": "a7020f8a",
   "metadata": {},
   "outputs": [
    {
     "name": "stdout",
     "output_type": "stream",
     "text": [
      "2\n",
      "12\n"
     ]
    }
   ],
   "source": [
    "print(2)\n",
    "\"\"\"This is a comment \n",
    "written in more \n",
    "that just one line\"\"\"\n",
    "print(12)"
   ]
  },
  {
   "cell_type": "code",
   "execution_count": 8,
   "id": "4858dbd2",
   "metadata": {},
   "outputs": [
    {
     "name": "stdout",
     "output_type": "stream",
     "text": [
      "79 karakteri gemiyoruz. geçersen de hata vermez ama kodun yana doğru uzar gir. burada olduğu gibi ters slash kullanarak alt satıra geçebiliyorsunuz. bakın yukarıda sanki tek satırda kalmış gibi ekrana yazdırdı.\n"
     ]
    }
   ],
   "source": [
    "print(\"79 karakteri gemiyoruz. geçersen de hata vermez ama kodun yana doğru uzar gir.\\\n",
    " burada olduğu gibi ters slash kullanarak alt satıra geçebiliyorsunuz.\\\n",
    " bakın yukarıda sanki tek satırda kalmış gibi ekrana yazdırdı.\")"
   ]
  },
  {
   "cell_type": "code",
   "execution_count": 9,
   "id": "23859148",
   "metadata": {},
   "outputs": [
    {
     "name": "stdout",
     "output_type": "stream",
     "text": [
      "ben buraya uzun bir kod yazıp hepsini tek satırda görmek istiyorum\n"
     ]
    }
   ],
   "source": [
    "print('ben buraya uzun bir kod yazıp hepsini tek satırda görmek istiyorum')"
   ]
  },
  {
   "cell_type": "code",
   "execution_count": 10,
   "id": "9b52409a",
   "metadata": {},
   "outputs": [
    {
     "name": "stdout",
     "output_type": "stream",
     "text": [
      "ben buraya uzun bir kod yazıp hepsini tek satırda görmek istiyorum ama galiba yeterince çok uzun oladı\n"
     ]
    }
   ],
   "source": [
    "print('ben buraya uzun bir kod yazıp hepsini tek satırda görmek istiyorum ama galiba yeterince çok uzun oladı')"
   ]
  },
  {
   "cell_type": "code",
   "execution_count": 11,
   "id": "6810a19f",
   "metadata": {},
   "outputs": [
    {
     "name": "stdout",
     "output_type": "stream",
     "text": [
      "ben buraya uzun bir kod yazıp hepsini tek satırda görmek istiyorum ama galiba yeterince çok uzun olmadı bunun için kodu daha fazla uzatıyorum\n"
     ]
    }
   ],
   "source": [
    "print('ben buraya uzun bir kod yazıp hepsini tek satırda görmek istiyorum ama galiba yeterince çok uzun olmadı bunun için kodu daha fazla uzatıyorum')"
   ]
  },
  {
   "cell_type": "code",
   "execution_count": 107,
   "id": "23667e5b",
   "metadata": {},
   "outputs": [
    {
     "name": "stdout",
     "output_type": "stream",
     "text": [
      "ben buraya uzun bir kod yazıp hepsini tek satırda görmek istiyorum ama galiba yeterince çok uzun olmadı bunun için kodu daha fazla uzatıyorum\n"
     ]
    }
   ],
   "source": [
    "print('ben buraya uzun bir kod yazıp hepsini tek satırda görmek \\\n",
    "istiyorum ama galiba yeterince çok uzun olmadı bunun için kodu daha fazla uzatıyorum')"
   ]
  },
  {
   "cell_type": "code",
   "execution_count": 109,
   "id": "9d9102c4",
   "metadata": {},
   "outputs": [
    {
     "name": "stdout",
     "output_type": "stream",
     "text": [
      "ben buraya uzun bir kod yazıp hepsini tek satırda görmek  istiyorum ama galiba yeterince çok uzun olmadı bunun için kodu  daha fazla uzatıyorum\n"
     ]
    }
   ],
   "source": [
    "print('ben buraya uzun bir kod yazıp hepsini tek satırda görmek \\\n",
    " istiyorum ama galiba yeterince çok uzun olmadı bunun için kodu \\\n",
    " daha fazla uzatıyorum')"
   ]
  },
  {
   "cell_type": "code",
   "execution_count": 14,
   "id": "558da572",
   "metadata": {},
   "outputs": [
    {
     "ename": "SyntaxError",
     "evalue": "EOL while scanning string literal (Temp/ipykernel_14516/255572567.py, line 1)",
     "output_type": "error",
     "traceback": [
      "\u001b[1;36m  File \u001b[1;32m\"C:\\Users\\user\\AppData\\Local\\Temp/ipykernel_14516/255572567.py\"\u001b[1;36m, line \u001b[1;32m1\u001b[0m\n\u001b[1;33m    print('ben buraya uzun bir kod yazıp hepsini tek satırda görmek\u001b[0m\n\u001b[1;37m                                                                    ^\u001b[0m\n\u001b[1;31mSyntaxError\u001b[0m\u001b[1;31m:\u001b[0m EOL while scanning string literal\n"
     ]
    }
   ],
   "source": [
    "print('ben buraya uzun bir kod yazıp hepsini tek satırda görmek \n",
    "istiyorum ama galiba yeterince çok uzun olmadı bunun için kodu daha fazla uzatıyorum')"
   ]
  },
  {
   "cell_type": "code",
   "execution_count": 15,
   "id": "049d92be",
   "metadata": {},
   "outputs": [
    {
     "name": "stdout",
     "output_type": "stream",
     "text": [
      "ben buraya uzun bir kod yazıp hepsini tek satırda görmek  istiyorum ama galiba yeterince çok uzun olmadı bunun için kodu daha fazla uzatıyorum\n"
     ]
    }
   ],
   "source": [
    "print('ben buraya uzun bir kod yazıp hepsini tek satırda görmek \\\n",
    " istiyorum ama galiba yeterince çok uzun olmadı bunun için kodu daha fazla uzatıyorum')"
   ]
  },
  {
   "cell_type": "code",
   "execution_count": 16,
   "id": "e9ce47a9",
   "metadata": {},
   "outputs": [
    {
     "ename": "SyntaxError",
     "evalue": "EOL while scanning string literal (Temp/ipykernel_14516/708388640.py, line 1)",
     "output_type": "error",
     "traceback": [
      "\u001b[1;36m  File \u001b[1;32m\"C:\\Users\\user\\AppData\\Local\\Temp/ipykernel_14516/708388640.py\"\u001b[1;36m, line \u001b[1;32m1\u001b[0m\n\u001b[1;33m    print('ben buraya uzun bir kod yazıp hepsini tek satırda görmek\u001b[0m\n\u001b[1;37m                                                                   ^\u001b[0m\n\u001b[1;31mSyntaxError\u001b[0m\u001b[1;31m:\u001b[0m EOL while scanning string literal\n"
     ]
    }
   ],
   "source": [
    "print('ben buraya uzun bir kod yazıp hepsini tek satırda görmek\n",
    "istiyorum ama galiba yeterince çok uzun olmadı bunun için kodu\n",
    "\\ndaha fazla uzatıyorum')"
   ]
  },
  {
   "cell_type": "code",
   "execution_count": 17,
   "id": "ce25f877",
   "metadata": {},
   "outputs": [
    {
     "ename": "SyntaxError",
     "evalue": "EOL while scanning string literal (Temp/ipykernel_14516/4100774152.py, line 2)",
     "output_type": "error",
     "traceback": [
      "\u001b[1;36m  File \u001b[1;32m\"C:\\Users\\user\\AppData\\Local\\Temp/ipykernel_14516/4100774152.py\"\u001b[1;36m, line \u001b[1;32m2\u001b[0m\n\u001b[1;33m    istiyorum ama galiba yeterince çok uzun olmadı bunun için kodu\u001b[0m\n\u001b[1;37m                                                                  \n^\u001b[0m\n\u001b[1;31mSyntaxError\u001b[0m\u001b[1;31m:\u001b[0m EOL while scanning string literal\n"
     ]
    }
   ],
   "source": [
    "print('ben buraya uzun bir kod yazıp hepsini tek satırda görmek \\\n",
    "istiyorum ama galiba yeterince çok uzun olmadı bunun için kodu\n",
    "\\ndaha fazla uzatıyorum')"
   ]
  },
  {
   "cell_type": "code",
   "execution_count": 18,
   "id": "e1612b26",
   "metadata": {},
   "outputs": [
    {
     "name": "stdout",
     "output_type": "stream",
     "text": [
      "ben buraya uzun bir kod yazıp hepsini tek satırda görmek \n",
      "istiyorum ama galiba yeterince çok uzun olmadı bunun için kodu \n",
      "daha fazla uzatıyorum\n"
     ]
    }
   ],
   "source": [
    "print('ben buraya uzun bir kod yazıp hepsini tek satırda görmek \\\n",
    "\\nistiyorum ama galiba yeterince çok uzun olmadı bunun için kodu \\\n",
    "\\ndaha fazla uzatıyorum')"
   ]
  },
  {
   "cell_type": "code",
   "execution_count": 19,
   "id": "0a72cc6a",
   "metadata": {},
   "outputs": [
    {
     "name": "stdout",
     "output_type": "stream",
     "text": [
      "ben buraya uzun bir kod yazıp hepsini tek satırda görmek \\ istiyorum ama galiba yeterince çok uzun olmadı bunun için kodu daha fazla uzatıyorum\n"
     ]
    }
   ],
   "source": [
    "print('ben buraya uzun bir kod yazıp hepsini tek satırda görmek \\ istiyorum ama galiba yeterince çok uzun olmadı bunun için kodu daha fazla uzatıyorum')"
   ]
  },
  {
   "cell_type": "code",
   "execution_count": 20,
   "id": "29621b78",
   "metadata": {},
   "outputs": [
    {
     "name": "stdout",
     "output_type": "stream",
     "text": [
      "ben buraya uzun bir kod yazıp hepsini tek satırda görmek \n",
      "istiyorum ama galiba yeterince çok uzun olmadı bunun için kodu \n",
      " daha fazla uzatıyorum\n"
     ]
    }
   ],
   "source": [
    "print('ben buraya uzun bir kod yazıp hepsini tek satırda görmek \\\n",
    "\\nistiyorum ama galiba yeterince çok uzun olmadı bunun için kodu \\\n",
    "\\n daha fazla uzatıyorum')"
   ]
  },
  {
   "cell_type": "code",
   "execution_count": 21,
   "id": "f4d0c61c",
   "metadata": {},
   "outputs": [
    {
     "name": "stdout",
     "output_type": "stream",
     "text": [
      "<class 'float'>\n"
     ]
    }
   ],
   "source": [
    "i=3\n",
    "\n",
    "f=float(i)\n",
    "print(type(f))"
   ]
  },
  {
   "cell_type": "code",
   "execution_count": 22,
   "id": "ea771a1d",
   "metadata": {},
   "outputs": [
    {
     "name": "stdout",
     "output_type": "stream",
     "text": [
      "3.0 \n",
      "\n",
      "<class 'float'>\n"
     ]
    }
   ],
   "source": [
    "i=3\n",
    "\n",
    "f=float(i)\n",
    "print(f, '\\n')\n",
    "print(type(f))"
   ]
  },
  {
   "cell_type": "code",
   "execution_count": 23,
   "id": "61e28617",
   "metadata": {},
   "outputs": [
    {
     "name": "stdout",
     "output_type": "stream",
     "text": [
      "<class 'float'>\n"
     ]
    }
   ],
   "source": [
    "i=3\n",
    "\n",
    "f=float(i)\n",
    "print(type(f))"
   ]
  },
  {
   "cell_type": "code",
   "execution_count": 24,
   "id": "c362cfa2",
   "metadata": {},
   "outputs": [
    {
     "name": "stdout",
     "output_type": "stream",
     "text": [
      "t\n"
     ]
    }
   ],
   "source": [
    "isim='mustafa'\n",
    "print(isim[3])"
   ]
  },
  {
   "cell_type": "code",
   "execution_count": 25,
   "id": "1ef36f30",
   "metadata": {},
   "outputs": [
    {
     "name": "stdout",
     "output_type": "stream",
     "text": [
      "t\n"
     ]
    }
   ],
   "source": [
    "isim='mustafa'\n",
    "print(isim[3:4])"
   ]
  },
  {
   "cell_type": "code",
   "execution_count": 26,
   "id": "249f983f",
   "metadata": {},
   "outputs": [
    {
     "name": "stdout",
     "output_type": "stream",
     "text": [
      "ta\n"
     ]
    }
   ],
   "source": [
    "isim='mustafa'\n",
    "print(isim[3:5])"
   ]
  },
  {
   "cell_type": "code",
   "execution_count": 27,
   "id": "8c017c38",
   "metadata": {},
   "outputs": [
    {
     "name": "stdout",
     "output_type": "stream",
     "text": [
      "isim\n"
     ]
    }
   ],
   "source": [
    "isim='mustafa'\n",
    "print('isim')"
   ]
  },
  {
   "cell_type": "code",
   "execution_count": 28,
   "id": "04ca6a5c",
   "metadata": {},
   "outputs": [
    {
     "name": "stdout",
     "output_type": "stream",
     "text": [
      "isimli\n"
     ]
    }
   ],
   "source": [
    "isim='mustafa'\n",
    "print('isimli')"
   ]
  },
  {
   "cell_type": "code",
   "execution_count": 29,
   "id": "35e58e7c",
   "metadata": {},
   "outputs": [
    {
     "name": "stdout",
     "output_type": "stream",
     "text": [
      "tafa\n"
     ]
    }
   ],
   "source": [
    "isim='mustafa'\n",
    "print(isim[3:])"
   ]
  },
  {
   "cell_type": "code",
   "execution_count": 30,
   "id": "56decd1e",
   "metadata": {},
   "outputs": [
    {
     "name": "stdout",
     "output_type": "stream",
     "text": [
      "m\n"
     ]
    }
   ],
   "source": [
    "isim='mustafa'\n",
    "print(isim[0])"
   ]
  },
  {
   "cell_type": "code",
   "execution_count": 31,
   "id": "d7734553",
   "metadata": {},
   "outputs": [
    {
     "name": "stdout",
     "output_type": "stream",
     "text": [
      "V44ry Happy with your fri44nd for44v44r\n"
     ]
    }
   ],
   "source": [
    "sentence='Very Happy with your friend forever'\n",
    "print(sentence.replace(\"e\", \"44\"))"
   ]
  },
  {
   "cell_type": "code",
   "execution_count": 32,
   "id": "7fbc4abd",
   "metadata": {},
   "outputs": [
    {
     "name": "stdout",
     "output_type": "stream",
     "text": [
      "V44ry Happy with your fri44nd for44v44r\n"
     ]
    }
   ],
   "source": [
    "print(sentence.replace(\"e\", \"44\"))"
   ]
  },
  {
   "cell_type": "code",
   "execution_count": 33,
   "id": "99ba5e0a",
   "metadata": {},
   "outputs": [
    {
     "name": "stdout",
     "output_type": "stream",
     "text": [
      "V44ry Happy with your fri44nd for44v44r\n"
     ]
    }
   ],
   "source": [
    "print(sentence.replace('e', '44'))"
   ]
  },
  {
   "cell_type": "code",
   "execution_count": 34,
   "id": "1f3eff00",
   "metadata": {},
   "outputs": [
    {
     "name": "stdout",
     "output_type": "stream",
     "text": [
      "V44ry Happy with your fri44nd for44v44r\n"
     ]
    }
   ],
   "source": [
    "print(sentence.replace(\"e\", \"44\"))"
   ]
  },
  {
   "cell_type": "code",
   "execution_count": 35,
   "id": "6a42ea8e",
   "metadata": {},
   "outputs": [
    {
     "name": "stdout",
     "output_type": "stream",
     "text": [
      "70.0 F is enough for room temperature.\n"
     ]
    }
   ],
   "source": [
    "a = 36.5\n",
    "b = '30'\n",
    "c = '3.5'\n",
    "d = ' F is enough for room temperature.'\n",
    "\n",
    "print(str(a+int(b)+float(c))+d)"
   ]
  },
  {
   "cell_type": "code",
   "execution_count": 36,
   "id": "a280ccb0",
   "metadata": {},
   "outputs": [
    {
     "name": "stdout",
     "output_type": "stream",
     "text": [
      "Clarusway, Clarusway, Clarusway,\n",
      " \t Clarusway, Clarusway, Clarusway,\n",
      " \t \t Clarusway, Clarusway, Clarusway,\n"
     ]
    }
   ],
   "source": [
    "text = \"Clarusway, Clarusway, Clarusway,\\n \\t Clarusway, Clarusway, Clarusway,\\n \\t \\t Clarusway, Clarusway, Clarusway,\"\n",
    "\n",
    "print(text)"
   ]
  },
  {
   "cell_type": "code",
   "execution_count": 37,
   "id": "fadfdf34",
   "metadata": {},
   "outputs": [
    {
     "name": "stdout",
     "output_type": "stream",
     "text": [
      "Clarusway, Clarusway, Clarusway, \t Clarusway, Clarusway, Clarusway, \t \t Clarusway, Clarusway, Clarusway,\n"
     ]
    }
   ],
   "source": [
    "text = \"Clarusway, Clarusway, Clarusway, \\t Clarusway, Clarusway, Clarusway, \\t \\t Clarusway, Clarusway, Clarusway,\"\n",
    "print(text)"
   ]
  },
  {
   "cell_type": "code",
   "execution_count": 38,
   "id": "06824959",
   "metadata": {},
   "outputs": [
    {
     "name": "stdout",
     "output_type": "stream",
     "text": [
      "Clarusway, Clarusway, Clarusway,\n",
      "\tClarusway, Clarusway, Clarusway,\n",
      "\t\tClarusway, Clarusway, Clarusway\n"
     ]
    }
   ],
   "source": [
    "text = \"Clarusway, Clarusway, Clarusway,\\n\\tClarusway, Clarusway, Clarusway,\\n\\t\\tClarusway, Clarusway, Clarusway\"\n",
    "\n",
    "print(text)"
   ]
  },
  {
   "cell_type": "code",
   "execution_count": 39,
   "id": "174220ca",
   "metadata": {},
   "outputs": [
    {
     "name": "stdout",
     "output_type": "stream",
     "text": [
      "<class 'int'>\n"
     ]
    }
   ],
   "source": [
    "a = 5\n",
    "print(type(a))"
   ]
  },
  {
   "cell_type": "code",
   "execution_count": 40,
   "id": "a400c49e",
   "metadata": {},
   "outputs": [
    {
     "name": "stdout",
     "output_type": "stream",
     "text": [
      "<class 'float'>\n"
     ]
    }
   ],
   "source": [
    "b = 3.1\n",
    "print(type(b))"
   ]
  },
  {
   "cell_type": "code",
   "execution_count": 41,
   "id": "623f8c66",
   "metadata": {},
   "outputs": [
    {
     "name": "stdout",
     "output_type": "stream",
     "text": [
      "datatype of number_int: <class 'int'>\n",
      "datatype of number_flt: <class 'float'>\n",
      "Value of number_new: 124.23\n",
      "datatype of number_new: <class 'float'>\n"
     ]
    }
   ],
   "source": [
    "number_int = 123\n",
    "number_flt = 1.23\n",
    "number_new = number_int + number_flt\n",
    "\n",
    "print(\"datatype of number_int:\",type(number_int))\n",
    "print(\"datatype of number_flt:\",type(number_flt))\n",
    "\n",
    "print(\"Value of number_new:\", number_new)\n",
    "print(\"datatype of number_new:\",type(number_new))"
   ]
  },
  {
   "cell_type": "code",
   "execution_count": 42,
   "id": "5a9c5527",
   "metadata": {},
   "outputs": [
    {
     "ename": "TypeError",
     "evalue": "unsupported operand type(s) for +: 'int' and 'str'",
     "output_type": "error",
     "traceback": [
      "\u001b[1;31m---------------------------------------------------------------------------\u001b[0m",
      "\u001b[1;31mTypeError\u001b[0m                                 Traceback (most recent call last)",
      "\u001b[1;32m~\\AppData\\Local\\Temp/ipykernel_14516/30323492.py\u001b[0m in \u001b[0;36m<module>\u001b[1;34m\u001b[0m\n\u001b[0;32m      1\u001b[0m \u001b[0ma\u001b[0m \u001b[1;33m=\u001b[0m \u001b[1;36m55\u001b[0m\u001b[1;33m\u001b[0m\u001b[1;33m\u001b[0m\u001b[0m\n\u001b[0;32m      2\u001b[0m \u001b[0mb\u001b[0m \u001b[1;33m=\u001b[0m \u001b[1;34m'44'\u001b[0m\u001b[1;33m\u001b[0m\u001b[1;33m\u001b[0m\u001b[0m\n\u001b[1;32m----> 3\u001b[1;33m \u001b[0mprint\u001b[0m\u001b[1;33m(\u001b[0m\u001b[0ma\u001b[0m \u001b[1;33m+\u001b[0m \u001b[0mb\u001b[0m\u001b[1;33m)\u001b[0m\u001b[1;33m\u001b[0m\u001b[1;33m\u001b[0m\u001b[0m\n\u001b[0m",
      "\u001b[1;31mTypeError\u001b[0m: unsupported operand type(s) for +: 'int' and 'str'"
     ]
    }
   ],
   "source": [
    "a = 55\n",
    "b = '44'\n",
    "print(a + b)"
   ]
  },
  {
   "cell_type": "code",
   "execution_count": 43,
   "id": "974585d6",
   "metadata": {},
   "outputs": [
    {
     "name": "stdout",
     "output_type": "stream",
     "text": [
      "17\n"
     ]
    }
   ],
   "source": [
    "x = 5\n",
    "y = 12\n",
    "print(x+y)"
   ]
  },
  {
   "cell_type": "code",
   "execution_count": null,
   "id": "3a9bb2a2",
   "metadata": {},
   "outputs": [],
   "source": []
  },
  {
   "cell_type": "code",
   "execution_count": null,
   "id": "f0ef9b74",
   "metadata": {},
   "outputs": [],
   "source": [
    "# GENEL TEKRAR"
   ]
  },
  {
   "cell_type": "code",
   "execution_count": null,
   "id": "441c35f3",
   "metadata": {},
   "outputs": [],
   "source": [
    "# String dataları kaç tırnak ile açılırsa o kadar tırnak ile kapatılır."
   ]
  },
  {
   "cell_type": "code",
   "execution_count": null,
   "id": "594a2c07",
   "metadata": {},
   "outputs": [],
   "source": [
    "print(\"hello world\")\n",
    "print('tek tırnak ile açılırsa örnek')\n",
    "print('''üç tane tırnak ile açılık kapanabilir''')\n",
    "print(\"\"\"çift tırnak kullanılarak string yazılabilir\"\"\")\n",
    "\n",
    "# String içinde kesme işareti varsa çift tırnak ile aç/kapa yapılır.\n",
    "print(\"Ali Baba'nın bir çiftliği var\")  \n",
    "\n",
    "# Birden fazla satırda alt alta string yazmakcaksa \"\"\" ile aç/kapa yapılır.\n",
    "print(\"\"\"Çiftliğinde inekleri var  \n",
    "meee meee diye bağırır\n",
    "Ali Baba'nın çiftliğide\"\"\")  \n",
    "\n",
    "# Satır arası boşluk bırakmak istiyorsak...\n",
    "print()\n",
    "\n",
    "# Yan yana output alabilmek için değerleri , ile ayırarak yazmamız gerekir.\n",
    "# Genel Kural!! Virgülllerden önce boşluk gelmez. virgülden sonra bir boşluk gelir.\n",
    "print(\"ali\", 'veli', 49, 50)"
   ]
  },
  {
   "cell_type": "code",
   "execution_count": null,
   "id": "49c5589c",
   "metadata": {},
   "outputs": [],
   "source": [
    "# Integer ve Float"
   ]
  },
  {
   "cell_type": "code",
   "execution_count": 89,
   "id": "7f4fd79c",
   "metadata": {},
   "outputs": [
    {
     "name": "stdout",
     "output_type": "stream",
     "text": [
      "8\n",
      "5.8\n",
      "5.7 6.9 1 Clarusway\n"
     ]
    }
   ],
   "source": [
    "# Sayılar tırnak işareti kullanılmadan yazılır.\n",
    "print(8)\n",
    "print(5.8)  # Ondalıklı sayılar nokta işateri ile ayrılır\n",
    "print(5.7, 6.9, 1, 'Clarusway')  # Virgül konularak yan yana değer alınabilir."
   ]
  },
  {
   "cell_type": "code",
   "execution_count": null,
   "id": "e2d86fad",
   "metadata": {},
   "outputs": [],
   "source": [
    "# Yazım kuralları"
   ]
  },
  {
   "cell_type": "code",
   "execution_count": 100,
   "id": "51a639bd",
   "metadata": {},
   "outputs": [
    {
     "name": "stdout",
     "output_type": "stream",
     "text": [
      "soul of python\n"
     ]
    },
    {
     "data": {
      "text/plain": [
       "False"
      ]
     },
     "execution_count": 100,
     "metadata": {},
     "output_type": "execute_result"
    }
   ],
   "source": [
    "foo = (2,)  # Virgülden sonra parantez kapanacaksa boşluk koyululmaz\n",
    "# x, z: k;   # Virgül, iki notta veya noktalı virgülden sonra boşluk bırakılmaz.\n",
    "\n",
    "print('soul of python')  # Fonksiyonlardan sonra boşluk gelmez.(yani parantez açmadan önce)\n",
    "\n",
    "x = 3 + 8  # +, -, *, == Gibi operatörlerden önce/sora birer boşluk olur.\n",
    "y == 5 * 8    \n",
    "\n",
    "# or for not and   # Bu gibi operatörlerin öncesi/sonrası boşluk gelir.\n",
    "\n",
    "# Tek başına 'l' ve 'O' harfi kullanılmaz. '1've '0(sıfır)' rakamı ile karıştırmamak için."
   ]
  },
  {
   "cell_type": "code",
   "execution_count": 92,
   "id": "df6f967e",
   "metadata": {},
   "outputs": [],
   "source": [
    "# Yorum yazım kuralları"
   ]
  },
  {
   "cell_type": "code",
   "execution_count": 91,
   "id": "ffb49ee2",
   "metadata": {},
   "outputs": [
    {
     "name": "stdout",
     "output_type": "stream",
     "text": [
      "Hatırlatma ödevlerin son teslim tarihi 6 Mayıs\n"
     ]
    }
   ],
   "source": [
    "print('Hatırlatma ödevlerin son teslim tarihi 6 Mayıs')  # Dikkat\n",
    "# Yorum işareti #'dan önce iki sonra bir boşluk bırakılır.\n",
    "# Yorumlar tutarlı, gereksiz ve güncel olmalı.\n",
    "# Toplu comment almak için, satırlar seçilmeli ce ctrl+ /(bölme) tuşlarına basılmalı"
   ]
  },
  {
   "cell_type": "code",
   "execution_count": null,
   "id": "c9db765a",
   "metadata": {},
   "outputs": [],
   "source": [
    "#Variable (Değişkenler)"
   ]
  },
  {
   "cell_type": "code",
   "execution_count": null,
   "id": "ca91c631",
   "metadata": {},
   "outputs": [],
   "source": [
    "isim = 'Michael '  # Değikenlerin bir adı vardır. Örn: 'isim'\n",
    "\n",
    "yaş = 49  # Değişkenlere bir değer atanır. Örn '49'\n",
    "\n",
    "print(isim, yaş)  # Değişken isimleri bu şekilde \n",
    "\n",
    "math_score = 30  # Değişkene verilen isim çok uzun olmamalı\n",
    "                 # Kelimeleri çağrıştırmalı, karışık olmamalı\n",
    "                 # Kelimeler sadece alt çizgi _ ile ayrılmalı\n",
    " # if, or, and gibi Python keywords'lerini değişken olarak yazamayız.\n",
    " # değişken isimleri Rakam veya Özel harflerle başlayamaz '!,@.$'\n",
    "\n",
    "\n",
    "x = 2\n",
    "y = None  # Daha sonra değer koymak istediğimiz değişkene ' None ' değerini verebiliriz.\n",
    "z = 9\n",
    "\n",
    "#Büyük/ küçük harflere dikkat edilmeli. Yazım yanlışı yapılmalı."
   ]
  },
  {
   "cell_type": "code",
   "execution_count": 93,
   "id": "ca1a9b7b",
   "metadata": {},
   "outputs": [
    {
     "name": "stdout",
     "output_type": "stream",
     "text": [
      "33 55 33\n"
     ]
    }
   ],
   "source": [
    "a, b, c = 5, 6, 8  # Yan yana yazılan değişkenlere yan yana değer verebiliriz\n",
    "x = y = z = 'clarusway' # Aynı değeri verebiliriz\n",
    "\n",
    "a = 11  # Bu gibi bir örnekte output alınırken yazılan en son değer kabul görür\n",
    "b = 22\n",
    "c = 44\n",
    "\n",
    "a = 33  # a için en son yazılan değer\n",
    "b = 55  # b için en son yazılan değer\n",
    "c = a  # c zten a'ya eşit \n",
    "print(a, b, c)  # Gerisini biliyorsunuz zaten"
   ]
  },
  {
   "cell_type": "code",
   "execution_count": 94,
   "id": "466ee693",
   "metadata": {},
   "outputs": [
    {
     "name": "stdout",
     "output_type": "stream",
     "text": [
      "31 28 31 30 31 30 31 31 30 31 30 31\n"
     ]
    }
   ],
   "source": [
    "jan = marc = may = july = aug = oct  = dec = 31  # Örnek\n",
    "feb = 28\n",
    "apr = june = sept = nov =30\n",
    "print(jan, feb, marc, apr, may, june, july, aug, sept, oct, nov, dec)"
   ]
  },
  {
   "cell_type": "code",
   "execution_count": 95,
   "id": "d9ad3fc7",
   "metadata": {},
   "outputs": [],
   "source": [
    "# Data Types"
   ]
  },
  {
   "cell_type": "code",
   "execution_count": 96,
   "id": "8964616c",
   "metadata": {},
   "outputs": [
    {
     "data": {
      "text/plain": [
       "float"
      ]
     },
     "execution_count": 96,
     "metadata": {},
     "output_type": "execute_result"
    }
   ],
   "source": [
    "# type fonksiyonu kullanarak değerin tipini bulabiliriz\n",
    "type('ali veli')  # String değerler\n",
    "\n",
    "type(3)  # Integer veri tipi\n",
    "\n",
    "type(8.7)  # Float veri tipi"
   ]
  },
  {
   "cell_type": "code",
   "execution_count": 97,
   "id": "91c3952a",
   "metadata": {},
   "outputs": [
    {
     "data": {
      "text/plain": [
       "True"
      ]
     },
     "execution_count": 97,
     "metadata": {},
     "output_type": "execute_result"
    }
   ],
   "source": [
    "x = 547\n",
    "str(x)  # 547 değerini string yapar\n",
    "\n",
    "y = 4.1\n",
    "int(y)  # 4.1 değerini integer yapar\n",
    "\n",
    "z = 7\n",
    "float(z)  # 7 değerini float yapar \n",
    "\n",
    "#Complex veri türü de var ama kullanmıyoruz\n",
    "\n",
    "t = 8\n",
    "bool(t == 8)  # Boolean fonksiyonu sadece  'True' mu 'False' cevabını verir."
   ]
  },
  {
   "cell_type": "code",
   "execution_count": 98,
   "id": "598abbf5",
   "metadata": {},
   "outputs": [
    {
     "data": {
      "text/plain": [
       "7.0"
      ]
     },
     "execution_count": 98,
     "metadata": {},
     "output_type": "execute_result"
    }
   ],
   "source": [
    "z = 7\n",
    "float(z)  # 7 değerini float yapar "
   ]
  }
 ],
 "metadata": {
  "kernelspec": {
   "display_name": "Python 3 (ipykernel)",
   "language": "python",
   "name": "python3"
  },
  "language_info": {
   "codemirror_mode": {
    "name": "ipython",
    "version": 3
   },
   "file_extension": ".py",
   "mimetype": "text/x-python",
   "name": "python",
   "nbconvert_exporter": "python",
   "pygments_lexer": "ipython3",
   "version": "3.9.7"
  }
 },
 "nbformat": 4,
 "nbformat_minor": 5
}
