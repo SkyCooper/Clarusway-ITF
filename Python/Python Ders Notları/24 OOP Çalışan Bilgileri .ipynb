{
 "cells": [
  {
   "cell_type": "code",
   "execution_count": null,
   "metadata": {},
   "outputs": [],
   "source": [
    "# kesişen kodlar ihsan hoca konu anlatımı, 20 Temmuz 2022"
   ]
  },
  {
   "cell_type": "code",
   "execution_count": 1,
   "metadata": {
    "id": "P92W9qEZ-UCM"
   },
   "outputs": [],
   "source": [
    "class calisan():\n",
    "  sayac = 0\n",
    "  liste = [x for x in range(1000, 9999)]\n",
    "  cikti = False\n",
    "  def __init__(self, ad, soyad, telefon, IDno = \"123\"):\n",
    "    if ad.isalpha():\n",
    "      self.__adı = ad\n",
    "    else:\n",
    "      print(\"ismi hatalı girdiniz\")\n",
    "    self.__soyad = soyad\n",
    "    if telefon.isdigit() and len(telefon) == 11 and (telefon[:2] == \"05\" or telefon[:1] == \"0\"):\n",
    "      self.__telefon = telefon\n",
    "    else:\n",
    "      print(\"Telefon numarasını hatalı girdiniz\")\n",
    "    self.__IDno = IDno\n",
    "  def GetAdi(self):\n",
    "    return self.__adı\n",
    "  def SetAdi(self, adi):\n",
    "    self.__adi = adi\n",
    "  def giris(self):\n",
    "    print(self.GetAdi(), \" Giriş yaptı\")\n",
    "  def cikis(self):\n",
    "    print(self.GetAdi(), \" Çıkış yaptı\")\n",
    "    self.cikti = True\n",
    "  def yemekhane(self):\n",
    "    self.sayac += 1\n",
    "    if self.sayac > 2 and self.cikti == True:\n",
    "      print(\"Yemekhaneye giriş hakkı 2 tanedir\")\n",
    "    else:\n",
    "      print(self.GetAdi(), \" Yemekhaneye girdi\")\n"
   ]
  },
  {
   "cell_type": "code",
   "execution_count": 2,
   "metadata": {
    "id": "epECkSJXCRF4"
   },
   "outputs": [],
   "source": [
    "class Hemsire(calisan):\n",
    "  sayac = 0\n",
    "  def __init__(self, ad, soyad, telefon, IDno, bolum, doctor):\n",
    "      super().__init__(ad, soyad, telefon, IDno=IDno)\n",
    "      self.bolum = bolum\n",
    "      self.doctor = doctor\n",
    "  def nobet(self):\n",
    "    self.sayac += 1\n",
    "    print(self.GetAdi(), self.bolum,\" de bugün nöbete kaldı\")"
   ]
  },
  {
   "cell_type": "code",
   "execution_count": 3,
   "metadata": {
    "id": "PlcZvcfnC8Jq"
   },
   "outputs": [],
   "source": [
    "hemsire1 = Hemsire(\"ayşe\", \"veli\", \"05341231212\", \"1245\", \"Acil\", \"Aylin\")\n",
    "\n"
   ]
  },
  {
   "cell_type": "code",
   "execution_count": 4,
   "metadata": {
    "id": "q2LfjrWhF1sQ"
   },
   "outputs": [],
   "source": [
    "class sekreter(calisan):\n",
    "  liste = []\n",
    "  hasta_listesi = [\"ahmet\", \"ayşe\", \"hasan\"]\n",
    "  tahlil_listesi = {}\n",
    "  def __init__(self, ad, soyad, telefon, IDno, doctor, bilgisayarID = \"1234\"):\n",
    "      super().__init__(ad, soyad, telefon, IDno=IDno)\n",
    "      self.doctor = doctor\n",
    "      self.bilgisayarID = bilgisayarID\n",
    "  def randevuver(self, saat):\n",
    "    hour, dakika = saat.split(\":\")\n",
    "    if (int(dakika) - 10) < int(saat.split(\":\")[1]) < (int(dakika) + 10) :      \n",
    "      print(\"Aynı saatte randevu var\")\n",
    "    else:\n",
    "     self.liste.append(saat)\n",
    "     print(self.liste) \n",
    "    \n",
    "  def hastacagir(self,hastano):\n",
    "    if str(hastano).isdigit():\n",
    "      self.cağirilan_hasta = self.hasta_listesi[hastano]\n",
    "      print(f\"Hasta {self.cağirilan_hasta} içeri giriniz.\")\n",
    "    else:\n",
    "      print(\"Lütfen rakamları kullanınız\")\n",
    "\n",
    "  def tahlilgonder(self, hastano, tahlil):\n",
    "    if hastano in self.tahlil_listesi:\n",
    "      print(f\"Hasta {self.cağirilan_hasta} nın tahlili önceden gönderildi.\")\n",
    "    else:\n",
    "      self.tahlil_listesi[hastano] = tahlil\n",
    "      print(f\"{tahlil} eklendi\")\n",
    " \n",
    "  def tahlilsorgula(self,hastano):\n",
    "    if hastano in self.tahlil_listesi.keys():\n",
    "      print(f\"Hastanın {hastano} tahlili görüldüğü gibidir.\")\n",
    "    else:\n",
    "      print(f\"Hastanın {hastano} tahlili mevcut değildir.\")"
   ]
  },
  {
   "cell_type": "code",
   "execution_count": 5,
   "metadata": {
    "colab": {
     "base_uri": "https://localhost:8080/"
    },
    "id": "xcwBDC8uGeqE",
    "outputId": "30f75e43-978d-411d-f69b-eafd3fb29fae"
   },
   "outputs": [
    {
     "name": "stdout",
     "output_type": "stream",
     "text": [
      "ali  Giriş yaptı\n",
      "ali  Çıkış yaptı\n",
      "ali  Yemekhaneye girdi\n",
      "Aynı saatte randevu var\n",
      "Hasta ayşe içeri giriniz.\n",
      "idrar eklendi\n",
      "Hastanın 5 tahlili görüldüğü gibidir.\n"
     ]
    }
   ],
   "source": [
    "sekreter1 = sekreter(\"ali\", \"veli\", \"05425424242\",\"1234\",\"ortapedi\",\"ayşe\")\n",
    "sekreter1.giris()\n",
    "sekreter1.cikis()\n",
    "sekreter1.yemekhane()\n",
    "sekreter1.randevuver(\"20:40\")\n",
    "sekreter1.hastacagir(1)\n",
    "sekreter1.tahlilgonder(5, \"idrar\")\n",
    "sekreter1.tahlilsorgula(5)"
   ]
  },
  {
   "cell_type": "code",
   "execution_count": 6,
   "metadata": {
    "colab": {
     "base_uri": "https://localhost:8080/"
    },
    "id": "f-JE8poMzLgN",
    "outputId": "7ecf89b9-d7ce-4bf3-a5ac-641a50242bee"
   },
   "outputs": [
    {
     "name": "stdout",
     "output_type": "stream",
     "text": [
      "Hasta ayşe içeri giriniz.\n",
      "idrar eklendi\n",
      "Hastanın 10 tahlili mevcut değildir.\n"
     ]
    }
   ],
   "source": [
    "sekreter1.hastacagir(1)\n",
    "sekreter1.tahlilgonder(51, \"idrar\")\n",
    "sekreter1.tahlilsorgula(10)"
   ]
  },
  {
   "cell_type": "code",
   "execution_count": 7,
   "metadata": {
    "id": "g7dTFlbpIrpw"
   },
   "outputs": [],
   "source": [
    "class Depo_Gorevlisi(calisan):\n",
    "  \n",
    "  def __init__(self, ad, soyad, telefon, IDno):\n",
    "      super().__init__(ad, soyad, telefon, IDno)\n",
    "      self.faturano = input(\"Fatura no giriniz : \")\n",
    "\n",
    "  def urundepoyala(self):\n",
    "    print(self.GetAdi(), self.faturano, \"fatura numaralı ürünleri depoya aldı\")\n",
    "  \n",
    "  def urunbirimegönder(self):\n",
    "    print(self.GetAdi(), self.faturano, \"fatura numaralı ürünleri üretim birimine gönderdi\")\n",
    "\n"
   ]
  },
  {
   "cell_type": "code",
   "execution_count": 8,
   "metadata": {
    "colab": {
     "base_uri": "https://localhost:8080/"
    },
    "id": "k4OmIAbuvDKA",
    "outputId": "c108a87d-66b0-4342-cfc0-c03a21f0d0df"
   },
   "outputs": [
    {
     "name": "stdout",
     "output_type": "stream",
     "text": [
      "Fatura no giriniz : ftr15\n",
      "Fatura no giriniz : ftr22\n",
      "Adil ftr15 fatura numaralı ürünleri depoya aldı\n",
      "Adil ftr15 fatura numaralı ürünleri üretim birimine gönderdi\n"
     ]
    }
   ],
   "source": [
    "depo_gorevlisi1 = Depo_Gorevlisi(\"Adil\", \"Yıldız\", \"05325323232\", 4444)\n",
    "depo_gorevlisi2 = Depo_Gorevlisi(\"Cooper\", \"Sky\", \"05335333333\", 5555)\n",
    "depo_gorevlisi1.urundepoyala()\n",
    "depo_gorevlisi1.urunbirimegönder()\n"
   ]
  },
  {
   "cell_type": "code",
   "execution_count": 35,
   "metadata": {
    "colab": {
     "base_uri": "https://localhost:8080/"
    },
    "id": "rwrkSFQ805T_",
    "outputId": "eb9d8985-3bbf-4ba3-91b8-8dbe28c5fa59"
   },
   "outputs": [
    {
     "name": "stdout",
     "output_type": "stream",
     "text": [
      "Cooper 145 fatura numaralı ürünleri depoya aldı\n",
      "Cooper 145 fatura numaralı ürünleri üretim birimine gönderdi\n"
     ]
    }
   ],
   "source": [
    "depo_gorevlisi2.urundepoyala()\n",
    "depo_gorevlisi2.urunbirimegönder()"
   ]
  },
  {
   "cell_type": "code",
   "execution_count": 9,
   "metadata": {
    "colab": {
     "base_uri": "https://localhost:8080/",
     "height": 358
    },
    "id": "NHJqDl-kvDSs",
    "outputId": "ce16c799-6158-4b15-d686-87ea95936644"
   },
   "outputs": [
    {
     "ename": "NameError",
     "evalue": "name 'ad' is not defined",
     "output_type": "error",
     "traceback": [
      "\u001b[1;31m---------------------------------------------------------------------------\u001b[0m",
      "\u001b[1;31mNameError\u001b[0m                                 Traceback (most recent call last)",
      "\u001b[1;32m~\\AppData\\Local\\Temp/ipykernel_11580/3529890926.py\u001b[0m in \u001b[0;36m<module>\u001b[1;34m\u001b[0m\n\u001b[0;32m     19\u001b[0m   \u001b[1;32mdef\u001b[0m \u001b[0mdoktorsaatsorgula\u001b[0m\u001b[1;33m(\u001b[0m\u001b[0mself\u001b[0m\u001b[1;33m)\u001b[0m\u001b[1;33m:\u001b[0m\u001b[1;33m\u001b[0m\u001b[1;33m\u001b[0m\u001b[0m\n\u001b[0;32m     20\u001b[0m     \u001b[0mprint\u001b[0m\u001b[1;33m(\u001b[0m\u001b[0mself\u001b[0m\u001b[1;33m.\u001b[0m\u001b[0mname\u001b[0m\u001b[1;33m,\u001b[0m \u001b[1;34m\"doktor saat sorgulandı\"\u001b[0m\u001b[1;33m)\u001b[0m\u001b[1;33m\u001b[0m\u001b[1;33m\u001b[0m\u001b[0m\n\u001b[1;32m---> 21\u001b[1;33m \u001b[0mit1\u001b[0m \u001b[1;33m=\u001b[0m \u001b[0minformation\u001b[0m\u001b[1;33m(\u001b[0m\u001b[1;34m\"veli\"\u001b[0m\u001b[1;33m,\u001b[0m \u001b[1;34m\"deli\"\u001b[0m\u001b[1;33m,\u001b[0m \u001b[1;34m\"123456\"\u001b[0m\u001b[1;33m,\u001b[0m \u001b[1;34m\"7890\"\u001b[0m\u001b[1;33m,\u001b[0m \u001b[1;34m\"IT\"\u001b[0m\u001b[1;33m,\u001b[0m \u001b[1;34m\"02468\"\u001b[0m\u001b[1;33m)\u001b[0m\u001b[1;33m\u001b[0m\u001b[1;33m\u001b[0m\u001b[0m\n\u001b[0m\u001b[0;32m     22\u001b[0m \u001b[0mit2\u001b[0m \u001b[1;33m=\u001b[0m \u001b[0minformation\u001b[0m\u001b[1;33m(\u001b[0m\u001b[1;34m\"aslınur\"\u001b[0m\u001b[1;33m,\u001b[0m\u001b[1;34m\"tolga\"\u001b[0m\u001b[1;33m,\u001b[0m\u001b[1;34m\"65323\"\u001b[0m\u001b[1;33m,\u001b[0m\u001b[1;34m\"324\"\u001b[0m\u001b[1;33m,\u001b[0m\u001b[1;34m\"IT\"\u001b[0m\u001b[1;33m,\u001b[0m\u001b[1;34m\"7323\"\u001b[0m\u001b[1;33m)\u001b[0m\u001b[1;33m\u001b[0m\u001b[1;33m\u001b[0m\u001b[0m\n\u001b[0;32m     23\u001b[0m \u001b[0mit2\u001b[0m \u001b[1;33m=\u001b[0m \u001b[0minformation\u001b[0m\u001b[1;33m(\u001b[0m\u001b[1;34m\"aslınur\"\u001b[0m\u001b[1;33m,\u001b[0m\u001b[1;34m\"tolga\"\u001b[0m\u001b[1;33m,\u001b[0m\u001b[1;34m\"65323\"\u001b[0m\u001b[1;33m,\u001b[0m\u001b[1;34m\"324\"\u001b[0m\u001b[1;33m,\u001b[0m\u001b[1;34m\"IT\"\u001b[0m\u001b[1;33m,\u001b[0m\u001b[1;34m\"7323\"\u001b[0m\u001b[1;33m)\u001b[0m\u001b[1;33m\u001b[0m\u001b[1;33m\u001b[0m\u001b[0m\n",
      "\u001b[1;32m~\\AppData\\Local\\Temp/ipykernel_11580/3529890926.py\u001b[0m in \u001b[0;36m__init__\u001b[1;34m(self, name, surname, phone, IDno, department, pcID)\u001b[0m\n\u001b[0;32m      1\u001b[0m \u001b[1;32mclass\u001b[0m \u001b[0minformation\u001b[0m\u001b[1;33m(\u001b[0m\u001b[0mcalisan\u001b[0m\u001b[1;33m)\u001b[0m\u001b[1;33m:\u001b[0m\u001b[1;33m\u001b[0m\u001b[1;33m\u001b[0m\u001b[0m\n\u001b[0;32m      2\u001b[0m   \u001b[1;32mdef\u001b[0m \u001b[0m__init__\u001b[0m\u001b[1;33m(\u001b[0m\u001b[0mself\u001b[0m\u001b[1;33m,\u001b[0m\u001b[0mname\u001b[0m\u001b[1;33m,\u001b[0m\u001b[0msurname\u001b[0m\u001b[1;33m,\u001b[0m\u001b[0mphone\u001b[0m\u001b[1;33m,\u001b[0m\u001b[0mIDno\u001b[0m\u001b[1;33m,\u001b[0m\u001b[0mdepartment\u001b[0m\u001b[1;33m,\u001b[0m\u001b[0mpcID\u001b[0m\u001b[1;33m)\u001b[0m\u001b[1;33m:\u001b[0m\u001b[1;33m\u001b[0m\u001b[1;33m\u001b[0m\u001b[0m\n\u001b[1;32m----> 3\u001b[1;33m     \u001b[0msuper\u001b[0m\u001b[1;33m(\u001b[0m\u001b[1;33m)\u001b[0m\u001b[1;33m.\u001b[0m\u001b[0m__init__\u001b[0m\u001b[1;33m(\u001b[0m\u001b[0mad\u001b[0m\u001b[1;33m,\u001b[0m \u001b[0msoyad\u001b[0m\u001b[1;33m,\u001b[0m \u001b[0mtelefon\u001b[0m\u001b[1;33m,\u001b[0m \u001b[0mIDno\u001b[0m\u001b[1;33m)\u001b[0m\u001b[1;33m\u001b[0m\u001b[1;33m\u001b[0m\u001b[0m\n\u001b[0m\u001b[0;32m      4\u001b[0m \u001b[1;33m\u001b[0m\u001b[0m\n\u001b[0;32m      5\u001b[0m     \u001b[0mself\u001b[0m\u001b[1;33m.\u001b[0m\u001b[0mdepartment\u001b[0m \u001b[1;33m=\u001b[0m \u001b[0mdepartment\u001b[0m\u001b[1;33m\u001b[0m\u001b[1;33m\u001b[0m\u001b[0m\n",
      "\u001b[1;31mNameError\u001b[0m: name 'ad' is not defined"
     ]
    }
   ],
   "source": [
    "class information(calisan):\n",
    "  def __init__(self,name,surname,phone,IDno,department,pcID):\n",
    "    super().__init__(ad, soyad, telefon, IDno)\n",
    "    \n",
    "    self.department = department\n",
    "    self.pcID = pcID\n",
    "  def bilgi(self):\n",
    "    print(self.name,self.surname,self.phone,self.__IDno,self.department,self.pcID, \"kişi bilgileri\")\n",
    "  def giriş(self):\n",
    "    print(self.name, self.surname,self.__IDno, \"giriş yaptı\")\n",
    "  def çıkış(self):\n",
    "    print(self.name, self.surname, \"çıkış yaptı\")\n",
    "  def yemekhane(self):\n",
    "    print(self.name, \"yemekhaneye girdi\")\n",
    "  def kayıtal(self):\n",
    "    print(self.name, self.surname, \"kayıt alındı\")\n",
    "  def randevual(self):\n",
    "    print(self.name, \"randevu alındı\")\n",
    "  def doktorsaatsorgula(self):\n",
    "    print(self.name, \"doktor saat sorgulandı\")\n",
    "it1 = information(\"veli\", \"deli\", \"123456\", \"7890\", \"IT\", \"02468\")\n",
    "it2 = information(\"aslınur\",\"tolga\",\"65323\",\"324\",\"IT\",\"7323\")\n",
    "it2 = information(\"aslınur\",\"tolga\",\"65323\",\"324\",\"IT\",\"7323\")\n",
    "it4 = information(\"linus\",\"torvalds\",\"96533696556\",\"0265000\",\"IT\",\"9999\",)"
   ]
  },
  {
   "cell_type": "code",
   "execution_count": 10,
   "metadata": {
    "colab": {
     "base_uri": "https://localhost:8080/"
    },
    "id": "JAXrA2H21wFh",
    "outputId": "e729ff41-b7be-48a9-f300-1ae2580532da"
   },
   "outputs": [
    {
     "ename": "NameError",
     "evalue": "name 'ad' is not defined",
     "output_type": "error",
     "traceback": [
      "\u001b[1;31m---------------------------------------------------------------------------\u001b[0m",
      "\u001b[1;31mNameError\u001b[0m                                 Traceback (most recent call last)",
      "\u001b[1;32m~\\AppData\\Local\\Temp/ipykernel_11580/3149621661.py\u001b[0m in \u001b[0;36m<module>\u001b[1;34m\u001b[0m\n\u001b[1;32m----> 1\u001b[1;33m \u001b[0mit2\u001b[0m \u001b[1;33m=\u001b[0m \u001b[0minformation\u001b[0m\u001b[1;33m(\u001b[0m\u001b[1;34m\"aslınur\"\u001b[0m\u001b[1;33m,\u001b[0m\u001b[1;34m\"tolga\"\u001b[0m\u001b[1;33m,\u001b[0m\u001b[1;34m\"65323\"\u001b[0m\u001b[1;33m,\u001b[0m\u001b[1;34m\"324\"\u001b[0m\u001b[1;33m,\u001b[0m\u001b[1;34m\"IT\"\u001b[0m\u001b[1;33m,\u001b[0m\u001b[1;34m\"7323\"\u001b[0m\u001b[1;33m)\u001b[0m\u001b[1;33m\u001b[0m\u001b[1;33m\u001b[0m\u001b[0m\n\u001b[0m\u001b[0;32m      2\u001b[0m \u001b[0mit3\u001b[0m \u001b[1;33m=\u001b[0m \u001b[0minformation\u001b[0m\u001b[1;33m(\u001b[0m\u001b[1;34m\"aslınur\"\u001b[0m\u001b[1;33m,\u001b[0m\u001b[1;34m\"tolga\"\u001b[0m\u001b[1;33m,\u001b[0m\u001b[1;34m\"65323\"\u001b[0m\u001b[1;33m,\u001b[0m\u001b[1;34m\"324\"\u001b[0m\u001b[1;33m,\u001b[0m\u001b[1;34m\"IT\"\u001b[0m\u001b[1;33m,\u001b[0m\u001b[1;34m\"7323\"\u001b[0m\u001b[1;33m)\u001b[0m\u001b[1;33m\u001b[0m\u001b[1;33m\u001b[0m\u001b[0m\n\u001b[0;32m      3\u001b[0m \u001b[0mit2\u001b[0m\u001b[1;33m.\u001b[0m\u001b[0mdoktorsaatsorgula\u001b[0m\u001b[1;33m(\u001b[0m\u001b[1;33m)\u001b[0m\u001b[1;33m\u001b[0m\u001b[1;33m\u001b[0m\u001b[0m\n\u001b[0;32m      4\u001b[0m \u001b[0mit3\u001b[0m\u001b[1;33m.\u001b[0m\u001b[0mgiriş\u001b[0m\u001b[1;33m(\u001b[0m\u001b[1;33m)\u001b[0m\u001b[1;33m\u001b[0m\u001b[1;33m\u001b[0m\u001b[0m\n",
      "\u001b[1;32m~\\AppData\\Local\\Temp/ipykernel_11580/3529890926.py\u001b[0m in \u001b[0;36m__init__\u001b[1;34m(self, name, surname, phone, IDno, department, pcID)\u001b[0m\n\u001b[0;32m      1\u001b[0m \u001b[1;32mclass\u001b[0m \u001b[0minformation\u001b[0m\u001b[1;33m(\u001b[0m\u001b[0mcalisan\u001b[0m\u001b[1;33m)\u001b[0m\u001b[1;33m:\u001b[0m\u001b[1;33m\u001b[0m\u001b[1;33m\u001b[0m\u001b[0m\n\u001b[0;32m      2\u001b[0m   \u001b[1;32mdef\u001b[0m \u001b[0m__init__\u001b[0m\u001b[1;33m(\u001b[0m\u001b[0mself\u001b[0m\u001b[1;33m,\u001b[0m\u001b[0mname\u001b[0m\u001b[1;33m,\u001b[0m\u001b[0msurname\u001b[0m\u001b[1;33m,\u001b[0m\u001b[0mphone\u001b[0m\u001b[1;33m,\u001b[0m\u001b[0mIDno\u001b[0m\u001b[1;33m,\u001b[0m\u001b[0mdepartment\u001b[0m\u001b[1;33m,\u001b[0m\u001b[0mpcID\u001b[0m\u001b[1;33m)\u001b[0m\u001b[1;33m:\u001b[0m\u001b[1;33m\u001b[0m\u001b[1;33m\u001b[0m\u001b[0m\n\u001b[1;32m----> 3\u001b[1;33m     \u001b[0msuper\u001b[0m\u001b[1;33m(\u001b[0m\u001b[1;33m)\u001b[0m\u001b[1;33m.\u001b[0m\u001b[0m__init__\u001b[0m\u001b[1;33m(\u001b[0m\u001b[0mad\u001b[0m\u001b[1;33m,\u001b[0m \u001b[0msoyad\u001b[0m\u001b[1;33m,\u001b[0m \u001b[0mtelefon\u001b[0m\u001b[1;33m,\u001b[0m \u001b[0mIDno\u001b[0m\u001b[1;33m)\u001b[0m\u001b[1;33m\u001b[0m\u001b[1;33m\u001b[0m\u001b[0m\n\u001b[0m\u001b[0;32m      4\u001b[0m \u001b[1;33m\u001b[0m\u001b[0m\n\u001b[0;32m      5\u001b[0m     \u001b[0mself\u001b[0m\u001b[1;33m.\u001b[0m\u001b[0mdepartment\u001b[0m \u001b[1;33m=\u001b[0m \u001b[0mdepartment\u001b[0m\u001b[1;33m\u001b[0m\u001b[1;33m\u001b[0m\u001b[0m\n",
      "\u001b[1;31mNameError\u001b[0m: name 'ad' is not defined"
     ]
    }
   ],
   "source": [
    "it2 = information(\"aslınur\",\"tolga\",\"65323\",\"324\",\"IT\",\"7323\")\n",
    "it3 = information(\"aslınur\",\"tolga\",\"65323\",\"324\",\"IT\",\"7323\")\n",
    "it2.doktorsaatsorgula()\n",
    "it3.giriş()"
   ]
  },
  {
   "cell_type": "code",
   "execution_count": 11,
   "metadata": {
    "id": "wXKLgF1J3I0m"
   },
   "outputs": [],
   "source": [
    "def kategorı63(self):\n",
    "      super().__init__(ad, soyad, telefon, IDno)\n",
    "      print(self.kategorı, \"a sahıp\", self.ad, self.guvenlık_noktası,\"kapısında bugün guvelık kontrolu yaptı\")\n",
    "      def kontrol_adetı(self):\n",
    "       self.adet += 1\n",
    "       if self.adet > 3 :\n",
    "        print(self.ad, \"gunluk kontrol adedıne ulasmıstır\")\n",
    "       else :\n",
    "        print(self.ad, \"gunluk kontrollerıne devam etmektedır\") "
   ]
  },
  {
   "cell_type": "code",
   "execution_count": 12,
   "metadata": {
    "colab": {
     "base_uri": "https://localhost:8080/",
     "height": 184
    },
    "id": "90eJqdml3yoc",
    "outputId": "b50a3942-0b26-4bb0-ef2e-c76edf541b3e"
   },
   "outputs": [
    {
     "ename": "TypeError",
     "evalue": "kategorı63() takes 1 positional argument but 6 were given",
     "output_type": "error",
     "traceback": [
      "\u001b[1;31m---------------------------------------------------------------------------\u001b[0m",
      "\u001b[1;31mTypeError\u001b[0m                                 Traceback (most recent call last)",
      "\u001b[1;32m~\\AppData\\Local\\Temp/ipykernel_11580/4217743888.py\u001b[0m in \u001b[0;36m<module>\u001b[1;34m\u001b[0m\n\u001b[1;32m----> 1\u001b[1;33m \u001b[0mguvenlık_63\u001b[0m \u001b[1;33m=\u001b[0m \u001b[0mkategorı63\u001b[0m\u001b[1;33m(\u001b[0m\u001b[1;34m\"Yılmaz\"\u001b[0m\u001b[1;33m,\u001b[0m \u001b[1;34m\"KARA\"\u001b[0m\u001b[1;33m,\u001b[0m \u001b[1;34m\"05455454545\"\u001b[0m\u001b[1;33m,\u001b[0m \u001b[1;34m\"1245\"\u001b[0m\u001b[1;33m,\u001b[0m \u001b[1;34m\"Tek Yıldız\"\u001b[0m\u001b[1;33m,\u001b[0m \u001b[1;34m\"Ana Giris\"\u001b[0m\u001b[1;33m)\u001b[0m\u001b[1;33m\u001b[0m\u001b[1;33m\u001b[0m\u001b[0m\n\u001b[0m\u001b[0;32m      2\u001b[0m \u001b[0mguvenlık_63\u001b[0m\u001b[1;33m.\u001b[0m\u001b[0mkontrol_adetı\u001b[0m\u001b[1;33m(\u001b[0m\u001b[1;33m)\u001b[0m\u001b[1;33m\u001b[0m\u001b[1;33m\u001b[0m\u001b[0m\n",
      "\u001b[1;31mTypeError\u001b[0m: kategorı63() takes 1 positional argument but 6 were given"
     ]
    }
   ],
   "source": [
    "guvenlık_63 = kategorı63(\"Yılmaz\", \"KARA\", \"05455454545\", \"1245\", \"Tek Yıldız\", \"Ana Giris\")\n",
    "guvenlık_63.kontrol_adetı()"
   ]
  },
  {
   "cell_type": "code",
   "execution_count": 14,
   "metadata": {
    "id": "5g6ReUNFvnQD"
   },
   "outputs": [],
   "source": [
    "class guvenlik_gorevlisi(calisan):\n",
    "  def __init__(self, ad, soyad, telefon, IDno, kategorisi, guvenlik_noktasi):\n",
    "      super().__init__(ad, soyad, telefon, IDno)\n",
    "      self.kategorisi = kategorisi\n",
    "      self.guvenlik_noktasi = guvenlik_noktasi\n",
    "  def görev_yeri(self):\n",
    "      print(self.GetAdi(), self.guvenlik_noktasi,\" de bugün görevli\")"
   ]
  },
  {
   "cell_type": "code",
   "execution_count": 47,
   "metadata": {
    "colab": {
     "base_uri": "https://localhost:8080/"
    },
    "id": "hKuvKuX7vo9K",
    "outputId": "11a81cf5-6a11-4bdd-a555-028c87ccfa40"
   },
   "outputs": [
    {
     "name": "stdout",
     "output_type": "stream",
     "text": [
      "ali 1.nolu giriş  de bugün görevli\n"
     ]
    }
   ],
   "source": [
    "guvenlik_gorevlisi1 = guvenlik_gorevlisi(\"ali\", \"demir\", \"05435434343\", \"1245\", \"Dış emniyet\", \"1.nolu giriş\")\n",
    "guvenlik_gorevlisi1.görev_yeri()"
   ]
  },
  {
   "cell_type": "code",
   "execution_count": 15,
   "metadata": {
    "id": "oPGkXz9zv5aI"
   },
   "outputs": [],
   "source": [
    "class Doktor():\n",
    "    def __init__(self,Ad,Soyad,Telefon,ID_No,Bolum,Oda_No,Unvan) -> None:\n",
    "        self.Ad=Ad\n",
    "        self.Soyad=Soyad\n",
    "        self.Telefon=Telefon\n",
    "        self.ID_No= ID_No\n",
    "        self.Bolum=Bolum\n",
    "        self.Oda_No=Oda_No\n",
    "        self.Unvan=Unvan\n",
    "    def Giriş(self):\n",
    "      print(\"Girişiniz yapıldı :\",self.Ad,self.Soyad)\n",
    "    def Çıkış(self):\n",
    "      print(\"Çıkışınız yapıldı :\")"
   ]
  },
  {
   "cell_type": "code",
   "execution_count": 16,
   "metadata": {
    "colab": {
     "base_uri": "https://localhost:8080/"
    },
    "id": "rL-dO-_q4I6T",
    "outputId": "3f6b3273-cdf5-4211-b96b-47e41aec4121"
   },
   "outputs": [
    {
     "name": "stdout",
     "output_type": "stream",
     "text": [
      "Girişiniz yapıldı : Gamze Atomkarınca\n"
     ]
    }
   ],
   "source": [
    "gamze = Doktor(\"Gamze\", \"Atomkarınca\", \"05454554545\",\"123\",\"ortapedi\",\"12\",\"Doçent\" )\n",
    "gamze.Giriş()"
   ]
  },
  {
   "cell_type": "code",
   "execution_count": null,
   "metadata": {
    "id": "zfvhD4Co4tXB"
   },
   "outputs": [],
   "source": []
  }
 ],
 "metadata": {
  "colab": {
   "collapsed_sections": [],
   "name": "calisan.ipynb",
   "provenance": []
  },
  "kernelspec": {
   "display_name": "Python 3 (ipykernel)",
   "language": "python",
   "name": "python3"
  },
  "language_info": {
   "codemirror_mode": {
    "name": "ipython",
    "version": 3
   },
   "file_extension": ".py",
   "mimetype": "text/x-python",
   "name": "python",
   "nbconvert_exporter": "python",
   "pygments_lexer": "ipython3",
   "version": "3.9.7"
  }
 },
 "nbformat": 4,
 "nbformat_minor": 1
}
