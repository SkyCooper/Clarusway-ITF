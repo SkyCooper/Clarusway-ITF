{
 "cells": [
  {
   "cell_type": "code",
   "execution_count": null,
   "id": "9a951881",
   "metadata": {},
   "outputs": [],
   "source": []
  },
  {
   "cell_type": "raw",
   "id": "bf98db09",
   "metadata": {},
   "source": [
    "bir liste içindeki tek sayıların karesini ayrı bir listede \n",
    "for döngüsü ile toplma;"
   ]
  },
  {
   "cell_type": "code",
   "execution_count": 5,
   "id": "c7a0d112",
   "metadata": {},
   "outputs": [],
   "source": [
    "my_list = [1, 2, 3, 4, 5, 6]\n",
    "new_list = [] # önce boş liste yapıp tek olanları tespit edip karesini alıp boş listeye eklicem"
   ]
  },
  {
   "cell_type": "raw",
   "id": "9ff3d2ce",
   "metadata": {},
   "source": [
    "for item in iterable:\n",
    "    if condition:\n",
    "        experssion\n",
    "        \n",
    "standart for yapısı"
   ]
  },
  {
   "cell_type": "code",
   "execution_count": 6,
   "id": "c77e319d",
   "metadata": {},
   "outputs": [
    {
     "name": "stdout",
     "output_type": "stream",
     "text": [
      "[1, 9, 25]\n"
     ]
    }
   ],
   "source": [
    "for x in my_list :\n",
    "    if x % 2 != 0 :\n",
    "        new_list.append(x ** 2)\n",
    "print(new_list)"
   ]
  },
  {
   "cell_type": "raw",
   "id": "8cc62af7",
   "metadata": {},
   "source": [
    "aynı işlemi List Comprehension ile yapma;\n",
    "[expression for item in iterable] genel yapısı bu"
   ]
  },
  {
   "cell_type": "raw",
   "id": "f0c3a239",
   "metadata": {},
   "source": [
    "if yapısı;\n",
    "expression/body if condition else epression/body2"
   ]
  },
  {
   "cell_type": "code",
   "execution_count": 7,
   "id": "2d57a26a",
   "metadata": {},
   "outputs": [
    {
     "data": {
      "text/plain": [
       "[1, 4, 9, 16, 25, 36]"
      ]
     },
     "execution_count": 7,
     "metadata": {},
     "output_type": "execute_result"
    }
   ],
   "source": [
    "[ x ** 2 for x in my_list]\n",
    "# liste içindeki her elemanın karesini al"
   ]
  },
  {
   "cell_type": "code",
   "execution_count": 9,
   "id": "1a46dbd3",
   "metadata": {},
   "outputs": [
    {
     "data": {
      "text/plain": [
       "[1, 9, 25]"
      ]
     },
     "execution_count": 9,
     "metadata": {},
     "output_type": "execute_result"
    }
   ],
   "source": [
    "# [ x ** 2 for x in my_list] burayı komple expression/body kabul edersem;\n",
    "# sağına if yapısın koyarak condition sağlarım ve sadece tek olanların karesini alır.\n",
    "\n",
    "[ x ** 2 for x in my_list if x % 2 != 0]"
   ]
  },
  {
   "cell_type": "code",
   "execution_count": null,
   "id": "948c3518",
   "metadata": {},
   "outputs": [],
   "source": [
    "my_list = [1, 2, 3, 4, 5, 6]\n",
    "new_list = [] # önce boş liste yapıp tek olanları tespit edip karesini alıp boş listeye eklicem\n",
    "for i in my_list :\n",
    "    if i % 2 : # burada kalan 0 ise false 1 ise True olduğundan tek sayı için böyle yazmamız yeterli\n",
    "        new_list.append(i ** 2)\n",
    "print(new_list)"
   ]
  },
  {
   "cell_type": "code",
   "execution_count": 27,
   "id": "96947ff3",
   "metadata": {},
   "outputs": [
    {
     "data": {
      "text/plain": [
       "[1, 9, 25]"
      ]
     },
     "execution_count": 27,
     "metadata": {},
     "output_type": "execute_result"
    }
   ],
   "source": [
    "[ i ** 2 for i in my_list if i % 2 ] # if--> True ise Tekleri seç ve karesini al."
   ]
  },
  {
   "cell_type": "raw",
   "id": "a5882606",
   "metadata": {},
   "source": [
    "standart for yapısı;\n",
    "\n",
    "for item in iterable:\n",
    "    if condition:\n",
    "        experssion\n",
    "        \n",
    "\n",
    "List Comprehension yapısı;\n",
    "[expression for item in iterable if condition]  #ternary yapı"
   ]
  },
  {
   "cell_type": "code",
   "execution_count": 1,
   "id": "4ef8d6a1",
   "metadata": {},
   "outputs": [
    {
     "data": {
      "text/plain": [
       "[0, 1, 2, 3, 4]"
      ]
     },
     "execution_count": 1,
     "metadata": {},
     "output_type": "execute_result"
    }
   ],
   "source": [
    "sayılar = []\n",
    "\n",
    "for i in range(5):\n",
    "    sayılar.append(i)\n",
    "sayılar"
   ]
  },
  {
   "cell_type": "code",
   "execution_count": 3,
   "id": "5c27abdb",
   "metadata": {},
   "outputs": [
    {
     "data": {
      "text/plain": [
       "[0, 1, 2, 3, 4]"
      ]
     },
     "execution_count": 3,
     "metadata": {},
     "output_type": "execute_result"
    }
   ],
   "source": [
    "[i for i in range(5)] # zaten liste içine yazacağı için ilaveten .append yazmaya gerek yok."
   ]
  },
  {
   "cell_type": "code",
   "execution_count": 4,
   "id": "294e8438",
   "metadata": {},
   "outputs": [
    {
     "data": {
      "text/plain": [
       "[0, 1, 4, 9, 16, 25, 36, 49, 64, 81]"
      ]
     },
     "execution_count": 4,
     "metadata": {},
     "output_type": "execute_result"
    }
   ],
   "source": [
    "[i**2 for i in range(10)] # aynı-1"
   ]
  },
  {
   "cell_type": "code",
   "execution_count": 5,
   "id": "00eabf20",
   "metadata": {},
   "outputs": [
    {
     "data": {
      "text/plain": [
       "[0, 1, 4, 9, 16, 25, 36, 49, 64, 81]"
      ]
     },
     "execution_count": 5,
     "metadata": {},
     "output_type": "execute_result"
    }
   ],
   "source": [
    "[i*i for i in range(10)] # aynı-2"
   ]
  },
  {
   "cell_type": "code",
   "execution_count": 6,
   "id": "3d169dad",
   "metadata": {},
   "outputs": [
    {
     "data": {
      "text/plain": [
       "[0, 1, 4, 9, 16, 25, 36, 49, 64, 81]"
      ]
     },
     "execution_count": 6,
     "metadata": {},
     "output_type": "execute_result"
    }
   ],
   "source": [
    "[pow(i, 2) for i in range(10)] # aynı-3"
   ]
  },
  {
   "cell_type": "raw",
   "id": "17a2047c",
   "metadata": {},
   "source": [
    "python\n",
    "if condition:\n",
    "    execute_body1\n",
    "else:\n",
    "    execute_body2\n",
    "        \n",
    "execute_body1 if condition else execute_body2"
   ]
  },
  {
   "cell_type": "code",
   "execution_count": 2,
   "id": "9d0a7a20",
   "metadata": {},
   "outputs": [
    {
     "name": "stdout",
     "output_type": "stream",
     "text": [
      "47\n"
     ]
    },
    {
     "data": {
      "text/plain": [
       "[0, 15, 30, 45]"
      ]
     },
     "execution_count": 2,
     "metadata": {},
     "output_type": "execute_result"
    }
   ],
   "source": [
    "# veilen sayıya kadar 3 ve 5 bölünen sayıları yazdır\n",
    "x = int(input()) \n",
    "[i for i in range(x) if i%3==0 and i%5==0]"
   ]
  },
  {
   "cell_type": "code",
   "execution_count": 11,
   "id": "7d928f47",
   "metadata": {},
   "outputs": [
    {
     "name": "stdout",
     "output_type": "stream",
     "text": [
      "b, a dan büyüktür\n"
     ]
    }
   ],
   "source": [
    "a = 2\n",
    "b = 3\n",
    "\n",
    "if a > b:\n",
    "    print(\"a, b den büyüktür\")\n",
    "else:\n",
    "    print(\"b, a dan büyüktür\")"
   ]
  },
  {
   "cell_type": "code",
   "execution_count": 12,
   "id": "c52c2ab0",
   "metadata": {},
   "outputs": [
    {
     "data": {
      "text/plain": [
       "'b, a dan büyüktür'"
      ]
     },
     "execution_count": 12,
     "metadata": {},
     "output_type": "execute_result"
    }
   ],
   "source": [
    "\"a, b den büyüktür\" if a > b else \"b, a dan büyüktür\""
   ]
  },
  {
   "cell_type": "code",
   "execution_count": 17,
   "id": "dd3ac942",
   "metadata": {},
   "outputs": [
    {
     "data": {
      "text/plain": [
       "12"
      ]
     },
     "execution_count": 17,
     "metadata": {},
     "output_type": "execute_result"
    }
   ],
   "source": [
    "a = 8\n",
    "b = 12\n",
    "\n",
    "z = a if a > b else b  # a> b ise z=a değilse z=b olsun demek\n",
    "z"
   ]
  },
  {
   "cell_type": "code",
   "execution_count": 18,
   "id": "b3803e9f",
   "metadata": {},
   "outputs": [
    {
     "data": {
      "text/plain": [
       "21"
      ]
     },
     "execution_count": 18,
     "metadata": {},
     "output_type": "execute_result"
    }
   ],
   "source": [
    "a = 21\n",
    "b = 7\n",
    "\n",
    "z = a if a > b else b\n",
    "z"
   ]
  },
  {
   "cell_type": "code",
   "execution_count": 16,
   "id": "a4efc397",
   "metadata": {},
   "outputs": [
    {
     "data": {
      "text/plain": [
       "4"
      ]
     },
     "execution_count": 16,
     "metadata": {},
     "output_type": "execute_result"
    }
   ],
   "source": [
    "a = 2\n",
    "b = 1\n",
    "\n",
    "z = a ** 2 if a > b else a ** 3 # a> b ise z=a**2 değilse z= a**3 olsun demek\n",
    "z                               # z = 2**2 oldu"
   ]
  },
  {
   "cell_type": "code",
   "execution_count": 19,
   "id": "04b01b46",
   "metadata": {},
   "outputs": [
    {
     "data": {
      "text/plain": [
       "8"
      ]
     },
     "execution_count": 19,
     "metadata": {},
     "output_type": "execute_result"
    }
   ],
   "source": [
    "a = 2\n",
    "b = 4\n",
    "\n",
    "z = a ** 2 if a > b else a ** 3 # a> b ise z=a**2 değilse z= a**3 olsun demek\n",
    "z                             # z = 2**3 oldu"
   ]
  },
  {
   "cell_type": "code",
   "execution_count": 17,
   "id": "da4e4211",
   "metadata": {},
   "outputs": [
    {
     "data": {
      "text/plain": [
       "43.30127018922193"
      ]
     },
     "execution_count": 17,
     "metadata": {},
     "output_type": "execute_result"
    }
   ],
   "source": [
    "c = 10\n",
    "açı = 60\n",
    "\n",
    "alan = ((3 ** (1/2) / 4) * c ** 2) if açı == 60 else \"bu bir eşkenar üçgen değildir.\"\n",
    "alan"
   ]
  },
  {
   "cell_type": "code",
   "execution_count": 21,
   "id": "0b4b144c",
   "metadata": {},
   "outputs": [
    {
     "data": {
      "text/plain": [
       "1"
      ]
     },
     "execution_count": 21,
     "metadata": {},
     "output_type": "execute_result"
    }
   ],
   "source": [
    "a = 2\n",
    "b = 1\n",
    "z = a if a < b else b\n",
    "z"
   ]
  },
  {
   "cell_type": "code",
   "execution_count": 22,
   "id": "d38eac9e",
   "metadata": {},
   "outputs": [
    {
     "data": {
      "text/plain": [
       "1"
      ]
     },
     "execution_count": 22,
     "metadata": {},
     "output_type": "execute_result"
    }
   ],
   "source": [
    "z = 3 + a if a < b else b\n",
    "z"
   ]
  },
  {
   "cell_type": "code",
   "execution_count": 23,
   "id": "2c406f0d",
   "metadata": {},
   "outputs": [
    {
     "data": {
      "text/plain": [
       "4"
      ]
     },
     "execution_count": 23,
     "metadata": {},
     "output_type": "execute_result"
    }
   ],
   "source": [
    "z = 3 + (a if a < b else b) #işlem önceliğine dikkat et\n",
    "z"
   ]
  },
  {
   "cell_type": "raw",
   "id": "e6562a3f",
   "metadata": {},
   "source": [
    "iyi geceler arkadaşlar. Önümüzdeki derslere hazırlık olması için tüm arkadaşlarımdan list comprehension ve ternary yapılarına da göz atmasını rica ediyorum. Bu maksatla şimdilik basit alıştırmalar yapmanız yeterlidir. Örneğin sizi fazla zorlamayacak şu soruyu hepiniz yapmasını istiyorum:\n",
    "-- Kullanıcıdan a ve b sayılarını girmesini isteyin. eğer sayılar birbirine eşit ise veya a negatif ise veya b negatif ise tekrar giriş isteyin. Sonra da büyük sayıyı küçük sayıdan çıkartıp sonucu veren bir ternary yapı kurun.  (eğer a, b'den büyükse a-b işlemini yapcak; b, a'dan büyükse b-a işlemini yapacak.)\n",
    "\n",
    "--Bunu yaptıktan sonra benzer bir kaç örnek bulup çözün ve daha sonra da şu soruyu yine ternary kullanarak yapmaya çalışın:\n",
    "Kullanıcıdan a ve b sayılarını girmesini isteyin. Eğer sayılar eşit ise \"bu sayılar eşit\" yazdırın. Sayılardan biri negatif ise \"negatif giriş yaptınız\" yazdırın. Aksi halde; eğer a, b'den büyükse a-b sonucunu; b, a'dan büyükse b-a sonucunu döndürün.\n",
    "(Bunu çözen arkadaşlarım lütfen kodunu açıklamalı olarak atsın. Çözümleri okuyacağım. En iyi açıklamayı seçmek istiyorum.)\n"
   ]
  },
  {
   "cell_type": "code",
   "execution_count": 130,
   "id": "9e4936a7",
   "metadata": {},
   "outputs": [
    {
     "name": "stdout",
     "output_type": "stream",
     "text": [
      "Birinci Sayı : 5\n",
      "İkinci Sayı : 3\n",
      "2\n"
     ]
    }
   ],
   "source": [
    "def cooper():\n",
    "    a = int(input('Birinci Sayı : '))\n",
    "    b = int(input('İkinci Sayı : '))\n",
    "    print(\"Bu sayılar eşit\" if (a==b) else \"Negatif giriş yaptınız\" if (a<0 or b<0) else a-b if a > b else b-a)\n",
    "cooper()"
   ]
  },
  {
   "cell_type": "code",
   "execution_count": 128,
   "id": "ad71b50c",
   "metadata": {},
   "outputs": [
    {
     "name": "stdout",
     "output_type": "stream",
     "text": [
      "First number : -1\n",
      "Second number : 3\n",
      "Try again\n",
      "First number : 3\n",
      "Second number : -1\n",
      "Try again\n",
      "First number : 3\n",
      "Second number : 3\n",
      "Try again\n",
      "First number : 6\n",
      "Second number : 8\n"
     ]
    },
    {
     "data": {
      "text/plain": [
       "2"
      ]
     },
     "execution_count": 128,
     "metadata": {},
     "output_type": "execute_result"
    }
   ],
   "source": [
    "def cooper2():\n",
    "    while True:\n",
    "        x = int(input('First number : '))\n",
    "        y = int(input('Second number : '))\n",
    "        \n",
    "        if x < 0 or y < 0 or x == y :\n",
    "            print(\"Try again\")\n",
    "            continue\n",
    "        elif x > y:\n",
    "            return x-y\n",
    "        else:\n",
    "            return y-x\n",
    "cooper2()"
   ]
  },
  {
   "cell_type": "code",
   "execution_count": null,
   "id": "63fa2858",
   "metadata": {},
   "outputs": [],
   "source": []
  },
  {
   "cell_type": "code",
   "execution_count": null,
   "id": "de7680c4",
   "metadata": {},
   "outputs": [],
   "source": []
  },
  {
   "cell_type": "markdown",
   "id": "fb3b4ac6",
   "metadata": {},
   "source": [
    "# Set Comprehensions İşlemleri"
   ]
  },
  {
   "cell_type": "code",
   "execution_count": 9,
   "id": "32f46333",
   "metadata": {},
   "outputs": [
    {
     "data": {
      "text/plain": [
       "{10, 20, 30, 42}"
      ]
     },
     "execution_count": 9,
     "metadata": {},
     "output_type": "execute_result"
    }
   ],
   "source": [
    "birliste = [10,10,20,20,30,30,42] # bir liste oluştu\n",
    "\n",
    "# Bu listeyi {} içerisinde set comprehension yapısına dönüştürüyoruz\n",
    "birset = {eleman for eleman in birliste}\n",
    "birset\n",
    "\n",
    "# Çıktıda görüldüğü üzere tekil(uniq) sonuçlar yazılmıştır."
   ]
  },
  {
   "cell_type": "code",
   "execution_count": 10,
   "id": "ff2ff13a",
   "metadata": {},
   "outputs": [
    {
     "data": {
      "text/plain": [
       "{5.0, 10.0, 15.0, 21.0}"
      ]
     },
     "execution_count": 10,
     "metadata": {},
     "output_type": "execute_result"
    }
   ],
   "source": [
    "birset = {eleman / 2 for eleman in birliste} # uniq elemanları buldu ve 2' ye böldü.\n",
    "birset\n",
    "# ÇIKTI: {5.0, 10.0, 15.0, 21.0}"
   ]
  },
  {
   "cell_type": "code",
   "execution_count": 16,
   "id": "8eb43dcd",
   "metadata": {},
   "outputs": [
    {
     "data": {
      "text/plain": [
       "{10, 20, 30, 42}"
      ]
     },
     "execution_count": 16,
     "metadata": {},
     "output_type": "execute_result"
    }
   ],
   "source": [
    "birset = {eleman for eleman in [10,10,20,20,30,30,42]}  # hepsi tek satırda kullanım.\n",
    "birset"
   ]
  },
  {
   "cell_type": "markdown",
   "id": "3b47608d",
   "metadata": {},
   "source": [
    "# Dict (Sözlük) Comprehensions İşlemleri"
   ]
  },
  {
   "cell_type": "code",
   "execution_count": 12,
   "id": "3deb504c",
   "metadata": {},
   "outputs": [
    {
     "data": {
      "text/plain": [
       "[0, 1, 2, 3, 4]"
      ]
     },
     "execution_count": 12,
     "metadata": {},
     "output_type": "execute_result"
    }
   ],
   "source": [
    "birliste = [e for e in range(5)] # 0--->4 arasında liste oluşturur.\n",
    "birliste"
   ]
  },
  {
   "cell_type": "code",
   "execution_count": 13,
   "id": "fdb561d7",
   "metadata": {},
   "outputs": [
    {
     "data": {
      "text/plain": [
       "{0: 0, 1: 1, 2: 4, 3: 9, 4: 16}"
      ]
     },
     "execution_count": 13,
     "metadata": {},
     "output_type": "execute_result"
    }
   ],
   "source": [
    "birsozluk = {x: x**2 for x in birliste} # liste elemanlarını -->key karelerini--> Value yapar\n",
    "birsozluk\n",
    "# ÇIKTI: {0: 0, 1: 1, 2: 4, 3: 9, 4: 16}"
   ]
  },
  {
   "cell_type": "code",
   "execution_count": 15,
   "id": "2039301a",
   "metadata": {},
   "outputs": [
    {
     "data": {
      "text/plain": [
       "{0: 0, 1: 1, 2: 4, 3: 9, 4: 16}"
      ]
     },
     "execution_count": 15,
     "metadata": {},
     "output_type": "execute_result"
    }
   ],
   "source": [
    "birsozluk = {x: x**2 for x in [e for e in range(5)]} # hepsi tek satırda kullanım.\n",
    "birsozluk"
   ]
  },
  {
   "cell_type": "code",
   "execution_count": null,
   "id": "20165b34",
   "metadata": {},
   "outputs": [],
   "source": []
  }
 ],
 "metadata": {
  "kernelspec": {
   "display_name": "Python 3 (ipykernel)",
   "language": "python",
   "name": "python3"
  },
  "language_info": {
   "codemirror_mode": {
    "name": "ipython",
    "version": 3
   },
   "file_extension": ".py",
   "mimetype": "text/x-python",
   "name": "python",
   "nbconvert_exporter": "python",
   "pygments_lexer": "ipython3",
   "version": "3.9.7"
  }
 },
 "nbformat": 4,
 "nbformat_minor": 5
}
