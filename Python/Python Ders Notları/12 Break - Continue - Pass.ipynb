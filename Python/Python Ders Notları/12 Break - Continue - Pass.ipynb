{
 "cells": [
  {
   "cell_type": "markdown",
   "id": "7d01c64d",
   "metadata": {},
   "source": [
    "# break"
   ]
  },
  {
   "cell_type": "code",
   "execution_count": 1,
   "id": "2fba913d",
   "metadata": {},
   "outputs": [
    {
     "name": "stdout",
     "output_type": "stream",
     "text": [
      "(0, 'a')\n",
      "(1, 'b')\n",
      "(2, 'c')\n",
      "(3, 'd')\n",
      "(4, 'e')\n"
     ]
    }
   ],
   "source": [
    "harfler = [\"a\", \"b\", \"c\", \"d\", \"e\"] \n",
    "for harf in enumerate(harfler):\n",
    "    print(harf)"
   ]
  },
  {
   "cell_type": "code",
   "execution_count": 2,
   "id": "2e9a5312",
   "metadata": {},
   "outputs": [
    {
     "name": "stdout",
     "output_type": "stream",
     "text": [
      "c harfi 2. index'te\n"
     ]
    }
   ],
   "source": [
    "# c' harfinin indexini bulalım;\n",
    "for index, harf in enumerate(harfler):\n",
    "    if harf == \"c\" :\n",
    "        print(f\"{harf} harfi {index}. index'te\")"
   ]
  },
  {
   "cell_type": "code",
   "execution_count": 3,
   "id": "43771363",
   "metadata": {},
   "outputs": [
    {
     "name": "stdout",
     "output_type": "stream",
     "text": [
      "c harfi 2. index'te\n",
      "c harfi 7. index'te\n",
      "c harfi 12. index'te\n",
      "c harfi 17. index'te\n",
      "c harfi 22. index'te\n"
     ]
    }
   ],
   "source": [
    "harfler = [\"a\", \"b\", \"c\", \"d\", \"e\"]*5\n",
    "for index, harf in enumerate(harfler):\n",
    "    if harf == \"c\" :\n",
    "        print(f\"{harf} harfi {index}. index'te\") # her defasında tekrar bakacak"
   ]
  },
  {
   "cell_type": "code",
   "execution_count": 4,
   "id": "e8afe207",
   "metadata": {},
   "outputs": [
    {
     "name": "stdout",
     "output_type": "stream",
     "text": [
      "c harfi 2. index'te\n"
     ]
    }
   ],
   "source": [
    "harfler = [\"a\", \"b\", \"c\", \"d\", \"e\"]*5\n",
    "for index, harf in enumerate(harfler):\n",
    "    if harf == \"c\" :\n",
    "        print(f\"{harf} harfi {index}. index'te\")\n",
    "        break # ilk bulduğu yerde döngüyü durdurur."
   ]
  },
  {
   "cell_type": "code",
   "execution_count": null,
   "id": "da462d35",
   "metadata": {},
   "outputs": [],
   "source": []
  },
  {
   "cell_type": "code",
   "execution_count": 14,
   "id": "0c9c58fe",
   "metadata": {},
   "outputs": [
    {
     "name": "stdout",
     "output_type": "stream",
     "text": [
      "2 is a prime number\n",
      "3 is a prime number\n",
      "4 equals 2 * 2\n",
      "5 is a prime number\n",
      "6 equals 2 * 3\n",
      "7 is a prime number\n",
      "8 equals 2 * 4\n",
      "9 equals 3 * 3\n"
     ]
    }
   ],
   "source": [
    ">>> for n in range(2, 10):\n",
    "...     for x in range(2, n):\n",
    "...         if n % x == 0:\n",
    "...             print(n, 'equals', x, '*', n//x)\n",
    "...             break\n",
    "...     else:\n",
    "...         # loop fell through without finding a factor\n",
    "...         print(n, 'is a prime number')"
   ]
  },
  {
   "cell_type": "code",
   "execution_count": 9,
   "id": "7fd48093",
   "metadata": {},
   "outputs": [
    {
     "name": "stdout",
     "output_type": "stream",
     "text": [
      "0\n",
      "1\n",
      "2\n",
      "3\n",
      "4\n",
      "Breaking\n",
      "Finished\n"
     ]
    }
   ],
   "source": [
    "i = 0\n",
    "while True: # herzaman doğru olduğu için sonsuz döngüye girer.\n",
    "    print(i)\n",
    "    i = i + 1\n",
    "    if i >= 5:\n",
    "        print(\"Breaking\")\n",
    "        break  # döngüden tamamen çıktı.\n",
    "\n",
    "print(\"Finished\")"
   ]
  },
  {
   "cell_type": "code",
   "execution_count": 10,
   "id": "500b40e0",
   "metadata": {},
   "outputs": [
    {
     "name": "stdout",
     "output_type": "stream",
     "text": [
      "5\n"
     ]
    }
   ],
   "source": [
    "list = [2, 3, 4, 5, 6, 7]\n",
    "\n",
    "for x in list:\n",
    "    if(x%2==1 and x>4):\n",
    "        print(x)\n",
    "        break"
   ]
  },
  {
   "cell_type": "code",
   "execution_count": null,
   "id": "84fa8ac1",
   "metadata": {},
   "outputs": [],
   "source": []
  },
  {
   "cell_type": "markdown",
   "id": "25f378b3",
   "metadata": {},
   "source": [
    "# continue"
   ]
  },
  {
   "cell_type": "code",
   "execution_count": 8,
   "id": "a293092f",
   "metadata": {},
   "outputs": [
    {
     "name": "stdout",
     "output_type": "stream",
     "text": [
      "1\n",
      "3\n",
      "5\n"
     ]
    }
   ],
   "source": [
    "for sayi in range(6): \n",
    "    if sayi % 2 == 0 : # eğer burası doğruysa devam et, değilse alttakini yap. (else olmadan)\n",
    "        continue       # yani tam bölürürse başa dön, tekrar döngüye gir. bölünmezse yazdır.\n",
    "    print(sayi)"
   ]
  },
  {
   "cell_type": "code",
   "execution_count": 4,
   "id": "428ad0b7",
   "metadata": {},
   "outputs": [
    {
     "name": "stdout",
     "output_type": "stream",
     "text": [
      "0\n",
      "2\n",
      "4\n"
     ]
    }
   ],
   "source": [
    "for sayi in range(6): #(0-1-2-3-4-5)\n",
    "    if sayi % 2 == 0 :  # yani tam bölürürse yazdır, yoksa yazdırma\n",
    "        #continue\n",
    "        print(sayi)"
   ]
  },
  {
   "cell_type": "code",
   "execution_count": 1,
   "id": "8f53a399",
   "metadata": {},
   "outputs": [
    {
     "name": "stdout",
     "output_type": "stream",
     "text": [
      "1\n",
      "2\n",
      "Skipping 3\n",
      "3\n",
      "4\n",
      "5\n"
     ]
    }
   ],
   "source": [
    "i = 0\n",
    "while i<5:\n",
    "  i += 1\n",
    "  if i==3:\n",
    "    print(\"Skipping 3\")\n",
    "    #continue\n",
    "  print(i)"
   ]
  },
  {
   "cell_type": "code",
   "execution_count": 2,
   "id": "864eb682",
   "metadata": {},
   "outputs": [
    {
     "name": "stdout",
     "output_type": "stream",
     "text": [
      "1\n",
      "2\n",
      "Skipping 3\n",
      "4\n",
      "5\n"
     ]
    }
   ],
   "source": [
    "i = 0\n",
    "while i<5:\n",
    "  i += 1\n",
    "  if i==3:\n",
    "    print(\"Skipping 3\")\n",
    "    continue  # bunu görünce aşağı inmeden tekrar döngünün başına gitti.\n",
    "  print(i)"
   ]
  },
  {
   "cell_type": "code",
   "execution_count": null,
   "id": "840b1cb3",
   "metadata": {},
   "outputs": [],
   "source": []
  },
  {
   "cell_type": "code",
   "execution_count": null,
   "id": "29ec466f",
   "metadata": {},
   "outputs": [],
   "source": []
  },
  {
   "cell_type": "markdown",
   "id": "cb3e8ab8",
   "metadata": {},
   "source": [
    "# pass"
   ]
  },
  {
   "cell_type": "code",
   "execution_count": 7,
   "id": "914d6570",
   "metadata": {},
   "outputs": [
    {
     "name": "stdout",
     "output_type": "stream",
     "text": [
      "1\n",
      "3\n",
      "5\n"
     ]
    }
   ],
   "source": [
    "for sayi in range(6): \n",
    "    if sayi % 2 == 0 : # eğer burası doğruysa geç, diğerini yap. (else kullanıp)\n",
    "        pass\n",
    "    else:\n",
    "        print(sayi)"
   ]
  },
  {
   "cell_type": "code",
   "execution_count": 8,
   "id": "ed4814b1",
   "metadata": {},
   "outputs": [
    {
     "name": "stdout",
     "output_type": "stream",
     "text": [
      "0\n",
      "1\n",
      "2\n",
      "3\n",
      "4\n",
      "5\n"
     ]
    }
   ],
   "source": [
    "for sayi in range(6): \n",
    "    if sayi % 2 == 0 : #else olmasa\n",
    "        pass\n",
    "    print(sayi)"
   ]
  },
  {
   "cell_type": "code",
   "execution_count": 9,
   "id": "1badd390",
   "metadata": {},
   "outputs": [
    {
     "name": "stdout",
     "output_type": "stream",
     "text": [
      "0\n",
      "1\n",
      "2\n",
      "3\n",
      "4\n",
      "5\n"
     ]
    }
   ],
   "source": [
    "for sayi in range(6): # aynı çıktıyı verir.\n",
    "    print(sayi)"
   ]
  },
  {
   "cell_type": "raw",
   "id": "422bf87d",
   "metadata": {},
   "source": [
    "pass --> kullanımı farklı bir örnek;\n",
    "mesela kod yazarken if/elif/else vs. bir döngü kualacak fakat kod blokları tam oturmadı, algoritma kurulmadı.\n",
    "test amaçlı kodu çalıştırmak ve çıktıyı görmek için oraları --pass-- edebiliriz."
   ]
  },
  {
   "cell_type": "code",
   "execution_count": 10,
   "id": "be98d01e",
   "metadata": {},
   "outputs": [
    {
     "name": "stdout",
     "output_type": "stream",
     "text": [
      "oldu bu iş\n"
     ]
    }
   ],
   "source": [
    "for i in range(100):\n",
    "    if i < 20:\n",
    "        pass    # burada ne yapacağına karar vermedim--> sonra yazıcam onun için geçtim\n",
    "    elif i > 20 and i < 22:\n",
    "        print(\"oldu bu iş\")\n",
    "    else:\n",
    "        pass  # bu haliyle nasıl çalışıyor baktım."
   ]
  },
  {
   "cell_type": "code",
   "execution_count": null,
   "id": "43ec90d9",
   "metadata": {},
   "outputs": [],
   "source": []
  }
 ],
 "metadata": {
  "kernelspec": {
   "display_name": "Python 3 (ipykernel)",
   "language": "python",
   "name": "python3"
  },
  "language_info": {
   "codemirror_mode": {
    "name": "ipython",
    "version": 3
   },
   "file_extension": ".py",
   "mimetype": "text/x-python",
   "name": "python",
   "nbconvert_exporter": "python",
   "pygments_lexer": "ipython3",
   "version": "3.9.7"
  }
 },
 "nbformat": 4,
 "nbformat_minor": 5
}
