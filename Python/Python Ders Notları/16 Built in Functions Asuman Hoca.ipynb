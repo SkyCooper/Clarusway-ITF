{
 "cells": [
  {
   "cell_type": "markdown",
   "id": "18c5998e",
   "metadata": {},
   "source": [
    "# abs() Parameters\n",
    "abs() method takes a single argument:\n",
    "<b>number</b> - a number whose absolute value is to be returned. The number can be:<br>\n",
    "<b>integer</b><br>\n",
    "<b>floating number</b><br>\n",
    "<b>complex number</b><br>\n",
    "\n",
    "# abs() Return Value\n",
    "abs() method returns the absolute value of the given number.<br>\n",
    "<b>For integers</b> - integer absolute value is returned<br>\n",
    "<b>For floating numbers</b> - floating absolute value is returned<br>\n",
    "<b>For complex numbers</b> - magnitude of the number is returned (<b>sayının büyüklüğünü döndürür</b>)<img src=\"https://upload.wikimedia.org/wikipedia/commons/thumb/a/af/Complex_number_illustration.svg/800px-Complex_number_illustration.svg.png\" width=\"25%\" height=\"auto\">\n",
    "complex number hatırlatma\n"
   ]
  },
  {
   "cell_type": "code",
   "execution_count": null,
   "id": "6ec14ab2",
   "metadata": {},
   "outputs": [],
   "source": [
    "integer = -20\n",
    "print('Absolute value of -20 is:', abs(integer))"
   ]
  },
  {
   "cell_type": "code",
   "execution_count": null,
   "id": "4f7f310f",
   "metadata": {},
   "outputs": [],
   "source": [
    "floating = -30.33\n",
    "print('Absolute value of -30.33 is:', abs(floating))"
   ]
  },
  {
   "cell_type": "code",
   "execution_count": null,
   "id": "d85f351a",
   "metadata": {},
   "outputs": [],
   "source": [
    "complex = (3 - 4j)\n",
    "print('Magnitude of 3 - 4j is:', abs(complex))"
   ]
  },
  {
   "cell_type": "code",
   "execution_count": null,
   "id": "7993c80d",
   "metadata": {},
   "outputs": [],
   "source": [
    "complex = (5 - 12j)\n",
    "print('Magnitude of 3 - 4j is:', abs(complex))"
   ]
  },
  {
   "cell_type": "code",
   "execution_count": null,
   "id": "5de45167",
   "metadata": {},
   "outputs": [],
   "source": [
    "abs(-47)"
   ]
  },
  {
   "cell_type": "code",
   "execution_count": null,
   "id": "7522f249",
   "metadata": {},
   "outputs": [],
   "source": [
    "abs(101.13)"
   ]
  },
  {
   "cell_type": "code",
   "execution_count": null,
   "id": "c1c97625",
   "metadata": {},
   "outputs": [],
   "source": [
    "sayi=input(\"Bir sayı girin: \")\n",
    "sayi=int(sayi)\n",
    "print(\"Sayının mutlak değeri\", abs(sayi))"
   ]
  },
  {
   "cell_type": "markdown",
   "id": "6b702b55",
   "metadata": {},
   "source": [
    "# all(iterable)\n",
    "Return True if all elements of the iterable are true <b>(or if the iterable is empty).</b><br>\n",
    "\n",
    "# all() Parameters\n",
    "The all() function takes a <b>single parameter:</b><br>\n",
    "iterable - any iterable <b>(list, tuple, dictionary, string etc.) which contains the elements</b><br>\n",
    "# all() Return Value\n",
    "all() function returns:\n",
    "    <b>True</b> - If all elements in an iterable are true\n",
    "    <b>False</b> - If any element in an iterable is false"
   ]
  },
  {
   "cell_type": "code",
   "execution_count": null,
   "id": "9e8b954c",
   "metadata": {},
   "outputs": [],
   "source": [
    "# all values true\n",
    "liste = [1, 3, 4, 5]\n",
    "print(all(l))\n",
    "\n",
    "# all values false\n",
    "liste = [0, False]\n",
    "print(all(liste))\n",
    "\n",
    "# one false value\n",
    "liste = [1, 3, 4, 0]\n",
    "print(all(liste))\n",
    "\n",
    "# one true value\n",
    "liste = [0, False, 5]\n",
    "print(all(liste))\n",
    "\n",
    "# empty iterable\n",
    "liste = []\n",
    "print(all(liste))"
   ]
  },
  {
   "cell_type": "markdown",
   "id": "be639f04",
   "metadata": {},
   "source": [
    "# any(iterable)\n",
    "Return True if any element of the iterable is true. <b>If the iterable is empty, return False.</b>\n",
    "The any() function returns True <b>if any element of an iterable is True.\n",
    "If not, it returns False.</b><br>\n",
    "# any() Syntax\n",
    "The syntax of any() is:<br>\n",
    "any(iterable)\n",
    "\n",
    "# any() Parameters\n",
    "The any() function takes an iterable <b>(list, tuple, dictionary, string etc.)</b> in Python.<br>\n",
    "\n",
    "# any() Return Value<br>\n",
    "\n",
    "The any() function returns a boolean value:<br>\n",
    "<b>True</b> if <b>at least</b> one element of an iterable is true<br>\n",
    "<b>False</b> if <b>all elements</b> are false or <b>if an iterable is empty</b><br>\n",
    "\n",
    "# Using any() with Python Dictionaries\n",
    "In the case of dictionaries, if <b>all keys (not values)</b> are false or the dictionary is empty, any() returns False.\n",
    "If at least one key is true, any() returns True."
   ]
  },
  {
   "cell_type": "code",
   "execution_count": null,
   "id": "13d082b7",
   "metadata": {},
   "outputs": [],
   "source": [
    "# True since 1,3 and 4 (at least one) is true\n",
    "liste = [1, 3, 4, 0]\n",
    "print(any(liste))\n",
    "\n",
    "# False since both are False\n",
    "liste = [0, False]\n",
    "print(any(liste))\n",
    "\n",
    "# True since 5 is true\n",
    "liste = [0, False, 5]\n",
    "print(any(liste))\n",
    "\n",
    "# False since iterable is empty\n",
    "liste = []\n",
    "print(any(liste))"
   ]
  },
  {
   "cell_type": "code",
   "execution_count": null,
   "id": "23ae0664",
   "metadata": {},
   "outputs": [],
   "source": [
    "# 0 is False\n",
    "d = {0: 'False'}\n",
    "print(any(d))\n",
    "\n",
    "# 1 is True\n",
    "d = {0: 'False', 1: 'True'}\n",
    "print(any(d))\n",
    "\n",
    "# 0 and False are false\n",
    "d = {0: 'False', False: 0}\n",
    "print(any(d))\n",
    "\n",
    "# iterable is empty\n",
    "d = {}\n",
    "print(any(d))\n",
    "\n",
    "# 0 is False\n",
    "# '0' is True\n",
    "d = {'0': 'False'}\n",
    "print(any(d))"
   ]
  },
  {
   "cell_type": "markdown",
   "id": "d2c278a7",
   "metadata": {},
   "source": [
    "# anext(async_iterator[, default]) ----> next in kullanıma benzerdir.\n",
    "\n",
    "### The next() function returns the next item from the iterator.(for döngüsünün geri planında çalışan fonk. dur ve her iterate de bir item döndürür)\n",
    "# next() Syntax\n",
    "The syntax of next() is:\n",
    "<b>next(iterator, default)</b>\n",
    "\n",
    "# next() Parameters\n",
    "<b>iterator</b> - next() retrieves next item from the iterator</b><br>\n",
    "<b>default</b> (optional) - this value is returned if the iterator is exhausted (there is no next item)\n",
    "### next() Return Value\n",
    "The <b>next()</b> function returns the next item from the iterator.<br>\n",
    "If the iterator is exhausted, it returns the <b>default</b>value passed as an argument.<br>\n",
    "If the default parameter is omitted and the iterator is exhausted, it raises the <b>StopIteration</b> exception."
   ]
  },
  {
   "cell_type": "markdown",
   "id": "adc53823",
   "metadata": {},
   "source": [
    "# NOTE:\n",
    "### for döngüsü geri planında çalışan next() fonk. içine bir iterable değil ITERATOR alır.\n",
    "Mesela for döngüsündeki i gibi\n",
    "ya da for döngüsünün kullanılmadığı durumlarda iterable object i iter() fonk. içine atarak\n",
    "yeni itarator ümüzü oluşturabiliriz.\n",
    "alttaki örnekte görüleceği üzere; random listemizi ---> yani iterable object imizi \n",
    "iter() fonk. içinde kullanarak bir iteratör oluşturduk.\n",
    "Bu şekilde next() fonk. parametresini elde ettik.\n",
    "bkz. next(iterator, default)\n",
    "default ---> iterasyon işlemi bittikten sonra stopiteration hatası verir, bu hatayı almak\n",
    "istemiyorsak default değeri girebiliriz.(Stopiteration yerine girilen default değeri döndürür)\n",
    "Optionaldir, isteğe bağlıdır, istemezsek aynı kalabilir. "
   ]
  },
  {
   "cell_type": "code",
   "execution_count": null,
   "id": "f393ee52",
   "metadata": {},
   "outputs": [],
   "source": [
    "random = [5, 9, 'cat']\n",
    "# converting the list to an iterator\n",
    "random_iterator = iter(random)\n",
    "print(random_iterator)\n",
    "\n",
    "# Output: 5\n",
    "print(next(random))\n",
    "\n",
    "# Output: 9\n",
    "print(next(random_iterator))\n",
    "\n",
    "# Output: 'cat'\n",
    "print(next(random_iterator))\n",
    "\n",
    "# This will raise Error\n",
    "# iterator is exhausted\n",
    "print(next(random_iterator)) #burada print(next(random_iterator, -1)) default value -1 olarak \n",
    "                                # belirlersek hata vermez ve iterasyon edecek eleman bulamadığında\n",
    "                                    # -1 yazdırır."
   ]
  },
  {
   "cell_type": "code",
   "execution_count": null,
   "id": "e4d583eb",
   "metadata": {},
   "outputs": [],
   "source": [
    "#DEFAULT FOR EXAMPLE:\n",
    "random = [5, 9]\n",
    "\n",
    "# converting the list to an iterator\n",
    "random_iterator = iter(random)\n",
    "\n",
    "# Output: 5\n",
    "print(next(random_iterator, '-1'))\n",
    "\n",
    "# Output: 9\n",
    "print(next(random_iterator, '-1'))\n",
    "\n",
    "# random_iterator is exhausted\n",
    "# Output: '-1'\n",
    "print(next(random_iterator, '-1'))\n",
    "print(next(random_iterator, '-1'))\n",
    "print(next(random_iterator, '-1'))"
   ]
  },
  {
   "cell_type": "markdown",
   "id": "864be17a",
   "metadata": {},
   "source": [
    "# iter()\n",
    "\n",
    "### iter() function returns an iterator for the given object.\n",
    "\n",
    "<b>iter()</b> function creates an object which can be iterated <b>one</b>  element at a time.<br>\n",
    "\n",
    "These objects are useful when coupled with loops like <b>for loop, while loop</b>\n",
    "\n",
    "### The syntax of the iter() function is:\n",
    "\n",
    "<b>iter(object, sentinel)</b>"
   ]
  },
  {
   "cell_type": "markdown",
   "id": "3ea62f86",
   "metadata": {},
   "source": [
    "### iter() Parameters\n",
    "\n",
    "The iter() function takes <b>two</b> parameters:\n",
    "\n",
    "<b>object</b> - object whose iterator has to be created <b>(can be sets, tuples, etc.)</b>\n",
    "\n",
    "<b>sentinel (optional)</b> - special value that is used to represent the end of a sequence\n",
    "sentinel dan burada bahsedilmeyecektir, sentinel class ile tanımlaması yapıldıkkan sonra aktif olabilen bir parametredir ve opsiyoneldir.\n",
    "\n",
    "## Return value from iter()\n",
    "\n",
    "The <b>iter()</b> function returns an iterator object for the given object."
   ]
  },
  {
   "cell_type": "markdown",
   "id": "5767940c",
   "metadata": {},
   "source": [
    "iter() fonk.5 içine aldığı iterable object i iterator e çevirir.\n",
    "iter() fonk.da zipped ve generator gibi print edildiğinde sadece yer gösterir.\n",
    "Görünür olması için;\n",
    "***next() fonk. gibi; parametre olarak iterator olan bir fonk. ihtiyaç duyar. \n",
    "* (print(*) ile görünür hale getiririz ama amacımıza hizmet etmez yani itarasyon yapmaz sadece içindekileri görürüz).\n",
    "\n",
    "Kısaca; iter() fonk. next() fonk; next() fonk. iter() a ihtiyacı vardır."
   ]
  },
  {
   "cell_type": "code",
   "execution_count": null,
   "id": "bb13d00c",
   "metadata": {},
   "outputs": [],
   "source": [
    "my_list = [4, 7, 0, 3]\n",
    "# get an iterator using iter()\n",
    "my_iter = iter(my_list)\n",
    "print(my_iter)\n",
    "print(type(my_iter))\n",
    "print(*my_iter)"
   ]
  },
  {
   "cell_type": "code",
   "execution_count": null,
   "id": "23b1227b",
   "metadata": {},
   "outputs": [],
   "source": [
    "my_list = [4, 7, 0, 3]\n",
    "my_iter = iter(my_list)\n",
    "print(next(my_iter))  #4\n",
    "print(next(my_iter))  #7"
   ]
  },
  {
   "cell_type": "code",
   "execution_count": null,
   "id": "a65b0bc4",
   "metadata": {},
   "outputs": [],
   "source": [
    "# list of vowels\n",
    "vowels = ['a', 'e', 'i', 'o', 'u']\n",
    "vowels_iter = iter(vowels)\n",
    "print(next(vowels_iter))    # 'a'\n",
    "print(next(vowels_iter))    # 'e'\n",
    "print(next(vowels_iter))    # 'i'\n",
    "print(next(vowels_iter))    # 'o'\n",
    "print(next(vowels_iter))    # 'u'"
   ]
  },
  {
   "cell_type": "code",
   "execution_count": null,
   "id": "57be6309",
   "metadata": {},
   "outputs": [],
   "source": [
    "num=[1,2,3,5,6,9]\n",
    "num_iter=iter(num)\n",
    "print(next(num_iter))\n",
    "print(next(num_iter))\n",
    "print(next(num_iter))\n",
    "print(next(num_iter))"
   ]
  },
  {
   "cell_type": "code",
   "execution_count": null,
   "id": "4bac68dd",
   "metadata": {},
   "outputs": [],
   "source": [
    "#for döngüsü ile next fonk. birlikte kullanımı tekrar hatırlayalım.\n",
    "# next() fonk. for döngüsünün geri planında çalışan bir fonk.dur.\n",
    "# işte bu iterasyonu sağlayan ** next() fonksiyonun iterator parametresinideki iteratorü\n",
    "# iter() fonksiyonu ile elde ediyoruz.\n",
    "r=(i*2 for i in range(6)) # iterable tanımladık.\n",
    "print(type(r)) #type class ı generator olarak belirlenmiştir.\n",
    "print(next(r))\n",
    "print(next(r))\n",
    "print(next(r))\n",
    "print(next(r))\n",
    "print(next(r))\n",
    "print(next(r))"
   ]
  },
  {
   "cell_type": "code",
   "execution_count": null,
   "id": "290ac6c4",
   "metadata": {},
   "outputs": [],
   "source": [
    "# list of vowels\n",
    "vowels = ['a', 'e', 'i', 'o', 'u']\n",
    "vowels_iter = iter(vowels)\n",
    "# vowels_iter artık iter() fonk.ile tanımlanmış bir değişkendir.\n",
    "# bunu next içinde kullanırsak sağlıklı bir iterasyon gerçekleşir.\n",
    "print(next(vowels_iter))    # 'a' \n",
    "print(next(vowels_iter))    # 'e'\n",
    "print(next(vowels_iter))    # 'i'\n",
    "print(next(vowels_iter))    # 'o'\n",
    "print(next(vowels_iter))    # 'u'"
   ]
  },
  {
   "cell_type": "code",
   "execution_count": null,
   "id": "1bdbd5fc",
   "metadata": {},
   "outputs": [],
   "source": [
    "vowels = ['a', 'e', 'i', 'o', 'u']\n",
    "#Fakat değişkeni kullanmayıp vowels listesini next() fonk.içinde iter() ile tanımlarsak\n",
    "# next(iter(vowels) bu halde kullanırsak sadece ilk elemanı çıktı olarak verir.\n",
    "\n",
    "print(next(iter(vowels))) \n",
    "print(next(iter(vowels)))\n",
    "print(next(iter(vowels)))"
   ]
  },
  {
   "cell_type": "code",
   "execution_count": null,
   "id": "7fc8bfd5",
   "metadata": {},
   "outputs": [],
   "source": [
    "# list of vowels\n",
    "vowels = ['a', 'e', 'i', 'o', 'u']\n",
    "# iterable olan vowels listemizi bir değişkene atamadan kullanırsak; list' object is not an iterator \n",
    "#  hatası alırız. çünkü next() fonk. aldığı ilk parametre iterator olmalıdır.\n",
    "print(next(vowels))"
   ]
  },
  {
   "cell_type": "markdown",
   "id": "91cdb363",
   "metadata": {},
   "source": [
    "# ascii()\n",
    "### ascii() methodu, yazdırılamayan bir karakteri; o karektere  karşılık gelen ascii değeriyle değiştirir ve onu döndürür."
   ]
  },
  {
   "cell_type": "markdown",
   "id": "aef1523d",
   "metadata": {},
   "source": [
    "# ascii() Syntax\n",
    "### ascii(object)"
   ]
  },
  {
   "cell_type": "markdown",
   "id": "032e6903",
   "metadata": {},
   "source": [
    "## ascii() Parameter\n",
    "The ascii() method takes in a <b>single<b/> parameter:<br>\n",
    "    \n",
    "object - can be a python <b>list, set, tuple, etc<b/>\n",
    "\n",
    "    ascii() Return Value\n",
    "    \n",
    "The ascii() method returns:<br>\n",
    "    \n",
    "<b>printable equivalent<b/> character for a non-printable character in object\n",
    "\n",
    "--------------------------------------------------------------------------\n",
    "\n",
    "ascii() yöntemi <b>tek<b/> bir parametre alır:<br>\n",
    "nesne - colletion types alır.<br>\n",
    "\n",
    "    ascii() Dönüş Değeri\n",
    "    \n",
    "ascii() yöntemi şunu döndürür:_<br>\n",
    "    \n",
    "nesnede yazdırılamayan bir karakter için yazdırılabilir eşdeğer karakter"
   ]
  },
  {
   "cell_type": "code",
   "execution_count": 97,
   "id": "826f7af0",
   "metadata": {},
   "outputs": [
    {
     "name": "stdout",
     "output_type": "stream",
     "text": [
      "'\\u221a represents square root'\n"
     ]
    }
   ],
   "source": [
    "text1 = '√ represents square root'\n",
    "\n",
    "# replace √ with ascii value \n",
    "print(ascii(text1))"
   ]
  },
  {
   "cell_type": "code",
   "execution_count": 98,
   "id": "bd99a0b3",
   "metadata": {},
   "outputs": [
    {
     "name": "stdout",
     "output_type": "stream",
     "text": [
      "'= represents square root'\n"
     ]
    }
   ],
   "source": [
    "text1 = '= represents square root'\n",
    "\n",
    "# replace √ with ascii value \n",
    "print(ascii(text1))"
   ]
  },
  {
   "cell_type": "code",
   "execution_count": 99,
   "id": "6074fc5d",
   "metadata": {},
   "outputs": [
    {
     "name": "stdout",
     "output_type": "stream",
     "text": [
      "['Python', '\\xf6\\xf1', 5]\n"
     ]
    }
   ],
   "source": [
    "list = ['Python', 'öñ', 5]\n",
    "\n",
    "# ascii() with a list\n",
    "print(ascii(list))"
   ]
  },
  {
   "cell_type": "code",
   "execution_count": 100,
   "id": "176367ea",
   "metadata": {},
   "outputs": [
    {
     "name": "stdout",
     "output_type": "stream",
     "text": [
      "{'\\u03a6', '\\u03b7', '\\u03a0'}\n"
     ]
    }
   ],
   "source": [
    "set = {'Π', 'Φ', 'η'}\n",
    "\n",
    "# ascii() with a set\n",
    "print(ascii(set))"
   ]
  },
  {
   "cell_type": "code",
   "execution_count": 101,
   "id": "6f15e8ed",
   "metadata": {},
   "outputs": [
    {
     "name": "stdout",
     "output_type": "stream",
     "text": [
      "('\\xf6', '\\u221a', '\\xb6', '\\xd0', '\\xdf')\n"
     ]
    }
   ],
   "source": [
    "tuple = ('ö', '√', '¶','Ð','ß' )\n",
    "# ascii() with a tuple\n",
    "print(ascii(tuple))"
   ]
  },
  {
   "cell_type": "markdown",
   "id": "036eea8b",
   "metadata": {},
   "source": [
    "# bin()\n",
    "\n",
    "### The bin() method converts a specified integer number  to its binary representation and returns it.<br>\n",
    "-------------------------------------------------------------------------------------------------------\n",
    "\n",
    "#### bin() yöntemi, belirtilen bir tamsayı sayısını ikili gösterimine dönüştürür ve onu döndürür<br>"
   ]
  },
  {
   "cell_type": "markdown",
   "id": "5ef5b423",
   "metadata": {},
   "source": [
    "## bin() Syntax\n",
    "\n",
    "The syntax of bin() method is:\n",
    "    \n",
    "    <b>bin(number)<b/>"
   ]
  },
  {
   "cell_type": "markdown",
   "id": "30198b6b",
   "metadata": {},
   "source": [
    "# bin() Parameter\n",
    "\n",
    "The bin() method takes in a <b>single<b/> parameter:<br>\n",
    "\n",
    "<b>number - an integer<b/><br> \n",
    "    \n",
    "    whose binary equivalent is calculated"
   ]
  },
  {
   "cell_type": "markdown",
   "id": "a2046d36",
   "metadata": {},
   "source": [
    "## bin() Return Value\n",
    "    \n",
    "### bin() method returns:\n",
    "\n",
    "the binary string equivalent to the <b> given integer <b/>\n",
    "\n",
    "TypeError for a non-integer argument"
   ]
  },
  {
   "cell_type": "code",
   "execution_count": 102,
   "id": "78904091",
   "metadata": {},
   "outputs": [
    {
     "name": "stdout",
     "output_type": "stream",
     "text": [
      "The binary equivalent of 5 is: 0b101\n"
     ]
    }
   ],
   "source": [
    "number = 5 \n",
    "# convert 5 to its binary equivalent\n",
    "print('The binary equivalent of 5 is:', bin(number))"
   ]
  },
  {
   "cell_type": "code",
   "execution_count": 103,
   "id": "222c2d4a",
   "metadata": {},
   "outputs": [
    {
     "name": "stdout",
     "output_type": "stream",
     "text": [
      "The binary equivalent of 5 is: 0b11110111100\n"
     ]
    }
   ],
   "source": [
    "number = 1980\n",
    "# convert 5 to its binary equivalent\n",
    "print('The binary equivalent of 5 is:', bin(number))"
   ]
  },
  {
   "cell_type": "code",
   "execution_count": 104,
   "id": "ca9c3ba7",
   "metadata": {},
   "outputs": [
    {
     "name": "stdout",
     "output_type": "stream",
     "text": [
      "The binary equivalent of quantity is: 0b101\n"
     ]
    }
   ],
   "source": [
    "class Quantity:\n",
    "    apple = 1\n",
    "    orange = 2\n",
    "    grapes = 2\n",
    "    \n",
    "    def __index__(self):\n",
    "        return self.apple + self.orange + self.grapes\n",
    "        \n",
    "print('The binary equivalent of quantity is:', bin(Quantity()))"
   ]
  },
  {
   "cell_type": "code",
   "execution_count": 105,
   "id": "045d5e75",
   "metadata": {},
   "outputs": [
    {
     "name": "stdout",
     "output_type": "stream",
     "text": [
      "The binary equivalent of quantity is: 0b101\n"
     ]
    }
   ],
   "source": [
    "class Quantity:\n",
    "    apple = 1\n",
    "    orange = 2\n",
    "    grapes = 2\n",
    "    \n",
    "    def __index__(self):  #class larda kulllanımda index tanımlaması yapılırsa eğer bin kullanılabilir, aksi halde kullanılmaz.\n",
    "        return self.apple + self.orange + self.grapes\n",
    "        \n",
    "print('The binary equivalent of quantity is:', bin(Quantity()))"
   ]
  },
  {
   "cell_type": "code",
   "execution_count": 93,
   "id": "dc81e3f1",
   "metadata": {},
   "outputs": [
    {
     "ename": "TypeError",
     "evalue": "'Quantity' object cannot be interpreted as an integer",
     "output_type": "error",
     "traceback": [
      "\u001b[1;31m---------------------------------------------------------------------------\u001b[0m",
      "\u001b[1;31mTypeError\u001b[0m                                 Traceback (most recent call last)",
      "Input \u001b[1;32mIn [93]\u001b[0m, in \u001b[0;36m<cell line: 9>\u001b[1;34m()\u001b[0m\n\u001b[0;32m      6\u001b[0m     \u001b[38;5;28;01mdef\u001b[39;00m \u001b[38;5;21mfunc\u001b[39m():\n\u001b[0;32m      7\u001b[0m         \u001b[38;5;28;01mreturn\u001b[39;00m apple \u001b[38;5;241m+\u001b[39m orange \u001b[38;5;241m+\u001b[39m grapes\n\u001b[1;32m----> 9\u001b[0m \u001b[38;5;28mprint\u001b[39m(\u001b[38;5;124m'\u001b[39m\u001b[38;5;124mThe binary equivalent of quantity is:\u001b[39m\u001b[38;5;124m'\u001b[39m, \u001b[38;5;28;43mbin\u001b[39;49m\u001b[43m(\u001b[49m\u001b[43mQuantity\u001b[49m\u001b[43m(\u001b[49m\u001b[43m)\u001b[49m\u001b[43m)\u001b[49m)\n",
      "\u001b[1;31mTypeError\u001b[0m: 'Quantity' object cannot be interpreted as an integer"
     ]
    }
   ],
   "source": [
    "class Quantity:\n",
    "    apple = 1\n",
    "    orange = 2\n",
    "    grapes = 2\n",
    "    \n",
    "    def func():                       #doğrudan func ile kullanımı yoktur... hata verir.\n",
    "        return apple + orange + grapes\n",
    "        \n",
    "print('The binary equivalent of quantity is:', bin(Quantity()))"
   ]
  },
  {
   "cell_type": "markdown",
   "id": "3ae0eddd",
   "metadata": {},
   "source": [
    "# bool()\n",
    "\n",
    "The bool() method takes a <b>specified argument<b/><br> \n",
    "    \n",
    "    and returns its boolean value.\n",
    "\n",
    "bool() yöntemi, belirtilen bir bağımsız değişkeni alır ve boole değerini döndürür.\n",
    "\n",
    "### bool() Syntax\n",
    "\n",
    "The syntax of bool() is:\n",
    "\n",
    "bool(argument)"
   ]
  },
  {
   "cell_type": "markdown",
   "id": "2c49c399",
   "metadata": {},
   "source": [
    "### bool() Parameter\n",
    "\n",
    "The bool() method takes in a <b>single<b/> parameter:\n",
    "\n",
    "argument - whose boolean value is returned"
   ]
  },
  {
   "cell_type": "markdown",
   "id": "1bad665b",
   "metadata": {},
   "source": [
    "### bool() Return Value\n",
    "\n",
    "False if argument is <b>empty, False, 0 or None<b/>\n",
    "\n",
    "True - if argument is <b>any number (besides 0), True or a string<b/>"
   ]
  },
  {
   "cell_type": "code",
   "execution_count": 108,
   "id": "55e03233",
   "metadata": {},
   "outputs": [
    {
     "name": "stdout",
     "output_type": "stream",
     "text": [
      "254 is True\n",
      "25.14 is True\n",
      "Python is the best is True\n",
      "True is True\n",
      "False is True\n",
      "0 is True\n",
      "(3+6j) is True\n"
     ]
    }
   ],
   "source": [
    "test = 254\n",
    "# bool() with an integer number\n",
    "print(test, 'is', bool(test))\n",
    "\n",
    "test1 = 25.14\n",
    "# bool() with a floating point number\n",
    "print(test1, 'is', bool(test1))\n",
    "\n",
    "test2 = 'Python is the best'\n",
    "# bool() with a string\n",
    "print(test2, 'is', bool(test2))\n",
    "\n",
    "test3 = True\n",
    "# bool() with True\n",
    "print(test3, 'is', bool(test3))\n",
    "\n",
    "test4 = \"False\" #because str\n",
    "#bool() with True\n",
    "print(test4, \"is\", bool(test4))\n",
    "\n",
    "test5 = \"0\" #because str\n",
    "#bool() with True\n",
    "print(test5, \"is\", bool(test5))\n",
    "\n",
    "test6 = 3+6j #because complex\n",
    "#bool() with True\n",
    "print(test6, \"is\", bool(test6))\n"
   ]
  },
  {
   "cell_type": "markdown",
   "id": "89ab74a4",
   "metadata": {},
   "source": [
    "# enumerate()\n",
    "\n",
    "The enumerate() method adds a counter to an <b>iterable<b/> and returns it (the enumerate object).\n",
    "\n",
    "\n",
    "enumerate() yöntemi, <b>yinelenebilir<b/> bir öğeye bir sayaç ekler ve onu döndürür (enumerate nesnesi).\n",
    "    \n",
    "enumerate() method takes <b>two<b/> parameters:\n",
    "\n",
    "iterable - a sequence, an iterator, or objects that supports iteration\n",
    "\n",
    "start (optional) - enumerate() starts counting from this number. If start is omitted, 0 is taken as start.    \n",
    "\n",
    "    --------------------------------\n",
    "iki parametre alır. ilk parametre iterabledır, diğer parametre isteğe bağlıdır.\n",
    "    \n",
    "start (isteğe bağlı) - enumerate() bu sayıdan saymaya başlar. Başlangıç ​​atlanırsa, başlangıç ​​olarak 0 alınır.    "
   ]
  },
  {
   "cell_type": "markdown",
   "id": "e5850e3b",
   "metadata": {},
   "source": [
    "### Syntax of enumerate()\n",
    "\n",
    "The syntax of enumerate() is:\n"
   ]
  },
  {
   "cell_type": "markdown",
   "id": "6c9e1b37",
   "metadata": {},
   "source": [
    "#### enumerate(iterable, start=0)"
   ]
  },
  {
   "cell_type": "markdown",
   "id": "28f852c5",
   "metadata": {},
   "source": [
    "### enumerate() Return Value\n",
    "\n",
    "enumerate() method adds counter to an ***iterable*** and returns it. The returned object is an enumerate object.\n",
    "\n",
    "You can convert enumerate objects to **list and tuple using list() and tuple()** method respectively.\n",
    "\n",
    "enumerate() yöntemi, yinelenebilir bir sayıya sayaç ekler ve onu döndürür. Döndürülen nesne bir numaralandırma nesnesidir.\n",
    "\n",
    "Sırasıyla **list() ve tuple() yöntemini** kullanarak numaralandırma nesnelerini listeye ve demete dönüştürebilirsiniz."
   ]
  },
  {
   "cell_type": "code",
   "execution_count": 26,
   "id": "b51712ec",
   "metadata": {},
   "outputs": [
    {
     "name": "stdout",
     "output_type": "stream",
     "text": [
      "<class 'enumerate'>\n",
      "[(0, 'bread'), (1, 'milk'), (2, 'butter')]\n",
      "[(10, 'bread'), (11, 'milk'), (12, 'butter')]\n"
     ]
    }
   ],
   "source": [
    "grocery = ['bread', 'milk', 'butter']\n",
    "\n",
    "enumerateGrocery = enumerate(grocery)\n",
    "\n",
    "print(type(enumerateGrocery))\n",
    "\n",
    "# converting to list\n",
    " \n",
    "print(list(enumerateGrocery))\n",
    "\n",
    "# changing the default counter\n",
    "# enumerateGrocery = enumerate(grocery, 10)\n",
    "print(list(enumerate(grocery, 10)))"
   ]
  },
  {
   "cell_type": "code",
   "execution_count": 27,
   "id": "42c4938e",
   "metadata": {},
   "outputs": [
    {
     "name": "stdout",
     "output_type": "stream",
     "text": [
      "(0, 'bread')\n",
      "(1, 'milk')\n",
      "(2, 'butter')\n",
      "\n",
      "\n",
      "0 bread\n",
      "1 milk\n",
      "2 butter\n",
      "\n",
      "\n",
      "100 bread\n",
      "101 milk\n",
      "102 butter\n"
     ]
    }
   ],
   "source": [
    "grocery = ['bread', 'milk', 'butter']\n",
    "\n",
    "for item in enumerate(grocery):\n",
    "    print(item)\n",
    "\n",
    "print('\\n')\n",
    "\n",
    "for count, item in enumerate(grocery):\n",
    "    print(count, item)\n",
    "\n",
    "print('\\n')\n",
    "# changing default start value\n",
    "for count, item in enumerate(grocery, 100):\n",
    "    print(count, item)"
   ]
  },
  {
   "cell_type": "markdown",
   "id": "1ba69510",
   "metadata": {},
   "source": [
    "## Python dict()\n",
    "\n",
    "### class dict(**kwarg)\n",
    "\n",
    "### class dict(mapping, **kwarg)\n",
    "\n",
    "### class dict(iterable, **kwarg)"
   ]
  },
  {
   "cell_type": "code",
   "execution_count": 9,
   "id": "b34a3784",
   "metadata": {},
   "outputs": [
    {
     "name": "stdout",
     "output_type": "stream",
     "text": [
      "numbers = {'x': 5, 'y': 0}\n",
      "<class 'dict'>\n"
     ]
    }
   ],
   "source": [
    "numbers = dict(x=5, y=0)\n",
    "print('numbers =', numbers)\n",
    "print(type(numbers))"
   ]
  },
  {
   "cell_type": "code",
   "execution_count": 10,
   "id": "7e4c0113",
   "metadata": {},
   "outputs": [
    {
     "name": "stdout",
     "output_type": "stream",
     "text": [
      "numbers1 = {'x': 5, 'y': -5}\n",
      "<class 'dict'>\n"
     ]
    }
   ],
   "source": [
    "# keyword argument is not passed\n",
    "numbers1 = dict([('x', 5), ('y', -5)])\n",
    "print('numbers1 =',numbers1)\n",
    "print(type(numbers))"
   ]
  },
  {
   "cell_type": "code",
   "execution_count": 11,
   "id": "9397ba86",
   "metadata": {},
   "outputs": [
    {
     "name": "stdout",
     "output_type": "stream",
     "text": [
      "numbers2 = {'x': 5, 'y': -5, 'z': 8}\n"
     ]
    }
   ],
   "source": [
    "# keyword argument is also passed\n",
    "numbers2 = dict([('x', 5), ('y', -5)], z=8)\n",
    "print('numbers2 =',numbers2)"
   ]
  },
  {
   "cell_type": "code",
   "execution_count": 12,
   "id": "698f585d",
   "metadata": {},
   "outputs": [
    {
     "name": "stdout",
     "output_type": "stream",
     "text": [
      "numbers3 = {'x': 1, 'y': 2, 'z': 3}\n"
     ]
    }
   ],
   "source": [
    "# zip() creates an iterable in Python 3\n",
    "numbers3 = dict(zip(['x', 'y', 'z'], [1, 2, 3]))\n",
    "print('numbers3 =',numbers3)"
   ]
  },
  {
   "cell_type": "code",
   "execution_count": 13,
   "id": "b13f0ca6",
   "metadata": {},
   "outputs": [
    {
     "name": "stdout",
     "output_type": "stream",
     "text": [
      "{'Python': 0, 'CSharp': 0, 'Java': 0}\n"
     ]
    }
   ],
   "source": [
    "# Considering Dict as our iterable parameter\n",
    "iter_Dict = {\"Python\":0, \"CSharp\":0, \"Java\":0}\n",
    "print(iter_Dict)"
   ]
  },
  {
   "cell_type": "code",
   "execution_count": 14,
   "id": "413eddbf",
   "metadata": {},
   "outputs": [
    {
     "name": "stdout",
     "output_type": "stream",
     "text": [
      "Type of map_result is <class 'list'>\n"
     ]
    }
   ],
   "source": [
    "# Calling map() function on a dictionary\n",
    "map_result =  list(map(len, iter_Dict))\n",
    "print(\"Type of map_result is {}\".format(type(map_result)))"
   ]
  },
  {
   "cell_type": "code",
   "execution_count": 15,
   "id": "826ec153",
   "metadata": {},
   "outputs": [
    {
     "name": "stdout",
     "output_type": "stream",
     "text": [
      "[6, 6, 4]\n"
     ]
    }
   ],
   "source": [
    "# Printing map() output\n",
    "print(map_result)"
   ]
  },
  {
   "cell_type": "code",
   "execution_count": 16,
   "id": "c0384f15",
   "metadata": {},
   "outputs": [
    {
     "name": "stdout",
     "output_type": "stream",
     "text": [
      "<class 'list'>\n",
      "[<enumerate object at 0x00000233F56EA400>, <enumerate object at 0x00000233F5728BC0>, <enumerate object at 0x00000233F57288C0>]\n"
     ]
    }
   ],
   "source": [
    "map_result = list(map(enumerate, iter_Dict)) # enumemarate yer belirtir. burada map_result tipi liste.\n",
    "print(type(map_result))\n",
    "print(map_result)"
   ]
  },
  {
   "cell_type": "code",
   "execution_count": 17,
   "id": "f079b284",
   "metadata": {},
   "outputs": [
    {
     "name": "stdout",
     "output_type": "stream",
     "text": [
      "<class 'enumerate'>\n"
     ]
    }
   ],
   "source": [
    "map_result = list(map(enumerate, iter_Dict)) # enumemarate yer belirtir. burada map_result 1.indexi\n",
    "print(type(map_result[0]))"
   ]
  },
  {
   "cell_type": "code",
   "execution_count": 18,
   "id": "1b80270a",
   "metadata": {},
   "outputs": [
    {
     "name": "stdout",
     "output_type": "stream",
     "text": [
      "<class 'tuple'>\n",
      "<class 'str'>\n"
     ]
    }
   ],
   "source": [
    "set_1 = 1, 2\n",
    "print(type(set_1))\n",
    "map_result = list(map(str, set_1)) # enumemarate yer belirtir.\n",
    "print(type(map_result[1]))"
   ]
  },
  {
   "cell_type": "code",
   "execution_count": 19,
   "id": "839e7305",
   "metadata": {},
   "outputs": [
    {
     "name": "stdout",
     "output_type": "stream",
     "text": [
      "(100, 1) (101, 2) (102, 3)\n"
     ]
    }
   ],
   "source": [
    "rs={1:\"a\",2:\"b\",3:\"c\"}\n",
    "print(* enumerate(rs, 100))"
   ]
  },
  {
   "cell_type": "code",
   "execution_count": 20,
   "id": "584381b2",
   "metadata": {},
   "outputs": [],
   "source": [
    "#Mapping Types — dict"
   ]
  },
  {
   "cell_type": "code",
   "execution_count": 21,
   "id": "b530bbf6",
   "metadata": {},
   "outputs": [
    {
     "data": {
      "text/plain": [
       "{0: 0, 1: 1, 2: 4, 3: 9, 4: 16, 5: 25, 6: 36, 7: 49, 8: 64, 9: 81}"
      ]
     },
     "execution_count": 21,
     "metadata": {},
     "output_type": "execute_result"
    }
   ],
   "source": [
    "{x: x ** 2 for x in range(10)}"
   ]
  },
  {
   "cell_type": "code",
   "execution_count": 22,
   "id": "6e2f7122",
   "metadata": {},
   "outputs": [
    {
     "data": {
      "text/plain": [
       "{'jack': 4098, 'sjoerd': 4127}"
      ]
     },
     "execution_count": 22,
     "metadata": {},
     "output_type": "execute_result"
    }
   ],
   "source": [
    "# Use a comma-separated list of key: value pairs within braces: \n",
    "{'jack': 4098, 'sjoerd': 4127} or {4098: 'jack', 4127: 'sjoerd'}"
   ]
  },
  {
   "cell_type": "code",
   "execution_count": 23,
   "id": "8d1260c2",
   "metadata": {},
   "outputs": [
    {
     "data": {
      "text/plain": [
       "{0: 0, 1: 1, 2: 4, 3: 9, 4: 16, 5: 25, 6: 36, 7: 49, 8: 64, 9: 81}"
      ]
     },
     "execution_count": 23,
     "metadata": {},
     "output_type": "execute_result"
    }
   ],
   "source": [
    "#Use a dict comprehension: \n",
    "{x: x ** 2 for x in range(10)}"
   ]
  },
  {
   "cell_type": "code",
   "execution_count": 24,
   "id": "d2835e1b",
   "metadata": {},
   "outputs": [
    {
     "data": {
      "text/plain": [
       "({'foo': 100, 'bar': 200, 'asuman': 'rabia'}, {'foo': 100, 'bar': 200})"
      ]
     },
     "execution_count": 24,
     "metadata": {},
     "output_type": "execute_result"
    }
   ],
   "source": [
    "#Use the type constructor:\n",
    "dict([('foo', 100), ('bar', 200)], asuman = \"rabia\"), dict(foo=100, bar=200) #list içinde tuple / kwargs şeklinde"
   ]
  },
  {
   "cell_type": "code",
   "execution_count": 25,
   "id": "c5bbb789",
   "metadata": {},
   "outputs": [
    {
     "data": {
      "text/plain": [
       "{'foo': 100, 'bar': 200}"
      ]
     },
     "execution_count": 25,
     "metadata": {},
     "output_type": "execute_result"
    }
   ],
   "source": [
    "dict(foo=100, bar=200)"
   ]
  },
  {
   "cell_type": "code",
   "execution_count": 26,
   "id": "ef4a6da4",
   "metadata": {},
   "outputs": [
    {
     "ename": "NameError",
     "evalue": "name 'foo' is not defined",
     "output_type": "error",
     "traceback": [
      "\u001b[1;31m---------------------------------------------------------------------------\u001b[0m",
      "\u001b[1;31mNameError\u001b[0m                                 Traceback (most recent call last)",
      "Input \u001b[1;32mIn [26]\u001b[0m, in \u001b[0;36m<cell line: 1>\u001b[1;34m()\u001b[0m\n\u001b[1;32m----> 1\u001b[0m {\u001b[43mfoo\u001b[49m:\u001b[38;5;241m100\u001b[39m, bar:\u001b[38;5;241m200\u001b[39m}\n",
      "\u001b[1;31mNameError\u001b[0m: name 'foo' is not defined"
     ]
    }
   ],
   "source": [
    "{foo:100, bar:200} # boş bir dict. elle oluşturursak; key leri bu şekilde tanımlayamayız."
   ]
  },
  {
   "cell_type": "code",
   "execution_count": 27,
   "id": "ab7338c3",
   "metadata": {},
   "outputs": [
    {
     "ename": "SyntaxError",
     "evalue": "invalid syntax. Maybe you meant '==' or ':=' instead of '='? (845683974.py, line 1)",
     "output_type": "error",
     "traceback": [
      "\u001b[1;36m  Input \u001b[1;32mIn [27]\u001b[1;36m\u001b[0m\n\u001b[1;33m    {foo = 100, bar = 200} #bu şekilde de tanımlayamayız.\u001b[0m\n\u001b[1;37m     ^\u001b[0m\n\u001b[1;31mSyntaxError\u001b[0m\u001b[1;31m:\u001b[0m invalid syntax. Maybe you meant '==' or ':=' instead of '='?\n"
     ]
    }
   ],
   "source": [
    "{foo = 100, bar = 200} #bu şekilde de tanımlayamayız."
   ]
  },
  {
   "cell_type": "code",
   "execution_count": 28,
   "id": "74f9bbde",
   "metadata": {},
   "outputs": [
    {
     "data": {
      "text/plain": [
       "{'foo': 100, 'bar': 200}"
      ]
     },
     "execution_count": 28,
     "metadata": {},
     "output_type": "execute_result"
    }
   ],
   "source": [
    "{\"foo\":100, \"bar\":200}"
   ]
  },
  {
   "cell_type": "code",
   "execution_count": 29,
   "id": "305fee59",
   "metadata": {},
   "outputs": [],
   "source": [
    ">>> a = dict(one=1, two=2, three=3)\n",
    ">>> b = {'one': 1, 'two': 2, 'three': 3}\n",
    ">>> c = dict(zip(['one', 'two', 'three'], [1, 2, 3]))\n",
    ">>> d = dict([('two', 2), ('one', 1), ('three', 3)])\n",
    ">>> e = dict({'three': 3, 'one': 1, 'two': 2})\n",
    ">>> f = dict({'one': 1, 'three': 3}, two=2)"
   ]
  },
  {
   "cell_type": "markdown",
   "id": "4d94a7f1",
   "metadata": {},
   "source": [
    "## Python dir()\n",
    "## The dir() method returns the list of valid attributes of the passed object."
   ]
  },
  {
   "cell_type": "markdown",
   "id": "7e5ea90d",
   "metadata": {},
   "source": [
    "## dir() Syntax\n",
    "## The syntax of the dir() method is:"
   ]
  },
  {
   "cell_type": "markdown",
   "id": "03c0980a",
   "metadata": {},
   "source": [
    "### dir(object)"
   ]
  },
  {
   "cell_type": "markdown",
   "id": "72c2a839",
   "metadata": {},
   "source": [
    "dir() Parameters\n",
    "\n",
    "The dir() method takes in a single parameter:\n",
    "\n",
    "object - can be an empty/filled tuple, list, set, dictionary etc or any user-defined object\n",
    "\n",
    "dir() Return Value\n",
    "\n",
    "The dir() method returns:\n",
    "\n",
    "the list of attributes of the object passed to the method\n",
    "\n",
    "\n",
    "------------------------------------------------------------------------------\n",
    "\n",
    "dir() Parametreler\n",
    "\n",
    "dir() yöntemi tek bir parametre alır:\n",
    "\n",
    "nesne - boş/dolu bir demet, liste, küme, sözlük vb. veya herhangi bir kullanıcı tanımlı nesne olabilir\n",
    "\n",
    "dir() Dönüş Değeri\n",
    "\n",
    "dir() yöntemi şunu döndürür: \n",
    "\n",
    "yönteme iletilen nesnenin özniteliklerinin listesi\n"
   ]
  },
  {
   "cell_type": "code",
   "execution_count": 30,
   "id": "d2ab9eb0",
   "metadata": {},
   "outputs": [
    {
     "ename": "SyntaxError",
     "evalue": "incomplete input (949109002.py, line 9)",
     "output_type": "error",
     "traceback": [
      "\u001b[1;36m  Input \u001b[1;32mIn [30]\u001b[1;36m\u001b[0m\n\u001b[1;33m    print(dir(number2)\u001b[0m\n\u001b[1;37m                      ^\u001b[0m\n\u001b[1;31mSyntaxError\u001b[0m\u001b[1;31m:\u001b[0m incomplete input\n"
     ]
    }
   ],
   "source": [
    "number1 = [1, 2, 3]\n",
    "\n",
    "#dir with a filled list\n",
    "print(dir(number1))\n",
    "\n",
    "number2 = [ ]\n",
    "\n",
    "# dir() with an empty list\n",
    "print(dir(number2)"
   ]
  },
  {
   "cell_type": "code",
   "execution_count": 32,
   "id": "d12001ce",
   "metadata": {},
   "outputs": [
    {
     "ename": "SyntaxError",
     "evalue": "invalid syntax (3647272594.py, line 1)",
     "output_type": "error",
     "traceback": [
      "\u001b[1;36m  Input \u001b[1;32mIn [32]\u001b[1;36m\u001b[0m\n\u001b[1;33m    Python divmod()\u001b[0m\n\u001b[1;37m           ^\u001b[0m\n\u001b[1;31mSyntaxError\u001b[0m\u001b[1;31m:\u001b[0m invalid syntax\n"
     ]
    }
   ],
   "source": [
    "Python divmod()\n",
    " (a // b, a % b)"
   ]
  },
  {
   "cell_type": "markdown",
   "id": "654cffad",
   "metadata": {},
   "source": [
    "### The divmod() method takes two numbers as arguments and returns their quotient and remainder in a tuple."
   ]
  },
  {
   "cell_type": "markdown",
   "id": "4e65d5fc",
   "metadata": {},
   "source": [
    "## divmod() Syntax\n",
    "The syntax of divmod() is:\n",
    "divmod(number1, number2)"
   ]
  },
  {
   "cell_type": "markdown",
   "id": "dfa04f8d",
   "metadata": {},
   "source": [
    "## divmod() Return Value\n",
    "The divmod() method returns:\n",
    "\n",
    "(quotient, remainder) - a tuple that contains quotient and remainder of the division\n",
    "\n",
    "TypeError - for any non-numeric argument"
   ]
  },
  {
   "cell_type": "code",
   "execution_count": 33,
   "id": "f762aa45",
   "metadata": {},
   "outputs": [
    {
     "name": "stdout",
     "output_type": "stream",
     "text": [
      "divmod(8, 3) =  (2, 2)\n",
      "divmod(3, 8) =  (0, 3)\n",
      "divmod(5, 5) =  (1, 0)\n"
     ]
    }
   ],
   "source": [
    "# divmod() with integer arguments\n",
    "print('divmod(8, 3) = ', divmod(8, 3))\n",
    "\n",
    "# divmod() with integer arguments\n",
    "print('divmod(3, 8) = ', divmod(3, 8))\n",
    "\n",
    "# divmod() with integer arguments\n",
    "print('divmod(5, 5) = ', divmod(5, 5))"
   ]
  },
  {
   "cell_type": "code",
   "execution_count": 34,
   "id": "97fa6e40",
   "metadata": {},
   "outputs": [
    {
     "ename": "TypeError",
     "evalue": "unsupported operand type(s) for divmod(): 'str' and 'str'",
     "output_type": "error",
     "traceback": [
      "\u001b[1;31m---------------------------------------------------------------------------\u001b[0m",
      "\u001b[1;31mTypeError\u001b[0m                                 Traceback (most recent call last)",
      "Input \u001b[1;32mIn [34]\u001b[0m, in \u001b[0;36m<cell line: 2>\u001b[1;34m()\u001b[0m\n\u001b[0;32m      1\u001b[0m \u001b[38;5;66;03m# divmod() with string arguments\u001b[39;00m\n\u001b[1;32m----> 2\u001b[0m a \u001b[38;5;241m=\u001b[39m \u001b[38;5;28;43mdivmod\u001b[39;49m\u001b[43m(\u001b[49m\u001b[38;5;124;43m\"\u001b[39;49m\u001b[38;5;124;43mJeff\u001b[39;49m\u001b[38;5;124;43m\"\u001b[39;49m\u001b[43m,\u001b[49m\u001b[43m \u001b[49m\u001b[38;5;124;43m\"\u001b[39;49m\u001b[38;5;124;43mBezos\u001b[39;49m\u001b[38;5;124;43m\"\u001b[39;49m\u001b[43m)\u001b[49m\n\u001b[0;32m      4\u001b[0m \u001b[38;5;28mprint\u001b[39m(\u001b[38;5;124m'\u001b[39m\u001b[38;5;124mThe divmod of Jeff and Bezos is =\u001b[39m\u001b[38;5;124m'\u001b[39m, a)\n",
      "\u001b[1;31mTypeError\u001b[0m: unsupported operand type(s) for divmod(): 'str' and 'str'"
     ]
    }
   ],
   "source": [
    "# divmod() with string arguments\n",
    "a = divmod(\"Jeff\", \"Bezos\")\n",
    "\n",
    "print('The divmod of Jeff and Bezos is =', a)"
   ]
  },
  {
   "cell_type": "code",
   "execution_count": null,
   "id": "e3007b2d",
   "metadata": {},
   "outputs": [],
   "source": []
  }
 ],
 "metadata": {
  "kernelspec": {
   "display_name": "Python 3 (ipykernel)",
   "language": "python",
   "name": "python3"
  },
  "language_info": {
   "codemirror_mode": {
    "name": "ipython",
    "version": 3
   },
   "file_extension": ".py",
   "mimetype": "text/x-python",
   "name": "python",
   "nbconvert_exporter": "python",
   "pygments_lexer": "ipython3",
   "version": "3.10.4"
  }
 },
 "nbformat": 4,
 "nbformat_minor": 5
}
