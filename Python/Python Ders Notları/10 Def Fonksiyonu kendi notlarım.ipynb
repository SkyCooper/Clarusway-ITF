{
 "cells": [
  {
   "cell_type": "raw",
   "id": "2060c58e",
   "metadata": {},
   "source": [
    "30 Mayıs 2022, sololearn"
   ]
  },
  {
   "cell_type": "code",
   "execution_count": 1,
   "id": "f8dbda31",
   "metadata": {},
   "outputs": [],
   "source": [
    "def hello(): # fonksiyon tanımlama\n",
    "    print(\"Hi!\")"
   ]
  },
  {
   "cell_type": "code",
   "execution_count": 2,
   "id": "f3349a11",
   "metadata": {},
   "outputs": [
    {
     "name": "stdout",
     "output_type": "stream",
     "text": [
      "Hi!\n"
     ]
    }
   ],
   "source": [
    "hello() # fonksiyon çağırma"
   ]
  },
  {
   "cell_type": "code",
   "execution_count": 4,
   "id": "9e836cb9",
   "metadata": {},
   "outputs": [],
   "source": [
    "def test(): # tek fonksiyonla birden çok print alınabilir.\n",
    "    print(\"a\")\n",
    "    print(\"b\")\n",
    "    print(\"c\")"
   ]
  },
  {
   "cell_type": "code",
   "execution_count": 5,
   "id": "78970684",
   "metadata": {},
   "outputs": [
    {
     "name": "stdout",
     "output_type": "stream",
     "text": [
      "a\n",
      "b\n",
      "c\n"
     ]
    }
   ],
   "source": [
    "test()"
   ]
  },
  {
   "cell_type": "code",
   "execution_count": 7,
   "id": "07f1669c",
   "metadata": {},
   "outputs": [
    {
     "name": "stdout",
     "output_type": "stream",
     "text": [
      "Hi!\n",
      "Hi!\n",
      "Hi!\n",
      "Hi!\n"
     ]
    }
   ],
   "source": [
    "hello() # aynı anda aynı fonksiyon çok kere çağırılabilir.\n",
    "hello()\n",
    "hello()\n",
    "hello()"
   ]
  },
  {
   "cell_type": "code",
   "execution_count": 8,
   "id": "27e43d35",
   "metadata": {},
   "outputs": [
    {
     "name": "stdout",
     "output_type": "stream",
     "text": [
      "a\n",
      "b\n",
      "c\n",
      "Hi!\n"
     ]
    }
   ],
   "source": [
    "test() # # aynı anda farklı fonksiyonlar çok kere çağırılabilir.\n",
    "hello()"
   ]
  },
  {
   "cell_type": "raw",
   "id": "f5c73bf5",
   "metadata": {},
   "source": [
    "We have a function that outputs \"Welcome, user\" as it is called. We want to make it more personalized, so redesign the given function so that it will take the name of the user as input and output the welcome message with it."
   ]
  },
  {
   "cell_type": "code",
   "execution_count": 9,
   "id": "7d2cfa60",
   "metadata": {},
   "outputs": [
    {
     "name": "stdout",
     "output_type": "stream",
     "text": [
      "Welcome, user\n"
     ]
    }
   ],
   "source": [
    "def welcome(): #ilk hali böyle\n",
    "   print(\"Welcome, user\")\n",
    "\n",
    "welcome()"
   ]
  },
  {
   "cell_type": "code",
   "execution_count": 10,
   "id": "033bc719",
   "metadata": {},
   "outputs": [
    {
     "name": "stdout",
     "output_type": "stream",
     "text": [
      "mustafa\n",
      "Welcome, mustafa\n"
     ]
    }
   ],
   "source": [
    "name = input() # buhale gelmesi gerekiyor.\n",
    "\n",
    "def welcome():\n",
    "   print(\"Welcome,\", name)\n",
    "\n",
    "welcome()"
   ]
  },
  {
   "cell_type": "code",
   "execution_count": null,
   "id": "5436257d",
   "metadata": {},
   "outputs": [],
   "source": []
  },
  {
   "cell_type": "raw",
   "id": "6c2d7cfb",
   "metadata": {},
   "source": [
    "The given program defines a function printBill(), which takes one string argument and outputs formatted text.\n",
    "You need to take the user input and call the function by passing the input as its argument."
   ]
  },
  {
   "cell_type": "code",
   "execution_count": 11,
   "id": "dedacf69",
   "metadata": {},
   "outputs": [
    {
     "name": "stdout",
     "output_type": "stream",
     "text": [
      "merhaba\n",
      "======\n",
      "merhaba\n",
      "======\n"
     ]
    }
   ],
   "source": [
    "girdi = input() # bunu çözüme ilave ettim\n",
    "\n",
    "def printBill(text):\n",
    "  print(\"======\")\n",
    "  print(text)\n",
    "  print(\"======\")\n",
    "\n",
    "printBill(girdi)"
   ]
  },
  {
   "cell_type": "code",
   "execution_count": null,
   "id": "88b626d3",
   "metadata": {},
   "outputs": [],
   "source": []
  },
  {
   "cell_type": "code",
   "execution_count": 12,
   "id": "35fc4370",
   "metadata": {},
   "outputs": [
    {
     "name": "stdout",
     "output_type": "stream",
     "text": [
      "A18\n"
     ]
    }
   ],
   "source": [
    "def msg(num, ch):\n",
    "  print(ch+str(num))\n",
    "\n",
    "msg(18, 'A')"
   ]
  },
  {
   "cell_type": "code",
   "execution_count": null,
   "id": "105675f8",
   "metadata": {},
   "outputs": [],
   "source": []
  },
  {
   "cell_type": "code",
   "execution_count": 15,
   "id": "4b60d62c",
   "metadata": {},
   "outputs": [
    {
     "data": {
      "text/plain": [
       "9"
      ]
     },
     "execution_count": 15,
     "metadata": {},
     "output_type": "execute_result"
    }
   ],
   "source": [
    "def sum(x, y):\n",
    "   return x+y\n",
    "\n",
    "sum(4, 5)"
   ]
  },
  {
   "cell_type": "code",
   "execution_count": null,
   "id": "b6c17585",
   "metadata": {},
   "outputs": [],
   "source": []
  },
  {
   "cell_type": "code",
   "execution_count": 17,
   "id": "b2646737",
   "metadata": {},
   "outputs": [
    {
     "data": {
      "text/plain": [
       "25"
      ]
     },
     "execution_count": 17,
     "metadata": {},
     "output_type": "execute_result"
    }
   ],
   "source": [
    "def square(x):\n",
    "  return x**2\n",
    "\n",
    "square(5)"
   ]
  },
  {
   "cell_type": "code",
   "execution_count": null,
   "id": "38e1ab24",
   "metadata": {},
   "outputs": [],
   "source": []
  },
  {
   "cell_type": "code",
   "execution_count": 18,
   "id": "5fb68bfe",
   "metadata": {},
   "outputs": [
    {
     "name": "stdout",
     "output_type": "stream",
     "text": [
      "49\n"
     ]
    }
   ],
   "source": [
    "def sum(x, y):\n",
    "  return x+y\n",
    "\n",
    "res = sum(42, 7)\n",
    "print(res) "
   ]
  },
  {
   "cell_type": "code",
   "execution_count": 19,
   "id": "ff70ea33",
   "metadata": {},
   "outputs": [
    {
     "data": {
      "text/plain": [
       "49"
      ]
     },
     "execution_count": 19,
     "metadata": {},
     "output_type": "execute_result"
    }
   ],
   "source": [
    "def sum(x, y): # ilave tanımlama olmadan aynı çıktıyı verir.\n",
    "  return x+y\n",
    "\n",
    "sum(42, 7)"
   ]
  },
  {
   "cell_type": "raw",
   "id": "932791bf",
   "metadata": {},
   "source": [
    "You are given a program with two inputs: one as password and the second one as password repeat. function output \"Correct\" if password and repeat are equal, and output \"Wrong\", if they are not."
   ]
  },
  {
   "cell_type": "code",
   "execution_count": 2,
   "id": "4396b893",
   "metadata": {},
   "outputs": [],
   "source": [
    "def validate(text1, text2):\n",
    "    if text1 == text2:\n",
    "        print(\"Correct\")\n",
    "    else:\n",
    "        print(\"Wrong\")"
   ]
  },
  {
   "cell_type": "code",
   "execution_count": 3,
   "id": "4bbe53d8",
   "metadata": {},
   "outputs": [
    {
     "name": "stdout",
     "output_type": "stream",
     "text": [
      "erre\n",
      "erre\n",
      "Correct\n"
     ]
    }
   ],
   "source": [
    "password = input()\n",
    "repeat = input()\n",
    "validate(password, repeat)"
   ]
  },
  {
   "cell_type": "code",
   "execution_count": 20,
   "id": "6417be76",
   "metadata": {},
   "outputs": [
    {
     "name": "stdout",
     "output_type": "stream",
     "text": [
      "7\n"
     ]
    }
   ],
   "source": [
    "def foo(x, y): # if/else bloğu kullanarak fonksiyon atama\n",
    "  if x >= y:\n",
    "    return x\n",
    "  else:\n",
    "    return y\n",
    "\n",
    "x = foo(4, 7)\n",
    "print(x)"
   ]
  },
  {
   "cell_type": "code",
   "execution_count": 21,
   "id": "9e702a5b",
   "metadata": {},
   "outputs": [
    {
     "data": {
      "text/plain": [
       "7"
      ]
     },
     "execution_count": 21,
     "metadata": {},
     "output_type": "execute_result"
    }
   ],
   "source": [
    "def foo(x, y):\n",
    "  if x >= y:\n",
    "    return x\n",
    "  else:\n",
    "    return y\n",
    "\n",
    "foo(4, 7)   # ilave değişkene atamadan kullanımı"
   ]
  },
  {
   "cell_type": "code",
   "execution_count": 22,
   "id": "bc9dc781",
   "metadata": {},
   "outputs": [
    {
     "name": "stdout",
     "output_type": "stream",
     "text": [
      "Nope\n"
     ]
    }
   ],
   "source": [
    "def max(x, y):    # iki değer girildi ve foksiyon büyük olanı seçti.\n",
    "  if x >=y:\n",
    "    return x\n",
    "  else:\n",
    "    return y\n",
    "        \n",
    "if(max(6, 4) > 10):  # def'ten bağımsız fakat onun sonucuna göre; 10 dan büyük veya küçük\n",
    "  print(\"Yes\")       # burada 6 ve 4 arasından def önce 6'yı return eder.\n",
    "else:\n",
    "  print(\"Nope\")      # 6 > 10 olsa Yes olacaktı, olmadığı için Nope oldu"
   ]
  },
  {
   "cell_type": "code",
   "execution_count": 23,
   "id": "09ae5880",
   "metadata": {},
   "outputs": [
    {
     "name": "stdout",
     "output_type": "stream",
     "text": [
      "Yes\n"
     ]
    }
   ],
   "source": [
    "def max(x, y):    # iki değer girildi ve foksiyon büyük olanı seçti.\n",
    "  if x >=y:\n",
    "    return x\n",
    "  else:\n",
    "    return y\n",
    "        \n",
    "if(max(4, 12) > 10):  # def'ten bağımsız fakat onun sonucuna göre; 10 dan büyük veya küçük\n",
    "  print(\"Yes\")       # burada 4 ve 12 arasından def önce 12'yı return eder.\n",
    "else:\n",
    "  print(\"Nope\")      # 12 > 10 oldu --> Yes"
   ]
  },
  {
   "cell_type": "code",
   "execution_count": 24,
   "id": "5a58c064",
   "metadata": {},
   "outputs": [
    {
     "data": {
      "text/plain": [
       "'hi'"
      ]
     },
     "execution_count": 24,
     "metadata": {},
     "output_type": "execute_result"
    }
   ],
   "source": [
    "def shortest_string(x, y):\n",
    "    if len(x) <= len(y):\n",
    "        return x\n",
    "    else:\n",
    "        return y\n",
    "    \n",
    "shortest_string(\"hello\", \"hi\")"
   ]
  },
  {
   "cell_type": "code",
   "execution_count": 25,
   "id": "05f74118",
   "metadata": {},
   "outputs": [
    {
     "name": "stdout",
     "output_type": "stream",
     "text": [
      "9\n"
     ]
    }
   ],
   "source": [
    "def add_numbers(x, y):\n",
    "  total = x + y\n",
    "  return total        # return altına yazılanlar çalışmaz,\n",
    "  print(\"This won't be printed\") #çıktıda görünmez çünkü çalışmadı.\n",
    "\n",
    "print(add_numbers(4, 5))"
   ]
  },
  {
   "cell_type": "code",
   "execution_count": 26,
   "id": "15d23b28",
   "metadata": {},
   "outputs": [
    {
     "name": "stdout",
     "output_type": "stream",
     "text": [
      "This won't be printed\n",
      "9\n"
     ]
    }
   ],
   "source": [
    "def add_numbers(x, y):\n",
    "  total = x + y\n",
    "  print(\"This won't be printed\") # üstünde olduğu output verdi\n",
    "  return total        # return altına yazılanlar çalışmaz,\n",
    "\n",
    "print(add_numbers(4, 5))"
   ]
  },
  {
   "cell_type": "raw",
   "id": "a348e8c6",
   "metadata": {},
   "source": [
    "A function can only return once, thus, if you need to return multiple values, you can use a list."
   ]
  },
  {
   "cell_type": "code",
   "execution_count": 27,
   "id": "cb7eeecb",
   "metadata": {},
   "outputs": [
    {
     "name": "stdout",
     "output_type": "stream",
     "text": [
      "[12, 18]\n"
     ]
    }
   ],
   "source": [
    "def double(a, b):\n",
    "   return [a*2, b*2] # girilen değerlere ayrı işlem uygulam için liste kullanılır.\n",
    "\n",
    "x = double(6, 9)\n",
    "print(x)"
   ]
  },
  {
   "cell_type": "code",
   "execution_count": 28,
   "id": "26d9b162",
   "metadata": {},
   "outputs": [
    {
     "name": "stdout",
     "output_type": "stream",
     "text": [
      "12\n"
     ]
    }
   ],
   "source": [
    "def calc(x, y):\n",
    "   return [x+y, x*y]\n",
    "\n",
    "res = calc(3, 4)\n",
    "print(res[1]) # [7, 12] "
   ]
  },
  {
   "cell_type": "raw",
   "id": "3eb1b08d",
   "metadata": {},
   "source": [
    "We need to calculate the area of a given rectangle.\n",
    "Your program needs to take the width and length as input and output the area of the rectangle.\n",
    "\n",
    "Complete the area function, which takes the length and width as arguments, to calculate and return the area.\n",
    "Then call the function for the given inputs."
   ]
  },
  {
   "cell_type": "code",
   "execution_count": 30,
   "id": "bab1ff15",
   "metadata": {},
   "outputs": [
    {
     "name": "stdout",
     "output_type": "stream",
     "text": [
      "5\n",
      "9\n"
     ]
    },
    {
     "data": {
      "text/plain": [
       "45"
      ]
     },
     "execution_count": 30,
     "metadata": {},
     "output_type": "execute_result"
    }
   ],
   "source": [
    "w = int(input())\n",
    "h = int(input())\n",
    "\n",
    "def area(x, y):\n",
    "  return (x*y)\n",
    "\n",
    "area(w, h)"
   ]
  },
  {
   "cell_type": "code",
   "execution_count": 31,
   "id": "cbc4fe4e",
   "metadata": {},
   "outputs": [
    {
     "name": "stdout",
     "output_type": "stream",
     "text": [
      "6\n"
     ]
    }
   ],
   "source": [
    "def sum(x):\n",
    "    res = 0\n",
    "    for i in range(x):\n",
    "        res+=i\n",
    "    return res\n",
    "    \n",
    "print(sum(4))"
   ]
  },
  {
   "cell_type": "raw",
   "id": "9ab9f313",
   "metadata": {},
   "source": [
    "define a fuction takes two numbers and returns the smaller one"
   ]
  },
  {
   "cell_type": "code",
   "execution_count": 32,
   "id": "62e4a5a7",
   "metadata": {},
   "outputs": [
    {
     "name": "stdout",
     "output_type": "stream",
     "text": [
      "14 14\n"
     ]
    }
   ],
   "source": [
    "def small(x, y):\n",
    "    if x <= y:\n",
    "        return x\n",
    "    else:\n",
    "        return y\n",
    "    \n",
    "a = small(14, 75)\n",
    "b = small(75, 14)\n",
    "print(a, b)"
   ]
  },
  {
   "cell_type": "raw",
   "id": "9c2d7572",
   "metadata": {},
   "source": [
    "--girilen rakama kadar olan bütün sayıları toplayan fonksiyon yaz."
   ]
  },
  {
   "cell_type": "code",
   "execution_count": 37,
   "id": "e370c3e8",
   "metadata": {},
   "outputs": [
    {
     "data": {
      "text/plain": [
       "15"
      ]
     },
     "execution_count": 37,
     "metadata": {},
     "output_type": "execute_result"
    }
   ],
   "source": [
    "def sum(x):\n",
    "    res = 0\n",
    "    for i in range(x+1):\n",
    "        res += i\n",
    "    return res\n",
    "\n",
    "sum(5) #0+1+2+3+4+5 =15 oldu."
   ]
  },
  {
   "cell_type": "code",
   "execution_count": 1,
   "id": "0122ff9f",
   "metadata": {},
   "outputs": [],
   "source": [
    "def print_nums(x):\n",
    "    for i in range(x):\n",
    "        print(i)\n",
    "    return"
   ]
  },
  {
   "cell_type": "code",
   "execution_count": 2,
   "id": "cf46a431",
   "metadata": {},
   "outputs": [
    {
     "name": "stdout",
     "output_type": "stream",
     "text": [
      "0\n",
      "1\n",
      "2\n",
      "3\n",
      "4\n",
      "5\n",
      "6\n",
      "7\n",
      "8\n",
      "9\n"
     ]
    }
   ],
   "source": [
    "print_nums(10)"
   ]
  },
  {
   "cell_type": "raw",
   "id": "4771f975",
   "metadata": {},
   "source": [
    "Search Engine\n",
    "You’re working on a search engine. Watch your back Google!\n",
    "\n",
    "The given code takes a text and a word as input and passes them to a function called search().\n",
    "\n",
    "The search() function should return \"Word found\" if the word is present in the text, or \"Word not found\", if it’s not.\n",
    "\n",
    "Sample Input\n",
    "\"This is awesome\"\n",
    "\"awesome\"\n",
    "\n",
    "Sample Output\n",
    "Word found"
   ]
  },
  {
   "cell_type": "code",
   "execution_count": 46,
   "id": "e5e7a6fb",
   "metadata": {},
   "outputs": [
    {
     "name": "stdout",
     "output_type": "stream",
     "text": [
      "baba ve dede\n",
      "baba\n",
      "Word found\n"
     ]
    }
   ],
   "source": [
    "text = input()\n",
    "word = input()\n",
    "\n",
    "def search(text, word):\n",
    "    if word in text:\n",
    "        print(\"Word found\")\n",
    "    else:\n",
    "        print(\"Word not found\")\n",
    "        \n",
    "search(text, word)"
   ]
  },
  {
   "cell_type": "code",
   "execution_count": null,
   "id": "ed341742",
   "metadata": {},
   "outputs": [],
   "source": []
  },
  {
   "cell_type": "code",
   "execution_count": null,
   "id": "e84c9a6c",
   "metadata": {},
   "outputs": [],
   "source": []
  },
  {
   "cell_type": "code",
   "execution_count": null,
   "id": "6e3e715d",
   "metadata": {},
   "outputs": [],
   "source": []
  },
  {
   "cell_type": "code",
   "execution_count": null,
   "id": "ed71c6d3",
   "metadata": {},
   "outputs": [],
   "source": []
  },
  {
   "cell_type": "code",
   "execution_count": null,
   "id": "d7c6d511",
   "metadata": {},
   "outputs": [],
   "source": []
  },
  {
   "cell_type": "code",
   "execution_count": null,
   "id": "659b5cb4",
   "metadata": {},
   "outputs": [],
   "source": []
  },
  {
   "cell_type": "code",
   "execution_count": null,
   "id": "532b693b",
   "metadata": {},
   "outputs": [],
   "source": []
  },
  {
   "cell_type": "code",
   "execution_count": null,
   "id": "7d12f7fa",
   "metadata": {},
   "outputs": [],
   "source": []
  }
 ],
 "metadata": {
  "kernelspec": {
   "display_name": "Python 3 (ipykernel)",
   "language": "python",
   "name": "python3"
  },
  "language_info": {
   "codemirror_mode": {
    "name": "ipython",
    "version": 3
   },
   "file_extension": ".py",
   "mimetype": "text/x-python",
   "name": "python",
   "nbconvert_exporter": "python",
   "pygments_lexer": "ipython3",
   "version": "3.9.7"
  }
 },
 "nbformat": 4,
 "nbformat_minor": 5
}
