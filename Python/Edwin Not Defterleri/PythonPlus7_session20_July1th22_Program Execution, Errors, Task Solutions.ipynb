{
 "cells": [
  {
   "cell_type": "markdown",
   "id": "406f2981",
   "metadata": {},
   "source": [
    "<img src=\"https://docs.google.com/uc?id=14xeXxFrVRjvOoUYWn_GuyE-v84wVzrqr\" class=\"img-fluid\" alt=\"CLRWY\" width=\"400\" height=\"200\">"
   ]
  },
  {
   "cell_type": "markdown",
   "id": "22263af8",
   "metadata": {},
   "source": [
    "<h1><p style=\"text-align: center; color:darkblue\">Python In-Class <br>01 July 2022</p><h1>"
   ]
  },
  {
   "cell_type": "code",
   "execution_count": 1,
   "id": "d895197c",
   "metadata": {},
   "outputs": [],
   "source": [
    "import string as stg"
   ]
  },
  {
   "cell_type": "code",
   "execution_count": 2,
   "id": "4531fec1",
   "metadata": {},
   "outputs": [
    {
     "name": "stdout",
     "output_type": "stream",
     "text": [
      "!\"#$%&'()*+,-./:;<=>?@[\\]^_`{|}~\n"
     ]
    }
   ],
   "source": [
    "print(stg.punctuation)"
   ]
  },
  {
   "cell_type": "code",
   "execution_count": 3,
   "id": "59714e46",
   "metadata": {},
   "outputs": [
    {
     "data": {
      "text/plain": [
       "'0123456789'"
      ]
     },
     "execution_count": 3,
     "metadata": {},
     "output_type": "execute_result"
    }
   ],
   "source": [
    "stg.digits"
   ]
  },
  {
   "cell_type": "code",
   "execution_count": 4,
   "id": "5e72fcd5",
   "metadata": {},
   "outputs": [
    {
     "data": {
      "text/plain": [
       "['Formatter',\n",
       " 'Template',\n",
       " '_ChainMap',\n",
       " '__all__',\n",
       " '__builtins__',\n",
       " '__cached__',\n",
       " '__doc__',\n",
       " '__file__',\n",
       " '__loader__',\n",
       " '__name__',\n",
       " '__package__',\n",
       " '__spec__',\n",
       " '_re',\n",
       " '_sentinel_dict',\n",
       " '_string',\n",
       " 'ascii_letters',\n",
       " 'ascii_lowercase',\n",
       " 'ascii_uppercase',\n",
       " 'capwords',\n",
       " 'digits',\n",
       " 'hexdigits',\n",
       " 'octdigits',\n",
       " 'printable',\n",
       " 'punctuation',\n",
       " 'whitespace']"
      ]
     },
     "execution_count": 4,
     "metadata": {},
     "output_type": "execute_result"
    }
   ],
   "source": [
    "dir(stg)"
   ]
  },
  {
   "cell_type": "code",
   "execution_count": 5,
   "id": "ae2d767e",
   "metadata": {},
   "outputs": [],
   "source": [
    "import datetime"
   ]
  },
  {
   "cell_type": "code",
   "execution_count": 6,
   "id": "c638ce84",
   "metadata": {},
   "outputs": [
    {
     "name": "stdout",
     "output_type": "stream",
     "text": [
      "2022-07-01\n"
     ]
    }
   ],
   "source": [
    "print(datetime.date.today())"
   ]
  },
  {
   "cell_type": "code",
   "execution_count": 7,
   "id": "a7ea5ee8",
   "metadata": {},
   "outputs": [
    {
     "name": "stdout",
     "output_type": "stream",
     "text": [
      "2022-07-01 20:13:11.834340\n"
     ]
    }
   ],
   "source": [
    "print(datetime.datetime.now())"
   ]
  },
  {
   "cell_type": "code",
   "execution_count": 8,
   "id": "ca567c55",
   "metadata": {},
   "outputs": [],
   "source": [
    "from datetime import date"
   ]
  },
  {
   "cell_type": "code",
   "execution_count": 10,
   "id": "b71d9f57",
   "metadata": {},
   "outputs": [],
   "source": [
    "birth = date(571, 4, 22)"
   ]
  },
  {
   "cell_type": "code",
   "execution_count": 11,
   "id": "5a17133d",
   "metadata": {},
   "outputs": [],
   "source": [
    "death = date(632, 6, 8)"
   ]
  },
  {
   "cell_type": "code",
   "execution_count": 13,
   "id": "3171eef5",
   "metadata": {},
   "outputs": [
    {
     "data": {
      "text/plain": [
       "datetime.timedelta(days=22327)"
      ]
     },
     "execution_count": 13,
     "metadata": {},
     "output_type": "execute_result"
    }
   ],
   "source": [
    "death - birth"
   ]
  },
  {
   "cell_type": "code",
   "execution_count": 15,
   "id": "b1b408df",
   "metadata": {},
   "outputs": [],
   "source": [
    "life_day = date.toordinal(death) - date.toordinal(birth)"
   ]
  },
  {
   "cell_type": "code",
   "execution_count": 16,
   "id": "f56eeb23",
   "metadata": {},
   "outputs": [
    {
     "data": {
      "text/plain": [
       "22327"
      ]
     },
     "execution_count": 16,
     "metadata": {},
     "output_type": "execute_result"
    }
   ],
   "source": [
    "life_day"
   ]
  },
  {
   "cell_type": "code",
   "execution_count": 17,
   "id": "60703f58",
   "metadata": {},
   "outputs": [],
   "source": [
    "city = [\"stockholm\", \"istanbul\", \"seul\", \"cape town\"]"
   ]
  },
  {
   "cell_type": "code",
   "execution_count": 18,
   "id": "fde41959",
   "metadata": {},
   "outputs": [],
   "source": [
    "from random import choice"
   ]
  },
  {
   "cell_type": "code",
   "execution_count": 22,
   "id": "4a476197",
   "metadata": {},
   "outputs": [
    {
     "data": {
      "text/plain": [
       "'stockholm'"
      ]
     },
     "execution_count": 22,
     "metadata": {},
     "output_type": "execute_result"
    }
   ],
   "source": [
    "choice(city)"
   ]
  },
  {
   "cell_type": "code",
   "execution_count": 23,
   "id": "55ca9b5a",
   "metadata": {},
   "outputs": [
    {
     "name": "stdout",
     "output_type": "stream",
     "text": [
      "pip 22.0.4 from C:\\Users\\hüseyin\\AppData\\Local\\Programs\\Python\\Python39\\lib\\site-packages\\pip (python 3.9)\n",
      "\n",
      "Note: you may need to restart the kernel to use updated packages.\n"
     ]
    }
   ],
   "source": [
    "pip --version"
   ]
  },
  {
   "cell_type": "code",
   "execution_count": null,
   "id": "29a4787f",
   "metadata": {},
   "outputs": [],
   "source": [
    "pip install -upgrade pip"
   ]
  },
  {
   "cell_type": "code",
   "execution_count": 24,
   "id": "8c3c9f1a",
   "metadata": {},
   "outputs": [],
   "source": [
    "import numpy"
   ]
  },
  {
   "cell_type": "code",
   "execution_count": null,
   "id": "27930628",
   "metadata": {},
   "outputs": [],
   "source": [
    "!pip install numpy"
   ]
  },
  {
   "cell_type": "code",
   "execution_count": 25,
   "id": "ae520df3",
   "metadata": {},
   "outputs": [
    {
     "name": "stdout",
     "output_type": "stream",
     "text": [
      "Package                       Version\n",
      "----------------------------- ---------\n",
      "alabaster                     0.7.12\n",
      "argon2-cffi                   21.3.0\n",
      "argon2-cffi-bindings          21.2.0\n",
      "asttokens                     2.0.5\n",
      "attrs                         21.4.0\n",
      "Babel                         2.10.3\n",
      "backcall                      0.2.0\n",
      "beautifulsoup4                4.10.0\n",
      "bleach                        4.1.0\n",
      "certifi                       2022.6.15\n",
      "cffi                          1.15.0\n",
      "charset-normalizer            2.0.12\n",
      "colorama                      0.4.4\n",
      "cycler                        0.11.0\n",
      "debugpy                       1.6.0\n",
      "decorator                     5.1.1\n",
      "defusedxml                    0.7.1\n",
      "docutils                      0.18.1\n",
      "entrypoints                   0.4\n",
      "executing                     0.8.3\n",
      "fastjsonschema                2.15.3\n",
      "fonttools                     4.33.3\n",
      "idna                          3.3\n",
      "imagesize                     1.3.0\n",
      "importlib-metadata            4.12.0\n",
      "ipykernel                     6.12.1\n",
      "ipython                       8.2.0\n",
      "ipython-genutils              0.2.0\n",
      "ipywidgets                    7.7.0\n",
      "jedi                          0.18.1\n",
      "Jinja2                        3.1.1\n",
      "joblib                        1.1.0\n",
      "jsonschema                    4.4.0\n",
      "jupyter                       1.0.0\n",
      "jupyter-client                7.2.1\n",
      "jupyter-console               6.4.3\n",
      "jupyter-core                  4.9.2\n",
      "jupyterlab-pygments           0.1.2\n",
      "jupyterlab-widgets            1.1.0\n",
      "kaggle                        1.5.12\n",
      "kiwisolver                    1.4.2\n",
      "MarkupSafe                    2.1.1\n",
      "matplotlib                    3.5.2\n",
      "matplotlib-inline             0.1.3\n",
      "mistune                       0.8.4\n",
      "nbclient                      0.5.13\n",
      "nbconvert                     6.4.5\n",
      "nbformat                      5.3.0\n",
      "nest-asyncio                  1.5.5\n",
      "notebook                      6.4.10\n",
      "numpy                         1.22.3\n",
      "packaging                     21.3\n",
      "pandas                        1.4.2\n",
      "pandocfilters                 1.5.0\n",
      "parso                         0.8.3\n",
      "pickleshare                   0.7.5\n",
      "Pillow                        9.1.0\n",
      "pip                           22.0.4\n",
      "plotly                        5.8.0\n",
      "prometheus-client             0.14.0\n",
      "prompt-toolkit                3.0.29\n",
      "psutil                        5.9.0\n",
      "pure-eval                     0.2.2\n",
      "pycparser                     2.21\n",
      "Pygments                      2.11.2\n",
      "pyparsing                     3.0.7\n",
      "pyrsistent                    0.18.1\n",
      "python-dateutil               2.8.2\n",
      "python-slugify                6.1.2\n",
      "pytz                          2022.1\n",
      "pywin32                       303\n",
      "pywinpty                      2.0.5\n",
      "pyzmq                         22.3.0\n",
      "qtconsole                     5.3.0\n",
      "QtPy                          2.0.1\n",
      "requests                      2.28.0\n",
      "scikit-learn                  1.0.2\n",
      "scipy                         1.8.0\n",
      "seaborn                       0.11.2\n",
      "Send2Trash                    1.8.0\n",
      "setuptools                    58.1.0\n",
      "six                           1.16.0\n",
      "sklearn                       0.0\n",
      "snowballstemmer               2.2.0\n",
      "soupsieve                     2.3.1\n",
      "Sphinx                        5.0.2\n",
      "sphinxcontrib-applehelp       1.0.2\n",
      "sphinxcontrib-devhelp         1.0.2\n",
      "sphinxcontrib-htmlhelp        2.0.0\n",
      "sphinxcontrib-jsmath          1.0.1\n",
      "sphinxcontrib-qthelp          1.0.3\n",
      "sphinxcontrib-serializinghtml 1.1.5\n",
      "stack-data                    0.2.0\n",
      "tenacity                      8.0.1\n",
      "terminado                     0.13.3\n",
      "testpath                      0.6.0\n",
      "text-unidecode                1.3\n",
      "threadpoolctl                 3.1.0\n",
      "tornado                       6.1\n",
      "tqdm                          4.64.0\n",
      "traitlets                     5.1.1\n",
      "urllib3                       1.26.9\n",
      "wcwidth                       0.2.5\n",
      "webencodings                  0.5.1\n",
      "wheel                         0.37.1\n",
      "widgetsnbextension            3.6.0\n",
      "zipp                          3.8.0\n"
     ]
    },
    {
     "name": "stderr",
     "output_type": "stream",
     "text": [
      "WARNING: You are using pip version 22.0.4; however, version 22.1.2 is available.\n",
      "You should consider upgrading via the 'C:\\Users\\hüseyin\\AppData\\Local\\Programs\\Python\\Python39\\python.exe -m pip install --upgrade pip' command.\n"
     ]
    }
   ],
   "source": [
    "!pip list"
   ]
  },
  {
   "cell_type": "code",
   "execution_count": 26,
   "id": "a780c8dc",
   "metadata": {},
   "outputs": [
    {
     "name": "stdout",
     "output_type": "stream",
     "text": [
      "Name: numpy\n",
      "Version: 1.22.3\n",
      "Summary: NumPy is the fundamental package for array computing with Python.\n",
      "Home-page: https://www.numpy.org\n",
      "Author: Travis E. Oliphant et al.\n",
      "Author-email: \n",
      "License: BSD\n",
      "Location: c:\\users\\hüseyin\\appdata\\local\\programs\\python\\python39\\lib\\site-packages\n",
      "Requires: \n",
      "Required-by: matplotlib, pandas, scikit-learn, scipy, seaborn\n",
      "Note: you may need to restart the kernel to use updated packages.\n"
     ]
    }
   ],
   "source": [
    "pip show numpy"
   ]
  },
  {
   "cell_type": "markdown",
   "id": "a316a153",
   "metadata": {},
   "source": [
    "### show me my way, please! <img src=\"https://www.robotsepeti.com/nao-insansi-robot-platformu-v6-egitmen-educator-versiyonu-insansi-robot-softbank-robotics-9282-48-B.png\" height = \"100\" width=\"300\" alt=\"Robot\">"
   ]
  },
  {
   "cell_type": "code",
   "execution_count": 27,
   "id": "21c8d094",
   "metadata": {},
   "outputs": [],
   "source": [
    "command = [\"right 20\", \"right 30\", \"left 50\", \"up 10\", \"down 20\"]"
   ]
  },
  {
   "cell_type": "code",
   "execution_count": 28,
   "id": "cf6fdc8a",
   "metadata": {},
   "outputs": [],
   "source": [
    "x = y = 0"
   ]
  },
  {
   "cell_type": "code",
   "execution_count": 29,
   "id": "9c18ec33",
   "metadata": {},
   "outputs": [
    {
     "data": {
      "text/plain": [
       "'down 20'"
      ]
     },
     "execution_count": 29,
     "metadata": {},
     "output_type": "execute_result"
    }
   ],
   "source": [
    "command[-1]"
   ]
  },
  {
   "cell_type": "code",
   "execution_count": 30,
   "id": "bf16c16d",
   "metadata": {},
   "outputs": [
    {
     "data": {
      "text/plain": [
       "['down', '20']"
      ]
     },
     "execution_count": 30,
     "metadata": {},
     "output_type": "execute_result"
    }
   ],
   "source": [
    "command[-1].split()"
   ]
  },
  {
   "cell_type": "code",
   "execution_count": 31,
   "id": "9fe04bb9",
   "metadata": {},
   "outputs": [
    {
     "data": {
      "text/plain": [
       "'down'"
      ]
     },
     "execution_count": 31,
     "metadata": {},
     "output_type": "execute_result"
    }
   ],
   "source": [
    "command[-1].split()[0]"
   ]
  },
  {
   "cell_type": "code",
   "execution_count": 32,
   "id": "730c6848",
   "metadata": {},
   "outputs": [
    {
     "data": {
      "text/plain": [
       "'20'"
      ]
     },
     "execution_count": 32,
     "metadata": {},
     "output_type": "execute_result"
    }
   ],
   "source": [
    "command[-1].split()[1]"
   ]
  },
  {
   "cell_type": "code",
   "execution_count": 33,
   "id": "23274efb",
   "metadata": {},
   "outputs": [
    {
     "data": {
      "text/plain": [
       "['right 20', 'right 30', 'left 50', 'up 10', 'down 20']"
      ]
     },
     "execution_count": 33,
     "metadata": {},
     "output_type": "execute_result"
    }
   ],
   "source": [
    "command"
   ]
  },
  {
   "cell_type": "code",
   "execution_count": 34,
   "id": "03ccf527",
   "metadata": {},
   "outputs": [
    {
     "data": {
      "text/plain": [
       "[0, 1, 2, 3, 4]"
      ]
     },
     "execution_count": 34,
     "metadata": {},
     "output_type": "execute_result"
    }
   ],
   "source": [
    "list(range(len(command)))"
   ]
  },
  {
   "cell_type": "code",
   "execution_count": 36,
   "id": "7ec92396",
   "metadata": {},
   "outputs": [
    {
     "data": {
      "text/plain": [
       "[0, -10]"
      ]
     },
     "execution_count": 36,
     "metadata": {},
     "output_type": "execute_result"
    }
   ],
   "source": [
    "for i in range(len(command)) :\n",
    "    if command[i].startswith(\"r\") : x = x + int(command[i].split()[1])\n",
    "    elif command[i].startswith(\"l\") : x = x - int(command[i].split()[1])\n",
    "    elif command[i].startswith(\"u\") : y = y + int(command[i].split()[1])\n",
    "    elif command[i].startswith(\"d\") : y = y - int(command[i].split()[1])\n",
    "[x, y]       "
   ]
  },
  {
   "cell_type": "markdown",
   "id": "ff4a0127",
   "metadata": {},
   "source": [
    "# valid paranthesis"
   ]
  },
  {
   "cell_type": "markdown",
   "id": "a760e960",
   "metadata": {},
   "source": [
    "```\n",
    "Input        Output\n",
    "--------:    ------:\n",
    "\"()\"         True\n",
    "\"()[]{}\"     True\n",
    "\"(]\"         False\n",
    "\"([)]\"       False\n",
    "\"{[]}\"       True\n",
    "\"\"           True\n",
    "```"
   ]
  },
  {
   "cell_type": "code",
   "execution_count": 55,
   "id": "16adb88d",
   "metadata": {},
   "outputs": [],
   "source": [
    "s = \"[([({})})({})]\""
   ]
  },
  {
   "cell_type": "code",
   "execution_count": 37,
   "id": "db0a35b4",
   "metadata": {},
   "outputs": [
    {
     "data": {
      "text/plain": [
       "'ali+deli+veli'"
      ]
     },
     "execution_count": 37,
     "metadata": {},
     "output_type": "execute_result"
    }
   ],
   "source": [
    "\"ali-deli-veli\".replace(\"-\", \"+\")"
   ]
  },
  {
   "cell_type": "code",
   "execution_count": 41,
   "id": "991a6748",
   "metadata": {},
   "outputs": [
    {
     "data": {
      "text/plain": [
       "'alideliveli'"
      ]
     },
     "execution_count": 41,
     "metadata": {},
     "output_type": "execute_result"
    }
   ],
   "source": [
    "\"ali-deli-veli\".replace(\"-\", \"\")"
   ]
  },
  {
   "cell_type": "code",
   "execution_count": 42,
   "id": "b1531865",
   "metadata": {},
   "outputs": [
    {
     "data": {
      "text/plain": [
       "'ldelvel'"
      ]
     },
     "execution_count": 42,
     "metadata": {},
     "output_type": "execute_result"
    }
   ],
   "source": [
    "\"ali-deli-veli\".replace(\"-\", \"\").replace(\"a\", \"\").replace(\"i\", \"\")"
   ]
  },
  {
   "cell_type": "code",
   "execution_count": 43,
   "id": "d934fad4",
   "metadata": {},
   "outputs": [
    {
     "data": {
      "text/plain": [
       "'alideliveli'"
      ]
     },
     "execution_count": 43,
     "metadata": {},
     "output_type": "execute_result"
    }
   ],
   "source": [
    "orjinal_str = \"ali-deli-veli\"\n",
    "\n",
    "değişmiş_str = orjinal_str.replace(\"-\", \"\")\n",
    "\n",
    "değişmiş_str"
   ]
  },
  {
   "cell_type": "code",
   "execution_count": 44,
   "id": "7d0d3686",
   "metadata": {},
   "outputs": [
    {
     "data": {
      "text/plain": [
       "'ali-deli-veli'"
      ]
     },
     "execution_count": 44,
     "metadata": {},
     "output_type": "execute_result"
    }
   ],
   "source": [
    "orjinal_str"
   ]
  },
  {
   "cell_type": "code",
   "execution_count": 45,
   "id": "1f28888d",
   "metadata": {},
   "outputs": [],
   "source": [
    "orjinal_str = orjinal_str.replace(\"-\", \"\")"
   ]
  },
  {
   "cell_type": "code",
   "execution_count": 46,
   "id": "fdd1f495",
   "metadata": {},
   "outputs": [
    {
     "data": {
      "text/plain": [
       "'alideliveli'"
      ]
     },
     "execution_count": 46,
     "metadata": {},
     "output_type": "execute_result"
    }
   ],
   "source": [
    "orjinal_str"
   ]
  },
  {
   "cell_type": "code",
   "execution_count": 53,
   "id": "cb7fb0ae",
   "metadata": {},
   "outputs": [],
   "source": [
    "def isValid(s) :\n",
    "    while \"()\" in s or \"[]\" in s or \"{}\" in s:\n",
    "        s = s.replace(\"()\", \"\").replace(\"[]\", \"\").replace(\"{}\", \"\")\n",
    "    return s == \"\""
   ]
  },
  {
   "cell_type": "code",
   "execution_count": 49,
   "id": "f17b6392",
   "metadata": {},
   "outputs": [
    {
     "data": {
      "text/plain": [
       "False"
      ]
     },
     "execution_count": 49,
     "metadata": {},
     "output_type": "execute_result"
    }
   ],
   "source": [
    "\"()\" in s"
   ]
  },
  {
   "cell_type": "code",
   "execution_count": 50,
   "id": "466f9790",
   "metadata": {},
   "outputs": [
    {
     "data": {
      "text/plain": [
       "False"
      ]
     },
     "execution_count": 50,
     "metadata": {},
     "output_type": "execute_result"
    }
   ],
   "source": [
    "\"[]\" in s"
   ]
  },
  {
   "cell_type": "code",
   "execution_count": 51,
   "id": "919bbeb5",
   "metadata": {},
   "outputs": [
    {
     "data": {
      "text/plain": [
       "True"
      ]
     },
     "execution_count": 51,
     "metadata": {},
     "output_type": "execute_result"
    }
   ],
   "source": [
    "\"{}\" in s"
   ]
  },
  {
   "cell_type": "code",
   "execution_count": 52,
   "id": "c2d5b0ae",
   "metadata": {},
   "outputs": [
    {
     "data": {
      "text/plain": [
       "'ali'"
      ]
     },
     "execution_count": 52,
     "metadata": {},
     "output_type": "execute_result"
    }
   ],
   "source": [
    "\"ali\".replace(\"b\", \"\")"
   ]
  },
  {
   "cell_type": "code",
   "execution_count": 56,
   "id": "64f8e590",
   "metadata": {},
   "outputs": [
    {
     "data": {
      "text/plain": [
       "False"
      ]
     },
     "execution_count": 56,
     "metadata": {},
     "output_type": "execute_result"
    }
   ],
   "source": [
    "isValid(s)"
   ]
  },
  {
   "cell_type": "markdown",
   "id": "c73c733d",
   "metadata": {},
   "source": [
    "# Building a Calculator using dict with lambda Expression"
   ]
  },
  {
   "cell_type": "code",
   "execution_count": null,
   "id": "2f0cf97e",
   "metadata": {},
   "outputs": [],
   "source": [
    "calculator[\"+\"](4, 5) --> "
   ]
  },
  {
   "cell_type": "code",
   "execution_count": 67,
   "id": "3efeafb5",
   "metadata": {},
   "outputs": [],
   "source": [
    "calculator = {\"+\" : (lambda x, y : x + y), \n",
    "              \"-\" : (lambda x, y : x - y),\n",
    "              \"*\" : (lambda x, y : x * y),\n",
    "              \"/\" : (lambda x, y : x / y)}"
   ]
  },
  {
   "cell_type": "code",
   "execution_count": 57,
   "id": "8019a0a8",
   "metadata": {},
   "outputs": [
    {
     "data": {
      "text/plain": [
       "9"
      ]
     },
     "execution_count": 57,
     "metadata": {},
     "output_type": "execute_result"
    }
   ],
   "source": [
    "(lambda x, y : x + y)(4,5)"
   ]
  },
  {
   "cell_type": "code",
   "execution_count": 64,
   "id": "5181b8bc",
   "metadata": {},
   "outputs": [],
   "source": [
    "sözlük = {\"bir\" : 44,\n",
    "         \"iki\" : [\"ali\", \"deli\", \"veli\"],\n",
    "         \"üç\" : lambda x, y : x+y}"
   ]
  },
  {
   "cell_type": "code",
   "execution_count": 61,
   "id": "1a458885",
   "metadata": {},
   "outputs": [
    {
     "data": {
      "text/plain": [
       "44"
      ]
     },
     "execution_count": 61,
     "metadata": {},
     "output_type": "execute_result"
    }
   ],
   "source": [
    "sözlük[\"bir\"]"
   ]
  },
  {
   "cell_type": "code",
   "execution_count": 63,
   "id": "87a23ecf",
   "metadata": {},
   "outputs": [
    {
     "data": {
      "text/plain": [
       "list"
      ]
     },
     "execution_count": 63,
     "metadata": {},
     "output_type": "execute_result"
    }
   ],
   "source": [
    "type(sözlük[\"iki\"])"
   ]
  },
  {
   "cell_type": "code",
   "execution_count": 66,
   "id": "cda96b62",
   "metadata": {},
   "outputs": [
    {
     "data": {
      "text/plain": [
       "9"
      ]
     },
     "execution_count": 66,
     "metadata": {},
     "output_type": "execute_result"
    }
   ],
   "source": [
    "sözlük[\"üç\"](4,5)"
   ]
  },
  {
   "cell_type": "code",
   "execution_count": 68,
   "id": "c0a5f8a5",
   "metadata": {},
   "outputs": [
    {
     "data": {
      "text/plain": [
       "<function __main__.<lambda>(x, y)>"
      ]
     },
     "execution_count": 68,
     "metadata": {},
     "output_type": "execute_result"
    }
   ],
   "source": [
    "calculator[\"/\"]"
   ]
  },
  {
   "cell_type": "code",
   "execution_count": 69,
   "id": "bc2108b5",
   "metadata": {},
   "outputs": [
    {
     "data": {
      "text/plain": [
       "3.0"
      ]
     },
     "execution_count": 69,
     "metadata": {},
     "output_type": "execute_result"
    }
   ],
   "source": [
    "calculator[\"/\"](12, 4)"
   ]
  },
  {
   "cell_type": "markdown",
   "id": "d6184403",
   "metadata": {},
   "source": [
    "# timeit"
   ]
  },
  {
   "cell_type": "code",
   "execution_count": 70,
   "id": "f9a1659a",
   "metadata": {},
   "outputs": [],
   "source": [
    "from timeit import timeit"
   ]
  },
  {
   "cell_type": "code",
   "execution_count": null,
   "id": "720e6238",
   "metadata": {},
   "outputs": [],
   "source": [
    "timeit()"
   ]
  },
  {
   "cell_type": "code",
   "execution_count": 71,
   "id": "cd2837f5",
   "metadata": {},
   "outputs": [],
   "source": [
    "def for_loop():\n",
    "    result = []\n",
    "    \n",
    "    for i in range(1000000):\n",
    "        result.append(i)\n",
    "    return result"
   ]
  },
  {
   "cell_type": "code",
   "execution_count": 72,
   "id": "e8100543",
   "metadata": {},
   "outputs": [],
   "source": [
    "def list_comp():\n",
    "    return [i for i in range(1000000)]"
   ]
  },
  {
   "cell_type": "code",
   "execution_count": 75,
   "id": "8266c1f0",
   "metadata": {},
   "outputs": [],
   "source": [
    "size = 100\n",
    "\n",
    "time_for = timeit(for_loop, number = size)\n",
    "\n",
    "time_list_comp = timeit(list_comp, number = size)"
   ]
  },
  {
   "cell_type": "code",
   "execution_count": 76,
   "id": "acb81fd6",
   "metadata": {},
   "outputs": [
    {
     "name": "stdout",
     "output_type": "stream",
     "text": [
      "List_Comp. is 1.48) times faster than for loops\n"
     ]
    }
   ],
   "source": [
    "print(f\"List_Comp. is {round(time_for / time_list_comp, 2)}) times faster than for loops\")"
   ]
  },
  {
   "cell_type": "code",
   "execution_count": null,
   "id": "8561a286",
   "metadata": {},
   "outputs": [],
   "source": []
  },
  {
   "cell_type": "code",
   "execution_count": null,
   "id": "9ad0feed",
   "metadata": {},
   "outputs": [],
   "source": []
  }
 ],
 "metadata": {
  "kernelspec": {
   "display_name": "Python 3 (ipykernel)",
   "language": "python",
   "name": "python3"
  },
  "language_info": {
   "codemirror_mode": {
    "name": "ipython",
    "version": 3
   },
   "file_extension": ".py",
   "mimetype": "text/x-python",
   "name": "python",
   "nbconvert_exporter": "python",
   "pygments_lexer": "ipython3",
   "version": "3.9.11"
  }
 },
 "nbformat": 4,
 "nbformat_minor": 5
}
