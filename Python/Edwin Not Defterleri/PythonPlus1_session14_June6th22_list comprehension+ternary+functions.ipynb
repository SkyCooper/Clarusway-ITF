{
 "cells": [
  {
   "cell_type": "markdown",
   "id": "c6ce4647",
   "metadata": {},
   "source": [
    "<img src=\"https://docs.google.com/uc?id=14xeXxFrVRjvOoUYWn_GuyE-v84wVzrqr\" class=\"img-fluid\" alt=\"CLRWY\" width=\"400\" height=\"200\">"
   ]
  },
  {
   "cell_type": "markdown",
   "id": "17517012",
   "metadata": {},
   "source": [
    "<h1><p style=\"text-align: center; color:darkblue\">Python In-Class <br>06 June 2022</p><h1>"
   ]
  },
  {
   "cell_type": "markdown",
   "id": "d2afe369",
   "metadata": {},
   "source": [
    "# Is it a Prime Number"
   ]
  },
  {
   "cell_type": "markdown",
   "id": "459a2971",
   "metadata": {},
   "source": [
    "<div class=\"alert alert-block alert-info\">\n",
    "<font color=red><b>Task :</b></font> \n",
    "<font color=purple><b>Write a program that takes a number from the user and prints the result to check if it is a<b/></font> \n",
    "<font color=blue><b>prime number</b>.</font>\n",
    "<br><br>\n",
    "The examples of the desired output are as follows :<br><br>\n",
    "input →  19 ⇉ output : 19 is a prime number<br>\n",
    "input →  10 ⇉ output : 10 is not a prime number<br><br><font color=red>Note that; this question is famous on the web, so do it yourself to get more benefits from it. By the way, do not use try - except block.</font>"
   ]
  },
  {
   "cell_type": "code",
   "execution_count": 8,
   "id": "324c5924",
   "metadata": {},
   "outputs": [
    {
     "name": "stdout",
     "output_type": "stream",
     "text": [
      "Enter a positive integer number to check if it is a Prime Number :97\n",
      "97  is a Prime Number.\n"
     ]
    }
   ],
   "source": [
    "n = int(input(\"Enter a positive integer number to check if it is a Prime Number :\"))\n",
    "counter = 0\n",
    "\n",
    "for i in range(1, n+1) :\n",
    "    if n % i == 0 :\n",
    "        counter += 1   # counter = counter +1\n",
    "        \n",
    "if (n == 0) or (n == 1) or (counter >=3) :\n",
    "    print(n, \" is NOT a Prime Number.\")\n",
    "\n",
    "else :\n",
    "    print(n, \" is a Prime Number.\")"
   ]
  },
  {
   "cell_type": "markdown",
   "id": "ec45d385",
   "metadata": {},
   "source": [
    "# Amstrong Number"
   ]
  },
  {
   "cell_type": "markdown",
   "id": "d642186a",
   "metadata": {},
   "source": [
    "<div class=\"alert alert-block alert-info\">\n",
    "<font color=red><b>Task :</b></font> \n",
    "<font color=purple><b>Find out if a given number is an \"Armstrong Number\".</b></font>\n",
    "\n",
    "<b>An n-digit number that is the sum of the nth powers of its digits is called an n-Armstrong number.</b><br>\n",
    "Examples :  \n",
    "371 = 33 + 73 + 13;  \n",
    "9474 = 94 + 44 + 74 + 44;  \n",
    "93084 = 95 + 35 + 05 + 85 + 45.  \n",
    "\n",
    "<font color=darkblue><b>Write a Python program that;</b><br></font>\n",
    "<font color=purple>1.takes a positive integer number from the user,<br>\n",
    "2.checks the entered number if it is Armstrong,<br>\n",
    "3.consider the negative, float and any entries other than numeric values then display a warning message to the user.</font><br><br><font color=red>Note that; this question is famous on the web, so do it yourself to get more benefits from it. By the way, do not use try - except block.</font>"
   ]
  },
  {
   "cell_type": "code",
   "execution_count": 9,
   "id": "60b9f690",
   "metadata": {},
   "outputs": [],
   "source": [
    "sayı = \"123\""
   ]
  },
  {
   "cell_type": "code",
   "execution_count": 10,
   "id": "b16bc1e7",
   "metadata": {},
   "outputs": [
    {
     "data": {
      "text/plain": [
       "True"
      ]
     },
     "execution_count": 10,
     "metadata": {},
     "output_type": "execute_result"
    }
   ],
   "source": [
    "sayı.isdigit()"
   ]
  },
  {
   "cell_type": "code",
   "execution_count": 11,
   "id": "2c9c6fc2",
   "metadata": {},
   "outputs": [
    {
     "data": {
      "text/plain": [
       "False"
      ]
     },
     "execution_count": 11,
     "metadata": {},
     "output_type": "execute_result"
    }
   ],
   "source": [
    "\"-123\".isdigit()"
   ]
  },
  {
   "cell_type": "code",
   "execution_count": null,
   "id": "2d8c7be1",
   "metadata": {},
   "outputs": [],
   "source": [
    "while True :\n",
    "    number = input(\"Enter a positive integer number :\")\n",
    "    digit = len(number)\n",
    "    summ = 0\n",
    "    \n",
    "    if not number.isdigit() :\n",
    "        print(number, \" is invalid. Please enter valid input :\")\n",
    "    \n",
    "    elif int(number) >= 0 :\n",
    "        for i in range(len(number)) :\n",
    "            summ = summ + int(number[i]) ** digit\n",
    "    \n",
    "        if summ == int(number) :\n",
    "            print(number, \" is an Amstrong Number\")\n",
    "            break\n",
    "        else :\n",
    "            print(number, \" is NOT an Amstrong Number\")\n",
    "            break\n",
    "            \n",
    "        "
   ]
  },
  {
   "cell_type": "markdown",
   "id": "4f4d991f",
   "metadata": {},
   "source": [
    "<div class=\"alert alert-block alert-info\"><h1><p style=\"text-align: center; color:purple\">- Python -<br><br>List Comprehension<br><br>Ternary operators<br><br>Create Generator with Tuple Comprehension</p><h1>"
   ]
  },
  {
   "cell_type": "markdown",
   "id": "0935c305",
   "metadata": {},
   "source": [
    "```python\n",
    "for variable in iterable :\n",
    "    expression\n",
    "    \n",
    "```"
   ]
  },
  {
   "cell_type": "markdown",
   "id": "5f6de1bf",
   "metadata": {},
   "source": [
    "```python\n",
    "[expression for item in iterable]\n",
    "\n",
    "```"
   ]
  },
  {
   "cell_type": "code",
   "execution_count": 14,
   "id": "820e567f",
   "metadata": {},
   "outputs": [
    {
     "name": "stdout",
     "output_type": "stream",
     "text": [
      "0\n",
      "1\n",
      "2\n",
      "3\n",
      "4\n"
     ]
    },
    {
     "data": {
      "text/plain": [
       "[0, 1, 2, 3, 4]"
      ]
     },
     "execution_count": 14,
     "metadata": {},
     "output_type": "execute_result"
    }
   ],
   "source": [
    "sayılar = []  # boş bir liste oluşturdum.\n",
    "\n",
    "for i in range(5) :\n",
    "    sayılar.append(i)  # her iterasyonda listeme bir eleman ekledim.\n",
    "    print(i)  # iterasyonlarda i'yi görmek için\n",
    "sayılar"
   ]
  },
  {
   "cell_type": "code",
   "execution_count": 16,
   "id": "5d445634",
   "metadata": {},
   "outputs": [
    {
     "data": {
      "text/plain": [
       "[0, 1, 2, 3, 4, 5, 6, 7, 8, 9]"
      ]
     },
     "execution_count": 16,
     "metadata": {},
     "output_type": "execute_result"
    }
   ],
   "source": [
    "[i for i in range(10)]"
   ]
  },
  {
   "cell_type": "code",
   "execution_count": 18,
   "id": "fdf61d0e",
   "metadata": {},
   "outputs": [
    {
     "data": {
      "text/plain": [
       "[0, 1, 4, 9, 16, 25, 36, 49, 64, 81]"
      ]
     },
     "execution_count": 18,
     "metadata": {},
     "output_type": "execute_result"
    }
   ],
   "source": [
    "[i ** 2  for i in range(10)]"
   ]
  },
  {
   "cell_type": "code",
   "execution_count": 19,
   "id": "5d9a3d84",
   "metadata": {},
   "outputs": [
    {
     "data": {
      "text/plain": [
       "[0, 1, 4, 9, 16, 25, 36, 49, 64, 81]"
      ]
     },
     "execution_count": 19,
     "metadata": {},
     "output_type": "execute_result"
    }
   ],
   "source": [
    "[i * i  for i in range(10)]"
   ]
  },
  {
   "cell_type": "code",
   "execution_count": 20,
   "id": "5ea82d3d",
   "metadata": {},
   "outputs": [
    {
     "data": {
      "text/plain": [
       "[0, 5, 10, 15, 20, 25, 30, 35, 40, 45]"
      ]
     },
     "execution_count": 20,
     "metadata": {},
     "output_type": "execute_result"
    }
   ],
   "source": [
    "[i * 5  for i in range(10)]"
   ]
  },
  {
   "cell_type": "markdown",
   "id": "d270d8f9",
   "metadata": {},
   "source": [
    "```python\n",
    "if condition :\n",
    "    execute_body1\n",
    "else :\n",
    "    execute_body2\n",
    "\n",
    "# ya da :\n",
    "\n",
    "execute_body1 if condition else execute_body2\n",
    "```"
   ]
  },
  {
   "cell_type": "code",
   "execution_count": 24,
   "id": "846c613d",
   "metadata": {},
   "outputs": [
    {
     "name": "stdout",
     "output_type": "stream",
     "text": [
      "a, b den büyüktür\n"
     ]
    }
   ],
   "source": [
    "a = 2\n",
    "b = 1\n",
    "\n",
    "if a > b :\n",
    "    print(\"a, b den büyüktür\")\n",
    "else :\n",
    "    print(\"b, a dan büyüktür\")"
   ]
  },
  {
   "cell_type": "code",
   "execution_count": 22,
   "id": "149c0d1e",
   "metadata": {},
   "outputs": [
    {
     "data": {
      "text/plain": [
       "'a, b den büyüktür'"
      ]
     },
     "execution_count": 22,
     "metadata": {},
     "output_type": "execute_result"
    }
   ],
   "source": [
    "\"a, b den büyüktür\""
   ]
  },
  {
   "cell_type": "code",
   "execution_count": 25,
   "id": "fcea780f",
   "metadata": {},
   "outputs": [
    {
     "data": {
      "text/plain": [
       "'a, b den büyüktür'"
      ]
     },
     "execution_count": 25,
     "metadata": {},
     "output_type": "execute_result"
    }
   ],
   "source": [
    "\"a, b den büyüktür\" if a > b else \"b, a dan büyüktür\""
   ]
  },
  {
   "cell_type": "code",
   "execution_count": 26,
   "id": "f6fe8d69",
   "metadata": {},
   "outputs": [
    {
     "data": {
      "text/plain": [
       "2"
      ]
     },
     "execution_count": 26,
     "metadata": {},
     "output_type": "execute_result"
    }
   ],
   "source": [
    "z = a if a > b else b\n",
    "z"
   ]
  },
  {
   "cell_type": "code",
   "execution_count": 27,
   "id": "5c8c8591",
   "metadata": {},
   "outputs": [
    {
     "data": {
      "text/plain": [
       "4"
      ]
     },
     "execution_count": 27,
     "metadata": {},
     "output_type": "execute_result"
    }
   ],
   "source": [
    "z = a ** 2 if a > b else a ** 3\n",
    "z"
   ]
  },
  {
   "cell_type": "code",
   "execution_count": 28,
   "id": "25e99efb",
   "metadata": {},
   "outputs": [],
   "source": [
    "c = 10"
   ]
  },
  {
   "cell_type": "code",
   "execution_count": 29,
   "id": "1bb7b1ca",
   "metadata": {},
   "outputs": [
    {
     "data": {
      "text/plain": [
       "43.30127018922193"
      ]
     },
     "execution_count": 29,
     "metadata": {},
     "output_type": "execute_result"
    }
   ],
   "source": [
    "açı = 60\n",
    "\n",
    "alan = ((3 ** (1/2) / 4) * c ** 2) if açı == 60 else \"bu bir eşkenar üçgen değildir\"\n",
    "alan"
   ]
  },
  {
   "cell_type": "code",
   "execution_count": null,
   "id": "63c19d88",
   "metadata": {},
   "outputs": [],
   "source": [
    "a = 2\n",
    "b = 1\n",
    "\n",
    "z = a if a < b else b "
   ]
  },
  {
   "cell_type": "code",
   "execution_count": 30,
   "id": "addb0b22",
   "metadata": {},
   "outputs": [
    {
     "data": {
      "text/plain": [
       "1"
      ]
     },
     "execution_count": 30,
     "metadata": {},
     "output_type": "execute_result"
    }
   ],
   "source": [
    "z = 3 + a if a < b else b \n",
    "z"
   ]
  },
  {
   "cell_type": "code",
   "execution_count": null,
   "id": "6967ae8b",
   "metadata": {},
   "outputs": [],
   "source": [
    "z = 3 + (a if a < b else b) \n",
    "z"
   ]
  },
  {
   "cell_type": "code",
   "execution_count": 31,
   "id": "f7c03cee",
   "metadata": {},
   "outputs": [],
   "source": [
    "my_list = [1, 2, 3, 4, 5, 6]"
   ]
  },
  {
   "cell_type": "code",
   "execution_count": 32,
   "id": "fc5cf7d0",
   "metadata": {},
   "outputs": [
    {
     "name": "stdout",
     "output_type": "stream",
     "text": [
      "[1, 9, 25]\n"
     ]
    }
   ],
   "source": [
    "new_list = []\n",
    "\n",
    "for i in my_list :\n",
    "    if i % 2 :\n",
    "        new_list.append(i ** 2)\n",
    "print(new_list)\n",
    "        "
   ]
  },
  {
   "cell_type": "code",
   "execution_count": null,
   "id": "23ea01e4",
   "metadata": {},
   "outputs": [],
   "source": [
    "[]"
   ]
  },
  {
   "cell_type": "code",
   "execution_count": 33,
   "id": "bf1945d3",
   "metadata": {},
   "outputs": [
    {
     "data": {
      "text/plain": [
       "[1, 4, 9, 16, 25, 36]"
      ]
     },
     "execution_count": 33,
     "metadata": {},
     "output_type": "execute_result"
    }
   ],
   "source": [
    "[i ** 2 for i in my_list]"
   ]
  },
  {
   "cell_type": "code",
   "execution_count": 34,
   "id": "4e3cb397",
   "metadata": {},
   "outputs": [
    {
     "data": {
      "text/plain": [
       "[1, 9, 25]"
      ]
     },
     "execution_count": 34,
     "metadata": {},
     "output_type": "execute_result"
    }
   ],
   "source": [
    "[i ** 2 for i in my_list if i % 2]"
   ]
  },
  {
   "cell_type": "code",
   "execution_count": null,
   "id": "8fee4df8",
   "metadata": {},
   "outputs": [],
   "source": []
  },
  {
   "cell_type": "code",
   "execution_count": 35,
   "id": "55d46c56",
   "metadata": {},
   "outputs": [
    {
     "ename": "TypeError",
     "evalue": "max expected at least 1 argument, got 0",
     "output_type": "error",
     "traceback": [
      "\u001b[1;31m---------------------------------------------------------------------------\u001b[0m",
      "\u001b[1;31mTypeError\u001b[0m                                 Traceback (most recent call last)",
      "Input \u001b[1;32mIn [35]\u001b[0m, in \u001b[0;36m<cell line: 1>\u001b[1;34m()\u001b[0m\n\u001b[1;32m----> 1\u001b[0m \u001b[38;5;28;43mmax\u001b[39;49m\u001b[43m(\u001b[49m\u001b[43m)\u001b[49m\n",
      "\u001b[1;31mTypeError\u001b[0m: max expected at least 1 argument, got 0"
     ]
    }
   ],
   "source": [
    "max()"
   ]
  },
  {
   "cell_type": "code",
   "execution_count": 38,
   "id": "57c66a40",
   "metadata": {},
   "outputs": [
    {
     "name": "stdout",
     "output_type": "stream",
     "text": [
      "1\n",
      "\n",
      "1\n"
     ]
    }
   ],
   "source": [
    "print(1)\n",
    "print()\n",
    "print(1)"
   ]
  },
  {
   "cell_type": "code",
   "execution_count": 39,
   "id": "23ca59dd",
   "metadata": {},
   "outputs": [
    {
     "name": "stdout",
     "output_type": "stream",
     "text": [
      "ali\n",
      "deli\n",
      "veli\n"
     ]
    }
   ],
   "source": [
    "print(\"ali\")\n",
    "print(\"deli\")\n",
    "print(\"veli\")"
   ]
  },
  {
   "cell_type": "code",
   "execution_count": 40,
   "id": "ed8b4adb",
   "metadata": {},
   "outputs": [
    {
     "name": "stdout",
     "output_type": "stream",
     "text": [
      "ali\n",
      "deli\n",
      "veli\n"
     ]
    }
   ],
   "source": [
    "print(\"ali\", end = \"\\n\")\n",
    "print(\"deli\", end = \"\\n\")\n",
    "print(\"veli\")"
   ]
  },
  {
   "cell_type": "code",
   "execution_count": 41,
   "id": "1de63a7e",
   "metadata": {},
   "outputs": [
    {
     "name": "stdout",
     "output_type": "stream",
     "text": [
      "ali  deli  veli\n"
     ]
    }
   ],
   "source": [
    "print(\"ali\", end = \"  \")\n",
    "print(\"deli\", end = \"  \")\n",
    "print(\"veli\")"
   ]
  },
  {
   "cell_type": "code",
   "execution_count": 42,
   "id": "154fd1e3",
   "metadata": {},
   "outputs": [
    {
     "name": "stdout",
     "output_type": "stream",
     "text": [
      "ali clarusway'i seviyor. deli de clarusway'i seviyor  veli hele clarusway'e bayılıyor."
     ]
    }
   ],
   "source": [
    "print(\"ali\", end = \" clarusway'i seviyor. \")\n",
    "print(\"deli\", end = \" de clarusway'i seviyor  \")\n",
    "print(\"veli\", end = \" hele clarusway'e bayılıyor.\")"
   ]
  },
  {
   "cell_type": "code",
   "execution_count": null,
   "id": "10b91551",
   "metadata": {},
   "outputs": [],
   "source": []
  }
 ],
 "metadata": {
  "kernelspec": {
   "display_name": "Python 3 (ipykernel)",
   "language": "python",
   "name": "python3"
  },
  "language_info": {
   "codemirror_mode": {
    "name": "ipython",
    "version": 3
   },
   "file_extension": ".py",
   "mimetype": "text/x-python",
   "name": "python",
   "nbconvert_exporter": "python",
   "pygments_lexer": "ipython3",
   "version": "3.9.7"
  }
 },
 "nbformat": 4,
 "nbformat_minor": 5
}
