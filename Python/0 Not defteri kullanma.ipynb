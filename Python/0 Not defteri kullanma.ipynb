{
 "cells": [
  {
   "cell_type": "code",
   "execution_count": null,
   "id": "1cbf4214",
   "metadata": {},
   "outputs": [],
   "source": [
    "# tek hashtag büyük ve kalın yazar\n",
    "\n",
    "## 2 tane hashtag\n",
    "### 3 tane hashtag\n",
    "#### 4 tane hashtag giderek daha küçük başlık yazar\n",
    "\n",
    "**kalın yazma 2 yıldız**\n",
    "\n",
    "*italik yazma tek yıldız*\n",
    "\n",
    "<font color='green'>renkli yazı yazmak için kullanma</font> \\\n",
    "<font color='red'>renkli yazı yazmak için kullanma</font> \\\n",
    "<font color='blue'>renkli yazı yazmak için kullanma</font> \\\n",
    "<font color='yellow'>renkli yazı yazmak için kullanma</font>\n",
    "\n",
    "  \n",
    "\n",
    "ctrl+enter run eder aynı satırda kalır\n",
    "\n",
    "shift+enter run eder alt satıra geçer"
   ]
  },
  {
   "cell_type": "markdown",
   "id": "64255f33",
   "metadata": {},
   "source": [
    "# tek hashtag büyük ve kalın yazar\n",
    "\n",
    "## 2 tane hashtag\n",
    "### 3 tane hashtag\n",
    "#### 4 tane hashtag giderek daha küçük başlık yazar\n",
    "\n",
    "**kalın yazma 2 yıldız**\n",
    "\n",
    "*italik yazma tek yıldız*\n",
    "\n",
    "<font color='green'>renkli yazı yazmak için kullanma</font> \\\n",
    "<font color='red'>renkli yazı yazmak için kullanma</font> \\\n",
    "<font color='blue'>renkli yazı yazmak için kullanma</font> \\\n",
    "<font color='yellow'>renkli yazı yazmak için kullanma</font>\n",
    "\n",
    "  \n",
    "\n",
    "ctrl+enter run eder aynı satırda kalır\n",
    "\n",
    "shift+enter run eder alt satıra geçer"
   ]
  }
 ],
 "metadata": {
  "kernelspec": {
   "display_name": "Python 3 (ipykernel)",
   "language": "python",
   "name": "python3"
  },
  "language_info": {
   "codemirror_mode": {
    "name": "ipython",
    "version": 3
   },
   "file_extension": ".py",
   "mimetype": "text/x-python",
   "name": "python",
   "nbconvert_exporter": "python",
   "pygments_lexer": "ipython3",
   "version": "3.9.7"
  }
 },
 "nbformat": 4,
 "nbformat_minor": 5
}
