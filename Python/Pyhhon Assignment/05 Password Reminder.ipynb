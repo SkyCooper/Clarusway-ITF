{
 "cells": [
  {
   "cell_type": "code",
   "execution_count": null,
   "id": "027293f0",
   "metadata": {},
   "outputs": [],
   "source": []
  },
  {
   "cell_type": "code",
   "execution_count": null,
   "id": "e88ce36b",
   "metadata": {},
   "outputs": [],
   "source": [
    "30 Mayıs 2022"
   ]
  },
  {
   "cell_type": "raw",
   "id": "34e63d1a",
   "metadata": {},
   "source": [
    "Task : Let's say; you left a message in the past that prints a password you need. To see the password you wrote, you need to enter your name and the program should recognize you.\n",
    "\n",
    "Write a program that;\n",
    "1-Takes the first name from the user and compares it to yours,\n",
    "2-Then if the name the user entered is the same as yours, print out such as : \"Hello, Joseph! The password is : W@12\",\n",
    "3-If the name the user entered is not the same as yours, print out such as : \"Hello, Amina! See you later.\""
   ]
  },
  {
   "cell_type": "code",
   "execution_count": 3,
   "id": "8af91000",
   "metadata": {},
   "outputs": [
    {
     "name": "stdout",
     "output_type": "stream",
     "text": [
      "Enter name : Cooper\n",
      "Hello, Cooper! The password is : W@12\n"
     ]
    }
   ],
   "source": [
    "name = \"Cooper\"\n",
    "in_name = input(\"Enter name : \")\n",
    "if name == in_name:\n",
    "    print(f\"Hello, {name}! The password is : W@12\")\n",
    "else:\n",
    "    print(f\"Hello, {in_name}! See you later\")"
   ]
  },
  {
   "cell_type": "code",
   "execution_count": null,
   "id": "9894adc3",
   "metadata": {},
   "outputs": [],
   "source": []
  },
  {
   "cell_type": "code",
   "execution_count": null,
   "id": "21d4dbb0",
   "metadata": {},
   "outputs": [],
   "source": []
  },
  {
   "cell_type": "code",
   "execution_count": null,
   "id": "5b748679",
   "metadata": {},
   "outputs": [],
   "source": []
  },
  {
   "cell_type": "code",
   "execution_count": null,
   "id": "ed664025",
   "metadata": {},
   "outputs": [],
   "source": []
  }
 ],
 "metadata": {
  "kernelspec": {
   "display_name": "Python 3 (ipykernel)",
   "language": "python",
   "name": "python3"
  },
  "language_info": {
   "codemirror_mode": {
    "name": "ipython",
    "version": 3
   },
   "file_extension": ".py",
   "mimetype": "text/x-python",
   "name": "python",
   "nbconvert_exporter": "python",
   "pygments_lexer": "ipython3",
   "version": "3.9.7"
  }
 },
 "nbformat": 4,
 "nbformat_minor": 5
}
