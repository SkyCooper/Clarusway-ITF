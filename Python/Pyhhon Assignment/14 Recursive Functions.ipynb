{
 "cells": [
  {
   "cell_type": "raw",
   "id": "4064f673",
   "metadata": {},
   "source": [
    "# Edwin Hoca Assignment Solutions Kanalından\n",
    "Recursive fonksiyon, içerisinde kendini çağıran fonksiyondur. bu fonksiyonları okumak ve hata ayıklamak zordur. \n",
    "Faktoriyel hesaplamasını önce normal yoldan sonra Recursive fonksiyon kullanarak çözümü yapılacak \n",
    "5! = 5x4x3x2x1 "
   ]
  },
  {
   "cell_type": "code",
   "execution_count": 1,
   "id": "ab183756",
   "metadata": {},
   "outputs": [
    {
     "name": "stdout",
     "output_type": "stream",
     "text": [
      "120\n"
     ]
    }
   ],
   "source": [
    "# for döngüsü ile yapma,\n",
    "\n",
    "sonuc = 1\n",
    "for i in range(1, 6):\n",
    "    sonuc *= i\n",
    "print(sonuc) "
   ]
  },
  {
   "cell_type": "code",
   "execution_count": 2,
   "id": "b620ec47",
   "metadata": {},
   "outputs": [],
   "source": [
    "# fonksiyon tanımlayarak yapma;\n",
    "\n",
    "def my_factorial(n):\n",
    "    \n",
    "    sonuc = 1\n",
    "    for i in range(1, 6):\n",
    "        sonuc *= i\n",
    "    if n == 0 or n == 1:\n",
    "        return 1\n",
    "    else:\n",
    "        return sonuc"
   ]
  },
  {
   "cell_type": "code",
   "execution_count": 3,
   "id": "43d67ec8",
   "metadata": {},
   "outputs": [
    {
     "data": {
      "text/plain": [
       "1"
      ]
     },
     "execution_count": 3,
     "metadata": {},
     "output_type": "execute_result"
    }
   ],
   "source": [
    "my_factorial(0)"
   ]
  },
  {
   "cell_type": "code",
   "execution_count": 4,
   "id": "e0531a68",
   "metadata": {},
   "outputs": [
    {
     "data": {
      "text/plain": [
       "120"
      ]
     },
     "execution_count": 4,
     "metadata": {},
     "output_type": "execute_result"
    }
   ],
   "source": [
    "my_factorial(5)"
   ]
  },
  {
   "cell_type": "raw",
   "id": "91a6616b",
   "metadata": {},
   "source": [
    "# Recursive fonksiyon ile yapılması; sonsuz döngüye girmemesi için şart koyulur. \n",
    "\n",
    "Recursive fonksiyonlar iki kısımdan oluşur.\n",
    "\n",
    "1 - ) Base Case(Temel Durumlar/Şartlar)\n",
    "\n",
    "Base Case daima fonksiyonumuzun başlangıcında yazılan ve fonksiyonumuzun sınırlarını belirleyen kısımdır. Base Case kısmında fonksiyonumuz tekrardan çağırılmaz, sabit bir değer geri döndürür. Bu sayede fonksiyonumuzu sınırlandırmış oluruz. Kısaca açıklamak gerekirse; Base Case yukarıda aldığımız Runtime hatasını engelleyen ve fonksiyonun bir döngü gibi çalışmasını sağlayan kısımdır.\n",
    "\n",
    "2 - ) Recursive Case(Yinelenen Durum)\n",
    "\n",
    "Bu kısmı döngümüzün içerisinde çalışan kodlar olarak düşünebiliriz. Yani sürekli bir değeri geri döndüren ve fonksiyonumuzu tekrar tekrar çağıracak olan kısım burasıdır.\n"
   ]
  },
  {
   "cell_type": "code",
   "execution_count": 8,
   "id": "12325d36",
   "metadata": {},
   "outputs": [],
   "source": [
    "def factorial(n):\n",
    "    if n == 0 or n == 1:   # burası base case\n",
    "        return 1\n",
    "    else:\n",
    "        return n * factorial(n-1)            # burası recursive case\n",
    "    \n",
    "# yani 5! = 5*4!, 4! = 4*3! olduğundan"
   ]
  },
  {
   "cell_type": "code",
   "execution_count": 6,
   "id": "4e973b1a",
   "metadata": {},
   "outputs": [
    {
     "data": {
      "text/plain": [
       "1"
      ]
     },
     "execution_count": 6,
     "metadata": {},
     "output_type": "execute_result"
    }
   ],
   "source": [
    "factorial(0)"
   ]
  },
  {
   "cell_type": "code",
   "execution_count": 7,
   "id": "70c68b8e",
   "metadata": {},
   "outputs": [
    {
     "data": {
      "text/plain": [
       "120"
      ]
     },
     "execution_count": 7,
     "metadata": {},
     "output_type": "execute_result"
    }
   ],
   "source": [
    "factorial(5)"
   ]
  },
  {
   "cell_type": "code",
   "execution_count": null,
   "id": "d84aa5da",
   "metadata": {},
   "outputs": [],
   "source": []
  },
  {
   "cell_type": "code",
   "execution_count": null,
   "id": "6d9e8363",
   "metadata": {},
   "outputs": [],
   "source": []
  },
  {
   "cell_type": "code",
   "execution_count": null,
   "id": "1e1d927c",
   "metadata": {},
   "outputs": [],
   "source": []
  },
  {
   "cell_type": "code",
   "execution_count": null,
   "id": "f6532ed8",
   "metadata": {},
   "outputs": [],
   "source": []
  },
  {
   "cell_type": "code",
   "execution_count": null,
   "id": "fdf2e2a7",
   "metadata": {},
   "outputs": [],
   "source": []
  },
  {
   "cell_type": "code",
   "execution_count": null,
   "id": "18ed7089",
   "metadata": {},
   "outputs": [],
   "source": []
  },
  {
   "cell_type": "code",
   "execution_count": null,
   "id": "41bc208c",
   "metadata": {},
   "outputs": [],
   "source": []
  },
  {
   "cell_type": "code",
   "execution_count": null,
   "id": "b471b40e",
   "metadata": {},
   "outputs": [],
   "source": []
  },
  {
   "cell_type": "code",
   "execution_count": null,
   "id": "b4a87c3c",
   "metadata": {},
   "outputs": [],
   "source": []
  },
  {
   "cell_type": "code",
   "execution_count": null,
   "id": "ba47f39c",
   "metadata": {},
   "outputs": [],
   "source": []
  }
 ],
 "metadata": {
  "kernelspec": {
   "display_name": "Python 3 (ipykernel)",
   "language": "python",
   "name": "python3"
  },
  "language_info": {
   "codemirror_mode": {
    "name": "ipython",
    "version": 3
   },
   "file_extension": ".py",
   "mimetype": "text/x-python",
   "name": "python",
   "nbconvert_exporter": "python",
   "pygments_lexer": "ipython3",
   "version": "3.9.7"
  }
 },
 "nbformat": 4,
 "nbformat_minor": 5
}
