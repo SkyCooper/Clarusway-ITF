{
 "cells": [
  {
   "cell_type": "code",
   "execution_count": null,
   "id": "0021bb4c",
   "metadata": {},
   "outputs": [],
   "source": [
    "right = ['y', 'u', 'i', 'o', 'p', 'h', 'j','k', 'l', 'n', 'm']\n",
    "left = ['q', 'w', 'e', 'r', 't', 'a', 's', 'd', 'f', 'g', 'z', 'x', 'c', 'v', 'b']"
   ]
  },
  {
   "cell_type": "markdown",
   "id": "f16a90bf",
   "metadata": {},
   "source": [
    "https://www.w3schools.com/python/ref_set_isdisjoint.asp"
   ]
  },
  {
   "cell_type": "code",
   "execution_count": 106,
   "id": "96e79de4",
   "metadata": {},
   "outputs": [
    {
     "name": "stdout",
     "output_type": "stream",
     "text": [
      "pose\n",
      "is  a comfortable word ?\n",
      "True uses both hand fingers\n"
     ]
    }
   ],
   "source": [
    "left = ['q', 'w', 'e', 'r', 't', 'a', 's', 'd', 'f', 'g', 'z', 'x', 'c', 'v', 'b']\n",
    "right = {'y', 'u', 'i', 'o', 'p', 'h', 'j','k', 'l', 'n', 'm'}\n",
    "word = set(input())        # yazılan kelimeyi ['t', 'e', 's', 'r'] gibi elemanlarına ayırır.\n",
    "print('is  a comfortable word ?')\n",
    "x = word.isdisjoint(left) # left harfleri burada yok demek,(kesişen küme yok )\n",
    "                          # gerçekten yoksa--> True ,    varsa --> False  \n",
    "y = word.isdisjoint(right)\n",
    "if x == False and y == False:             # girilen kelime harfleri left/right kümesinde yok mu?\n",
    "                                          # False, her iki kümede de var.\n",
    "    print(not x or not y, \"uses both hand fingers\")\n",
    "elif x == False:\n",
    "    print(x, \"uses only left-hand fingers\")\n",
    "else:\n",
    "    print(y, \"uses only right-hand fingers\")"
   ]
  },
  {
   "cell_type": "code",
   "execution_count": 1,
   "id": "1c61a95f",
   "metadata": {},
   "outputs": [
    {
     "name": "stdout",
     "output_type": "stream",
     "text": [
      "test\n"
     ]
    },
    {
     "data": {
      "text/plain": [
       "'test'"
      ]
     },
     "execution_count": 1,
     "metadata": {},
     "output_type": "execute_result"
    }
   ],
   "source": [
    "input()"
   ]
  },
  {
   "cell_type": "code",
   "execution_count": 2,
   "id": "3757a240",
   "metadata": {},
   "outputs": [
    {
     "data": {
      "text/plain": [
       "{'e', 'r', 's', 't'}"
      ]
     },
     "execution_count": 2,
     "metadata": {},
     "output_type": "execute_result"
    }
   ],
   "source": [
    "set(\"tester\")"
   ]
  },
  {
   "cell_type": "code",
   "execution_count": 197,
   "id": "56547015",
   "metadata": {},
   "outputs": [
    {
     "name": "stdout",
     "output_type": "stream",
     "text": [
      "clarusway\n"
     ]
    },
    {
     "data": {
      "text/plain": [
       "{'a', 'c', 'l', 'r', 's', 'u', 'w', 'y'}"
      ]
     },
     "execution_count": 197,
     "metadata": {},
     "output_type": "execute_result"
    }
   ],
   "source": [
    "set(input())"
   ]
  },
  {
   "cell_type": "code",
   "execution_count": 193,
   "id": "9501fbee",
   "metadata": {},
   "outputs": [
    {
     "data": {
      "text/plain": [
       "False"
      ]
     },
     "execution_count": 193,
     "metadata": {},
     "output_type": "execute_result"
    }
   ],
   "source": [
    "x"
   ]
  },
  {
   "cell_type": "code",
   "execution_count": 4,
   "id": "d5c193ca",
   "metadata": {},
   "outputs": [
    {
     "ename": "NameError",
     "evalue": "name 'a' is not defined",
     "output_type": "error",
     "traceback": [
      "\u001b[1;31m---------------------------------------------------------------------------\u001b[0m",
      "\u001b[1;31mNameError\u001b[0m                                 Traceback (most recent call last)",
      "\u001b[1;32m~\\AppData\\Local\\Temp/ipykernel_11124/2167009006.py\u001b[0m in \u001b[0;36m<module>\u001b[1;34m\u001b[0m\n\u001b[1;32m----> 1\u001b[1;33m \u001b[0ma\u001b[0m\u001b[1;33m\u001b[0m\u001b[1;33m\u001b[0m\u001b[0m\n\u001b[0m",
      "\u001b[1;31mNameError\u001b[0m: name 'a' is not defined"
     ]
    }
   ],
   "source": [
    "a"
   ]
  },
  {
   "cell_type": "code",
   "execution_count": null,
   "id": "d6254ae5",
   "metadata": {},
   "outputs": [],
   "source": [
    "right = ['y', 'u', 'i', 'o', 'p', 'h', 'j','k', 'l', 'n', 'm']\n",
    "left = ['q', 'w', 'e', 'r', 't', 'a', 's', 'd', 'f', 'g', 'z', 'x', 'c', 'v', 'b']"
   ]
  },
  {
   "cell_type": "code",
   "execution_count": 200,
   "id": "2a549435",
   "metadata": {},
   "outputs": [
    {
     "name": "stdout",
     "output_type": "stream",
     "text": [
      "clarusway\n",
      "is  a comfortable word ?\n",
      "True\n"
     ]
    }
   ],
   "source": [
    "#deneme -1\n",
    "left = ['q', 'w', 'e', 'r', 't', 'a', 's', 'd', 'f', 'g', 'z', 'x', 'c', 'v', 'b']\n",
    "right = {'y', 'u', 'i', 'o', 'p', 'h', 'j','k', 'l', 'n', 'm'}\n",
    "word = set(input())\n",
    "print('is  a comfortable word ?')\n",
    "x = word.isdisjoint(left) \n",
    "y = word.isdisjoint(right)\n",
    "if x == False and y == False:            \n",
    "    print(not x or not y)\n",
    "elif x == False:\n",
    "    print(x)\n",
    "else:\n",
    "    print(y)"
   ]
  },
  {
   "cell_type": "code",
   "execution_count": 3,
   "id": "db59da10",
   "metadata": {},
   "outputs": [
    {
     "name": "stdout",
     "output_type": "stream",
     "text": [
      "ppolews\n",
      "True, uses both hand fingers\n"
     ]
    }
   ],
   "source": [
    "# issubset ile çözüm-1\n",
    "right = {'y', 'u', 'i', 'o', 'p', 'h', 'j','k', 'l', 'n', 'm'}\n",
    "left = {'q', 'w', 'e', 'r', 't', 'a', 's', 'd', 'f', 'g', 'z', 'x', 'c', 'v', 'b'}\n",
    "word = set(input())\n",
    "if word.issubset(left):\n",
    "    print(\"False, uses only left-hand fingers\")\n",
    "elif word.issubset(right):\n",
    "    print(\"False, uses only right-hand fingers\")\n",
    "else:\n",
    "    print(\"True, uses both hand fingers\")"
   ]
  },
  {
   "cell_type": "code",
   "execution_count": 112,
   "id": "2fb8fb13",
   "metadata": {},
   "outputs": [
    {
     "data": {
      "text/plain": [
       "True"
      ]
     },
     "execution_count": 112,
     "metadata": {},
     "output_type": "execute_result"
    }
   ],
   "source": [
    "word.issubset(left)"
   ]
  },
  {
   "cell_type": "code",
   "execution_count": 9,
   "id": "446614b5",
   "metadata": {},
   "outputs": [
    {
     "name": "stdout",
     "output_type": "stream",
     "text": [
      "poıadafqafş\n",
      "True\n"
     ]
    }
   ],
   "source": [
    "# issubset ile çözüm-2\n",
    "left = set(\"qwertasdfgzxcvb\")\n",
    "right = set(\"yuophjkliğüşnmöç\")\n",
    "word = set(input())\n",
    "print(not word.issubset(left) and not word.issubset(right))"
   ]
  },
  {
   "cell_type": "code",
   "execution_count": 99,
   "id": "673b027a",
   "metadata": {},
   "outputs": [
    {
     "name": "stdout",
     "output_type": "stream",
     "text": [
      "False\n"
     ]
    }
   ],
   "source": [
    "print(word.issubset(left))"
   ]
  },
  {
   "cell_type": "code",
   "execution_count": 100,
   "id": "78d5ef85",
   "metadata": {},
   "outputs": [
    {
     "name": "stdout",
     "output_type": "stream",
     "text": [
      "False\n"
     ]
    }
   ],
   "source": [
    "print(word.issubset(right))"
   ]
  },
  {
   "cell_type": "code",
   "execution_count": 121,
   "id": "aa3bde9f",
   "metadata": {},
   "outputs": [
    {
     "name": "stdout",
     "output_type": "stream",
     "text": [
      "clarusway\n",
      "True, uses both hand fingers\n"
     ]
    }
   ],
   "source": [
    "# intersection ile çözümü\n",
    "right = {'y', 'u', 'i', 'o', 'p', 'h', 'j','k', 'l', 'n', 'm'}\n",
    "left = {'q', 'w', 'e', 'r', 't', 'a', 's', 'd', 'f', 'g', 'z', 'x', 'c', 'v', 'b'}\n",
    "word = set(input())\n",
    "if word.intersection(left) and word.intersection(right):\n",
    "     print(\"True, uses both hand fingers\")\n",
    "elif word.intersection(right):\n",
    "    print(\"False, uses only right-hand fingers\")\n",
    "elif word.intersection(left):\n",
    "    print(\"False, uses only left-hand fingers\")"
   ]
  },
  {
   "cell_type": "code",
   "execution_count": 5,
   "id": "282dfc5b",
   "metadata": {},
   "outputs": [
    {
     "ename": "KeyboardInterrupt",
     "evalue": "Interrupted by user",
     "output_type": "error",
     "traceback": [
      "\u001b[1;31m---------------------------------------------------------------------------\u001b[0m",
      "\u001b[1;31mKeyboardInterrupt\u001b[0m                         Traceback (most recent call last)",
      "\u001b[1;32m~\\AppData\\Local\\Temp/ipykernel_19112/2305641136.py\u001b[0m in \u001b[0;36m<module>\u001b[1;34m\u001b[0m\n\u001b[0;32m      2\u001b[0m \u001b[0mleft\u001b[0m \u001b[1;33m=\u001b[0m \u001b[0mset\u001b[0m\u001b[1;33m(\u001b[0m\u001b[1;34m\"qwertasdfgzxcvb\"\u001b[0m\u001b[1;33m)\u001b[0m  \u001b[1;31m# harfler set ile yazılabilir.\u001b[0m\u001b[1;33m\u001b[0m\u001b[1;33m\u001b[0m\u001b[0m\n\u001b[0;32m      3\u001b[0m \u001b[0mright\u001b[0m \u001b[1;33m=\u001b[0m \u001b[0mset\u001b[0m\u001b[1;33m(\u001b[0m\u001b[1;34m\"yuophjkliğüşnmöç\"\u001b[0m\u001b[1;33m)\u001b[0m\u001b[1;33m\u001b[0m\u001b[1;33m\u001b[0m\u001b[0m\n\u001b[1;32m----> 4\u001b[1;33m \u001b[0mword\u001b[0m \u001b[1;33m=\u001b[0m \u001b[0mset\u001b[0m\u001b[1;33m(\u001b[0m\u001b[0minput\u001b[0m\u001b[1;33m(\u001b[0m\u001b[1;33m)\u001b[0m\u001b[1;33m)\u001b[0m\u001b[1;33m\u001b[0m\u001b[1;33m\u001b[0m\u001b[0m\n\u001b[0m\u001b[0;32m      5\u001b[0m \u001b[1;32mif\u001b[0m \u001b[0mword\u001b[0m\u001b[1;33m.\u001b[0m\u001b[0mintersection\u001b[0m\u001b[1;33m(\u001b[0m\u001b[0mleft\u001b[0m\u001b[1;33m)\u001b[0m \u001b[1;32mand\u001b[0m \u001b[0mword\u001b[0m\u001b[1;33m.\u001b[0m\u001b[0mintersection\u001b[0m\u001b[1;33m(\u001b[0m\u001b[0mright\u001b[0m\u001b[1;33m)\u001b[0m\u001b[1;33m:\u001b[0m\u001b[1;33m\u001b[0m\u001b[1;33m\u001b[0m\u001b[0m\n\u001b[0;32m      6\u001b[0m      \u001b[0mprint\u001b[0m\u001b[1;33m(\u001b[0m\u001b[1;34m\"True, uses both hand fingers\"\u001b[0m\u001b[1;33m)\u001b[0m\u001b[1;33m\u001b[0m\u001b[1;33m\u001b[0m\u001b[0m\n",
      "\u001b[1;32m~\\anaconda3\\lib\\site-packages\\ipykernel\\kernelbase.py\u001b[0m in \u001b[0;36mraw_input\u001b[1;34m(self, prompt)\u001b[0m\n\u001b[0;32m   1004\u001b[0m                 \u001b[1;34m\"raw_input was called, but this frontend does not support input requests.\"\u001b[0m\u001b[1;33m\u001b[0m\u001b[1;33m\u001b[0m\u001b[0m\n\u001b[0;32m   1005\u001b[0m             )\n\u001b[1;32m-> 1006\u001b[1;33m         return self._input_request(\n\u001b[0m\u001b[0;32m   1007\u001b[0m             \u001b[0mstr\u001b[0m\u001b[1;33m(\u001b[0m\u001b[0mprompt\u001b[0m\u001b[1;33m)\u001b[0m\u001b[1;33m,\u001b[0m\u001b[1;33m\u001b[0m\u001b[1;33m\u001b[0m\u001b[0m\n\u001b[0;32m   1008\u001b[0m             \u001b[0mself\u001b[0m\u001b[1;33m.\u001b[0m\u001b[0m_parent_ident\u001b[0m\u001b[1;33m[\u001b[0m\u001b[1;34m\"shell\"\u001b[0m\u001b[1;33m]\u001b[0m\u001b[1;33m,\u001b[0m\u001b[1;33m\u001b[0m\u001b[1;33m\u001b[0m\u001b[0m\n",
      "\u001b[1;32m~\\anaconda3\\lib\\site-packages\\ipykernel\\kernelbase.py\u001b[0m in \u001b[0;36m_input_request\u001b[1;34m(self, prompt, ident, parent, password)\u001b[0m\n\u001b[0;32m   1049\u001b[0m             \u001b[1;32mexcept\u001b[0m \u001b[0mKeyboardInterrupt\u001b[0m\u001b[1;33m:\u001b[0m\u001b[1;33m\u001b[0m\u001b[1;33m\u001b[0m\u001b[0m\n\u001b[0;32m   1050\u001b[0m                 \u001b[1;31m# re-raise KeyboardInterrupt, to truncate traceback\u001b[0m\u001b[1;33m\u001b[0m\u001b[1;33m\u001b[0m\u001b[0m\n\u001b[1;32m-> 1051\u001b[1;33m                 \u001b[1;32mraise\u001b[0m \u001b[0mKeyboardInterrupt\u001b[0m\u001b[1;33m(\u001b[0m\u001b[1;34m\"Interrupted by user\"\u001b[0m\u001b[1;33m)\u001b[0m \u001b[1;32mfrom\u001b[0m \u001b[1;32mNone\u001b[0m\u001b[1;33m\u001b[0m\u001b[1;33m\u001b[0m\u001b[0m\n\u001b[0m\u001b[0;32m   1052\u001b[0m             \u001b[1;32mexcept\u001b[0m \u001b[0mException\u001b[0m\u001b[1;33m:\u001b[0m\u001b[1;33m\u001b[0m\u001b[1;33m\u001b[0m\u001b[0m\n\u001b[0;32m   1053\u001b[0m                 \u001b[0mself\u001b[0m\u001b[1;33m.\u001b[0m\u001b[0mlog\u001b[0m\u001b[1;33m.\u001b[0m\u001b[0mwarning\u001b[0m\u001b[1;33m(\u001b[0m\u001b[1;34m\"Invalid Message:\"\u001b[0m\u001b[1;33m,\u001b[0m \u001b[0mexc_info\u001b[0m\u001b[1;33m=\u001b[0m\u001b[1;32mTrue\u001b[0m\u001b[1;33m)\u001b[0m\u001b[1;33m\u001b[0m\u001b[1;33m\u001b[0m\u001b[0m\n",
      "\u001b[1;31mKeyboardInterrupt\u001b[0m: Interrupted by user"
     ]
    }
   ],
   "source": [
    "# intersection ile çözümü-2\n",
    "left = set(\"qwertasdfgzxcvb\")  # harfler set ile yazılabilir.\n",
    "right = set(\"yuophjkliğüşnmöç\")\n",
    "word = set(input())\n",
    "if word.intersection(left) and word.intersection(right):\n",
    "     print(\"True, uses both hand fingers\")\n",
    "elif word.intersection(right):\n",
    "    print(\"False, uses only right-hand fingers\")\n",
    "else: # ilave şarta gerek yok, yoksa bunu yap\n",
    "    print(\"False, uses only left-hand fingers\")"
   ]
  },
  {
   "cell_type": "code",
   "execution_count": 9,
   "id": "138b8fce",
   "metadata": {},
   "outputs": [
    {
     "name": "stdout",
     "output_type": "stream",
     "text": [
      "Enter a word: pol\n",
      "False\n"
     ]
    }
   ],
   "source": [
    "# F1324 Asuman intersection çözümü;\n",
    "\n",
    "left = [\"q\", \"w\", \"e\", \"r\", \"t\", \"a\", \"s\", \"d\", \"f\", \"g\", \"z\", \"x\", \"c\", \"v\", \"b\"]\n",
    "right = [\"y\", \"u\", \"i\", \"o\", \"p\", \"h\", \"j\", \"k\", \"l\", \"n\", \"m\"]\n",
    "word = set(input(\"Enter a word: \"))\n",
    "leftcheck = word.intersection(left)\n",
    "rightcheck = word.intersection(right)\n",
    "print(bool(leftcheck) and bool(rightcheck))"
   ]
  },
  {
   "cell_type": "code",
   "execution_count": 4,
   "id": "a6e7fc1c",
   "metadata": {},
   "outputs": [
    {
     "name": "stdout",
     "output_type": "stream",
     "text": [
      "Please write a word :polsrsr\n",
      "True\n"
     ]
    }
   ],
   "source": [
    "# Gregor çözümü; intersection-3\n",
    "\n",
    "word = set(input('Please write a word :'))\n",
    "\n",
    "left_hand = set(\"qwertasdfgzxcvb\")\n",
    "right_hand = set(\"yuophjkliğüşnmöç\")\n",
    "\n",
    "sorgu1 = bool(word.intersection(right_hand))\n",
    "sorgu2 = bool(word.intersection(left_hand))\n",
    "\n",
    "print(sorgu1 and sorgu2)"
   ]
  },
  {
   "cell_type": "code",
   "execution_count": 6,
   "id": "c80e3677",
   "metadata": {},
   "outputs": [
    {
     "name": "stdout",
     "output_type": "stream",
     "text": [
      "tres\n",
      "False, uses only left-hand fingers\n"
     ]
    }
   ],
   "source": [
    "# union ile çözüm\n",
    "\n",
    "word = set(input())\n",
    "left_hand = set(\"qwertasdfgzxcvb\")\n",
    "right_hand = set(\"yuophjkliğüşnmöç\")\n",
    "if len(word.union(left_hand)) == len(left_hand):\n",
    "    print(\"False, uses only left-hand fingers\")\n",
    "elif len(word.union(right_hand)) == len(right_hand):\n",
    "    print(\"False, uses only right_hand fingers\")\n",
    "else:\n",
    "    print(\"True, uses both hand fingers\")"
   ]
  },
  {
   "cell_type": "code",
   "execution_count": 21,
   "id": "39c6b7da",
   "metadata": {},
   "outputs": [
    {
     "name": "stdout",
     "output_type": "stream",
     "text": [
      "{'b', 'v', 'r', 'x', 'w', 'e', 'f', 'd', 's', 'c', 't', 'g', 'q', 'a', 'z'}\n",
      "15\n",
      "{'o', 'u', 'l', 'p', 'ş', 'm', 'ç', 'ü', 'ö', 'y', 'k', 'ğ', 'i', 'h', 'n', 'j'}\n",
      "16\n",
      "{'r', 't', 'e'}\n",
      "3\n",
      "15\n",
      "19\n"
     ]
    }
   ],
   "source": [
    "print(left_hand)\n",
    "print(len(left_hand))\n",
    "print(right_hand)\n",
    "print(len(right_hand))\n",
    "print(word)\n",
    "print(len(word))\n",
    "print(len(word.union(left_hand)))\n",
    "print(len(word.union(right_hand)))"
   ]
  },
  {
   "cell_type": "code",
   "execution_count": null,
   "id": "6c76493f",
   "metadata": {},
   "outputs": [],
   "source": [
    "# F1324 Asuman difference çözümü ;\n",
    "\n",
    "sağ ={'y','h','n','u','j','m','ı','k','ö','o','l','ç','p','ş','i','ğ','ü'}\n",
    "sol= {'a','z','q','w','s','x','e','d','c','r','f','v','t','g','b'}\n",
    "word =set(input(\"word:\"))\n",
    "bool(word.difference(sağ) and word.difference(sol))"
   ]
  },
  {
   "cell_type": "code",
   "execution_count": 11,
   "id": "b97aa392",
   "metadata": {},
   "outputs": [
    {
     "ename": "KeyboardInterrupt",
     "evalue": "Interrupted by user",
     "output_type": "error",
     "traceback": [
      "\u001b[1;31m---------------------------------------------------------------------------\u001b[0m",
      "\u001b[1;31mKeyboardInterrupt\u001b[0m                         Traceback (most recent call last)",
      "\u001b[1;32m~\\AppData\\Local\\Temp/ipykernel_19112/132313509.py\u001b[0m in \u001b[0;36m<module>\u001b[1;34m\u001b[0m\n\u001b[0;32m      1\u001b[0m \u001b[1;31m# difference ile çözüm\u001b[0m\u001b[1;33m\u001b[0m\u001b[1;33m\u001b[0m\u001b[0m\n\u001b[0;32m      2\u001b[0m \u001b[1;33m\u001b[0m\u001b[0m\n\u001b[1;32m----> 3\u001b[1;33m \u001b[0mword\u001b[0m \u001b[1;33m=\u001b[0m \u001b[0mset\u001b[0m\u001b[1;33m(\u001b[0m\u001b[0minput\u001b[0m\u001b[1;33m(\u001b[0m\u001b[1;33m)\u001b[0m\u001b[1;33m)\u001b[0m\u001b[1;33m\u001b[0m\u001b[1;33m\u001b[0m\u001b[0m\n\u001b[0m\u001b[0;32m      4\u001b[0m \u001b[0mleft_hand\u001b[0m \u001b[1;33m=\u001b[0m \u001b[0mset\u001b[0m\u001b[1;33m(\u001b[0m\u001b[1;34m\"qwertasdfgzxcvb\"\u001b[0m\u001b[1;33m)\u001b[0m\u001b[1;33m\u001b[0m\u001b[1;33m\u001b[0m\u001b[0m\n\u001b[0;32m      5\u001b[0m \u001b[0mright_hand\u001b[0m \u001b[1;33m=\u001b[0m \u001b[0mset\u001b[0m\u001b[1;33m(\u001b[0m\u001b[1;34m\"yuophjkliğüşnmöç\"\u001b[0m\u001b[1;33m)\u001b[0m\u001b[1;33m\u001b[0m\u001b[1;33m\u001b[0m\u001b[0m\n",
      "\u001b[1;32m~\\anaconda3\\lib\\site-packages\\ipykernel\\kernelbase.py\u001b[0m in \u001b[0;36mraw_input\u001b[1;34m(self, prompt)\u001b[0m\n\u001b[0;32m   1004\u001b[0m                 \u001b[1;34m\"raw_input was called, but this frontend does not support input requests.\"\u001b[0m\u001b[1;33m\u001b[0m\u001b[1;33m\u001b[0m\u001b[0m\n\u001b[0;32m   1005\u001b[0m             )\n\u001b[1;32m-> 1006\u001b[1;33m         return self._input_request(\n\u001b[0m\u001b[0;32m   1007\u001b[0m             \u001b[0mstr\u001b[0m\u001b[1;33m(\u001b[0m\u001b[0mprompt\u001b[0m\u001b[1;33m)\u001b[0m\u001b[1;33m,\u001b[0m\u001b[1;33m\u001b[0m\u001b[1;33m\u001b[0m\u001b[0m\n\u001b[0;32m   1008\u001b[0m             \u001b[0mself\u001b[0m\u001b[1;33m.\u001b[0m\u001b[0m_parent_ident\u001b[0m\u001b[1;33m[\u001b[0m\u001b[1;34m\"shell\"\u001b[0m\u001b[1;33m]\u001b[0m\u001b[1;33m,\u001b[0m\u001b[1;33m\u001b[0m\u001b[1;33m\u001b[0m\u001b[0m\n",
      "\u001b[1;32m~\\anaconda3\\lib\\site-packages\\ipykernel\\kernelbase.py\u001b[0m in \u001b[0;36m_input_request\u001b[1;34m(self, prompt, ident, parent, password)\u001b[0m\n\u001b[0;32m   1049\u001b[0m             \u001b[1;32mexcept\u001b[0m \u001b[0mKeyboardInterrupt\u001b[0m\u001b[1;33m:\u001b[0m\u001b[1;33m\u001b[0m\u001b[1;33m\u001b[0m\u001b[0m\n\u001b[0;32m   1050\u001b[0m                 \u001b[1;31m# re-raise KeyboardInterrupt, to truncate traceback\u001b[0m\u001b[1;33m\u001b[0m\u001b[1;33m\u001b[0m\u001b[0m\n\u001b[1;32m-> 1051\u001b[1;33m                 \u001b[1;32mraise\u001b[0m \u001b[0mKeyboardInterrupt\u001b[0m\u001b[1;33m(\u001b[0m\u001b[1;34m\"Interrupted by user\"\u001b[0m\u001b[1;33m)\u001b[0m \u001b[1;32mfrom\u001b[0m \u001b[1;32mNone\u001b[0m\u001b[1;33m\u001b[0m\u001b[1;33m\u001b[0m\u001b[0m\n\u001b[0m\u001b[0;32m   1052\u001b[0m             \u001b[1;32mexcept\u001b[0m \u001b[0mException\u001b[0m\u001b[1;33m:\u001b[0m\u001b[1;33m\u001b[0m\u001b[1;33m\u001b[0m\u001b[0m\n\u001b[0;32m   1053\u001b[0m                 \u001b[0mself\u001b[0m\u001b[1;33m.\u001b[0m\u001b[0mlog\u001b[0m\u001b[1;33m.\u001b[0m\u001b[0mwarning\u001b[0m\u001b[1;33m(\u001b[0m\u001b[1;34m\"Invalid Message:\"\u001b[0m\u001b[1;33m,\u001b[0m \u001b[0mexc_info\u001b[0m\u001b[1;33m=\u001b[0m\u001b[1;32mTrue\u001b[0m\u001b[1;33m)\u001b[0m\u001b[1;33m\u001b[0m\u001b[1;33m\u001b[0m\u001b[0m\n",
      "\u001b[1;31mKeyboardInterrupt\u001b[0m: Interrupted by user"
     ]
    }
   ],
   "source": [
    "# difference ile çözüm\n",
    "\n",
    "word = set(input())\n",
    "left_hand = set(\"qwertasdfgzxcvb\")\n",
    "right_hand = set(\"yuophjkliğüşnmöç\")\n",
    "if len(left_hand.difference(word)) < len(left_hand):\n",
    "    print(\"False, uses only left-hand fingers\")\n",
    "elif len(right_hand.difference(word)) < len(right_hand):\n",
    "    print(\"False, uses only right_hand fingers\")"
   ]
  },
  {
   "cell_type": "code",
   "execution_count": 9,
   "id": "7ac7ba26",
   "metadata": {},
   "outputs": [
    {
     "name": "stdout",
     "output_type": "stream",
     "text": [
      "{'z', 'x', 'b', 'r', 'f', 's', 'g', 'v', 'a', 'c', 'e', 'w', 'd', 't', 'q'}\n",
      "15\n",
      "{'ö', 'ş', 'j', 'i', 'ğ', 'h', 'n', 'u', 'ü', 'm', 'y', 'l', 'o', 'p', 'ç', 'k'}\n",
      "16\n",
      "{'x', 's', 'e', 'w', 't', 'r'}\n",
      "6\n",
      "{'z', 'f', 'g', 'v', 'a', 'c', 'd', 'b', 'q'}\n",
      "{'ö', 'ş', 'i', 'j', 'ğ', 'h', 'n', 'u', 'ü', 'm', 'y', 'l', 'o', 'p', 'ç', 'k'}\n"
     ]
    }
   ],
   "source": [
    "print(left_hand)\n",
    "print(len(left_hand))\n",
    "print(right_hand)\n",
    "print(len(right_hand))\n",
    "print(word)\n",
    "print(len(word))\n",
    "print(left_hand.difference(word))\n",
    "print(right_hand.difference(word))"
   ]
  },
  {
   "cell_type": "code",
   "execution_count": 52,
   "id": "b4199aa4",
   "metadata": {},
   "outputs": [],
   "source": [
    "if len(left_hand.difference(word)) + len(right_hand.difference(word)) > len(left_hand) + len(right_hand):\n",
    "    print(\"True, uses both hand fingers\")"
   ]
  },
  {
   "cell_type": "code",
   "execution_count": 7,
   "id": "5f152587",
   "metadata": {},
   "outputs": [
    {
     "name": "stdout",
     "output_type": "stream",
     "text": [
      "Bir kelime giriniz test\n",
      "False\n"
     ]
    }
   ],
   "source": [
    "# F1324 Asuman boş küme ile çözümü;\n",
    "\n",
    "left_h = \"q, w, e, r, t, a, s, d, f, g, z, x, c, v, b\"\n",
    "right_h = \"y, u, i, o, p, h, j, k, l, n, m\"\n",
    "word = set(input(\"Bir kelime giriniz \").lower())\n",
    "if word - set(left_h) == set() or word - set(right_h) == set() :\n",
    "  print(False)\n",
    "else:\n",
    "  print(True)"
   ]
  }
 ],
 "metadata": {
  "kernelspec": {
   "display_name": "Python 3 (ipykernel)",
   "language": "python",
   "name": "python3"
  },
  "language_info": {
   "codemirror_mode": {
    "name": "ipython",
    "version": 3
   },
   "file_extension": ".py",
   "mimetype": "text/x-python",
   "name": "python",
   "nbconvert_exporter": "python",
   "pygments_lexer": "ipython3",
   "version": "3.9.7"
  }
 },
 "nbformat": 4,
 "nbformat_minor": 5
}
