{
 "cells": [
  {
   "cell_type": "code",
   "execution_count": null,
   "id": "eda89fb5",
   "metadata": {},
   "outputs": [],
   "source": []
  },
  {
   "cell_type": "code",
   "execution_count": null,
   "id": "cdac767d",
   "metadata": {},
   "outputs": [],
   "source": []
  },
  {
   "cell_type": "raw",
   "id": "1b8a2911",
   "metadata": {},
   "source": [
    "Task:\n",
    "\n",
    "Find out if a given number is an \"Armstrong Number\".\n",
    "\n",
    "An n-digit number that is the sum of the nth powers of its digits is called an n-Armstrong number. Examples :\n",
    "* 371 = 33 + 73 + 13;\n",
    "* 9474 = 94 + 44 + 74 + 44;\n",
    "* 93084 = 95 + 35 + 05 + 85 + 45.\n",
    "\n",
    "Write a Python program that;\n",
    "1-takes a positive integer number from the user,\n",
    "2-checks the entered number if it is Armstrong,\n",
    "3-consider the negative, float and any entries other than numeric values then display a warning message to the user."
   ]
  },
  {
   "cell_type": "raw",
   "id": "68858bab",
   "metadata": {},
   "source": [
    "Edwin - Instructor\n",
    "Aarkadaşlar Amstrong number ile ilgili sorular gelmeye devam ediyor. Demek ki üzerinde kafayoruyorsunuz. Farklı bir çok çözümün olduğunu da hatırlatarak, yol göstermek için şunları söyleyebilirim;\n",
    "-- while döngüsü ile kullanıcıdan pozitif bir sayı girene kadar tekrar tekrar giriş isteyebilirsiniz.\n",
    "-- girişin digit olup olmadığını bir condition ile kontrol edersiniz. (if statement)\n",
    "-- True ile birlikte kullanılan while döngüsünün içinde yazacağınız if statement'te <--if not number.isdigit()--> derseniz bunu True yapan şey, girilen sayının digit olmaması durumudur ki bu şart sağlandığında while döngüsü tekrar çalışacaktır.\n",
    "--Bu if'in altındaki elif'te sayının 0'dan büyük olması halinde çalışacak şekilde condition kurar, sonra da amstrong number olup olmadığının kontrolünü sağlayan kod bloğunu oluşturursunuz."
   ]
  },
  {
   "cell_type": "code",
   "execution_count": 15,
   "id": "88298a94",
   "metadata": {},
   "outputs": [
    {
     "name": "stdout",
     "output_type": "stream",
     "text": [
      "Enter a number : -8\n",
      "It is an invalid entry. Don't use non-numeric, float, or negative values!\n",
      "Enter a number : -8\n",
      "It is an invalid entry. Don't use non-numeric, float, or negative values!\n",
      "Enter a number : 12,5\n",
      "It is an invalid entry. Don't use non-numeric, float, or negative values!\n",
      "Enter a number : 9474\n",
      "9474 is an Armstrong number\n"
     ]
    }
   ],
   "source": [
    "# Edwin Hoca Çözümü;\n",
    "\n",
    "while True:\n",
    "    number = input(\"Enter a number : \")\n",
    "    digit = len(number)\n",
    "    sumn = 0\n",
    "    \n",
    "    if not number.isdigit():\n",
    "        print(\"It is an invalid entry. Don't use non-numeric, float, or negative values!\")\n",
    "        # continue\n",
    "        \n",
    "    elif int(number)>0:\n",
    "        for i in range(len(number)):            \n",
    "            sumn += int(number[i])**digit  #pow(number[i])**digit)\n",
    "        \n",
    "        if sumn == int(number):\n",
    "            print(f\"{number} is an Armstrong number\")\n",
    "            break\n",
    "        else:\n",
    "            print(f\"{number} is NOT Armstrong number\")   \n",
    "            break"
   ]
  },
  {
   "cell_type": "code",
   "execution_count": null,
   "id": "89c6658d",
   "metadata": {},
   "outputs": [],
   "source": []
  },
  {
   "cell_type": "code",
   "execution_count": 18,
   "id": "8916f211",
   "metadata": {},
   "outputs": [
    {
     "data": {
      "text/plain": [
       "True"
      ]
     },
     "execution_count": 18,
     "metadata": {},
     "output_type": "execute_result"
    }
   ],
   "source": [
    "a = \"5\"\n",
    "a.isdigit()  #stringe uygulanır, True/False çıktı verir."
   ]
  },
  {
   "cell_type": "code",
   "execution_count": 20,
   "id": "207d64ab",
   "metadata": {},
   "outputs": [
    {
     "data": {
      "text/plain": [
       "True"
      ]
     },
     "execution_count": 20,
     "metadata": {},
     "output_type": "execute_result"
    }
   ],
   "source": [
    "a.isnumeric()"
   ]
  },
  {
   "cell_type": "code",
   "execution_count": 21,
   "id": "33d210a8",
   "metadata": {},
   "outputs": [
    {
     "data": {
      "text/plain": [
       "False"
      ]
     },
     "execution_count": 21,
     "metadata": {},
     "output_type": "execute_result"
    }
   ],
   "source": [
    "b = \"-15\"\n",
    "b.isdigit()"
   ]
  },
  {
   "cell_type": "code",
   "execution_count": 22,
   "id": "1be31568",
   "metadata": {},
   "outputs": [
    {
     "data": {
      "text/plain": [
       "False"
      ]
     },
     "execution_count": 22,
     "metadata": {},
     "output_type": "execute_result"
    }
   ],
   "source": [
    "b.isnumeric()"
   ]
  },
  {
   "cell_type": "code",
   "execution_count": 8,
   "id": "c2932f09",
   "metadata": {},
   "outputs": [
    {
     "name": "stdout",
     "output_type": "stream",
     "text": [
      "Enter a number : 93084\n",
      "93084 is an Armstrong number\n"
     ]
    }
   ],
   "source": [
    "number = input(\"Enter a number : \")\n",
    "\n",
    "while not number.isdigit():\n",
    "    print(\"It is an invalid entry. Don't use non-numeric, float, or negative values!\")\n",
    "    number = input(\"Enter a number : \")\n",
    "    \n",
    "list_number = list(number)\n",
    "arm_num = 0    \n",
    "for i in list_number:\n",
    "    arm_num += pow(int(i), len(number))\n",
    "if arm_num == int(number):\n",
    "    print(f\"{number} is an Armstrong number\")\n",
    "else:\n",
    "    print(f\"{number} is not an Armstrong number\")"
   ]
  },
  {
   "cell_type": "code",
   "execution_count": 5,
   "id": "ea81aca2",
   "metadata": {},
   "outputs": [
    {
     "data": {
      "text/plain": [
       "3"
      ]
     },
     "execution_count": 5,
     "metadata": {},
     "output_type": "execute_result"
    }
   ],
   "source": [
    "len(number)"
   ]
  },
  {
   "cell_type": "code",
   "execution_count": null,
   "id": "5bfddf7d",
   "metadata": {},
   "outputs": [],
   "source": []
  },
  {
   "cell_type": "code",
   "execution_count": 4,
   "id": "c2a0744c",
   "metadata": {},
   "outputs": [
    {
     "name": "stdout",
     "output_type": "stream",
     "text": [
      "Enter a number : 371\n",
      "371 is an Armstrong number\n"
     ]
    }
   ],
   "source": [
    "# ilk çözümüm\n",
    "\n",
    "number = input(\"Enter a number : \")\n",
    "set_num = set(number)\n",
    "invalid = {\",\", \".\", \"-\"}\n",
    "\n",
    "int_number = int(number)\n",
    "list_num = list(number)\n",
    "üs = len(number)\n",
    "arm_num = 0\n",
    "\n",
    "for i in list_num:\n",
    "    arm_num += pow(int(i), üs)\n",
    "    \n",
    "if set_num.intersection(invalid):\n",
    "    print(\"It is an invalid entry. Don't use non-numeric, float, or negative values!\")\n",
    "\n",
    "elif int_number <= 0:\n",
    "    print(\"It is an invalid entry. Don't use non-numeric, float, or negative values!\")\n",
    "    \n",
    "elif int_number != arm_num:\n",
    "    print(f\"{int_number} is not an Armstrong number\")\n",
    "    \n",
    "else:\n",
    "    print(f\"{arm_num} is an Armstrong number\") "
   ]
  },
  {
   "cell_type": "code",
   "execution_count": null,
   "id": "60cc9558",
   "metadata": {},
   "outputs": [],
   "source": []
  },
  {
   "cell_type": "code",
   "execution_count": 6,
   "id": "c98749e1",
   "metadata": {},
   "outputs": [
    {
     "name": "stdout",
     "output_type": "stream",
     "text": [
      "Enter a number: -42\n",
      "-42 is not an Armstrong number\n"
     ]
    }
   ],
   "source": [
    "# Asuman Hoca-1 Python program to check if the number is an Armstrong number or not\n",
    "\n",
    "# take input from the user\n",
    "num = int(input(\"Enter a number: \"))\n",
    "\n",
    "# initialize sum\n",
    "sum = 0\n",
    "\n",
    "# find the sum of the cube of each digit\n",
    "temp = num\n",
    "while temp > 0:\n",
    "   digit = temp % 10\n",
    "   sum += digit ** 3\n",
    "   temp //= 10\n",
    "\n",
    "# display the result\n",
    "if num == sum:\n",
    "   print(num,\"is an Armstrong number\")\n",
    "else:\n",
    "   print(num,\"is not an Armstrong number\")"
   ]
  },
  {
   "cell_type": "code",
   "execution_count": 7,
   "id": "bf4315b9",
   "metadata": {},
   "outputs": [
    {
     "name": "stdout",
     "output_type": "stream",
     "text": [
      "Enter a positive integer number;-42\n",
      "-42 is invalid entry. Please enter valid input.\n",
      "Enter a positive integer number;23,2\n",
      "23,2 is invalid entry. Please enter valid input.\n",
      "Enter a positive integer number;21.1\n",
      "21.1 is invalid entry. Please enter valid input.\n",
      "Enter a positive integer number;171\n",
      "171 is not an Armstrong Number.\n"
     ]
    }
   ],
   "source": [
    "# Asuman Hoca-2\n",
    "while True:      #while döngüleri condition ile kontrol edilen döngülerdir. UNUTMA.\n",
    "# While döngüleri True ve False yani boolean lara ihtiyaça duyar. conditionlar ile çalışır.\n",
    "  number = input ('Enter a positive integer number;') #hatalı sayı yazdırmak için while döngüsü yazdık.\n",
    "  digits = len (number) #mesela burada 3 basamaklı bir number girildi, biz 0,1,2 üzerinde iterasyon yapacağız.\n",
    "  summ = 0   #üsler toplamı. summ == number olmalı o zaman armstrong number olur.\n",
    "  if not number.isdigit() :   #sayılar dışında bir karakter olup olmadığına bakar. possitive integer olursa True verir.\n",
    "  #burada yanlış sayıyı girince döngü devam etsin yani while çalışsın diye not isdigit dedim, not demesek doğru girice de döngü çalışırdı.\n",
    "    print(number, \"is invalid entry. Please enter valid input.\" )\n",
    "  elif int(number) >= 0 :  #else de olur. Burası poz.integer girince çalışacak bir aşağı inecek.\n",
    "    for i in range(digits) : #for döngüsünü kullanarak girilen sayının basamakları üzerine iterasyon yapacağız. digitsler yani indexler üzerinde iterasyon yapmamız lazım.\n",
    "      summ = summ + int(number[i]) ** digits #buradaki i = 0 ile number ın 1.basamağı, 1 ise number in 2.basamağı gibi\n",
    "    if summ == int(number) :\n",
    "      print(number, \"is an Armstrong Number.\")\n",
    "      break\n",
    "    else:\n",
    "      print(number, 'is not an Armstrong Number.')\n",
    "      break"
   ]
  },
  {
   "cell_type": "code",
   "execution_count": null,
   "id": "e1aa45cc",
   "metadata": {},
   "outputs": [],
   "source": []
  },
  {
   "cell_type": "code",
   "execution_count": null,
   "id": "665f72b8",
   "metadata": {},
   "outputs": [],
   "source": []
  },
  {
   "cell_type": "code",
   "execution_count": null,
   "id": "ba93e9c5",
   "metadata": {},
   "outputs": [],
   "source": []
  },
  {
   "cell_type": "code",
   "execution_count": null,
   "id": "24405fb4",
   "metadata": {},
   "outputs": [],
   "source": []
  },
  {
   "cell_type": "code",
   "execution_count": 91,
   "id": "d1674552",
   "metadata": {},
   "outputs": [
    {
     "name": "stdout",
     "output_type": "stream",
     "text": [
      "Enter a number : 14.8\n",
      "It is an invalid entry. Don't use non-numeric, float, or negative values!\n"
     ]
    }
   ],
   "source": [
    "number = input(\"Enter a number : \")\n",
    "set_num = set(number)\n",
    "invalid = {\",\", \".\", \"-\"}\n",
    "if set_num.intersection(invalid):\n",
    "    print(\"It is an invalid entry. Don't use non-numeric, float, or negative values!\")"
   ]
  },
  {
   "cell_type": "code",
   "execution_count": null,
   "id": "bd1ac434",
   "metadata": {},
   "outputs": [],
   "source": [
    "# isnumeric ve isdigit"
   ]
  },
  {
   "cell_type": "code",
   "execution_count": 56,
   "id": "9915bf2e",
   "metadata": {},
   "outputs": [
    {
     "name": "stdout",
     "output_type": "stream",
     "text": [
      "Enter a number : 371\n",
      "371\n"
     ]
    }
   ],
   "source": [
    "def armstongnum(x):\n",
    "    return\n",
    "number = input(\"Enter a number : \")\n",
    "int_number = int(number)\n",
    "list_num = list(number)\n",
    "üs = len(number)\n",
    "arm_num = 0\n",
    "\n",
    "for i in list_num:\n",
    "    arm_num += pow(int(i), üs)\n",
    "    \n",
    "print(arm_num)"
   ]
  },
  {
   "cell_type": "code",
   "execution_count": null,
   "id": "2a517385",
   "metadata": {},
   "outputs": [],
   "source": []
  },
  {
   "cell_type": "code",
   "execution_count": null,
   "id": "0a187dce",
   "metadata": {},
   "outputs": [],
   "source": []
  },
  {
   "cell_type": "code",
   "execution_count": null,
   "id": "02dd2152",
   "metadata": {},
   "outputs": [],
   "source": []
  },
  {
   "cell_type": "code",
   "execution_count": 27,
   "id": "346db8d9",
   "metadata": {},
   "outputs": [
    {
     "name": "stdout",
     "output_type": "stream",
     "text": [
      "Enter a number:5\n",
      "5 is an Armstrong number\n"
     ]
    }
   ],
   "source": [
    "num=0\n",
    "counter=0\n",
    "number=input(\"Enter a number:\")\n",
    "list1 = list(number)\n",
    "ch1=list1.count(\".\")\n",
    "ch2=list1.count(\",\")\n",
    "ch3=list1.count(\"-\")\n",
    "for i in list1:\n",
    "  counter+=1\n",
    "  if ch1 + ch2 + ch3 > 0:\n",
    "    print(\"It is an invalid entry. Don't use non-numeric, float, or negative values!\")\n",
    "    break\n",
    "  else:\n",
    "    num+=int(i)**int(len(number))\n",
    "    if float(num) ==float(number) and counter==len(number):\n",
    "      print(num, \"is an Armstrong number\")\n",
    "    elif counter==len(number):\n",
    "      print(num, \"is not an Armstrong number\")"
   ]
  },
  {
   "cell_type": "code",
   "execution_count": null,
   "id": "33d10899",
   "metadata": {},
   "outputs": [],
   "source": []
  }
 ],
 "metadata": {
  "kernelspec": {
   "display_name": "Python 3 (ipykernel)",
   "language": "python",
   "name": "python3"
  },
  "language_info": {
   "codemirror_mode": {
    "name": "ipython",
    "version": 3
   },
   "file_extension": ".py",
   "mimetype": "text/x-python",
   "name": "python",
   "nbconvert_exporter": "python",
   "pygments_lexer": "ipython3",
   "version": "3.9.7"
  }
 },
 "nbformat": 4,
 "nbformat_minor": 5
}
