{
 "cells": [
  {
   "cell_type": "code",
   "execution_count": null,
   "id": "bfebb28f",
   "metadata": {},
   "outputs": [],
   "source": []
  },
  {
   "cell_type": "raw",
   "id": "b5fa05f9",
   "metadata": {},
   "source": [
    "Write a program that takes a number from the user and prints the result to check \n",
    "if it is a prime number. The examples of the desired output are as follows :\n",
    "input →  19 ⇉ output : 19 is a prime number\n",
    "input →  10 ⇉ output : 10 is not a prime number\n",
    "\n",
    "* Yalnız 1 ve kendisi ile bölünebilen birden büyük doğal sayılar asal sayıdır."
   ]
  },
  {
   "cell_type": "code",
   "execution_count": 2,
   "id": "8a34325f",
   "metadata": {},
   "outputs": [
    {
     "name": "stdout",
     "output_type": "stream",
     "text": [
      "Give me a number >>> : 101\n",
      "101 is a prime number\n"
     ]
    }
   ],
   "source": [
    "n = int(input(\"Give me a number >>> : \"))\n",
    "counter = 0\n",
    "for i in range(1, n+1):\n",
    "    if n%i == 0:\n",
    "        counter += 1\n",
    "if counter == 2:\n",
    "    print(f'{n} is a prime number')\n",
    "else :\n",
    "    print(f'{n} is NOT prime number')"
   ]
  },
  {
   "cell_type": "code",
   "execution_count": 3,
   "id": "cce555a2",
   "metadata": {},
   "outputs": [
    {
     "name": "stdout",
     "output_type": "stream",
     "text": [
      "Give me a number >>> : 102\n",
      "102 is NOT prime number\n"
     ]
    }
   ],
   "source": [
    "n = int(input(\"Give me a number >>> : \"))\n",
    "counter = 0\n",
    "for i in range(1, n+1):\n",
    "    if n%i == 0:\n",
    "        counter += 1\n",
    "if n==0 or n==1 or counter>=3 : # sayı 0 veya 1 ise veya 2 den fazla böleni varsa prime değildir.\n",
    "    print(n, 'is NOT prime number')\n",
    "else :\n",
    "    print(n, 'is a prime number')"
   ]
  },
  {
   "cell_type": "raw",
   "id": "23bd5260",
   "metadata": {},
   "source": [
    "prime olması için sadece 1 ve kendisine bölünmesi gerekiyor yukarıdaki çözümlerden counter 2 den büyükseye göre sorguladık. Fakat eğer biz range ile ürettiğimiz sayı dizesini;\n",
    "1 yerine 2 den başlatır, ve n'de bitirip girilen sayıyı almazsak 2 bölenden kurtuluruz. \n",
    "o zaman conter 0'dan büyük olduğu her durumda prime değildir.  "
   ]
  },
  {
   "cell_type": "code",
   "execution_count": 3,
   "id": "bfa64864",
   "metadata": {},
   "outputs": [
    {
     "name": "stdout",
     "output_type": "stream",
     "text": [
      "Give me a number >>> : 101\n",
      "101 is a prime number\n"
     ]
    }
   ],
   "source": [
    "n = int(input(\"Give me a number >>> : \"))\n",
    "counter = 0\n",
    "for i in range(2, n): # 1'e ve kendisine bölünmeyi devre dışı bıraktık.\n",
    "    if n%i == 0:\n",
    "        counter += 1\n",
    "if n==0 or n==1 or counter>0 : # sayı 0 veya 1 ise veya herhangi bir tam böleni varsa\n",
    "    print(n, 'is NOT prime number')\n",
    "else :\n",
    "    print(n, 'is a prime number')"
   ]
  },
  {
   "cell_type": "code",
   "execution_count": null,
   "id": "cdce9814",
   "metadata": {},
   "outputs": [],
   "source": []
  },
  {
   "cell_type": "code",
   "execution_count": null,
   "id": "e3dfc0d3",
   "metadata": {},
   "outputs": [],
   "source": []
  },
  {
   "cell_type": "code",
   "execution_count": null,
   "id": "6d34c4cf",
   "metadata": {},
   "outputs": [],
   "source": []
  }
 ],
 "metadata": {
  "kernelspec": {
   "display_name": "Python 3 (ipykernel)",
   "language": "python",
   "name": "python3"
  },
  "language_info": {
   "codemirror_mode": {
    "name": "ipython",
    "version": 3
   },
   "file_extension": ".py",
   "mimetype": "text/x-python",
   "name": "python",
   "nbconvert_exporter": "python",
   "pygments_lexer": "ipython3",
   "version": "3.9.7"
  }
 },
 "nbformat": 4,
 "nbformat_minor": 5
}
