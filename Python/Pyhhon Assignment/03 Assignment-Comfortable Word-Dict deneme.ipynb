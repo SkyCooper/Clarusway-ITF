{
 "cells": [
  {
   "cell_type": "code",
   "execution_count": 1,
   "id": "b64057cb",
   "metadata": {},
   "outputs": [
    {
     "name": "stdout",
     "output_type": "stream",
     "text": [
      "pol\n"
     ]
    }
   ],
   "source": [
    "word = list(input())\n",
    "letters = { \n",
    "    \"left_hand\" :\n",
    "        {\"left1\" : 'q', \"left2\" : 'w', \"left3\" : 'e', \"left4\" : 'r', \"left5\" : 't',\n",
    "         \"left6\" : 'a', \"left7\" : 's', \"left8\" :'d', \"left9\" : 'f', \"left10\" : 'g',\n",
    "         \"left11\" : 'z', \"left12\" : 'x', \"left13\" : 'c', \"left14\" : 'v', \"left15\" :'b'},\n",
    "    \"right_hand\" :\n",
    "        {\"right1\" : 'y', \"right2\" : 'u', \"right3\" : 'i', \"right4\" : 'o', \"right5\" : 'p',\n",
    "         \"right6\" : 'h', \"right7\" : 'j', \"right8\" : 'k', \"right9\" : 'l', \"right10\" : 'n',\n",
    "         \"right11\" : 'm'}\n",
    "}"
   ]
  },
  {
   "cell_type": "code",
   "execution_count": 2,
   "id": "3f75e50a",
   "metadata": {},
   "outputs": [
    {
     "data": {
      "text/plain": [
       "['p', 'o', 'l']"
      ]
     },
     "execution_count": 2,
     "metadata": {},
     "output_type": "execute_result"
    }
   ],
   "source": [
    "word"
   ]
  },
  {
   "cell_type": "code",
   "execution_count": 22,
   "id": "c953b069",
   "metadata": {},
   "outputs": [
    {
     "name": "stdout",
     "output_type": "stream",
     "text": [
      "dict_values(['q', 'w', 'e', 'r', 't', 'a', 's', 'd', 'f', 'g', 'z', 'x', 'c', 'v', 'b'])\n",
      "dict_values(['y', 'u', 'i', 'o', 'p', 'h', 'j', 'k', 'l', 'n', 'm'])\n"
     ]
    }
   ],
   "source": [
    "print(letters[\"left_hand\"].values())\n",
    "\n",
    "print(letters[\"right_hand\"].values())"
   ]
  },
  {
   "cell_type": "code",
   "execution_count": null,
   "id": "410e95dc",
   "metadata": {},
   "outputs": [],
   "source": []
  },
  {
   "cell_type": "code",
   "execution_count": 121,
   "id": "112109b7",
   "metadata": {},
   "outputs": [
    {
     "name": "stdout",
     "output_type": "stream",
     "text": [
      "dict_items([('left_hand', {'left1': 'q', 'left2': 'w', 'left3': 'e', 'left4': 'r', 'left5': 't', 'left6': 'a', 'left7': 's', 'left8': 'd', 'left9': 'f', 'left10': 'g', 'left11': 'z', 'left12': 'x', 'left13': 'c', 'left14': 'v', 'left15': 'b'}), ('right_hand', {'right1': 'y', 'right2': 'u', 'right3': 'i', 'right4': 'o', 'right5': 'p', 'right6': 'h', 'right7': 'j', 'right8': 'k', 'right9': 'l', 'right10': 'n', 'right11': 'm'})])\n"
     ]
    }
   ],
   "source": [
    "print(letters.items())"
   ]
  },
  {
   "cell_type": "code",
   "execution_count": 122,
   "id": "94a4b9a4",
   "metadata": {},
   "outputs": [
    {
     "name": "stdout",
     "output_type": "stream",
     "text": [
      "dict_keys(['left_hand', 'right_hand'])\n"
     ]
    }
   ],
   "source": [
    "print(letters.keys())"
   ]
  },
  {
   "cell_type": "code",
   "execution_count": 123,
   "id": "2422fbf3",
   "metadata": {},
   "outputs": [
    {
     "name": "stdout",
     "output_type": "stream",
     "text": [
      "dict_values([{'left1': 'q', 'left2': 'w', 'left3': 'e', 'left4': 'r', 'left5': 't', 'left6': 'a', 'left7': 's', 'left8': 'd', 'left9': 'f', 'left10': 'g', 'left11': 'z', 'left12': 'x', 'left13': 'c', 'left14': 'v', 'left15': 'b'}, {'right1': 'y', 'right2': 'u', 'right3': 'i', 'right4': 'o', 'right5': 'p', 'right6': 'h', 'right7': 'j', 'right8': 'k', 'right9': 'l', 'right10': 'n', 'right11': 'm'}])\n"
     ]
    }
   ],
   "source": [
    "print(letters.values())"
   ]
  },
  {
   "cell_type": "code",
   "execution_count": 23,
   "id": "9b1fdbbd",
   "metadata": {},
   "outputs": [
    {
     "name": "stdout",
     "output_type": "stream",
     "text": [
      "dict_values(['q', 'w', 'e', 'r', 't', 'a', 's', 'd', 'f', 'g', 'z', 'x', 'c', 'v', 'b'])\n",
      "dict_values(['y', 'u', 'i', 'o', 'p', 'h', 'j', 'k', 'l', 'n', 'm'])\n"
     ]
    }
   ],
   "source": [
    "print(letters[\"left_hand\"].values())\n",
    "\n",
    "print(letters[\"right_hand\"].values())"
   ]
  },
  {
   "cell_type": "code",
   "execution_count": 3,
   "id": "a55bc55c",
   "metadata": {},
   "outputs": [
    {
     "data": {
      "text/plain": [
       "['t', 'e', 's', 't', 'e', 'r']"
      ]
     },
     "execution_count": 3,
     "metadata": {},
     "output_type": "execute_result"
    }
   ],
   "source": [
    "list(\"tester\")"
   ]
  },
  {
   "cell_type": "code",
   "execution_count": 40,
   "id": "1eb0b55c",
   "metadata": {},
   "outputs": [
    {
     "name": "stdout",
     "output_type": "stream",
     "text": [
      "test\n",
      "True\n",
      "True\n",
      "True\n",
      "True\n",
      "False\n",
      "False\n",
      "False\n",
      "False\n"
     ]
    }
   ],
   "source": [
    "word = list(input())\n",
    "for i in word:\n",
    "    if i in letters[\"left_hand\"].values():\n",
    "        print(True)\n",
    "    else:\n",
    "        print(False)\n",
    "for i in word:\n",
    "    if i in letters[\"right_hand\"].values():\n",
    "        print(True)\n",
    "    else:\n",
    "        print(False)"
   ]
  },
  {
   "cell_type": "code",
   "execution_count": 173,
   "id": "f5ec1c16",
   "metadata": {},
   "outputs": [
    {
     "name": "stdout",
     "output_type": "stream",
     "text": [
      "aoghaoghafbşoablb\n"
     ]
    }
   ],
   "source": [
    "word = list(input())\n",
    "while i in list(word):\n",
    "    if i in letters[\"left_hand\"].values():\n",
    "        print(True)\n",
    "    else:\n",
    "        print(False)\n",
    "while i in list(word):\n",
    "    if i in letters[\"right_hand\"].values():\n",
    "        print(True)\n",
    "    else:\n",
    "        print(False)"
   ]
  },
  {
   "cell_type": "code",
   "execution_count": 175,
   "id": "acb79e94",
   "metadata": {},
   "outputs": [
    {
     "name": "stdout",
     "output_type": "stream",
     "text": [
      "ter\n"
     ]
    }
   ],
   "source": [
    "word = list(input())\n",
    "while list(word) in letters[\"left_hand\"].values():\n",
    "    print(False)\n",
    "while list(word) in letters[\"right_hand\"].values():\n",
    "    print(False)"
   ]
  },
  {
   "cell_type": "code",
   "execution_count": 184,
   "id": "9a60cab4",
   "metadata": {},
   "outputs": [
    {
     "name": "stdout",
     "output_type": "stream",
     "text": [
      "pofpaofp\n",
      "False\n"
     ]
    }
   ],
   "source": [
    "word = set(input())\n",
    "if set(word) not in letters[\"left_hand\"].values():\n",
    "    print(False)\n",
    "elif set(word) not in letters[\"right_hand\"].values():\n",
    "    print(False)\n",
    "else:\n",
    "    print(\"cc\")"
   ]
  },
  {
   "cell_type": "code",
   "execution_count": 5,
   "id": "09d3dbed",
   "metadata": {},
   "outputs": [
    {
     "data": {
      "text/plain": [
       "False"
      ]
     },
     "execution_count": 5,
     "metadata": {},
     "output_type": "execute_result"
    }
   ],
   "source": [
    "['t', 'e', 's', 't', 'e', 'r'] in letters[\"left_hand\"].values()"
   ]
  },
  {
   "cell_type": "code",
   "execution_count": 6,
   "id": "f6046501",
   "metadata": {},
   "outputs": [
    {
     "data": {
      "text/plain": [
       "True"
      ]
     },
     "execution_count": 6,
     "metadata": {},
     "output_type": "execute_result"
    }
   ],
   "source": [
    "['t', 'e', 's', 't', 'e', 'r'] not in letters[\"left_hand\"].values()"
   ]
  },
  {
   "cell_type": "code",
   "execution_count": null,
   "id": "d95e82c8",
   "metadata": {},
   "outputs": [],
   "source": []
  },
  {
   "cell_type": "code",
   "execution_count": null,
   "id": "f2d94581",
   "metadata": {},
   "outputs": [],
   "source": []
  },
  {
   "cell_type": "code",
   "execution_count": null,
   "id": "b0c3d734",
   "metadata": {},
   "outputs": [],
   "source": []
  },
  {
   "cell_type": "code",
   "execution_count": 26,
   "id": "ac29ef86",
   "metadata": {},
   "outputs": [
    {
     "name": "stdout",
     "output_type": "stream",
     "text": [
      "False\n",
      "False\n",
      "False\n"
     ]
    }
   ],
   "source": [
    "print(list(\"tester\") in letters[\"left_hand\"].values())\n",
    "\n",
    "print(list(\"polly\") in letters[\"right_hand\"].values())\n",
    "\n",
    "print(list(\"clarusway\") in letters.values())"
   ]
  },
  {
   "cell_type": "code",
   "execution_count": 34,
   "id": "61aa23cc",
   "metadata": {},
   "outputs": [
    {
     "name": "stdout",
     "output_type": "stream",
     "text": [
      "True\n",
      "False\n",
      "True\n",
      "False\n"
     ]
    }
   ],
   "source": [
    "print('q' in letters[\"left_hand\"].values())\n",
    "print('q' in letters[\"right_hand\"].values())\n",
    "\n",
    "print('q' and 'w' in letters[\"left_hand\"].values())\n",
    "print(['k', 'l'] in letters[\"right_hand\"].values())"
   ]
  },
  {
   "cell_type": "code",
   "execution_count": 24,
   "id": "24ebe16e",
   "metadata": {},
   "outputs": [
    {
     "name": "stdout",
     "output_type": "stream",
     "text": [
      "False\n"
     ]
    }
   ],
   "source": [
    "print(list(\"polly\") in letters[\"left_hand\"].values())"
   ]
  },
  {
   "cell_type": "code",
   "execution_count": null,
   "id": "40460107",
   "metadata": {},
   "outputs": [],
   "source": [
    "print(list(\"polly\") in letters[\"left_hand\"].values())"
   ]
  },
  {
   "cell_type": "code",
   "execution_count": 22,
   "id": "4de67ba7",
   "metadata": {},
   "outputs": [
    {
     "data": {
      "text/plain": [
       "['t', 'e', 's', 't', 'e', 'r']"
      ]
     },
     "execution_count": 22,
     "metadata": {},
     "output_type": "execute_result"
    }
   ],
   "source": [
    "list(\"tester\")"
   ]
  },
  {
   "cell_type": "code",
   "execution_count": 23,
   "id": "6bac2c76",
   "metadata": {},
   "outputs": [
    {
     "data": {
      "text/plain": [
       "['p', 'o', 'l', 'l', 'y']"
      ]
     },
     "execution_count": 23,
     "metadata": {},
     "output_type": "execute_result"
    }
   ],
   "source": [
    "list(\"polly\")"
   ]
  },
  {
   "cell_type": "code",
   "execution_count": null,
   "id": "0021bb4c",
   "metadata": {},
   "outputs": [],
   "source": [
    "right = ['y', 'u', 'i', 'o', 'p', 'h', 'j','k', 'l', 'n', 'm']\n",
    "left = ['q', 'w', 'e', 'r', 't', 'a', 's', 'd', 'f', 'g', 'z', 'x', 'c', 'v', 'b']"
   ]
  }
 ],
 "metadata": {
  "kernelspec": {
   "display_name": "Python 3 (ipykernel)",
   "language": "python",
   "name": "python3"
  },
  "language_info": {
   "codemirror_mode": {
    "name": "ipython",
    "version": 3
   },
   "file_extension": ".py",
   "mimetype": "text/x-python",
   "name": "python",
   "nbconvert_exporter": "python",
   "pygments_lexer": "ipython3",
   "version": "3.9.7"
  }
 },
 "nbformat": 4,
 "nbformat_minor": 5
}
