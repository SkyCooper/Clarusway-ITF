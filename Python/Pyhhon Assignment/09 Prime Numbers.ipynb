{
 "cells": [
  {
   "cell_type": "code",
   "execution_count": null,
   "id": "8175772a",
   "metadata": {},
   "outputs": [],
   "source": []
  },
  {
   "cell_type": "raw",
   "id": "17426c5d",
   "metadata": {},
   "source": [
    "Task : Print the prime numbers which are between 1 to entered limit number (n).\n",
    "1-You can use a nested for loop.\n",
    "2-Collect all these numbers into a list\n",
    "\n",
    "The desired output for n=100 :\n",
    "[2, 3, 5, 7, 11, 13, 17, 19, 23, 29, 31, 37, 41, 43, 47, 53, 59,\n",
    "61, 67, 71, 73, 79, 83, 89, 97]\n"
   ]
  },
  {
   "cell_type": "code",
   "execution_count": 18,
   "id": "fd8893ea",
   "metadata": {},
   "outputs": [
    {
     "name": "stdout",
     "output_type": "stream",
     "text": [
      "Give me a number >>> : 21\n",
      "[2, 3, 5, 7, 11, 13, 17, 19]\n"
     ]
    }
   ],
   "source": [
    "n = int(input(\"Give me a number >>> : \"))\n",
    "\n",
    "prime = []\n",
    "\n",
    "for num in range(2, n+1) :\n",
    "    status = True\n",
    "    for i in range(2, num) :\n",
    "        if num%i == 0 :\n",
    "            status = False\n",
    "    if status:\n",
    "        prime.append(num)\n",
    "\n",
    "print(prime)"
   ]
  },
  {
   "cell_type": "raw",
   "id": "35e1c4e2",
   "metadata": {},
   "source": []
  }
 ],
 "metadata": {
  "kernelspec": {
   "display_name": "Python 3 (ipykernel)",
   "language": "python",
   "name": "python3"
  },
  "language_info": {
   "codemirror_mode": {
    "name": "ipython",
    "version": 3
   },
   "file_extension": ".py",
   "mimetype": "text/x-python",
   "name": "python",
   "nbconvert_exporter": "python",
   "pygments_lexer": "ipython3",
   "version": "3.9.7"
  }
 },
 "nbformat": 4,
 "nbformat_minor": 5
}
