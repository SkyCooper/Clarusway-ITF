{
 "cells": [
  {
   "cell_type": "code",
   "execution_count": null,
   "id": "566e8a80",
   "metadata": {},
   "outputs": [],
   "source": []
  },
  {
   "cell_type": "raw",
   "id": "d101b772",
   "metadata": {},
   "source": [
    "Front-Back Char\n",
    "Given a string, return a new string where the first and last chars have been exchanged.\n",
    "For example:\n",
    "\n",
    "print(front_back('clarusway'))    ylaruswac\n",
    "print(front_back('a'))            a\n",
    "print(front_back('ab'))           ba"
   ]
  },
  {
   "cell_type": "code",
   "execution_count": 6,
   "id": "91c02234",
   "metadata": {},
   "outputs": [
    {
     "name": "stdout",
     "output_type": "stream",
     "text": [
      "ylaruswac\n",
      "a\n",
      "ba\n"
     ]
    }
   ],
   "source": [
    "def front_back(word):\n",
    "    if len(word)>1:\n",
    "        return word[-1]+word[1:-1]+word[0]\n",
    "    else:\n",
    "        return word\n",
    "print(front_back('clarusway'))\n",
    "print(front_back('a'))     \n",
    "print(front_back('ab'))"
   ]
  },
  {
   "cell_type": "raw",
   "id": "5ba7bc15",
   "metadata": {},
   "source": [
    "Find Minimum\n",
    "Define a function named my_min to find the min of the inputted numbers.\n",
    "For example:\n",
    "\n",
    "print(my_min(5,6,7))                5\n",
    "print(my_min(3,8,-9,0,12,1.2))     -9\n",
    "print(my_min(-100))                -100"
   ]
  },
  {
   "cell_type": "code",
   "execution_count": 4,
   "id": "0d91a0ca",
   "metadata": {},
   "outputs": [
    {
     "name": "stdout",
     "output_type": "stream",
     "text": [
      "5\n",
      "-9\n",
      "-100\n"
     ]
    }
   ],
   "source": [
    "def my_min(*number):\n",
    "    return min(number)\n",
    "\n",
    "print(my_min(5,6,7))               \n",
    "print(my_min(3,8,-9,0,12,1.2))    \n",
    "print(my_min(-100))           "
   ]
  },
  {
   "cell_type": "code",
   "execution_count": 3,
   "id": "177241bf",
   "metadata": {},
   "outputs": [
    {
     "name": "stdout",
     "output_type": "stream",
     "text": [
      "5\n",
      "-9\n",
      "-100\n"
     ]
    }
   ],
   "source": [
    "def my_min(*number):\n",
    "    num = number[0]\n",
    "    for i in number:\n",
    "        if i < num:\n",
    "            num = i\n",
    "    return num\n",
    "\n",
    "print(my_min(5,6,7))               \n",
    "print(my_min(3,8,-9,0,12,1.2))    \n",
    "print(my_min(-100)) "
   ]
  },
  {
   "cell_type": "raw",
   "id": "4991232a",
   "metadata": {},
   "source": [
    "Sum Numbers\n",
    "Define a function named my_sum to return the sum of all int type inputted numbers.\n",
    "For example:\n",
    "\n",
    "print(my_sum(9, 1, 3, 0, -1))     12\n",
    "print(my_sum(5, 7, 4))            16\n",
    "print(my_sum(10, -20, 30, 40))    60"
   ]
  },
  {
   "cell_type": "code",
   "execution_count": 9,
   "id": "fb2fd31f",
   "metadata": {},
   "outputs": [
    {
     "name": "stdout",
     "output_type": "stream",
     "text": [
      "12\n",
      "16\n",
      "60\n"
     ]
    }
   ],
   "source": [
    "def my_sum(*number):\n",
    "    return sum(number)\n",
    "\n",
    "print(my_sum(9, 1, 3, 0, -1))     \n",
    "print(my_sum(5, 7, 4))            \n",
    "print(my_sum(10, -20, 30, 40))    "
   ]
  },
  {
   "cell_type": "code",
   "execution_count": 5,
   "id": "f07f8878",
   "metadata": {},
   "outputs": [
    {
     "name": "stdout",
     "output_type": "stream",
     "text": [
      "12\n",
      "16\n",
      "60\n"
     ]
    }
   ],
   "source": [
    "def my_sum(*number):\n",
    "    sumnum = 0\n",
    "    for i in number:\n",
    "        sumnum += i\n",
    "    return sumnum\n",
    "\n",
    "print(my_sum(9, 1, 3, 0, -1))     \n",
    "print(my_sum(5, 7, 4))            \n",
    "print(my_sum(10, -20, 30, 40))   "
   ]
  },
  {
   "cell_type": "raw",
   "id": "3ca01729",
   "metadata": {},
   "source": [
    "Your Factorial\n",
    "Define a function named my_fact to calculate factorial of the given number. Given a non-negative integer return the factorial of the integer. (Example: The factorial of 5 is: 5*4*3*2*1 = 120 and factorial of 0 is: 1)\n",
    "For example:\n",
    "\n",
    "print(my_fact(5))    120\n",
    "print(my_fact(4))    24\n",
    "print(my_fact(3))    6"
   ]
  },
  {
   "cell_type": "code",
   "execution_count": 14,
   "id": "2b3b2702",
   "metadata": {},
   "outputs": [
    {
     "name": "stdout",
     "output_type": "stream",
     "text": [
      "120\n",
      "24\n",
      "6\n"
     ]
    }
   ],
   "source": [
    "def my_fact(n):\n",
    "    fact = 1\n",
    "    while n>0:\n",
    "        fact = fact * n\n",
    "        n -= 1\n",
    "    return fact\n",
    "\n",
    "print(my_fact(5))    \n",
    "print(my_fact(4))  \n",
    "print(my_fact(3))   "
   ]
  },
  {
   "cell_type": "raw",
   "id": "39387592",
   "metadata": {},
   "source": [
    "The Most Frequent Element\n",
    "Given a list, return the most frequent (repeating) element.\n",
    "Note : If there are the same number of repeating elements, it returns the first element that repeats most from left to right in the list.\n",
    "For example:\n",
    "\n",
    "print(most_freq([1,2,3,3,3,3,4,4,5,5]))   3\n",
    "print(most_freq([1,1,2,3,3]))             1\n",
    "print(most_freq([3,1,2,1,3]))             3"
   ]
  },
  {
   "cell_type": "code",
   "execution_count": 11,
   "id": "bf63d79a",
   "metadata": {},
   "outputs": [
    {
     "name": "stdout",
     "output_type": "stream",
     "text": [
      "3\n",
      "1\n",
      "3\n"
     ]
    }
   ],
   "source": [
    "def most_freq(given_list):\n",
    "    result = max(given_list, key = given_list.count)\n",
    "    return result\n",
    "\n",
    "print(most_freq([1,2,3,3,3,3,4,4,5,5]))   \n",
    "print(most_freq([1,1,2,3,3]))             \n",
    "print(most_freq([3,1,2,1,3]))             "
   ]
  },
  {
   "cell_type": "code",
   "execution_count": null,
   "id": "e9d90cd2",
   "metadata": {},
   "outputs": [],
   "source": []
  },
  {
   "cell_type": "code",
   "execution_count": null,
   "id": "35370e54",
   "metadata": {},
   "outputs": [],
   "source": []
  },
  {
   "cell_type": "code",
   "execution_count": null,
   "id": "dbd2f07a",
   "metadata": {},
   "outputs": [],
   "source": []
  },
  {
   "cell_type": "code",
   "execution_count": null,
   "id": "2d73a4a5",
   "metadata": {},
   "outputs": [],
   "source": []
  },
  {
   "cell_type": "code",
   "execution_count": null,
   "id": "df87de91",
   "metadata": {},
   "outputs": [],
   "source": []
  },
  {
   "cell_type": "code",
   "execution_count": null,
   "id": "6e35f134",
   "metadata": {},
   "outputs": [],
   "source": []
  },
  {
   "cell_type": "code",
   "execution_count": null,
   "id": "df95024f",
   "metadata": {},
   "outputs": [],
   "source": []
  },
  {
   "cell_type": "code",
   "execution_count": null,
   "id": "b12e0022",
   "metadata": {},
   "outputs": [],
   "source": []
  },
  {
   "cell_type": "code",
   "execution_count": null,
   "id": "7f580e4d",
   "metadata": {},
   "outputs": [],
   "source": []
  }
 ],
 "metadata": {
  "kernelspec": {
   "display_name": "Python 3 (ipykernel)",
   "language": "python",
   "name": "python3"
  },
  "language_info": {
   "codemirror_mode": {
    "name": "ipython",
    "version": 3
   },
   "file_extension": ".py",
   "mimetype": "text/x-python",
   "name": "python",
   "nbconvert_exporter": "python",
   "pygments_lexer": "ipython3",
   "version": "3.9.7"
  }
 },
 "nbformat": 4,
 "nbformat_minor": 5
}
