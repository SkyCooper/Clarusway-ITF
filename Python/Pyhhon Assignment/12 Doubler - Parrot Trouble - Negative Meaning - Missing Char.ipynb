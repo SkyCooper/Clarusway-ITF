{
 "cells": [
  {
   "cell_type": "code",
   "execution_count": null,
   "id": "78c03784",
   "metadata": {},
   "outputs": [],
   "source": [
    "21 Haziran 2022"
   ]
  },
  {
   "cell_type": "raw",
   "id": "75d50cd7",
   "metadata": {},
   "source": [
    "Assignment - 1 (Doubler)\n",
    "Given two integer values, return their sum. If the two values are the same, then return double their sum.\n",
    "print(sum_double(5, 7)) 12"
   ]
  },
  {
   "cell_type": "code",
   "execution_count": 12,
   "id": "2b02c8bb",
   "metadata": {},
   "outputs": [
    {
     "data": {
      "text/plain": [
       "9"
      ]
     },
     "execution_count": 12,
     "metadata": {},
     "output_type": "execute_result"
    }
   ],
   "source": [
    "def sum_double(x, y):\n",
    "    if x != y:\n",
    "        return x+y\n",
    "    elif x == y:\n",
    "        return x*4\n",
    "    \n",
    "sum_double(4, 5)"
   ]
  },
  {
   "cell_type": "raw",
   "id": "f782894a",
   "metadata": {},
   "source": [
    "Assignment - 2 (Parrot Trouble)\n",
    "We have a loud talking parrot. We are in trouble if the parrot is talking and the hour is before 6 or after 21.\n",
    "Define a function taking two parameters (talking and hour) to return True if we are in trouble. The argument to  talking parameter can only be True or False whether it is talking or not. The argument to hour parameter should be the current hour time in the range of 0 to 23.\n",
    "print(parrot_trouble(True, 5)) True\n",
    "print(parrot_trouble(True, 8)) False\n",
    "print(parrot_trouble(False, 22)) False"
   ]
  },
  {
   "cell_type": "code",
   "execution_count": 16,
   "id": "44ac8e5b",
   "metadata": {},
   "outputs": [
    {
     "name": "stdout",
     "output_type": "stream",
     "text": [
      "True\n"
     ]
    }
   ],
   "source": [
    "def parrot_trouble(talking, hour):\n",
    "    if talking == True and (hour<6 or hour>21):\n",
    "        return True\n",
    "    else:\n",
    "        return False\n",
    "print(parrot_trouble(False, 22))"
   ]
  },
  {
   "cell_type": "raw",
   "id": "1efc8b2e",
   "metadata": {},
   "source": [
    "Assignment - 3 (Negative Meaning)\n",
    "Define a function to take a word and return negative meaning.\n",
    "Given a word, return a new word where \"not \" has been added to the front. However, if the word already begins with \"not\", return the string unchanged.\n",
    "print(not_string('sugar')) not sugar\n",
    "print(not_string('x')) not x\n",
    "print(not_string('not bad')) not bad"
   ]
  },
  {
   "cell_type": "code",
   "execution_count": 32,
   "id": "297a43ee",
   "metadata": {},
   "outputs": [
    {
     "data": {
      "text/plain": [
       "'not sugar'"
      ]
     },
     "execution_count": 32,
     "metadata": {},
     "output_type": "execute_result"
    }
   ],
   "source": [
    "def not_string(word):\n",
    "    i = 'not'\n",
    "    if i in word:\n",
    "        return word\n",
    "    else:\n",
    "        return i + \" \" + word\n",
    "not_string(\"sugar\")"
   ]
  },
  {
   "cell_type": "raw",
   "id": "dff3d606",
   "metadata": {},
   "source": [
    "Assignment - 4 (Missing Char)\n",
    "Given a non-empty string and an int n, return a new string where the character at index n has been removed. The value of n will be a valid index of a character in the original string (i.e. n will be in the range 0....len(str)-1 inclusive).\n",
    "For example:\n",
    "print(missing_char('kitchen', 1)) ktchen\n",
    "print(missing_char('kitchen', 0)) itchen\n",
    "print(missing_char('kitchen', 4)) kitcen"
   ]
  },
  {
   "cell_type": "code",
   "execution_count": 25,
   "id": "f77a79c0",
   "metadata": {},
   "outputs": [
    {
     "data": {
      "text/plain": [
       "'itchen'"
      ]
     },
     "execution_count": 25,
     "metadata": {},
     "output_type": "execute_result"
    }
   ],
   "source": [
    "def missing_char(word, n):\n",
    "    new_word = \"\"\n",
    "    liste = list(word)\n",
    "    eksik = liste.pop(n)\n",
    "    for i in liste:\n",
    "         new_word += i\n",
    "    return new_word\n",
    "missing_char(\"kitchen\", 0)"
   ]
  },
  {
   "cell_type": "code",
   "execution_count": 26,
   "id": "cda3c140",
   "metadata": {},
   "outputs": [
    {
     "data": {
      "text/plain": [
       "'itchen'"
      ]
     },
     "execution_count": 26,
     "metadata": {},
     "output_type": "execute_result"
    }
   ],
   "source": [
    "def missing_char(word, n):\n",
    "    ilk_word = word[:n]\n",
    "    son_word = word[n+1:]\n",
    "    return ilk_word + son_word\n",
    "missing_char(\"kitchen\", 0)"
   ]
  },
  {
   "cell_type": "code",
   "execution_count": 27,
   "id": "d8158f8f",
   "metadata": {},
   "outputs": [
    {
     "data": {
      "text/plain": [
       "'itchen'"
      ]
     },
     "execution_count": 27,
     "metadata": {},
     "output_type": "execute_result"
    }
   ],
   "source": [
    "def missing_char(word, n):\n",
    "    return word.replace(word[n], \"\")\n",
    "missing_char(\"kitchen\", 0)"
   ]
  },
  {
   "cell_type": "code",
   "execution_count": 24,
   "id": "5097679a",
   "metadata": {},
   "outputs": [
    {
     "data": {
      "text/plain": [
       "'clrusway'"
      ]
     },
     "execution_count": 24,
     "metadata": {},
     "output_type": "execute_result"
    }
   ],
   "source": [
    "cümle = \"clarusway\"\n",
    "n = 2\n",
    "ilk_word = cümle[:n]\n",
    "son_word = cümle[n+1:]\n",
    "ilk_word + son_word"
   ]
  },
  {
   "cell_type": "code",
   "execution_count": 23,
   "id": "63aea32f",
   "metadata": {},
   "outputs": [
    {
     "data": {
      "text/plain": [
       "0"
      ]
     },
     "execution_count": 23,
     "metadata": {},
     "output_type": "execute_result"
    }
   ],
   "source": [
    "cümle = \"clarusway\"\n",
    "cümle.find(cümle[0])"
   ]
  },
  {
   "cell_type": "code",
   "execution_count": null,
   "id": "72419460",
   "metadata": {},
   "outputs": [],
   "source": [
    "cümle.find()"
   ]
  },
  {
   "cell_type": "code",
   "execution_count": 37,
   "id": "6f43991a",
   "metadata": {},
   "outputs": [
    {
     "data": {
      "text/plain": [
       "'kichen'"
      ]
     },
     "execution_count": 37,
     "metadata": {},
     "output_type": "execute_result"
    }
   ],
   "source": [
    "def missing_char(word, n):\n",
    "    new = word.split(word[n])\n",
    "    return new[0]+new[1]\n",
    "missing_char(\"kitchen\", 2)"
   ]
  },
  {
   "cell_type": "code",
   "execution_count": null,
   "id": "1e36d0b3",
   "metadata": {},
   "outputs": [],
   "source": [
    "a = \"Hello, World!\"\n",
    "print(a.split(\",\")) # returns ['Hello', ' World!']"
   ]
  },
  {
   "cell_type": "code",
   "execution_count": 34,
   "id": "a6f9c77c",
   "metadata": {},
   "outputs": [
    {
     "data": {
      "text/plain": [
       "['cl', 'rusw', 'y']"
      ]
     },
     "execution_count": 34,
     "metadata": {},
     "output_type": "execute_result"
    }
   ],
   "source": [
    "n = 2\n",
    "word = \"clarusway\"\n",
    "new = word.split(word[n])\n",
    "new\n",
    "#new[0]+new[1]"
   ]
  },
  {
   "cell_type": "code",
   "execution_count": null,
   "id": "8c76b879",
   "metadata": {},
   "outputs": [],
   "source": []
  },
  {
   "cell_type": "code",
   "execution_count": null,
   "id": "eb183b0c",
   "metadata": {},
   "outputs": [],
   "source": []
  }
 ],
 "metadata": {
  "kernelspec": {
   "display_name": "Python 3 (ipykernel)",
   "language": "python",
   "name": "python3"
  },
  "language_info": {
   "codemirror_mode": {
    "name": "ipython",
    "version": 3
   },
   "file_extension": ".py",
   "mimetype": "text/x-python",
   "name": "python",
   "nbconvert_exporter": "python",
   "pygments_lexer": "ipython3",
   "version": "3.9.7"
  }
 },
 "nbformat": 4,
 "nbformat_minor": 5
}
