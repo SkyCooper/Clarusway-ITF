{
 "cells": [
  {
   "cell_type": "code",
   "execution_count": null,
   "id": "20fff490",
   "metadata": {},
   "outputs": [],
   "source": [
    "#--->1"
   ]
  },
  {
   "cell_type": "code",
   "execution_count": 28,
   "id": "57b0697e",
   "metadata": {},
   "outputs": [
    {
     "name": "stdout",
     "output_type": "stream",
     "text": [
      "pp\n",
      "rr\n",
      "qq\n"
     ]
    }
   ],
   "source": [
    "for x in set('pqr'):\n",
    "    print(x*2)"
   ]
  },
  {
   "cell_type": "code",
   "execution_count": 3,
   "id": "cf4782b3",
   "metadata": {},
   "outputs": [
    {
     "data": {
      "text/plain": [
       "{'p', 'q', 'r'}"
      ]
     },
     "execution_count": 3,
     "metadata": {},
     "output_type": "execute_result"
    }
   ],
   "source": [
    "set('pqr')"
   ]
  },
  {
   "cell_type": "code",
   "execution_count": 6,
   "id": "044d175d",
   "metadata": {},
   "outputs": [
    {
     "name": "stdout",
     "output_type": "stream",
     "text": [
      "pp\n"
     ]
    }
   ],
   "source": [
    "print(\"p\"*2)"
   ]
  },
  {
   "cell_type": "code",
   "execution_count": null,
   "id": "6bde40fe",
   "metadata": {},
   "outputs": [],
   "source": [
    "#--->>> 2"
   ]
  },
  {
   "cell_type": "code",
   "execution_count": 8,
   "id": "a8a9528e",
   "metadata": {},
   "outputs": [
    {
     "name": "stdout",
     "output_type": "stream",
     "text": [
      "{}\n"
     ]
    }
   ],
   "source": [
    "d = {}\n",
    "print(d)"
   ]
  },
  {
   "cell_type": "code",
   "execution_count": 10,
   "id": "6970de03",
   "metadata": {},
   "outputs": [
    {
     "name": "stdout",
     "output_type": "stream",
     "text": [
      "{'john': 40, 'peter': 45}\n"
     ]
    }
   ],
   "source": [
    "d = {\"john\":40, \"peter\":45}\n",
    "print(d)"
   ]
  },
  {
   "cell_type": "code",
   "execution_count": 11,
   "id": "54a860a2",
   "metadata": {},
   "outputs": [
    {
     "name": "stdout",
     "output_type": "stream",
     "text": [
      "{40: 'john', 45: 'peter'}\n"
     ]
    }
   ],
   "source": [
    "d = {40:\"john\", 45:\"peter\"}\n",
    "print(d)"
   ]
  },
  {
   "cell_type": "code",
   "execution_count": null,
   "id": "1d68664e",
   "metadata": {},
   "outputs": [],
   "source": [
    "#---->>3"
   ]
  },
  {
   "cell_type": "code",
   "execution_count": 12,
   "id": "6d226b8b",
   "metadata": {},
   "outputs": [
    {
     "data": {
      "text/plain": [
       "40"
      ]
     },
     "execution_count": 12,
     "metadata": {},
     "output_type": "execute_result"
    }
   ],
   "source": [
    "d = {\"john\":40, \"peter\":45}\n",
    "d[\"john\"]"
   ]
  },
  {
   "cell_type": "code",
   "execution_count": null,
   "id": "02368dbc",
   "metadata": {},
   "outputs": [],
   "source": [
    "#--->4"
   ]
  },
  {
   "cell_type": "code",
   "execution_count": 13,
   "id": "601e8ccb",
   "metadata": {},
   "outputs": [
    {
     "name": "stdout",
     "output_type": "stream",
     "text": [
      "['john', 'peter']\n"
     ]
    }
   ],
   "source": [
    "d = {\"john\":40, \"peter\":45}\n",
    "print(list(d.keys()))"
   ]
  },
  {
   "cell_type": "code",
   "execution_count": 17,
   "id": "88e52584",
   "metadata": {},
   "outputs": [
    {
     "data": {
      "text/plain": [
       "dict_keys(['john', 'peter'])"
      ]
     },
     "execution_count": 17,
     "metadata": {},
     "output_type": "execute_result"
    }
   ],
   "source": [
    "d.keys()"
   ]
  },
  {
   "cell_type": "code",
   "execution_count": 15,
   "id": "cebc0e25",
   "metadata": {},
   "outputs": [
    {
     "data": {
      "text/plain": [
       "dict_items([('john', 40), ('peter', 45)])"
      ]
     },
     "execution_count": 15,
     "metadata": {},
     "output_type": "execute_result"
    }
   ],
   "source": [
    "d.items()"
   ]
  },
  {
   "cell_type": "code",
   "execution_count": 16,
   "id": "cd9b7bbc",
   "metadata": {},
   "outputs": [
    {
     "data": {
      "text/plain": [
       "dict_values([40, 45])"
      ]
     },
     "execution_count": 16,
     "metadata": {},
     "output_type": "execute_result"
    }
   ],
   "source": [
    "d.values()"
   ]
  },
  {
   "cell_type": "code",
   "execution_count": null,
   "id": "c5c8fde9",
   "metadata": {},
   "outputs": [],
   "source": [
    "#----> 5"
   ]
  },
  {
   "cell_type": "code",
   "execution_count": 18,
   "id": "83ff3e43",
   "metadata": {},
   "outputs": [
    {
     "name": "stdout",
     "output_type": "stream",
     "text": [
      "{'a': 1, 'b': [2, 3, 4]}\n"
     ]
    }
   ],
   "source": [
    "a={}\n",
    "a['a']=1\n",
    "a['b']=[2,3,4]\n",
    "print(a)"
   ]
  },
  {
   "cell_type": "code",
   "execution_count": null,
   "id": "909e3c11",
   "metadata": {},
   "outputs": [],
   "source": [
    "#---->6"
   ]
  },
  {
   "cell_type": "code",
   "execution_count": 19,
   "id": "47a1fc75",
   "metadata": {},
   "outputs": [
    {
     "name": "stdout",
     "output_type": "stream",
     "text": [
      "{'b', 'q', 'p', 'a', 'c', 'san'}\n"
     ]
    }
   ],
   "source": [
    "z = set('abc')\n",
    "z.add('san')\n",
    "z.update(set(['p', 'q']))\n",
    "print(z)"
   ]
  },
  {
   "cell_type": "code",
   "execution_count": 22,
   "id": "ce4f438e",
   "metadata": {},
   "outputs": [
    {
     "name": "stdout",
     "output_type": "stream",
     "text": [
      "{'a', 'b', 'c'}\n"
     ]
    }
   ],
   "source": [
    "z = set('abc')\n",
    "print(z)"
   ]
  },
  {
   "cell_type": "code",
   "execution_count": 23,
   "id": "335e1e58",
   "metadata": {},
   "outputs": [
    {
     "name": "stdout",
     "output_type": "stream",
     "text": [
      "{'a', 'b', 'san', 'c'}\n"
     ]
    }
   ],
   "source": [
    "z.add('san')\n",
    "print(z)"
   ]
  },
  {
   "cell_type": "code",
   "execution_count": null,
   "id": "f0a42a44",
   "metadata": {},
   "outputs": [],
   "source": [
    "#---->7"
   ]
  },
  {
   "cell_type": "code",
   "execution_count": 26,
   "id": "2773ee47",
   "metadata": {},
   "outputs": [
    {
     "name": "stdout",
     "output_type": "stream",
     "text": [
      "2 apple 3.5\n"
     ]
    }
   ],
   "source": [
    "count, fruit, price = (2, 'apple', 3.5)\n",
    "print(count, fruit, price)"
   ]
  },
  {
   "cell_type": "code",
   "execution_count": null,
   "id": "372c2c40",
   "metadata": {},
   "outputs": [],
   "source": [
    "#--->8"
   ]
  },
  {
   "cell_type": "code",
   "execution_count": 27,
   "id": "359bcb0b",
   "metadata": {},
   "outputs": [
    {
     "name": "stdout",
     "output_type": "stream",
     "text": [
      "[(2019, 'Freshman'), (2020, 'Sophomore'), (2021, 'Junior'), (2022, 'Senior')]\n"
     ]
    }
   ],
   "source": [
    "college_years = ['Freshman', 'Sophomore', 'Junior', 'Senior']\n",
    "print(list(enumerate(college_years, 2019)))"
   ]
  },
  {
   "cell_type": "code",
   "execution_count": null,
   "id": "19dd6bfa",
   "metadata": {},
   "outputs": [],
   "source": []
  },
  {
   "cell_type": "code",
   "execution_count": null,
   "id": "3ec88b94",
   "metadata": {},
   "outputs": [],
   "source": []
  }
 ],
 "metadata": {
  "kernelspec": {
   "display_name": "Python 3 (ipykernel)",
   "language": "python",
   "name": "python3"
  },
  "language_info": {
   "codemirror_mode": {
    "name": "ipython",
    "version": 3
   },
   "file_extension": ".py",
   "mimetype": "text/x-python",
   "name": "python",
   "nbconvert_exporter": "python",
   "pygments_lexer": "ipython3",
   "version": "3.9.7"
  }
 },
 "nbformat": 4,
 "nbformat_minor": 5
}
