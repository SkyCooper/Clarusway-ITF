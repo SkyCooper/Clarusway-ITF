{
 "cells": [
  {
   "cell_type": "code",
   "execution_count": null,
   "id": "31d8d8c7",
   "metadata": {},
   "outputs": [],
   "source": []
  },
  {
   "cell_type": "code",
   "execution_count": null,
   "id": "d2a2405d",
   "metadata": {},
   "outputs": [],
   "source": []
  },
  {
   "cell_type": "code",
   "execution_count": 57,
   "id": "e03d43dc",
   "metadata": {},
   "outputs": [
    {
     "name": "stdout",
     "output_type": "stream",
     "text": [
      "2 apple 3.5\n"
     ]
    }
   ],
   "source": [
    "count, fruit, price = (2, 'apple', 3.5)\n",
    "print(count, fruit, price)"
   ]
  },
  {
   "cell_type": "code",
   "execution_count": null,
   "id": "c1d4dcf3",
   "metadata": {},
   "outputs": [],
   "source": []
  },
  {
   "cell_type": "markdown",
   "id": "39ee466f",
   "metadata": {},
   "source": [
    " What built-in list method would you use to remove items from a list in Python?"
   ]
  },
  {
   "cell_type": "code",
   "execution_count": 47,
   "id": "444b312c",
   "metadata": {},
   "outputs": [
    {
     "name": "stdout",
     "output_type": "stream",
     "text": [
      "[1, 'a', False, 1.44, 'deli', 4285]\n",
      "[1, 'a', False, 1.44, 'deli']\n",
      "[1, 'a', 1.44, 'deli']\n"
     ]
    }
   ],
   "source": [
    "listem = [1, 'a', False, 1.44, \"deli\", 4285]\n",
    "print(listem)\n",
    "listem.pop() # default en son indexi çıkarır\n",
    "print(listem)\n",
    "listem.pop(2) # 2 numaralı indexi çıkarır\n",
    "print(listem)"
   ]
  },
  {
   "cell_type": "code",
   "execution_count": 51,
   "id": "1a4b196c",
   "metadata": {},
   "outputs": [
    {
     "name": "stdout",
     "output_type": "stream",
     "text": [
      "[1, 'a', False, 1.44, 'deli', 4285]\n",
      "[1, 'a', False, 1.44, 4285]\n"
     ]
    }
   ],
   "source": [
    "listem = [1, 'a', False, 1.44, \"deli\", 4285]\n",
    "print(listem)\n",
    "listem.remove(\"deli\") #belirtilen elemanı çıkarır.\n",
    "print(listem)"
   ]
  },
  {
   "cell_type": "code",
   "execution_count": 52,
   "id": "40a16134",
   "metadata": {},
   "outputs": [
    {
     "name": "stdout",
     "output_type": "stream",
     "text": [
      "[1, 'a', False, 1.44, 'deli', 4285]\n",
      "[]\n"
     ]
    }
   ],
   "source": [
    "listem = [1, 'a', False, 1.44, \"deli\", 4285]\n",
    "print(listem)\n",
    "listem.clear() # bütün elemanları çıkarır.\n",
    "print(listem)"
   ]
  },
  {
   "cell_type": "code",
   "execution_count": 1,
   "id": "688a1938",
   "metadata": {},
   "outputs": [
    {
     "name": "stdout",
     "output_type": "stream",
     "text": [
      "[1, 'a', False, 1.44, 'deli', 4285]\n"
     ]
    },
    {
     "ename": "NameError",
     "evalue": "name 'listem' is not defined",
     "output_type": "error",
     "traceback": [
      "\u001b[1;31m---------------------------------------------------------------------------\u001b[0m",
      "\u001b[1;31mNameError\u001b[0m                                 Traceback (most recent call last)",
      "\u001b[1;32m~\\AppData\\Local\\Temp/ipykernel_9188/3583420304.py\u001b[0m in \u001b[0;36m<module>\u001b[1;34m\u001b[0m\n\u001b[0;32m      2\u001b[0m \u001b[0mprint\u001b[0m\u001b[1;33m(\u001b[0m\u001b[0mlistem\u001b[0m\u001b[1;33m)\u001b[0m\u001b[1;33m\u001b[0m\u001b[1;33m\u001b[0m\u001b[0m\n\u001b[0;32m      3\u001b[0m \u001b[1;32mdel\u001b[0m\u001b[1;33m(\u001b[0m\u001b[0mlistem\u001b[0m\u001b[1;33m)\u001b[0m \u001b[1;31m#----> değikeni siler\u001b[0m\u001b[1;33m\u001b[0m\u001b[1;33m\u001b[0m\u001b[0m\n\u001b[1;32m----> 4\u001b[1;33m \u001b[0mprint\u001b[0m\u001b[1;33m(\u001b[0m\u001b[0mlistem\u001b[0m\u001b[1;33m)\u001b[0m\u001b[1;33m\u001b[0m\u001b[1;33m\u001b[0m\u001b[0m\n\u001b[0m",
      "\u001b[1;31mNameError\u001b[0m: name 'listem' is not defined"
     ]
    }
   ],
   "source": [
    "listem = [1, 'a', False, 1.44, \"deli\", 4285]\n",
    "print(listem)\n",
    "del(listem) #----> değikeni siler\n",
    "print(listem)"
   ]
  },
  {
   "cell_type": "code",
   "execution_count": null,
   "id": "efbe7f48",
   "metadata": {},
   "outputs": [],
   "source": []
  },
  {
   "cell_type": "code",
   "execution_count": null,
   "id": "ef8847d9",
   "metadata": {},
   "outputs": [],
   "source": []
  },
  {
   "cell_type": "code",
   "execution_count": null,
   "id": "3a6b9abb",
   "metadata": {},
   "outputs": [],
   "source": []
  },
  {
   "cell_type": "code",
   "execution_count": null,
   "id": "806aa003",
   "metadata": {},
   "outputs": [],
   "source": []
  },
  {
   "cell_type": "code",
   "execution_count": null,
   "id": "b9722447",
   "metadata": {},
   "outputs": [],
   "source": []
  },
  {
   "cell_type": "markdown",
   "id": "1b214b08",
   "metadata": {},
   "source": [
    "https://www.w3schools.com/python/ref_func_enumerate.asp"
   ]
  },
  {
   "cell_type": "markdown",
   "id": "7db6283c",
   "metadata": {},
   "source": [
    "https://steemit.com/palnet/@elektroyazilim/enumerate-fonksiyonu-1-python-dersleri-tutorials"
   ]
  },
  {
   "cell_type": "code",
   "execution_count": 23,
   "id": "fe0ac3b0",
   "metadata": {},
   "outputs": [
    {
     "name": "stdout",
     "output_type": "stream",
     "text": [
      "<enumerate object at 0x000001A2D4C43780>\n"
     ]
    }
   ],
   "source": [
    "isim = 'ece' \n",
    "yeni_isim = enumerate(isim)\n",
    "print(yeni_isim)"
   ]
  },
  {
   "cell_type": "code",
   "execution_count": 22,
   "id": "af3496b9",
   "metadata": {},
   "outputs": [
    {
     "name": "stdout",
     "output_type": "stream",
     "text": [
      "[(0, 'e'), (1, 'c'), (2, 'e')]\n"
     ]
    }
   ],
   "source": [
    "isim = 'ece' \n",
    "yeni_isim = enumerate(isim)\n",
    "print(list(yeni_isim))"
   ]
  },
  {
   "cell_type": "code",
   "execution_count": 5,
   "id": "ab1a0e2e",
   "metadata": {},
   "outputs": [
    {
     "name": "stdout",
     "output_type": "stream",
     "text": [
      "<class 'str'>\n",
      "[(-3, 'E'), (-2, 'F'), (-1, 'E')]\n",
      "<class 'list'>\n"
     ]
    }
   ],
   "source": [
    "isim = 'EFE'\n",
    "print(type(isim))\n",
    "\n",
    "print(list(enumerate(isim, -3)))\n",
    "\n",
    "print(type(list(enumerate(isim))))"
   ]
  },
  {
   "cell_type": "code",
   "execution_count": 13,
   "id": "4f4b274f",
   "metadata": {},
   "outputs": [
    {
     "name": "stdout",
     "output_type": "stream",
     "text": [
      "[(11, 'E'), (12, 'M'), (13, 'R'), (14, 'E')]\n"
     ]
    }
   ],
   "source": [
    "isim = 'EMRE' \n",
    "print(list(enumerate(isim, 11)))"
   ]
  },
  {
   "cell_type": "code",
   "execution_count": null,
   "id": "72ad1f72",
   "metadata": {},
   "outputs": [],
   "source": []
  },
  {
   "cell_type": "code",
   "execution_count": 1,
   "id": "b2c17451",
   "metadata": {},
   "outputs": [
    {
     "name": "stdout",
     "output_type": "stream",
     "text": [
      "[(2019, 'Freshman'), (2020, 'Sophomore'), (2021, 'Junior'), (2022, 'Senior')]\n"
     ]
    }
   ],
   "source": [
    "college_years = ['Freshman', 'Sophomore', 'Junior', 'Senior'] \n",
    "print(list(enumerate(college_years, 2019)))"
   ]
  },
  {
   "cell_type": "code",
   "execution_count": 2,
   "id": "897cf9f0",
   "metadata": {},
   "outputs": [
    {
     "name": "stdout",
     "output_type": "stream",
     "text": [
      "[(0, 'Freshman'), (1, 'Sophomore'), (2, 'Junior'), (3, 'Senior')]\n"
     ]
    }
   ],
   "source": [
    "college_years = ['Freshman', 'Sophomore', 'Junior', 'Senior'] \n",
    "print(list(enumerate(college_years)))"
   ]
  },
  {
   "cell_type": "code",
   "execution_count": 4,
   "id": "dcf91ca7",
   "metadata": {},
   "outputs": [
    {
     "name": "stdout",
     "output_type": "stream",
     "text": [
      "((2019, 'Freshman'), (2020, 'Sophomore'), (2021, 'Junior'), (2022, 'Senior'))\n"
     ]
    }
   ],
   "source": [
    "college_years = ['Freshman', 'Sophomore', 'Junior', 'Senior'] \n",
    "print(tuple(enumerate(college_years, 2019)))"
   ]
  },
  {
   "cell_type": "code",
   "execution_count": 5,
   "id": "9b8bca3a",
   "metadata": {},
   "outputs": [
    {
     "name": "stdout",
     "output_type": "stream",
     "text": [
      "{2019: 'Freshman', 2020: 'Sophomore', 2021: 'Junior', 2022: 'Senior'}\n"
     ]
    }
   ],
   "source": [
    "college_years = ['Freshman', 'Sophomore', 'Junior', 'Senior'] \n",
    "print(dict(enumerate(college_years, 2019)))"
   ]
  },
  {
   "cell_type": "code",
   "execution_count": null,
   "id": "8c3e952f",
   "metadata": {},
   "outputs": [],
   "source": []
  },
  {
   "cell_type": "code",
   "execution_count": null,
   "id": "a0df095c",
   "metadata": {},
   "outputs": [],
   "source": []
  },
  {
   "cell_type": "code",
   "execution_count": 25,
   "id": "21077305",
   "metadata": {},
   "outputs": [
    {
     "data": {
      "text/plain": [
       "[('Apples', 5, 1.5), ('Oranges', 3, 2.25), ('Bananas', 4, 0.89)]"
      ]
     },
     "execution_count": 25,
     "metadata": {},
     "output_type": "execute_result"
    }
   ],
   "source": [
    "fruits = ['Apples', 'Oranges', 'Bananas'] \n",
    "quantities = [5, 3, 4] \n",
    "prices = [1.50, 2.25, 0.89] \n",
    "# Desired output \n",
    "[('Apples', 5, 1.50), \n",
    "('Oranges', 3, 2.25), \n",
    "('Bananas', 4, 0.89)] "
   ]
  },
  {
   "cell_type": "code",
   "execution_count": 6,
   "id": "835e3fd8",
   "metadata": {},
   "outputs": [
    {
     "name": "stdout",
     "output_type": "stream",
     "text": [
      "('Apples', 5, 1.5) ('Oranges', 3, 2.25) ('Bananas', 4, 0.89)\n",
      "[[...], [...], [...]]\n"
     ]
    }
   ],
   "source": [
    "# A ---> çıtısı TUPLE oldu, output boşa tanımlanmış. her seferinde içine boş liste ekledi\n",
    "\n",
    "fruits = ['Apples', 'Oranges', 'Bananas'] \n",
    "quantities = [5, 3, 4] \n",
    "prices = [1.50, 2.25, 0.89] \n",
    "output=[] \n",
    " \n",
    "fruit_tuple_0 = (fruits[0], quantities[0], prices[0]) \n",
    "output.append(output) \n",
    "fruit_tuple_1 = (fruits[1], quantities[1], prices[1]) \n",
    "output.append(output) \n",
    "fruit_tuple_2 = (fruits[2], quantities[2], prices[2]) \n",
    "output.append(output) \n",
    "print(fruit_tuple_0, fruit_tuple_1, fruit_tuple_2)\n",
    "print(output)"
   ]
  },
  {
   "cell_type": "code",
   "execution_count": 41,
   "id": "541efd5f",
   "metadata": {},
   "outputs": [
    {
     "name": "stdout",
     "output_type": "stream",
     "text": [
      "[('Apples', 5, 1.5), ('Oranges', 3, 2.25), ('Bananas', 4, 0.89)]\n"
     ]
    }
   ],
   "source": [
    "# A ---> doğru olması için, ----> append ataması doğru olmalı ve output print edilmeli\n",
    "\n",
    "fruits = ['Apples', 'Oranges', 'Bananas'] \n",
    "quantities = [5, 3, 4] \n",
    "prices = [1.50, 2.25, 0.89] \n",
    "output=[] \n",
    " \n",
    "fruit_tuple_0 = (fruits[0], quantities[0], prices[0]) \n",
    "output.append(fruit_tuple_0) #---->\n",
    "fruit_tuple_1 = (fruits[1], quantities[1], prices[1]) \n",
    "output.append(fruit_tuple_1) #---->\n",
    "fruit_tuple_2 = (fruits[2], quantities[2], prices[2]) \n",
    "output.append(fruit_tuple_2) #---->\n",
    "# print(fruit_tuple_0, fruit_tuple_1, fruit_tuple_2)\n",
    "print(output)"
   ]
  },
  {
   "cell_type": "code",
   "execution_count": 29,
   "id": "7d4225e2",
   "metadata": {},
   "outputs": [
    {
     "name": "stdout",
     "output_type": "stream",
     "text": [
      "[('Apples', 5, 1.5), ('Oranges', 3, 2.25), ('Bananas', 4, 0.89)]\n"
     ]
    }
   ],
   "source": [
    "# B ---> DOĞRU \n",
    "\n",
    "fruits = ['Apples', 'Oranges', 'Bananas'] \n",
    "quantities = [5, 3, 4] \n",
    "prices = [1.50, 2.25, 0.89] \n",
    "i = 0 \n",
    "output = [] \n",
    "for fruit in fruits: \n",
    "    temp_qty = quantities[i] \n",
    "    temp_price = prices[i] \n",
    "    output.append((fruit, temp_qty, temp_price))\n",
    "    i += 1 \n",
    "print(output)"
   ]
  },
  {
   "cell_type": "code",
   "execution_count": 30,
   "id": "b6beb04e",
   "metadata": {},
   "outputs": [
    {
     "name": "stdout",
     "output_type": "stream",
     "text": [
      "[('Apples', 5, 1.5), ('Oranges', 3, 2.25), ('Bananas', 4, 0.89)]\n"
     ]
    }
   ],
   "source": [
    "# C ---> DOĞRU\n",
    "\n",
    "fruits = ['Apples', 'Oranges', 'Bananas'] \n",
    "quantities = [5, 3, 4] \n",
    "prices = [1.50, 2.25, 0.89] \n",
    " \n",
    "groceries = zip(fruits, quantities, prices) \n",
    "print(list(groceries)) "
   ]
  },
  {
   "cell_type": "markdown",
   "id": "ee6060f7",
   "metadata": {},
   "source": [
    "# zip fonskiyonu;\n",
    "\n",
    "https://steemit.com/palnet/@elektroyazilim/zip-fonksiyonu-1-python-dersleri-tutorials\n"
   ]
  },
  {
   "cell_type": "code",
   "execution_count": 31,
   "id": "af06fea5",
   "metadata": {},
   "outputs": [
    {
     "name": "stdout",
     "output_type": "stream",
     "text": [
      "[('Apples', 5, 1.5), ('Apples', 5, 2.25), ('Apples', 5, 0.89), ('Apples', 3, 1.5), ('Apples', 3, 2.25), ('Apples', 3, 0.89), ('Apples', 4, 1.5), ('Apples', 4, 2.25), ('Apples', 4, 0.89), ('Oranges', 5, 1.5), ('Oranges', 5, 2.25), ('Oranges', 5, 0.89), ('Oranges', 3, 1.5), ('Oranges', 3, 2.25), ('Oranges', 3, 0.89), ('Oranges', 4, 1.5), ('Oranges', 4, 2.25), ('Oranges', 4, 0.89), ('Bananas', 5, 1.5), ('Bananas', 5, 2.25), ('Bananas', 5, 0.89), ('Bananas', 3, 1.5), ('Bananas', 3, 2.25), ('Bananas', 3, 0.89), ('Bananas', 4, 1.5), ('Bananas', 4, 2.25), ('Bananas', 4, 0.89)]\n"
     ]
    }
   ],
   "source": [
    "# D ---> iç içe for kullanımından dolayı 3*3*3 = 27 elemanlı çıktı verir.\n",
    "\n",
    "fruits = ['Apples', 'Oranges', 'Bananas'] \n",
    "quantities = [5, 3, 4] \n",
    "prices = [1.50, 2.25, 0.89] \n",
    "i = 0 \n",
    "output = [] \n",
    "for fruit in fruits: \n",
    "  for qty in quantities: \n",
    "    for price in prices: \n",
    "        output.append((fruit, qty, price)) \n",
    "  i += 1 \n",
    "print(output)"
   ]
  },
  {
   "cell_type": "code",
   "execution_count": null,
   "id": "ce27bc14",
   "metadata": {},
   "outputs": [],
   "source": []
  }
 ],
 "metadata": {
  "kernelspec": {
   "display_name": "Python 3 (ipykernel)",
   "language": "python",
   "name": "python3"
  },
  "language_info": {
   "codemirror_mode": {
    "name": "ipython",
    "version": 3
   },
   "file_extension": ".py",
   "mimetype": "text/x-python",
   "name": "python",
   "nbconvert_exporter": "python",
   "pygments_lexer": "ipython3",
   "version": "3.9.7"
  }
 },
 "nbformat": 4,
 "nbformat_minor": 5
}
