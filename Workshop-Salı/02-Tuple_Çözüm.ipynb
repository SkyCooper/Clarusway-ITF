{
 "cells": [
  {
   "cell_type": "markdown",
   "metadata": {},
   "source": [
    "<p>Given the code below, use the correct method on line 3 in order to find out the number of elements in <strong>my_tup</strong>.</p>"
   ]
  },
  {
   "cell_type": "code",
   "execution_count": 1,
   "metadata": {},
   "outputs": [
    {
     "name": "stdout",
     "output_type": "stream",
     "text": [
      "7\n"
     ]
    }
   ],
   "source": [
    "my_tup = (\"Romania\", \"Poland\", \"Estonia\", \"Bulgaria\", \"Slovakia\", \"Slovenia\", \"Hungary\")\n",
    "\n",
    "number = len(my_tup)\n",
    "\n",
    "print(number)"
   ]
  },
  {
   "cell_type": "markdown",
   "metadata": {},
   "source": [
    "<p>Given the code below, use the correct method on line 3 in order to find out the index of <strong>Slovakia </strong>in <strong>my_tup</strong>.</p>"
   ]
  },
  {
   "cell_type": "code",
   "execution_count": 16,
   "metadata": {},
   "outputs": [
    {
     "name": "stdout",
     "output_type": "stream",
     "text": [
      "Slovakia\n",
      "4\n"
     ]
    }
   ],
   "source": [
    "my_tup = (\"Romania\", \"Poland\", \"Estonia\", \"Bulgaria\", \"Slovakia\", \"Slovenia\", \"Hungary\")\n",
    "\n",
    "index = my_tup.index(\"Slovakia\")\n",
    "\n",
    "print(my_tup[4])\n",
    "\n",
    "print(index)"
   ]
  },
  {
   "cell_type": "markdown",
   "metadata": {},
   "source": [
    "<p>Given the code below, write code in order to perform tuple assignment on line 3 and obtain the results below.</p>"
   ]
  },
  {
   "cell_type": "code",
   "execution_count": 4,
   "metadata": {},
   "outputs": [
    {
     "name": "stdout",
     "output_type": "stream",
     "text": [
      "Romania, Poland, Estonia\n"
     ]
    }
   ],
   "source": [
    "my_tup = (\"Romania\", \"Poland\", \"Estonia\")\n",
    "ro = \"Romania\"\n",
    "po = \"Poland\"\n",
    "es = \"Estonia\"\n",
    "\n",
    "print(ro + \", \" + po + \", \" + es) #returns 'Romania, Poland, Estonia'"
   ]
  },
  {
   "cell_type": "code",
   "execution_count": 2,
   "metadata": {},
   "outputs": [
    {
     "name": "stdout",
     "output_type": "stream",
     "text": [
      "Slovenia\n",
      "Slovenia\n",
      "Slovenia\n",
      "Slovenia\n",
      "Romania, Poland, Estonia\n"
     ]
    }
   ],
   "source": [
    "# kadir hoca denemeler\n",
    "my_tup = (\"Romania\", \"Poland\", \"Estonia\", \"Bulgaria\", \"Slovakia\", \"Slovenia\", \"Hungary\")\n",
    "# 1. yöntem:\n",
    "print(max(my_tup)) \n",
    "# 2. Yöntem:\n",
    "my_list = list(my_tup)\n",
    "my_list.sort(reverse = True)\n",
    "last = my_list[0]\n",
    "print(last) #should return Slovenia\n",
    "# 3. Yöntem:\n",
    "my_list.sort()\n",
    "last = my_list[-1]\n",
    "print(last) #should return Slovenia\n",
    "# 4. Yöntem:\n",
    "last = sorted(my_tup)\n",
    "print(last[-1])\n",
    "my_tup = (\"Romania\", \"Poland\", \"Estonia\")\n",
    "ro = my_tup[0]\n",
    "po = my_tup[1]\n",
    "es = my_tup[2]\n",
    "# (ro, po, es) = my_tup # Kısa yol.\n",
    "print(ro + \", \" + po + \", \" + es) #returns 'Romania, Poland, Estonia'"
   ]
  },
  {
   "cell_type": "code",
   "execution_count": 13,
   "metadata": {},
   "outputs": [
    {
     "name": "stdout",
     "output_type": "stream",
     "text": [
      "Romania, Poland, Estonia\n"
     ]
    }
   ],
   "source": [
    "my_tup = (\"Romania\", \"Poland\", \"Estonia\")\n",
    "my_tup = (ro, po, es) \n",
    "\n",
    "print(ro + \", \" + po + \", \" + es) #returns 'Romania, Poland, Estonia'"
   ]
  },
  {
   "cell_type": "code",
   "execution_count": 9,
   "metadata": {},
   "outputs": [
    {
     "name": "stdout",
     "output_type": "stream",
     "text": [
      "Romania, Poland, Estonia\n"
     ]
    }
   ],
   "source": [
    "my_tup = (\"Romania\", \"Poland\", \"Estonia\")\n",
    "ro = my_tup[0]\n",
    "po = my_tup[1]\n",
    "es = my_tup[2] \n",
    "# (ro, po, es) = my_tup # Kısa yol. \n",
    "print(ro + \", \" + po + \", \" + es) #returns 'Romania, Poland, Estonia'"
   ]
  },
  {
   "cell_type": "markdown",
   "metadata": {},
   "source": [
    "<p>Given the code below, use the correct method on line 3 in order to find out the last element of <strong>my_tup</strong> in alphabetical order.</p>"
   ]
  },
  {
   "cell_type": "code",
   "execution_count": 18,
   "metadata": {},
   "outputs": [
    {
     "data": {
      "text/plain": [
       "['Romania', 'Poland', 'Estonia', 'Bulgaria', 'Slovakia', 'Slovenia', 'Hungary']"
      ]
     },
     "execution_count": 18,
     "metadata": {},
     "output_type": "execute_result"
    }
   ],
   "source": [
    "my_tup = (\"Romania\", \"Poland\", \"Estonia\", \"Bulgaria\", \"Slovakia\", \"Slovenia\", \"Hungary\")\n",
    "\n",
    "my_list = list(my_tup)\n",
    "\n",
    "my_list"
   ]
  },
  {
   "cell_type": "code",
   "execution_count": 24,
   "metadata": {},
   "outputs": [
    {
     "data": {
      "text/plain": [
       "['Bulgaria', 'Estonia', 'Hungary', 'Poland', 'Romania', 'Slovakia', 'Slovenia']"
      ]
     },
     "execution_count": 24,
     "metadata": {},
     "output_type": "execute_result"
    }
   ],
   "source": [
    "my_list.sort()\n",
    "my_list"
   ]
  },
  {
   "cell_type": "code",
   "execution_count": 25,
   "metadata": {},
   "outputs": [
    {
     "data": {
      "text/plain": [
       "'Slovenia'"
      ]
     },
     "execution_count": 25,
     "metadata": {},
     "output_type": "execute_result"
    }
   ],
   "source": [
    "my_tup = tuple(my_list)\n",
    "my_tup[6]"
   ]
  },
  {
   "cell_type": "code",
   "execution_count": 17,
   "metadata": {},
   "outputs": [
    {
     "data": {
      "text/plain": [
       "'Slovenia'"
      ]
     },
     "execution_count": 17,
     "metadata": {},
     "output_type": "execute_result"
    }
   ],
   "source": [
    "max(my_tup)"
   ]
  },
  {
   "cell_type": "code",
   "execution_count": null,
   "metadata": {},
   "outputs": [],
   "source": [
    "my_tup = (\"Romania\", \"Poland\", \"Estonia\", \"Bulgaria\", \"Slovakia\", \"Slovenia\", \"Hungary\")\n",
    "last = \n",
    "print(last) #should return Slovenia"
   ]
  },
  {
   "cell_type": "markdown",
   "metadata": {},
   "source": [
    "<p>Given the code below, use the correct method on line 3 in order to find out the number of occurrences of <strong>Estonia </strong>in <strong>my_tup</strong>.</p>"
   ]
  },
  {
   "cell_type": "code",
   "execution_count": 26,
   "metadata": {},
   "outputs": [
    {
     "name": "stdout",
     "output_type": "stream",
     "text": [
      "2\n"
     ]
    }
   ],
   "source": [
    "my_tup = (\"Romania\", \"Poland\", \"Estonia\", \"Bulgaria\", \"Slovakia\", \"Slovenia\", \"Estonia\", \"Romania\", \"Hungary\", \"Slovenia\")\n",
    "\n",
    "number = my_tup.count(\"Estonia\")\n",
    "\n",
    "print(number)"
   ]
  },
  {
   "cell_type": "markdown",
   "metadata": {},
   "source": [
    "<p>Given the code below, use the correct slice on line 3 in order to return all the elements of <strong>my_tup</strong>, except the first two of them, using a negative index.</p>"
   ]
  },
  {
   "cell_type": "code",
   "execution_count": 23,
   "metadata": {},
   "outputs": [
    {
     "name": "stdout",
     "output_type": "stream",
     "text": [
      "('Poland', 'Bulgaria', 'Slovenia')\n"
     ]
    }
   ],
   "source": [
    "my_tup = (\"Romania\", \"Poland\", \"Estonia\", \"Bulgaria\", \"Slovakia\", \"Slovenia\", \"Hungary\")\n",
    "          #   0         1         2           3           4           5           6\n",
    "          #   -7       -6         -5         -4          -3           -2         -1\n",
    "my_slice = my_tup[1:6:2]\n",
    "\n",
    "print(my_slice)"
   ]
  },
  {
   "cell_type": "markdown",
   "metadata": {},
   "source": [
    "<p>Given the code below, use the correct slice on line 3 in order to return all the elements of <strong>my_tup</strong>, except the last three of them, using a negative index.</p>"
   ]
  },
  {
   "cell_type": "code",
   "execution_count": 44,
   "metadata": {},
   "outputs": [
    {
     "name": "stdout",
     "output_type": "stream",
     "text": [
      "('Romania', 'Poland', 'Estonia', 'Bulgaria')\n"
     ]
    }
   ],
   "source": [
    "my_tup = (\"Romania\", \"Poland\", \"Estonia\", \"Bulgaria\", \"Slovakia\", \"Slovenia\", \"Hungary\")\n",
    "          #   0         1         2           3           4           5           6\n",
    "          #   -7       -6         -5         -4          -3           -2         -1\n",
    "my_slice = my_tup[-7:-3]\n",
    "\n",
    "\n",
    "print(my_slice)"
   ]
  },
  {
   "cell_type": "markdown",
   "metadata": {},
   "source": [
    "<p>Given the code below, use the correct slice on line 3 in order to return all the elements of <strong>my_tup</strong>, except the first three of them, using a positive index.</p>"
   ]
  },
  {
   "cell_type": "code",
   "execution_count": 29,
   "metadata": {},
   "outputs": [
    {
     "name": "stdout",
     "output_type": "stream",
     "text": [
      "('Bulgaria', 'Slovakia', 'Slovenia', 'Hungary')\n"
     ]
    }
   ],
   "source": [
    "my_tup = (\"Romania\", \"Poland\", \"Estonia\", \"Bulgaria\", \"Slovakia\", \"Slovenia\", \"Hungary\")\n",
    "          #   0         1         2           3           4           5           6\n",
    "          #   -7       -6         -5         -4          -3           -2         -1\n",
    "my_slice = my_tup[3:]\n",
    "\n",
    "print(my_slice)"
   ]
  },
  {
   "cell_type": "markdown",
   "metadata": {},
   "source": [
    "<p>Given the code below, use the correct slice on line 3 in order to return all the elements of <strong>my_tup</strong>, except the last two of them, using a positive index.</p>"
   ]
  },
  {
   "cell_type": "code",
   "execution_count": 30,
   "metadata": {},
   "outputs": [
    {
     "name": "stdout",
     "output_type": "stream",
     "text": [
      "('Romania', 'Poland', 'Estonia', 'Bulgaria', 'Slovakia')\n"
     ]
    }
   ],
   "source": [
    "my_tup = (\"Romania\", \"Poland\", \"Estonia\", \"Bulgaria\", \"Slovakia\", \"Slovenia\", \"Hungary\")\n",
    "          #   0         1         2           3           4           5           6\n",
    "          #   -7       -6         -5         -4          -3           -2         -1\n",
    "my_slice = my_tup[:5]\n",
    "\n",
    "print(my_slice)"
   ]
  }
 ],
 "metadata": {
  "interpreter": {
   "hash": "468f25ad0239460415b7e6b7483d5c8f7213894121f6fb96c4cb6ef93fffe534"
  },
  "kernelspec": {
   "display_name": "Python 3 (ipykernel)",
   "language": "python",
   "name": "python3"
  },
  "language_info": {
   "codemirror_mode": {
    "name": "ipython",
    "version": 3
   },
   "file_extension": ".py",
   "mimetype": "text/x-python",
   "name": "python",
   "nbconvert_exporter": "python",
   "pygments_lexer": "ipython3",
   "version": "3.9.7"
  }
 },
 "nbformat": 4,
 "nbformat_minor": 2
}
